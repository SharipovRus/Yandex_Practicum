{
 "cells": [
  {
   "cell_type": "markdown",
   "id": "a846dee9",
   "metadata": {},
   "source": [
    "# Сборный проект № 1"
   ]
  },
  {
   "cell_type": "markdown",
   "id": "7d8971d8",
   "metadata": {},
   "source": [
    "Вы работаете в интернет-магазине «Стримчик», который продаёт по всему миру компьютерные игры. Из открытых источников доступны исторические данные о продажах игр, оценки пользователей и экспертов, жанры и платформы (например, Xbox или PlayStation). Вам нужно выявить определяющие успешность игры закономерности. Это позволит сделать ставку на потенциально популярный продукт и спланировать рекламные кампании. \n",
    "\n",
    "Перед вами данные до 2016 года. Представим, что сейчас декабрь 2016 г., и вы планируете кампанию на 2017-й. Нужно отработать принцип работы с данными. Неважно, прогнозируете ли вы продажи на 2017 год по данным 2016-го или же 2027-й — по данным 2026 года. \n",
    "\n",
    "В наборе данных попадается аббревиатура ESRB (Entertainment Software Rating Board) — это ассоциация, определяющая возрастной рейтинг компьютерных игр. ESRB оценивает игровой контент и присваивает ему подходящую возрастную категорию, например, «Для взрослых», «Для детей младшего возраста» или «Для подростков». "
   ]
  },
  {
   "cell_type": "markdown",
   "id": "9d26978a",
   "metadata": {},
   "source": [
    "# 1. Изучение данных"
   ]
  },
  {
   "cell_type": "code",
   "execution_count": 1,
   "id": "e7e27738",
   "metadata": {},
   "outputs": [],
   "source": [
    "#импортируем необходимые библиотеки \n",
    "import pandas as pd\n",
    "import numpy as np\n",
    "import matplotlib.pyplot as plt\n",
    "import math\n",
    "from scipy import stats as st\n",
    "import seaborn as sns\n"
   ]
  },
  {
   "cell_type": "code",
   "execution_count": 2,
   "id": "28bc026c",
   "metadata": {},
   "outputs": [
    {
     "data": {
      "text/html": [
       "<div>\n",
       "<style scoped>\n",
       "    .dataframe tbody tr th:only-of-type {\n",
       "        vertical-align: middle;\n",
       "    }\n",
       "\n",
       "    .dataframe tbody tr th {\n",
       "        vertical-align: top;\n",
       "    }\n",
       "\n",
       "    .dataframe thead th {\n",
       "        text-align: right;\n",
       "    }\n",
       "</style>\n",
       "<table border=\"1\" class=\"dataframe\">\n",
       "  <thead>\n",
       "    <tr style=\"text-align: right;\">\n",
       "      <th></th>\n",
       "      <th>Name</th>\n",
       "      <th>Platform</th>\n",
       "      <th>Year_of_Release</th>\n",
       "      <th>Genre</th>\n",
       "      <th>NA_sales</th>\n",
       "      <th>EU_sales</th>\n",
       "      <th>JP_sales</th>\n",
       "      <th>Other_sales</th>\n",
       "      <th>Critic_Score</th>\n",
       "      <th>User_Score</th>\n",
       "      <th>Rating</th>\n",
       "    </tr>\n",
       "  </thead>\n",
       "  <tbody>\n",
       "    <tr>\n",
       "      <td>0</td>\n",
       "      <td>Wii Sports</td>\n",
       "      <td>Wii</td>\n",
       "      <td>2006.0</td>\n",
       "      <td>Sports</td>\n",
       "      <td>41.36</td>\n",
       "      <td>28.96</td>\n",
       "      <td>3.77</td>\n",
       "      <td>8.45</td>\n",
       "      <td>76.0</td>\n",
       "      <td>8</td>\n",
       "      <td>E</td>\n",
       "    </tr>\n",
       "    <tr>\n",
       "      <td>1</td>\n",
       "      <td>Super Mario Bros.</td>\n",
       "      <td>NES</td>\n",
       "      <td>1985.0</td>\n",
       "      <td>Platform</td>\n",
       "      <td>29.08</td>\n",
       "      <td>3.58</td>\n",
       "      <td>6.81</td>\n",
       "      <td>0.77</td>\n",
       "      <td>NaN</td>\n",
       "      <td>NaN</td>\n",
       "      <td>NaN</td>\n",
       "    </tr>\n",
       "    <tr>\n",
       "      <td>2</td>\n",
       "      <td>Mario Kart Wii</td>\n",
       "      <td>Wii</td>\n",
       "      <td>2008.0</td>\n",
       "      <td>Racing</td>\n",
       "      <td>15.68</td>\n",
       "      <td>12.76</td>\n",
       "      <td>3.79</td>\n",
       "      <td>3.29</td>\n",
       "      <td>82.0</td>\n",
       "      <td>8.3</td>\n",
       "      <td>E</td>\n",
       "    </tr>\n",
       "    <tr>\n",
       "      <td>3</td>\n",
       "      <td>Wii Sports Resort</td>\n",
       "      <td>Wii</td>\n",
       "      <td>2009.0</td>\n",
       "      <td>Sports</td>\n",
       "      <td>15.61</td>\n",
       "      <td>10.93</td>\n",
       "      <td>3.28</td>\n",
       "      <td>2.95</td>\n",
       "      <td>80.0</td>\n",
       "      <td>8</td>\n",
       "      <td>E</td>\n",
       "    </tr>\n",
       "    <tr>\n",
       "      <td>4</td>\n",
       "      <td>Pokemon Red/Pokemon Blue</td>\n",
       "      <td>GB</td>\n",
       "      <td>1996.0</td>\n",
       "      <td>Role-Playing</td>\n",
       "      <td>11.27</td>\n",
       "      <td>8.89</td>\n",
       "      <td>10.22</td>\n",
       "      <td>1.00</td>\n",
       "      <td>NaN</td>\n",
       "      <td>NaN</td>\n",
       "      <td>NaN</td>\n",
       "    </tr>\n",
       "    <tr>\n",
       "      <td>5</td>\n",
       "      <td>Tetris</td>\n",
       "      <td>GB</td>\n",
       "      <td>1989.0</td>\n",
       "      <td>Puzzle</td>\n",
       "      <td>23.20</td>\n",
       "      <td>2.26</td>\n",
       "      <td>4.22</td>\n",
       "      <td>0.58</td>\n",
       "      <td>NaN</td>\n",
       "      <td>NaN</td>\n",
       "      <td>NaN</td>\n",
       "    </tr>\n",
       "    <tr>\n",
       "      <td>6</td>\n",
       "      <td>New Super Mario Bros.</td>\n",
       "      <td>DS</td>\n",
       "      <td>2006.0</td>\n",
       "      <td>Platform</td>\n",
       "      <td>11.28</td>\n",
       "      <td>9.14</td>\n",
       "      <td>6.50</td>\n",
       "      <td>2.88</td>\n",
       "      <td>89.0</td>\n",
       "      <td>8.5</td>\n",
       "      <td>E</td>\n",
       "    </tr>\n",
       "    <tr>\n",
       "      <td>7</td>\n",
       "      <td>Wii Play</td>\n",
       "      <td>Wii</td>\n",
       "      <td>2006.0</td>\n",
       "      <td>Misc</td>\n",
       "      <td>13.96</td>\n",
       "      <td>9.18</td>\n",
       "      <td>2.93</td>\n",
       "      <td>2.84</td>\n",
       "      <td>58.0</td>\n",
       "      <td>6.6</td>\n",
       "      <td>E</td>\n",
       "    </tr>\n",
       "    <tr>\n",
       "      <td>8</td>\n",
       "      <td>New Super Mario Bros. Wii</td>\n",
       "      <td>Wii</td>\n",
       "      <td>2009.0</td>\n",
       "      <td>Platform</td>\n",
       "      <td>14.44</td>\n",
       "      <td>6.94</td>\n",
       "      <td>4.70</td>\n",
       "      <td>2.24</td>\n",
       "      <td>87.0</td>\n",
       "      <td>8.4</td>\n",
       "      <td>E</td>\n",
       "    </tr>\n",
       "    <tr>\n",
       "      <td>9</td>\n",
       "      <td>Duck Hunt</td>\n",
       "      <td>NES</td>\n",
       "      <td>1984.0</td>\n",
       "      <td>Shooter</td>\n",
       "      <td>26.93</td>\n",
       "      <td>0.63</td>\n",
       "      <td>0.28</td>\n",
       "      <td>0.47</td>\n",
       "      <td>NaN</td>\n",
       "      <td>NaN</td>\n",
       "      <td>NaN</td>\n",
       "    </tr>\n",
       "  </tbody>\n",
       "</table>\n",
       "</div>"
      ],
      "text/plain": [
       "                        Name Platform  Year_of_Release         Genre  \\\n",
       "0                 Wii Sports      Wii           2006.0        Sports   \n",
       "1          Super Mario Bros.      NES           1985.0      Platform   \n",
       "2             Mario Kart Wii      Wii           2008.0        Racing   \n",
       "3          Wii Sports Resort      Wii           2009.0        Sports   \n",
       "4   Pokemon Red/Pokemon Blue       GB           1996.0  Role-Playing   \n",
       "5                     Tetris       GB           1989.0        Puzzle   \n",
       "6      New Super Mario Bros.       DS           2006.0      Platform   \n",
       "7                   Wii Play      Wii           2006.0          Misc   \n",
       "8  New Super Mario Bros. Wii      Wii           2009.0      Platform   \n",
       "9                  Duck Hunt      NES           1984.0       Shooter   \n",
       "\n",
       "   NA_sales  EU_sales  JP_sales  Other_sales  Critic_Score User_Score Rating  \n",
       "0     41.36     28.96      3.77         8.45          76.0          8      E  \n",
       "1     29.08      3.58      6.81         0.77           NaN        NaN    NaN  \n",
       "2     15.68     12.76      3.79         3.29          82.0        8.3      E  \n",
       "3     15.61     10.93      3.28         2.95          80.0          8      E  \n",
       "4     11.27      8.89     10.22         1.00           NaN        NaN    NaN  \n",
       "5     23.20      2.26      4.22         0.58           NaN        NaN    NaN  \n",
       "6     11.28      9.14      6.50         2.88          89.0        8.5      E  \n",
       "7     13.96      9.18      2.93         2.84          58.0        6.6      E  \n",
       "8     14.44      6.94      4.70         2.24          87.0        8.4      E  \n",
       "9     26.93      0.63      0.28         0.47           NaN        NaN    NaN  "
      ]
     },
     "execution_count": 2,
     "metadata": {},
     "output_type": "execute_result"
    }
   ],
   "source": [
    "#посмотрим на данные\n",
    "try:\n",
    "    data = pd.read_csv('C:/Users/79811/Downloads/games.csv', sep=',')\n",
    "except:\n",
    "    data = pd.read_csv('/datasets/games.csv')\n",
    "data.head(10)"
   ]
  },
  {
   "cell_type": "code",
   "execution_count": 3,
   "id": "02d8185d",
   "metadata": {},
   "outputs": [
    {
     "name": "stdout",
     "output_type": "stream",
     "text": [
      "<class 'pandas.core.frame.DataFrame'>\n",
      "RangeIndex: 16715 entries, 0 to 16714\n",
      "Data columns (total 11 columns):\n",
      "Name               16713 non-null object\n",
      "Platform           16715 non-null object\n",
      "Year_of_Release    16446 non-null float64\n",
      "Genre              16713 non-null object\n",
      "NA_sales           16715 non-null float64\n",
      "EU_sales           16715 non-null float64\n",
      "JP_sales           16715 non-null float64\n",
      "Other_sales        16715 non-null float64\n",
      "Critic_Score       8137 non-null float64\n",
      "User_Score         10014 non-null object\n",
      "Rating             9949 non-null object\n",
      "dtypes: float64(6), object(5)\n",
      "memory usage: 1.4+ MB\n"
     ]
    }
   ],
   "source": [
    "data.info()"
   ]
  },
  {
   "cell_type": "markdown",
   "id": "bf9bff1d",
   "metadata": {},
   "source": [
    "**ВЫВОД**"
   ]
  },
  {
   "cell_type": "markdown",
   "id": "6e22a645",
   "metadata": {},
   "source": [
    "Опишем, что мы видем: \n",
    "\n",
    "- Name — название игры\n",
    "- Platform — платформа\n",
    "- Year_of_Release — год выпуска\n",
    "- Genre — жанр игры\n",
    "- NA_sales — продажи в Северной Америке \n",
    "- EU_sales — продажи в Европе \n",
    "- JP_sales — продажи в Японии \n",
    "- Other_sales — продажи в других странах \n",
    "- Critic_Score — оценка критиков (максимум 100)\n",
    "- User_Score — оценка пользователей (максимум 10)\n",
    "- Rating — рейтинг от организации ESRB (англ. Entertainment Software Rating Board). Эта ассоциация определяет рейтинг компьютерных игр и присваивает им подходящую возрастную категорию.\n",
    "Данные за 2016 год могут быть неполными исходя из предоставленных данных\n",
    "\n",
    "**Что необходимо изменить**:\n",
    "- изменить тип данных\n",
    "- привести всё к змеиному регистру\n",
    "- избавиться от пропусков\n",
    "\n",
    "**Выводы по данным**:\n",
    "- Имеющиеся пропуски возможнос связаны с большим периодом сбора данных о продажах игр ли же их просто не заполняли\n",
    "- Необходимо посчитать и добавить суммарные продажи во всех регионах \n",
    "\n"
   ]
  },
  {
   "cell_type": "markdown",
   "id": "fd38a229",
   "metadata": {},
   "source": [
    "# 2. Подготовка данных"
   ]
  },
  {
   "cell_type": "code",
   "execution_count": 4,
   "id": "daf919d8",
   "metadata": {},
   "outputs": [
    {
     "name": "stdout",
     "output_type": "stream",
     "text": [
      "<class 'pandas.core.frame.DataFrame'>\n",
      "RangeIndex: 16715 entries, 0 to 16714\n",
      "Data columns (total 11 columns):\n",
      "Name               16713 non-null object\n",
      "Platform           16715 non-null object\n",
      "Year_of_Release    16446 non-null float64\n",
      "Genre              16713 non-null object\n",
      "NA_sales           16715 non-null float64\n",
      "EU_sales           16715 non-null float64\n",
      "JP_sales           16715 non-null float64\n",
      "Other_sales        16715 non-null float64\n",
      "Critic_Score       8137 non-null float64\n",
      "User_Score         10014 non-null object\n",
      "Rating             9949 non-null object\n",
      "dtypes: float64(6), object(5)\n",
      "memory usage: 1.4+ MB\n"
     ]
    }
   ],
   "source": [
    "data.info() #ещё раз выведем информацию на экран"
   ]
  },
  {
   "cell_type": "code",
   "execution_count": 5,
   "id": "c54ac39c",
   "metadata": {},
   "outputs": [
    {
     "data": {
      "text/plain": [
       "Index(['name', 'platform', 'year_of_release', 'genre', 'na_sales', 'eu_sales',\n",
       "       'jp_sales', 'other_sales', 'critic_score', 'user_score', 'rating'],\n",
       "      dtype='object')"
      ]
     },
     "execution_count": 5,
     "metadata": {},
     "output_type": "execute_result"
    }
   ],
   "source": [
    "#приведем все колонки к змеиному регистру\n",
    "#data.columns\n",
    "data.columns = data.columns.str.lower()\n",
    "data.columns"
   ]
  },
  {
   "cell_type": "code",
   "execution_count": 6,
   "id": "72b4a8aa",
   "metadata": {},
   "outputs": [],
   "source": [
    "#data['user_score'] = data['user_score'].astype('float64') - тут я хотел перевети значения в float, но не получилось\n",
    "#предлагаюю заменить занчения tbd  на NaN и после переводить в float64\n",
    "data['user_score'] = data['user_score'].replace('tbd', np.nan)\n",
    "data['user_score'] = data['user_score'].astype('float64')"
   ]
  },
  {
   "cell_type": "code",
   "execution_count": 7,
   "id": "ca4b183c",
   "metadata": {
    "scrolled": false
   },
   "outputs": [
    {
     "name": "stdout",
     "output_type": "stream",
     "text": [
      "<class 'pandas.core.frame.DataFrame'>\n",
      "RangeIndex: 16715 entries, 0 to 16714\n",
      "Data columns (total 11 columns):\n",
      "name               16713 non-null object\n",
      "platform           16715 non-null object\n",
      "year_of_release    16446 non-null float64\n",
      "genre              16713 non-null object\n",
      "na_sales           16715 non-null float64\n",
      "eu_sales           16715 non-null float64\n",
      "jp_sales           16715 non-null float64\n",
      "other_sales        16715 non-null float64\n",
      "critic_score       8137 non-null float64\n",
      "user_score         7590 non-null float64\n",
      "rating             9949 non-null object\n",
      "dtypes: float64(7), object(4)\n",
      "memory usage: 1.4+ MB\n"
     ]
    }
   ],
   "source": [
    "data.info()"
   ]
  },
  {
   "cell_type": "markdown",
   "id": "c2e1e5b5",
   "metadata": {},
   "source": [
    "Столбец с рейтигами предлагаю сразу категоризировать по формату американских рейтингов на количественные категории, которые можно будет в последствии сравнить. Пропуски заменим на информацию - no_info и переведем в формат float"
   ]
  },
  {
   "cell_type": "code",
   "execution_count": 8,
   "id": "4c99bfc2",
   "metadata": {},
   "outputs": [
    {
     "data": {
      "text/html": [
       "<div>\n",
       "<style scoped>\n",
       "    .dataframe tbody tr th:only-of-type {\n",
       "        vertical-align: middle;\n",
       "    }\n",
       "\n",
       "    .dataframe tbody tr th {\n",
       "        vertical-align: top;\n",
       "    }\n",
       "\n",
       "    .dataframe thead tr th {\n",
       "        text-align: left;\n",
       "    }\n",
       "\n",
       "    .dataframe thead tr:last-of-type th {\n",
       "        text-align: right;\n",
       "    }\n",
       "</style>\n",
       "<table border=\"1\" class=\"dataframe\">\n",
       "  <thead>\n",
       "    <tr>\n",
       "      <th></th>\n",
       "      <th>na_sales</th>\n",
       "    </tr>\n",
       "    <tr>\n",
       "      <th></th>\n",
       "      <th>sum</th>\n",
       "    </tr>\n",
       "    <tr>\n",
       "      <th>rating</th>\n",
       "      <th></th>\n",
       "    </tr>\n",
       "  </thead>\n",
       "  <tbody>\n",
       "    <tr>\n",
       "      <td>E</td>\n",
       "      <td>1292.99</td>\n",
       "    </tr>\n",
       "    <tr>\n",
       "      <td>T</td>\n",
       "      <td>759.75</td>\n",
       "    </tr>\n",
       "    <tr>\n",
       "      <td>M</td>\n",
       "      <td>748.48</td>\n",
       "    </tr>\n",
       "    <tr>\n",
       "      <td>E10+</td>\n",
       "      <td>353.32</td>\n",
       "    </tr>\n",
       "    <tr>\n",
       "      <td>K-A</td>\n",
       "      <td>2.56</td>\n",
       "    </tr>\n",
       "    <tr>\n",
       "      <td>EC</td>\n",
       "      <td>1.53</td>\n",
       "    </tr>\n",
       "    <tr>\n",
       "      <td>AO</td>\n",
       "      <td>1.26</td>\n",
       "    </tr>\n",
       "    <tr>\n",
       "      <td>RP</td>\n",
       "      <td>0.00</td>\n",
       "    </tr>\n",
       "  </tbody>\n",
       "</table>\n",
       "</div>"
      ],
      "text/plain": [
       "       na_sales\n",
       "            sum\n",
       "rating         \n",
       "E       1292.99\n",
       "T        759.75\n",
       "M        748.48\n",
       "E10+     353.32\n",
       "K-A        2.56\n",
       "EC         1.53\n",
       "AO         1.26\n",
       "RP         0.00"
      ]
     },
     "execution_count": 8,
     "metadata": {},
     "output_type": "execute_result"
    }
   ],
   "source": [
    "data_rating = (data #смотримна суммы рейтингв \n",
    "    .groupby('rating')\n",
    "    .agg({'na_sales':['sum']})\n",
    "    .sort_values(by=('na_sales', 'sum'), ascending=False)\n",
    ")\n",
    "data_rating"
   ]
  },
  {
   "cell_type": "code",
   "execution_count": 9,
   "id": "b99ed332",
   "metadata": {},
   "outputs": [],
   "source": [
    "data['rating'] = data['rating'].replace('M', 15)\n",
    "data['rating'] = data['rating'].replace('E', 6)\n",
    "data['rating'] = data['rating'].replace('T', 13)\n",
    "data['rating'] = data['rating'].replace('E10+', 10)\n",
    "data['rating'] = data['rating'].replace('K-A', 10)\n",
    "data['rating'] = data['rating'].replace('EC', 3)\n",
    "data['rating'] = data['rating'].replace('AO', 3)\n",
    "data['rating'] = data['rating'].replace('RP', np.nan)"
   ]
  },
  {
   "cell_type": "markdown",
   "id": "ec1415be",
   "metadata": {},
   "source": [
    "- EC - 3+\n",
    "- E - 6+ (everyone)\n",
    "- E10+ - 10+\n",
    "- K-A - 10+\n",
    "- T - 13+\n",
    "- M - 15+\n",
    "- AO - 18+\n",
    "- RP - pending"
   ]
  },
  {
   "cell_type": "code",
   "execution_count": 10,
   "id": "27b64702",
   "metadata": {},
   "outputs": [
    {
     "data": {
      "text/plain": [
       "6.0     3990\n",
       "13.0    2961\n",
       "15.0    1563\n",
       "10.0    1423\n",
       "3.0        9\n",
       "Name: rating, dtype: int64"
      ]
     },
     "execution_count": 10,
     "metadata": {},
     "output_type": "execute_result"
    }
   ],
   "source": [
    "data['rating'].value_counts() #проверяем замену "
   ]
  },
  {
   "cell_type": "code",
   "execution_count": 11,
   "id": "e6f3cf57",
   "metadata": {},
   "outputs": [],
   "source": [
    "data['rating'] = data['rating'].fillna('no_info') #заменяем пропущенные значения"
   ]
  },
  {
   "cell_type": "code",
   "execution_count": 12,
   "id": "ef5bb4f3",
   "metadata": {},
   "outputs": [
    {
     "data": {
      "text/plain": [
       "0          6\n",
       "1    no_info\n",
       "2          6\n",
       "3          6\n",
       "4    no_info\n",
       "5    no_info\n",
       "6          6\n",
       "7          6\n",
       "8          6\n",
       "9    no_info\n",
       "Name: rating, dtype: object"
      ]
     },
     "execution_count": 12,
     "metadata": {},
     "output_type": "execute_result"
    }
   ],
   "source": [
    "data['rating'].head(10) #проверяем"
   ]
  },
  {
   "cell_type": "markdown",
   "id": "315d7a1e",
   "metadata": {},
   "source": [
    "**Посчитаем и добавим суммарные продажи во всех регионах** "
   ]
  },
  {
   "cell_type": "code",
   "execution_count": 13,
   "id": "754af23a",
   "metadata": {},
   "outputs": [],
   "source": [
    "data['total_sales'] = data['na_sales'] + data['eu_sales'] + data['jp_sales'] + data['other_sales']"
   ]
  },
  {
   "cell_type": "code",
   "execution_count": 14,
   "id": "4f3f3b02",
   "metadata": {},
   "outputs": [
    {
     "data": {
      "text/plain": [
       "0    82.54\n",
       "1    40.24\n",
       "2    35.52\n",
       "3    32.77\n",
       "4    31.38\n",
       "Name: total_sales, dtype: float64"
      ]
     },
     "execution_count": 14,
     "metadata": {},
     "output_type": "execute_result"
    }
   ],
   "source": [
    "data['total_sales'].head()"
   ]
  },
  {
   "cell_type": "code",
   "execution_count": 15,
   "id": "93dd57b0",
   "metadata": {},
   "outputs": [
    {
     "data": {
      "text/html": [
       "<div>\n",
       "<style scoped>\n",
       "    .dataframe tbody tr th:only-of-type {\n",
       "        vertical-align: middle;\n",
       "    }\n",
       "\n",
       "    .dataframe tbody tr th {\n",
       "        vertical-align: top;\n",
       "    }\n",
       "\n",
       "    .dataframe thead th {\n",
       "        text-align: right;\n",
       "    }\n",
       "</style>\n",
       "<table border=\"1\" class=\"dataframe\">\n",
       "  <thead>\n",
       "    <tr style=\"text-align: right;\">\n",
       "      <th></th>\n",
       "      <th>name</th>\n",
       "      <th>platform</th>\n",
       "      <th>year_of_release</th>\n",
       "      <th>genre</th>\n",
       "      <th>na_sales</th>\n",
       "      <th>eu_sales</th>\n",
       "      <th>jp_sales</th>\n",
       "      <th>other_sales</th>\n",
       "      <th>critic_score</th>\n",
       "      <th>user_score</th>\n",
       "      <th>rating</th>\n",
       "      <th>total_sales</th>\n",
       "    </tr>\n",
       "  </thead>\n",
       "  <tbody>\n",
       "    <tr>\n",
       "      <td>0</td>\n",
       "      <td>Wii Sports</td>\n",
       "      <td>Wii</td>\n",
       "      <td>2006.0</td>\n",
       "      <td>Sports</td>\n",
       "      <td>41.36</td>\n",
       "      <td>28.96</td>\n",
       "      <td>3.77</td>\n",
       "      <td>8.45</td>\n",
       "      <td>76.0</td>\n",
       "      <td>8.0</td>\n",
       "      <td>6</td>\n",
       "      <td>82.54</td>\n",
       "    </tr>\n",
       "    <tr>\n",
       "      <td>1</td>\n",
       "      <td>Super Mario Bros.</td>\n",
       "      <td>NES</td>\n",
       "      <td>1985.0</td>\n",
       "      <td>Platform</td>\n",
       "      <td>29.08</td>\n",
       "      <td>3.58</td>\n",
       "      <td>6.81</td>\n",
       "      <td>0.77</td>\n",
       "      <td>NaN</td>\n",
       "      <td>NaN</td>\n",
       "      <td>no_info</td>\n",
       "      <td>40.24</td>\n",
       "    </tr>\n",
       "    <tr>\n",
       "      <td>2</td>\n",
       "      <td>Mario Kart Wii</td>\n",
       "      <td>Wii</td>\n",
       "      <td>2008.0</td>\n",
       "      <td>Racing</td>\n",
       "      <td>15.68</td>\n",
       "      <td>12.76</td>\n",
       "      <td>3.79</td>\n",
       "      <td>3.29</td>\n",
       "      <td>82.0</td>\n",
       "      <td>8.3</td>\n",
       "      <td>6</td>\n",
       "      <td>35.52</td>\n",
       "    </tr>\n",
       "    <tr>\n",
       "      <td>3</td>\n",
       "      <td>Wii Sports Resort</td>\n",
       "      <td>Wii</td>\n",
       "      <td>2009.0</td>\n",
       "      <td>Sports</td>\n",
       "      <td>15.61</td>\n",
       "      <td>10.93</td>\n",
       "      <td>3.28</td>\n",
       "      <td>2.95</td>\n",
       "      <td>80.0</td>\n",
       "      <td>8.0</td>\n",
       "      <td>6</td>\n",
       "      <td>32.77</td>\n",
       "    </tr>\n",
       "    <tr>\n",
       "      <td>4</td>\n",
       "      <td>Pokemon Red/Pokemon Blue</td>\n",
       "      <td>GB</td>\n",
       "      <td>1996.0</td>\n",
       "      <td>Role-Playing</td>\n",
       "      <td>11.27</td>\n",
       "      <td>8.89</td>\n",
       "      <td>10.22</td>\n",
       "      <td>1.00</td>\n",
       "      <td>NaN</td>\n",
       "      <td>NaN</td>\n",
       "      <td>no_info</td>\n",
       "      <td>31.38</td>\n",
       "    </tr>\n",
       "  </tbody>\n",
       "</table>\n",
       "</div>"
      ],
      "text/plain": [
       "                       name platform  year_of_release         genre  na_sales  \\\n",
       "0                Wii Sports      Wii           2006.0        Sports     41.36   \n",
       "1         Super Mario Bros.      NES           1985.0      Platform     29.08   \n",
       "2            Mario Kart Wii      Wii           2008.0        Racing     15.68   \n",
       "3         Wii Sports Resort      Wii           2009.0        Sports     15.61   \n",
       "4  Pokemon Red/Pokemon Blue       GB           1996.0  Role-Playing     11.27   \n",
       "\n",
       "   eu_sales  jp_sales  other_sales  critic_score  user_score   rating  \\\n",
       "0     28.96      3.77         8.45          76.0         8.0        6   \n",
       "1      3.58      6.81         0.77           NaN         NaN  no_info   \n",
       "2     12.76      3.79         3.29          82.0         8.3        6   \n",
       "3     10.93      3.28         2.95          80.0         8.0        6   \n",
       "4      8.89     10.22         1.00           NaN         NaN  no_info   \n",
       "\n",
       "   total_sales  \n",
       "0        82.54  \n",
       "1        40.24  \n",
       "2        35.52  \n",
       "3        32.77  \n",
       "4        31.38  "
      ]
     },
     "execution_count": 15,
     "metadata": {},
     "output_type": "execute_result"
    }
   ],
   "source": [
    "data.head() # проверяем добавление"
   ]
  },
  {
   "cell_type": "code",
   "execution_count": 16,
   "id": "fffff0a2",
   "metadata": {},
   "outputs": [
    {
     "name": "stdout",
     "output_type": "stream",
     "text": [
      "<class 'pandas.core.frame.DataFrame'>\n",
      "RangeIndex: 16715 entries, 0 to 16714\n",
      "Data columns (total 12 columns):\n",
      "name               16713 non-null object\n",
      "platform           16715 non-null object\n",
      "year_of_release    16446 non-null float64\n",
      "genre              16713 non-null object\n",
      "na_sales           16715 non-null float64\n",
      "eu_sales           16715 non-null float64\n",
      "jp_sales           16715 non-null float64\n",
      "other_sales        16715 non-null float64\n",
      "critic_score       8137 non-null float64\n",
      "user_score         7590 non-null float64\n",
      "rating             16715 non-null object\n",
      "total_sales        16715 non-null float64\n",
      "dtypes: float64(8), object(4)\n",
      "memory usage: 1.5+ MB\n"
     ]
    }
   ],
   "source": [
    "data.info()"
   ]
  },
  {
   "cell_type": "markdown",
   "id": "a08cf5ad",
   "metadata": {},
   "source": [
    "**Вывод**\n",
    "\n",
    "Наличие пропусков в данных можно объяснить не ошибкой, а отутствием данных, так что заменить на медианные значения будет не логично. Рейтинг на формат int не стал менять, т.к. можем получить десятичное число и окргулять будет не логично."
   ]
  },
  {
   "cell_type": "markdown",
   "id": "0fd5c3b1",
   "metadata": {},
   "source": [
    "# 3. Анализ данных"
   ]
  },
  {
   "cell_type": "markdown",
   "id": "83361a90",
   "metadata": {},
   "source": [
    "- Посмотрим, сколько игр выпускалось в разные годы. Будут ли важны данные за все периоды? \n",
    "\n",
    "\n",
    "- Посмотрим, как менялись продажи по платформам. Выберем платформы с наибольшими суммарными продажами и построим распределение по годам. Оценим за какой характерный срок появляются новые и исчезают старые платформы.\n",
    "\n",
    "\n",
    "- Возьмём данные за соответствующий актуальный период. Актуальный период определим самостоятельно из результатов исследования предыдущих вопросов. Основноым фактором будет — эти данные помогут построить прогноз на 2017 год. \n",
    "\n",
    "\n",
    "- Не будем учитывать в работе данные за предыдущие годы. \n",
    "\n",
    "\n",
    "- Посмотрим какие платформы лидируют по продажам, растут или падают. Выберем несколько потенциально прибыльных платформ. \n",
    "\n",
    "\n",
    "- Построим график «ящика с усами» по глобальным продажам игр в разбивке по платформам. Опишем результат. \n",
    "\n",
    "\n",
    "- Посмотрим, как влияют на продажи внутри одной популярной платформы отзывы пользователей и критиков. Построим диаграмму рассеяния и посчитаем корреляцию между отзывами и продажами. Сформулируем выводы. \n",
    "\n",
    "\n",
    "- Соотнесём выводы с продажами игр на других платформах. \n",
    "\n",
    "\n",
    "- Посмотрим на общее распределение игр по жанрам:\n",
    "1. Что можно будет сказать о самых прибыльных жанрах\n",
    "2. Выделяются ли жанры с высокими и низкими продажами"
   ]
  },
  {
   "cell_type": "markdown",
   "id": "978861ae",
   "metadata": {},
   "source": [
    "Для начала посмотрим сколько игр выпускалось в разные годы"
   ]
  },
  {
   "cell_type": "code",
   "execution_count": 17,
   "id": "c3cc346e",
   "metadata": {},
   "outputs": [
    {
     "data": {
      "text/plain": [
       "<matplotlib.axes._subplots.AxesSubplot at 0x7fd713713050>"
      ]
     },
     "execution_count": 17,
     "metadata": {},
     "output_type": "execute_result"
    },
    {
     "data": {
      "image/png": "[encoded data removed]",
      "text/plain": [
       "<Figure size 720x720 with 1 Axes>"
      ]
     },
     "metadata": {
      "needs_background": "light"
     },
     "output_type": "display_data"
    }
   ],
   "source": [
    "(data\n",
    "    .groupby('year_of_release')\n",
    "    .agg({'total_sales':['sum']})\n",
    "    .plot(legend=True, style='o-', grid=True, figsize=(10, 10),title='Распределение по годам')\n",
    ")"
   ]
  },
  {
   "cell_type": "markdown",
   "id": "4f800005",
   "metadata": {},
   "source": [
    "Исходя из построенного графика видим:\n",
    "- Рост продаж начиная с 1996 года (думаю связан с технологическим прогрессом\n",
    "- Падение продаж начиная с 2008 года (думаю связано с экономическим кризисом того времени)\n",
    "- Основной период приходится с 2000 до 2015 года (зачеркнуто)\n",
    "\n",
    "Будем рассматривать период с 2009 по 2015 года, считая их самыми актуальными\n",
    "\n",
    "- Актуальными данными возьмем с 2013 по 2016 год"
   ]
  },
  {
   "cell_type": "markdown",
   "id": "6f1b4374",
   "metadata": {},
   "source": [
    " Посмотрим, как менялись продажи по платформам. Выберем платформы с наибольшими суммарными продажами и построим распределение по годам. Оценим за какой характерный срок появляются новые и исчезают старые платформы."
   ]
  },
  {
   "cell_type": "code",
   "execution_count": 18,
   "id": "ad862856",
   "metadata": {
    "scrolled": true
   },
   "outputs": [
    {
     "data": {
      "text/html": [
       "<div>\n",
       "<style scoped>\n",
       "    .dataframe tbody tr th:only-of-type {\n",
       "        vertical-align: middle;\n",
       "    }\n",
       "\n",
       "    .dataframe tbody tr th {\n",
       "        vertical-align: top;\n",
       "    }\n",
       "\n",
       "    .dataframe thead tr th {\n",
       "        text-align: left;\n",
       "    }\n",
       "\n",
       "    .dataframe thead tr:last-of-type th {\n",
       "        text-align: right;\n",
       "    }\n",
       "</style>\n",
       "<table border=\"1\" class=\"dataframe\">\n",
       "  <thead>\n",
       "    <tr>\n",
       "      <th></th>\n",
       "      <th>total_sales</th>\n",
       "    </tr>\n",
       "    <tr>\n",
       "      <th></th>\n",
       "      <th>sum</th>\n",
       "    </tr>\n",
       "    <tr>\n",
       "      <th>platform</th>\n",
       "      <th></th>\n",
       "    </tr>\n",
       "  </thead>\n",
       "  <tbody>\n",
       "    <tr>\n",
       "      <td>PS4</td>\n",
       "      <td>314.14</td>\n",
       "    </tr>\n",
       "    <tr>\n",
       "      <td>PS3</td>\n",
       "      <td>181.43</td>\n",
       "    </tr>\n",
       "    <tr>\n",
       "      <td>XOne</td>\n",
       "      <td>159.32</td>\n",
       "    </tr>\n",
       "    <tr>\n",
       "      <td>3DS</td>\n",
       "      <td>143.25</td>\n",
       "    </tr>\n",
       "    <tr>\n",
       "      <td>X360</td>\n",
       "      <td>136.80</td>\n",
       "    </tr>\n",
       "    <tr>\n",
       "      <td>WiiU</td>\n",
       "      <td>64.63</td>\n",
       "    </tr>\n",
       "    <tr>\n",
       "      <td>PC</td>\n",
       "      <td>39.43</td>\n",
       "    </tr>\n",
       "    <tr>\n",
       "      <td>PSV</td>\n",
       "      <td>32.99</td>\n",
       "    </tr>\n",
       "    <tr>\n",
       "      <td>Wii</td>\n",
       "      <td>13.66</td>\n",
       "    </tr>\n",
       "    <tr>\n",
       "      <td>PSP</td>\n",
       "      <td>3.50</td>\n",
       "    </tr>\n",
       "  </tbody>\n",
       "</table>\n",
       "</div>"
      ],
      "text/plain": [
       "         total_sales\n",
       "                 sum\n",
       "platform            \n",
       "PS4           314.14\n",
       "PS3           181.43\n",
       "XOne          159.32\n",
       "3DS           143.25\n",
       "X360          136.80\n",
       "WiiU           64.63\n",
       "PC             39.43\n",
       "PSV            32.99\n",
       "Wii            13.66\n",
       "PSP             3.50"
      ]
     },
     "execution_count": 18,
     "metadata": {},
     "output_type": "execute_result"
    }
   ],
   "source": [
    "#создаем сводную таблицу\n",
    "top_platforms = (data\n",
    "    .query('2013 <= year_of_release <= 2016')\n",
    "    .groupby('platform')\n",
    "    .agg({'total_sales':['sum']})\n",
    "    .sort_values(by=('total_sales', 'sum'), ascending=False)\n",
    "    .head(10)\n",
    ")\n",
    "top_platforms"
   ]
  },
  {
   "cell_type": "code",
   "execution_count": 19,
   "id": "7b913f63",
   "metadata": {},
   "outputs": [
    {
     "data": {
      "text/html": [
       "<div>\n",
       "<style scoped>\n",
       "    .dataframe tbody tr th:only-of-type {\n",
       "        vertical-align: middle;\n",
       "    }\n",
       "\n",
       "    .dataframe tbody tr th {\n",
       "        vertical-align: top;\n",
       "    }\n",
       "\n",
       "    .dataframe thead tr th {\n",
       "        text-align: left;\n",
       "    }\n",
       "\n",
       "    .dataframe thead tr:last-of-type th {\n",
       "        text-align: right;\n",
       "    }\n",
       "</style>\n",
       "<table border=\"1\" class=\"dataframe\">\n",
       "  <thead>\n",
       "    <tr>\n",
       "      <th></th>\n",
       "      <th></th>\n",
       "      <th>total_sales</th>\n",
       "    </tr>\n",
       "    <tr>\n",
       "      <th></th>\n",
       "      <th></th>\n",
       "      <th>sum</th>\n",
       "    </tr>\n",
       "    <tr>\n",
       "      <th>platform</th>\n",
       "      <th>year_of_release</th>\n",
       "      <th></th>\n",
       "    </tr>\n",
       "  </thead>\n",
       "  <tbody>\n",
       "    <tr>\n",
       "      <td rowspan=\"4\" valign=\"top\">3DS</td>\n",
       "      <td>2013.0</td>\n",
       "      <td>56.57</td>\n",
       "    </tr>\n",
       "    <tr>\n",
       "      <td>2014.0</td>\n",
       "      <td>43.76</td>\n",
       "    </tr>\n",
       "    <tr>\n",
       "      <td>2015.0</td>\n",
       "      <td>27.78</td>\n",
       "    </tr>\n",
       "    <tr>\n",
       "      <td>2016.0</td>\n",
       "      <td>15.14</td>\n",
       "    </tr>\n",
       "    <tr>\n",
       "      <td rowspan=\"4\" valign=\"top\">PC</td>\n",
       "      <td>2013.0</td>\n",
       "      <td>12.38</td>\n",
       "    </tr>\n",
       "    <tr>\n",
       "      <td>2014.0</td>\n",
       "      <td>13.28</td>\n",
       "    </tr>\n",
       "    <tr>\n",
       "      <td>2015.0</td>\n",
       "      <td>8.52</td>\n",
       "    </tr>\n",
       "    <tr>\n",
       "      <td>2016.0</td>\n",
       "      <td>5.25</td>\n",
       "    </tr>\n",
       "    <tr>\n",
       "      <td rowspan=\"4\" valign=\"top\">PS3</td>\n",
       "      <td>2013.0</td>\n",
       "      <td>113.25</td>\n",
       "    </tr>\n",
       "    <tr>\n",
       "      <td>2014.0</td>\n",
       "      <td>47.76</td>\n",
       "    </tr>\n",
       "    <tr>\n",
       "      <td>2015.0</td>\n",
       "      <td>16.82</td>\n",
       "    </tr>\n",
       "    <tr>\n",
       "      <td>2016.0</td>\n",
       "      <td>3.60</td>\n",
       "    </tr>\n",
       "    <tr>\n",
       "      <td rowspan=\"4\" valign=\"top\">PS4</td>\n",
       "      <td>2013.0</td>\n",
       "      <td>25.99</td>\n",
       "    </tr>\n",
       "    <tr>\n",
       "      <td>2014.0</td>\n",
       "      <td>100.00</td>\n",
       "    </tr>\n",
       "    <tr>\n",
       "      <td>2015.0</td>\n",
       "      <td>118.90</td>\n",
       "    </tr>\n",
       "    <tr>\n",
       "      <td>2016.0</td>\n",
       "      <td>69.25</td>\n",
       "    </tr>\n",
       "    <tr>\n",
       "      <td rowspan=\"3\" valign=\"top\">PSP</td>\n",
       "      <td>2013.0</td>\n",
       "      <td>3.14</td>\n",
       "    </tr>\n",
       "    <tr>\n",
       "      <td>2014.0</td>\n",
       "      <td>0.24</td>\n",
       "    </tr>\n",
       "    <tr>\n",
       "      <td>2015.0</td>\n",
       "      <td>0.12</td>\n",
       "    </tr>\n",
       "    <tr>\n",
       "      <td rowspan=\"4\" valign=\"top\">PSV</td>\n",
       "      <td>2013.0</td>\n",
       "      <td>10.59</td>\n",
       "    </tr>\n",
       "    <tr>\n",
       "      <td>2014.0</td>\n",
       "      <td>11.90</td>\n",
       "    </tr>\n",
       "    <tr>\n",
       "      <td>2015.0</td>\n",
       "      <td>6.25</td>\n",
       "    </tr>\n",
       "    <tr>\n",
       "      <td>2016.0</td>\n",
       "      <td>4.25</td>\n",
       "    </tr>\n",
       "    <tr>\n",
       "      <td rowspan=\"4\" valign=\"top\">Wii</td>\n",
       "      <td>2013.0</td>\n",
       "      <td>8.59</td>\n",
       "    </tr>\n",
       "    <tr>\n",
       "      <td>2014.0</td>\n",
       "      <td>3.75</td>\n",
       "    </tr>\n",
       "    <tr>\n",
       "      <td>2015.0</td>\n",
       "      <td>1.14</td>\n",
       "    </tr>\n",
       "    <tr>\n",
       "      <td>2016.0</td>\n",
       "      <td>0.18</td>\n",
       "    </tr>\n",
       "    <tr>\n",
       "      <td rowspan=\"4\" valign=\"top\">WiiU</td>\n",
       "      <td>2013.0</td>\n",
       "      <td>21.65</td>\n",
       "    </tr>\n",
       "    <tr>\n",
       "      <td>2014.0</td>\n",
       "      <td>22.03</td>\n",
       "    </tr>\n",
       "    <tr>\n",
       "      <td>2015.0</td>\n",
       "      <td>16.35</td>\n",
       "    </tr>\n",
       "    <tr>\n",
       "      <td>2016.0</td>\n",
       "      <td>4.60</td>\n",
       "    </tr>\n",
       "    <tr>\n",
       "      <td rowspan=\"4\" valign=\"top\">X360</td>\n",
       "      <td>2013.0</td>\n",
       "      <td>88.58</td>\n",
       "    </tr>\n",
       "    <tr>\n",
       "      <td>2014.0</td>\n",
       "      <td>34.74</td>\n",
       "    </tr>\n",
       "    <tr>\n",
       "      <td>2015.0</td>\n",
       "      <td>11.96</td>\n",
       "    </tr>\n",
       "    <tr>\n",
       "      <td>2016.0</td>\n",
       "      <td>1.52</td>\n",
       "    </tr>\n",
       "    <tr>\n",
       "      <td rowspan=\"4\" valign=\"top\">XOne</td>\n",
       "      <td>2013.0</td>\n",
       "      <td>18.96</td>\n",
       "    </tr>\n",
       "    <tr>\n",
       "      <td>2014.0</td>\n",
       "      <td>54.07</td>\n",
       "    </tr>\n",
       "    <tr>\n",
       "      <td>2015.0</td>\n",
       "      <td>60.14</td>\n",
       "    </tr>\n",
       "    <tr>\n",
       "      <td>2016.0</td>\n",
       "      <td>26.15</td>\n",
       "    </tr>\n",
       "  </tbody>\n",
       "</table>\n",
       "</div>"
      ],
      "text/plain": [
       "                         total_sales\n",
       "                                 sum\n",
       "platform year_of_release            \n",
       "3DS      2013.0                56.57\n",
       "         2014.0                43.76\n",
       "         2015.0                27.78\n",
       "         2016.0                15.14\n",
       "PC       2013.0                12.38\n",
       "         2014.0                13.28\n",
       "         2015.0                 8.52\n",
       "         2016.0                 5.25\n",
       "PS3      2013.0               113.25\n",
       "         2014.0                47.76\n",
       "         2015.0                16.82\n",
       "         2016.0                 3.60\n",
       "PS4      2013.0                25.99\n",
       "         2014.0               100.00\n",
       "         2015.0               118.90\n",
       "         2016.0                69.25\n",
       "PSP      2013.0                 3.14\n",
       "         2014.0                 0.24\n",
       "         2015.0                 0.12\n",
       "PSV      2013.0                10.59\n",
       "         2014.0                11.90\n",
       "         2015.0                 6.25\n",
       "         2016.0                 4.25\n",
       "Wii      2013.0                 8.59\n",
       "         2014.0                 3.75\n",
       "         2015.0                 1.14\n",
       "         2016.0                 0.18\n",
       "WiiU     2013.0                21.65\n",
       "         2014.0                22.03\n",
       "         2015.0                16.35\n",
       "         2016.0                 4.60\n",
       "X360     2013.0                88.58\n",
       "         2014.0                34.74\n",
       "         2015.0                11.96\n",
       "         2016.0                 1.52\n",
       "XOne     2013.0                18.96\n",
       "         2014.0                54.07\n",
       "         2015.0                60.14\n",
       "         2016.0                26.15"
      ]
     },
     "execution_count": 19,
     "metadata": {},
     "output_type": "execute_result"
    }
   ],
   "source": [
    "platform_all = (data\n",
    "    .query('platform in @top_platforms.index and 2013 <= year_of_release <= 2016')\n",
    "    .groupby(['platform','year_of_release'])\n",
    "    .agg({'total_sales':['sum']})\n",
    ") \n",
    "platform_all"
   ]
  },
  {
   "cell_type": "markdown",
   "id": "0ad0acb0",
   "metadata": {},
   "source": [
    "\n",
    "Избавимся от мультииндкса в годах и посчитаем сколько живёт платформа за последние 15 лет "
   ]
  },
  {
   "cell_type": "code",
   "execution_count": 20,
   "id": "6d82954a",
   "metadata": {},
   "outputs": [
    {
     "data": {
      "text/plain": [
       "PS4     4\n",
       "3DS     4\n",
       "PSV     4\n",
       "X360    4\n",
       "WiiU    4\n",
       "PC      4\n",
       "XOne    4\n",
       "PS3     4\n",
       "Wii     4\n",
       "PSP     3\n",
       "Name: platform, dtype: int64"
      ]
     },
     "execution_count": 20,
     "metadata": {},
     "output_type": "execute_result"
    }
   ],
   "source": [
    "platform_all.droplevel(level=1).index.value_counts() "
   ]
  },
  {
   "cell_type": "code",
   "execution_count": 21,
   "id": "9c020396",
   "metadata": {},
   "outputs": [
    {
     "data": {
      "text/plain": [
       "3.9"
      ]
     },
     "execution_count": 21,
     "metadata": {},
     "output_type": "execute_result"
    }
   ],
   "source": [
    "platform_all.droplevel(level=1).index.value_counts().mean()"
   ]
  },
  {
   "cell_type": "code",
   "execution_count": 22,
   "id": "a8e28c3d",
   "metadata": {},
   "outputs": [
    {
     "data": {
      "text/html": [
       "<div>\n",
       "<style scoped>\n",
       "    .dataframe tbody tr th:only-of-type {\n",
       "        vertical-align: middle;\n",
       "    }\n",
       "\n",
       "    .dataframe tbody tr th {\n",
       "        vertical-align: top;\n",
       "    }\n",
       "\n",
       "    .dataframe thead tr th {\n",
       "        text-align: left;\n",
       "    }\n",
       "\n",
       "    .dataframe thead tr:last-of-type th {\n",
       "        text-align: right;\n",
       "    }\n",
       "</style>\n",
       "<table border=\"1\" class=\"dataframe\">\n",
       "  <thead>\n",
       "    <tr>\n",
       "      <th></th>\n",
       "      <th>total_sales</th>\n",
       "    </tr>\n",
       "    <tr>\n",
       "      <th></th>\n",
       "      <th>sum</th>\n",
       "    </tr>\n",
       "    <tr>\n",
       "      <th>platform</th>\n",
       "      <th></th>\n",
       "    </tr>\n",
       "  </thead>\n",
       "  <tbody>\n",
       "    <tr>\n",
       "      <td>PS4</td>\n",
       "      <td>314.14</td>\n",
       "    </tr>\n",
       "    <tr>\n",
       "      <td>PS3</td>\n",
       "      <td>181.43</td>\n",
       "    </tr>\n",
       "    <tr>\n",
       "      <td>XOne</td>\n",
       "      <td>159.32</td>\n",
       "    </tr>\n",
       "    <tr>\n",
       "      <td>3DS</td>\n",
       "      <td>143.25</td>\n",
       "    </tr>\n",
       "    <tr>\n",
       "      <td>X360</td>\n",
       "      <td>136.80</td>\n",
       "    </tr>\n",
       "    <tr>\n",
       "      <td>WiiU</td>\n",
       "      <td>64.63</td>\n",
       "    </tr>\n",
       "    <tr>\n",
       "      <td>PC</td>\n",
       "      <td>39.43</td>\n",
       "    </tr>\n",
       "    <tr>\n",
       "      <td>PSV</td>\n",
       "      <td>32.99</td>\n",
       "    </tr>\n",
       "    <tr>\n",
       "      <td>Wii</td>\n",
       "      <td>13.66</td>\n",
       "    </tr>\n",
       "    <tr>\n",
       "      <td>PSP</td>\n",
       "      <td>3.50</td>\n",
       "    </tr>\n",
       "  </tbody>\n",
       "</table>\n",
       "</div>"
      ],
      "text/plain": [
       "         total_sales\n",
       "                 sum\n",
       "platform            \n",
       "PS4           314.14\n",
       "PS3           181.43\n",
       "XOne          159.32\n",
       "3DS           143.25\n",
       "X360          136.80\n",
       "WiiU           64.63\n",
       "PC             39.43\n",
       "PSV            32.99\n",
       "Wii            13.66\n",
       "PSP             3.50"
      ]
     },
     "execution_count": 22,
     "metadata": {},
     "output_type": "execute_result"
    }
   ],
   "source": [
    "recent_platform_data = (data\n",
    "    .query('2013 <= year_of_release <= 2016')\n",
    "    .groupby('platform')\n",
    "    .agg({'total_sales':['sum']})\n",
    "    .sort_values(by=('total_sales', 'sum'), ascending=False)\n",
    "    .head(10)\n",
    ")\n",
    "recent_platform_data"
   ]
  },
  {
   "cell_type": "code",
   "execution_count": 23,
   "id": "d9ab6342",
   "metadata": {},
   "outputs": [
    {
     "data": {
      "text/html": [
       "<div>\n",
       "<style scoped>\n",
       "    .dataframe tbody tr th:only-of-type {\n",
       "        vertical-align: middle;\n",
       "    }\n",
       "\n",
       "    .dataframe tbody tr th {\n",
       "        vertical-align: top;\n",
       "    }\n",
       "\n",
       "    .dataframe thead th {\n",
       "        text-align: right;\n",
       "    }\n",
       "</style>\n",
       "<table border=\"1\" class=\"dataframe\">\n",
       "  <thead>\n",
       "    <tr style=\"text-align: right;\">\n",
       "      <th>year_of_release</th>\n",
       "      <th>2013.0</th>\n",
       "      <th>2014.0</th>\n",
       "      <th>2015.0</th>\n",
       "      <th>2016.0</th>\n",
       "    </tr>\n",
       "    <tr>\n",
       "      <th>platform</th>\n",
       "      <th></th>\n",
       "      <th></th>\n",
       "      <th></th>\n",
       "      <th></th>\n",
       "    </tr>\n",
       "  </thead>\n",
       "  <tbody>\n",
       "    <tr>\n",
       "      <td>3DS</td>\n",
       "      <td>56.57</td>\n",
       "      <td>43.76</td>\n",
       "      <td>27.78</td>\n",
       "      <td>15.14</td>\n",
       "    </tr>\n",
       "    <tr>\n",
       "      <td>PC</td>\n",
       "      <td>12.38</td>\n",
       "      <td>13.28</td>\n",
       "      <td>8.52</td>\n",
       "      <td>5.25</td>\n",
       "    </tr>\n",
       "    <tr>\n",
       "      <td>PS3</td>\n",
       "      <td>113.25</td>\n",
       "      <td>47.76</td>\n",
       "      <td>16.82</td>\n",
       "      <td>3.60</td>\n",
       "    </tr>\n",
       "    <tr>\n",
       "      <td>PS4</td>\n",
       "      <td>25.99</td>\n",
       "      <td>100.00</td>\n",
       "      <td>118.90</td>\n",
       "      <td>69.25</td>\n",
       "    </tr>\n",
       "    <tr>\n",
       "      <td>PSP</td>\n",
       "      <td>3.14</td>\n",
       "      <td>0.24</td>\n",
       "      <td>0.12</td>\n",
       "      <td>NaN</td>\n",
       "    </tr>\n",
       "    <tr>\n",
       "      <td>PSV</td>\n",
       "      <td>10.59</td>\n",
       "      <td>11.90</td>\n",
       "      <td>6.25</td>\n",
       "      <td>4.25</td>\n",
       "    </tr>\n",
       "    <tr>\n",
       "      <td>Wii</td>\n",
       "      <td>8.59</td>\n",
       "      <td>3.75</td>\n",
       "      <td>1.14</td>\n",
       "      <td>0.18</td>\n",
       "    </tr>\n",
       "    <tr>\n",
       "      <td>WiiU</td>\n",
       "      <td>21.65</td>\n",
       "      <td>22.03</td>\n",
       "      <td>16.35</td>\n",
       "      <td>4.60</td>\n",
       "    </tr>\n",
       "    <tr>\n",
       "      <td>X360</td>\n",
       "      <td>88.58</td>\n",
       "      <td>34.74</td>\n",
       "      <td>11.96</td>\n",
       "      <td>1.52</td>\n",
       "    </tr>\n",
       "    <tr>\n",
       "      <td>XOne</td>\n",
       "      <td>18.96</td>\n",
       "      <td>54.07</td>\n",
       "      <td>60.14</td>\n",
       "      <td>26.15</td>\n",
       "    </tr>\n",
       "  </tbody>\n",
       "</table>\n",
       "</div>"
      ],
      "text/plain": [
       "year_of_release  2013.0  2014.0  2015.0  2016.0\n",
       "platform                                       \n",
       "3DS               56.57   43.76   27.78   15.14\n",
       "PC                12.38   13.28    8.52    5.25\n",
       "PS3              113.25   47.76   16.82    3.60\n",
       "PS4               25.99  100.00  118.90   69.25\n",
       "PSP                3.14    0.24    0.12     NaN\n",
       "PSV               10.59   11.90    6.25    4.25\n",
       "Wii                8.59    3.75    1.14    0.18\n",
       "WiiU              21.65   22.03   16.35    4.60\n",
       "X360              88.58   34.74   11.96    1.52\n",
       "XOne              18.96   54.07   60.14   26.15"
      ]
     },
     "execution_count": 23,
     "metadata": {},
     "output_type": "execute_result"
    }
   ],
   "source": [
    "(data\n",
    "    .query('2013 <= year_of_release <= 2016 and platform in @recent_platform_data.index')\n",
    "    .pivot_table(index='platform', columns='year_of_release', values='total_sales',aggfunc='sum')\n",
    ")"
   ]
  },
  {
   "cell_type": "markdown",
   "id": "9c68dd33",
   "metadata": {},
   "source": [
    "- Изменение продаж по платформам за всё время"
   ]
  },
  {
   "cell_type": "code",
   "execution_count": 24,
   "id": "0c985945",
   "metadata": {},
   "outputs": [],
   "source": [
    "platform_sales = data.pivot_table(index='platform', values='total_sales', aggfunc='sum').sort_values('total_sales', ascending=False)"
   ]
  },
  {
   "cell_type": "code",
   "execution_count": 25,
   "id": "58c213f5",
   "metadata": {},
   "outputs": [],
   "source": [
    "def create_bar_plot(data):\n",
    "    data.plot(kind='bar', y='total_sales', legend=False, title='Количество продаж по платформам', figsize=(12, 6)).set(xlabel='Платформа',ylabel='Продажи')\n",
    "    plt.show()"
   ]
  },
  {
   "cell_type": "code",
   "execution_count": 26,
   "id": "a3677403",
   "metadata": {
    "scrolled": false
   },
   "outputs": [
    {
     "data": {
      "image/png": "[encoded data removed]",
      "text/plain": [
       "<Figure size 864x432 with 1 Axes>"
      ]
     },
     "metadata": {
      "needs_background": "light"
     },
     "output_type": "display_data"
    }
   ],
   "source": [
    "create_bar_plot(platform_sales)"
   ]
  },
  {
   "cell_type": "markdown",
   "id": "5ac4a747",
   "metadata": {},
   "source": [
    "- Посмотрим на платформы по годам"
   ]
  },
  {
   "cell_type": "code",
   "execution_count": 27,
   "id": "dd9dbda5",
   "metadata": {},
   "outputs": [],
   "source": [
    "def years_for_platform(name, data):\n",
    "    return (data.query('platform == @name').pivot_table(index='year_of_release', values='total_sales', aggfunc='sum')\n",
    "    .sort_values('year_of_release', ascending=False))"
   ]
  },
  {
   "cell_type": "code",
   "execution_count": 28,
   "id": "d4f20047",
   "metadata": {
    "scrolled": true
   },
   "outputs": [
    {
     "data": {
      "image/png": "[encoded data removed]",
      "text/plain": [
       "<Figure size 864x432 with 1 Axes>"
      ]
     },
     "metadata": {
      "needs_background": "light"
     },
     "output_type": "display_data"
    }
   ],
   "source": [
    "for i in list(recent_platform_data.index):\n",
    "    years_for_platform(i, data)['total_sales'].plot(figsize=(12, 6), label=i, title='Количество продаж для популярных игровых платформ').set(xlabel='Годы игровых релизов', ylabel='Продажи')\n",
    "    plt.legend()"
   ]
  },
  {
   "cell_type": "markdown",
   "id": "897ebe85",
   "metadata": {},
   "source": [
    "В среднем платформа живет 10 лет "
   ]
  },
  {
   "cell_type": "markdown",
   "id": "b66017e8",
   "metadata": {},
   "source": [
    "- Лидирующие платформы"
   ]
  },
  {
   "cell_type": "code",
   "execution_count": 29,
   "id": "dd4424b2",
   "metadata": {},
   "outputs": [],
   "source": [
    "recent_years = (data['year_of_release'] > 2013) & (data['year_of_release'] <= 2016)\n",
    "recent_games = data.loc[recent_years]"
   ]
  },
  {
   "cell_type": "code",
   "execution_count": 30,
   "id": "be408c34",
   "metadata": {},
   "outputs": [],
   "source": [
    "recent_games_sales_total = recent_games.pivot_table(index='platform', values='total_sales', aggfunc='sum').sort_values('total_sales', ascending=False)"
   ]
  },
  {
   "cell_type": "code",
   "execution_count": 31,
   "id": "f1a19234",
   "metadata": {},
   "outputs": [
    {
     "data": {
      "image/png": "[encoded data removed]",
      "text/plain": [
       "<Figure size 864x432 with 1 Axes>"
      ]
     },
     "metadata": {
      "needs_background": "light"
     },
     "output_type": "display_data"
    }
   ],
   "source": [
    "create_bar_plot(recent_games_sales_total)"
   ]
  },
  {
   "cell_type": "markdown",
   "id": "a9510f05",
   "metadata": {},
   "source": [
    "Создадим отдельный датафрейм с нашей выборкой по годам "
   ]
  },
  {
   "cell_type": "code",
   "execution_count": 32,
   "id": "a9775978",
   "metadata": {},
   "outputs": [],
   "source": [
    "recent_platform_data_all = (data\n",
    "    .query('2013 <= year_of_release <= 2016 and platform in @recent_platform_data.index')\n",
    "    .copy()\n",
    ")         "
   ]
  },
  {
   "cell_type": "markdown",
   "id": "2d7d1730",
   "metadata": {},
   "source": [
    "Далее сделаем следующее:\n",
    "1. Посмтроим боксплот по всем платформам\n",
    "2. Построим боксплот по 2-мя лучшими и сравним их"
   ]
  },
  {
   "cell_type": "markdown",
   "id": "95f2d584",
   "metadata": {},
   "source": [
    "Строим боксплот по всем платформам"
   ]
  },
  {
   "cell_type": "code",
   "execution_count": 33,
   "id": "d6a77d4d",
   "metadata": {},
   "outputs": [
    {
     "data": {
      "text/plain": [
       "<matplotlib.axes._subplots.AxesSubplot at 0x7fd70abe77d0>"
      ]
     },
     "execution_count": 33,
     "metadata": {},
     "output_type": "execute_result"
    },
    {
     "data": {
      "image/png": "[encoded data removed]",
      "text/plain": [
       "<Figure size 432x288 with 1 Axes>"
      ]
     },
     "metadata": {
      "needs_background": "light"
     },
     "output_type": "display_data"
    }
   ],
   "source": [
    "(recent_platform_data_all\n",
    "    .boxplot(column=['total_sales'])\n",
    ")"
   ]
  },
  {
   "cell_type": "code",
   "execution_count": 34,
   "id": "8aaa4680",
   "metadata": {},
   "outputs": [
    {
     "data": {
      "text/plain": [
       "count    2225.000000\n",
       "mean        0.489506\n",
       "std         1.237281\n",
       "min         0.010000\n",
       "25%         0.030000\n",
       "50%         0.110000\n",
       "75%         0.400000\n",
       "max        21.050000\n",
       "Name: total_sales, dtype: float64"
      ]
     },
     "execution_count": 34,
     "metadata": {},
     "output_type": "execute_result"
    }
   ],
   "source": [
    "(recent_platform_data_all\n",
    "   ['total_sales'].describe()\n",
    ")"
   ]
  },
  {
   "cell_type": "markdown",
   "id": "11fdfdd6",
   "metadata": {},
   "source": [
    " Боксплот для PS4"
   ]
  },
  {
   "cell_type": "code",
   "execution_count": 35,
   "id": "3051125b",
   "metadata": {},
   "outputs": [
    {
     "data": {
      "text/plain": [
       "<matplotlib.axes._subplots.AxesSubplot at 0x7fd70ae8b7d0>"
      ]
     },
     "execution_count": 35,
     "metadata": {},
     "output_type": "execute_result"
    },
    {
     "data": {
      "image/png": "[encoded data removed]",
      "text/plain": [
       "<Figure size 432x288 with 1 Axes>"
      ]
     },
     "metadata": {
      "needs_background": "light"
     },
     "output_type": "display_data"
    }
   ],
   "source": [
    "(recent_platform_data_all\n",
    "    .query('platform ==\"PS4\"')\n",
    "    .boxplot(column=['total_sales'])\n",
    ")"
   ]
  },
  {
   "cell_type": "code",
   "execution_count": 36,
   "id": "1d9d888c",
   "metadata": {},
   "outputs": [
    {
     "data": {
      "text/plain": [
       "count    392.000000\n",
       "mean       0.801378\n",
       "std        1.609456\n",
       "min        0.010000\n",
       "25%        0.060000\n",
       "50%        0.200000\n",
       "75%        0.730000\n",
       "max       14.630000\n",
       "Name: total_sales, dtype: float64"
      ]
     },
     "execution_count": 36,
     "metadata": {},
     "output_type": "execute_result"
    }
   ],
   "source": [
    "(recent_platform_data_all\n",
    "    .query('platform ==\"PS4\"')\n",
    "    ['total_sales'].describe()\n",
    ")"
   ]
  },
  {
   "cell_type": "markdown",
   "id": "dbf33247",
   "metadata": {},
   "source": [
    "Боксплот для XOne"
   ]
  },
  {
   "cell_type": "code",
   "execution_count": 37,
   "id": "45e45355",
   "metadata": {},
   "outputs": [
    {
     "data": {
      "text/plain": [
       "<matplotlib.axes._subplots.AxesSubplot at 0x7fd70abf9dd0>"
      ]
     },
     "execution_count": 37,
     "metadata": {},
     "output_type": "execute_result"
    },
    {
     "data": {
      "image/png": "[encoded data removed]",
      "text/plain": [
       "<Figure size 432x288 with 1 Axes>"
      ]
     },
     "metadata": {
      "needs_background": "light"
     },
     "output_type": "display_data"
    }
   ],
   "source": [
    "(recent_platform_data_all\n",
    "    .query('platform ==\"XOne\"')\n",
    "    .boxplot(column=['total_sales'])\n",
    ")"
   ]
  },
  {
   "cell_type": "code",
   "execution_count": 38,
   "id": "3ad1b9b5",
   "metadata": {},
   "outputs": [
    {
     "data": {
      "text/plain": [
       "count    247.000000\n",
       "mean       0.645020\n",
       "std        1.036139\n",
       "min        0.010000\n",
       "25%        0.060000\n",
       "50%        0.220000\n",
       "75%        0.685000\n",
       "max        7.390000\n",
       "Name: total_sales, dtype: float64"
      ]
     },
     "execution_count": 38,
     "metadata": {},
     "output_type": "execute_result"
    }
   ],
   "source": [
    "(recent_platform_data_all\n",
    "    .query('platform ==\"XOne\"')\n",
    "    ['total_sales'].describe()\n",
    ")"
   ]
  },
  {
   "cell_type": "markdown",
   "id": "f64f7422",
   "metadata": {},
   "source": [
    "Боксплот для 3DS"
   ]
  },
  {
   "cell_type": "code",
   "execution_count": 39,
   "id": "024ddc7f",
   "metadata": {},
   "outputs": [
    {
     "data": {
      "text/plain": [
       "<matplotlib.axes._subplots.AxesSubplot at 0x7fd70af64b10>"
      ]
     },
     "execution_count": 39,
     "metadata": {},
     "output_type": "execute_result"
    },
    {
     "data": {
      "image/png": "[encoded data removed]",
      "text/plain": [
       "<Figure size 432x288 with 1 Axes>"
      ]
     },
     "metadata": {
      "needs_background": "light"
     },
     "output_type": "display_data"
    }
   ],
   "source": [
    "(recent_platform_data_all\n",
    "    .query('platform ==\"3DS\"')\n",
    "    .boxplot(column=['total_sales'])\n",
    ")"
   ]
  },
  {
   "cell_type": "code",
   "execution_count": 40,
   "id": "0e930b61",
   "metadata": {},
   "outputs": [
    {
     "data": {
      "text/plain": [
       "count    303.000000\n",
       "mean       0.472772\n",
       "std        1.381347\n",
       "min        0.010000\n",
       "25%        0.040000\n",
       "50%        0.090000\n",
       "75%        0.280000\n",
       "max       14.600000\n",
       "Name: total_sales, dtype: float64"
      ]
     },
     "execution_count": 40,
     "metadata": {},
     "output_type": "execute_result"
    }
   ],
   "source": [
    "(recent_platform_data_all\n",
    "    .query('platform ==\"3DS\"')\n",
    "   ['total_sales'].describe()\n",
    ")"
   ]
  },
  {
   "cell_type": "markdown",
   "id": "573a59e6",
   "metadata": {},
   "source": [
    "Бокспло для WiiU"
   ]
  },
  {
   "cell_type": "code",
   "execution_count": 41,
   "id": "20b3c214",
   "metadata": {},
   "outputs": [
    {
     "data": {
      "text/plain": [
       "<matplotlib.axes._subplots.AxesSubplot at 0x7fd70ab4a610>"
      ]
     },
     "execution_count": 41,
     "metadata": {},
     "output_type": "execute_result"
    },
    {
     "data": {
      "image/png": "[encoded data removed]",
      "text/plain": [
       "<Figure size 432x288 with 1 Axes>"
      ]
     },
     "metadata": {
      "needs_background": "light"
     },
     "output_type": "display_data"
    }
   ],
   "source": [
    "(recent_platform_data_all\n",
    "    .query('platform ==\"WiiU\"')\n",
    "    .boxplot(column=['total_sales'])\n",
    ")"
   ]
  },
  {
   "cell_type": "code",
   "execution_count": 42,
   "id": "e96ba95e",
   "metadata": {},
   "outputs": [
    {
     "data": {
      "text/plain": [
       "<matplotlib.axes._subplots.AxesSubplot at 0x7fd70aee93d0>"
      ]
     },
     "execution_count": 42,
     "metadata": {},
     "output_type": "execute_result"
    },
    {
     "data": {
      "image/png": "[encoded data removed]",
      "text/plain": [
       "<Figure size 1080x360 with 1 Axes>"
      ]
     },
     "metadata": {
      "needs_background": "light"
     },
     "output_type": "display_data"
    }
   ],
   "source": [
    "top_quantile = recent_platform_data_all['total_sales'].quantile(0.75)\n",
    "low_quantile = recent_platform_data_all['total_sales'].quantile(0.25)\n",
    "threshold = top_quantile + 2*low_quantile\n",
    "fig, ax = plt.subplots(figsize =(15,5))\n",
    "sns.boxplot(x = 'platform', \n",
    "            y = 'total_sales',\n",
    "            data = recent_platform_data_all.query('total_sales <= @threshold'),ax=ax)  "
   ]
  },
  {
   "cell_type": "markdown",
   "id": "3b5b98de",
   "metadata": {},
   "source": [
    "- У платформ PS4, PS3 и Wii большая часть значений больше медианного. Наиболее равномерно распределены значения у платформы XOne, DS"
   ]
  },
  {
   "cell_type": "code",
   "execution_count": 43,
   "id": "b9216d9b",
   "metadata": {},
   "outputs": [
    {
     "data": {
      "text/plain": [
       "count    115.000000\n",
       "mean       0.562000\n",
       "std        1.038778\n",
       "min        0.010000\n",
       "25%        0.060000\n",
       "50%        0.200000\n",
       "75%        0.595000\n",
       "max        7.090000\n",
       "Name: total_sales, dtype: float64"
      ]
     },
     "execution_count": 43,
     "metadata": {},
     "output_type": "execute_result"
    }
   ],
   "source": [
    "(recent_platform_data_all\n",
    "    .query('platform ==\"WiiU\"')\n",
    "    ['total_sales'].describe()\n",
    ")"
   ]
  },
  {
   "cell_type": "markdown",
   "id": "43da5220",
   "metadata": {},
   "source": [
    "Смотря на данные видим:\n",
    "\n",
    "- средние показатели продаж по платформам mean = 0,5, median = 0,15, std = 1,4\n",
    "- платформа PS4 mean = 1,1 , median = 0,3 , std = 1,9\n",
    "- платформа XOne mean = 0,8 , median = 0,35 , std = 1,2\n",
    "- платформа 3DS mean = 0,5 , median = 0,13 , std = 1,5\n",
    "- платформа WiiU mean = 0,6 , median = 0,22 , std = 1,1"
   ]
  },
  {
   "cell_type": "markdown",
   "id": "54e84e22",
   "metadata": {},
   "source": [
    "**ВЫВОД**\n",
    "Самой популярной платформой является - PS4, с самыми высокими показателями продаж. Думаю это связано с тем, что платформа была выпущена в 2013 году и произвела фурор, отсюда и высокие показатели всего за два года"
   ]
  },
  {
   "cell_type": "markdown",
   "id": "61447d08",
   "metadata": {},
   "source": [
    "Посмотрим как влияют на продажи внутри одной популярной платформы, в данном случае возьмём как самую продаваемую -  PS4, отзывы покупателей и критиков. Построим диаграмму рассеяния и посчитаем корреляцию между отзывами и продажами."
   ]
  },
  {
   "cell_type": "code",
   "execution_count": 44,
   "id": "73ab518d",
   "metadata": {},
   "outputs": [
    {
     "data": {
      "text/plain": [
       "<matplotlib.axes._subplots.AxesSubplot at 0x7fd797833850>"
      ]
     },
     "execution_count": 44,
     "metadata": {},
     "output_type": "execute_result"
    },
    {
     "data": {
      "image/png": "[encoded data removed]",
      "text/plain": [
       "<Figure size 720x720 with 1 Axes>"
      ]
     },
     "metadata": {
      "needs_background": "light"
     },
     "output_type": "display_data"
    }
   ],
   "source": [
    "(recent_platform_data_all\n",
    "    .query('platform == \"PS4\"')\n",
    "    .plot(y='total_sales', x='critic_score', kind = 'scatter',legend=True, grid=True, figsize=(10, 10),title='Продажи и отзывы  критиков')\n",
    ")"
   ]
  },
  {
   "cell_type": "code",
   "execution_count": 45,
   "id": "6d1b6d9a",
   "metadata": {},
   "outputs": [
    {
     "data": {
      "text/plain": [
       "<matplotlib.axes._subplots.AxesSubplot at 0x7fd70aa41990>"
      ]
     },
     "execution_count": 45,
     "metadata": {},
     "output_type": "execute_result"
    },
    {
     "data": {
      "image/png": "[encoded data removed]",
      "text/plain": [
       "<Figure size 720x720 with 1 Axes>"
      ]
     },
     "metadata": {
      "needs_background": "light"
     },
     "output_type": "display_data"
    }
   ],
   "source": [
    "(recent_platform_data_all\n",
    "    .query('platform == \"PS4\"')\n",
    "    .plot(y='total_sales', x='user_score', kind = 'scatter',legend=True, grid=True, figsize=(10, 10),title='Продажи и отзывы пользователей')\n",
    ")"
   ]
  },
  {
   "cell_type": "markdown",
   "id": "8d61b88c",
   "metadata": {},
   "source": [
    "Напишем функцию для корреляции "
   ]
  },
  {
   "cell_type": "code",
   "execution_count": 46,
   "id": "fba817f3",
   "metadata": {},
   "outputs": [],
   "source": [
    "def corr(data,platform):\n",
    "    print('Корреляция продажи / оценкой критиков',str(platform),':',data.query('platform == @platform')['total_sales']\n",
    "      .corr(data.query('platform == @platform')['critic_score']))\n",
    "    print('Корреляция продажи / оценкой пользователей',str(platform),':', data.query('platform == @platform')['total_sales']\n",
    "      .corr(data.query('platform == @platform')['user_score']))"
   ]
  },
  {
   "cell_type": "code",
   "execution_count": 47,
   "id": "6d342c1e",
   "metadata": {},
   "outputs": [
    {
     "name": "stdout",
     "output_type": "stream",
     "text": [
      "Корреляция продажи / оценкой критиков PS4 : 0.406567902061781\n",
      "Корреляция продажи / оценкой пользователей PS4 : -0.031957110204556424\n"
     ]
    }
   ],
   "source": [
    "corr(recent_platform_data_all,'PS4') #смотрим на корреляцию PS4"
   ]
  },
  {
   "cell_type": "code",
   "execution_count": 48,
   "id": "30a8e483",
   "metadata": {},
   "outputs": [
    {
     "name": "stdout",
     "output_type": "stream",
     "text": [
      "Корреляция продажи / оценкой критиков XOne : 0.41699832800840175\n",
      "Корреляция продажи / оценкой пользователей XOne : -0.06892505328279412\n"
     ]
    }
   ],
   "source": [
    "corr(recent_platform_data_all,'XOne') #смотрим на корреляцию XOne"
   ]
  },
  {
   "cell_type": "code",
   "execution_count": 49,
   "id": "6a387a05",
   "metadata": {},
   "outputs": [
    {
     "name": "stdout",
     "output_type": "stream",
     "text": [
      "Корреляция продажи / оценкой критиков 3DS : 0.35705661422881035\n",
      "Корреляция продажи / оценкой пользователей 3DS : 0.24150411773563016\n"
     ]
    }
   ],
   "source": [
    "corr(recent_platform_data_all,'3DS') #смотрим на корреляцию 3DS"
   ]
  },
  {
   "cell_type": "code",
   "execution_count": 50,
   "id": "d4e3a313",
   "metadata": {},
   "outputs": [
    {
     "name": "stdout",
     "output_type": "stream",
     "text": [
      "Корреляция продажи / оценкой критиков WiiU : 0.3764149065423912\n",
      "Корреляция продажи / оценкой пользователей WiiU : 0.4193304819266187\n"
     ]
    }
   ],
   "source": [
    "corr(recent_platform_data_all,'WiiU') #смотрим на корреляцию WiiU"
   ]
  },
  {
   "cell_type": "markdown",
   "id": "d1dfd8a4",
   "metadata": {},
   "source": [
    "- PS4 есть прямая корреляция с отзывами критиков, но отсутствует корреляция для отзывов покупателей\n",
    "- XOne есть прямая корреляция с отзывами критиков, но отсутствует корреляция для отзывов покупателей\n",
    "- 3DS есть прямая корреляция с отзывами критиков и отзывами покупателей\n",
    "- WiiU есть прямая корреляция с отзывами критиков и отзывами покупателей.\n",
    "\n",
    "Такие корреляции можно попытаться обяснить так:\n",
    "1. Не равномерное распространение платформ в разных регионах\n",
    "2. Пользователи дают менее объективную оценку, чем профессиональные критики"
   ]
  },
  {
   "cell_type": "markdown",
   "id": "347806a9",
   "metadata": {},
   "source": [
    "Исследуем популярность игр по жанрам "
   ]
  },
  {
   "cell_type": "code",
   "execution_count": 51,
   "id": "fe14198e",
   "metadata": {},
   "outputs": [
    {
     "data": {
      "text/html": [
       "<div>\n",
       "<style scoped>\n",
       "    .dataframe tbody tr th:only-of-type {\n",
       "        vertical-align: middle;\n",
       "    }\n",
       "\n",
       "    .dataframe tbody tr th {\n",
       "        vertical-align: top;\n",
       "    }\n",
       "\n",
       "    .dataframe thead th {\n",
       "        text-align: right;\n",
       "    }\n",
       "</style>\n",
       "<table border=\"1\" class=\"dataframe\">\n",
       "  <thead>\n",
       "    <tr style=\"text-align: right;\">\n",
       "      <th></th>\n",
       "      <th>name</th>\n",
       "      <th>platform</th>\n",
       "      <th>year_of_release</th>\n",
       "      <th>genre</th>\n",
       "      <th>na_sales</th>\n",
       "      <th>eu_sales</th>\n",
       "      <th>jp_sales</th>\n",
       "      <th>other_sales</th>\n",
       "      <th>critic_score</th>\n",
       "      <th>user_score</th>\n",
       "      <th>rating</th>\n",
       "      <th>total_sales</th>\n",
       "    </tr>\n",
       "  </thead>\n",
       "  <tbody>\n",
       "    <tr>\n",
       "      <td>16</td>\n",
       "      <td>Grand Theft Auto V</td>\n",
       "      <td>PS3</td>\n",
       "      <td>2013.0</td>\n",
       "      <td>Action</td>\n",
       "      <td>7.02</td>\n",
       "      <td>9.09</td>\n",
       "      <td>0.98</td>\n",
       "      <td>3.96</td>\n",
       "      <td>97.0</td>\n",
       "      <td>8.2</td>\n",
       "      <td>15</td>\n",
       "      <td>21.05</td>\n",
       "    </tr>\n",
       "    <tr>\n",
       "      <td>23</td>\n",
       "      <td>Grand Theft Auto V</td>\n",
       "      <td>X360</td>\n",
       "      <td>2013.0</td>\n",
       "      <td>Action</td>\n",
       "      <td>9.66</td>\n",
       "      <td>5.14</td>\n",
       "      <td>0.06</td>\n",
       "      <td>1.41</td>\n",
       "      <td>97.0</td>\n",
       "      <td>8.1</td>\n",
       "      <td>15</td>\n",
       "      <td>16.27</td>\n",
       "    </tr>\n",
       "    <tr>\n",
       "      <td>31</td>\n",
       "      <td>Call of Duty: Black Ops 3</td>\n",
       "      <td>PS4</td>\n",
       "      <td>2015.0</td>\n",
       "      <td>Shooter</td>\n",
       "      <td>6.03</td>\n",
       "      <td>5.86</td>\n",
       "      <td>0.36</td>\n",
       "      <td>2.38</td>\n",
       "      <td>NaN</td>\n",
       "      <td>NaN</td>\n",
       "      <td>no_info</td>\n",
       "      <td>14.63</td>\n",
       "    </tr>\n",
       "    <tr>\n",
       "      <td>33</td>\n",
       "      <td>Pokemon X/Pokemon Y</td>\n",
       "      <td>3DS</td>\n",
       "      <td>2013.0</td>\n",
       "      <td>Role-Playing</td>\n",
       "      <td>5.28</td>\n",
       "      <td>4.19</td>\n",
       "      <td>4.35</td>\n",
       "      <td>0.78</td>\n",
       "      <td>NaN</td>\n",
       "      <td>NaN</td>\n",
       "      <td>no_info</td>\n",
       "      <td>14.60</td>\n",
       "    </tr>\n",
       "    <tr>\n",
       "      <td>42</td>\n",
       "      <td>Grand Theft Auto V</td>\n",
       "      <td>PS4</td>\n",
       "      <td>2014.0</td>\n",
       "      <td>Action</td>\n",
       "      <td>3.96</td>\n",
       "      <td>6.31</td>\n",
       "      <td>0.38</td>\n",
       "      <td>1.97</td>\n",
       "      <td>97.0</td>\n",
       "      <td>8.3</td>\n",
       "      <td>15</td>\n",
       "      <td>12.62</td>\n",
       "    </tr>\n",
       "  </tbody>\n",
       "</table>\n",
       "</div>"
      ],
      "text/plain": [
       "                         name platform  year_of_release         genre  \\\n",
       "16         Grand Theft Auto V      PS3           2013.0        Action   \n",
       "23         Grand Theft Auto V     X360           2013.0        Action   \n",
       "31  Call of Duty: Black Ops 3      PS4           2015.0       Shooter   \n",
       "33        Pokemon X/Pokemon Y      3DS           2013.0  Role-Playing   \n",
       "42         Grand Theft Auto V      PS4           2014.0        Action   \n",
       "\n",
       "    na_sales  eu_sales  jp_sales  other_sales  critic_score  user_score  \\\n",
       "16      7.02      9.09      0.98         3.96          97.0         8.2   \n",
       "23      9.66      5.14      0.06         1.41          97.0         8.1   \n",
       "31      6.03      5.86      0.36         2.38           NaN         NaN   \n",
       "33      5.28      4.19      4.35         0.78           NaN         NaN   \n",
       "42      3.96      6.31      0.38         1.97          97.0         8.3   \n",
       "\n",
       "     rating  total_sales  \n",
       "16       15        21.05  \n",
       "23       15        16.27  \n",
       "31  no_info        14.63  \n",
       "33  no_info        14.60  \n",
       "42       15        12.62  "
      ]
     },
     "execution_count": 51,
     "metadata": {},
     "output_type": "execute_result"
    }
   ],
   "source": [
    "recent_platform_data_all.head()"
   ]
  },
  {
   "cell_type": "code",
   "execution_count": 52,
   "id": "8c01c46e",
   "metadata": {},
   "outputs": [
    {
     "data": {
      "text/html": [
       "<div>\n",
       "<style scoped>\n",
       "    .dataframe tbody tr th:only-of-type {\n",
       "        vertical-align: middle;\n",
       "    }\n",
       "\n",
       "    .dataframe tbody tr th {\n",
       "        vertical-align: top;\n",
       "    }\n",
       "\n",
       "    .dataframe thead tr th {\n",
       "        text-align: left;\n",
       "    }\n",
       "\n",
       "    .dataframe thead tr:last-of-type th {\n",
       "        text-align: right;\n",
       "    }\n",
       "</style>\n",
       "<table border=\"1\" class=\"dataframe\">\n",
       "  <thead>\n",
       "    <tr>\n",
       "      <th></th>\n",
       "      <th>total_sales</th>\n",
       "    </tr>\n",
       "    <tr>\n",
       "      <th></th>\n",
       "      <th>sum</th>\n",
       "    </tr>\n",
       "    <tr>\n",
       "      <th>genre</th>\n",
       "      <th></th>\n",
       "    </tr>\n",
       "  </thead>\n",
       "  <tbody>\n",
       "    <tr>\n",
       "      <td>Action</td>\n",
       "      <td>321.37</td>\n",
       "    </tr>\n",
       "    <tr>\n",
       "      <td>Shooter</td>\n",
       "      <td>232.98</td>\n",
       "    </tr>\n",
       "    <tr>\n",
       "      <td>Sports</td>\n",
       "      <td>150.62</td>\n",
       "    </tr>\n",
       "    <tr>\n",
       "      <td>Role-Playing</td>\n",
       "      <td>145.89</td>\n",
       "    </tr>\n",
       "    <tr>\n",
       "      <td>Misc</td>\n",
       "      <td>62.74</td>\n",
       "    </tr>\n",
       "    <tr>\n",
       "      <td>Platform</td>\n",
       "      <td>41.94</td>\n",
       "    </tr>\n",
       "    <tr>\n",
       "      <td>Racing</td>\n",
       "      <td>39.89</td>\n",
       "    </tr>\n",
       "    <tr>\n",
       "      <td>Fighting</td>\n",
       "      <td>35.31</td>\n",
       "    </tr>\n",
       "    <tr>\n",
       "      <td>Adventure</td>\n",
       "      <td>23.61</td>\n",
       "    </tr>\n",
       "    <tr>\n",
       "      <td>Simulation</td>\n",
       "      <td>21.55</td>\n",
       "    </tr>\n",
       "    <tr>\n",
       "      <td>Strategy</td>\n",
       "      <td>10.08</td>\n",
       "    </tr>\n",
       "    <tr>\n",
       "      <td>Puzzle</td>\n",
       "      <td>3.17</td>\n",
       "    </tr>\n",
       "  </tbody>\n",
       "</table>\n",
       "</div>"
      ],
      "text/plain": [
       "             total_sales\n",
       "                     sum\n",
       "genre                   \n",
       "Action            321.37\n",
       "Shooter           232.98\n",
       "Sports            150.62\n",
       "Role-Playing      145.89\n",
       "Misc               62.74\n",
       "Platform           41.94\n",
       "Racing             39.89\n",
       "Fighting           35.31\n",
       "Adventure          23.61\n",
       "Simulation         21.55\n",
       "Strategy           10.08\n",
       "Puzzle              3.17"
      ]
     },
     "execution_count": 52,
     "metadata": {},
     "output_type": "execute_result"
    }
   ],
   "source": [
    "(recent_platform_data_all  #посмтроим сводную таблицу\n",
    "    .groupby('genre')\n",
    "    .agg({'total_sales':['sum']})\n",
    "    .sort_values(by=('total_sales', 'sum'), ascending=False)\n",
    ")\n"
   ]
  },
  {
   "cell_type": "markdown",
   "id": "ce041b65",
   "metadata": {},
   "source": [
    "- Самые прибыльными жанрами являются: Action, Shooter, Sports\n",
    "- Самые не прибыльными: Adventure, Strategy, Puzzle"
   ]
  },
  {
   "cell_type": "code",
   "execution_count": 53,
   "id": "1c61dce4",
   "metadata": {
    "scrolled": false
   },
   "outputs": [
    {
     "data": {
      "image/png": "[encoded data removed]",
      "text/plain": [
       "<Figure size 864x432 with 1 Axes>"
      ]
     },
     "metadata": {
      "needs_background": "light"
     },
     "output_type": "display_data"
    }
   ],
   "source": [
    "(recent_platform_data_all.pivot_table(index='genre', values='total_sales')\n",
    ".sort_values('total_sales', ascending=False)\n",
    ".plot(kind='bar', y='total_sales', figsize=(12, 6), legend=False)\n",
    ".set(xlabel='Жанр', ylabel='Общие продажи'))\n",
    "\n",
    "plt.show()"
   ]
  },
  {
   "cell_type": "code",
   "execution_count": 54,
   "id": "55b4e576",
   "metadata": {},
   "outputs": [],
   "source": [
    "genre_analysis_pivot_table = recent_platform_data_all.groupby('genre').agg({'name':'count','total_sales':['median','sum']})"
   ]
  },
  {
   "cell_type": "code",
   "execution_count": 55,
   "id": "e3cbf202",
   "metadata": {},
   "outputs": [],
   "source": [
    "genre_analysis_pivot_table.columns = ['count', 'median','sum']"
   ]
  },
  {
   "cell_type": "code",
   "execution_count": 56,
   "id": "52c8e681",
   "metadata": {},
   "outputs": [],
   "source": [
    "genre_analysis_pivot_table = genre_analysis_pivot_table.sort_values(by = 'sum', ascending = False)"
   ]
  },
  {
   "cell_type": "code",
   "execution_count": 57,
   "id": "25d9428b",
   "metadata": {
    "scrolled": true
   },
   "outputs": [
    {
     "data": {
      "text/html": [
       "<div>\n",
       "<style scoped>\n",
       "    .dataframe tbody tr th:only-of-type {\n",
       "        vertical-align: middle;\n",
       "    }\n",
       "\n",
       "    .dataframe tbody tr th {\n",
       "        vertical-align: top;\n",
       "    }\n",
       "\n",
       "    .dataframe thead th {\n",
       "        text-align: right;\n",
       "    }\n",
       "</style>\n",
       "<table border=\"1\" class=\"dataframe\">\n",
       "  <thead>\n",
       "    <tr style=\"text-align: right;\">\n",
       "      <th></th>\n",
       "      <th>count</th>\n",
       "      <th>median</th>\n",
       "      <th>sum</th>\n",
       "    </tr>\n",
       "    <tr>\n",
       "      <th>genre</th>\n",
       "      <th></th>\n",
       "      <th></th>\n",
       "      <th></th>\n",
       "    </tr>\n",
       "  </thead>\n",
       "  <tbody>\n",
       "    <tr>\n",
       "      <td>Action</td>\n",
       "      <td>764</td>\n",
       "      <td>0.110</td>\n",
       "      <td>321.37</td>\n",
       "    </tr>\n",
       "    <tr>\n",
       "      <td>Shooter</td>\n",
       "      <td>187</td>\n",
       "      <td>0.450</td>\n",
       "      <td>232.98</td>\n",
       "    </tr>\n",
       "    <tr>\n",
       "      <td>Sports</td>\n",
       "      <td>213</td>\n",
       "      <td>0.240</td>\n",
       "      <td>150.62</td>\n",
       "    </tr>\n",
       "    <tr>\n",
       "      <td>Role-Playing</td>\n",
       "      <td>292</td>\n",
       "      <td>0.125</td>\n",
       "      <td>145.89</td>\n",
       "    </tr>\n",
       "    <tr>\n",
       "      <td>Misc</td>\n",
       "      <td>154</td>\n",
       "      <td>0.105</td>\n",
       "      <td>62.74</td>\n",
       "    </tr>\n",
       "    <tr>\n",
       "      <td>Platform</td>\n",
       "      <td>72</td>\n",
       "      <td>0.225</td>\n",
       "      <td>41.94</td>\n",
       "    </tr>\n",
       "    <tr>\n",
       "      <td>Racing</td>\n",
       "      <td>85</td>\n",
       "      <td>0.120</td>\n",
       "      <td>39.89</td>\n",
       "    </tr>\n",
       "    <tr>\n",
       "      <td>Fighting</td>\n",
       "      <td>80</td>\n",
       "      <td>0.125</td>\n",
       "      <td>35.31</td>\n",
       "    </tr>\n",
       "    <tr>\n",
       "      <td>Adventure</td>\n",
       "      <td>244</td>\n",
       "      <td>0.030</td>\n",
       "      <td>23.61</td>\n",
       "    </tr>\n",
       "    <tr>\n",
       "      <td>Simulation</td>\n",
       "      <td>61</td>\n",
       "      <td>0.100</td>\n",
       "      <td>21.55</td>\n",
       "    </tr>\n",
       "    <tr>\n",
       "      <td>Strategy</td>\n",
       "      <td>56</td>\n",
       "      <td>0.080</td>\n",
       "      <td>10.08</td>\n",
       "    </tr>\n",
       "    <tr>\n",
       "      <td>Puzzle</td>\n",
       "      <td>17</td>\n",
       "      <td>0.060</td>\n",
       "      <td>3.17</td>\n",
       "    </tr>\n",
       "  </tbody>\n",
       "</table>\n",
       "</div>"
      ],
      "text/plain": [
       "              count  median     sum\n",
       "genre                              \n",
       "Action          764   0.110  321.37\n",
       "Shooter         187   0.450  232.98\n",
       "Sports          213   0.240  150.62\n",
       "Role-Playing    292   0.125  145.89\n",
       "Misc            154   0.105   62.74\n",
       "Platform         72   0.225   41.94\n",
       "Racing           85   0.120   39.89\n",
       "Fighting         80   0.125   35.31\n",
       "Adventure       244   0.030   23.61\n",
       "Simulation       61   0.100   21.55\n",
       "Strategy         56   0.080   10.08\n",
       "Puzzle           17   0.060    3.17"
      ]
     },
     "execution_count": 57,
     "metadata": {},
     "output_type": "execute_result"
    }
   ],
   "source": [
    "genre_analysis_pivot_table"
   ]
  },
  {
   "cell_type": "markdown",
   "id": "2d468c7d",
   "metadata": {},
   "source": [
    "Из данных видно, что не всегда количество игр в жанре гарантирует хорошие продажи. В жанре Adventure выпущено много игр, но присутствует маленькое медианное значение продаж. Но можно так же заметить обратные случаи. Например в жанре Simulation медианное значение продаж приближается к максимуму среди всех остальных жанров, но кол-во игр значительно меньше. Если брать самые прибыльные жанры, то замечаем, что они сочетают в себе два параметра - большое кол-во игр и высокое медианное значение. "
   ]
  },
  {
   "cell_type": "markdown",
   "id": "b6aac93a",
   "metadata": {},
   "source": [
    "# 4. Потрет пользователей"
   ]
  },
  {
   "cell_type": "markdown",
   "id": "684193b6",
   "metadata": {},
   "source": [
    "Составим портрет пользователя каждого региона. Определим для пользователя каждого региона (NA, EU, JP):\n",
    "\n",
    "- Самые популярные платформы (топ-5). Опишем различия в долях продаж.\n",
    "- Самые популярные жанры (топ-5). Поясним разницу.\n",
    "- Определим влияет ли рейтинг ESRB на продажи в отдельном регионе?"
   ]
  },
  {
   "cell_type": "code",
   "execution_count": 58,
   "id": "6d7581a9",
   "metadata": {},
   "outputs": [
    {
     "data": {
      "text/html": [
       "<div>\n",
       "<style scoped>\n",
       "    .dataframe tbody tr th:only-of-type {\n",
       "        vertical-align: middle;\n",
       "    }\n",
       "\n",
       "    .dataframe tbody tr th {\n",
       "        vertical-align: top;\n",
       "    }\n",
       "\n",
       "    .dataframe thead th {\n",
       "        text-align: right;\n",
       "    }\n",
       "</style>\n",
       "<table border=\"1\" class=\"dataframe\">\n",
       "  <thead>\n",
       "    <tr style=\"text-align: right;\">\n",
       "      <th></th>\n",
       "      <th>name</th>\n",
       "      <th>platform</th>\n",
       "      <th>year_of_release</th>\n",
       "      <th>genre</th>\n",
       "      <th>na_sales</th>\n",
       "      <th>eu_sales</th>\n",
       "      <th>jp_sales</th>\n",
       "      <th>other_sales</th>\n",
       "      <th>critic_score</th>\n",
       "      <th>user_score</th>\n",
       "      <th>rating</th>\n",
       "      <th>total_sales</th>\n",
       "    </tr>\n",
       "  </thead>\n",
       "  <tbody>\n",
       "    <tr>\n",
       "      <td>16</td>\n",
       "      <td>Grand Theft Auto V</td>\n",
       "      <td>PS3</td>\n",
       "      <td>2013.0</td>\n",
       "      <td>Action</td>\n",
       "      <td>7.02</td>\n",
       "      <td>9.09</td>\n",
       "      <td>0.98</td>\n",
       "      <td>3.96</td>\n",
       "      <td>97.0</td>\n",
       "      <td>8.2</td>\n",
       "      <td>15</td>\n",
       "      <td>21.05</td>\n",
       "    </tr>\n",
       "    <tr>\n",
       "      <td>23</td>\n",
       "      <td>Grand Theft Auto V</td>\n",
       "      <td>X360</td>\n",
       "      <td>2013.0</td>\n",
       "      <td>Action</td>\n",
       "      <td>9.66</td>\n",
       "      <td>5.14</td>\n",
       "      <td>0.06</td>\n",
       "      <td>1.41</td>\n",
       "      <td>97.0</td>\n",
       "      <td>8.1</td>\n",
       "      <td>15</td>\n",
       "      <td>16.27</td>\n",
       "    </tr>\n",
       "    <tr>\n",
       "      <td>31</td>\n",
       "      <td>Call of Duty: Black Ops 3</td>\n",
       "      <td>PS4</td>\n",
       "      <td>2015.0</td>\n",
       "      <td>Shooter</td>\n",
       "      <td>6.03</td>\n",
       "      <td>5.86</td>\n",
       "      <td>0.36</td>\n",
       "      <td>2.38</td>\n",
       "      <td>NaN</td>\n",
       "      <td>NaN</td>\n",
       "      <td>no_info</td>\n",
       "      <td>14.63</td>\n",
       "    </tr>\n",
       "    <tr>\n",
       "      <td>33</td>\n",
       "      <td>Pokemon X/Pokemon Y</td>\n",
       "      <td>3DS</td>\n",
       "      <td>2013.0</td>\n",
       "      <td>Role-Playing</td>\n",
       "      <td>5.28</td>\n",
       "      <td>4.19</td>\n",
       "      <td>4.35</td>\n",
       "      <td>0.78</td>\n",
       "      <td>NaN</td>\n",
       "      <td>NaN</td>\n",
       "      <td>no_info</td>\n",
       "      <td>14.60</td>\n",
       "    </tr>\n",
       "    <tr>\n",
       "      <td>42</td>\n",
       "      <td>Grand Theft Auto V</td>\n",
       "      <td>PS4</td>\n",
       "      <td>2014.0</td>\n",
       "      <td>Action</td>\n",
       "      <td>3.96</td>\n",
       "      <td>6.31</td>\n",
       "      <td>0.38</td>\n",
       "      <td>1.97</td>\n",
       "      <td>97.0</td>\n",
       "      <td>8.3</td>\n",
       "      <td>15</td>\n",
       "      <td>12.62</td>\n",
       "    </tr>\n",
       "  </tbody>\n",
       "</table>\n",
       "</div>"
      ],
      "text/plain": [
       "                         name platform  year_of_release         genre  \\\n",
       "16         Grand Theft Auto V      PS3           2013.0        Action   \n",
       "23         Grand Theft Auto V     X360           2013.0        Action   \n",
       "31  Call of Duty: Black Ops 3      PS4           2015.0       Shooter   \n",
       "33        Pokemon X/Pokemon Y      3DS           2013.0  Role-Playing   \n",
       "42         Grand Theft Auto V      PS4           2014.0        Action   \n",
       "\n",
       "    na_sales  eu_sales  jp_sales  other_sales  critic_score  user_score  \\\n",
       "16      7.02      9.09      0.98         3.96          97.0         8.2   \n",
       "23      9.66      5.14      0.06         1.41          97.0         8.1   \n",
       "31      6.03      5.86      0.36         2.38           NaN         NaN   \n",
       "33      5.28      4.19      4.35         0.78           NaN         NaN   \n",
       "42      3.96      6.31      0.38         1.97          97.0         8.3   \n",
       "\n",
       "     rating  total_sales  \n",
       "16       15        21.05  \n",
       "23       15        16.27  \n",
       "31  no_info        14.63  \n",
       "33  no_info        14.60  \n",
       "42       15        12.62  "
      ]
     },
     "execution_count": 58,
     "metadata": {},
     "output_type": "execute_result"
    }
   ],
   "source": [
    "recent_platform_data_all.head()"
   ]
  },
  {
   "cell_type": "code",
   "execution_count": 59,
   "id": "2360c835",
   "metadata": {},
   "outputs": [
    {
     "name": "stdout",
     "output_type": "stream",
     "text": [
      "sum_sales    437.14\n",
      "dtype: float64\n",
      "          sum_sales\n",
      "platform           \n",
      "PS4          108.74\n",
      "XOne          93.12\n",
      "X360          81.66\n",
      "PS3           63.50\n",
      "3DS           38.20\n",
      "WiiU          29.21\n",
      "PC            11.11\n",
      "Wii            6.56\n",
      "PSV            5.04\n",
      "PSP            0.00\n"
     ]
    }
   ],
   "source": [
    "platforms = (recent_platform_data_all #сводная таблица для NA региона \n",
    "    .groupby('platform')\n",
    "    .agg({'na_sales':['sum']})\n",
    "    .sort_values(by=('na_sales', 'sum'), ascending=False)\n",
    "    .copy()\n",
    ")\n",
    "platforms.columns = ['sum_sales']\n",
    "total_sum_sales = platforms.sum()\n",
    "print(total_sum_sales)\n",
    "print(platforms)"
   ]
  },
  {
   "cell_type": "code",
   "execution_count": 60,
   "id": "36b7fae0",
   "metadata": {},
   "outputs": [
    {
     "data": {
      "text/plain": [
       "Text(0, 0.5, 'Процент от всех продаж')"
      ]
     },
     "execution_count": 60,
     "metadata": {},
     "output_type": "execute_result"
    },
    {
     "data": {
      "image/png": "[encoded data removed]",
      "text/plain": [
       "<Figure size 720x720 with 1 Axes>"
      ]
     },
     "metadata": {},
     "output_type": "display_data"
    }
   ],
   "source": [
    "#создадим pie диаграмму для NA, так как считаю её наиболее информативной для данного вопроса\n",
    "platforms['sales_share'] = (platforms['sum_sales'] / total_sum_sales['sum_sales'])\n",
    "platforms['sales_share'].plot(kind='pie', autopct='%1.2f', figsize =(10,10),legend = True)\n",
    "plt.title('Доли продажи платформ в NA')\n",
    "plt.ylabel('Процент от всех продаж')"
   ]
  },
  {
   "cell_type": "code",
   "execution_count": 61,
   "id": "075bfd3e",
   "metadata": {},
   "outputs": [
    {
     "name": "stdout",
     "output_type": "stream",
     "text": [
      "sum_sales    437.14\n",
      "dtype: float64\n",
      "              sum_sales\n",
      "genre                  \n",
      "Action           125.83\n",
      "Shooter          109.74\n",
      "Sports            65.27\n",
      "Role-Playing      46.40\n",
      "Misc              27.46\n",
      "Platform          17.93\n",
      "Fighting          15.55\n",
      "Racing            12.96\n",
      "Adventure          7.14\n",
      "Simulation         4.75\n",
      "Strategy           3.28\n",
      "Puzzle             0.83\n"
     ]
    }
   ],
   "source": [
    "genres = (recent_platform_data_all #сводная таблица по жанрам для NA\n",
    "    .groupby('genre')\n",
    "    .agg({'na_sales':['sum']})\n",
    "    .sort_values(by=('na_sales', 'sum'), ascending=False)\n",
    "    .copy()\n",
    ")\n",
    "genres.columns = ['sum_sales']\n",
    "total_sum_sales = genres.sum()\n",
    "print(total_sum_sales)\n",
    "print(genres)"
   ]
  },
  {
   "cell_type": "code",
   "execution_count": 62,
   "id": "756d740f",
   "metadata": {},
   "outputs": [
    {
     "data": {
      "text/plain": [
       "Text(0, 0.5, 'Процент от всех продаж')"
      ]
     },
     "execution_count": 62,
     "metadata": {},
     "output_type": "execute_result"
    },
    {
     "data": {
      "image/png": "[encoded data removed]",
      "text/plain": [
       "<Figure size 720x720 with 1 Axes>"
      ]
     },
     "metadata": {},
     "output_type": "display_data"
    }
   ],
   "source": [
    "genres['sales_share'] = (genres['sum_sales'] / total_sum_sales['sum_sales'])\n",
    "genres['sales_share'].plot(kind='pie', autopct='%1.2f', figsize =(10,10),legend = True)\n",
    "plt.title('Доли продаж по жанрам в NA')\n",
    "plt.ylabel('Процент от всех продаж')"
   ]
  },
  {
   "cell_type": "code",
   "execution_count": 63,
   "id": "add9c66a",
   "metadata": {},
   "outputs": [
    {
     "name": "stdout",
     "output_type": "stream",
     "text": [
      "sum_sales    437.14\n",
      "dtype: float64\n",
      "         sum_sales\n",
      "rating            \n",
      "15.0        165.21\n",
      "no_info      89.18\n",
      "6.0          78.94\n",
      "10.0         54.02\n",
      "13.0         49.79\n"
     ]
    }
   ],
   "source": [
    "ratings = (recent_platform_data_all #сводная таблица для рейтинга в NA\n",
    "    .groupby('rating')\n",
    "    .agg({'na_sales':['sum']})\n",
    "    .sort_values(by=('na_sales', 'sum'), ascending=False)\n",
    "    .copy()\n",
    ")\n",
    "ratings.columns = ['sum_sales']\n",
    "total_sum_sales = ratings.sum()\n",
    "print(total_sum_sales)\n",
    "print(ratings)"
   ]
  },
  {
   "cell_type": "code",
   "execution_count": 64,
   "id": "3872386f",
   "metadata": {},
   "outputs": [
    {
     "data": {
      "text/plain": [
       "Text(0, 0.5, 'Процент от всех продаж и возраста ')"
      ]
     },
     "execution_count": 64,
     "metadata": {},
     "output_type": "execute_result"
    },
    {
     "data": {
      "image/png": "[encoded data removed]",
      "text/plain": [
       "<Figure size 720x720 with 1 Axes>"
      ]
     },
     "metadata": {},
     "output_type": "display_data"
    }
   ],
   "source": [
    "ratings['sales_share'] = (ratings['sum_sales'] / total_sum_sales['sum_sales'])\n",
    "ratings['sales_share'].plot(kind='pie', autopct='%1.2f', figsize =(10,10),legend = True)\n",
    "plt.title('Доли продаж по рейтингам  ESRB в NA')\n",
    "plt.ylabel('Процент от всех продаж и возраста ')"
   ]
  },
  {
   "cell_type": "markdown",
   "id": "9009f980",
   "metadata": {},
   "source": [
    "**ВЫВОДЫ ПО NA**"
   ]
  },
  {
   "cell_type": "markdown",
   "id": "5fc2e3d7",
   "metadata": {},
   "source": [
    "- В NA самыми популярными платформами являются - X360, PS3, Wii, DS, PS4\n",
    "- В NA топ 5 популярных жанров Action, Sports, Shooter, Misc, Role-Playing. Самыми популярынми жанрами являются - Action, Shooter, Sports, Misc, Role-Playing. \n",
    "- В NA самыми продаваемыми играми являются игры 15+ и 6+"
   ]
  },
  {
   "cell_type": "markdown",
   "id": "1a7b75e2",
   "metadata": {},
   "source": [
    "**Разбрем EU регион**"
   ]
  },
  {
   "cell_type": "code",
   "execution_count": 65,
   "id": "d62fd3e5",
   "metadata": {},
   "outputs": [
    {
     "name": "stdout",
     "output_type": "stream",
     "text": [
      "sum_sales    391.38\n",
      "dtype: float64\n",
      "          sum_sales\n",
      "platform           \n",
      "PS4          141.09\n",
      "PS3           67.81\n",
      "XOne          51.59\n",
      "X360          42.52\n",
      "3DS           30.96\n",
      "PC            25.36\n",
      "WiiU          19.85\n",
      "PSV            6.10\n",
      "Wii            5.93\n",
      "PSP            0.17\n"
     ]
    }
   ],
   "source": [
    "platforms = (recent_platform_data_all\n",
    "    .groupby('platform')\n",
    "    .agg({'eu_sales':['sum']})\n",
    "    .sort_values(by=('eu_sales', 'sum'), ascending=False)\n",
    "    .copy()\n",
    ")\n",
    "platforms.columns = ['sum_sales']\n",
    "total_sum_sales = platforms.sum()\n",
    "print(total_sum_sales)\n",
    "print(platforms)"
   ]
  },
  {
   "cell_type": "code",
   "execution_count": 66,
   "id": "a8aecf95",
   "metadata": {},
   "outputs": [
    {
     "data": {
      "text/plain": [
       "Text(0, 0.5, 'Процент от всех продаж')"
      ]
     },
     "execution_count": 66,
     "metadata": {},
     "output_type": "execute_result"
    },
    {
     "data": {
      "image/png": "[encoded data removed]",
      "text/plain": [
       "<Figure size 720x720 with 1 Axes>"
      ]
     },
     "metadata": {},
     "output_type": "display_data"
    }
   ],
   "source": [
    "platforms['sales_share'] = (platforms['sum_sales'] / total_sum_sales['sum_sales'])\n",
    "platforms['sales_share'].plot(kind='pie', autopct='%1.2f', figsize =(10,10),legend = True)\n",
    "plt.title('Доли продажи платформ в EU')\n",
    "plt.ylabel('Процент от всех продаж')"
   ]
  },
  {
   "cell_type": "code",
   "execution_count": 67,
   "id": "847ca3fd",
   "metadata": {},
   "outputs": [
    {
     "name": "stdout",
     "output_type": "stream",
     "text": [
      "sum_sales    391.38\n",
      "dtype: float64\n",
      "              sum_sales\n",
      "genre                  \n",
      "Action           117.89\n",
      "Shooter           87.86\n",
      "Sports            60.49\n",
      "Role-Playing      36.97\n",
      "Racing            20.19\n",
      "Misc              20.00\n",
      "Platform          15.15\n",
      "Simulation        10.84\n",
      "Fighting           8.55\n",
      "Adventure          8.22\n",
      "Strategy           4.22\n",
      "Puzzle             1.00\n"
     ]
    }
   ],
   "source": [
    "genres = (recent_platform_data_all\n",
    "    .groupby('genre')\n",
    "    .agg({'eu_sales':['sum']})\n",
    "    .sort_values(by=('eu_sales', 'sum'), ascending=False)\n",
    "    .copy()\n",
    ")\n",
    "genres.columns = ['sum_sales']\n",
    "total_sum_sales = genres.sum()\n",
    "print(total_sum_sales)\n",
    "print(genres)"
   ]
  },
  {
   "cell_type": "code",
   "execution_count": 68,
   "id": "062a18a7",
   "metadata": {},
   "outputs": [
    {
     "data": {
      "text/plain": [
       "Text(0, 0.5, 'Процент от всех продаж')"
      ]
     },
     "execution_count": 68,
     "metadata": {},
     "output_type": "execute_result"
    },
    {
     "data": {
      "image/png": "[encoded data removed]",
      "text/plain": [
       "<Figure size 720x720 with 1 Axes>"
      ]
     },
     "metadata": {},
     "output_type": "display_data"
    }
   ],
   "source": [
    "genres['sales_share'] = (genres['sum_sales'] / total_sum_sales['sum_sales'])\n",
    "genres['sales_share'].plot(kind='pie', autopct='%1.2f', figsize =(10,10),legend = True)\n",
    "plt.title('Продажи по жанрам в EU')\n",
    "plt.ylabel('Процент от всех продаж')"
   ]
  },
  {
   "cell_type": "code",
   "execution_count": 69,
   "id": "72630a14",
   "metadata": {},
   "outputs": [
    {
     "name": "stdout",
     "output_type": "stream",
     "text": [
      "sum_sales    391.38\n",
      "dtype: float64\n",
      "         sum_sales\n",
      "rating            \n",
      "15.0        145.32\n",
      "6.0          82.97\n",
      "no_info      78.61\n",
      "10.0         42.53\n",
      "13.0         41.95\n"
     ]
    }
   ],
   "source": [
    "ratings = (recent_platform_data_all\n",
    "    .groupby('rating')\n",
    "    .agg({'eu_sales':['sum']})\n",
    "    .sort_values(by=('eu_sales', 'sum'), ascending=False)\n",
    "    .copy()\n",
    ")\n",
    "ratings.columns = ['sum_sales']\n",
    "total_sum_sales = ratings.sum()\n",
    "print(total_sum_sales)\n",
    "print(ratings)"
   ]
  },
  {
   "cell_type": "code",
   "execution_count": 70,
   "id": "ecae30af",
   "metadata": {},
   "outputs": [
    {
     "data": {
      "text/plain": [
       "Text(0, 0.5, 'Процент от всех продаж и возраста')"
      ]
     },
     "execution_count": 70,
     "metadata": {},
     "output_type": "execute_result"
    },
    {
     "data": {
      "image/png": "[encoded data removed]",
      "text/plain": [
       "<Figure size 720x720 with 1 Axes>"
      ]
     },
     "metadata": {},
     "output_type": "display_data"
    }
   ],
   "source": [
    "ratings['sales_share'] = (ratings['sum_sales'] / total_sum_sales['sum_sales'])\n",
    "ratings['sales_share'].plot(kind='pie', autopct='%1.2f', figsize =(10,10),legend = True)\n",
    "plt.title('Продажи по рейтингам  ESRB в EU')\n",
    "plt.ylabel('Процент от всех продаж и возраста')"
   ]
  },
  {
   "cell_type": "markdown",
   "id": "d881abc5",
   "metadata": {},
   "source": [
    "**ВЫВОДЫ ПО EU**"
   ]
  },
  {
   "cell_type": "markdown",
   "id": "ba03ace9",
   "metadata": {},
   "source": [
    "- В EU самыми популярными платформами являются: PS3, X360, WiiU, PS4, PC\n",
    "- В EU самыми популярными жанрами являются: Action, Shooter, Sports, Misc, Role-Playing\n",
    "- В EU самыми продаваемыми играми являются игры 15+ и 6+"
   ]
  },
  {
   "cell_type": "markdown",
   "id": "53cb77a2",
   "metadata": {},
   "source": [
    "**Разбрем JP регион**"
   ]
  },
  {
   "cell_type": "code",
   "execution_count": 71,
   "id": "eb6c481e",
   "metadata": {},
   "outputs": [
    {
     "name": "stdout",
     "output_type": "stream",
     "text": [
      "sum_sales    140.78\n",
      "dtype: float64\n",
      "          sum_sales\n",
      "platform           \n",
      "3DS           67.81\n",
      "PS3           23.35\n",
      "PSV           18.59\n",
      "PS4           15.96\n",
      "WiiU          10.88\n",
      "PSP            3.29\n",
      "X360           0.51\n",
      "XOne           0.34\n",
      "Wii            0.05\n",
      "PC             0.00\n"
     ]
    }
   ],
   "source": [
    "platforms = (recent_platform_data_all\n",
    "    .groupby('platform')\n",
    "    .agg({'jp_sales':['sum']})\n",
    "    .sort_values(by=('jp_sales', 'sum'), ascending=False)\n",
    "    .copy()\n",
    ")\n",
    "platforms.columns = ['sum_sales']\n",
    "total_sum_sales = platforms.sum()\n",
    "print(total_sum_sales)\n",
    "print(platforms)"
   ]
  },
  {
   "cell_type": "code",
   "execution_count": 72,
   "id": "b30553b3",
   "metadata": {},
   "outputs": [
    {
     "data": {
      "text/plain": [
       "Text(0, 0.5, 'Процент от всех продаж')"
      ]
     },
     "execution_count": 72,
     "metadata": {},
     "output_type": "execute_result"
    },
    {
     "data": {
      "image/png": "[encoded data removed]",
      "text/plain": [
       "<Figure size 720x720 with 1 Axes>"
      ]
     },
     "metadata": {},
     "output_type": "display_data"
    }
   ],
   "source": [
    "platforms['sales_share'] = (platforms['sum_sales'] / total_sum_sales['sum_sales'])\n",
    "platforms['sales_share'].plot(kind='pie', autopct='%1.2f', figsize =(10,10),legend = True)\n",
    "plt.title('Доли продажи платформ в JP')\n",
    "plt.ylabel('Процент от всех продаж')"
   ]
  },
  {
   "cell_type": "code",
   "execution_count": 73,
   "id": "e4ce7ea4",
   "metadata": {},
   "outputs": [
    {
     "name": "stdout",
     "output_type": "stream",
     "text": [
      "sum_sales    140.78\n",
      "dtype: float64\n",
      "              sum_sales\n",
      "genre                  \n",
      "Role-Playing      51.04\n",
      "Action            40.49\n",
      "Misc               9.20\n",
      "Fighting           7.65\n",
      "Shooter            6.61\n",
      "Adventure          5.82\n",
      "Sports             5.41\n",
      "Platform           4.79\n",
      "Simulation         4.52\n",
      "Racing             2.30\n",
      "Strategy           1.77\n",
      "Puzzle             1.18\n"
     ]
    }
   ],
   "source": [
    "genres = (recent_platform_data_all\n",
    "    .groupby('genre')\n",
    "    .agg({'jp_sales':['sum']})\n",
    "    .sort_values(by=('jp_sales', 'sum'), ascending=False)\n",
    "    .copy()\n",
    ")\n",
    "genres.columns = ['sum_sales']\n",
    "total_sum_sales = genres.sum()\n",
    "print(total_sum_sales)\n",
    "print(genres)"
   ]
  },
  {
   "cell_type": "code",
   "execution_count": 74,
   "id": "2ce04837",
   "metadata": {},
   "outputs": [
    {
     "data": {
      "text/plain": [
       "Text(0, 0.5, 'Процент от всех продаж')"
      ]
     },
     "execution_count": 74,
     "metadata": {},
     "output_type": "execute_result"
    },
    {
     "data": {
      "image/png": "[encoded data removed]",
      "text/plain": [
       "<Figure size 720x720 with 1 Axes>"
      ]
     },
     "metadata": {},
     "output_type": "display_data"
    }
   ],
   "source": [
    "genres['sales_share'] = (genres['sum_sales'] / total_sum_sales['sum_sales'])\n",
    "genres['sales_share'].plot(kind='pie', autopct='%1.2f', figsize =(10,10),legend = True)\n",
    "plt.title('Доли продаж по жанрам в Японии')\n",
    "plt.ylabel('Процент от всех продаж')"
   ]
  },
  {
   "cell_type": "code",
   "execution_count": 75,
   "id": "dc609e60",
   "metadata": {},
   "outputs": [
    {
     "name": "stdout",
     "output_type": "stream",
     "text": [
      "sum_sales    140.78\n",
      "dtype: float64\n",
      "         sum_sales\n",
      "rating            \n",
      "no_info      85.05\n",
      "13.0         20.59\n",
      "6.0          15.14\n",
      "15.0         14.11\n",
      "10.0          5.89\n"
     ]
    }
   ],
   "source": [
    "ratings = (recent_platform_data_all\n",
    "    .groupby('rating')\n",
    "    .agg({'jp_sales':['sum']})\n",
    "    .sort_values(by=('jp_sales', 'sum'), ascending=False)\n",
    "    .copy()\n",
    ")\n",
    "ratings.columns = ['sum_sales']\n",
    "total_sum_sales = ratings.sum()\n",
    "print(total_sum_sales)\n",
    "print(ratings)"
   ]
  },
  {
   "cell_type": "code",
   "execution_count": 76,
   "id": "8197c214",
   "metadata": {},
   "outputs": [
    {
     "data": {
      "text/plain": [
       "Text(0, 0.5, 'Процент от всех продаж и возраста')"
      ]
     },
     "execution_count": 76,
     "metadata": {},
     "output_type": "execute_result"
    },
    {
     "data": {
      "image/png": "[encoded data removed]",
      "text/plain": [
       "<Figure size 720x720 with 1 Axes>"
      ]
     },
     "metadata": {},
     "output_type": "display_data"
    }
   ],
   "source": [
    "ratings['sales_share'] = (ratings['sum_sales'] / total_sum_sales['sum_sales'])\n",
    "ratings['sales_share'].plot(kind='pie', autopct='%1.2f', figsize =(10,10),legend = True)\n",
    "plt.title('Доли продаж по рейтингам  ESRB в Японии')\n",
    "plt.ylabel('Процент от всех продаж и возраста')"
   ]
  },
  {
   "cell_type": "markdown",
   "id": "283f1ba8",
   "metadata": {},
   "source": [
    "**ВЫВОДЫ ПО JP**"
   ]
  },
  {
   "cell_type": "markdown",
   "id": "f679c1c0",
   "metadata": {},
   "source": [
    "- В JP самыми популярными платформами являются: 3DS, PS3, DS, PSP, Wii\n",
    "- В JP самыми популярными жанрами являются: Role-Playing, Action, Misc, Sports, Role-Platform\n",
    "- В JP довольно сложно дать оценку самому мажроному куску в виду отсутствия данных из рейтинга ESRB (предполагаю, потому что в Японии своя система оценки). Но с данными, что есть можно оценить, что рейтинги  6+ и 13+ являются самыми продаваемыми "
   ]
  },
  {
   "cell_type": "markdown",
   "id": "bd06fa99",
   "metadata": {},
   "source": [
    "**РЕЗЕЛЬТАТЫ ПО ВСЕМ РЕГИОНАМ В ОДНОМ МЕСТЕ** \n",
    "\n",
    "1. NA Регион:\n",
    "- В NA самыми популярными платформами являются - PS4, Xone, X360, PS3\n",
    "- В NA топ 5 популярных жанров Action, Sports, Shooter,  Role-Playing.\n",
    "- В NA самыми продаваемыми играми являются игры 15+ и 6+\n",
    "\n",
    "\n",
    "2. EU регион\n",
    "- В EU самыми популярными платформами являются: PS4,PS3, XOne, X360\n",
    "- В EU самыми популярными жанрами являются: Action, Shooter, Sports,Role-Playing\n",
    "- В EU самыми продаваемыми играми являются игры 15+ и 6+\n",
    "\n",
    "\n",
    "3. JP регион \n",
    "- В JP самыми популярными платформами являются: 3DS, PS3, DS, PSV, PS4 \n",
    "- В JP самыми популярными жанрами являются: Role-Playing, Action, Misc, Fighting\n",
    "- В JP довольно сложно дать оценку самому мажроному куску в виду отсутствия данных из рейтинга ESRB (предполагаю, потому что в Японии своя система оценки). Но с данными, что есть можно оценить, что рейтинги 6+ и 13+ являются самыми продаваемыми"
   ]
  },
  {
   "cell_type": "markdown",
   "id": "fd90aec9",
   "metadata": {},
   "source": [
    "# 5. Провека гипотез"
   ]
  },
  {
   "cell_type": "markdown",
   "id": "3ccdeaed",
   "metadata": {},
   "source": [
    "Проверяем две гипотезы: \n",
    "1. Средние пользовательские рейтинги платформ Xbox One и PC одинаковые;\n",
    "2. Средние пользовательские рейтинги жанров Action (англ. «действие», экшен-игры) и Sports (англ. «спортивные соревнования») разные."
   ]
  },
  {
   "cell_type": "markdown",
   "id": "86f67b0e",
   "metadata": {},
   "source": [
    "# 5.1 Средние пользовательские рейтинги платформ Xbox One и PC одинаковые"
   ]
  },
  {
   "cell_type": "markdown",
   "id": "06cacfbb",
   "metadata": {},
   "source": [
    "Нулевая гипотеза H₀:\n",
    "- Средние пользовательские рейтинги платформ Xbox One и PC одинаковые\n",
    "\n",
    "\n",
    "Альтернативная гипотеза H₁:\n",
    "- Средние пользовательские рейтинги платформ Xbox One и PC различаются"
   ]
  },
  {
   "cell_type": "code",
   "execution_count": 77,
   "id": "a9b04f96",
   "metadata": {},
   "outputs": [
    {
     "name": "stdout",
     "output_type": "stream",
     "text": [
      "значение p-value:  0.1401265840361139\n",
      "Не получилось отвергнуть Нулевую гипотезу\n"
     ]
    }
   ],
   "source": [
    "pc = recent_platform_data_all[recent_platform_data_all['platform'] == 'PC'] \n",
    "xone = recent_platform_data_all[recent_platform_data_all['platform'] == 'XOne']\n",
    "\n",
    "alpha = .05\n",
    "results = st.ttest_ind(pc['user_score'], xone['user_score'], nan_policy='omit')\n",
    "print('значение p-value: ', results.pvalue)\n",
    "\n",
    "if (results.pvalue < alpha):\n",
    "    print('Отвергаем Нулевую гипотезу')\n",
    "else:\n",
    "    print('Не получилось отвергнуть Нулевую гипотезу')"
   ]
  },
  {
   "cell_type": "markdown",
   "id": "fc0584ba",
   "metadata": {},
   "source": [
    "- У нас не получилось опровергнуть нулевую гипотезу с альфа - 5%. Исходя из этого в альтернативной гипотезе средние пользовательские рейтинги могут отличаться. Исходя из значения p-value - хоть средний пользовательский рейтинг и не одинаков, но с вероятностью 17%  такое или большее различие можно получить случайно.\n",
    "- По итогу имеем слишком большую вероятность, чтобы делать вывод о значимом различии между пользовательскими рейтингами."
   ]
  },
  {
   "cell_type": "markdown",
   "id": "8535e1dc",
   "metadata": {},
   "source": [
    "# 5.2 Средние пользовательские рейтинги жанров Action и Sports разные."
   ]
  },
  {
   "cell_type": "markdown",
   "id": "ae94718c",
   "metadata": {},
   "source": [
    "Нулевая гипотеза H₀:\n",
    "- Средние пользовательские рейтинги платформ Xbox One и PC одинаковые\n",
    "\n",
    "\n",
    "Альтернативная гипотеза H₁:\n",
    "- Средние пользовательские рейтинги платформ Xbox One и PC различаются"
   ]
  },
  {
   "cell_type": "code",
   "execution_count": 78,
   "id": "58897abf",
   "metadata": {},
   "outputs": [
    {
     "name": "stdout",
     "output_type": "stream",
     "text": [
      "значение p-value:  7.10236653346437e-28\n",
      "Отвергаем Нулевую гипотезу\n"
     ]
    }
   ],
   "source": [
    "action = recent_platform_data_all[recent_platform_data_all['genre'] == 'Action'] \n",
    "sports = recent_platform_data_all[recent_platform_data_all['genre'] == 'Sports']\n",
    "\n",
    "alpha = .05\n",
    "results = st.ttest_ind(action['user_score'], sports['user_score'], nan_policy='omit')\n",
    "print('значение p-value: ', results.pvalue)\n",
    "\n",
    "if (results.pvalue < alpha):\n",
    "    print('Отвергаем Нулевую гипотезу')\n",
    "else:\n",
    "    print('Не получилось отвергнуть Нулевую гипотезу')"
   ]
  },
  {
   "cell_type": "markdown",
   "id": "9a806754",
   "metadata": {},
   "source": [
    "- Мы смогли опровергнуть нулевую гипотезу о равенстве генеральных совокупностей, значит делать выводы по данным разных жанров мы не можем"
   ]
  },
  {
   "cell_type": "markdown",
   "id": "e1ffc2e8",
   "metadata": {},
   "source": [
    "# 6. Общий вывод (обновлены)"
   ]
  },
  {
   "cell_type": "markdown",
   "id": "5c5c430b",
   "metadata": {},
   "source": [
    "С данными проделали работу:\n",
    "- Привели колонки к нижнему регистру\n",
    "- Изменили тип данных в data['user_score']\n",
    "- Заменили числовые рейтинги на категории\n",
    "- В рейтингах заполнили пропуски \n",
    "- Добавили суммарные продажи во всех регионах \n",
    "\n",
    "Проанализировали данные и сделали выводы, что:\n",
    "- Средний срок жизни платформы около 10 лет \n",
    "- Самыми лидирущеми платформами являются PS и XBox\n",
    "- Видно отсутствие корреляции между отзывами пользователей и продажами для PS4. \n",
    "- Видим прямую корреляцию между отзывами критиков и объёмом продаж игр\n",
    "- Самые прибыльными жанрами являются: Action, Shooter, Sports\n",
    "- Самые не прибыльными: Adventure, Strategy, Puzzle\n",
    "\n",
    "Составили портрет пользователей: \n",
    "\n",
    "1. NA Регион:\n",
    "- В NA самыми популярными платформами являются - PS4, Xone, X360, PS3\n",
    "- В NA топ 5 популярных жанров Action, Sports, Shooter,  Role-Playing.\n",
    "- В NA самыми продаваемыми играми являются игры 15+ и 6+\n",
    "\n",
    "\n",
    "2. EU регион\n",
    "- В EU самыми популярными платформами являются: PS4,PS3, XOne, X360\n",
    "- В EU самыми популярными жанрами являются: Action, Shooter, Sports,Role-Playing\n",
    "- В EU самыми продаваемыми играми являются игры 15+ и 6+\n",
    "\n",
    "\n",
    "3. JP регион \n",
    "- В JP самыми популярными платформами являются: 3DS, PS3, DS, PSV, PS4 \n",
    "- В JP самыми популярными жанрами являются: Role-Playing, Action, Misc, Fighting\n",
    "- В JP довольно сложно дать оценку самому мажроному куску в виду отсутствия данных из рейтинга ESRB (предполагаю, потому что в Японии своя система оценки). Но с данными, что есть можно оценить, что рейтинги 6+ и 13+ являются самыми продаваемыми\n",
    "\n",
    "\n",
    "Мы проверили гипотезы:\n",
    "\n",
    "- Средние пользовательские рейтинги платформ Xbox One и PC одинаковые. У нас не получилось опровергнуть нулевую гипотезу о равнстве генеральных совокупностей с альфа= 5%, соответственно по альтернативной гипотезе средние пользовательские рейтинги могут отличатся, опровергнуть ее у нас не получилось.\n",
    "\n",
    "- Средние пользовательские рейтинги жанров Action и Sports разные. У нас получилось опровергнуть нулевую гипотезу о равнстве генеральных совокупностей с альфа= 5%, соответственно делать какие либо выводы по данным от разных жанров"
   ]
  }
 ],
 "metadata": {
  "ExecuteTimeLog": [
   {
    "duration": 1041,
    "start_time": "2022-02-24T21:09:12.270Z"
   },
   {
    "duration": 1935,
    "start_time": "2022-02-24T21:09:13.312Z"
   },
   {
    "duration": -330,
    "start_time": "2022-02-24T21:09:15.581Z"
   },
   {
    "duration": -331,
    "start_time": "2022-02-24T21:09:15.583Z"
   },
   {
    "duration": -333,
    "start_time": "2022-02-24T21:09:15.586Z"
   },
   {
    "duration": -339,
    "start_time": "2022-02-24T21:09:15.593Z"
   },
   {
    "duration": -341,
    "start_time": "2022-02-24T21:09:15.596Z"
   },
   {
    "duration": -342,
    "start_time": "2022-02-24T21:09:15.599Z"
   },
   {
    "duration": -342,
    "start_time": "2022-02-24T21:09:15.600Z"
   },
   {
    "duration": -343,
    "start_time": "2022-02-24T21:09:15.602Z"
   },
   {
    "duration": -349,
    "start_time": "2022-02-24T21:09:15.609Z"
   },
   {
    "duration": -350,
    "start_time": "2022-02-24T21:09:15.612Z"
   },
   {
    "duration": -350,
    "start_time": "2022-02-24T21:09:15.613Z"
   },
   {
    "duration": -351,
    "start_time": "2022-02-24T21:09:15.615Z"
   },
   {
    "duration": -351,
    "start_time": "2022-02-24T21:09:15.616Z"
   },
   {
    "duration": -353,
    "start_time": "2022-02-24T21:09:15.619Z"
   },
   {
    "duration": -360,
    "start_time": "2022-02-24T21:09:15.627Z"
   },
   {
    "duration": -363,
    "start_time": "2022-02-24T21:09:15.630Z"
   },
   {
    "duration": -363,
    "start_time": "2022-02-24T21:09:15.631Z"
   },
   {
    "duration": -363,
    "start_time": "2022-02-24T21:09:15.633Z"
   },
   {
    "duration": -364,
    "start_time": "2022-02-24T21:09:15.635Z"
   },
   {
    "duration": -370,
    "start_time": "2022-02-24T21:09:15.642Z"
   },
   {
    "duration": -371,
    "start_time": "2022-02-24T21:09:15.644Z"
   },
   {
    "duration": -371,
    "start_time": "2022-02-24T21:09:15.645Z"
   },
   {
    "duration": -372,
    "start_time": "2022-02-24T21:09:15.647Z"
   },
   {
    "duration": -372,
    "start_time": "2022-02-24T21:09:15.648Z"
   },
   {
    "duration": -373,
    "start_time": "2022-02-24T21:09:15.650Z"
   },
   {
    "duration": -374,
    "start_time": "2022-02-24T21:09:15.652Z"
   },
   {
    "duration": -380,
    "start_time": "2022-02-24T21:09:15.659Z"
   },
   {
    "duration": -381,
    "start_time": "2022-02-24T21:09:15.661Z"
   },
   {
    "duration": -380,
    "start_time": "2022-02-24T21:09:15.662Z"
   },
   {
    "duration": -381,
    "start_time": "2022-02-24T21:09:15.664Z"
   },
   {
    "duration": -381,
    "start_time": "2022-02-24T21:09:15.665Z"
   },
   {
    "duration": -383,
    "start_time": "2022-02-24T21:09:15.667Z"
   },
   {
    "duration": -384,
    "start_time": "2022-02-24T21:09:15.669Z"
   },
   {
    "duration": -390,
    "start_time": "2022-02-24T21:09:15.676Z"
   },
   {
    "duration": -391,
    "start_time": "2022-02-24T21:09:15.678Z"
   },
   {
    "duration": -362,
    "start_time": "2022-02-24T21:09:15.680Z"
   },
   {
    "duration": -362,
    "start_time": "2022-02-24T21:09:15.681Z"
   },
   {
    "duration": -362,
    "start_time": "2022-02-24T21:09:15.683Z"
   },
   {
    "duration": -363,
    "start_time": "2022-02-24T21:09:15.685Z"
   },
   {
    "duration": -368,
    "start_time": "2022-02-24T21:09:15.692Z"
   },
   {
    "duration": -368,
    "start_time": "2022-02-24T21:09:15.693Z"
   },
   {
    "duration": -368,
    "start_time": "2022-02-24T21:09:15.695Z"
   },
   {
    "duration": -368,
    "start_time": "2022-02-24T21:09:15.696Z"
   },
   {
    "duration": -369,
    "start_time": "2022-02-24T21:09:15.698Z"
   },
   {
    "duration": -369,
    "start_time": "2022-02-24T21:09:15.699Z"
   },
   {
    "duration": -369,
    "start_time": "2022-02-24T21:09:15.701Z"
   },
   {
    "duration": -375,
    "start_time": "2022-02-24T21:09:15.708Z"
   },
   {
    "duration": -376,
    "start_time": "2022-02-24T21:09:15.710Z"
   },
   {
    "duration": -376,
    "start_time": "2022-02-24T21:09:15.711Z"
   },
   {
    "duration": -377,
    "start_time": "2022-02-24T21:09:15.713Z"
   },
   {
    "duration": -377,
    "start_time": "2022-02-24T21:09:15.714Z"
   },
   {
    "duration": -377,
    "start_time": "2022-02-24T21:09:15.715Z"
   },
   {
    "duration": -377,
    "start_time": "2022-02-24T21:09:15.717Z"
   },
   {
    "duration": -383,
    "start_time": "2022-02-24T21:09:15.724Z"
   },
   {
    "duration": -384,
    "start_time": "2022-02-24T21:09:15.726Z"
   },
   {
    "duration": -383,
    "start_time": "2022-02-24T21:09:15.727Z"
   },
   {
    "duration": -384,
    "start_time": "2022-02-24T21:09:15.729Z"
   },
   {
    "duration": -384,
    "start_time": "2022-02-24T21:09:15.730Z"
   },
   {
    "duration": -402,
    "start_time": "2022-02-24T21:09:15.749Z"
   },
   {
    "duration": -412,
    "start_time": "2022-02-24T21:09:15.760Z"
   },
   {
    "duration": -411,
    "start_time": "2022-02-24T21:09:15.761Z"
   },
   {
    "duration": -412,
    "start_time": "2022-02-24T21:09:15.763Z"
   },
   {
    "duration": 177,
    "start_time": "2022-02-24T21:11:24.087Z"
   },
   {
    "duration": 1032,
    "start_time": "2022-02-24T21:11:30.182Z"
   },
   {
    "duration": 184,
    "start_time": "2022-02-24T21:11:31.216Z"
   },
   {
    "duration": 10,
    "start_time": "2022-02-24T21:11:31.404Z"
   },
   {
    "duration": 9,
    "start_time": "2022-02-24T21:11:31.416Z"
   },
   {
    "duration": 5,
    "start_time": "2022-02-24T21:11:31.427Z"
   },
   {
    "duration": 9,
    "start_time": "2022-02-24T21:11:31.433Z"
   },
   {
    "duration": 10,
    "start_time": "2022-02-24T21:11:31.445Z"
   },
   {
    "duration": 14,
    "start_time": "2022-02-24T21:11:31.457Z"
   },
   {
    "duration": 53,
    "start_time": "2022-02-24T21:11:31.472Z"
   },
   {
    "duration": 6,
    "start_time": "2022-02-24T21:11:31.527Z"
   },
   {
    "duration": 5,
    "start_time": "2022-02-24T21:11:31.534Z"
   },
   {
    "duration": 9,
    "start_time": "2022-02-24T21:11:31.541Z"
   },
   {
    "duration": 9,
    "start_time": "2022-02-24T21:11:31.552Z"
   },
   {
    "duration": 5,
    "start_time": "2022-02-24T21:11:31.563Z"
   },
   {
    "duration": 15,
    "start_time": "2022-02-24T21:11:31.570Z"
   },
   {
    "duration": 37,
    "start_time": "2022-02-24T21:11:31.587Z"
   },
   {
    "duration": 321,
    "start_time": "2022-02-24T21:11:31.626Z"
   },
   {
    "duration": 16,
    "start_time": "2022-02-24T21:11:31.949Z"
   },
   {
    "duration": 22,
    "start_time": "2022-02-24T21:11:31.967Z"
   },
   {
    "duration": 29,
    "start_time": "2022-02-24T21:11:31.990Z"
   },
   {
    "duration": 6,
    "start_time": "2022-02-24T21:11:32.021Z"
   },
   {
    "duration": 16,
    "start_time": "2022-02-24T21:11:32.031Z"
   },
   {
    "duration": 25,
    "start_time": "2022-02-24T21:11:32.049Z"
   },
   {
    "duration": 7,
    "start_time": "2022-02-24T21:11:32.076Z"
   },
   {
    "duration": 176,
    "start_time": "2022-02-24T21:11:32.085Z"
   },
   {
    "duration": 7,
    "start_time": "2022-02-24T21:11:32.263Z"
   },
   {
    "duration": 159,
    "start_time": "2022-02-24T21:11:32.272Z"
   },
   {
    "duration": 11,
    "start_time": "2022-02-24T21:11:32.432Z"
   },
   {
    "duration": 168,
    "start_time": "2022-02-24T21:11:32.445Z"
   },
   {
    "duration": 10,
    "start_time": "2022-02-24T21:11:32.614Z"
   },
   {
    "duration": 157,
    "start_time": "2022-02-24T21:11:32.626Z"
   },
   {
    "duration": 9,
    "start_time": "2022-02-24T21:11:32.785Z"
   },
   {
    "duration": 162,
    "start_time": "2022-02-24T21:11:32.796Z"
   },
   {
    "duration": 9,
    "start_time": "2022-02-24T21:11:32.960Z"
   },
   {
    "duration": 387,
    "start_time": "2022-02-24T21:11:32.971Z"
   },
   {
    "duration": 378,
    "start_time": "2022-02-24T21:11:33.360Z"
   },
   {
    "duration": 4,
    "start_time": "2022-02-24T21:11:33.739Z"
   },
   {
    "duration": 16,
    "start_time": "2022-02-24T21:11:33.744Z"
   },
   {
    "duration": 12,
    "start_time": "2022-02-24T21:11:33.761Z"
   },
   {
    "duration": 11,
    "start_time": "2022-02-24T21:11:33.774Z"
   },
   {
    "duration": 43,
    "start_time": "2022-02-24T21:11:33.787Z"
   },
   {
    "duration": 14,
    "start_time": "2022-02-24T21:11:33.831Z"
   },
   {
    "duration": 15,
    "start_time": "2022-02-24T21:11:33.847Z"
   },
   {
    "duration": 13,
    "start_time": "2022-02-24T21:11:33.864Z"
   },
   {
    "duration": 13,
    "start_time": "2022-02-24T21:11:33.878Z"
   },
   {
    "duration": 293,
    "start_time": "2022-02-24T21:11:33.893Z"
   },
   {
    "duration": 13,
    "start_time": "2022-02-24T21:11:34.187Z"
   },
   {
    "duration": 370,
    "start_time": "2022-02-24T21:11:34.202Z"
   },
   {
    "duration": 12,
    "start_time": "2022-02-24T21:11:34.574Z"
   },
   {
    "duration": 238,
    "start_time": "2022-02-24T21:11:34.587Z"
   },
   {
    "duration": 12,
    "start_time": "2022-02-24T21:11:34.826Z"
   },
   {
    "duration": 296,
    "start_time": "2022-02-24T21:11:34.839Z"
   },
   {
    "duration": 12,
    "start_time": "2022-02-24T21:11:35.137Z"
   },
   {
    "duration": 309,
    "start_time": "2022-02-24T21:11:35.150Z"
   },
   {
    "duration": 12,
    "start_time": "2022-02-24T21:11:35.461Z"
   },
   {
    "duration": 251,
    "start_time": "2022-02-24T21:11:35.474Z"
   },
   {
    "duration": 11,
    "start_time": "2022-02-24T21:11:35.727Z"
   },
   {
    "duration": 285,
    "start_time": "2022-02-24T21:11:35.739Z"
   },
   {
    "duration": 11,
    "start_time": "2022-02-24T21:11:36.026Z"
   },
   {
    "duration": 313,
    "start_time": "2022-02-24T21:11:36.038Z"
   },
   {
    "duration": 12,
    "start_time": "2022-02-24T21:11:36.352Z"
   },
   {
    "duration": 233,
    "start_time": "2022-02-24T21:11:36.365Z"
   },
   {
    "duration": 19,
    "start_time": "2022-02-24T21:11:36.600Z"
   },
   {
    "duration": 9,
    "start_time": "2022-02-24T21:11:36.620Z"
   },
   {
    "duration": 65,
    "start_time": "2022-02-24T21:29:19.346Z"
   },
   {
    "duration": 1514,
    "start_time": "2022-02-28T12:45:41.240Z"
   },
   {
    "duration": 223,
    "start_time": "2022-02-28T12:45:42.756Z"
   },
   {
    "duration": 24,
    "start_time": "2022-02-28T12:45:42.983Z"
   },
   {
    "duration": 15,
    "start_time": "2022-02-28T12:45:43.010Z"
   },
   {
    "duration": 8,
    "start_time": "2022-02-28T12:45:43.028Z"
   },
   {
    "duration": 9,
    "start_time": "2022-02-28T12:45:43.074Z"
   },
   {
    "duration": 18,
    "start_time": "2022-02-28T12:45:43.085Z"
   },
   {
    "duration": 17,
    "start_time": "2022-02-28T12:45:43.107Z"
   },
   {
    "duration": 70,
    "start_time": "2022-02-28T12:45:43.127Z"
   },
   {
    "duration": 8,
    "start_time": "2022-02-28T12:45:43.200Z"
   },
   {
    "duration": 9,
    "start_time": "2022-02-28T12:45:43.211Z"
   },
   {
    "duration": 11,
    "start_time": "2022-02-28T12:45:43.222Z"
   },
   {
    "duration": 41,
    "start_time": "2022-02-28T12:45:43.235Z"
   },
   {
    "duration": 9,
    "start_time": "2022-02-28T12:45:43.278Z"
   },
   {
    "duration": 22,
    "start_time": "2022-02-28T12:45:43.290Z"
   },
   {
    "duration": 18,
    "start_time": "2022-02-28T12:45:43.315Z"
   },
   {
    "duration": 538,
    "start_time": "2022-02-28T12:45:43.335Z"
   },
   {
    "duration": 23,
    "start_time": "2022-02-28T12:45:43.876Z"
   },
   {
    "duration": 30,
    "start_time": "2022-02-28T12:45:43.902Z"
   },
   {
    "duration": 40,
    "start_time": "2022-02-28T12:45:43.934Z"
   },
   {
    "duration": 8,
    "start_time": "2022-02-28T12:45:43.977Z"
   },
   {
    "duration": 29,
    "start_time": "2022-02-28T12:45:43.987Z"
   },
   {
    "duration": 62,
    "start_time": "2022-02-28T12:45:44.023Z"
   },
   {
    "duration": 16,
    "start_time": "2022-02-28T12:45:44.089Z"
   },
   {
    "duration": 6,
    "start_time": "2022-02-28T12:45:44.108Z"
   },
   {
    "duration": 584,
    "start_time": "2022-02-28T12:45:44.117Z"
   },
   {
    "duration": 5,
    "start_time": "2022-02-28T12:45:44.704Z"
   },
   {
    "duration": 816,
    "start_time": "2022-02-28T12:45:44.712Z"
   },
   {
    "duration": 8,
    "start_time": "2022-02-28T12:45:45.530Z"
   },
   {
    "duration": 34,
    "start_time": "2022-02-28T12:45:45.540Z"
   },
   {
    "duration": 399,
    "start_time": "2022-02-28T12:45:45.577Z"
   },
   {
    "duration": 11,
    "start_time": "2022-02-28T12:45:45.979Z"
   },
   {
    "duration": 308,
    "start_time": "2022-02-28T12:45:45.992Z"
   },
   {
    "duration": 11,
    "start_time": "2022-02-28T12:45:46.303Z"
   },
   {
    "duration": 262,
    "start_time": "2022-02-28T12:45:46.316Z"
   },
   {
    "duration": 13,
    "start_time": "2022-02-28T12:45:46.581Z"
   },
   {
    "duration": 248,
    "start_time": "2022-02-28T12:45:46.596Z"
   },
   {
    "duration": 26,
    "start_time": "2022-02-28T12:45:46.847Z"
   },
   {
    "duration": 245,
    "start_time": "2022-02-28T12:45:46.876Z"
   },
   {
    "duration": 13,
    "start_time": "2022-02-28T12:45:47.124Z"
   },
   {
    "duration": 255,
    "start_time": "2022-02-28T12:45:47.139Z"
   },
   {
    "duration": 588,
    "start_time": "2022-02-28T12:45:47.396Z"
   },
   {
    "duration": 13,
    "start_time": "2022-02-28T12:45:47.987Z"
   },
   {
    "duration": 562,
    "start_time": "2022-02-28T12:45:48.003Z"
   },
   {
    "duration": 567,
    "start_time": "2022-02-28T12:45:48.572Z"
   },
   {
    "duration": 5,
    "start_time": "2022-02-28T12:45:49.142Z"
   },
   {
    "duration": 34,
    "start_time": "2022-02-28T12:45:49.149Z"
   },
   {
    "duration": 19,
    "start_time": "2022-02-28T12:45:49.186Z"
   },
   {
    "duration": 21,
    "start_time": "2022-02-28T12:45:49.207Z"
   },
   {
    "duration": 53,
    "start_time": "2022-02-28T12:45:49.230Z"
   },
   {
    "duration": 20,
    "start_time": "2022-02-28T12:45:49.285Z"
   },
   {
    "duration": 19,
    "start_time": "2022-02-28T12:45:49.307Z"
   },
   {
    "duration": 547,
    "start_time": "2022-02-28T12:45:49.329Z"
   },
   {
    "duration": 13,
    "start_time": "2022-02-28T12:45:49.878Z"
   },
   {
    "duration": 4,
    "start_time": "2022-02-28T12:45:49.894Z"
   },
   {
    "duration": 9,
    "start_time": "2022-02-28T12:45:49.900Z"
   },
   {
    "duration": 22,
    "start_time": "2022-02-28T12:45:49.911Z"
   },
   {
    "duration": 52,
    "start_time": "2022-02-28T12:45:49.936Z"
   },
   {
    "duration": 18,
    "start_time": "2022-02-28T12:45:49.990Z"
   },
   {
    "duration": 423,
    "start_time": "2022-02-28T12:45:50.011Z"
   },
   {
    "duration": 17,
    "start_time": "2022-02-28T12:45:50.436Z"
   },
   {
    "duration": 549,
    "start_time": "2022-02-28T12:45:50.474Z"
   },
   {
    "duration": 18,
    "start_time": "2022-02-28T12:45:51.025Z"
   },
   {
    "duration": 355,
    "start_time": "2022-02-28T12:45:51.045Z"
   },
   {
    "duration": 19,
    "start_time": "2022-02-28T12:45:51.403Z"
   },
   {
    "duration": 427,
    "start_time": "2022-02-28T12:45:51.424Z"
   },
   {
    "duration": 28,
    "start_time": "2022-02-28T12:45:51.854Z"
   },
   {
    "duration": 462,
    "start_time": "2022-02-28T12:45:51.890Z"
   },
   {
    "duration": 27,
    "start_time": "2022-02-28T12:45:52.354Z"
   },
   {
    "duration": 351,
    "start_time": "2022-02-28T12:45:52.383Z"
   },
   {
    "duration": 16,
    "start_time": "2022-02-28T12:45:52.736Z"
   },
   {
    "duration": 422,
    "start_time": "2022-02-28T12:45:52.754Z"
   },
   {
    "duration": 15,
    "start_time": "2022-02-28T12:45:53.179Z"
   },
   {
    "duration": 480,
    "start_time": "2022-02-28T12:45:53.196Z"
   },
   {
    "duration": 18,
    "start_time": "2022-02-28T12:45:53.679Z"
   },
   {
    "duration": 363,
    "start_time": "2022-02-28T12:45:53.699Z"
   },
   {
    "duration": 16,
    "start_time": "2022-02-28T12:45:54.065Z"
   },
   {
    "duration": 25,
    "start_time": "2022-02-28T12:45:54.084Z"
   }
  ],
  "kernelspec": {
   "display_name": "Python 3 (ipykernel)",
   "language": "python",
   "name": "python3"
  },
  "language_info": {
   "codemirror_mode": {
    "name": "ipython",
    "version": 3
   },
   "file_extension": ".py",
   "mimetype": "text/x-python",
   "name": "python",
   "nbconvert_exporter": "python",
   "pygments_lexer": "ipython3",
   "version": "3.9.7"
  },
  "toc": {
   "base_numbering": 1,
   "nav_menu": {},
   "number_sections": true,
   "sideBar": true,
   "skip_h1_title": true,
   "title_cell": "Table of Contents",
   "title_sidebar": "Contents",
   "toc_cell": false,
   "toc_position": {
    "height": "calc(100% - 180px)",
    "left": "10px",
    "top": "150px",
    "width": "398.438px"
   },
   "toc_section_display": true,
   "toc_window_display": true
  }
 },
 "nbformat": 4,
 "nbformat_minor": 5
}
