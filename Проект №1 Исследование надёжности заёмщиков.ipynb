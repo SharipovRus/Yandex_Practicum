{
 "cells": [
  {
   "cell_type": "markdown",
   "metadata": {},
   "source": [
    "# Исследование надёжности заёмщиков\n",
    "\n",
    "Заказчик — кредитный отдел банка. Нужно разобраться, влияет ли семейное положение и количество детей клиента на факт погашения кредита в срок. Входные данные от банка — статистика о платёжеспособности клиентов.\n",
    "\n",
    "Результаты исследования будут учтены при построении модели **кредитного скоринга** — специальной системы, которая оценивает способность потенциального заёмщика вернуть кредит банку."
   ]
  },
  {
   "cell_type": "markdown",
   "metadata": {},
   "source": [
    "## Шаг 1. Откройте файл с данными и изучите общую информацию"
   ]
  },
  {
   "cell_type": "code",
   "execution_count": 137,
   "metadata": {},
   "outputs": [
    {
     "data": {
      "text/html": [
       "<div>\n",
       "<style scoped>\n",
       "    .dataframe tbody tr th:only-of-type {\n",
       "        vertical-align: middle;\n",
       "    }\n",
       "\n",
       "    .dataframe tbody tr th {\n",
       "        vertical-align: top;\n",
       "    }\n",
       "\n",
       "    .dataframe thead th {\n",
       "        text-align: right;\n",
       "    }\n",
       "</style>\n",
       "<table border=\"1\" class=\"dataframe\">\n",
       "  <thead>\n",
       "    <tr style=\"text-align: right;\">\n",
       "      <th></th>\n",
       "      <th>children</th>\n",
       "      <th>days_employed</th>\n",
       "      <th>dob_years</th>\n",
       "      <th>education</th>\n",
       "      <th>education_id</th>\n",
       "      <th>family_status</th>\n",
       "      <th>family_status_id</th>\n",
       "      <th>gender</th>\n",
       "      <th>income_type</th>\n",
       "      <th>debt</th>\n",
       "      <th>total_income</th>\n",
       "      <th>purpose</th>\n",
       "    </tr>\n",
       "  </thead>\n",
       "  <tbody>\n",
       "    <tr>\n",
       "      <td>0</td>\n",
       "      <td>1</td>\n",
       "      <td>-8437.673028</td>\n",
       "      <td>42</td>\n",
       "      <td>высшее</td>\n",
       "      <td>0</td>\n",
       "      <td>женат / замужем</td>\n",
       "      <td>0</td>\n",
       "      <td>F</td>\n",
       "      <td>сотрудник</td>\n",
       "      <td>0</td>\n",
       "      <td>253875.639453</td>\n",
       "      <td>покупка жилья</td>\n",
       "    </tr>\n",
       "    <tr>\n",
       "      <td>1</td>\n",
       "      <td>1</td>\n",
       "      <td>-4024.803754</td>\n",
       "      <td>36</td>\n",
       "      <td>среднее</td>\n",
       "      <td>1</td>\n",
       "      <td>женат / замужем</td>\n",
       "      <td>0</td>\n",
       "      <td>F</td>\n",
       "      <td>сотрудник</td>\n",
       "      <td>0</td>\n",
       "      <td>112080.014102</td>\n",
       "      <td>приобретение автомобиля</td>\n",
       "    </tr>\n",
       "    <tr>\n",
       "      <td>2</td>\n",
       "      <td>0</td>\n",
       "      <td>-5623.422610</td>\n",
       "      <td>33</td>\n",
       "      <td>Среднее</td>\n",
       "      <td>1</td>\n",
       "      <td>женат / замужем</td>\n",
       "      <td>0</td>\n",
       "      <td>M</td>\n",
       "      <td>сотрудник</td>\n",
       "      <td>0</td>\n",
       "      <td>145885.952297</td>\n",
       "      <td>покупка жилья</td>\n",
       "    </tr>\n",
       "    <tr>\n",
       "      <td>3</td>\n",
       "      <td>3</td>\n",
       "      <td>-4124.747207</td>\n",
       "      <td>32</td>\n",
       "      <td>среднее</td>\n",
       "      <td>1</td>\n",
       "      <td>женат / замужем</td>\n",
       "      <td>0</td>\n",
       "      <td>M</td>\n",
       "      <td>сотрудник</td>\n",
       "      <td>0</td>\n",
       "      <td>267628.550329</td>\n",
       "      <td>дополнительное образование</td>\n",
       "    </tr>\n",
       "    <tr>\n",
       "      <td>4</td>\n",
       "      <td>0</td>\n",
       "      <td>340266.072047</td>\n",
       "      <td>53</td>\n",
       "      <td>среднее</td>\n",
       "      <td>1</td>\n",
       "      <td>гражданский брак</td>\n",
       "      <td>1</td>\n",
       "      <td>F</td>\n",
       "      <td>пенсионер</td>\n",
       "      <td>0</td>\n",
       "      <td>158616.077870</td>\n",
       "      <td>сыграть свадьбу</td>\n",
       "    </tr>\n",
       "    <tr>\n",
       "      <td>5</td>\n",
       "      <td>0</td>\n",
       "      <td>-926.185831</td>\n",
       "      <td>27</td>\n",
       "      <td>высшее</td>\n",
       "      <td>0</td>\n",
       "      <td>гражданский брак</td>\n",
       "      <td>1</td>\n",
       "      <td>M</td>\n",
       "      <td>компаньон</td>\n",
       "      <td>0</td>\n",
       "      <td>255763.565419</td>\n",
       "      <td>покупка жилья</td>\n",
       "    </tr>\n",
       "    <tr>\n",
       "      <td>6</td>\n",
       "      <td>0</td>\n",
       "      <td>-2879.202052</td>\n",
       "      <td>43</td>\n",
       "      <td>высшее</td>\n",
       "      <td>0</td>\n",
       "      <td>женат / замужем</td>\n",
       "      <td>0</td>\n",
       "      <td>F</td>\n",
       "      <td>компаньон</td>\n",
       "      <td>0</td>\n",
       "      <td>240525.971920</td>\n",
       "      <td>операции с жильем</td>\n",
       "    </tr>\n",
       "    <tr>\n",
       "      <td>7</td>\n",
       "      <td>0</td>\n",
       "      <td>-152.779569</td>\n",
       "      <td>50</td>\n",
       "      <td>СРЕДНЕЕ</td>\n",
       "      <td>1</td>\n",
       "      <td>женат / замужем</td>\n",
       "      <td>0</td>\n",
       "      <td>M</td>\n",
       "      <td>сотрудник</td>\n",
       "      <td>0</td>\n",
       "      <td>135823.934197</td>\n",
       "      <td>образование</td>\n",
       "    </tr>\n",
       "    <tr>\n",
       "      <td>8</td>\n",
       "      <td>2</td>\n",
       "      <td>-6929.865299</td>\n",
       "      <td>35</td>\n",
       "      <td>ВЫСШЕЕ</td>\n",
       "      <td>0</td>\n",
       "      <td>гражданский брак</td>\n",
       "      <td>1</td>\n",
       "      <td>F</td>\n",
       "      <td>сотрудник</td>\n",
       "      <td>0</td>\n",
       "      <td>95856.832424</td>\n",
       "      <td>на проведение свадьбы</td>\n",
       "    </tr>\n",
       "    <tr>\n",
       "      <td>9</td>\n",
       "      <td>0</td>\n",
       "      <td>-2188.756445</td>\n",
       "      <td>41</td>\n",
       "      <td>среднее</td>\n",
       "      <td>1</td>\n",
       "      <td>женат / замужем</td>\n",
       "      <td>0</td>\n",
       "      <td>M</td>\n",
       "      <td>сотрудник</td>\n",
       "      <td>0</td>\n",
       "      <td>144425.938277</td>\n",
       "      <td>покупка жилья для семьи</td>\n",
       "    </tr>\n",
       "  </tbody>\n",
       "</table>\n",
       "</div>"
      ],
      "text/plain": [
       "   children  days_employed  dob_years education  education_id  \\\n",
       "0         1   -8437.673028         42    высшее             0   \n",
       "1         1   -4024.803754         36   среднее             1   \n",
       "2         0   -5623.422610         33   Среднее             1   \n",
       "3         3   -4124.747207         32   среднее             1   \n",
       "4         0  340266.072047         53   среднее             1   \n",
       "5         0    -926.185831         27    высшее             0   \n",
       "6         0   -2879.202052         43    высшее             0   \n",
       "7         0    -152.779569         50   СРЕДНЕЕ             1   \n",
       "8         2   -6929.865299         35    ВЫСШЕЕ             0   \n",
       "9         0   -2188.756445         41   среднее             1   \n",
       "\n",
       "      family_status  family_status_id gender income_type  debt   total_income  \\\n",
       "0   женат / замужем                 0      F   сотрудник     0  253875.639453   \n",
       "1   женат / замужем                 0      F   сотрудник     0  112080.014102   \n",
       "2   женат / замужем                 0      M   сотрудник     0  145885.952297   \n",
       "3   женат / замужем                 0      M   сотрудник     0  267628.550329   \n",
       "4  гражданский брак                 1      F   пенсионер     0  158616.077870   \n",
       "5  гражданский брак                 1      M   компаньон     0  255763.565419   \n",
       "6   женат / замужем                 0      F   компаньон     0  240525.971920   \n",
       "7   женат / замужем                 0      M   сотрудник     0  135823.934197   \n",
       "8  гражданский брак                 1      F   сотрудник     0   95856.832424   \n",
       "9   женат / замужем                 0      M   сотрудник     0  144425.938277   \n",
       "\n",
       "                      purpose  \n",
       "0               покупка жилья  \n",
       "1     приобретение автомобиля  \n",
       "2               покупка жилья  \n",
       "3  дополнительное образование  \n",
       "4             сыграть свадьбу  \n",
       "5               покупка жилья  \n",
       "6           операции с жильем  \n",
       "7                 образование  \n",
       "8       на проведение свадьбы  \n",
       "9     покупка жилья для семьи  "
      ]
     },
     "execution_count": 137,
     "metadata": {},
     "output_type": "execute_result"
    }
   ],
   "source": [
    "import pandas as pd\n",
    "from pymystem3 import Mystem # когда дошел до лемматизации, решил, что импортировать библиотеку лучше тут\n",
    "m = Mystem() \n",
    "credit_score = pd.read_csv('/datasets/data.csv')\n",
    "credit_score.head(10)\n"
   ]
  },
  {
   "cell_type": "code",
   "execution_count": 138,
   "metadata": {},
   "outputs": [
    {
     "name": "stdout",
     "output_type": "stream",
     "text": [
      "<class 'pandas.core.frame.DataFrame'>\n",
      "RangeIndex: 21525 entries, 0 to 21524\n",
      "Data columns (total 12 columns):\n",
      "children            21525 non-null int64\n",
      "days_employed       19351 non-null float64\n",
      "dob_years           21525 non-null int64\n",
      "education           21525 non-null object\n",
      "education_id        21525 non-null int64\n",
      "family_status       21525 non-null object\n",
      "family_status_id    21525 non-null int64\n",
      "gender              21525 non-null object\n",
      "income_type         21525 non-null object\n",
      "debt                21525 non-null int64\n",
      "total_income        19351 non-null float64\n",
      "purpose             21525 non-null object\n",
      "dtypes: float64(2), int64(5), object(5)\n",
      "memory usage: 2.0+ MB\n"
     ]
    }
   ],
   "source": [
    "credit_score.info() #выводим информаию о таблице"
   ]
  },
  {
   "cell_type": "markdown",
   "metadata": {},
   "source": [
    "**Вывод**  \n",
    "\n",
    "В days_employed и total_income одинаковые значения ( вероятно потому, что при подсчёте общего дохода, при отуствии работающих дней количество общего дохода не учитывается в total_income) Тип данных в порядке, исключение - неудобный формат для  total_income. Надо будет окргулить и сделать int. Надо избавиться от отрицательных значений в  days_employed. И в education проблемы с регистром."
   ]
  },
  {
   "cell_type": "markdown",
   "metadata": {},
   "source": [
    "## Шаг 2. Предобработка данных"
   ]
  },
  {
   "cell_type": "markdown",
   "metadata": {},
   "source": [
    "### Обработка пропусков"
   ]
  },
  {
   "cell_type": "code",
   "execution_count": 139,
   "metadata": {
    "scrolled": true
   },
   "outputs": [
    {
     "name": "stdout",
     "output_type": "stream",
     "text": [
      "children               0\n",
      "days_employed       2174\n",
      "dob_years              0\n",
      "education              0\n",
      "education_id           0\n",
      "family_status          0\n",
      "family_status_id       0\n",
      "gender                 0\n",
      "income_type            0\n",
      "debt                   0\n",
      "total_income        2174\n",
      "purpose                0\n",
      "dtype: int64\n"
     ]
    }
   ],
   "source": [
    "print(credit_score.isna().sum())"
   ]
  },
  {
   "cell_type": "code",
   "execution_count": 140,
   "metadata": {},
   "outputs": [
    {
     "data": {
      "text/html": [
       "<div>\n",
       "<style scoped>\n",
       "    .dataframe tbody tr th:only-of-type {\n",
       "        vertical-align: middle;\n",
       "    }\n",
       "\n",
       "    .dataframe tbody tr th {\n",
       "        vertical-align: top;\n",
       "    }\n",
       "\n",
       "    .dataframe thead th {\n",
       "        text-align: right;\n",
       "    }\n",
       "</style>\n",
       "<table border=\"1\" class=\"dataframe\">\n",
       "  <thead>\n",
       "    <tr style=\"text-align: right;\">\n",
       "      <th></th>\n",
       "      <th>children</th>\n",
       "      <th>days_employed</th>\n",
       "      <th>dob_years</th>\n",
       "      <th>education</th>\n",
       "      <th>education_id</th>\n",
       "      <th>family_status</th>\n",
       "      <th>family_status_id</th>\n",
       "      <th>gender</th>\n",
       "      <th>income_type</th>\n",
       "      <th>debt</th>\n",
       "      <th>total_income</th>\n",
       "      <th>purpose</th>\n",
       "    </tr>\n",
       "  </thead>\n",
       "  <tbody>\n",
       "    <tr>\n",
       "      <td>12</td>\n",
       "      <td>0</td>\n",
       "      <td>NaN</td>\n",
       "      <td>65</td>\n",
       "      <td>среднее</td>\n",
       "      <td>1</td>\n",
       "      <td>гражданский брак</td>\n",
       "      <td>1</td>\n",
       "      <td>M</td>\n",
       "      <td>пенсионер</td>\n",
       "      <td>0</td>\n",
       "      <td>NaN</td>\n",
       "      <td>сыграть свадьбу</td>\n",
       "    </tr>\n",
       "    <tr>\n",
       "      <td>26</td>\n",
       "      <td>0</td>\n",
       "      <td>NaN</td>\n",
       "      <td>41</td>\n",
       "      <td>среднее</td>\n",
       "      <td>1</td>\n",
       "      <td>женат / замужем</td>\n",
       "      <td>0</td>\n",
       "      <td>M</td>\n",
       "      <td>госслужащий</td>\n",
       "      <td>0</td>\n",
       "      <td>NaN</td>\n",
       "      <td>образование</td>\n",
       "    </tr>\n",
       "    <tr>\n",
       "      <td>29</td>\n",
       "      <td>0</td>\n",
       "      <td>NaN</td>\n",
       "      <td>63</td>\n",
       "      <td>среднее</td>\n",
       "      <td>1</td>\n",
       "      <td>Не женат / не замужем</td>\n",
       "      <td>4</td>\n",
       "      <td>F</td>\n",
       "      <td>пенсионер</td>\n",
       "      <td>0</td>\n",
       "      <td>NaN</td>\n",
       "      <td>строительство жилой недвижимости</td>\n",
       "    </tr>\n",
       "    <tr>\n",
       "      <td>41</td>\n",
       "      <td>0</td>\n",
       "      <td>NaN</td>\n",
       "      <td>50</td>\n",
       "      <td>среднее</td>\n",
       "      <td>1</td>\n",
       "      <td>женат / замужем</td>\n",
       "      <td>0</td>\n",
       "      <td>F</td>\n",
       "      <td>госслужащий</td>\n",
       "      <td>0</td>\n",
       "      <td>NaN</td>\n",
       "      <td>сделка с подержанным автомобилем</td>\n",
       "    </tr>\n",
       "    <tr>\n",
       "      <td>55</td>\n",
       "      <td>0</td>\n",
       "      <td>NaN</td>\n",
       "      <td>54</td>\n",
       "      <td>среднее</td>\n",
       "      <td>1</td>\n",
       "      <td>гражданский брак</td>\n",
       "      <td>1</td>\n",
       "      <td>F</td>\n",
       "      <td>пенсионер</td>\n",
       "      <td>1</td>\n",
       "      <td>NaN</td>\n",
       "      <td>сыграть свадьбу</td>\n",
       "    </tr>\n",
       "    <tr>\n",
       "      <td>65</td>\n",
       "      <td>0</td>\n",
       "      <td>NaN</td>\n",
       "      <td>21</td>\n",
       "      <td>среднее</td>\n",
       "      <td>1</td>\n",
       "      <td>Не женат / не замужем</td>\n",
       "      <td>4</td>\n",
       "      <td>M</td>\n",
       "      <td>компаньон</td>\n",
       "      <td>0</td>\n",
       "      <td>NaN</td>\n",
       "      <td>операции с коммерческой недвижимостью</td>\n",
       "    </tr>\n",
       "    <tr>\n",
       "      <td>67</td>\n",
       "      <td>0</td>\n",
       "      <td>NaN</td>\n",
       "      <td>52</td>\n",
       "      <td>высшее</td>\n",
       "      <td>0</td>\n",
       "      <td>женат / замужем</td>\n",
       "      <td>0</td>\n",
       "      <td>F</td>\n",
       "      <td>пенсионер</td>\n",
       "      <td>0</td>\n",
       "      <td>NaN</td>\n",
       "      <td>покупка жилья для семьи</td>\n",
       "    </tr>\n",
       "    <tr>\n",
       "      <td>72</td>\n",
       "      <td>1</td>\n",
       "      <td>NaN</td>\n",
       "      <td>32</td>\n",
       "      <td>высшее</td>\n",
       "      <td>0</td>\n",
       "      <td>женат / замужем</td>\n",
       "      <td>0</td>\n",
       "      <td>M</td>\n",
       "      <td>госслужащий</td>\n",
       "      <td>0</td>\n",
       "      <td>NaN</td>\n",
       "      <td>операции с коммерческой недвижимостью</td>\n",
       "    </tr>\n",
       "    <tr>\n",
       "      <td>82</td>\n",
       "      <td>2</td>\n",
       "      <td>NaN</td>\n",
       "      <td>50</td>\n",
       "      <td>высшее</td>\n",
       "      <td>0</td>\n",
       "      <td>женат / замужем</td>\n",
       "      <td>0</td>\n",
       "      <td>F</td>\n",
       "      <td>сотрудник</td>\n",
       "      <td>0</td>\n",
       "      <td>NaN</td>\n",
       "      <td>жилье</td>\n",
       "    </tr>\n",
       "    <tr>\n",
       "      <td>83</td>\n",
       "      <td>0</td>\n",
       "      <td>NaN</td>\n",
       "      <td>52</td>\n",
       "      <td>среднее</td>\n",
       "      <td>1</td>\n",
       "      <td>женат / замужем</td>\n",
       "      <td>0</td>\n",
       "      <td>M</td>\n",
       "      <td>сотрудник</td>\n",
       "      <td>0</td>\n",
       "      <td>NaN</td>\n",
       "      <td>жилье</td>\n",
       "    </tr>\n",
       "  </tbody>\n",
       "</table>\n",
       "</div>"
      ],
      "text/plain": [
       "    children  days_employed  dob_years education  education_id  \\\n",
       "12         0            NaN         65   среднее             1   \n",
       "26         0            NaN         41   среднее             1   \n",
       "29         0            NaN         63   среднее             1   \n",
       "41         0            NaN         50   среднее             1   \n",
       "55         0            NaN         54   среднее             1   \n",
       "65         0            NaN         21   среднее             1   \n",
       "67         0            NaN         52    высшее             0   \n",
       "72         1            NaN         32    высшее             0   \n",
       "82         2            NaN         50    высшее             0   \n",
       "83         0            NaN         52   среднее             1   \n",
       "\n",
       "            family_status  family_status_id gender  income_type  debt  \\\n",
       "12       гражданский брак                 1      M    пенсионер     0   \n",
       "26        женат / замужем                 0      M  госслужащий     0   \n",
       "29  Не женат / не замужем                 4      F    пенсионер     0   \n",
       "41        женат / замужем                 0      F  госслужащий     0   \n",
       "55       гражданский брак                 1      F    пенсионер     1   \n",
       "65  Не женат / не замужем                 4      M    компаньон     0   \n",
       "67        женат / замужем                 0      F    пенсионер     0   \n",
       "72        женат / замужем                 0      M  госслужащий     0   \n",
       "82        женат / замужем                 0      F    сотрудник     0   \n",
       "83        женат / замужем                 0      M    сотрудник     0   \n",
       "\n",
       "    total_income                                purpose  \n",
       "12           NaN                        сыграть свадьбу  \n",
       "26           NaN                            образование  \n",
       "29           NaN       строительство жилой недвижимости  \n",
       "41           NaN       сделка с подержанным автомобилем  \n",
       "55           NaN                        сыграть свадьбу  \n",
       "65           NaN  операции с коммерческой недвижимостью  \n",
       "67           NaN                покупка жилья для семьи  \n",
       "72           NaN  операции с коммерческой недвижимостью  \n",
       "82           NaN                                  жилье  \n",
       "83           NaN                                  жилье  "
      ]
     },
     "execution_count": 140,
     "metadata": {},
     "output_type": "execute_result"
    }
   ],
   "source": [
    "crdis_filterd = credit_score[credit_score['total_income'].isna()] #ищем пропущенные значения в total_income и выводим первые 10 строк на экран\n",
    "crdis_filterd.head(10)"
   ]
  },
  {
   "cell_type": "code",
   "execution_count": 141,
   "metadata": {},
   "outputs": [
    {
     "name": "stdout",
     "output_type": "stream",
     "text": [
      "income_type\n",
      "безработный        131339.751676\n",
      "в декрете           53829.130729\n",
      "госслужащий        170898.309923\n",
      "компаньон          202417.461462\n",
      "пенсионер          137127.465690\n",
      "предприниматель    499163.144947\n",
      "сотрудник          161380.260488\n",
      "студент             98201.625314\n",
      "Name: total_income, dtype: float64\n",
      "income_type\n",
      "безработный        131339.751676\n",
      "в декрете           53829.130729\n",
      "госслужащий        150447.935283\n",
      "компаньон          172357.950966\n",
      "пенсионер          118514.486412\n",
      "предприниматель    499163.144947\n",
      "сотрудник          142594.396847\n",
      "студент             98201.625314\n",
      "Name: total_income, dtype: float64\n"
     ]
    }
   ],
   "source": [
    "income_grouped_mean = credit_score.groupby('income_type')['total_income'].mean() \n",
    "print(income_grouped_mean) #посчитаем среднее значение и занесем в переменную income_grouped_mean\n",
    "income_grouped_median = credit_score.groupby('income_type')['total_income'].median()\n",
    "print(income_grouped_median)#посчитаем медиану и занесем в переменную income_grouped_median\n"
   ]
  },
  {
   "cell_type": "markdown",
   "metadata": {},
   "source": [
    "Вывод: данные среднего и медианы совпадают, можно избавляться от пропусков"
   ]
  },
  {
   "cell_type": "code",
   "execution_count": 142,
   "metadata": {},
   "outputs": [],
   "source": [
    "def fillbygroup(data, row): # функция заменяет NaN в row на медианное значение этого столбца у соответствующего income_type\n",
    "    unique_inc_type = credit_score['income_type'].unique()\n",
    "    for type in unique_inc_type:\n",
    "        data.loc[data['income_type'] == type, row] = data.loc[data['income_type'] == type, row].fillna(data[data['income_type'] == type]['total_income'].median())\n",
    "    return data\n",
    "\n",
    "credit_score = fillbygroup(credit_score, 'total_income')\n"
   ]
  },
  {
   "cell_type": "code",
   "execution_count": 143,
   "metadata": {
    "scrolled": true
   },
   "outputs": [
    {
     "name": "stdout",
     "output_type": "stream",
     "text": [
      "<class 'pandas.core.frame.DataFrame'>\n",
      "RangeIndex: 21525 entries, 0 to 21524\n",
      "Data columns (total 12 columns):\n",
      "children            21525 non-null int64\n",
      "days_employed       19351 non-null float64\n",
      "dob_years           21525 non-null int64\n",
      "education           21525 non-null object\n",
      "education_id        21525 non-null int64\n",
      "family_status       21525 non-null object\n",
      "family_status_id    21525 non-null int64\n",
      "gender              21525 non-null object\n",
      "income_type         21525 non-null object\n",
      "debt                21525 non-null int64\n",
      "total_income        21525 non-null float64\n",
      "purpose             21525 non-null object\n",
      "dtypes: float64(2), int64(5), object(5)\n",
      "memory usage: 2.0+ MB\n"
     ]
    }
   ],
   "source": [
    "credit_score.info() #вызываем метод проверить заполнение пропусков"
   ]
  },
  {
   "cell_type": "code",
   "execution_count": 144,
   "metadata": {},
   "outputs": [
    {
     "name": "stdout",
     "output_type": "stream",
     "text": [
      "<class 'pandas.core.frame.DataFrame'>\n",
      "RangeIndex: 21525 entries, 0 to 21524\n",
      "Data columns (total 12 columns):\n",
      "children            21525 non-null int64\n",
      "days_employed       21525 non-null float64\n",
      "dob_years           21525 non-null int64\n",
      "education           21525 non-null object\n",
      "education_id        21525 non-null int64\n",
      "family_status       21525 non-null object\n",
      "family_status_id    21525 non-null int64\n",
      "gender              21525 non-null object\n",
      "income_type         21525 non-null object\n",
      "debt                21525 non-null int64\n",
      "total_income        21525 non-null float64\n",
      "purpose             21525 non-null object\n",
      "dtypes: float64(2), int64(5), object(5)\n",
      "memory usage: 2.0+ MB\n",
      "None\n"
     ]
    }
   ],
   "source": [
    "credit_score['days_employed'] = credit_score['days_employed'].apply(abs) # избавляемся от отрицательных значений\n",
    "credit_score = fillbygroup(credit_score, 'days_employed') # теперь можно применить функцию \n",
    "\n",
    "dob_mean = credit_score['dob_years'].mean() # в возрасте нет выдающихся значений, поэтому заполняем нули средним возрастом\n",
    "credit_score.loc[credit_score['dob_years'] == 0, 'dob_years'] = dob_mean\n",
    "credit_score['dob_years'] = credit_score['dob_years'].round().astype('int')\n",
    "print(credit_score.info()) #снова проверяем удаление пропусков\n"
   ]
  },
  {
   "cell_type": "markdown",
   "metadata": {},
   "source": [
    "**Вывод** Пропуски были исключены, можно работать дальше"
   ]
  },
  {
   "cell_type": "markdown",
   "metadata": {},
   "source": [
    "### Замена типа данных"
   ]
  },
  {
   "cell_type": "code",
   "execution_count": 145,
   "metadata": {},
   "outputs": [],
   "source": [
    "credit_score['days_employed'] = credit_score['days_employed'].round().astype('int') # округляю float, переводим переведем в int\n",
    "credit_score['total_income'] = credit_score['total_income'].round().astype('int')# повторяем действие \n",
    "#Сумма не будет считаеться из-за наличия строковых значений total_income"
   ]
  },
  {
   "cell_type": "code",
   "execution_count": 146,
   "metadata": {},
   "outputs": [
    {
     "name": "stdout",
     "output_type": "stream",
     "text": [
      "<class 'pandas.core.frame.DataFrame'>\n",
      "RangeIndex: 21525 entries, 0 to 21524\n",
      "Data columns (total 12 columns):\n",
      "children            21525 non-null int64\n",
      "days_employed       21525 non-null int64\n",
      "dob_years           21525 non-null int64\n",
      "education           21525 non-null object\n",
      "education_id        21525 non-null int64\n",
      "family_status       21525 non-null object\n",
      "family_status_id    21525 non-null int64\n",
      "gender              21525 non-null object\n",
      "income_type         21525 non-null object\n",
      "debt                21525 non-null int64\n",
      "total_income        21525 non-null int64\n",
      "purpose             21525 non-null object\n",
      "dtypes: int64(7), object(5)\n",
      "memory usage: 2.0+ MB\n"
     ]
    }
   ],
   "source": [
    "credit_score.info() # проверяем изменение значений"
   ]
  },
  {
   "cell_type": "code",
   "execution_count": 147,
   "metadata": {},
   "outputs": [
    {
     "data": {
      "text/plain": [
       "0         высшее\n",
       "1        среднее\n",
       "2        среднее\n",
       "3        среднее\n",
       "4        среднее\n",
       "          ...   \n",
       "21520    среднее\n",
       "21521    среднее\n",
       "21522    среднее\n",
       "21523    среднее\n",
       "21524    среднее\n",
       "Name: education, Length: 21525, dtype: object"
      ]
     },
     "execution_count": 147,
     "metadata": {},
     "output_type": "execute_result"
    }
   ],
   "source": [
    "credit_score['education'] = credit_score['education'].str.lower()\n",
    "credit_score['education'] #привел значения в education к нижнему регистру"
   ]
  },
  {
   "cell_type": "markdown",
   "metadata": {},
   "source": [
    "**Вывод** Данные заменяли для подсчёта "
   ]
  },
  {
   "cell_type": "markdown",
   "metadata": {},
   "source": [
    "### Обработка дубликатов"
   ]
  },
  {
   "cell_type": "code",
   "execution_count": 148,
   "metadata": {
    "scrolled": true
   },
   "outputs": [
    {
     "name": "stdout",
     "output_type": "stream",
     "text": [
      "71\n"
     ]
    }
   ],
   "source": [
    "print(credit_score.duplicated().sum()) #71 дубликат, необходимо удалить"
   ]
  },
  {
   "cell_type": "code",
   "execution_count": 149,
   "metadata": {},
   "outputs": [
    {
     "name": "stdout",
     "output_type": "stream",
     "text": [
      "0\n"
     ]
    }
   ],
   "source": [
    "credit_score = credit_score.drop_duplicates().reset_index() #удаляем дубликаты, ресетим индексы\n",
    "print(credit_score.duplicated().sum())"
   ]
  },
  {
   "cell_type": "markdown",
   "metadata": {},
   "source": [
    "**Вывод** Дубликаты удалены. Хотя мне кажется я как-то просто отделался и ощущение, что что-то упуcтил :D"
   ]
  },
  {
   "cell_type": "markdown",
   "metadata": {},
   "source": [
    "### Лемматизация"
   ]
  },
  {
   "cell_type": "code",
   "execution_count": 150,
   "metadata": {
    "scrolled": false
   },
   "outputs": [
    {
     "data": {
      "text/plain": [
       "0    на недвижимость\n",
       "1      на автомобиль\n",
       "2    на недвижимость\n",
       "3     на образование\n",
       "4         на свадьбу\n",
       "5    на недвижимость\n",
       "6    на недвижимость\n",
       "7     на образование\n",
       "8         на свадьбу\n",
       "9    на недвижимость\n",
       "Name: purpose_category, dtype: object"
      ]
     },
     "execution_count": 150,
     "metadata": {},
     "output_type": "execute_result"
    }
   ],
   "source": [
    "def create_category_purpose(row): \n",
    "        lemmas = m.lemmatize(row['purpose'])\n",
    "        if 'свадьба' in lemmas:\n",
    "            return ' на свадьбу'\n",
    "        if 'жилье' in lemmas or 'недвижимость' in lemmas:\n",
    "            return 'на недвижимость'\n",
    "        if 'автомобиль' in lemmas:\n",
    "            return 'на автомобиль'\n",
    "        if 'образование' in lemmas:\n",
    "            return 'на образование'\n",
    "credit_score['purpose_category'] = credit_score.apply(create_category_purpose, axis=1)\n",
    "credit_score['purpose_category'].head(10)"
   ]
  },
  {
   "cell_type": "code",
   "execution_count": 151,
   "metadata": {},
   "outputs": [
    {
     "data": {
      "text/html": [
       "<div>\n",
       "<style scoped>\n",
       "    .dataframe tbody tr th:only-of-type {\n",
       "        vertical-align: middle;\n",
       "    }\n",
       "\n",
       "    .dataframe tbody tr th {\n",
       "        vertical-align: top;\n",
       "    }\n",
       "\n",
       "    .dataframe thead th {\n",
       "        text-align: right;\n",
       "    }\n",
       "</style>\n",
       "<table border=\"1\" class=\"dataframe\">\n",
       "  <thead>\n",
       "    <tr style=\"text-align: right;\">\n",
       "      <th></th>\n",
       "      <th>index</th>\n",
       "      <th>children</th>\n",
       "      <th>days_employed</th>\n",
       "      <th>dob_years</th>\n",
       "      <th>education</th>\n",
       "      <th>education_id</th>\n",
       "      <th>family_status</th>\n",
       "      <th>family_status_id</th>\n",
       "      <th>gender</th>\n",
       "      <th>income_type</th>\n",
       "      <th>debt</th>\n",
       "      <th>total_income</th>\n",
       "      <th>purpose</th>\n",
       "      <th>purpose_category</th>\n",
       "    </tr>\n",
       "  </thead>\n",
       "  <tbody>\n",
       "    <tr>\n",
       "      <td>0</td>\n",
       "      <td>0</td>\n",
       "      <td>1</td>\n",
       "      <td>8438</td>\n",
       "      <td>42</td>\n",
       "      <td>высшее</td>\n",
       "      <td>0</td>\n",
       "      <td>женат / замужем</td>\n",
       "      <td>0</td>\n",
       "      <td>F</td>\n",
       "      <td>сотрудник</td>\n",
       "      <td>0</td>\n",
       "      <td>253876</td>\n",
       "      <td>покупка жилья</td>\n",
       "      <td>на недвижимость</td>\n",
       "    </tr>\n",
       "    <tr>\n",
       "      <td>1</td>\n",
       "      <td>1</td>\n",
       "      <td>1</td>\n",
       "      <td>4025</td>\n",
       "      <td>36</td>\n",
       "      <td>среднее</td>\n",
       "      <td>1</td>\n",
       "      <td>женат / замужем</td>\n",
       "      <td>0</td>\n",
       "      <td>F</td>\n",
       "      <td>сотрудник</td>\n",
       "      <td>0</td>\n",
       "      <td>112080</td>\n",
       "      <td>приобретение автомобиля</td>\n",
       "      <td>на автомобиль</td>\n",
       "    </tr>\n",
       "    <tr>\n",
       "      <td>2</td>\n",
       "      <td>2</td>\n",
       "      <td>0</td>\n",
       "      <td>5623</td>\n",
       "      <td>33</td>\n",
       "      <td>среднее</td>\n",
       "      <td>1</td>\n",
       "      <td>женат / замужем</td>\n",
       "      <td>0</td>\n",
       "      <td>M</td>\n",
       "      <td>сотрудник</td>\n",
       "      <td>0</td>\n",
       "      <td>145886</td>\n",
       "      <td>покупка жилья</td>\n",
       "      <td>на недвижимость</td>\n",
       "    </tr>\n",
       "    <tr>\n",
       "      <td>3</td>\n",
       "      <td>3</td>\n",
       "      <td>3</td>\n",
       "      <td>4125</td>\n",
       "      <td>32</td>\n",
       "      <td>среднее</td>\n",
       "      <td>1</td>\n",
       "      <td>женат / замужем</td>\n",
       "      <td>0</td>\n",
       "      <td>M</td>\n",
       "      <td>сотрудник</td>\n",
       "      <td>0</td>\n",
       "      <td>267629</td>\n",
       "      <td>дополнительное образование</td>\n",
       "      <td>на образование</td>\n",
       "    </tr>\n",
       "    <tr>\n",
       "      <td>4</td>\n",
       "      <td>4</td>\n",
       "      <td>0</td>\n",
       "      <td>340266</td>\n",
       "      <td>53</td>\n",
       "      <td>среднее</td>\n",
       "      <td>1</td>\n",
       "      <td>гражданский брак</td>\n",
       "      <td>1</td>\n",
       "      <td>F</td>\n",
       "      <td>пенсионер</td>\n",
       "      <td>0</td>\n",
       "      <td>158616</td>\n",
       "      <td>сыграть свадьбу</td>\n",
       "      <td>на свадьбу</td>\n",
       "    </tr>\n",
       "    <tr>\n",
       "      <td>5</td>\n",
       "      <td>5</td>\n",
       "      <td>0</td>\n",
       "      <td>926</td>\n",
       "      <td>27</td>\n",
       "      <td>высшее</td>\n",
       "      <td>0</td>\n",
       "      <td>гражданский брак</td>\n",
       "      <td>1</td>\n",
       "      <td>M</td>\n",
       "      <td>компаньон</td>\n",
       "      <td>0</td>\n",
       "      <td>255764</td>\n",
       "      <td>покупка жилья</td>\n",
       "      <td>на недвижимость</td>\n",
       "    </tr>\n",
       "    <tr>\n",
       "      <td>6</td>\n",
       "      <td>6</td>\n",
       "      <td>0</td>\n",
       "      <td>2879</td>\n",
       "      <td>43</td>\n",
       "      <td>высшее</td>\n",
       "      <td>0</td>\n",
       "      <td>женат / замужем</td>\n",
       "      <td>0</td>\n",
       "      <td>F</td>\n",
       "      <td>компаньон</td>\n",
       "      <td>0</td>\n",
       "      <td>240526</td>\n",
       "      <td>операции с жильем</td>\n",
       "      <td>на недвижимость</td>\n",
       "    </tr>\n",
       "    <tr>\n",
       "      <td>7</td>\n",
       "      <td>7</td>\n",
       "      <td>0</td>\n",
       "      <td>153</td>\n",
       "      <td>50</td>\n",
       "      <td>среднее</td>\n",
       "      <td>1</td>\n",
       "      <td>женат / замужем</td>\n",
       "      <td>0</td>\n",
       "      <td>M</td>\n",
       "      <td>сотрудник</td>\n",
       "      <td>0</td>\n",
       "      <td>135824</td>\n",
       "      <td>образование</td>\n",
       "      <td>на образование</td>\n",
       "    </tr>\n",
       "    <tr>\n",
       "      <td>8</td>\n",
       "      <td>8</td>\n",
       "      <td>2</td>\n",
       "      <td>6930</td>\n",
       "      <td>35</td>\n",
       "      <td>высшее</td>\n",
       "      <td>0</td>\n",
       "      <td>гражданский брак</td>\n",
       "      <td>1</td>\n",
       "      <td>F</td>\n",
       "      <td>сотрудник</td>\n",
       "      <td>0</td>\n",
       "      <td>95857</td>\n",
       "      <td>на проведение свадьбы</td>\n",
       "      <td>на свадьбу</td>\n",
       "    </tr>\n",
       "    <tr>\n",
       "      <td>9</td>\n",
       "      <td>9</td>\n",
       "      <td>0</td>\n",
       "      <td>2189</td>\n",
       "      <td>41</td>\n",
       "      <td>среднее</td>\n",
       "      <td>1</td>\n",
       "      <td>женат / замужем</td>\n",
       "      <td>0</td>\n",
       "      <td>M</td>\n",
       "      <td>сотрудник</td>\n",
       "      <td>0</td>\n",
       "      <td>144426</td>\n",
       "      <td>покупка жилья для семьи</td>\n",
       "      <td>на недвижимость</td>\n",
       "    </tr>\n",
       "  </tbody>\n",
       "</table>\n",
       "</div>"
      ],
      "text/plain": [
       "   index  children  days_employed  dob_years education  education_id  \\\n",
       "0      0         1           8438         42    высшее             0   \n",
       "1      1         1           4025         36   среднее             1   \n",
       "2      2         0           5623         33   среднее             1   \n",
       "3      3         3           4125         32   среднее             1   \n",
       "4      4         0         340266         53   среднее             1   \n",
       "5      5         0            926         27    высшее             0   \n",
       "6      6         0           2879         43    высшее             0   \n",
       "7      7         0            153         50   среднее             1   \n",
       "8      8         2           6930         35    высшее             0   \n",
       "9      9         0           2189         41   среднее             1   \n",
       "\n",
       "      family_status  family_status_id gender income_type  debt  total_income  \\\n",
       "0   женат / замужем                 0      F   сотрудник     0        253876   \n",
       "1   женат / замужем                 0      F   сотрудник     0        112080   \n",
       "2   женат / замужем                 0      M   сотрудник     0        145886   \n",
       "3   женат / замужем                 0      M   сотрудник     0        267629   \n",
       "4  гражданский брак                 1      F   пенсионер     0        158616   \n",
       "5  гражданский брак                 1      M   компаньон     0        255764   \n",
       "6   женат / замужем                 0      F   компаньон     0        240526   \n",
       "7   женат / замужем                 0      M   сотрудник     0        135824   \n",
       "8  гражданский брак                 1      F   сотрудник     0         95857   \n",
       "9   женат / замужем                 0      M   сотрудник     0        144426   \n",
       "\n",
       "                      purpose purpose_category  \n",
       "0               покупка жилья  на недвижимость  \n",
       "1     приобретение автомобиля    на автомобиль  \n",
       "2               покупка жилья  на недвижимость  \n",
       "3  дополнительное образование   на образование  \n",
       "4             сыграть свадьбу       на свадьбу  \n",
       "5               покупка жилья  на недвижимость  \n",
       "6           операции с жильем  на недвижимость  \n",
       "7                 образование   на образование  \n",
       "8       на проведение свадьбы       на свадьбу  \n",
       "9     покупка жилья для семьи  на недвижимость  "
      ]
     },
     "execution_count": 151,
     "metadata": {},
     "output_type": "execute_result"
    }
   ],
   "source": [
    "credit_score.head(10)"
   ]
  },
  {
   "cell_type": "markdown",
   "metadata": {},
   "source": [
    "**Вывод** Использовал лемматизацию для выделения основные категорий обращений"
   ]
  },
  {
   "cell_type": "markdown",
   "metadata": {},
   "source": [
    "### Категоризация данных"
   ]
  },
  {
   "cell_type": "code",
   "execution_count": 152,
   "metadata": {
    "scrolled": true
   },
   "outputs": [
    {
     "data": {
      "text/plain": [
       "0    высокий уровень дохода\n",
       "1    средний уровень дохода\n",
       "2    средний уровень дохода\n",
       "3    высокий уровень дохода\n",
       "4    высокий уровень дохода\n",
       "5    высокий уровень дохода\n",
       "6    высокий уровень дохода\n",
       "7    средний уровень дохода\n",
       "8    средний уровень дохода\n",
       "9    средний уровень дохода\n",
       "Name: salary_cat, dtype: object"
      ]
     },
     "execution_count": 152,
     "metadata": {},
     "output_type": "execute_result"
    }
   ],
   "source": [
    "def create_salary_cat(row): #напишем функцию для категоризации людей по доходу. Низкий уровень дохода выберу 60000 рублей(средняя зп по Спб)\n",
    "        if row['total_income'] <= 60000:\n",
    "            return ' низкий уровень дохода'\n",
    "        if (row['total_income'] > 60000) and (row['total_income'] <= 150000):\n",
    "            return 'средний уровень дохода'\n",
    "        elif row['total_income'] > 150000:\n",
    "            return 'высокий уровень дохода'\n",
    "credit_score['salary_cat'] = credit_score.apply(create_salary_cat, axis=1)\n",
    "credit_score['salary_cat'].head(10)"
   ]
  },
  {
   "cell_type": "code",
   "execution_count": 153,
   "metadata": {},
   "outputs": [
    {
     "data": {
      "text/plain": [
       "0    1-2 ребенка\n",
       "1    1-2 ребенка\n",
       "2      нет детей\n",
       "3    многодетные\n",
       "4      нет детей\n",
       "5      нет детей\n",
       "6      нет детей\n",
       "7      нет детей\n",
       "8    1-2 ребенка\n",
       "9      нет детей\n",
       "Name: children_cat, dtype: object"
      ]
     },
     "execution_count": 153,
     "metadata": {},
     "output_type": "execute_result"
    }
   ],
   "source": [
    "def create_children_cat(row): \n",
    "    if row['children'] == 0:\n",
    "        return 'нет детей'\n",
    "    if 1 <= row['children'] <= 2:\n",
    "        return '1-2 ребенка'\n",
    "    else:\n",
    "        return 'многодетные'\n",
    "credit_score['children_cat'] = credit_score.apply(create_children_cat, axis=1)\n",
    "credit_score['children_cat'].head(10)"
   ]
  },
  {
   "cell_type": "markdown",
   "metadata": {},
   "source": [
    "**Вывод** Категоризировал данные по доходу и добавил в таблицу"
   ]
  },
  {
   "cell_type": "markdown",
   "metadata": {},
   "source": [
    "## Шаг 3. Ответьте на вопросы"
   ]
  },
  {
   "cell_type": "markdown",
   "metadata": {},
   "source": [
    "- Есть ли зависимость между наличием детей и возвратом кредита в срок?"
   ]
  },
  {
   "cell_type": "code",
   "execution_count": 154,
   "metadata": {},
   "outputs": [
    {
     "name": "stdout",
     "output_type": "stream",
     "text": [
      "0     14091\n",
      "1      4855\n",
      "2      2052\n",
      "3       330\n",
      "20       76\n",
      "4        41\n",
      "5         9\n",
      "Name: children, dtype: int64\n"
     ]
    }
   ],
   "source": [
    "#print(credit_score['children'].value_counts()) #  найдем количество детей\n",
    "#у 76 человек 20 детей. Можно заменить на медианное значение по остальным столбцам\n",
    "# так же есть отрицательное количество детей?? скорее всего была ошибка в знаке\n",
    "#сначала методом abs вернем по модулю и проверим, затем заменяем на медианное значение по остальным столбцам\n",
    "credit_score['children'] = credit_score['children'].apply(abs)\n",
    "print(credit_score['children'].value_counts())"
   ]
  },
  {
   "cell_type": "code",
   "execution_count": 155,
   "metadata": {
    "scrolled": true
   },
   "outputs": [],
   "source": [
    "children_median = credit_score[credit_score['children'] != 20]['children'].median().astype('int')\n",
    "credit_score['children'] = credit_score['children'].replace(20, children_median) #замену произвели, данные готовы к обработке\n"
   ]
  },
  {
   "cell_type": "code",
   "execution_count": 185,
   "metadata": {
    "scrolled": true
   },
   "outputs": [
    {
     "data": {
      "text/html": [
       "<div>\n",
       "<style scoped>\n",
       "    .dataframe tbody tr th:only-of-type {\n",
       "        vertical-align: middle;\n",
       "    }\n",
       "\n",
       "    .dataframe tbody tr th {\n",
       "        vertical-align: top;\n",
       "    }\n",
       "\n",
       "    .dataframe thead th {\n",
       "        text-align: right;\n",
       "    }\n",
       "</style>\n",
       "<table border=\"1\" class=\"dataframe\">\n",
       "  <thead>\n",
       "    <tr style=\"text-align: right;\">\n",
       "      <th>debt</th>\n",
       "      <th>0</th>\n",
       "      <th>1</th>\n",
       "      <th>процент</th>\n",
       "    </tr>\n",
       "    <tr>\n",
       "      <th>children_cat</th>\n",
       "      <th></th>\n",
       "      <th></th>\n",
       "      <th></th>\n",
       "    </tr>\n",
       "  </thead>\n",
       "  <tbody>\n",
       "    <tr>\n",
       "      <td>нет детей</td>\n",
       "      <td>13028</td>\n",
       "      <td>1063</td>\n",
       "      <td>7.5%</td>\n",
       "    </tr>\n",
       "    <tr>\n",
       "      <td>многодетные</td>\n",
       "      <td>463</td>\n",
       "      <td>40</td>\n",
       "      <td>8.0%</td>\n",
       "    </tr>\n",
       "    <tr>\n",
       "      <td>1-2 ребенка</td>\n",
       "      <td>6222</td>\n",
       "      <td>638</td>\n",
       "      <td>9.3%</td>\n",
       "    </tr>\n",
       "  </tbody>\n",
       "</table>\n",
       "</div>"
      ],
      "text/plain": [
       "debt              0     1 процент\n",
       "children_cat                     \n",
       "нет детей     13028  1063    7.5%\n",
       "многодетные     463    40    8.0%\n",
       "1-2 ребенка    6222   638    9.3%"
      ]
     },
     "metadata": {},
     "output_type": "display_data"
    }
   ],
   "source": [
    "table_child_cat = credit_score.pivot_table(index='children_cat', columns= 'debt', values='children', aggfunc='count')\n",
    "frmt = '{:.1%}'.format\n",
    "table_child_cat['процент'] = (table_child_cat[1] / (table_child_cat[1] + table_child_cat[0])).map(frmt)\n",
    "#display(table_child_cat.sort_index(ascending = False)\n",
    "display(table_child_cat.sort_index(ascending=False))"
   ]
  },
  {
   "cell_type": "markdown",
   "metadata": {},
   "source": [
    "**Вывод** Исходя из полученной таблицы, заёмщики с несколькими детьми возвращают деньги реже. Процент с несколькими детьми выше, но не большой. "
   ]
  },
  {
   "cell_type": "markdown",
   "metadata": {},
   "source": [
    "- Есть ли зависимость между семейным положением и возвратом кредита в срок?"
   ]
  },
  {
   "cell_type": "code",
   "execution_count": 157,
   "metadata": {},
   "outputs": [
    {
     "name": "stdout",
     "output_type": "stream",
     "text": [
      "женат / замужем          16490\n",
      "Не женат / не замужем     2810\n",
      "в разводе                 1195\n",
      "вдовец / вдова             959\n",
      "Name: family_status, dtype: int64\n"
     ]
    },
    {
     "data": {
      "text/html": [
       "<div>\n",
       "<style scoped>\n",
       "    .dataframe tbody tr th:only-of-type {\n",
       "        vertical-align: middle;\n",
       "    }\n",
       "\n",
       "    .dataframe tbody tr th {\n",
       "        vertical-align: top;\n",
       "    }\n",
       "\n",
       "    .dataframe thead th {\n",
       "        text-align: right;\n",
       "    }\n",
       "</style>\n",
       "<table border=\"1\" class=\"dataframe\">\n",
       "  <thead>\n",
       "    <tr style=\"text-align: right;\">\n",
       "      <th></th>\n",
       "      <th>conversion table</th>\n",
       "    </tr>\n",
       "    <tr>\n",
       "      <th>family_status</th>\n",
       "      <th></th>\n",
       "    </tr>\n",
       "  </thead>\n",
       "  <tbody>\n",
       "    <tr>\n",
       "      <td>Не женат / не замужем</td>\n",
       "      <td>0.098</td>\n",
       "    </tr>\n",
       "    <tr>\n",
       "      <td>в разводе</td>\n",
       "      <td>0.071</td>\n",
       "    </tr>\n",
       "    <tr>\n",
       "      <td>вдовец / вдова</td>\n",
       "      <td>0.066</td>\n",
       "    </tr>\n",
       "    <tr>\n",
       "      <td>женат / замужем</td>\n",
       "      <td>0.080</td>\n",
       "    </tr>\n",
       "  </tbody>\n",
       "</table>\n",
       "</div>"
      ],
      "text/plain": [
       "                       conversion table\n",
       "family_status                          \n",
       "Не женат / не замужем             0.098\n",
       "в разводе                         0.071\n",
       "вдовец / вдова                    0.066\n",
       "женат / замужем                   0.080"
      ]
     },
     "execution_count": 157,
     "metadata": {},
     "output_type": "execute_result"
    }
   ],
   "source": [
    "credit_score = credit_score.replace('гражданский брак', 'женат / замужем') #заменяем значения\n",
    "credit_score.reset_index(drop=True) #обновляем индексацию\n",
    "print(credit_score['family_status'].value_counts())\n",
    "famil_conversion = (credit_score[credit_score['debt'] == 1].groupby('family_status')['debt'].count() / credit_score.groupby('family_status')['debt'].count()).round(3)\n",
    "famil_conversion.to_frame('conversion table') #посчитали конверсию "
   ]
  },
  {
   "cell_type": "markdown",
   "metadata": {},
   "source": [
    "**Вывод**  Исходя из конверсии женатые люди платят лучше остальных групп. "
   ]
  },
  {
   "cell_type": "markdown",
   "metadata": {},
   "source": [
    "- Есть ли зависимость между уровнем дохода и возвратом кредита в срок?"
   ]
  },
  {
   "cell_type": "code",
   "execution_count": 158,
   "metadata": {},
   "outputs": [],
   "source": [
    "def conclusion(category): # создал фукцию для вывода информации \n",
    "    return credit_score.groupby(category)['debt'].mean().to_frame().sort_values(by='debt')"
   ]
  },
  {
   "cell_type": "code",
   "execution_count": 159,
   "metadata": {},
   "outputs": [
    {
     "data": {
      "text/html": [
       "<div>\n",
       "<style scoped>\n",
       "    .dataframe tbody tr th:only-of-type {\n",
       "        vertical-align: middle;\n",
       "    }\n",
       "\n",
       "    .dataframe tbody tr th {\n",
       "        vertical-align: top;\n",
       "    }\n",
       "\n",
       "    .dataframe thead th {\n",
       "        text-align: right;\n",
       "    }\n",
       "</style>\n",
       "<table border=\"1\" class=\"dataframe\">\n",
       "  <thead>\n",
       "    <tr style=\"text-align: right;\">\n",
       "      <th></th>\n",
       "      <th>debt</th>\n",
       "    </tr>\n",
       "    <tr>\n",
       "      <th>salary_cat</th>\n",
       "      <th></th>\n",
       "    </tr>\n",
       "  </thead>\n",
       "  <tbody>\n",
       "    <tr>\n",
       "      <td>низкий уровень дохода</td>\n",
       "      <td>0.060794</td>\n",
       "    </tr>\n",
       "    <tr>\n",
       "      <td>высокий уровень дохода</td>\n",
       "      <td>0.077612</td>\n",
       "    </tr>\n",
       "    <tr>\n",
       "      <td>средний уровень дохода</td>\n",
       "      <td>0.085883</td>\n",
       "    </tr>\n",
       "  </tbody>\n",
       "</table>\n",
       "</div>"
      ],
      "text/plain": [
       "                            debt\n",
       "salary_cat                      \n",
       " низкий уровень дохода  0.060794\n",
       "высокий уровень дохода  0.077612\n",
       "средний уровень дохода  0.085883"
      ]
     },
     "execution_count": 159,
     "metadata": {},
     "output_type": "execute_result"
    }
   ],
   "source": [
    "conclusion('salary_cat')"
   ]
  },
  {
   "cell_type": "markdown",
   "metadata": {},
   "source": [
    "**Вывод** Забавный вывод. Люди с доходом меньше 60000 менее склонны нарушать обязательства по выплатам кредита в срок"
   ]
  },
  {
   "cell_type": "markdown",
   "metadata": {},
   "source": [
    "- Как разные цели кредита влияют на его возврат в срок?"
   ]
  },
  {
   "cell_type": "code",
   "execution_count": 160,
   "metadata": {},
   "outputs": [
    {
     "data": {
      "text/html": [
       "<div>\n",
       "<style scoped>\n",
       "    .dataframe tbody tr th:only-of-type {\n",
       "        vertical-align: middle;\n",
       "    }\n",
       "\n",
       "    .dataframe tbody tr th {\n",
       "        vertical-align: top;\n",
       "    }\n",
       "\n",
       "    .dataframe thead th {\n",
       "        text-align: right;\n",
       "    }\n",
       "</style>\n",
       "<table border=\"1\" class=\"dataframe\">\n",
       "  <thead>\n",
       "    <tr style=\"text-align: right;\">\n",
       "      <th></th>\n",
       "      <th>debt</th>\n",
       "    </tr>\n",
       "    <tr>\n",
       "      <th>purpose_category</th>\n",
       "      <th></th>\n",
       "    </tr>\n",
       "  </thead>\n",
       "  <tbody>\n",
       "    <tr>\n",
       "      <td>на недвижимость</td>\n",
       "      <td>0.072334</td>\n",
       "    </tr>\n",
       "    <tr>\n",
       "      <td>на свадьбу</td>\n",
       "      <td>0.080034</td>\n",
       "    </tr>\n",
       "    <tr>\n",
       "      <td>на образование</td>\n",
       "      <td>0.092200</td>\n",
       "    </tr>\n",
       "    <tr>\n",
       "      <td>на автомобиль</td>\n",
       "      <td>0.093590</td>\n",
       "    </tr>\n",
       "  </tbody>\n",
       "</table>\n",
       "</div>"
      ],
      "text/plain": [
       "                      debt\n",
       "purpose_category          \n",
       "на недвижимость   0.072334\n",
       " на свадьбу       0.080034\n",
       "на образование    0.092200\n",
       "на автомобиль     0.093590"
      ]
     },
     "execution_count": 160,
     "metadata": {},
     "output_type": "execute_result"
    }
   ],
   "source": [
    "conclusion('purpose_category')"
   ]
  },
  {
   "cell_type": "markdown",
   "metadata": {},
   "source": [
    "**Вывод**Заемщики связанные с категорией жилья наиболее ответственные и менее сколнны просрачивать платежы"
   ]
  },
  {
   "cell_type": "markdown",
   "metadata": {},
   "source": [
    "## Шаг 4. Общий вывод"
   ]
  },
  {
   "cell_type": "markdown",
   "metadata": {},
   "source": [
    "**Вывод**\n",
    "\n",
    "Общий вывод будет таковым:\n",
    "1) Заёмщики состоящие в браке и не имеющие детей - наиболее сколнны к своевременным платежам и реже пропускают платежы\n",
    "2) Заёмщики, состоящие в гражданском браке или без отношений - самые менее ответственные заёмщики."
   ]
  }
 ],
 "metadata": {
  "ExecuteTimeLog": [
   {
    "duration": 782,
    "start_time": "2021-12-24T14:41:25.499Z"
   },
   {
    "duration": 87,
    "start_time": "2021-12-24T14:56:55.378Z"
   },
   {
    "duration": 87,
    "start_time": "2021-12-24T14:57:06.500Z"
   },
   {
    "duration": 158,
    "start_time": "2021-12-25T12:12:12.922Z"
   },
   {
    "duration": 620,
    "start_time": "2021-12-25T12:12:21.864Z"
   },
   {
    "duration": 14,
    "start_time": "2021-12-25T12:12:22.486Z"
   },
   {
    "duration": 56,
    "start_time": "2021-12-25T12:13:28.256Z"
   },
   {
    "duration": 12,
    "start_time": "2021-12-25T12:13:28.313Z"
   },
   {
    "duration": 13,
    "start_time": "2021-12-25T12:13:28.327Z"
   },
   {
    "duration": 5,
    "start_time": "2021-12-25T12:23:33.055Z"
   },
   {
    "duration": 5,
    "start_time": "2021-12-25T12:24:19.589Z"
   },
   {
    "duration": 6,
    "start_time": "2021-12-25T12:25:04.779Z"
   },
   {
    "duration": 6,
    "start_time": "2021-12-25T12:27:24.478Z"
   },
   {
    "duration": 9,
    "start_time": "2021-12-25T12:27:40.535Z"
   },
   {
    "duration": 58,
    "start_time": "2021-12-25T12:30:52.784Z"
   },
   {
    "duration": 12,
    "start_time": "2021-12-25T12:30:52.844Z"
   },
   {
    "duration": 12,
    "start_time": "2021-12-25T12:30:52.858Z"
   },
   {
    "duration": 3,
    "start_time": "2021-12-25T12:30:52.872Z"
   },
   {
    "duration": 9,
    "start_time": "2021-12-25T12:32:18.786Z"
   },
   {
    "duration": 6,
    "start_time": "2021-12-25T12:48:29.516Z"
   },
   {
    "duration": 7,
    "start_time": "2021-12-25T12:48:42.673Z"
   },
   {
    "duration": 162,
    "start_time": "2021-12-25T12:49:26.754Z"
   },
   {
    "duration": 7,
    "start_time": "2021-12-25T12:49:37.832Z"
   },
   {
    "duration": 131,
    "start_time": "2021-12-25T12:49:43.810Z"
   },
   {
    "duration": 12,
    "start_time": "2021-12-25T12:49:59.521Z"
   },
   {
    "duration": 57,
    "start_time": "2021-12-25T12:52:12.814Z"
   },
   {
    "duration": 8,
    "start_time": "2021-12-25T12:52:12.873Z"
   },
   {
    "duration": 12,
    "start_time": "2021-12-25T12:52:12.883Z"
   },
   {
    "duration": 44,
    "start_time": "2021-12-25T12:52:12.896Z"
   },
   {
    "duration": 59,
    "start_time": "2021-12-25T12:52:30.361Z"
   },
   {
    "duration": 12,
    "start_time": "2021-12-25T12:52:30.422Z"
   },
   {
    "duration": 12,
    "start_time": "2021-12-25T12:52:30.437Z"
   },
   {
    "duration": 25,
    "start_time": "2021-12-25T12:52:30.451Z"
   },
   {
    "duration": 57,
    "start_time": "2021-12-25T12:52:30.479Z"
   },
   {
    "duration": 3,
    "start_time": "2021-12-25T12:58:43.154Z"
   },
   {
    "duration": 10,
    "start_time": "2021-12-25T13:07:18.185Z"
   },
   {
    "duration": 4,
    "start_time": "2021-12-25T13:26:43.960Z"
   },
   {
    "duration": 11,
    "start_time": "2021-12-25T13:26:59.222Z"
   },
   {
    "duration": 62,
    "start_time": "2021-12-25T13:28:01.795Z"
   },
   {
    "duration": 10,
    "start_time": "2021-12-25T13:28:01.859Z"
   },
   {
    "duration": 20,
    "start_time": "2021-12-25T13:28:01.871Z"
   },
   {
    "duration": 18,
    "start_time": "2021-12-25T13:28:01.893Z"
   },
   {
    "duration": 11,
    "start_time": "2021-12-25T13:28:01.913Z"
   },
   {
    "duration": 21,
    "start_time": "2021-12-25T13:28:01.926Z"
   },
   {
    "duration": 11,
    "start_time": "2021-12-25T13:28:11.408Z"
   },
   {
    "duration": 4,
    "start_time": "2021-12-25T13:44:40.686Z"
   },
   {
    "duration": 5,
    "start_time": "2021-12-25T13:44:50.272Z"
   },
   {
    "duration": 55,
    "start_time": "2021-12-25T13:47:22.759Z"
   },
   {
    "duration": 11,
    "start_time": "2021-12-25T13:47:34.552Z"
   },
   {
    "duration": 88,
    "start_time": "2021-12-25T13:48:39.671Z"
   },
   {
    "duration": 74,
    "start_time": "2021-12-25T13:48:52.468Z"
   },
   {
    "duration": 49,
    "start_time": "2021-12-25T13:51:41.001Z"
   },
   {
    "duration": 49,
    "start_time": "2021-12-25T13:51:41.963Z"
   },
   {
    "duration": 58,
    "start_time": "2021-12-25T13:59:46.602Z"
   },
   {
    "duration": 10,
    "start_time": "2021-12-25T13:59:46.662Z"
   },
   {
    "duration": 13,
    "start_time": "2021-12-25T13:59:46.675Z"
   },
   {
    "duration": 7,
    "start_time": "2021-12-25T13:59:46.690Z"
   },
   {
    "duration": 10,
    "start_time": "2021-12-25T13:59:46.699Z"
   },
   {
    "duration": 53,
    "start_time": "2021-12-25T13:59:46.710Z"
   },
   {
    "duration": 31,
    "start_time": "2021-12-25T13:59:46.765Z"
   },
   {
    "duration": 68,
    "start_time": "2021-12-25T13:59:46.797Z"
   },
   {
    "duration": 8,
    "start_time": "2021-12-25T14:05:36.094Z"
   },
   {
    "duration": 58,
    "start_time": "2021-12-25T14:05:39.571Z"
   },
   {
    "duration": 10,
    "start_time": "2021-12-25T14:05:39.631Z"
   },
   {
    "duration": 9,
    "start_time": "2021-12-25T14:05:39.649Z"
   },
   {
    "duration": 14,
    "start_time": "2021-12-25T14:05:39.660Z"
   },
   {
    "duration": 22,
    "start_time": "2021-12-25T14:05:39.676Z"
   },
   {
    "duration": 55,
    "start_time": "2021-12-25T14:05:39.700Z"
   },
   {
    "duration": 10,
    "start_time": "2021-12-25T14:05:39.756Z"
   },
   {
    "duration": 89,
    "start_time": "2021-12-25T14:05:39.767Z"
   },
   {
    "duration": 60,
    "start_time": "2021-12-25T14:13:12.191Z"
   },
   {
    "duration": 10,
    "start_time": "2021-12-25T14:13:12.253Z"
   },
   {
    "duration": 16,
    "start_time": "2021-12-25T14:13:12.265Z"
   },
   {
    "duration": 35,
    "start_time": "2021-12-25T14:13:12.283Z"
   },
   {
    "duration": 22,
    "start_time": "2021-12-25T14:13:12.319Z"
   },
   {
    "duration": 55,
    "start_time": "2021-12-25T14:13:12.343Z"
   },
   {
    "duration": 9,
    "start_time": "2021-12-25T14:13:12.400Z"
   },
   {
    "duration": 80,
    "start_time": "2021-12-25T14:13:12.411Z"
   },
   {
    "duration": 21,
    "start_time": "2021-12-25T14:15:05.991Z"
   },
   {
    "duration": 242,
    "start_time": "2021-12-26T11:26:14.027Z"
   },
   {
    "duration": 629,
    "start_time": "2021-12-26T11:26:21.664Z"
   },
   {
    "duration": 10,
    "start_time": "2021-12-26T11:26:22.295Z"
   },
   {
    "duration": 9,
    "start_time": "2021-12-26T11:26:22.307Z"
   },
   {
    "duration": 34,
    "start_time": "2021-12-26T11:26:22.317Z"
   },
   {
    "duration": 9,
    "start_time": "2021-12-26T11:26:22.353Z"
   },
   {
    "duration": 56,
    "start_time": "2021-12-26T11:26:22.364Z"
   },
   {
    "duration": 30,
    "start_time": "2021-12-26T11:26:22.421Z"
   },
   {
    "duration": 87,
    "start_time": "2021-12-26T11:26:22.454Z"
   },
   {
    "duration": 23,
    "start_time": "2021-12-26T11:26:22.543Z"
   },
   {
    "duration": 11,
    "start_time": "2021-12-26T11:26:22.568Z"
   },
   {
    "duration": 20,
    "start_time": "2021-12-26T11:26:22.580Z"
   },
   {
    "duration": 11,
    "start_time": "2021-12-26T11:31:43.717Z"
   },
   {
    "duration": 5,
    "start_time": "2021-12-26T11:39:38.315Z"
   },
   {
    "duration": 13,
    "start_time": "2021-12-26T11:39:39.876Z"
   },
   {
    "duration": 212,
    "start_time": "2021-12-26T11:39:48.208Z"
   },
   {
    "duration": 48,
    "start_time": "2021-12-26T11:40:00.954Z"
   },
   {
    "duration": 7,
    "start_time": "2021-12-26T11:45:38.770Z"
   },
   {
    "duration": 49,
    "start_time": "2021-12-26T11:46:21.540Z"
   },
   {
    "duration": 236,
    "start_time": "2021-12-26T11:48:19.601Z"
   },
   {
    "duration": 58,
    "start_time": "2021-12-26T11:48:41.660Z"
   },
   {
    "duration": 9,
    "start_time": "2021-12-26T11:48:41.719Z"
   },
   {
    "duration": 7,
    "start_time": "2021-12-26T11:48:41.730Z"
   },
   {
    "duration": 12,
    "start_time": "2021-12-26T11:48:41.739Z"
   },
   {
    "duration": 7,
    "start_time": "2021-12-26T11:48:41.753Z"
   },
   {
    "duration": 48,
    "start_time": "2021-12-26T11:48:41.761Z"
   },
   {
    "duration": 9,
    "start_time": "2021-12-26T11:48:41.810Z"
   },
   {
    "duration": 77,
    "start_time": "2021-12-26T11:48:41.820Z"
   },
   {
    "duration": 16,
    "start_time": "2021-12-26T11:48:41.899Z"
   },
   {
    "duration": 4,
    "start_time": "2021-12-26T11:48:41.917Z"
   },
   {
    "duration": 11,
    "start_time": "2021-12-26T11:48:41.940Z"
   },
   {
    "duration": 4,
    "start_time": "2021-12-26T11:48:41.953Z"
   },
   {
    "duration": 19,
    "start_time": "2021-12-26T11:48:41.959Z"
   },
   {
    "duration": 65,
    "start_time": "2021-12-26T11:48:41.981Z"
   },
   {
    "duration": 46,
    "start_time": "2021-12-26T11:48:54.250Z"
   },
   {
    "duration": 18,
    "start_time": "2021-12-26T11:53:47.872Z"
   },
   {
    "duration": 7,
    "start_time": "2021-12-26T11:55:44.298Z"
   },
   {
    "duration": 227,
    "start_time": "2021-12-26T11:55:50.452Z"
   },
   {
    "duration": 16,
    "start_time": "2021-12-26T11:55:57.385Z"
   },
   {
    "duration": 16,
    "start_time": "2021-12-26T11:56:23.814Z"
   },
   {
    "duration": 16,
    "start_time": "2021-12-26T11:56:26.440Z"
   },
   {
    "duration": 15,
    "start_time": "2021-12-26T11:56:54.700Z"
   },
   {
    "duration": 237,
    "start_time": "2021-12-26T12:01:40.922Z"
   },
   {
    "duration": 282,
    "start_time": "2021-12-26T12:02:00.055Z"
   },
   {
    "duration": 58,
    "start_time": "2021-12-26T12:02:03.599Z"
   },
   {
    "duration": 9,
    "start_time": "2021-12-26T12:02:03.659Z"
   },
   {
    "duration": 27,
    "start_time": "2021-12-26T12:02:03.670Z"
   },
   {
    "duration": 35,
    "start_time": "2021-12-26T12:02:03.699Z"
   },
   {
    "duration": 17,
    "start_time": "2021-12-26T12:02:03.735Z"
   },
   {
    "duration": 63,
    "start_time": "2021-12-26T12:02:03.754Z"
   },
   {
    "duration": 9,
    "start_time": "2021-12-26T12:02:03.818Z"
   },
   {
    "duration": 60,
    "start_time": "2021-12-26T12:02:03.829Z"
   },
   {
    "duration": 18,
    "start_time": "2021-12-26T12:02:03.891Z"
   },
   {
    "duration": 5,
    "start_time": "2021-12-26T12:02:03.911Z"
   },
   {
    "duration": 29,
    "start_time": "2021-12-26T12:02:03.918Z"
   },
   {
    "duration": 51,
    "start_time": "2021-12-26T12:02:03.948Z"
   },
   {
    "duration": 18,
    "start_time": "2021-12-26T12:04:58.319Z"
   },
   {
    "duration": 43,
    "start_time": "2021-12-26T12:05:20.863Z"
   },
   {
    "duration": 19,
    "start_time": "2021-12-26T12:05:24.051Z"
   },
   {
    "duration": 18,
    "start_time": "2021-12-26T12:05:27.443Z"
   },
   {
    "duration": 198,
    "start_time": "2021-12-26T12:05:43.371Z"
   },
   {
    "duration": 54,
    "start_time": "2021-12-26T12:05:46.273Z"
   },
   {
    "duration": 9,
    "start_time": "2021-12-26T12:05:46.328Z"
   },
   {
    "duration": 8,
    "start_time": "2021-12-26T12:05:46.338Z"
   },
   {
    "duration": 16,
    "start_time": "2021-12-26T12:05:46.347Z"
   },
   {
    "duration": 8,
    "start_time": "2021-12-26T12:05:46.365Z"
   },
   {
    "duration": 48,
    "start_time": "2021-12-26T12:05:46.374Z"
   },
   {
    "duration": 22,
    "start_time": "2021-12-26T12:05:46.424Z"
   },
   {
    "duration": 64,
    "start_time": "2021-12-26T12:05:46.447Z"
   },
   {
    "duration": 37,
    "start_time": "2021-12-26T12:05:46.513Z"
   },
   {
    "duration": 5,
    "start_time": "2021-12-26T12:05:46.552Z"
   },
   {
    "duration": 13,
    "start_time": "2021-12-26T12:05:46.559Z"
   },
   {
    "duration": 198,
    "start_time": "2021-12-26T12:05:46.573Z"
   },
   {
    "duration": 50,
    "start_time": "2021-12-26T12:06:08.358Z"
   },
   {
    "duration": 8,
    "start_time": "2021-12-26T12:06:34.251Z"
   },
   {
    "duration": 8,
    "start_time": "2021-12-26T12:07:17.012Z"
   },
   {
    "duration": 195,
    "start_time": "2021-12-26T14:37:18.957Z"
   },
   {
    "duration": 55,
    "start_time": "2021-12-26T14:37:25.898Z"
   },
   {
    "duration": 9,
    "start_time": "2021-12-26T14:37:25.955Z"
   },
   {
    "duration": 7,
    "start_time": "2021-12-26T14:37:25.966Z"
   },
   {
    "duration": 13,
    "start_time": "2021-12-26T14:37:25.975Z"
   },
   {
    "duration": 8,
    "start_time": "2021-12-26T14:37:25.989Z"
   },
   {
    "duration": 69,
    "start_time": "2021-12-26T14:37:25.998Z"
   },
   {
    "duration": 9,
    "start_time": "2021-12-26T14:37:26.069Z"
   },
   {
    "duration": 70,
    "start_time": "2021-12-26T14:37:26.080Z"
   },
   {
    "duration": 17,
    "start_time": "2021-12-26T14:37:26.151Z"
   },
   {
    "duration": 4,
    "start_time": "2021-12-26T14:37:26.169Z"
   },
   {
    "duration": 11,
    "start_time": "2021-12-26T14:37:26.175Z"
   },
   {
    "duration": 187,
    "start_time": "2021-12-26T14:37:26.188Z"
   },
   {
    "duration": 7,
    "start_time": "2021-12-26T14:37:58.758Z"
   },
   {
    "duration": 14,
    "start_time": "2021-12-26T14:39:54.261Z"
   },
   {
    "duration": 24,
    "start_time": "2021-12-26T14:42:51.340Z"
   },
   {
    "duration": 13,
    "start_time": "2021-12-26T14:45:36.694Z"
   },
   {
    "duration": 55,
    "start_time": "2021-12-26T14:45:48.347Z"
   },
   {
    "duration": 8,
    "start_time": "2021-12-26T14:45:48.404Z"
   },
   {
    "duration": 7,
    "start_time": "2021-12-26T14:45:48.414Z"
   },
   {
    "duration": 21,
    "start_time": "2021-12-26T14:45:48.423Z"
   },
   {
    "duration": 8,
    "start_time": "2021-12-26T14:45:48.445Z"
   },
   {
    "duration": 55,
    "start_time": "2021-12-26T14:45:48.454Z"
   },
   {
    "duration": 9,
    "start_time": "2021-12-26T14:45:48.511Z"
   },
   {
    "duration": 77,
    "start_time": "2021-12-26T14:45:48.521Z"
   },
   {
    "duration": 17,
    "start_time": "2021-12-26T14:45:48.600Z"
   },
   {
    "duration": 4,
    "start_time": "2021-12-26T14:45:48.618Z"
   },
   {
    "duration": 26,
    "start_time": "2021-12-26T14:45:48.623Z"
   },
   {
    "duration": 14,
    "start_time": "2021-12-26T14:45:48.650Z"
   },
   {
    "duration": 20,
    "start_time": "2021-12-26T14:45:48.665Z"
   },
   {
    "duration": 12,
    "start_time": "2021-12-26T14:45:48.687Z"
   },
   {
    "duration": 14,
    "start_time": "2021-12-26T15:01:30.826Z"
   },
   {
    "duration": 7,
    "start_time": "2021-12-26T15:01:47.740Z"
   },
   {
    "duration": 16,
    "start_time": "2021-12-26T15:02:32.947Z"
   },
   {
    "duration": 17,
    "start_time": "2021-12-26T15:02:46.519Z"
   },
   {
    "duration": 16,
    "start_time": "2021-12-26T15:03:29.087Z"
   },
   {
    "duration": 34,
    "start_time": "2021-12-26T15:04:25.931Z"
   },
   {
    "duration": 38,
    "start_time": "2021-12-26T15:04:30.507Z"
   },
   {
    "duration": 34,
    "start_time": "2021-12-26T15:05:05.963Z"
   },
   {
    "duration": 59,
    "start_time": "2021-12-26T15:08:40.060Z"
   },
   {
    "duration": 10,
    "start_time": "2021-12-26T15:08:40.120Z"
   },
   {
    "duration": 14,
    "start_time": "2021-12-26T15:08:40.132Z"
   },
   {
    "duration": 21,
    "start_time": "2021-12-26T15:08:40.148Z"
   },
   {
    "duration": 8,
    "start_time": "2021-12-26T15:08:40.171Z"
   },
   {
    "duration": 63,
    "start_time": "2021-12-26T15:08:40.181Z"
   },
   {
    "duration": 9,
    "start_time": "2021-12-26T15:08:40.246Z"
   },
   {
    "duration": 63,
    "start_time": "2021-12-26T15:08:40.257Z"
   },
   {
    "duration": 20,
    "start_time": "2021-12-26T15:08:40.341Z"
   },
   {
    "duration": 4,
    "start_time": "2021-12-26T15:08:40.363Z"
   },
   {
    "duration": 209,
    "start_time": "2021-12-26T15:08:40.369Z"
   },
   {
    "duration": -111,
    "start_time": "2021-12-26T15:08:40.691Z"
   },
   {
    "duration": -113,
    "start_time": "2021-12-26T15:08:40.694Z"
   },
   {
    "duration": -114,
    "start_time": "2021-12-26T15:08:40.695Z"
   },
   {
    "duration": -117,
    "start_time": "2021-12-26T15:08:40.699Z"
   },
   {
    "duration": 59,
    "start_time": "2021-12-26T15:08:48.447Z"
   },
   {
    "duration": 9,
    "start_time": "2021-12-26T15:08:48.508Z"
   },
   {
    "duration": 23,
    "start_time": "2021-12-26T15:08:48.519Z"
   },
   {
    "duration": 13,
    "start_time": "2021-12-26T15:08:48.543Z"
   },
   {
    "duration": 13,
    "start_time": "2021-12-26T15:08:48.557Z"
   },
   {
    "duration": 49,
    "start_time": "2021-12-26T15:08:48.571Z"
   },
   {
    "duration": 25,
    "start_time": "2021-12-26T15:08:48.622Z"
   },
   {
    "duration": 63,
    "start_time": "2021-12-26T15:08:48.649Z"
   },
   {
    "duration": 36,
    "start_time": "2021-12-26T15:08:48.714Z"
   },
   {
    "duration": 6,
    "start_time": "2021-12-26T15:08:48.751Z"
   },
   {
    "duration": 13,
    "start_time": "2021-12-26T15:08:48.758Z"
   },
   {
    "duration": 12,
    "start_time": "2021-12-26T15:08:48.772Z"
   },
   {
    "duration": 22,
    "start_time": "2021-12-26T15:08:48.786Z"
   },
   {
    "duration": 49,
    "start_time": "2021-12-26T15:08:48.810Z"
   },
   {
    "duration": 409,
    "start_time": "2021-12-26T15:08:48.861Z"
   },
   {
    "duration": 313,
    "start_time": "2021-12-26T15:10:08.831Z"
   },
   {
    "duration": 4,
    "start_time": "2021-12-26T15:12:32.564Z"
   },
   {
    "duration": 62,
    "start_time": "2021-12-26T15:12:35.876Z"
   },
   {
    "duration": 10,
    "start_time": "2021-12-26T15:12:35.939Z"
   },
   {
    "duration": 13,
    "start_time": "2021-12-26T15:12:35.951Z"
   },
   {
    "duration": 21,
    "start_time": "2021-12-26T15:12:35.966Z"
   },
   {
    "duration": 12,
    "start_time": "2021-12-26T15:12:35.989Z"
   },
   {
    "duration": 113,
    "start_time": "2021-12-26T15:12:36.002Z"
   },
   {
    "duration": 15,
    "start_time": "2021-12-26T15:12:36.117Z"
   },
   {
    "duration": 116,
    "start_time": "2021-12-26T15:12:36.142Z"
   },
   {
    "duration": 28,
    "start_time": "2021-12-26T15:12:36.260Z"
   },
   {
    "duration": 5,
    "start_time": "2021-12-26T15:12:36.290Z"
   },
   {
    "duration": 16,
    "start_time": "2021-12-26T15:12:36.297Z"
   },
   {
    "duration": 42,
    "start_time": "2021-12-26T15:12:36.315Z"
   },
   {
    "duration": 17,
    "start_time": "2021-12-26T15:12:36.359Z"
   },
   {
    "duration": 27,
    "start_time": "2021-12-26T15:12:36.377Z"
   },
   {
    "duration": 4,
    "start_time": "2021-12-26T15:12:36.405Z"
   },
   {
    "duration": 13,
    "start_time": "2021-12-26T15:25:46.437Z"
   },
   {
    "duration": 197,
    "start_time": "2021-12-26T15:26:03.006Z"
   },
   {
    "duration": 54,
    "start_time": "2021-12-26T15:26:07.861Z"
   },
   {
    "duration": 9,
    "start_time": "2021-12-26T15:26:07.916Z"
   },
   {
    "duration": 11,
    "start_time": "2021-12-26T15:26:07.926Z"
   },
   {
    "duration": 13,
    "start_time": "2021-12-26T15:26:07.939Z"
   },
   {
    "duration": 8,
    "start_time": "2021-12-26T15:26:07.953Z"
   },
   {
    "duration": 48,
    "start_time": "2021-12-26T15:26:07.963Z"
   },
   {
    "duration": 9,
    "start_time": "2021-12-26T15:26:08.013Z"
   },
   {
    "duration": 63,
    "start_time": "2021-12-26T15:26:08.041Z"
   },
   {
    "duration": 17,
    "start_time": "2021-12-26T15:26:08.106Z"
   },
   {
    "duration": 18,
    "start_time": "2021-12-26T15:26:08.125Z"
   },
   {
    "duration": 18,
    "start_time": "2021-12-26T15:26:08.145Z"
   },
   {
    "duration": 13,
    "start_time": "2021-12-26T15:26:08.164Z"
   },
   {
    "duration": 16,
    "start_time": "2021-12-26T15:26:08.179Z"
   },
   {
    "duration": 45,
    "start_time": "2021-12-26T15:26:08.197Z"
   },
   {
    "duration": 206,
    "start_time": "2021-12-26T15:26:08.243Z"
   },
   {
    "duration": 191,
    "start_time": "2021-12-26T15:26:16.139Z"
   },
   {
    "duration": 78,
    "start_time": "2021-12-26T15:46:56.453Z"
   },
   {
    "duration": 12,
    "start_time": "2021-12-26T15:46:56.533Z"
   },
   {
    "duration": 7,
    "start_time": "2021-12-26T15:46:56.547Z"
   },
   {
    "duration": 14,
    "start_time": "2021-12-26T15:46:56.556Z"
   },
   {
    "duration": 9,
    "start_time": "2021-12-26T15:46:56.571Z"
   },
   {
    "duration": 79,
    "start_time": "2021-12-26T15:46:56.581Z"
   },
   {
    "duration": 8,
    "start_time": "2021-12-26T15:46:56.662Z"
   },
   {
    "duration": 75,
    "start_time": "2021-12-26T15:46:56.672Z"
   },
   {
    "duration": 19,
    "start_time": "2021-12-26T15:46:56.749Z"
   },
   {
    "duration": 4,
    "start_time": "2021-12-26T15:46:56.770Z"
   },
   {
    "duration": 12,
    "start_time": "2021-12-26T15:46:56.775Z"
   },
   {
    "duration": 11,
    "start_time": "2021-12-26T15:46:56.789Z"
   },
   {
    "duration": 45,
    "start_time": "2021-12-26T15:46:56.801Z"
   },
   {
    "duration": 27,
    "start_time": "2021-12-26T15:46:56.848Z"
   },
   {
    "duration": 5,
    "start_time": "2021-12-26T15:46:56.876Z"
   },
   {
    "duration": 22,
    "start_time": "2021-12-26T15:46:56.884Z"
   },
   {
    "duration": 262,
    "start_time": "2021-12-26T16:00:38.869Z"
   },
   {
    "duration": 54,
    "start_time": "2021-12-26T16:00:46.259Z"
   },
   {
    "duration": 9,
    "start_time": "2021-12-26T16:00:46.315Z"
   },
   {
    "duration": 15,
    "start_time": "2021-12-26T16:00:46.325Z"
   },
   {
    "duration": 16,
    "start_time": "2021-12-26T16:00:46.341Z"
   },
   {
    "duration": 8,
    "start_time": "2021-12-26T16:00:46.358Z"
   },
   {
    "duration": 50,
    "start_time": "2021-12-26T16:00:46.368Z"
   },
   {
    "duration": 21,
    "start_time": "2021-12-26T16:00:46.419Z"
   },
   {
    "duration": 67,
    "start_time": "2021-12-26T16:00:46.442Z"
   },
   {
    "duration": 36,
    "start_time": "2021-12-26T16:00:46.511Z"
   },
   {
    "duration": 4,
    "start_time": "2021-12-26T16:00:46.549Z"
   },
   {
    "duration": 16,
    "start_time": "2021-12-26T16:00:46.554Z"
   },
   {
    "duration": 13,
    "start_time": "2021-12-26T16:00:46.572Z"
   },
   {
    "duration": 15,
    "start_time": "2021-12-26T16:00:46.587Z"
   },
   {
    "duration": 56,
    "start_time": "2021-12-26T16:00:46.604Z"
   },
   {
    "duration": 239,
    "start_time": "2021-12-26T16:00:46.662Z"
   },
   {
    "duration": -131,
    "start_time": "2021-12-26T16:00:47.034Z"
   },
   {
    "duration": 17,
    "start_time": "2021-12-26T16:00:53.177Z"
   },
   {
    "duration": 190,
    "start_time": "2021-12-26T16:11:41.302Z"
   },
   {
    "duration": 215,
    "start_time": "2021-12-26T16:11:57.361Z"
   },
   {
    "duration": 65,
    "start_time": "2021-12-26T16:14:40.605Z"
   },
   {
    "duration": 11,
    "start_time": "2021-12-26T16:14:40.682Z"
   },
   {
    "duration": 7,
    "start_time": "2021-12-26T16:14:40.708Z"
   },
   {
    "duration": 12,
    "start_time": "2021-12-26T16:14:40.751Z"
   },
   {
    "duration": 28,
    "start_time": "2021-12-26T16:14:40.816Z"
   },
   {
    "duration": 51,
    "start_time": "2021-12-26T16:14:40.856Z"
   },
   {
    "duration": 10,
    "start_time": "2021-12-26T16:14:40.996Z"
   },
   {
    "duration": 61,
    "start_time": "2021-12-26T16:14:41.042Z"
   },
   {
    "duration": 30,
    "start_time": "2021-12-26T16:14:41.112Z"
   },
   {
    "duration": 4,
    "start_time": "2021-12-26T16:14:41.153Z"
   },
   {
    "duration": 9,
    "start_time": "2021-12-26T16:14:41.172Z"
   },
   {
    "duration": 12,
    "start_time": "2021-12-26T16:14:41.200Z"
   },
   {
    "duration": 13,
    "start_time": "2021-12-26T16:14:41.271Z"
   },
   {
    "duration": 26065,
    "start_time": "2021-12-26T16:15:07.082Z"
   },
   {
    "duration": -137,
    "start_time": "2021-12-26T16:15:33.615Z"
   },
   {
    "duration": -139,
    "start_time": "2021-12-26T16:15:33.618Z"
   },
   {
    "duration": -138,
    "start_time": "2021-12-26T16:15:33.619Z"
   },
   {
    "duration": -138,
    "start_time": "2021-12-26T16:15:33.620Z"
   },
   {
    "duration": -138,
    "start_time": "2021-12-26T16:15:33.621Z"
   },
   {
    "duration": -138,
    "start_time": "2021-12-26T16:15:33.622Z"
   },
   {
    "duration": -138,
    "start_time": "2021-12-26T16:15:33.623Z"
   },
   {
    "duration": -140,
    "start_time": "2021-12-26T16:15:33.625Z"
   },
   {
    "duration": -140,
    "start_time": "2021-12-26T16:15:33.626Z"
   },
   {
    "duration": -141,
    "start_time": "2021-12-26T16:15:33.627Z"
   },
   {
    "duration": -145,
    "start_time": "2021-12-26T16:15:33.632Z"
   },
   {
    "duration": -147,
    "start_time": "2021-12-26T16:15:33.634Z"
   },
   {
    "duration": -147,
    "start_time": "2021-12-26T16:15:33.635Z"
   },
   {
    "duration": -148,
    "start_time": "2021-12-26T16:15:33.637Z"
   },
   {
    "duration": 54,
    "start_time": "2021-12-26T16:16:15.941Z"
   },
   {
    "duration": 75,
    "start_time": "2021-12-26T16:18:09.667Z"
   },
   {
    "duration": 10,
    "start_time": "2021-12-26T16:18:09.743Z"
   },
   {
    "duration": 9,
    "start_time": "2021-12-26T16:18:09.754Z"
   },
   {
    "duration": 15,
    "start_time": "2021-12-26T16:18:09.765Z"
   },
   {
    "duration": 8,
    "start_time": "2021-12-26T16:18:09.782Z"
   },
   {
    "duration": 71,
    "start_time": "2021-12-26T16:18:09.791Z"
   },
   {
    "duration": 9,
    "start_time": "2021-12-26T16:18:09.864Z"
   },
   {
    "duration": 73,
    "start_time": "2021-12-26T16:18:09.874Z"
   },
   {
    "duration": 19,
    "start_time": "2021-12-26T16:18:09.950Z"
   },
   {
    "duration": 6,
    "start_time": "2021-12-26T16:18:09.970Z"
   },
   {
    "duration": 11,
    "start_time": "2021-12-26T16:18:09.977Z"
   },
   {
    "duration": 11,
    "start_time": "2021-12-26T16:18:09.990Z"
   },
   {
    "duration": 41,
    "start_time": "2021-12-26T16:18:10.003Z"
   },
   {
    "duration": 29,
    "start_time": "2021-12-26T16:18:10.045Z"
   },
   {
    "duration": 28,
    "start_time": "2021-12-26T16:18:10.076Z"
   },
   {
    "duration": 4,
    "start_time": "2021-12-26T16:32:24.645Z"
   },
   {
    "duration": 25007,
    "start_time": "2021-12-26T16:32:54.183Z"
   },
   {
    "duration": 80,
    "start_time": "2021-12-26T16:33:19.197Z"
   },
   {
    "duration": 9,
    "start_time": "2021-12-26T16:33:19.279Z"
   },
   {
    "duration": 8,
    "start_time": "2021-12-26T16:33:19.290Z"
   },
   {
    "duration": 12,
    "start_time": "2021-12-26T16:33:19.300Z"
   },
   {
    "duration": 27,
    "start_time": "2021-12-26T16:33:19.314Z"
   },
   {
    "duration": 53,
    "start_time": "2021-12-26T16:33:19.343Z"
   },
   {
    "duration": 11,
    "start_time": "2021-12-26T16:33:19.398Z"
   },
   {
    "duration": 93,
    "start_time": "2021-12-26T16:33:19.411Z"
   },
   {
    "duration": 22,
    "start_time": "2021-12-26T16:33:19.506Z"
   },
   {
    "duration": 5,
    "start_time": "2021-12-26T16:33:19.542Z"
   },
   {
    "duration": 12,
    "start_time": "2021-12-26T16:33:19.548Z"
   },
   {
    "duration": 13,
    "start_time": "2021-12-26T16:33:19.562Z"
   },
   {
    "duration": 18,
    "start_time": "2021-12-26T16:33:19.576Z"
   },
   {
    "duration": 56,
    "start_time": "2021-12-26T16:33:19.596Z"
   },
   {
    "duration": 4,
    "start_time": "2021-12-26T16:33:19.653Z"
   },
   {
    "duration": 626,
    "start_time": "2021-12-26T16:33:41.009Z"
   },
   {
    "duration": 10,
    "start_time": "2021-12-26T16:33:41.636Z"
   },
   {
    "duration": 8,
    "start_time": "2021-12-26T16:33:41.647Z"
   },
   {
    "duration": 16,
    "start_time": "2021-12-26T16:33:41.657Z"
   },
   {
    "duration": 8,
    "start_time": "2021-12-26T16:33:41.674Z"
   },
   {
    "duration": 61,
    "start_time": "2021-12-26T16:33:41.684Z"
   },
   {
    "duration": 9,
    "start_time": "2021-12-26T16:33:41.746Z"
   },
   {
    "duration": 63,
    "start_time": "2021-12-26T16:33:41.757Z"
   },
   {
    "duration": 34,
    "start_time": "2021-12-26T16:33:41.822Z"
   },
   {
    "duration": 5,
    "start_time": "2021-12-26T16:33:41.859Z"
   },
   {
    "duration": 16,
    "start_time": "2021-12-26T16:33:41.866Z"
   },
   {
    "duration": 18,
    "start_time": "2021-12-26T16:33:41.884Z"
   },
   {
    "duration": 46,
    "start_time": "2021-12-26T16:33:41.904Z"
   },
   {
    "duration": 41,
    "start_time": "2021-12-26T16:33:41.952Z"
   },
   {
    "duration": 5,
    "start_time": "2021-12-26T16:33:41.995Z"
   },
   {
    "duration": 252,
    "start_time": "2021-12-26T16:51:20.838Z"
   },
   {
    "duration": 3969,
    "start_time": "2021-12-26T16:51:39.531Z"
   },
   {
    "duration": 694,
    "start_time": "2021-12-26T16:51:55.508Z"
   },
   {
    "duration": 10,
    "start_time": "2021-12-26T16:51:56.204Z"
   },
   {
    "duration": 8,
    "start_time": "2021-12-26T16:51:56.217Z"
   },
   {
    "duration": 21,
    "start_time": "2021-12-26T16:51:56.226Z"
   },
   {
    "duration": 12,
    "start_time": "2021-12-26T16:51:56.249Z"
   },
   {
    "duration": 102,
    "start_time": "2021-12-26T16:51:56.263Z"
   },
   {
    "duration": 15,
    "start_time": "2021-12-26T16:51:56.367Z"
   },
   {
    "duration": 117,
    "start_time": "2021-12-26T16:51:56.385Z"
   },
   {
    "duration": 21,
    "start_time": "2021-12-26T16:51:56.505Z"
   },
   {
    "duration": 19,
    "start_time": "2021-12-26T16:51:56.527Z"
   },
   {
    "duration": 12,
    "start_time": "2021-12-26T16:51:56.548Z"
   },
   {
    "duration": 15,
    "start_time": "2021-12-26T16:51:56.561Z"
   },
   {
    "duration": 21,
    "start_time": "2021-12-26T16:51:56.578Z"
   },
   {
    "duration": 64,
    "start_time": "2021-12-26T16:51:56.601Z"
   },
   {
    "duration": 4215,
    "start_time": "2021-12-26T16:51:56.668Z"
   },
   {
    "duration": 81,
    "start_time": "2021-12-26T16:54:56.794Z"
   },
   {
    "duration": 10,
    "start_time": "2021-12-26T16:54:56.877Z"
   },
   {
    "duration": 8,
    "start_time": "2021-12-26T16:54:56.890Z"
   },
   {
    "duration": 14,
    "start_time": "2021-12-26T16:54:56.900Z"
   },
   {
    "duration": 33,
    "start_time": "2021-12-26T16:54:56.916Z"
   },
   {
    "duration": 61,
    "start_time": "2021-12-26T16:54:56.951Z"
   },
   {
    "duration": 28,
    "start_time": "2021-12-26T16:54:57.014Z"
   },
   {
    "duration": 127,
    "start_time": "2021-12-26T16:54:57.045Z"
   },
   {
    "duration": 20,
    "start_time": "2021-12-26T16:54:57.175Z"
   },
   {
    "duration": 8,
    "start_time": "2021-12-26T16:54:57.197Z"
   },
   {
    "duration": 13,
    "start_time": "2021-12-26T16:54:57.208Z"
   },
   {
    "duration": 31,
    "start_time": "2021-12-26T16:54:57.223Z"
   },
   {
    "duration": 22,
    "start_time": "2021-12-26T16:54:57.256Z"
   },
   {
    "duration": 62,
    "start_time": "2021-12-26T16:54:57.280Z"
   },
   {
    "duration": 4741,
    "start_time": "2021-12-26T16:54:57.344Z"
   },
   {
    "duration": 4099,
    "start_time": "2021-12-26T16:55:16.546Z"
   },
   {
    "duration": 3857,
    "start_time": "2021-12-26T16:56:26.496Z"
   },
   {
    "duration": 678,
    "start_time": "2021-12-28T11:51:24.109Z"
   },
   {
    "duration": 10,
    "start_time": "2021-12-28T11:51:24.789Z"
   },
   {
    "duration": 7,
    "start_time": "2021-12-28T11:51:24.801Z"
   },
   {
    "duration": 18,
    "start_time": "2021-12-28T11:51:24.810Z"
   },
   {
    "duration": 10,
    "start_time": "2021-12-28T11:51:24.829Z"
   },
   {
    "duration": 328,
    "start_time": "2021-12-28T11:51:24.840Z"
   },
   {
    "duration": -162,
    "start_time": "2021-12-28T11:51:25.332Z"
   },
   {
    "duration": -166,
    "start_time": "2021-12-28T11:51:25.337Z"
   },
   {
    "duration": -167,
    "start_time": "2021-12-28T11:51:25.339Z"
   },
   {
    "duration": -169,
    "start_time": "2021-12-28T11:51:25.342Z"
   },
   {
    "duration": -176,
    "start_time": "2021-12-28T11:51:25.350Z"
   },
   {
    "duration": -180,
    "start_time": "2021-12-28T11:51:25.355Z"
   },
   {
    "duration": -180,
    "start_time": "2021-12-28T11:51:25.356Z"
   },
   {
    "duration": -181,
    "start_time": "2021-12-28T11:51:25.357Z"
   },
   {
    "duration": -182,
    "start_time": "2021-12-28T11:51:25.359Z"
   },
   {
    "duration": -187,
    "start_time": "2021-12-28T11:51:25.365Z"
   },
   {
    "duration": 56,
    "start_time": "2021-12-28T11:51:31.383Z"
   },
   {
    "duration": 11,
    "start_time": "2021-12-28T11:51:31.441Z"
   },
   {
    "duration": 8,
    "start_time": "2021-12-28T11:51:31.454Z"
   },
   {
    "duration": 15,
    "start_time": "2021-12-28T11:51:31.464Z"
   },
   {
    "duration": 9,
    "start_time": "2021-12-28T11:51:31.480Z"
   },
   {
    "duration": 300,
    "start_time": "2021-12-28T11:51:31.491Z"
   },
   {
    "duration": -141,
    "start_time": "2021-12-28T11:51:31.934Z"
   },
   {
    "duration": -142,
    "start_time": "2021-12-28T11:51:31.936Z"
   },
   {
    "duration": -158,
    "start_time": "2021-12-28T11:51:31.953Z"
   },
   {
    "duration": -159,
    "start_time": "2021-12-28T11:51:31.955Z"
   },
   {
    "duration": -159,
    "start_time": "2021-12-28T11:51:31.956Z"
   },
   {
    "duration": -160,
    "start_time": "2021-12-28T11:51:31.958Z"
   },
   {
    "duration": -161,
    "start_time": "2021-12-28T11:51:31.960Z"
   },
   {
    "duration": -162,
    "start_time": "2021-12-28T11:51:31.962Z"
   },
   {
    "duration": -162,
    "start_time": "2021-12-28T11:51:31.963Z"
   },
   {
    "duration": -162,
    "start_time": "2021-12-28T11:51:31.964Z"
   },
   {
    "duration": 514,
    "start_time": "2021-12-28T11:53:00.296Z"
   },
   {
    "duration": 54,
    "start_time": "2021-12-28T11:53:51.460Z"
   },
   {
    "duration": 9,
    "start_time": "2021-12-28T11:53:51.516Z"
   },
   {
    "duration": 14,
    "start_time": "2021-12-28T11:53:51.527Z"
   },
   {
    "duration": 17,
    "start_time": "2021-12-28T11:53:51.542Z"
   },
   {
    "duration": 8,
    "start_time": "2021-12-28T11:53:51.560Z"
   },
   {
    "duration": 62,
    "start_time": "2021-12-28T11:53:51.570Z"
   },
   {
    "duration": 10,
    "start_time": "2021-12-28T11:53:51.633Z"
   },
   {
    "duration": 64,
    "start_time": "2021-12-28T11:53:51.644Z"
   },
   {
    "duration": 33,
    "start_time": "2021-12-28T11:53:51.710Z"
   },
   {
    "duration": 9,
    "start_time": "2021-12-28T11:53:51.745Z"
   },
   {
    "duration": 14,
    "start_time": "2021-12-28T11:53:51.756Z"
   },
   {
    "duration": 13,
    "start_time": "2021-12-28T11:53:51.772Z"
   },
   {
    "duration": 42,
    "start_time": "2021-12-28T11:53:51.787Z"
   },
   {
    "duration": 31,
    "start_time": "2021-12-28T11:53:51.831Z"
   },
   {
    "duration": 4125,
    "start_time": "2021-12-28T11:53:51.863Z"
   },
   {
    "duration": 43,
    "start_time": "2021-12-28T11:53:55.989Z"
   },
   {
    "duration": 29,
    "start_time": "2021-12-28T12:07:14.088Z"
   },
   {
    "duration": 73,
    "start_time": "2021-12-28T12:07:26.981Z"
   },
   {
    "duration": 9,
    "start_time": "2021-12-28T12:07:27.056Z"
   },
   {
    "duration": 7,
    "start_time": "2021-12-28T12:07:27.067Z"
   },
   {
    "duration": 13,
    "start_time": "2021-12-28T12:07:27.076Z"
   },
   {
    "duration": 37,
    "start_time": "2021-12-28T12:07:27.091Z"
   },
   {
    "duration": 50,
    "start_time": "2021-12-28T12:07:27.130Z"
   },
   {
    "duration": 10,
    "start_time": "2021-12-28T12:07:27.182Z"
   },
   {
    "duration": 83,
    "start_time": "2021-12-28T12:07:27.193Z"
   },
   {
    "duration": 18,
    "start_time": "2021-12-28T12:07:27.279Z"
   },
   {
    "duration": 3,
    "start_time": "2021-12-28T12:07:27.299Z"
   },
   {
    "duration": 27,
    "start_time": "2021-12-28T12:07:27.304Z"
   },
   {
    "duration": 13,
    "start_time": "2021-12-28T12:07:27.333Z"
   },
   {
    "duration": 18,
    "start_time": "2021-12-28T12:07:27.348Z"
   },
   {
    "duration": 29,
    "start_time": "2021-12-28T12:07:27.367Z"
   },
   {
    "duration": 4282,
    "start_time": "2021-12-28T12:07:27.398Z"
   },
   {
    "duration": 33,
    "start_time": "2021-12-28T12:07:31.682Z"
   },
   {
    "duration": 13,
    "start_time": "2021-12-28T12:11:36.725Z"
   },
   {
    "duration": 13,
    "start_time": "2021-12-28T12:11:52.559Z"
   },
   {
    "duration": 15,
    "start_time": "2021-12-28T12:12:14.627Z"
   },
   {
    "duration": 18,
    "start_time": "2021-12-28T12:12:30.209Z"
   },
   {
    "duration": 15,
    "start_time": "2021-12-28T12:12:42.553Z"
   },
   {
    "duration": 15,
    "start_time": "2021-12-28T12:13:08.339Z"
   },
   {
    "duration": 16,
    "start_time": "2021-12-28T12:14:47.349Z"
   },
   {
    "duration": 17,
    "start_time": "2021-12-28T12:15:42.796Z"
   },
   {
    "duration": 20,
    "start_time": "2021-12-28T12:15:53.445Z"
   },
   {
    "duration": 18,
    "start_time": "2021-12-28T12:16:03.820Z"
   },
   {
    "duration": 18,
    "start_time": "2021-12-28T12:16:08.508Z"
   },
   {
    "duration": 20,
    "start_time": "2021-12-28T12:16:32.460Z"
   },
   {
    "duration": 275,
    "start_time": "2021-12-28T13:04:55.913Z"
   },
   {
    "duration": 307,
    "start_time": "2021-12-28T13:05:13.924Z"
   },
   {
    "duration": 11,
    "start_time": "2021-12-28T13:05:19.844Z"
   },
   {
    "duration": 12,
    "start_time": "2021-12-28T13:08:27.917Z"
   },
   {
    "duration": 6,
    "start_time": "2021-12-28T13:09:15.646Z"
   },
   {
    "duration": 78,
    "start_time": "2021-12-28T13:09:19.191Z"
   },
   {
    "duration": 11,
    "start_time": "2021-12-28T13:09:19.271Z"
   },
   {
    "duration": 8,
    "start_time": "2021-12-28T13:09:19.285Z"
   },
   {
    "duration": 37,
    "start_time": "2021-12-28T13:09:19.295Z"
   },
   {
    "duration": 8,
    "start_time": "2021-12-28T13:09:19.334Z"
   },
   {
    "duration": 51,
    "start_time": "2021-12-28T13:09:19.343Z"
   },
   {
    "duration": 9,
    "start_time": "2021-12-28T13:09:19.396Z"
   },
   {
    "duration": 81,
    "start_time": "2021-12-28T13:09:19.407Z"
   },
   {
    "duration": 20,
    "start_time": "2021-12-28T13:09:19.490Z"
   },
   {
    "duration": 4,
    "start_time": "2021-12-28T13:09:19.528Z"
   },
   {
    "duration": 12,
    "start_time": "2021-12-28T13:09:19.533Z"
   },
   {
    "duration": 13,
    "start_time": "2021-12-28T13:09:19.547Z"
   },
   {
    "duration": 14,
    "start_time": "2021-12-28T13:09:19.561Z"
   },
   {
    "duration": 52,
    "start_time": "2021-12-28T13:09:19.577Z"
   },
   {
    "duration": 4207,
    "start_time": "2021-12-28T13:09:19.630Z"
   },
   {
    "duration": 23,
    "start_time": "2021-12-28T13:09:23.838Z"
   },
   {
    "duration": 4,
    "start_time": "2021-12-28T13:09:23.863Z"
   },
   {
    "duration": 15,
    "start_time": "2021-12-28T13:09:44.398Z"
   },
   {
    "duration": 9,
    "start_time": "2021-12-28T13:10:56.809Z"
   },
   {
    "duration": 10,
    "start_time": "2021-12-28T13:12:25.721Z"
   },
   {
    "duration": 23,
    "start_time": "2021-12-28T13:14:25.633Z"
   },
   {
    "duration": 22,
    "start_time": "2021-12-28T13:19:46.624Z"
   },
   {
    "duration": 21,
    "start_time": "2021-12-28T13:21:39.846Z"
   },
   {
    "duration": 21,
    "start_time": "2021-12-28T13:22:44.309Z"
   },
   {
    "duration": 26,
    "start_time": "2021-12-28T13:22:58.022Z"
   },
   {
    "duration": 23,
    "start_time": "2021-12-28T13:23:15.715Z"
   },
   {
    "duration": 18,
    "start_time": "2021-12-28T13:23:27.869Z"
   },
   {
    "duration": 55,
    "start_time": "2021-12-28T13:26:14.773Z"
   },
   {
    "duration": 56,
    "start_time": "2021-12-28T14:16:42.013Z"
   },
   {
    "duration": 83,
    "start_time": "2021-12-28T14:31:52.673Z"
   },
   {
    "duration": 14,
    "start_time": "2021-12-28T14:36:05.322Z"
   },
   {
    "duration": 15,
    "start_time": "2021-12-28T14:42:15.632Z"
   },
   {
    "duration": 61,
    "start_time": "2021-12-28T14:42:35.361Z"
   },
   {
    "duration": 10,
    "start_time": "2021-12-28T14:42:35.423Z"
   },
   {
    "duration": 8,
    "start_time": "2021-12-28T14:42:35.435Z"
   },
   {
    "duration": 16,
    "start_time": "2021-12-28T14:42:35.445Z"
   },
   {
    "duration": 8,
    "start_time": "2021-12-28T14:42:35.463Z"
   },
   {
    "duration": 73,
    "start_time": "2021-12-28T14:42:35.472Z"
   },
   {
    "duration": 9,
    "start_time": "2021-12-28T14:42:35.547Z"
   },
   {
    "duration": 76,
    "start_time": "2021-12-28T14:42:35.558Z"
   },
   {
    "duration": 18,
    "start_time": "2021-12-28T14:42:35.637Z"
   },
   {
    "duration": 10,
    "start_time": "2021-12-28T14:42:35.657Z"
   },
   {
    "duration": 14,
    "start_time": "2021-12-28T14:42:35.668Z"
   },
   {
    "duration": 13,
    "start_time": "2021-12-28T14:42:35.683Z"
   },
   {
    "duration": 32,
    "start_time": "2021-12-28T14:42:35.697Z"
   },
   {
    "duration": 30,
    "start_time": "2021-12-28T14:42:35.731Z"
   },
   {
    "duration": 4020,
    "start_time": "2021-12-28T14:42:35.762Z"
   },
   {
    "duration": 22,
    "start_time": "2021-12-28T14:42:39.784Z"
   },
   {
    "duration": 22,
    "start_time": "2021-12-28T14:42:39.807Z"
   },
   {
    "duration": 11,
    "start_time": "2021-12-28T14:42:39.831Z"
   },
   {
    "duration": 16,
    "start_time": "2021-12-28T14:42:39.844Z"
   },
   {
    "duration": 71,
    "start_time": "2021-12-28T14:42:39.862Z"
   },
   {
    "duration": 287,
    "start_time": "2021-12-28T14:42:39.934Z"
   },
   {
    "duration": -229,
    "start_time": "2021-12-28T14:42:40.451Z"
   },
   {
    "duration": 84,
    "start_time": "2021-12-28T14:42:59.090Z"
   },
   {
    "duration": 9,
    "start_time": "2021-12-28T14:42:59.176Z"
   },
   {
    "duration": 9,
    "start_time": "2021-12-28T14:42:59.187Z"
   },
   {
    "duration": 17,
    "start_time": "2021-12-28T14:42:59.197Z"
   },
   {
    "duration": 24,
    "start_time": "2021-12-28T14:42:59.215Z"
   },
   {
    "duration": 52,
    "start_time": "2021-12-28T14:42:59.240Z"
   },
   {
    "duration": 9,
    "start_time": "2021-12-28T14:42:59.294Z"
   },
   {
    "duration": 80,
    "start_time": "2021-12-28T14:42:59.304Z"
   },
   {
    "duration": 18,
    "start_time": "2021-12-28T14:42:59.387Z"
   },
   {
    "duration": 20,
    "start_time": "2021-12-28T14:42:59.407Z"
   },
   {
    "duration": 11,
    "start_time": "2021-12-28T14:42:59.429Z"
   },
   {
    "duration": 13,
    "start_time": "2021-12-28T14:42:59.441Z"
   },
   {
    "duration": 20,
    "start_time": "2021-12-28T14:42:59.455Z"
   },
   {
    "duration": 28,
    "start_time": "2021-12-28T14:42:59.477Z"
   },
   {
    "duration": 4324,
    "start_time": "2021-12-28T14:42:59.527Z"
   },
   {
    "duration": 24,
    "start_time": "2021-12-28T14:43:03.852Z"
   },
   {
    "duration": 10,
    "start_time": "2021-12-28T14:43:03.877Z"
   },
   {
    "duration": 11,
    "start_time": "2021-12-28T14:43:03.889Z"
   },
   {
    "duration": 35,
    "start_time": "2021-12-28T14:43:03.901Z"
   },
   {
    "duration": 57,
    "start_time": "2021-12-28T14:43:03.937Z"
   },
   {
    "duration": 109,
    "start_time": "2021-12-28T14:43:03.995Z"
   },
   {
    "duration": 22,
    "start_time": "2021-12-28T14:43:04.106Z"
   },
   {
    "duration": 74,
    "start_time": "2021-12-28T14:43:45.863Z"
   },
   {
    "duration": 9,
    "start_time": "2021-12-28T14:43:45.939Z"
   },
   {
    "duration": 8,
    "start_time": "2021-12-28T14:43:45.950Z"
   },
   {
    "duration": 13,
    "start_time": "2021-12-28T14:43:45.959Z"
   },
   {
    "duration": 9,
    "start_time": "2021-12-28T14:43:45.974Z"
   },
   {
    "duration": 85,
    "start_time": "2021-12-28T14:43:45.984Z"
   },
   {
    "duration": 10,
    "start_time": "2021-12-28T14:43:46.071Z"
   },
   {
    "duration": 77,
    "start_time": "2021-12-28T14:43:46.083Z"
   },
   {
    "duration": 19,
    "start_time": "2021-12-28T14:43:46.164Z"
   },
   {
    "duration": 5,
    "start_time": "2021-12-28T14:43:46.185Z"
   },
   {
    "duration": 10,
    "start_time": "2021-12-28T14:43:46.191Z"
   },
   {
    "duration": 13,
    "start_time": "2021-12-28T14:43:46.227Z"
   },
   {
    "duration": 14,
    "start_time": "2021-12-28T14:43:46.242Z"
   },
   {
    "duration": 28,
    "start_time": "2021-12-28T14:43:46.258Z"
   },
   {
    "duration": 4222,
    "start_time": "2021-12-28T14:43:46.288Z"
   },
   {
    "duration": 35,
    "start_time": "2021-12-28T14:43:50.512Z"
   },
   {
    "duration": 9,
    "start_time": "2021-12-28T14:43:50.548Z"
   },
   {
    "duration": 10,
    "start_time": "2021-12-28T14:43:50.559Z"
   },
   {
    "duration": 18,
    "start_time": "2021-12-28T14:43:50.570Z"
   },
   {
    "duration": 72,
    "start_time": "2021-12-28T14:43:50.589Z"
   },
   {
    "duration": 85,
    "start_time": "2021-12-28T14:43:50.662Z"
   },
   {
    "duration": 14,
    "start_time": "2021-12-28T14:43:50.748Z"
   },
   {
    "duration": 3521,
    "start_time": "2021-12-28T14:51:44.948Z"
   },
   {
    "duration": 3463,
    "start_time": "2021-12-28T14:53:26.826Z"
   },
   {
    "duration": 3563,
    "start_time": "2021-12-28T14:53:46.304Z"
   },
   {
    "duration": 414,
    "start_time": "2021-12-28T17:14:00.393Z"
   },
   {
    "duration": 307,
    "start_time": "2021-12-28T17:14:15.478Z"
   },
   {
    "duration": 4,
    "start_time": "2021-12-28T17:14:21.464Z"
   },
   {
    "duration": 3,
    "start_time": "2021-12-28T17:16:10.082Z"
   },
   {
    "duration": 569,
    "start_time": "2021-12-28T17:16:45.225Z"
   },
   {
    "duration": 124,
    "start_time": "2021-12-28T17:16:57.668Z"
   },
   {
    "duration": 22,
    "start_time": "2021-12-28T17:16:57.795Z"
   },
   {
    "duration": 20,
    "start_time": "2021-12-28T17:16:57.820Z"
   },
   {
    "duration": 22,
    "start_time": "2021-12-28T17:16:57.848Z"
   },
   {
    "duration": 94,
    "start_time": "2021-12-28T17:16:57.876Z"
   },
   {
    "duration": 57,
    "start_time": "2021-12-28T17:16:57.972Z"
   },
   {
    "duration": 9,
    "start_time": "2021-12-28T17:16:58.031Z"
   },
   {
    "duration": 66,
    "start_time": "2021-12-28T17:16:58.042Z"
   },
   {
    "duration": 27,
    "start_time": "2021-12-28T17:16:58.111Z"
   },
   {
    "duration": 5,
    "start_time": "2021-12-28T17:16:58.140Z"
   },
   {
    "duration": 12,
    "start_time": "2021-12-28T17:16:58.147Z"
   },
   {
    "duration": 12,
    "start_time": "2021-12-28T17:16:58.160Z"
   },
   {
    "duration": 16,
    "start_time": "2021-12-28T17:16:58.173Z"
   },
   {
    "duration": 51,
    "start_time": "2021-12-28T17:16:58.190Z"
   },
   {
    "duration": 4165,
    "start_time": "2021-12-28T17:16:58.242Z"
   },
   {
    "duration": 36,
    "start_time": "2021-12-28T17:17:02.409Z"
   },
   {
    "duration": 10,
    "start_time": "2021-12-28T17:17:02.446Z"
   },
   {
    "duration": 9,
    "start_time": "2021-12-28T17:17:02.458Z"
   },
   {
    "duration": 18,
    "start_time": "2021-12-28T17:17:02.468Z"
   },
   {
    "duration": 79,
    "start_time": "2021-12-28T17:17:02.488Z"
   },
   {
    "duration": 2,
    "start_time": "2021-12-28T17:17:02.569Z"
   },
   {
    "duration": 618,
    "start_time": "2021-12-28T17:17:02.573Z"
   },
   {
    "duration": 11,
    "start_time": "2021-12-28T17:17:27.768Z"
   },
   {
    "duration": 13,
    "start_time": "2021-12-28T17:21:43.439Z"
   },
   {
    "duration": 81,
    "start_time": "2021-12-28T17:21:54.149Z"
   },
   {
    "duration": 11,
    "start_time": "2021-12-28T17:21:54.232Z"
   },
   {
    "duration": 10,
    "start_time": "2021-12-28T17:21:54.245Z"
   },
   {
    "duration": 19,
    "start_time": "2021-12-28T17:21:54.256Z"
   },
   {
    "duration": 12,
    "start_time": "2021-12-28T17:21:54.276Z"
   },
   {
    "duration": 106,
    "start_time": "2021-12-28T17:21:54.290Z"
   },
   {
    "duration": 12,
    "start_time": "2021-12-28T17:21:54.399Z"
   },
   {
    "duration": 100,
    "start_time": "2021-12-28T17:21:54.414Z"
   },
   {
    "duration": 33,
    "start_time": "2021-12-28T17:21:54.517Z"
   },
   {
    "duration": 5,
    "start_time": "2021-12-28T17:21:54.552Z"
   },
   {
    "duration": 13,
    "start_time": "2021-12-28T17:21:54.559Z"
   },
   {
    "duration": 11,
    "start_time": "2021-12-28T17:21:54.574Z"
   },
   {
    "duration": 19,
    "start_time": "2021-12-28T17:21:54.587Z"
   },
   {
    "duration": 45,
    "start_time": "2021-12-28T17:21:54.607Z"
   },
   {
    "duration": 4275,
    "start_time": "2021-12-28T17:21:54.653Z"
   },
   {
    "duration": 13,
    "start_time": "2021-12-28T17:21:58.930Z"
   },
   {
    "duration": 25,
    "start_time": "2021-12-28T17:21:58.945Z"
   },
   {
    "duration": 9,
    "start_time": "2021-12-28T17:21:58.972Z"
   },
   {
    "duration": 10,
    "start_time": "2021-12-28T17:21:58.983Z"
   },
   {
    "duration": 47,
    "start_time": "2021-12-28T17:21:58.994Z"
   },
   {
    "duration": 53,
    "start_time": "2021-12-28T17:21:59.042Z"
   },
   {
    "duration": 3,
    "start_time": "2021-12-28T17:21:59.097Z"
   },
   {
    "duration": 30,
    "start_time": "2021-12-28T17:21:59.102Z"
   },
   {
    "duration": 3,
    "start_time": "2021-12-28T17:23:19.719Z"
   },
   {
    "duration": 9,
    "start_time": "2021-12-28T17:23:22.829Z"
   },
   {
    "duration": 78,
    "start_time": "2021-12-28T17:23:29.816Z"
   },
   {
    "duration": 9,
    "start_time": "2021-12-28T17:23:29.896Z"
   },
   {
    "duration": 9,
    "start_time": "2021-12-28T17:23:29.907Z"
   },
   {
    "duration": 21,
    "start_time": "2021-12-28T17:23:29.917Z"
   },
   {
    "duration": 9,
    "start_time": "2021-12-28T17:23:29.939Z"
   },
   {
    "duration": 50,
    "start_time": "2021-12-28T17:23:29.949Z"
   },
   {
    "duration": 31,
    "start_time": "2021-12-28T17:23:30.000Z"
   },
   {
    "duration": 78,
    "start_time": "2021-12-28T17:23:30.033Z"
   },
   {
    "duration": 24,
    "start_time": "2021-12-28T17:23:30.113Z"
   },
   {
    "duration": 10,
    "start_time": "2021-12-28T17:23:30.138Z"
   },
   {
    "duration": 17,
    "start_time": "2021-12-28T17:23:30.150Z"
   },
   {
    "duration": 26,
    "start_time": "2021-12-28T17:23:30.168Z"
   },
   {
    "duration": 29,
    "start_time": "2021-12-28T17:23:30.195Z"
   },
   {
    "duration": 37,
    "start_time": "2021-12-28T17:23:30.226Z"
   },
   {
    "duration": 4290,
    "start_time": "2021-12-28T17:23:30.265Z"
   },
   {
    "duration": 12,
    "start_time": "2021-12-28T17:23:34.556Z"
   },
   {
    "duration": 24,
    "start_time": "2021-12-28T17:23:34.569Z"
   },
   {
    "duration": 9,
    "start_time": "2021-12-28T17:23:34.595Z"
   },
   {
    "duration": 30,
    "start_time": "2021-12-28T17:23:34.605Z"
   },
   {
    "duration": 29,
    "start_time": "2021-12-28T17:23:34.637Z"
   },
   {
    "duration": 65,
    "start_time": "2021-12-28T17:23:34.668Z"
   },
   {
    "duration": 3,
    "start_time": "2021-12-28T17:23:34.734Z"
   },
   {
    "duration": 23,
    "start_time": "2021-12-28T17:23:34.739Z"
   },
   {
    "duration": 3973,
    "start_time": "2021-12-28T17:29:41.273Z"
   },
   {
    "duration": 4,
    "start_time": "2021-12-28T17:34:54.320Z"
   },
   {
    "duration": 8631,
    "start_time": "2021-12-28T17:46:23.824Z"
   },
   {
    "duration": 80,
    "start_time": "2021-12-28T17:46:42.960Z"
   },
   {
    "duration": 11,
    "start_time": "2021-12-28T17:46:43.042Z"
   },
   {
    "duration": 9,
    "start_time": "2021-12-28T17:46:43.055Z"
   },
   {
    "duration": 16,
    "start_time": "2021-12-28T17:46:43.065Z"
   },
   {
    "duration": 10,
    "start_time": "2021-12-28T17:46:43.082Z"
   },
   {
    "duration": 79,
    "start_time": "2021-12-28T17:46:43.093Z"
   },
   {
    "duration": 11,
    "start_time": "2021-12-28T17:46:43.173Z"
   },
   {
    "duration": 86,
    "start_time": "2021-12-28T17:46:43.188Z"
   },
   {
    "duration": 18,
    "start_time": "2021-12-28T17:46:43.277Z"
   },
   {
    "duration": 6,
    "start_time": "2021-12-28T17:46:43.297Z"
   },
   {
    "duration": 29,
    "start_time": "2021-12-28T17:46:43.305Z"
   },
   {
    "duration": 13,
    "start_time": "2021-12-28T17:46:43.336Z"
   },
   {
    "duration": 15,
    "start_time": "2021-12-28T17:46:43.351Z"
   },
   {
    "duration": 26,
    "start_time": "2021-12-28T17:46:43.368Z"
   },
   {
    "duration": 4406,
    "start_time": "2021-12-28T17:46:43.396Z"
   },
   {
    "duration": 12,
    "start_time": "2021-12-28T17:46:47.804Z"
   },
   {
    "duration": 25,
    "start_time": "2021-12-28T17:46:47.827Z"
   },
   {
    "duration": 8102,
    "start_time": "2021-12-28T17:46:47.853Z"
   },
   {
    "duration": -323,
    "start_time": "2021-12-28T17:46:56.281Z"
   },
   {
    "duration": -325,
    "start_time": "2021-12-28T17:46:56.284Z"
   },
   {
    "duration": -325,
    "start_time": "2021-12-28T17:46:56.286Z"
   },
   {
    "duration": -325,
    "start_time": "2021-12-28T17:46:56.287Z"
   },
   {
    "duration": -324,
    "start_time": "2021-12-28T17:46:56.288Z"
   },
   {
    "duration": -325,
    "start_time": "2021-12-28T17:46:56.290Z"
   },
   {
    "duration": 8914,
    "start_time": "2021-12-28T17:49:28.231Z"
   },
   {
    "duration": 9302,
    "start_time": "2021-12-28T17:49:45.121Z"
   },
   {
    "duration": 7954,
    "start_time": "2021-12-28T17:52:25.925Z"
   },
   {
    "duration": 78,
    "start_time": "2021-12-28T17:54:29.449Z"
   },
   {
    "duration": 9,
    "start_time": "2021-12-28T17:54:29.529Z"
   },
   {
    "duration": 8,
    "start_time": "2021-12-28T17:54:29.540Z"
   },
   {
    "duration": 17,
    "start_time": "2021-12-28T17:54:29.550Z"
   },
   {
    "duration": 9,
    "start_time": "2021-12-28T17:54:29.568Z"
   },
   {
    "duration": 79,
    "start_time": "2021-12-28T17:54:29.579Z"
   },
   {
    "duration": 10,
    "start_time": "2021-12-28T17:54:29.659Z"
   },
   {
    "duration": 76,
    "start_time": "2021-12-28T17:54:29.670Z"
   },
   {
    "duration": 19,
    "start_time": "2021-12-28T17:54:29.749Z"
   },
   {
    "duration": 5,
    "start_time": "2021-12-28T17:54:29.770Z"
   },
   {
    "duration": 12,
    "start_time": "2021-12-28T17:54:29.777Z"
   },
   {
    "duration": 12,
    "start_time": "2021-12-28T17:54:29.790Z"
   },
   {
    "duration": 15,
    "start_time": "2021-12-28T17:54:29.828Z"
   },
   {
    "duration": 27,
    "start_time": "2021-12-28T17:54:29.844Z"
   },
   {
    "duration": 4103,
    "start_time": "2021-12-28T17:54:29.872Z"
   },
   {
    "duration": 13,
    "start_time": "2021-12-28T17:54:33.977Z"
   },
   {
    "duration": 41,
    "start_time": "2021-12-28T17:54:33.991Z"
   },
   {
    "duration": 9,
    "start_time": "2021-12-28T17:54:34.033Z"
   },
   {
    "duration": 13,
    "start_time": "2021-12-28T17:54:34.044Z"
   },
   {
    "duration": 21,
    "start_time": "2021-12-28T17:54:34.059Z"
   },
   {
    "duration": 87,
    "start_time": "2021-12-28T17:54:34.082Z"
   },
   {
    "duration": 3,
    "start_time": "2021-12-28T17:54:34.171Z"
   },
   {
    "duration": 14,
    "start_time": "2021-12-28T17:54:34.176Z"
   },
   {
    "duration": 4,
    "start_time": "2021-12-28T17:54:34.191Z"
   },
   {
    "duration": 32,
    "start_time": "2021-12-28T17:54:34.196Z"
   },
   {
    "duration": 413,
    "start_time": "2021-12-28T18:01:16.462Z"
   },
   {
    "duration": 3,
    "start_time": "2021-12-28T18:02:07.523Z"
   },
   {
    "duration": 11,
    "start_time": "2021-12-28T18:02:43.902Z"
   },
   {
    "duration": 776,
    "start_time": "2021-12-28T18:05:15.982Z"
   },
   {
    "duration": 779,
    "start_time": "2021-12-28T18:08:47.691Z"
   },
   {
    "duration": 89,
    "start_time": "2021-12-28T18:08:50.170Z"
   },
   {
    "duration": 10,
    "start_time": "2021-12-28T18:08:50.260Z"
   },
   {
    "duration": 11,
    "start_time": "2021-12-28T18:08:50.271Z"
   },
   {
    "duration": 18,
    "start_time": "2021-12-28T18:08:50.284Z"
   },
   {
    "duration": 8,
    "start_time": "2021-12-28T18:08:50.304Z"
   },
   {
    "duration": 63,
    "start_time": "2021-12-28T18:08:50.314Z"
   },
   {
    "duration": 12,
    "start_time": "2021-12-28T18:08:50.379Z"
   },
   {
    "duration": 87,
    "start_time": "2021-12-28T18:08:50.394Z"
   },
   {
    "duration": 20,
    "start_time": "2021-12-28T18:08:50.483Z"
   },
   {
    "duration": 26,
    "start_time": "2021-12-28T18:08:50.504Z"
   },
   {
    "duration": 10,
    "start_time": "2021-12-28T18:08:50.532Z"
   },
   {
    "duration": 12,
    "start_time": "2021-12-28T18:08:50.544Z"
   },
   {
    "duration": 15,
    "start_time": "2021-12-28T18:08:50.558Z"
   },
   {
    "duration": 52,
    "start_time": "2021-12-28T18:08:50.575Z"
   },
   {
    "duration": 4280,
    "start_time": "2021-12-28T18:08:50.629Z"
   },
   {
    "duration": 20,
    "start_time": "2021-12-28T18:08:54.911Z"
   },
   {
    "duration": 779,
    "start_time": "2021-12-28T18:08:54.933Z"
   },
   {
    "duration": 14,
    "start_time": "2021-12-28T18:08:55.714Z"
   },
   {
    "duration": 8,
    "start_time": "2021-12-28T18:08:55.730Z"
   },
   {
    "duration": 17,
    "start_time": "2021-12-28T18:08:55.740Z"
   },
   {
    "duration": 75,
    "start_time": "2021-12-28T18:08:55.758Z"
   },
   {
    "duration": 3,
    "start_time": "2021-12-28T18:08:55.834Z"
   },
   {
    "duration": 10,
    "start_time": "2021-12-28T18:08:55.841Z"
   },
   {
    "duration": 9,
    "start_time": "2021-12-28T18:08:55.853Z"
   },
   {
    "duration": 10,
    "start_time": "2021-12-28T18:10:02.810Z"
   },
   {
    "duration": 77,
    "start_time": "2021-12-28T18:10:42.154Z"
   },
   {
    "duration": 11,
    "start_time": "2021-12-28T18:10:42.233Z"
   },
   {
    "duration": 8,
    "start_time": "2021-12-28T18:10:42.247Z"
   },
   {
    "duration": 13,
    "start_time": "2021-12-28T18:10:42.257Z"
   },
   {
    "duration": 8,
    "start_time": "2021-12-28T18:10:42.272Z"
   },
   {
    "duration": 85,
    "start_time": "2021-12-28T18:10:42.281Z"
   },
   {
    "duration": 9,
    "start_time": "2021-12-28T18:10:42.368Z"
   },
   {
    "duration": 78,
    "start_time": "2021-12-28T18:10:42.380Z"
   },
   {
    "duration": 19,
    "start_time": "2021-12-28T18:10:42.459Z"
   },
   {
    "duration": 5,
    "start_time": "2021-12-28T18:10:42.479Z"
   },
   {
    "duration": 11,
    "start_time": "2021-12-28T18:10:42.486Z"
   },
   {
    "duration": 32,
    "start_time": "2021-12-28T18:10:42.499Z"
   },
   {
    "duration": 16,
    "start_time": "2021-12-28T18:10:42.533Z"
   },
   {
    "duration": 28,
    "start_time": "2021-12-28T18:10:42.551Z"
   },
   {
    "duration": 4259,
    "start_time": "2021-12-28T18:10:42.580Z"
   },
   {
    "duration": 13,
    "start_time": "2021-12-28T18:10:46.841Z"
   },
   {
    "duration": 368,
    "start_time": "2021-12-28T18:10:46.856Z"
   },
   {
    "duration": 398,
    "start_time": "2021-12-28T18:10:47.225Z"
   },
   {
    "duration": 11,
    "start_time": "2021-12-28T18:10:47.625Z"
   },
   {
    "duration": 14,
    "start_time": "2021-12-28T18:10:47.638Z"
   },
   {
    "duration": 21,
    "start_time": "2021-12-28T18:10:47.653Z"
   },
   {
    "duration": 87,
    "start_time": "2021-12-28T18:10:47.676Z"
   },
   {
    "duration": 2,
    "start_time": "2021-12-28T18:10:47.766Z"
   },
   {
    "duration": 24,
    "start_time": "2021-12-28T18:10:47.770Z"
   },
   {
    "duration": 8,
    "start_time": "2021-12-28T18:10:47.796Z"
   },
   {
    "duration": 90,
    "start_time": "2021-12-28T18:11:24.246Z"
   },
   {
    "duration": 9,
    "start_time": "2021-12-28T18:11:24.338Z"
   },
   {
    "duration": 13,
    "start_time": "2021-12-28T18:11:24.349Z"
   },
   {
    "duration": 36,
    "start_time": "2021-12-28T18:11:24.363Z"
   },
   {
    "duration": 15,
    "start_time": "2021-12-28T18:11:24.400Z"
   },
   {
    "duration": 62,
    "start_time": "2021-12-28T18:11:24.417Z"
   },
   {
    "duration": 9,
    "start_time": "2021-12-28T18:11:24.480Z"
   },
   {
    "duration": 78,
    "start_time": "2021-12-28T18:11:24.491Z"
   },
   {
    "duration": 17,
    "start_time": "2021-12-28T18:11:24.572Z"
   },
   {
    "duration": 19,
    "start_time": "2021-12-28T18:11:24.591Z"
   },
   {
    "duration": 35,
    "start_time": "2021-12-28T18:11:24.612Z"
   },
   {
    "duration": 26,
    "start_time": "2021-12-28T18:11:24.649Z"
   },
   {
    "duration": 45,
    "start_time": "2021-12-28T18:11:24.676Z"
   },
   {
    "duration": 33,
    "start_time": "2021-12-28T18:11:24.723Z"
   },
   {
    "duration": 4184,
    "start_time": "2021-12-28T18:11:24.758Z"
   },
   {
    "duration": 12,
    "start_time": "2021-12-28T18:11:28.944Z"
   },
   {
    "duration": 455,
    "start_time": "2021-12-28T18:11:28.957Z"
   },
   {
    "duration": 417,
    "start_time": "2021-12-28T18:11:29.414Z"
   },
   {
    "duration": 10,
    "start_time": "2021-12-28T18:11:29.832Z"
   },
   {
    "duration": 20,
    "start_time": "2021-12-28T18:11:29.844Z"
   },
   {
    "duration": 18,
    "start_time": "2021-12-28T18:11:29.865Z"
   },
   {
    "duration": 73,
    "start_time": "2021-12-28T18:11:29.884Z"
   },
   {
    "duration": 2,
    "start_time": "2021-12-28T18:11:29.958Z"
   },
   {
    "duration": 16,
    "start_time": "2021-12-28T18:11:29.962Z"
   },
   {
    "duration": 7,
    "start_time": "2021-12-28T18:11:29.980Z"
   },
   {
    "duration": 21,
    "start_time": "2021-12-28T18:16:51.280Z"
   },
   {
    "duration": 37,
    "start_time": "2021-12-28T18:35:55.304Z"
   },
   {
    "duration": 31,
    "start_time": "2021-12-28T18:36:14.660Z"
   },
   {
    "duration": 1312,
    "start_time": "2021-12-28T18:42:15.978Z"
   },
   {
    "duration": 1947,
    "start_time": "2021-12-28T18:44:11.270Z"
   },
   {
    "duration": 79,
    "start_time": "2021-12-28T18:44:23.230Z"
   },
   {
    "duration": 19,
    "start_time": "2021-12-28T18:44:23.311Z"
   },
   {
    "duration": 9,
    "start_time": "2021-12-28T18:44:23.331Z"
   },
   {
    "duration": 13,
    "start_time": "2021-12-28T18:44:23.341Z"
   },
   {
    "duration": 8,
    "start_time": "2021-12-28T18:44:23.356Z"
   },
   {
    "duration": 83,
    "start_time": "2021-12-28T18:44:23.366Z"
   },
   {
    "duration": 9,
    "start_time": "2021-12-28T18:44:23.451Z"
   },
   {
    "duration": 76,
    "start_time": "2021-12-28T18:44:23.463Z"
   },
   {
    "duration": 19,
    "start_time": "2021-12-28T18:44:23.541Z"
   },
   {
    "duration": 4,
    "start_time": "2021-12-28T18:44:23.562Z"
   },
   {
    "duration": 12,
    "start_time": "2021-12-28T18:44:23.567Z"
   },
   {
    "duration": 12,
    "start_time": "2021-12-28T18:44:23.581Z"
   },
   {
    "duration": 44,
    "start_time": "2021-12-28T18:44:23.595Z"
   },
   {
    "duration": 29,
    "start_time": "2021-12-28T18:44:23.641Z"
   },
   {
    "duration": 4288,
    "start_time": "2021-12-28T18:44:23.672Z"
   },
   {
    "duration": 1407,
    "start_time": "2021-12-28T18:44:27.963Z"
   },
   {
    "duration": -319,
    "start_time": "2021-12-28T18:44:29.691Z"
   },
   {
    "duration": -320,
    "start_time": "2021-12-28T18:44:29.693Z"
   },
   {
    "duration": -319,
    "start_time": "2021-12-28T18:44:29.694Z"
   },
   {
    "duration": -319,
    "start_time": "2021-12-28T18:44:29.695Z"
   },
   {
    "duration": -318,
    "start_time": "2021-12-28T18:44:29.696Z"
   },
   {
    "duration": -319,
    "start_time": "2021-12-28T18:44:29.698Z"
   },
   {
    "duration": -319,
    "start_time": "2021-12-28T18:44:29.699Z"
   },
   {
    "duration": -319,
    "start_time": "2021-12-28T18:44:29.701Z"
   },
   {
    "duration": -320,
    "start_time": "2021-12-28T18:44:29.703Z"
   },
   {
    "duration": 1741,
    "start_time": "2021-12-28T18:44:43.374Z"
   },
   {
    "duration": 1655,
    "start_time": "2021-12-28T18:45:01.946Z"
   },
   {
    "duration": 81,
    "start_time": "2021-12-28T18:47:07.627Z"
   },
   {
    "duration": 18,
    "start_time": "2021-12-28T18:47:07.710Z"
   },
   {
    "duration": 9,
    "start_time": "2021-12-28T18:47:07.730Z"
   },
   {
    "duration": 15,
    "start_time": "2021-12-28T18:47:07.740Z"
   },
   {
    "duration": 9,
    "start_time": "2021-12-28T18:47:07.757Z"
   },
   {
    "duration": 78,
    "start_time": "2021-12-28T18:47:07.767Z"
   },
   {
    "duration": 10,
    "start_time": "2021-12-28T18:47:07.847Z"
   },
   {
    "duration": 76,
    "start_time": "2021-12-28T18:47:07.859Z"
   },
   {
    "duration": 19,
    "start_time": "2021-12-28T18:47:07.938Z"
   },
   {
    "duration": 6,
    "start_time": "2021-12-28T18:47:07.959Z"
   },
   {
    "duration": 10,
    "start_time": "2021-12-28T18:47:07.966Z"
   },
   {
    "duration": 12,
    "start_time": "2021-12-28T18:47:07.978Z"
   },
   {
    "duration": 40,
    "start_time": "2021-12-28T18:47:07.992Z"
   },
   {
    "duration": 31,
    "start_time": "2021-12-28T18:47:08.034Z"
   },
   {
    "duration": 4409,
    "start_time": "2021-12-28T18:47:08.067Z"
   },
   {
    "duration": 12,
    "start_time": "2021-12-28T18:47:12.478Z"
   },
   {
    "duration": 45,
    "start_time": "2021-12-28T18:47:12.492Z"
   },
   {
    "duration": 11,
    "start_time": "2021-12-28T18:47:12.539Z"
   },
   {
    "duration": 9,
    "start_time": "2021-12-28T18:47:12.552Z"
   },
   {
    "duration": 18,
    "start_time": "2021-12-28T18:47:12.562Z"
   },
   {
    "duration": 80,
    "start_time": "2021-12-28T18:47:12.582Z"
   },
   {
    "duration": 2,
    "start_time": "2021-12-28T18:47:12.664Z"
   },
   {
    "duration": 14,
    "start_time": "2021-12-28T18:47:12.667Z"
   },
   {
    "duration": 523,
    "start_time": "2021-12-28T18:56:24.736Z"
   },
   {
    "duration": 486,
    "start_time": "2021-12-28T18:56:49.540Z"
   },
   {
    "duration": 484,
    "start_time": "2021-12-28T19:00:54.348Z"
   },
   {
    "duration": 107,
    "start_time": "2021-12-28T19:04:58.658Z"
   },
   {
    "duration": 490,
    "start_time": "2021-12-28T19:05:14.670Z"
   },
   {
    "duration": 58,
    "start_time": "2021-12-28T19:06:17.720Z"
   },
   {
    "duration": 9,
    "start_time": "2021-12-28T19:06:17.779Z"
   },
   {
    "duration": 8,
    "start_time": "2021-12-28T19:06:17.790Z"
   },
   {
    "duration": 37,
    "start_time": "2021-12-28T19:06:17.799Z"
   },
   {
    "duration": 8,
    "start_time": "2021-12-28T19:06:17.838Z"
   },
   {
    "duration": 49,
    "start_time": "2021-12-28T19:06:17.848Z"
   },
   {
    "duration": 9,
    "start_time": "2021-12-28T19:06:17.899Z"
   },
   {
    "duration": 70,
    "start_time": "2021-12-28T19:06:17.927Z"
   },
   {
    "duration": 30,
    "start_time": "2021-12-28T19:06:18.004Z"
   },
   {
    "duration": 6,
    "start_time": "2021-12-28T19:06:18.035Z"
   },
   {
    "duration": 10,
    "start_time": "2021-12-28T19:06:18.043Z"
   },
   {
    "duration": 18,
    "start_time": "2021-12-28T19:06:18.055Z"
   },
   {
    "duration": 15,
    "start_time": "2021-12-28T19:06:18.075Z"
   },
   {
    "duration": 59,
    "start_time": "2021-12-28T19:06:18.091Z"
   },
   {
    "duration": 4231,
    "start_time": "2021-12-28T19:06:18.152Z"
   },
   {
    "duration": 13,
    "start_time": "2021-12-28T19:06:22.384Z"
   },
   {
    "duration": 509,
    "start_time": "2021-12-28T19:06:22.399Z"
   },
   {
    "duration": 18,
    "start_time": "2021-12-28T19:06:22.909Z"
   },
   {
    "duration": 9,
    "start_time": "2021-12-28T19:06:22.929Z"
   },
   {
    "duration": 19,
    "start_time": "2021-12-28T19:06:22.940Z"
   },
   {
    "duration": 78,
    "start_time": "2021-12-28T19:06:22.960Z"
   },
   {
    "duration": 2,
    "start_time": "2021-12-28T19:06:23.040Z"
   },
   {
    "duration": 11,
    "start_time": "2021-12-28T19:06:23.045Z"
   },
   {
    "duration": 7,
    "start_time": "2021-12-28T19:06:23.058Z"
   },
   {
    "duration": 83,
    "start_time": "2021-12-28T19:12:31.891Z"
   },
   {
    "duration": 9,
    "start_time": "2021-12-28T19:12:31.976Z"
   },
   {
    "duration": 7,
    "start_time": "2021-12-28T19:12:31.987Z"
   },
   {
    "duration": 13,
    "start_time": "2021-12-28T19:12:31.996Z"
   },
   {
    "duration": 9,
    "start_time": "2021-12-28T19:12:32.026Z"
   },
   {
    "duration": 49,
    "start_time": "2021-12-28T19:12:32.036Z"
   },
   {
    "duration": 9,
    "start_time": "2021-12-28T19:12:32.086Z"
   },
   {
    "duration": 80,
    "start_time": "2021-12-28T19:12:32.097Z"
   },
   {
    "duration": 19,
    "start_time": "2021-12-28T19:12:32.179Z"
   },
   {
    "duration": 6,
    "start_time": "2021-12-28T19:12:32.200Z"
   },
   {
    "duration": 23,
    "start_time": "2021-12-28T19:12:32.208Z"
   },
   {
    "duration": 12,
    "start_time": "2021-12-28T19:12:32.233Z"
   },
   {
    "duration": 19,
    "start_time": "2021-12-28T19:12:32.246Z"
   },
   {
    "duration": 26,
    "start_time": "2021-12-28T19:12:32.266Z"
   },
   {
    "duration": 4293,
    "start_time": "2021-12-28T19:12:32.294Z"
   },
   {
    "duration": 12,
    "start_time": "2021-12-28T19:12:36.589Z"
   },
   {
    "duration": 487,
    "start_time": "2021-12-28T19:12:36.603Z"
   },
   {
    "duration": 9,
    "start_time": "2021-12-28T19:12:37.092Z"
   },
   {
    "duration": 9,
    "start_time": "2021-12-28T19:12:37.103Z"
   },
   {
    "duration": 19,
    "start_time": "2021-12-28T19:12:37.127Z"
   },
   {
    "duration": 54,
    "start_time": "2021-12-28T19:12:37.148Z"
   },
   {
    "duration": 2,
    "start_time": "2021-12-28T19:12:37.228Z"
   },
   {
    "duration": 10,
    "start_time": "2021-12-28T19:12:37.232Z"
   },
   {
    "duration": 7,
    "start_time": "2021-12-28T19:12:37.244Z"
   },
   {
    "duration": 102,
    "start_time": "2021-12-28T19:18:19.785Z"
   },
   {
    "duration": 11,
    "start_time": "2021-12-28T19:21:17.172Z"
   },
   {
    "duration": 461,
    "start_time": "2021-12-28T19:23:34.196Z"
   },
   {
    "duration": 84,
    "start_time": "2021-12-28T19:23:39.442Z"
   },
   {
    "duration": 10,
    "start_time": "2021-12-28T19:23:39.527Z"
   },
   {
    "duration": 11,
    "start_time": "2021-12-28T19:23:39.539Z"
   },
   {
    "duration": 22,
    "start_time": "2021-12-28T19:23:39.552Z"
   },
   {
    "duration": 12,
    "start_time": "2021-12-28T19:23:39.575Z"
   },
   {
    "duration": 64,
    "start_time": "2021-12-28T19:23:39.589Z"
   },
   {
    "duration": 11,
    "start_time": "2021-12-28T19:23:39.655Z"
   },
   {
    "duration": 76,
    "start_time": "2021-12-28T19:23:39.667Z"
   },
   {
    "duration": 5,
    "start_time": "2021-12-28T19:23:39.745Z"
   },
   {
    "duration": 23,
    "start_time": "2021-12-28T19:23:39.752Z"
   },
   {
    "duration": 13,
    "start_time": "2021-12-28T19:23:39.777Z"
   },
   {
    "duration": 26,
    "start_time": "2021-12-28T19:23:39.791Z"
   },
   {
    "duration": 32,
    "start_time": "2021-12-28T19:23:39.818Z"
   },
   {
    "duration": 4328,
    "start_time": "2021-12-28T19:23:39.851Z"
   },
   {
    "duration": 12,
    "start_time": "2021-12-28T19:23:44.181Z"
   },
   {
    "duration": 503,
    "start_time": "2021-12-28T19:23:44.195Z"
   },
   {
    "duration": 10,
    "start_time": "2021-12-28T19:23:44.700Z"
   },
   {
    "duration": 17,
    "start_time": "2021-12-28T19:23:44.711Z"
   },
   {
    "duration": 18,
    "start_time": "2021-12-28T19:23:44.729Z"
   },
   {
    "duration": 52,
    "start_time": "2021-12-28T19:23:44.749Z"
   },
   {
    "duration": 24,
    "start_time": "2021-12-28T19:23:44.803Z"
   },
   {
    "duration": 9,
    "start_time": "2021-12-28T19:23:44.828Z"
   },
   {
    "duration": 8,
    "start_time": "2021-12-28T19:23:44.838Z"
   },
   {
    "duration": 412,
    "start_time": "2021-12-29T16:14:04.189Z"
   },
   {
    "duration": 924,
    "start_time": "2021-12-29T16:14:17.105Z"
   },
   {
    "duration": 16,
    "start_time": "2021-12-29T16:14:18.032Z"
   },
   {
    "duration": 25,
    "start_time": "2021-12-29T16:14:18.051Z"
   },
   {
    "duration": 351,
    "start_time": "2021-12-29T16:14:18.080Z"
   },
   {
    "duration": -1016,
    "start_time": "2021-12-29T16:14:19.450Z"
   },
   {
    "duration": -1025,
    "start_time": "2021-12-29T16:14:19.461Z"
   },
   {
    "duration": -1026,
    "start_time": "2021-12-29T16:14:19.463Z"
   },
   {
    "duration": -1026,
    "start_time": "2021-12-29T16:14:19.465Z"
   },
   {
    "duration": -1031,
    "start_time": "2021-12-29T16:14:19.471Z"
   },
   {
    "duration": -1060,
    "start_time": "2021-12-29T16:14:19.502Z"
   },
   {
    "duration": -1075,
    "start_time": "2021-12-29T16:14:19.518Z"
   },
   {
    "duration": -1121,
    "start_time": "2021-12-29T16:14:19.565Z"
   },
   {
    "duration": -1158,
    "start_time": "2021-12-29T16:14:19.604Z"
   },
   {
    "duration": -1195,
    "start_time": "2021-12-29T16:14:19.642Z"
   },
   {
    "duration": -1224,
    "start_time": "2021-12-29T16:14:19.672Z"
   },
   {
    "duration": -1252,
    "start_time": "2021-12-29T16:14:19.701Z"
   },
   {
    "duration": -1257,
    "start_time": "2021-12-29T16:14:19.708Z"
   },
   {
    "duration": -1259,
    "start_time": "2021-12-29T16:14:19.711Z"
   },
   {
    "duration": -1264,
    "start_time": "2021-12-29T16:14:19.718Z"
   },
   {
    "duration": -1270,
    "start_time": "2021-12-29T16:14:19.725Z"
   },
   {
    "duration": -1275,
    "start_time": "2021-12-29T16:14:19.731Z"
   },
   {
    "duration": -1279,
    "start_time": "2021-12-29T16:14:19.737Z"
   },
   {
    "duration": -1284,
    "start_time": "2021-12-29T16:14:19.743Z"
   },
   {
    "duration": -1286,
    "start_time": "2021-12-29T16:14:19.746Z"
   },
   {
    "duration": 95,
    "start_time": "2021-12-29T16:15:00.375Z"
   },
   {
    "duration": 17,
    "start_time": "2021-12-29T16:15:00.474Z"
   },
   {
    "duration": 38,
    "start_time": "2021-12-29T16:15:00.495Z"
   },
   {
    "duration": 29,
    "start_time": "2021-12-29T16:15:00.536Z"
   },
   {
    "duration": 30,
    "start_time": "2021-12-29T16:15:00.572Z"
   },
   {
    "duration": 104,
    "start_time": "2021-12-29T16:15:00.605Z"
   },
   {
    "duration": 15,
    "start_time": "2021-12-29T16:15:00.712Z"
   },
   {
    "duration": 127,
    "start_time": "2021-12-29T16:15:00.729Z"
   },
   {
    "duration": 14,
    "start_time": "2021-12-29T16:15:00.860Z"
   },
   {
    "duration": 21,
    "start_time": "2021-12-29T16:15:00.878Z"
   },
   {
    "duration": 19,
    "start_time": "2021-12-29T16:15:00.902Z"
   },
   {
    "duration": 61,
    "start_time": "2021-12-29T16:15:00.924Z"
   },
   {
    "duration": 50,
    "start_time": "2021-12-29T16:15:00.987Z"
   },
   {
    "duration": 5986,
    "start_time": "2021-12-29T16:15:01.039Z"
   },
   {
    "duration": 21,
    "start_time": "2021-12-29T16:15:07.028Z"
   },
   {
    "duration": 1007,
    "start_time": "2021-12-29T16:15:07.051Z"
   },
   {
    "duration": 525,
    "start_time": "2021-12-29T16:15:08.069Z"
   },
   {
    "duration": 15,
    "start_time": "2021-12-29T16:15:08.597Z"
   },
   {
    "duration": 19,
    "start_time": "2021-12-29T16:15:08.615Z"
   },
   {
    "duration": 560,
    "start_time": "2021-12-29T16:15:08.636Z"
   },
   {
    "duration": -1026,
    "start_time": "2021-12-29T16:15:10.226Z"
   },
   {
    "duration": -1025,
    "start_time": "2021-12-29T16:15:10.227Z"
   },
   {
    "duration": -1026,
    "start_time": "2021-12-29T16:15:10.230Z"
   },
   {
    "duration": -1025,
    "start_time": "2021-12-29T16:15:10.232Z"
   },
   {
    "duration": 102,
    "start_time": "2021-12-29T16:16:03.326Z"
   },
   {
    "duration": 103,
    "start_time": "2021-12-29T16:16:06.602Z"
   },
   {
    "duration": 113,
    "start_time": "2021-12-29T16:16:38.812Z"
   },
   {
    "duration": 16,
    "start_time": "2021-12-29T16:16:38.928Z"
   },
   {
    "duration": 29,
    "start_time": "2021-12-29T16:16:38.947Z"
   },
   {
    "duration": 22,
    "start_time": "2021-12-29T16:16:38.980Z"
   },
   {
    "duration": 13,
    "start_time": "2021-12-29T16:16:39.006Z"
   },
   {
    "duration": 125,
    "start_time": "2021-12-29T16:16:39.022Z"
   },
   {
    "duration": 29,
    "start_time": "2021-12-29T16:16:39.150Z"
   },
   {
    "duration": 130,
    "start_time": "2021-12-29T16:16:39.182Z"
   },
   {
    "duration": 6,
    "start_time": "2021-12-29T16:16:39.316Z"
   },
   {
    "duration": 18,
    "start_time": "2021-12-29T16:16:39.324Z"
   },
   {
    "duration": 42,
    "start_time": "2021-12-29T16:16:39.344Z"
   },
   {
    "duration": 26,
    "start_time": "2021-12-29T16:16:39.389Z"
   },
   {
    "duration": 81,
    "start_time": "2021-12-29T16:16:39.418Z"
   },
   {
    "duration": 5767,
    "start_time": "2021-12-29T16:16:39.502Z"
   },
   {
    "duration": 21,
    "start_time": "2021-12-29T16:16:45.271Z"
   },
   {
    "duration": 916,
    "start_time": "2021-12-29T16:16:45.294Z"
   },
   {
    "duration": 483,
    "start_time": "2021-12-29T16:16:46.213Z"
   },
   {
    "duration": 16,
    "start_time": "2021-12-29T16:16:46.699Z"
   },
   {
    "duration": 19,
    "start_time": "2021-12-29T16:16:46.718Z"
   },
   {
    "duration": 343,
    "start_time": "2021-12-29T16:16:46.768Z"
   },
   {
    "duration": -1038,
    "start_time": "2021-12-29T16:16:48.153Z"
   },
   {
    "duration": -1038,
    "start_time": "2021-12-29T16:16:48.155Z"
   },
   {
    "duration": -1038,
    "start_time": "2021-12-29T16:16:48.157Z"
   },
   {
    "duration": -1037,
    "start_time": "2021-12-29T16:16:48.159Z"
   },
   {
    "duration": 102,
    "start_time": "2021-12-29T16:23:12.030Z"
   },
   {
    "duration": 15,
    "start_time": "2021-12-29T16:23:12.135Z"
   },
   {
    "duration": 12,
    "start_time": "2021-12-29T16:23:12.168Z"
   },
   {
    "duration": 22,
    "start_time": "2021-12-29T16:23:12.183Z"
   },
   {
    "duration": 17,
    "start_time": "2021-12-29T16:23:12.207Z"
   },
   {
    "duration": 118,
    "start_time": "2021-12-29T16:23:12.227Z"
   },
   {
    "duration": 27,
    "start_time": "2021-12-29T16:23:12.348Z"
   },
   {
    "duration": 123,
    "start_time": "2021-12-29T16:23:12.378Z"
   },
   {
    "duration": 7,
    "start_time": "2021-12-29T16:23:12.507Z"
   },
   {
    "duration": 23,
    "start_time": "2021-12-29T16:23:12.516Z"
   },
   {
    "duration": 41,
    "start_time": "2021-12-29T16:23:12.542Z"
   },
   {
    "duration": 24,
    "start_time": "2021-12-29T16:23:12.586Z"
   },
   {
    "duration": 71,
    "start_time": "2021-12-29T16:23:12.612Z"
   },
   {
    "duration": 5937,
    "start_time": "2021-12-29T16:23:12.685Z"
   },
   {
    "duration": 22,
    "start_time": "2021-12-29T16:23:18.625Z"
   },
   {
    "duration": 1120,
    "start_time": "2021-12-29T16:23:18.649Z"
   },
   {
    "duration": 15,
    "start_time": "2021-12-29T16:23:19.771Z"
   },
   {
    "duration": 17,
    "start_time": "2021-12-29T16:23:19.788Z"
   },
   {
    "duration": 1219,
    "start_time": "2021-12-29T16:23:19.807Z"
   },
   {
    "duration": -2092,
    "start_time": "2021-12-29T16:23:23.120Z"
   },
   {
    "duration": -2092,
    "start_time": "2021-12-29T16:23:23.122Z"
   },
   {
    "duration": -2098,
    "start_time": "2021-12-29T16:23:23.129Z"
   },
   {
    "duration": -2098,
    "start_time": "2021-12-29T16:23:23.131Z"
   },
   {
    "duration": 319,
    "start_time": "2021-12-29T16:27:19.134Z"
   },
   {
    "duration": 28,
    "start_time": "2021-12-29T16:30:30.571Z"
   },
   {
    "duration": 323,
    "start_time": "2021-12-29T16:31:15.562Z"
   },
   {
    "duration": 28,
    "start_time": "2021-12-29T16:31:24.593Z"
   },
   {
    "duration": 33,
    "start_time": "2021-12-29T16:31:37.982Z"
   },
   {
    "duration": 310,
    "start_time": "2021-12-29T16:33:05.704Z"
   },
   {
    "duration": 314,
    "start_time": "2021-12-29T16:33:21.652Z"
   },
   {
    "duration": 100,
    "start_time": "2021-12-29T16:33:27.320Z"
   },
   {
    "duration": 15,
    "start_time": "2021-12-29T16:33:27.423Z"
   },
   {
    "duration": 31,
    "start_time": "2021-12-29T16:33:27.440Z"
   },
   {
    "duration": 22,
    "start_time": "2021-12-29T16:33:27.474Z"
   },
   {
    "duration": 15,
    "start_time": "2021-12-29T16:33:27.498Z"
   },
   {
    "duration": 125,
    "start_time": "2021-12-29T16:33:27.515Z"
   },
   {
    "duration": 26,
    "start_time": "2021-12-29T16:33:27.642Z"
   },
   {
    "duration": 122,
    "start_time": "2021-12-29T16:33:27.671Z"
   },
   {
    "duration": 7,
    "start_time": "2021-12-29T16:33:27.799Z"
   },
   {
    "duration": 18,
    "start_time": "2021-12-29T16:33:27.809Z"
   },
   {
    "duration": 49,
    "start_time": "2021-12-29T16:33:27.830Z"
   },
   {
    "duration": 26,
    "start_time": "2021-12-29T16:33:27.883Z"
   },
   {
    "duration": 83,
    "start_time": "2021-12-29T16:33:27.912Z"
   },
   {
    "duration": 5846,
    "start_time": "2021-12-29T16:33:27.997Z"
   },
   {
    "duration": 32,
    "start_time": "2021-12-29T16:33:33.846Z"
   },
   {
    "duration": 1042,
    "start_time": "2021-12-29T16:33:33.880Z"
   },
   {
    "duration": 467,
    "start_time": "2021-12-29T16:33:34.925Z"
   },
   {
    "duration": 15,
    "start_time": "2021-12-29T16:33:35.395Z"
   },
   {
    "duration": 19,
    "start_time": "2021-12-29T16:33:35.412Z"
   },
   {
    "duration": 62,
    "start_time": "2021-12-29T16:33:35.433Z"
   },
   {
    "duration": 109,
    "start_time": "2021-12-29T16:33:35.498Z"
   },
   {
    "duration": 5,
    "start_time": "2021-12-29T16:33:35.610Z"
   },
   {
    "duration": 17,
    "start_time": "2021-12-29T16:33:35.618Z"
   },
   {
    "duration": 40,
    "start_time": "2021-12-29T16:33:35.638Z"
   },
   {
    "duration": 26,
    "start_time": "2021-12-29T16:34:05.566Z"
   },
   {
    "duration": 33,
    "start_time": "2021-12-29T16:34:14.451Z"
   },
   {
    "duration": 98,
    "start_time": "2021-12-29T16:39:05.844Z"
   },
   {
    "duration": 338,
    "start_time": "2021-12-29T16:48:16.253Z"
   },
   {
    "duration": 31,
    "start_time": "2021-12-29T16:48:38.520Z"
   },
   {
    "duration": 6047,
    "start_time": "2021-12-29T16:49:48.664Z"
   },
   {
    "duration": 29,
    "start_time": "2021-12-29T16:50:19.919Z"
   },
   {
    "duration": 29,
    "start_time": "2021-12-29T16:50:55.352Z"
   },
   {
    "duration": 417,
    "start_time": "2021-12-29T16:51:39.043Z"
   },
   {
    "duration": 100,
    "start_time": "2021-12-29T16:54:30.906Z"
   },
   {
    "duration": 613,
    "start_time": "2021-12-29T16:54:38.984Z"
   },
   {
    "duration": 173,
    "start_time": "2021-12-29T16:54:45.964Z"
   },
   {
    "duration": 32,
    "start_time": "2021-12-29T16:55:10.917Z"
   },
   {
    "duration": 326,
    "start_time": "2021-12-29T16:55:42.446Z"
   },
   {
    "duration": 30,
    "start_time": "2021-12-29T16:56:45.472Z"
   },
   {
    "duration": 7582,
    "start_time": "2021-12-29T16:59:08.688Z"
   },
   {
    "duration": 31,
    "start_time": "2021-12-29T16:59:26.301Z"
   },
   {
    "duration": 6173,
    "start_time": "2021-12-29T17:00:52.314Z"
   },
   {
    "duration": 29,
    "start_time": "2021-12-29T17:01:15.419Z"
   },
   {
    "duration": 25,
    "start_time": "2021-12-29T17:02:31.718Z"
   },
   {
    "duration": 43,
    "start_time": "2021-12-29T17:03:01.126Z"
   },
   {
    "duration": 103,
    "start_time": "2021-12-29T17:05:54.643Z"
   },
   {
    "duration": 123,
    "start_time": "2021-12-29T17:07:49.459Z"
   },
   {
    "duration": 116,
    "start_time": "2021-12-29T17:07:55.720Z"
   },
   {
    "duration": 119,
    "start_time": "2021-12-29T17:08:02.046Z"
   },
   {
    "duration": 123,
    "start_time": "2021-12-29T17:08:13.905Z"
   },
   {
    "duration": 31,
    "start_time": "2021-12-29T17:08:21.980Z"
   },
   {
    "duration": 135,
    "start_time": "2021-12-29T17:10:38.693Z"
   },
   {
    "duration": 350,
    "start_time": "2021-12-29T17:10:49.921Z"
   },
   {
    "duration": 114,
    "start_time": "2021-12-29T17:11:26.419Z"
   },
   {
    "duration": 47,
    "start_time": "2021-12-29T17:11:33.677Z"
   },
   {
    "duration": 114,
    "start_time": "2021-12-29T17:13:35.935Z"
   },
   {
    "duration": 331,
    "start_time": "2021-12-29T17:13:42.660Z"
   },
   {
    "duration": 107,
    "start_time": "2021-12-29T17:15:03.199Z"
   },
   {
    "duration": 117,
    "start_time": "2021-12-29T17:15:08.626Z"
   },
   {
    "duration": 32,
    "start_time": "2021-12-29T17:15:17.178Z"
   },
   {
    "duration": 336,
    "start_time": "2021-12-29T17:19:33.156Z"
   },
   {
    "duration": 329,
    "start_time": "2021-12-29T17:19:41.862Z"
   },
   {
    "duration": 42,
    "start_time": "2021-12-29T17:23:34.134Z"
   },
   {
    "duration": 81,
    "start_time": "2021-12-29T17:26:56.153Z"
   },
   {
    "duration": 31,
    "start_time": "2021-12-29T17:26:56.237Z"
   },
   {
    "duration": 12,
    "start_time": "2021-12-29T17:26:56.271Z"
   },
   {
    "duration": 23,
    "start_time": "2021-12-29T17:26:56.286Z"
   },
   {
    "duration": 15,
    "start_time": "2021-12-29T17:26:56.311Z"
   },
   {
    "duration": 81,
    "start_time": "2021-12-29T17:26:56.368Z"
   },
   {
    "duration": 27,
    "start_time": "2021-12-29T17:26:56.451Z"
   },
   {
    "duration": 128,
    "start_time": "2021-12-29T17:26:56.484Z"
   },
   {
    "duration": 8,
    "start_time": "2021-12-29T17:26:56.616Z"
   },
   {
    "duration": 42,
    "start_time": "2021-12-29T17:26:56.626Z"
   },
   {
    "duration": 21,
    "start_time": "2021-12-29T17:26:56.671Z"
   },
   {
    "duration": 26,
    "start_time": "2021-12-29T17:26:56.694Z"
   },
   {
    "duration": 81,
    "start_time": "2021-12-29T17:26:56.722Z"
   },
   {
    "duration": 6130,
    "start_time": "2021-12-29T17:26:56.805Z"
   },
   {
    "duration": 31,
    "start_time": "2021-12-29T17:27:02.938Z"
   },
   {
    "duration": 924,
    "start_time": "2021-12-29T17:27:02.971Z"
   },
   {
    "duration": 482,
    "start_time": "2021-12-29T17:27:03.898Z"
   },
   {
    "duration": 14,
    "start_time": "2021-12-29T17:27:04.383Z"
   },
   {
    "duration": 18,
    "start_time": "2021-12-29T17:27:04.400Z"
   },
   {
    "duration": 60,
    "start_time": "2021-12-29T17:27:04.420Z"
   },
   {
    "duration": 105,
    "start_time": "2021-12-29T17:27:04.483Z"
   },
   {
    "duration": 4,
    "start_time": "2021-12-29T17:27:04.590Z"
   },
   {
    "duration": 15,
    "start_time": "2021-12-29T17:27:04.599Z"
   },
   {
    "duration": 13,
    "start_time": "2021-12-29T17:27:04.617Z"
   },
   {
    "duration": 31,
    "start_time": "2021-12-29T17:33:25.074Z"
   },
   {
    "duration": 32,
    "start_time": "2021-12-29T17:33:41.871Z"
   },
   {
    "duration": 2033,
    "start_time": "2021-12-29T17:35:18.539Z"
   },
   {
    "duration": 32,
    "start_time": "2021-12-29T17:35:24.783Z"
   },
   {
    "duration": 34,
    "start_time": "2021-12-29T17:35:34.337Z"
   },
   {
    "duration": 32,
    "start_time": "2021-12-29T17:35:37.201Z"
   },
   {
    "duration": 32,
    "start_time": "2021-12-29T17:35:42.968Z"
   },
   {
    "duration": 255,
    "start_time": "2021-12-29T17:36:22.905Z"
   },
   {
    "duration": 194,
    "start_time": "2021-12-29T17:36:29.026Z"
   },
   {
    "duration": 269,
    "start_time": "2021-12-29T17:36:55.045Z"
   },
   {
    "duration": 31,
    "start_time": "2021-12-29T17:37:51.338Z"
   },
   {
    "duration": 32,
    "start_time": "2021-12-29T17:39:43.978Z"
   },
   {
    "duration": 38,
    "start_time": "2021-12-29T17:39:54.753Z"
   },
   {
    "duration": 30,
    "start_time": "2021-12-29T17:40:11.392Z"
   },
   {
    "duration": 31,
    "start_time": "2021-12-29T17:40:24.151Z"
   },
   {
    "duration": 39,
    "start_time": "2021-12-29T17:41:12.357Z"
   },
   {
    "duration": 1240,
    "start_time": "2021-12-29T17:41:48.983Z"
   },
   {
    "duration": 31,
    "start_time": "2021-12-29T17:41:55.599Z"
   },
   {
    "duration": 32,
    "start_time": "2021-12-29T17:42:28.727Z"
   },
   {
    "duration": 37,
    "start_time": "2021-12-29T17:42:43.691Z"
   },
   {
    "duration": 32,
    "start_time": "2021-12-29T17:43:03.478Z"
   },
   {
    "duration": 35,
    "start_time": "2021-12-29T17:43:16.120Z"
   },
   {
    "duration": 32,
    "start_time": "2021-12-29T17:43:49.908Z"
   },
   {
    "duration": 30,
    "start_time": "2021-12-29T17:43:55.723Z"
   },
   {
    "duration": 31,
    "start_time": "2021-12-29T17:44:53.536Z"
   }
  ],
  "kernelspec": {
   "display_name": "Python 3 (ipykernel)",
   "language": "python",
   "name": "python3"
  },
  "language_info": {
   "codemirror_mode": {
    "name": "ipython",
    "version": 3
   },
   "file_extension": ".py",
   "mimetype": "text/x-python",
   "name": "python",
   "nbconvert_exporter": "python",
   "pygments_lexer": "ipython3",
   "version": "3.9.7"
  },
  "toc": {
   "base_numbering": 1,
   "nav_menu": {},
   "number_sections": true,
   "sideBar": true,
   "skip_h1_title": true,
   "title_cell": "Table of Contents",
   "title_sidebar": "Contents",
   "toc_cell": false,
   "toc_position": {},
   "toc_section_display": true,
   "toc_window_display": false
  }
 },
 "nbformat": 4,
 "nbformat_minor": 2
}
