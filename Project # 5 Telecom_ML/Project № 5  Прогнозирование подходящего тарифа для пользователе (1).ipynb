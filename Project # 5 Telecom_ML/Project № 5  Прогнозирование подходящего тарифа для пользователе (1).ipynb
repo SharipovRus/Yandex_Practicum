{
 "cells": [
  {
   "cell_type": "markdown",
   "metadata": {},
   "source": [
    "# Рекомендация тарифов"
   ]
  },
  {
   "cell_type": "markdown",
   "metadata": {},
   "source": [
    "В вашем распоряжении данные о поведении клиентов, которые уже перешли на эти тарифы (из проекта курса «Статистический анализ данных»). Нужно построить модель для задачи классификации, которая выберет подходящий тариф. Предобработка данных не понадобится — вы её уже сделали.\n",
    "\n",
    "Постройте модель с максимально большим значением *accuracy*. Чтобы сдать проект успешно, нужно довести долю правильных ответов по крайней мере до 0.75. Проверьте *accuracy* на тестовой выборке самостоятельно."
   ]
  },
  {
   "cell_type": "markdown",
   "metadata": {},
   "source": [
    "**Импортируем нужные библиотеки**"
   ]
  },
  {
   "cell_type": "code",
   "execution_count": 71,
   "metadata": {},
   "outputs": [],
   "source": [
    "import pandas as pd\n",
    "from sklearn.tree import DecisionTreeClassifier\n",
    "from sklearn.ensemble import RandomForestClassifier\n",
    "from sklearn.linear_model import LogisticRegression\n",
    "from sklearn.model_selection import train_test_split\n",
    "from sklearn.metrics import accuracy_score\n",
    "from sklearn.dummy import DummyClassifier\n",
    "import warnings\n"
   ]
  },
  {
   "cell_type": "code",
   "execution_count": 72,
   "metadata": {},
   "outputs": [],
   "source": [
    "warnings.filterwarnings('ignore')"
   ]
  },
  {
   "cell_type": "code",
   "execution_count": 73,
   "metadata": {},
   "outputs": [],
   "source": [
    "data= pd.read_csv('/datasets/users_behavior.csv')"
   ]
  },
  {
   "cell_type": "code",
   "execution_count": 74,
   "metadata": {
    "scrolled": true
   },
   "outputs": [
    {
     "data": {
      "text/html": [
       "<div>\n",
       "<style scoped>\n",
       "    .dataframe tbody tr th:only-of-type {\n",
       "        vertical-align: middle;\n",
       "    }\n",
       "\n",
       "    .dataframe tbody tr th {\n",
       "        vertical-align: top;\n",
       "    }\n",
       "\n",
       "    .dataframe thead th {\n",
       "        text-align: right;\n",
       "    }\n",
       "</style>\n",
       "<table border=\"1\" class=\"dataframe\">\n",
       "  <thead>\n",
       "    <tr style=\"text-align: right;\">\n",
       "      <th></th>\n",
       "      <th>calls</th>\n",
       "      <th>minutes</th>\n",
       "      <th>messages</th>\n",
       "      <th>mb_used</th>\n",
       "      <th>is_ultra</th>\n",
       "    </tr>\n",
       "  </thead>\n",
       "  <tbody>\n",
       "    <tr>\n",
       "      <td>0</td>\n",
       "      <td>40.0</td>\n",
       "      <td>311.90</td>\n",
       "      <td>83.0</td>\n",
       "      <td>19915.42</td>\n",
       "      <td>0</td>\n",
       "    </tr>\n",
       "    <tr>\n",
       "      <td>1</td>\n",
       "      <td>85.0</td>\n",
       "      <td>516.75</td>\n",
       "      <td>56.0</td>\n",
       "      <td>22696.96</td>\n",
       "      <td>0</td>\n",
       "    </tr>\n",
       "    <tr>\n",
       "      <td>2</td>\n",
       "      <td>77.0</td>\n",
       "      <td>467.66</td>\n",
       "      <td>86.0</td>\n",
       "      <td>21060.45</td>\n",
       "      <td>0</td>\n",
       "    </tr>\n",
       "    <tr>\n",
       "      <td>3</td>\n",
       "      <td>106.0</td>\n",
       "      <td>745.53</td>\n",
       "      <td>81.0</td>\n",
       "      <td>8437.39</td>\n",
       "      <td>1</td>\n",
       "    </tr>\n",
       "    <tr>\n",
       "      <td>4</td>\n",
       "      <td>66.0</td>\n",
       "      <td>418.74</td>\n",
       "      <td>1.0</td>\n",
       "      <td>14502.75</td>\n",
       "      <td>0</td>\n",
       "    </tr>\n",
       "  </tbody>\n",
       "</table>\n",
       "</div>"
      ],
      "text/plain": [
       "   calls  minutes  messages   mb_used  is_ultra\n",
       "0   40.0   311.90      83.0  19915.42         0\n",
       "1   85.0   516.75      56.0  22696.96         0\n",
       "2   77.0   467.66      86.0  21060.45         0\n",
       "3  106.0   745.53      81.0   8437.39         1\n",
       "4   66.0   418.74       1.0  14502.75         0"
      ]
     },
     "execution_count": 74,
     "metadata": {},
     "output_type": "execute_result"
    }
   ],
   "source": [
    "data.head() #посмотрим на первые пять строк"
   ]
  },
  {
   "cell_type": "code",
   "execution_count": 75,
   "metadata": {
    "scrolled": true
   },
   "outputs": [
    {
     "name": "stdout",
     "output_type": "stream",
     "text": [
      "<class 'pandas.core.frame.DataFrame'>\n",
      "RangeIndex: 3214 entries, 0 to 3213\n",
      "Data columns (total 5 columns):\n",
      "calls       3214 non-null float64\n",
      "minutes     3214 non-null float64\n",
      "messages    3214 non-null float64\n",
      "mb_used     3214 non-null float64\n",
      "is_ultra    3214 non-null int64\n",
      "dtypes: float64(4), int64(1)\n",
      "memory usage: 125.7 KB\n"
     ]
    }
   ],
   "source": [
    "data.info() #выведеи общую информацию"
   ]
  },
  {
   "cell_type": "code",
   "execution_count": 76,
   "metadata": {},
   "outputs": [
    {
     "data": {
      "text/plain": [
       "0"
      ]
     },
     "execution_count": 76,
     "metadata": {},
     "output_type": "execute_result"
    }
   ],
   "source": [
    "data.duplicated().sum() #на всякий случай ещё проверю на дубликаты "
   ]
  },
  {
   "cell_type": "markdown",
   "metadata": {},
   "source": [
    "**ВЫВОДЫ**\n",
    "- Датасет состоит из 5 столбцов и 3214 строк. Пропусков нет (хвала богам) как и дубликатов \n",
    "- Типы данных тоже соответсвуют, менять ничего не нужно\n",
    "\n",
    "\n",
    "**Названия столбоцов :**\n",
    "\n",
    "- сalls — количество звонков,\n",
    "- minutes — суммарная длительность звонков в минутах,\n",
    "- messages — количество sms-сообщений,\n",
    "- mb_used — израсходованный интернет-трафик в Мб,\n",
    "- is_ultra — каким тарифом пользовался в течение месяца («Ультра» — 1, «Смарт» — 0)."
   ]
  },
  {
   "cell_type": "code",
   "execution_count": 77,
   "metadata": {
    "scrolled": true
   },
   "outputs": [
    {
     "data": {
      "text/html": [
       "<div>\n",
       "<style scoped>\n",
       "    .dataframe tbody tr th:only-of-type {\n",
       "        vertical-align: middle;\n",
       "    }\n",
       "\n",
       "    .dataframe tbody tr th {\n",
       "        vertical-align: top;\n",
       "    }\n",
       "\n",
       "    .dataframe thead th {\n",
       "        text-align: right;\n",
       "    }\n",
       "</style>\n",
       "<table border=\"1\" class=\"dataframe\">\n",
       "  <thead>\n",
       "    <tr style=\"text-align: right;\">\n",
       "      <th></th>\n",
       "      <th>calls</th>\n",
       "      <th>minutes</th>\n",
       "      <th>messages</th>\n",
       "      <th>mb_used</th>\n",
       "      <th>is_ultra</th>\n",
       "    </tr>\n",
       "  </thead>\n",
       "  <tbody>\n",
       "    <tr>\n",
       "      <td>calls</td>\n",
       "      <td>1.000000</td>\n",
       "      <td>0.982083</td>\n",
       "      <td>0.177385</td>\n",
       "      <td>0.286442</td>\n",
       "      <td>0.207122</td>\n",
       "    </tr>\n",
       "    <tr>\n",
       "      <td>minutes</td>\n",
       "      <td>0.982083</td>\n",
       "      <td>1.000000</td>\n",
       "      <td>0.173110</td>\n",
       "      <td>0.280967</td>\n",
       "      <td>0.206955</td>\n",
       "    </tr>\n",
       "    <tr>\n",
       "      <td>messages</td>\n",
       "      <td>0.177385</td>\n",
       "      <td>0.173110</td>\n",
       "      <td>1.000000</td>\n",
       "      <td>0.195721</td>\n",
       "      <td>0.203830</td>\n",
       "    </tr>\n",
       "    <tr>\n",
       "      <td>mb_used</td>\n",
       "      <td>0.286442</td>\n",
       "      <td>0.280967</td>\n",
       "      <td>0.195721</td>\n",
       "      <td>1.000000</td>\n",
       "      <td>0.198568</td>\n",
       "    </tr>\n",
       "    <tr>\n",
       "      <td>is_ultra</td>\n",
       "      <td>0.207122</td>\n",
       "      <td>0.206955</td>\n",
       "      <td>0.203830</td>\n",
       "      <td>0.198568</td>\n",
       "      <td>1.000000</td>\n",
       "    </tr>\n",
       "  </tbody>\n",
       "</table>\n",
       "</div>"
      ],
      "text/plain": [
       "             calls   minutes  messages   mb_used  is_ultra\n",
       "calls     1.000000  0.982083  0.177385  0.286442  0.207122\n",
       "minutes   0.982083  1.000000  0.173110  0.280967  0.206955\n",
       "messages  0.177385  0.173110  1.000000  0.195721  0.203830\n",
       "mb_used   0.286442  0.280967  0.195721  1.000000  0.198568\n",
       "is_ultra  0.207122  0.206955  0.203830  0.198568  1.000000"
      ]
     },
     "execution_count": 77,
     "metadata": {},
     "output_type": "execute_result"
    }
   ],
   "source": [
    "data.corr()"
   ]
  },
  {
   "cell_type": "code",
   "execution_count": 78,
   "metadata": {},
   "outputs": [
    {
     "data": {
      "text/plain": [
       "array([[<matplotlib.axes._subplots.AxesSubplot object at 0x7f33b9b15390>,\n",
       "        <matplotlib.axes._subplots.AxesSubplot object at 0x7f33b91f2e50>,\n",
       "        <matplotlib.axes._subplots.AxesSubplot object at 0x7f33b944f550>,\n",
       "        <matplotlib.axes._subplots.AxesSubplot object at 0x7f33b9487d50>,\n",
       "        <matplotlib.axes._subplots.AxesSubplot object at 0x7f33b9445590>],\n",
       "       [<matplotlib.axes._subplots.AxesSubplot object at 0x7f33b93fad90>,\n",
       "        <matplotlib.axes._subplots.AxesSubplot object at 0x7f33b93ba5d0>,\n",
       "        <matplotlib.axes._subplots.AxesSubplot object at 0x7f33b936edd0>,\n",
       "        <matplotlib.axes._subplots.AxesSubplot object at 0x7f33b9378950>,\n",
       "        <matplotlib.axes._subplots.AxesSubplot object at 0x7f33b9339310>],\n",
       "       [<matplotlib.axes._subplots.AxesSubplot object at 0x7f33b8039650>,\n",
       "        <matplotlib.axes._subplots.AxesSubplot object at 0x7f33b37cbe50>,\n",
       "        <matplotlib.axes._subplots.AxesSubplot object at 0x7f33b378d690>,\n",
       "        <matplotlib.axes._subplots.AxesSubplot object at 0x7f33b3740e90>,\n",
       "        <matplotlib.axes._subplots.AxesSubplot object at 0x7f33b37016d0>],\n",
       "       [<matplotlib.axes._subplots.AxesSubplot object at 0x7f33b3735ed0>,\n",
       "        <matplotlib.axes._subplots.AxesSubplot object at 0x7f33b36f7710>,\n",
       "        <matplotlib.axes._subplots.AxesSubplot object at 0x7f33b36abf10>,\n",
       "        <matplotlib.axes._subplots.AxesSubplot object at 0x7f33b366e750>,\n",
       "        <matplotlib.axes._subplots.AxesSubplot object at 0x7f33b3623ed0>],\n",
       "       [<matplotlib.axes._subplots.AxesSubplot object at 0x7f33b35e5710>,\n",
       "        <matplotlib.axes._subplots.AxesSubplot object at 0x7f33b3597f10>,\n",
       "        <matplotlib.axes._subplots.AxesSubplot object at 0x7f33b355a750>,\n",
       "        <matplotlib.axes._subplots.AxesSubplot object at 0x7f33b350df50>,\n",
       "        <matplotlib.axes._subplots.AxesSubplot object at 0x7f33b34cd790>]],\n",
       "      dtype=object)"
      ]
     },
     "execution_count": 78,
     "metadata": {},
     "output_type": "execute_result"
    },
    {
     "data": {
      "image/png": "[encoded data removed]",
      "text/plain": [
       "<Figure size 720x720 with 25 Axes>"
      ]
     },
     "metadata": {
      "needs_background": "light"
     },
     "output_type": "display_data"
    }
   ],
   "source": [
    "pd.plotting.scatter_matrix(data, figsize=(10, 10), alpha=0.03)"
   ]
  },
  {
   "cell_type": "markdown",
   "metadata": {},
   "source": [
    "## Разбение данные на выборки"
   ]
  },
  {
   "cell_type": "markdown",
   "metadata": {},
   "source": [
    "Разобьем датасет на 3 выборки:\n",
    "- Обучающую\n",
    "- Валидационную \n",
    "- Тестовую"
   ]
  },
  {
   "cell_type": "code",
   "execution_count": 79,
   "metadata": {},
   "outputs": [],
   "source": [
    "data_train, data_valid_test=train_test_split(data,train_size=0.6,test_size=0.4,random_state=1234)\n",
    "data_valid,data_test=train_test_split(data_valid_test,test_size=0.5,random_state=1234)"
   ]
  },
  {
   "cell_type": "code",
   "execution_count": 80,
   "metadata": {
    "scrolled": true
   },
   "outputs": [
    {
     "data": {
      "text/plain": [
       "1928"
      ]
     },
     "execution_count": 80,
     "metadata": {},
     "output_type": "execute_result"
    }
   ],
   "source": [
    "len(data_train) # выборка для обучения"
   ]
  },
  {
   "cell_type": "code",
   "execution_count": 81,
   "metadata": {
    "scrolled": true
   },
   "outputs": [
    {
     "data": {
      "text/plain": [
       "643"
      ]
     },
     "execution_count": 81,
     "metadata": {},
     "output_type": "execute_result"
    }
   ],
   "source": [
    "len(data_valid) # выборка валидационная"
   ]
  },
  {
   "cell_type": "code",
   "execution_count": 82,
   "metadata": {},
   "outputs": [
    {
     "data": {
      "text/plain": [
       "643"
      ]
     },
     "execution_count": 82,
     "metadata": {},
     "output_type": "execute_result"
    }
   ],
   "source": [
    "len(data_test) # выборка тестовая"
   ]
  },
  {
   "cell_type": "markdown",
   "metadata": {},
   "source": [
    "## Исследуем модели"
   ]
  },
  {
   "cell_type": "markdown",
   "metadata": {},
   "source": [
    "На базе обучающей выборки формирую датасет признаков и целевой признак"
   ]
  },
  {
   "cell_type": "code",
   "execution_count": 83,
   "metadata": {},
   "outputs": [],
   "source": [
    "features_train=data_train.drop(['is_ultra'],axis=1) # признаки \n",
    "target_train=data_train['is_ultra'] # целевой признак"
   ]
  },
  {
   "cell_type": "markdown",
   "metadata": {},
   "source": [
    "На базе валидационной выборки формирую датасет признаков и целевой признак\n"
   ]
  },
  {
   "cell_type": "code",
   "execution_count": 84,
   "metadata": {},
   "outputs": [],
   "source": [
    "features_valid=data_valid.drop(['is_ultra'],axis=1) # признаки \n",
    "target_valid=data_valid['is_ultra'] # целевой признак"
   ]
  },
  {
   "cell_type": "markdown",
   "metadata": {},
   "source": [
    "На базе тестовой выборки формирую датасет признаков и целевой признак"
   ]
  },
  {
   "cell_type": "code",
   "execution_count": 85,
   "metadata": {},
   "outputs": [],
   "source": [
    "features_test=data_valid.drop(['is_ultra'],axis=1) # признаки \n",
    "target_test=data_valid['is_ultra'] # целевой признак"
   ]
  },
  {
   "cell_type": "markdown",
   "metadata": {},
   "source": [
    "### Дерево решений "
   ]
  },
  {
   "cell_type": "code",
   "execution_count": 86,
   "metadata": {
    "scrolled": true
   },
   "outputs": [
    {
     "name": "stdout",
     "output_type": "stream",
     "text": [
      "max_depth: 1 accuracy: 0.776049766718507\n",
      "max_depth: 2 accuracy: 0.8009331259720062\n",
      "max_depth: 3 accuracy: 0.8118195956454122\n",
      "max_depth: 4 accuracy: 0.8009331259720062\n",
      "max_depth: 5 accuracy: 0.8087091757387247\n",
      "max_depth: 6 accuracy: 0.8180404354587869\n",
      "max_depth: 7 accuracy: 0.8320373250388803\n",
      "max_depth: 8 accuracy: 0.8242612752721618\n",
      "max_depth: 9 accuracy: 0.8180404354587869\n",
      "max_depth: 10 accuracy: 0.8149300155520995\n",
      "max_depth: 11 accuracy: 0.8180404354587869\n",
      "max_depth: 12 accuracy: 0.807153965785381\n",
      "max_depth: 13 accuracy: 0.8040435458786936\n",
      "max_depth: 14 accuracy: 0.8055987558320373\n",
      "max_depth: 15 accuracy: 0.7744945567651633\n",
      "max_depth: 16 accuracy: 0.7744945567651633\n",
      "max_depth: 17 accuracy: 0.7480559875583204\n",
      "max_depth: 18 accuracy: 0.7527216174183515\n",
      "max_depth: 19 accuracy: 0.744945567651633\n"
     ]
    }
   ],
   "source": [
    "for depth in range(1,20):\n",
    "    model_tree=DecisionTreeClassifier(random_state=1234, max_depth=depth) # присваиваем модели имя\n",
    "    model_tree.fit(features_train,target_train) # обучаем\n",
    "    prediction_tree=model_tree.predict(features_valid) # проверяем\n",
    "    print('max_depth:',depth,end='')\n",
    "    print(' accuracy:',accuracy_score(prediction_tree,target_valid))"
   ]
  },
  {
   "cell_type": "markdown",
   "metadata": {},
   "source": [
    "### Случайный лес"
   ]
  },
  {
   "cell_type": "code",
   "execution_count": 87,
   "metadata": {},
   "outputs": [
    {
     "name": "stdout",
     "output_type": "stream",
     "text": [
      "n_estimators: 1 accuracy: 0.8055987558320373\n",
      "n_estimators: 2 accuracy: 0.8040435458786936\n",
      "n_estimators: 3 accuracy: 0.8149300155520995\n",
      "n_estimators: 4 accuracy: 0.8242612752721618\n",
      "n_estimators: 5 accuracy: 0.8320373250388803\n",
      "n_estimators: 6 accuracy: 0.8304821150855366\n",
      "n_estimators: 7 accuracy: 0.838258164852255\n",
      "n_estimators: 8 accuracy: 0.8398133748055988\n",
      "n_estimators: 9 accuracy: 0.8429237947122862\n",
      "n_estimators: 10 accuracy: 0.838258164852255\n",
      "n_estimators: 11 accuracy: 0.8429237947122862\n",
      "n_estimators: 12 accuracy: 0.8444790046656299\n",
      "n_estimators: 13 accuracy: 0.8398133748055988\n",
      "n_estimators: 14 accuracy: 0.838258164852255\n",
      "n_estimators: 15 accuracy: 0.8398133748055988\n",
      "n_estimators: 16 accuracy: 0.8398133748055988\n",
      "n_estimators: 17 accuracy: 0.838258164852255\n",
      "n_estimators: 18 accuracy: 0.8367029548989113\n",
      "n_estimators: 19 accuracy: 0.838258164852255\n",
      "n_estimators: 20 accuracy: 0.8367029548989113\n",
      "n_estimators: 21 accuracy: 0.8367029548989113\n",
      "n_estimators: 22 accuracy: 0.8367029548989113\n",
      "n_estimators: 23 accuracy: 0.8367029548989113\n",
      "n_estimators: 24 accuracy: 0.8398133748055988\n",
      "n_estimators: 25 accuracy: 0.8429237947122862\n",
      "n_estimators: 26 accuracy: 0.8398133748055988\n",
      "n_estimators: 27 accuracy: 0.838258164852255\n",
      "n_estimators: 28 accuracy: 0.838258164852255\n",
      "n_estimators: 29 accuracy: 0.8351477449455676\n"
     ]
    }
   ],
   "source": [
    "for estim in range(1,30):    \n",
    "    model_forest=RandomForestClassifier(max_depth=10,n_estimators=estim,random_state=1234,min_samples_leaf=5) # присваиваем модели имя\n",
    "    model_forest.fit(features_train,target_train) # обучаем\n",
    "    prediction_forest=model_forest.predict(features_valid) # проверяем\n",
    "    print('n_estimators:',estim,end=\"\")\n",
    "    print(' accuracy:',accuracy_score(prediction_forest,target_valid))"
   ]
  },
  {
   "cell_type": "markdown",
   "metadata": {},
   "source": [
    "### Логистическая регрессия"
   ]
  },
  {
   "cell_type": "code",
   "execution_count": 88,
   "metadata": {
    "scrolled": true
   },
   "outputs": [
    {
     "name": "stdout",
     "output_type": "stream",
     "text": [
      "accuracy: 0.7216174183514774\n"
     ]
    }
   ],
   "source": [
    "model_logistic_Reg=LogisticRegression() # присваиваем модели имя\n",
    "model_logistic_Reg.fit(features_train,target_train) # обучаем\n",
    "predict_LogisticReg=model_logistic_Reg.predict(features_valid) # проверяем\n",
    "print('accuracy:',accuracy_score(predict_LogisticReg,target_valid))"
   ]
  },
  {
   "cell_type": "markdown",
   "metadata": {},
   "source": [
    "**ВЫВОДЫ**"
   ]
  },
  {
   "cell_type": "markdown",
   "metadata": {},
   "source": [
    "Обучая три разный модели были полученны метрики качества:\n",
    "\n",
    "- Accuracy модели \"Дерево предсказания\" при гиперпараметрах max_depth= 7: 0.83\n",
    "- Accuracy модели \"Случайный лес\" при гиперпараметрах max_depth= 10, max_samples_leaf=5 и n_estimators= 11: 0.84\n",
    "- Accuracy модели \"Логистическая регрессия\": 0.72"
   ]
  },
  {
   "cell_type": "markdown",
   "metadata": {},
   "source": [
    "## Проверяем модель на тестовой выборке"
   ]
  },
  {
   "cell_type": "markdown",
   "metadata": {},
   "source": [
    "### Дерево решений"
   ]
  },
  {
   "cell_type": "code",
   "execution_count": 89,
   "metadata": {},
   "outputs": [
    {
     "name": "stdout",
     "output_type": "stream",
     "text": [
      "max_depth: 19 accuracy: 0.8320373250388803\n"
     ]
    }
   ],
   "source": [
    "model_tree=DecisionTreeClassifier(random_state=1234, max_depth=7)\n",
    "model_tree.fit(features_train,target_train)\n",
    "prediction_tree=model_tree.predict(features_test)\n",
    "print('max_depth:',depth,end='')\n",
    "print(' accuracy:',accuracy_score(prediction_tree,target_test))"
   ]
  },
  {
   "cell_type": "markdown",
   "metadata": {},
   "source": [
    "### Случайный лес "
   ]
  },
  {
   "cell_type": "code",
   "execution_count": 90,
   "metadata": {},
   "outputs": [
    {
     "name": "stdout",
     "output_type": "stream",
     "text": [
      "n_estimators: 29 accuracy: 0.8429237947122862\n"
     ]
    }
   ],
   "source": [
    "model_forest=RandomForestClassifier(max_depth=10,n_estimators=9,random_state=1234,min_samples_leaf=5)\n",
    "model_forest.fit(features_train,target_train)\n",
    "prediction_forest=model_forest.predict(features_test)\n",
    "print('n_estimators:',estim,end=\"\")\n",
    "print(' accuracy:',accuracy_score(prediction_forest,target_test))"
   ]
  },
  {
   "cell_type": "markdown",
   "metadata": {},
   "source": [
    "### Логистическая регрессия "
   ]
  },
  {
   "cell_type": "code",
   "execution_count": 91,
   "metadata": {},
   "outputs": [
    {
     "name": "stdout",
     "output_type": "stream",
     "text": [
      "accuracy: 0.7216174183514774\n"
     ]
    }
   ],
   "source": [
    "model_logistic_Reg=LogisticRegression()\n",
    "model_logistic_Reg.fit(features_train,target_train)\n",
    "predict_LogisticReg=model_logistic_Reg.predict(features_test)\n",
    "print('accuracy:',accuracy_score(predict_LogisticReg,target_test))"
   ]
  },
  {
   "cell_type": "markdown",
   "metadata": {},
   "source": [
    "## ВЫВОДЫ"
   ]
  },
  {
   "cell_type": "markdown",
   "metadata": {},
   "source": [
    "- Лучше всего себя показала модель \"Случайный лес\" с точносью 0.84.\n",
    "- Проверили модели на тестовой выборке. Метрики качества тестовой выборки оказались равны метрикам качества валидационной модели."
   ]
  },
  {
   "cell_type": "markdown",
   "metadata": {},
   "source": [
    "## (бонус) Проверяем модели на адекватность"
   ]
  },
  {
   "cell_type": "code",
   "execution_count": 94,
   "metadata": {},
   "outputs": [
    {
     "data": {
      "text/plain": [
       "0.7060653188180405"
      ]
     },
     "execution_count": 94,
     "metadata": {},
     "output_type": "execute_result"
    }
   ],
   "source": [
    "#импорт \n",
    "from sklearn.dummy import DummyClassifier\n",
    "#присваиваем модели имя\n",
    "model_crazy = DummyClassifier(strategy = 'most_frequent', random_state = 12345)\n",
    "#обучаем модель\n",
    "model_crazy.fit(features_train, target_train)\n",
    "#проверяем \n",
    "result_model_crazy = model_crazy.score(features_valid, target_valid)\n",
    "result_model_crazy"
   ]
  }
 ],
 "metadata": {
  "ExecuteTimeLog": [
   {
    "duration": 1027,
    "start_time": "2022-03-05T10:55:45.358Z"
   },
   {
    "duration": 1076,
    "start_time": "2022-03-05T10:55:57.388Z"
   },
   {
    "duration": 43,
    "start_time": "2022-03-05T10:56:30.541Z"
   },
   {
    "duration": 14,
    "start_time": "2022-03-05T10:56:35.099Z"
   },
   {
    "duration": 16,
    "start_time": "2022-03-05T10:56:45.716Z"
   },
   {
    "duration": 9,
    "start_time": "2022-03-05T10:56:54.570Z"
   },
   {
    "duration": 132,
    "start_time": "2022-03-05T10:57:12.831Z"
   },
   {
    "duration": 8,
    "start_time": "2022-03-05T10:57:17.843Z"
   },
   {
    "duration": 7,
    "start_time": "2022-03-05T11:00:45.178Z"
   },
   {
    "duration": 151,
    "start_time": "2022-03-05T11:01:07.963Z"
   },
   {
    "duration": 5,
    "start_time": "2022-03-05T11:01:20.994Z"
   },
   {
    "duration": 4,
    "start_time": "2022-03-05T11:01:29.268Z"
   },
   {
    "duration": 4,
    "start_time": "2022-03-05T11:01:38.608Z"
   },
   {
    "duration": 4,
    "start_time": "2022-03-05T11:01:47.019Z"
   },
   {
    "duration": 4,
    "start_time": "2022-03-05T11:06:10.689Z"
   },
   {
    "duration": 192,
    "start_time": "2022-03-05T11:06:30.249Z"
   },
   {
    "duration": 5,
    "start_time": "2022-03-05T11:06:42.023Z"
   },
   {
    "duration": 17,
    "start_time": "2022-03-05T11:06:42.030Z"
   },
   {
    "duration": 10,
    "start_time": "2022-03-05T11:06:42.049Z"
   },
   {
    "duration": 7,
    "start_time": "2022-03-05T11:06:42.062Z"
   },
   {
    "duration": 21,
    "start_time": "2022-03-05T11:06:42.071Z"
   },
   {
    "duration": 5,
    "start_time": "2022-03-05T11:06:42.094Z"
   },
   {
    "duration": 7,
    "start_time": "2022-03-05T11:06:42.101Z"
   },
   {
    "duration": 6,
    "start_time": "2022-03-05T11:06:42.110Z"
   },
   {
    "duration": 21,
    "start_time": "2022-03-05T11:06:42.119Z"
   },
   {
    "duration": 140,
    "start_time": "2022-03-05T11:06:42.142Z"
   },
   {
    "duration": 145,
    "start_time": "2022-03-05T11:15:10.032Z"
   },
   {
    "duration": 11,
    "start_time": "2022-03-05T11:17:19.313Z"
   },
   {
    "duration": 26,
    "start_time": "2022-03-05T11:18:41.043Z"
   },
   {
    "duration": 179,
    "start_time": "2022-03-05T11:58:54.248Z"
   },
   {
    "duration": 159,
    "start_time": "2022-03-05T11:59:07.610Z"
   },
   {
    "duration": 13,
    "start_time": "2022-03-05T12:02:31.818Z"
   },
   {
    "duration": 11,
    "start_time": "2022-03-05T12:03:20.343Z"
   },
   {
    "duration": 10,
    "start_time": "2022-03-05T12:03:47.386Z"
   },
   {
    "duration": 9,
    "start_time": "2022-03-05T12:04:40.195Z"
   },
   {
    "duration": 107,
    "start_time": "2022-03-05T12:46:18.774Z"
   },
   {
    "duration": 71,
    "start_time": "2022-03-05T12:47:01.352Z"
   },
   {
    "duration": 112,
    "start_time": "2022-03-05T12:47:10.346Z"
   },
   {
    "duration": 64,
    "start_time": "2022-03-05T12:47:17.338Z"
   },
   {
    "duration": 132,
    "start_time": "2022-03-05T12:48:07.842Z"
   },
   {
    "duration": 4,
    "start_time": "2022-03-05T12:48:15.857Z"
   },
   {
    "duration": 136,
    "start_time": "2022-03-05T12:48:21.943Z"
   },
   {
    "duration": 5,
    "start_time": "2022-03-05T12:48:29.631Z"
   },
   {
    "duration": 5,
    "start_time": "2022-03-05T12:48:44.048Z"
   },
   {
    "duration": 81,
    "start_time": "2022-03-05T12:48:45.620Z"
   },
   {
    "duration": 675,
    "start_time": "2022-03-05T12:50:28.759Z"
   },
   {
    "duration": 10,
    "start_time": "2022-03-05T12:51:10.548Z"
   },
   {
    "duration": 1305,
    "start_time": "2022-03-05T12:52:43.620Z"
   },
   {
    "duration": 1516,
    "start_time": "2022-03-05T12:53:47.680Z"
   },
   {
    "duration": 1311,
    "start_time": "2022-03-05T12:53:57.794Z"
   },
   {
    "duration": 144,
    "start_time": "2022-03-05T12:54:30.429Z"
   },
   {
    "duration": 3,
    "start_time": "2022-03-05T12:55:27.271Z"
   },
   {
    "duration": 31,
    "start_time": "2022-03-05T12:55:27.275Z"
   },
   {
    "duration": 9,
    "start_time": "2022-03-05T12:55:27.308Z"
   },
   {
    "duration": 11,
    "start_time": "2022-03-05T12:55:27.319Z"
   },
   {
    "duration": 17,
    "start_time": "2022-03-05T12:55:27.331Z"
   },
   {
    "duration": 5,
    "start_time": "2022-03-05T12:55:27.349Z"
   },
   {
    "duration": 8,
    "start_time": "2022-03-05T12:55:27.356Z"
   },
   {
    "duration": 5,
    "start_time": "2022-03-05T12:55:27.366Z"
   },
   {
    "duration": 148,
    "start_time": "2022-03-05T12:55:27.373Z"
   },
   {
    "duration": 1305,
    "start_time": "2022-03-05T12:55:27.523Z"
   },
   {
    "duration": 14,
    "start_time": "2022-03-05T12:55:28.830Z"
   },
   {
    "duration": 12,
    "start_time": "2022-03-05T12:55:43.100Z"
   },
   {
    "duration": 12,
    "start_time": "2022-03-05T12:55:51.308Z"
   },
   {
    "duration": 35,
    "start_time": "2022-03-05T12:56:14.588Z"
   },
   {
    "duration": 35,
    "start_time": "2022-03-05T12:56:18.431Z"
   },
   {
    "duration": 10,
    "start_time": "2022-03-05T12:56:26.774Z"
   },
   {
    "duration": 4,
    "start_time": "2022-03-05T12:57:45.749Z"
   },
   {
    "duration": 26,
    "start_time": "2022-03-05T12:57:45.755Z"
   },
   {
    "duration": 13,
    "start_time": "2022-03-05T12:57:45.783Z"
   },
   {
    "duration": 8,
    "start_time": "2022-03-05T12:57:45.798Z"
   },
   {
    "duration": 11,
    "start_time": "2022-03-05T12:57:45.808Z"
   },
   {
    "duration": 5,
    "start_time": "2022-03-05T12:57:45.820Z"
   },
   {
    "duration": 6,
    "start_time": "2022-03-05T12:57:45.826Z"
   },
   {
    "duration": 6,
    "start_time": "2022-03-05T12:57:45.833Z"
   },
   {
    "duration": 157,
    "start_time": "2022-03-05T12:57:45.841Z"
   },
   {
    "duration": 1383,
    "start_time": "2022-03-05T12:57:46.000Z"
   },
   {
    "duration": 10,
    "start_time": "2022-03-05T12:57:47.385Z"
   },
   {
    "duration": 14,
    "start_time": "2022-03-05T12:57:47.396Z"
   },
   {
    "duration": 54,
    "start_time": "2022-03-05T12:57:47.411Z"
   },
   {
    "duration": 11,
    "start_time": "2022-03-05T12:57:47.466Z"
   },
   {
    "duration": 3,
    "start_time": "2022-03-05T13:02:54.298Z"
   },
   {
    "duration": 24,
    "start_time": "2022-03-05T13:02:54.303Z"
   },
   {
    "duration": 9,
    "start_time": "2022-03-05T13:02:54.329Z"
   },
   {
    "duration": 7,
    "start_time": "2022-03-05T13:02:54.340Z"
   },
   {
    "duration": 12,
    "start_time": "2022-03-05T13:02:54.348Z"
   },
   {
    "duration": 4,
    "start_time": "2022-03-05T13:02:54.361Z"
   },
   {
    "duration": 9,
    "start_time": "2022-03-05T13:02:54.366Z"
   },
   {
    "duration": 4,
    "start_time": "2022-03-05T13:02:54.378Z"
   },
   {
    "duration": 166,
    "start_time": "2022-03-05T13:02:54.384Z"
   },
   {
    "duration": 1318,
    "start_time": "2022-03-05T13:02:54.551Z"
   },
   {
    "duration": 9,
    "start_time": "2022-03-05T13:02:55.871Z"
   },
   {
    "duration": 24,
    "start_time": "2022-03-05T13:02:55.882Z"
   },
   {
    "duration": 44,
    "start_time": "2022-03-05T13:02:55.908Z"
   },
   {
    "duration": 9,
    "start_time": "2022-03-05T13:02:55.953Z"
   },
   {
    "duration": 8,
    "start_time": "2022-03-05T13:04:04.151Z"
   },
   {
    "duration": 135,
    "start_time": "2022-03-05T13:36:35.035Z"
   },
   {
    "duration": 264,
    "start_time": "2022-03-05T13:38:16.491Z"
   },
   {
    "duration": 127,
    "start_time": "2022-03-05T13:39:10.753Z"
   },
   {
    "duration": 3,
    "start_time": "2022-03-05T13:39:19.284Z"
   },
   {
    "duration": 21,
    "start_time": "2022-03-05T13:39:19.289Z"
   },
   {
    "duration": 9,
    "start_time": "2022-03-05T13:39:19.312Z"
   },
   {
    "duration": 8,
    "start_time": "2022-03-05T13:39:19.323Z"
   },
   {
    "duration": 7,
    "start_time": "2022-03-05T13:39:19.333Z"
   },
   {
    "duration": 10,
    "start_time": "2022-03-05T13:39:19.341Z"
   },
   {
    "duration": 6,
    "start_time": "2022-03-05T13:39:19.352Z"
   },
   {
    "duration": 5,
    "start_time": "2022-03-05T13:39:19.360Z"
   },
   {
    "duration": 12,
    "start_time": "2022-03-05T13:39:19.367Z"
   },
   {
    "duration": 159,
    "start_time": "2022-03-05T13:39:19.381Z"
   },
   {
    "duration": 1341,
    "start_time": "2022-03-05T13:39:19.542Z"
   },
   {
    "duration": 10,
    "start_time": "2022-03-05T13:39:20.885Z"
   },
   {
    "duration": 10,
    "start_time": "2022-03-05T13:39:20.896Z"
   },
   {
    "duration": 52,
    "start_time": "2022-03-05T13:39:20.908Z"
   },
   {
    "duration": 8,
    "start_time": "2022-03-05T13:39:20.962Z"
   },
   {
    "duration": 161,
    "start_time": "2022-03-05T13:39:20.972Z"
   },
   {
    "duration": 3,
    "start_time": "2022-03-05T13:44:37.639Z"
   },
   {
    "duration": 26,
    "start_time": "2022-03-05T13:44:37.644Z"
   },
   {
    "duration": 9,
    "start_time": "2022-03-05T13:44:37.672Z"
   },
   {
    "duration": 7,
    "start_time": "2022-03-05T13:44:37.683Z"
   },
   {
    "duration": 10,
    "start_time": "2022-03-05T13:44:37.691Z"
   },
   {
    "duration": 10,
    "start_time": "2022-03-05T13:44:37.702Z"
   },
   {
    "duration": 4,
    "start_time": "2022-03-05T13:44:37.713Z"
   },
   {
    "duration": 20,
    "start_time": "2022-03-05T13:44:37.719Z"
   },
   {
    "duration": 8,
    "start_time": "2022-03-05T13:44:37.742Z"
   },
   {
    "duration": 160,
    "start_time": "2022-03-05T13:44:37.752Z"
   },
   {
    "duration": 1402,
    "start_time": "2022-03-05T13:44:37.914Z"
   },
   {
    "duration": 25,
    "start_time": "2022-03-05T13:44:39.318Z"
   },
   {
    "duration": 12,
    "start_time": "2022-03-05T13:44:39.345Z"
   },
   {
    "duration": 33,
    "start_time": "2022-03-05T13:44:39.359Z"
   },
   {
    "duration": 44,
    "start_time": "2022-03-05T13:44:39.394Z"
   },
   {
    "duration": 125,
    "start_time": "2022-03-05T13:44:39.441Z"
   },
   {
    "duration": 136,
    "start_time": "2022-03-05T13:52:35.511Z"
   },
   {
    "duration": 156,
    "start_time": "2022-03-05T13:56:58.420Z"
   },
   {
    "duration": 3,
    "start_time": "2022-03-05T14:01:38.287Z"
   },
   {
    "duration": 22,
    "start_time": "2022-03-05T14:01:38.292Z"
   },
   {
    "duration": 11,
    "start_time": "2022-03-05T14:01:38.316Z"
   },
   {
    "duration": 11,
    "start_time": "2022-03-05T14:01:38.329Z"
   },
   {
    "duration": 16,
    "start_time": "2022-03-05T14:01:38.342Z"
   },
   {
    "duration": 14,
    "start_time": "2022-03-05T14:01:38.360Z"
   },
   {
    "duration": 7,
    "start_time": "2022-03-05T14:01:38.375Z"
   },
   {
    "duration": 21,
    "start_time": "2022-03-05T14:01:38.383Z"
   },
   {
    "duration": 8,
    "start_time": "2022-03-05T14:01:38.407Z"
   },
   {
    "duration": 148,
    "start_time": "2022-03-05T14:01:38.417Z"
   },
   {
    "duration": 1319,
    "start_time": "2022-03-05T14:01:38.566Z"
   },
   {
    "duration": 9,
    "start_time": "2022-03-05T14:01:39.887Z"
   },
   {
    "duration": 12,
    "start_time": "2022-03-05T14:01:39.897Z"
   },
   {
    "duration": 53,
    "start_time": "2022-03-05T14:01:39.910Z"
   },
   {
    "duration": 10,
    "start_time": "2022-03-05T14:01:39.964Z"
   },
   {
    "duration": 146,
    "start_time": "2022-03-05T14:01:39.975Z"
   },
   {
    "duration": 43,
    "start_time": "2022-03-05T14:02:00.569Z"
   },
   {
    "duration": 139,
    "start_time": "2022-03-05T14:02:03.818Z"
   },
   {
    "duration": 134,
    "start_time": "2022-03-05T14:04:14.393Z"
   },
   {
    "duration": 127,
    "start_time": "2022-03-05T14:06:46.870Z"
   },
   {
    "duration": 1036,
    "start_time": "2022-03-05T14:10:14.745Z"
   },
   {
    "duration": 14,
    "start_time": "2022-03-05T14:10:15.783Z"
   },
   {
    "duration": 17,
    "start_time": "2022-03-05T14:10:15.799Z"
   },
   {
    "duration": 13,
    "start_time": "2022-03-05T14:10:15.817Z"
   },
   {
    "duration": 17,
    "start_time": "2022-03-05T14:10:15.837Z"
   },
   {
    "duration": 13,
    "start_time": "2022-03-05T14:10:15.856Z"
   },
   {
    "duration": 248,
    "start_time": "2022-03-05T14:10:15.871Z"
   },
   {
    "duration": 490,
    "start_time": "2022-03-05T14:10:15.632Z"
   },
   {
    "duration": 489,
    "start_time": "2022-03-05T14:10:15.635Z"
   },
   {
    "duration": 489,
    "start_time": "2022-03-05T14:10:15.636Z"
   },
   {
    "duration": 484,
    "start_time": "2022-03-05T14:10:15.643Z"
   },
   {
    "duration": 484,
    "start_time": "2022-03-05T14:10:15.644Z"
   },
   {
    "duration": 483,
    "start_time": "2022-03-05T14:10:15.646Z"
   },
   {
    "duration": 484,
    "start_time": "2022-03-05T14:10:15.647Z"
   },
   {
    "duration": 484,
    "start_time": "2022-03-05T14:10:15.648Z"
   },
   {
    "duration": 485,
    "start_time": "2022-03-05T14:10:15.649Z"
   },
   {
    "duration": 4,
    "start_time": "2022-03-05T14:10:31.106Z"
   },
   {
    "duration": 27,
    "start_time": "2022-03-05T14:10:31.112Z"
   },
   {
    "duration": 9,
    "start_time": "2022-03-05T14:10:31.142Z"
   },
   {
    "duration": 11,
    "start_time": "2022-03-05T14:10:31.154Z"
   },
   {
    "duration": 21,
    "start_time": "2022-03-05T14:10:31.167Z"
   },
   {
    "duration": 16,
    "start_time": "2022-03-05T14:10:31.190Z"
   },
   {
    "duration": 134,
    "start_time": "2022-03-05T14:10:31.208Z"
   },
   {
    "duration": 493,
    "start_time": "2022-03-05T14:10:30.851Z"
   },
   {
    "duration": 492,
    "start_time": "2022-03-05T14:10:30.853Z"
   },
   {
    "duration": 492,
    "start_time": "2022-03-05T14:10:30.854Z"
   },
   {
    "duration": 490,
    "start_time": "2022-03-05T14:10:30.857Z"
   },
   {
    "duration": 489,
    "start_time": "2022-03-05T14:10:30.858Z"
   },
   {
    "duration": 485,
    "start_time": "2022-03-05T14:10:30.863Z"
   },
   {
    "duration": 484,
    "start_time": "2022-03-05T14:10:30.865Z"
   },
   {
    "duration": 483,
    "start_time": "2022-03-05T14:10:30.867Z"
   },
   {
    "duration": 482,
    "start_time": "2022-03-05T14:10:30.869Z"
   },
   {
    "duration": 7,
    "start_time": "2022-03-05T14:11:56.509Z"
   },
   {
    "duration": 3,
    "start_time": "2022-03-05T14:11:59.209Z"
   },
   {
    "duration": 18,
    "start_time": "2022-03-05T14:11:59.214Z"
   },
   {
    "duration": 8,
    "start_time": "2022-03-05T14:11:59.234Z"
   },
   {
    "duration": 9,
    "start_time": "2022-03-05T14:11:59.244Z"
   },
   {
    "duration": 8,
    "start_time": "2022-03-05T14:11:59.255Z"
   },
   {
    "duration": 6,
    "start_time": "2022-03-05T14:11:59.265Z"
   },
   {
    "duration": 4,
    "start_time": "2022-03-05T14:11:59.272Z"
   },
   {
    "duration": 6,
    "start_time": "2022-03-05T14:11:59.279Z"
   },
   {
    "duration": 6,
    "start_time": "2022-03-05T14:11:59.287Z"
   },
   {
    "duration": 166,
    "start_time": "2022-03-05T14:11:59.294Z"
   },
   {
    "duration": 1363,
    "start_time": "2022-03-05T14:11:59.461Z"
   },
   {
    "duration": 19,
    "start_time": "2022-03-05T14:12:00.826Z"
   },
   {
    "duration": 10,
    "start_time": "2022-03-05T14:12:00.847Z"
   },
   {
    "duration": 33,
    "start_time": "2022-03-05T14:12:00.859Z"
   },
   {
    "duration": 9,
    "start_time": "2022-03-05T14:12:00.893Z"
   },
   {
    "duration": 146,
    "start_time": "2022-03-05T14:12:00.904Z"
   },
   {
    "duration": 178,
    "start_time": "2022-03-05T14:12:21.680Z"
   },
   {
    "duration": 5,
    "start_time": "2022-03-05T14:12:24.515Z"
   },
   {
    "duration": 4,
    "start_time": "2022-03-05T14:12:35.032Z"
   },
   {
    "duration": 4,
    "start_time": "2022-03-05T14:12:44.071Z"
   },
   {
    "duration": 3,
    "start_time": "2022-03-05T14:12:46.023Z"
   },
   {
    "duration": 17,
    "start_time": "2022-03-05T14:12:46.028Z"
   },
   {
    "duration": 8,
    "start_time": "2022-03-05T14:12:46.047Z"
   },
   {
    "duration": 10,
    "start_time": "2022-03-05T14:12:46.057Z"
   },
   {
    "duration": 17,
    "start_time": "2022-03-05T14:12:46.068Z"
   },
   {
    "duration": 7,
    "start_time": "2022-03-05T14:12:46.086Z"
   },
   {
    "duration": 4,
    "start_time": "2022-03-05T14:12:46.094Z"
   },
   {
    "duration": 6,
    "start_time": "2022-03-05T14:12:46.100Z"
   },
   {
    "duration": 9,
    "start_time": "2022-03-05T14:12:46.108Z"
   },
   {
    "duration": 19,
    "start_time": "2022-03-05T14:12:46.119Z"
   },
   {
    "duration": 10,
    "start_time": "2022-03-05T14:12:46.140Z"
   },
   {
    "duration": 11,
    "start_time": "2022-03-05T14:12:46.151Z"
   },
   {
    "duration": 161,
    "start_time": "2022-03-05T14:12:46.163Z"
   },
   {
    "duration": 1353,
    "start_time": "2022-03-05T14:12:46.326Z"
   },
   {
    "duration": 10,
    "start_time": "2022-03-05T14:12:47.681Z"
   },
   {
    "duration": 10,
    "start_time": "2022-03-05T14:12:47.692Z"
   },
   {
    "duration": 53,
    "start_time": "2022-03-05T14:12:47.703Z"
   },
   {
    "duration": 9,
    "start_time": "2022-03-05T14:12:47.757Z"
   },
   {
    "duration": 131,
    "start_time": "2022-03-05T14:12:47.768Z"
   },
   {
    "duration": 1049,
    "start_time": "2022-03-05T14:13:20.330Z"
   },
   {
    "duration": 15,
    "start_time": "2022-03-05T14:13:21.381Z"
   },
   {
    "duration": 20,
    "start_time": "2022-03-05T14:13:21.398Z"
   },
   {
    "duration": 12,
    "start_time": "2022-03-05T14:13:21.420Z"
   },
   {
    "duration": 6,
    "start_time": "2022-03-05T14:13:21.438Z"
   },
   {
    "duration": 9,
    "start_time": "2022-03-05T14:13:21.445Z"
   },
   {
    "duration": 4,
    "start_time": "2022-03-05T14:13:21.455Z"
   },
   {
    "duration": 5,
    "start_time": "2022-03-05T14:13:21.461Z"
   },
   {
    "duration": 9,
    "start_time": "2022-03-05T14:13:21.468Z"
   },
   {
    "duration": 6,
    "start_time": "2022-03-05T14:13:21.479Z"
   },
   {
    "duration": 7,
    "start_time": "2022-03-05T14:13:21.487Z"
   },
   {
    "duration": 7,
    "start_time": "2022-03-05T14:13:21.495Z"
   },
   {
    "duration": 178,
    "start_time": "2022-03-05T14:13:21.503Z"
   },
   {
    "duration": 1358,
    "start_time": "2022-03-05T14:13:21.683Z"
   },
   {
    "duration": 11,
    "start_time": "2022-03-05T14:13:23.043Z"
   },
   {
    "duration": 11,
    "start_time": "2022-03-05T14:13:23.056Z"
   },
   {
    "duration": 34,
    "start_time": "2022-03-05T14:13:23.068Z"
   },
   {
    "duration": 41,
    "start_time": "2022-03-05T14:13:23.104Z"
   },
   {
    "duration": 218,
    "start_time": "2022-03-05T14:13:23.147Z"
   },
   {
    "duration": 1065,
    "start_time": "2022-03-05T16:08:20.431Z"
   },
   {
    "duration": 14,
    "start_time": "2022-03-05T16:08:21.498Z"
   },
   {
    "duration": 16,
    "start_time": "2022-03-05T16:08:21.531Z"
   },
   {
    "duration": 7,
    "start_time": "2022-03-05T16:08:22.216Z"
   },
   {
    "duration": 6,
    "start_time": "2022-03-05T16:08:22.813Z"
   },
   {
    "duration": 6,
    "start_time": "2022-03-05T16:09:10.714Z"
   },
   {
    "duration": 4,
    "start_time": "2022-03-05T16:09:11.114Z"
   },
   {
    "duration": 4,
    "start_time": "2022-03-05T16:09:11.310Z"
   },
   {
    "duration": 4,
    "start_time": "2022-03-05T16:09:11.479Z"
   },
   {
    "duration": 3,
    "start_time": "2022-03-05T16:09:45.104Z"
   },
   {
    "duration": 4,
    "start_time": "2022-03-05T16:09:45.748Z"
   },
   {
    "duration": 5,
    "start_time": "2022-03-05T16:09:49.068Z"
   },
   {
    "duration": 194,
    "start_time": "2022-03-05T16:10:08.456Z"
   },
   {
    "duration": 1336,
    "start_time": "2022-03-05T16:10:34.511Z"
   },
   {
    "duration": 12,
    "start_time": "2022-03-05T16:10:48.020Z"
   },
   {
    "duration": 12,
    "start_time": "2022-03-05T16:11:26.509Z"
   },
   {
    "duration": 37,
    "start_time": "2022-03-05T16:11:28.381Z"
   },
   {
    "duration": 11,
    "start_time": "2022-03-05T16:11:30.075Z"
   },
   {
    "duration": 646,
    "start_time": "2022-03-06T08:53:46.321Z"
   },
   {
    "duration": 504,
    "start_time": "2022-03-06T08:53:50.284Z"
   },
   {
    "duration": 18,
    "start_time": "2022-03-06T08:53:50.789Z"
   },
   {
    "duration": 24,
    "start_time": "2022-03-06T08:53:50.809Z"
   },
   {
    "duration": 7,
    "start_time": "2022-03-06T08:53:50.835Z"
   },
   {
    "duration": 7,
    "start_time": "2022-03-06T08:53:50.844Z"
   },
   {
    "duration": 6,
    "start_time": "2022-03-06T08:53:50.853Z"
   },
   {
    "duration": 4,
    "start_time": "2022-03-06T08:53:50.861Z"
   },
   {
    "duration": 4,
    "start_time": "2022-03-06T08:53:50.868Z"
   },
   {
    "duration": 5,
    "start_time": "2022-03-06T08:53:50.874Z"
   },
   {
    "duration": 5,
    "start_time": "2022-03-06T08:53:50.880Z"
   },
   {
    "duration": 47,
    "start_time": "2022-03-06T08:53:50.886Z"
   },
   {
    "duration": 6,
    "start_time": "2022-03-06T08:53:50.936Z"
   },
   {
    "duration": 151,
    "start_time": "2022-03-06T08:53:50.943Z"
   },
   {
    "duration": 1308,
    "start_time": "2022-03-06T08:53:51.096Z"
   },
   {
    "duration": 10,
    "start_time": "2022-03-06T08:53:52.406Z"
   },
   {
    "duration": 18,
    "start_time": "2022-03-06T08:53:52.417Z"
   },
   {
    "duration": 31,
    "start_time": "2022-03-06T08:53:52.437Z"
   },
   {
    "duration": 8,
    "start_time": "2022-03-06T08:53:52.470Z"
   },
   {
    "duration": 155,
    "start_time": "2022-03-06T08:53:52.479Z"
   },
   {
    "duration": 343,
    "start_time": "2022-03-06T08:53:52.293Z"
   },
   {
    "duration": 150,
    "start_time": "2022-03-06T08:54:12.899Z"
   },
   {
    "duration": 3,
    "start_time": "2022-03-06T08:54:20.730Z"
   },
   {
    "duration": 14,
    "start_time": "2022-03-06T08:54:20.735Z"
   },
   {
    "duration": 7,
    "start_time": "2022-03-06T08:54:20.751Z"
   },
   {
    "duration": 6,
    "start_time": "2022-03-06T08:54:20.760Z"
   },
   {
    "duration": 6,
    "start_time": "2022-03-06T08:54:20.767Z"
   },
   {
    "duration": 6,
    "start_time": "2022-03-06T08:54:20.774Z"
   },
   {
    "duration": 3,
    "start_time": "2022-03-06T08:54:20.781Z"
   },
   {
    "duration": 5,
    "start_time": "2022-03-06T08:54:20.785Z"
   },
   {
    "duration": 3,
    "start_time": "2022-03-06T08:54:20.792Z"
   },
   {
    "duration": 4,
    "start_time": "2022-03-06T08:54:20.833Z"
   },
   {
    "duration": 10,
    "start_time": "2022-03-06T08:54:20.839Z"
   },
   {
    "duration": 5,
    "start_time": "2022-03-06T08:54:20.850Z"
   },
   {
    "duration": 159,
    "start_time": "2022-03-06T08:54:20.857Z"
   },
   {
    "duration": 1295,
    "start_time": "2022-03-06T08:54:21.018Z"
   },
   {
    "duration": 19,
    "start_time": "2022-03-06T08:54:22.314Z"
   },
   {
    "duration": 10,
    "start_time": "2022-03-06T08:54:22.335Z"
   },
   {
    "duration": 31,
    "start_time": "2022-03-06T08:54:22.346Z"
   },
   {
    "duration": 9,
    "start_time": "2022-03-06T08:54:22.379Z"
   },
   {
    "duration": 2,
    "start_time": "2022-03-06T08:54:22.389Z"
   },
   {
    "duration": 147,
    "start_time": "2022-03-06T08:54:22.393Z"
   },
   {
    "duration": 9,
    "start_time": "2022-03-06T08:55:23.793Z"
   },
   {
    "duration": 262,
    "start_time": "2022-03-06T08:57:16.727Z"
   },
   {
    "duration": 4,
    "start_time": "2022-03-06T08:57:35.363Z"
   },
   {
    "duration": 43,
    "start_time": "2022-03-06T08:57:51.084Z"
   },
   {
    "duration": 125,
    "start_time": "2022-03-06T08:57:54.189Z"
   },
   {
    "duration": 4,
    "start_time": "2022-03-06T09:03:03.587Z"
   },
   {
    "duration": 8,
    "start_time": "2022-03-06T09:03:03.592Z"
   },
   {
    "duration": 20,
    "start_time": "2022-03-06T09:03:03.601Z"
   },
   {
    "duration": 7,
    "start_time": "2022-03-06T09:03:03.623Z"
   },
   {
    "duration": 7,
    "start_time": "2022-03-06T09:03:03.632Z"
   },
   {
    "duration": 7,
    "start_time": "2022-03-06T09:03:03.641Z"
   },
   {
    "duration": 12,
    "start_time": "2022-03-06T09:03:03.649Z"
   },
   {
    "duration": 6,
    "start_time": "2022-03-06T09:03:03.663Z"
   },
   {
    "duration": 13,
    "start_time": "2022-03-06T09:03:03.671Z"
   },
   {
    "duration": 8,
    "start_time": "2022-03-06T09:03:03.685Z"
   },
   {
    "duration": 7,
    "start_time": "2022-03-06T09:03:03.694Z"
   },
   {
    "duration": 6,
    "start_time": "2022-03-06T09:03:03.702Z"
   },
   {
    "duration": 23,
    "start_time": "2022-03-06T09:03:03.710Z"
   },
   {
    "duration": 3,
    "start_time": "2022-03-06T09:03:03.735Z"
   },
   {
    "duration": 150,
    "start_time": "2022-03-06T09:03:03.740Z"
   },
   {
    "duration": 1314,
    "start_time": "2022-03-06T09:03:03.892Z"
   },
   {
    "duration": 8,
    "start_time": "2022-03-06T09:03:05.207Z"
   },
   {
    "duration": 25,
    "start_time": "2022-03-06T09:03:05.217Z"
   },
   {
    "duration": 30,
    "start_time": "2022-03-06T09:03:05.244Z"
   },
   {
    "duration": 9,
    "start_time": "2022-03-06T09:03:05.275Z"
   },
   {
    "duration": 2,
    "start_time": "2022-03-06T09:03:05.286Z"
   },
   {
    "duration": 5,
    "start_time": "2022-03-06T09:03:05.290Z"
   },
   {
    "duration": 123,
    "start_time": "2022-03-06T09:03:05.297Z"
   },
   {
    "duration": 2711,
    "start_time": "2022-03-06T09:05:29.741Z"
   },
   {
    "duration": 3,
    "start_time": "2022-03-06T09:26:34.723Z"
   },
   {
    "duration": 9,
    "start_time": "2022-03-06T09:26:34.727Z"
   },
   {
    "duration": 18,
    "start_time": "2022-03-06T09:26:34.738Z"
   },
   {
    "duration": 8,
    "start_time": "2022-03-06T09:26:34.758Z"
   },
   {
    "duration": 7,
    "start_time": "2022-03-06T09:26:34.768Z"
   },
   {
    "duration": 6,
    "start_time": "2022-03-06T09:26:34.777Z"
   },
   {
    "duration": 13,
    "start_time": "2022-03-06T09:26:34.784Z"
   },
   {
    "duration": 2651,
    "start_time": "2022-03-06T09:26:34.799Z"
   },
   {
    "duration": 7,
    "start_time": "2022-03-06T09:26:37.452Z"
   },
   {
    "duration": 6,
    "start_time": "2022-03-06T09:26:37.460Z"
   },
   {
    "duration": 5,
    "start_time": "2022-03-06T09:26:37.467Z"
   },
   {
    "duration": 6,
    "start_time": "2022-03-06T09:26:37.473Z"
   },
   {
    "duration": 5,
    "start_time": "2022-03-06T09:26:37.480Z"
   },
   {
    "duration": 8,
    "start_time": "2022-03-06T09:26:37.486Z"
   },
   {
    "duration": 6,
    "start_time": "2022-03-06T09:26:37.495Z"
   },
   {
    "duration": 145,
    "start_time": "2022-03-06T09:26:37.532Z"
   },
   {
    "duration": 1313,
    "start_time": "2022-03-06T09:26:37.679Z"
   },
   {
    "duration": 9,
    "start_time": "2022-03-06T09:26:38.994Z"
   },
   {
    "duration": 10,
    "start_time": "2022-03-06T09:26:39.004Z"
   },
   {
    "duration": 49,
    "start_time": "2022-03-06T09:26:39.015Z"
   },
   {
    "duration": 8,
    "start_time": "2022-03-06T09:26:39.066Z"
   },
   {
    "duration": 5,
    "start_time": "2022-03-06T09:26:39.075Z"
   },
   {
    "duration": 118,
    "start_time": "2022-03-06T09:26:39.083Z"
   },
   {
    "duration": 6,
    "start_time": "2022-03-06T09:27:06.224Z"
   }
  ],
  "kernelspec": {
   "display_name": "Python 3 (ipykernel)",
   "language": "python",
   "name": "python3"
  },
  "language_info": {
   "codemirror_mode": {
    "name": "ipython",
    "version": 3
   },
   "file_extension": ".py",
   "mimetype": "text/x-python",
   "name": "python",
   "nbconvert_exporter": "python",
   "pygments_lexer": "ipython3",
   "version": "3.9.7"
  },
  "toc": {
   "base_numbering": 1,
   "nav_menu": {},
   "number_sections": true,
   "sideBar": true,
   "skip_h1_title": true,
   "title_cell": "Table of Contents",
   "title_sidebar": "Contents",
   "toc_cell": false,
   "toc_position": {},
   "toc_section_display": true,
   "toc_window_display": true
  }
 },
 "nbformat": 4,
 "nbformat_minor": 2
}
