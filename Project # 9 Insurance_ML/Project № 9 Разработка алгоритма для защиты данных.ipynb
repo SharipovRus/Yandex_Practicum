{
 "cells": [
  {
   "cell_type": "markdown",
   "metadata": {
    "toc": true
   },
   "source": [
    "<h1>Содержание<span class=\"tocSkip\"></span></h1>\n",
    "<div class=\"toc\"><ul class=\"toc-item\"><li><span><a href=\"#Загрузка-данных\" data-toc-modified-id=\"Загрузка-данных-1\"><span class=\"toc-item-num\">1&nbsp;&nbsp;</span>Загрузка данных</a></span></li><li><span><a href=\"#Умножение-матриц\" data-toc-modified-id=\"Умножение-матриц-2\"><span class=\"toc-item-num\">2&nbsp;&nbsp;</span>Умножение матриц</a></span></li><li><span><a href=\"#Алгоритм-преобразования\" data-toc-modified-id=\"Алгоритм-преобразования-3\"><span class=\"toc-item-num\">3&nbsp;&nbsp;</span>Алгоритм преобразования</a></span></li><li><span><a href=\"#Проверка-алгоритма\" data-toc-modified-id=\"Проверка-алгоритма-4\"><span class=\"toc-item-num\">4&nbsp;&nbsp;</span>Проверка алгоритма</a></span></li><li><span><a href=\"#Чек-лист-проверки\" data-toc-modified-id=\"Чек-лист-проверки-5\"><span class=\"toc-item-num\">5&nbsp;&nbsp;</span>Чек-лист проверки</a></span></li></ul></div>"
   ]
  },
  {
   "cell_type": "markdown",
   "metadata": {},
   "source": [
    "# Защита персональных данных клиентов"
   ]
  },
  {
   "cell_type": "markdown",
   "metadata": {},
   "source": [
    "Вам нужно защитить данные клиентов страховой компании «Хоть потоп». Разработайте такой метод преобразования данных, чтобы по ним было сложно восстановить персональную информацию. Обоснуйте корректность его работы.\n",
    "\n",
    "Нужно защитить данные, чтобы при преобразовании качество моделей машинного обучения не ухудшилось. Подбирать наилучшую модель не требуется."
   ]
  },
  {
   "cell_type": "markdown",
   "metadata": {},
   "source": [
    "## Загрузка данных"
   ]
  },
  {
   "cell_type": "code",
   "execution_count": 1,
   "metadata": {},
   "outputs": [],
   "source": [
    "import pandas as pd\n",
    "import numpy as np\n",
    "from sklearn.metrics import r2_score \n",
    "from sklearn.linear_model import LinearRegression,LogisticRegressionCV,LinearRegression,LassoCV,RidgeCV \n",
    "from sklearn.pipeline import Pipeline \n",
    "from sklearn.model_selection  import train_test_split \n",
    "from sklearn.preprocessing import StandardScaler\n",
    "from sklearn.tree import DecisionTreeClassifier,DecisionTreeRegressor\n",
    "from sklearn.dummy import DummyClassifier\n",
    "\n",
    "\n",
    "import warnings \n",
    "warnings.filterwarnings('ignore')"
   ]
  },
  {
   "cell_type": "code",
   "execution_count": 2,
   "metadata": {
    "scrolled": true
   },
   "outputs": [
    {
     "data": {
      "text/html": [
       "<div>\n",
       "<style scoped>\n",
       "    .dataframe tbody tr th:only-of-type {\n",
       "        vertical-align: middle;\n",
       "    }\n",
       "\n",
       "    .dataframe tbody tr th {\n",
       "        vertical-align: top;\n",
       "    }\n",
       "\n",
       "    .dataframe thead th {\n",
       "        text-align: right;\n",
       "    }\n",
       "</style>\n",
       "<table border=\"1\" class=\"dataframe\">\n",
       "  <thead>\n",
       "    <tr style=\"text-align: right;\">\n",
       "      <th></th>\n",
       "      <th>Пол</th>\n",
       "      <th>Возраст</th>\n",
       "      <th>Зарплата</th>\n",
       "      <th>Члены семьи</th>\n",
       "      <th>Страховые выплаты</th>\n",
       "    </tr>\n",
       "  </thead>\n",
       "  <tbody>\n",
       "    <tr>\n",
       "      <th>0</th>\n",
       "      <td>1</td>\n",
       "      <td>41.0</td>\n",
       "      <td>49600.0</td>\n",
       "      <td>1</td>\n",
       "      <td>0</td>\n",
       "    </tr>\n",
       "    <tr>\n",
       "      <th>1</th>\n",
       "      <td>0</td>\n",
       "      <td>46.0</td>\n",
       "      <td>38000.0</td>\n",
       "      <td>1</td>\n",
       "      <td>1</td>\n",
       "    </tr>\n",
       "    <tr>\n",
       "      <th>2</th>\n",
       "      <td>0</td>\n",
       "      <td>29.0</td>\n",
       "      <td>21000.0</td>\n",
       "      <td>0</td>\n",
       "      <td>0</td>\n",
       "    </tr>\n",
       "    <tr>\n",
       "      <th>3</th>\n",
       "      <td>0</td>\n",
       "      <td>21.0</td>\n",
       "      <td>41700.0</td>\n",
       "      <td>2</td>\n",
       "      <td>0</td>\n",
       "    </tr>\n",
       "    <tr>\n",
       "      <th>4</th>\n",
       "      <td>1</td>\n",
       "      <td>28.0</td>\n",
       "      <td>26100.0</td>\n",
       "      <td>0</td>\n",
       "      <td>0</td>\n",
       "    </tr>\n",
       "  </tbody>\n",
       "</table>\n",
       "</div>"
      ],
      "text/plain": [
       "   Пол  Возраст  Зарплата  Члены семьи  Страховые выплаты\n",
       "0    1     41.0   49600.0            1                  0\n",
       "1    0     46.0   38000.0            1                  1\n",
       "2    0     29.0   21000.0            0                  0\n",
       "3    0     21.0   41700.0            2                  0\n",
       "4    1     28.0   26100.0            0                  0"
      ]
     },
     "execution_count": 2,
     "metadata": {},
     "output_type": "execute_result"
    }
   ],
   "source": [
    "data = pd.read_csv('/datasets/insurance.csv')\n",
    "data.head()"
   ]
  },
  {
   "cell_type": "code",
   "execution_count": 3,
   "metadata": {
    "scrolled": true
   },
   "outputs": [
    {
     "name": "stdout",
     "output_type": "stream",
     "text": [
      "<class 'pandas.core.frame.DataFrame'>\n",
      "RangeIndex: 5000 entries, 0 to 4999\n",
      "Data columns (total 5 columns):\n",
      " #   Column             Non-Null Count  Dtype  \n",
      "---  ------             --------------  -----  \n",
      " 0   Пол                5000 non-null   int64  \n",
      " 1   Возраст            5000 non-null   float64\n",
      " 2   Зарплата           5000 non-null   float64\n",
      " 3   Члены семьи        5000 non-null   int64  \n",
      " 4   Страховые выплаты  5000 non-null   int64  \n",
      "dtypes: float64(2), int64(3)\n",
      "memory usage: 195.4 KB\n"
     ]
    }
   ],
   "source": [
    "data.info()"
   ]
  },
  {
   "cell_type": "code",
   "execution_count": 4,
   "metadata": {
    "scrolled": true
   },
   "outputs": [
    {
     "data": {
      "text/plain": [
       "153"
      ]
     },
     "execution_count": 4,
     "metadata": {},
     "output_type": "execute_result"
    }
   ],
   "source": [
    "data.duplicated().sum() "
   ]
  },
  {
   "cell_type": "code",
   "execution_count": 5,
   "metadata": {},
   "outputs": [
    {
     "data": {
      "text/plain": [
       "Пол                  0\n",
       "Возраст              0\n",
       "Зарплата             0\n",
       "Члены семьи          0\n",
       "Страховые выплаты    0\n",
       "dtype: int64"
      ]
     },
     "execution_count": 5,
     "metadata": {},
     "output_type": "execute_result"
    }
   ],
   "source": [
    "data.isnull().sum()"
   ]
  },
  {
   "cell_type": "markdown",
   "metadata": {},
   "source": [
    "**ВЫВОДЫ** \n",
    "\n",
    "- пропущенных значений нет\n",
    "- необходимо изменить тип данных в столбце Возрастиз float в int\n",
    "- избавиться от 153 дубликатов "
   ]
  },
  {
   "cell_type": "code",
   "execution_count": 6,
   "metadata": {},
   "outputs": [
    {
     "data": {
      "text/html": [
       "<div>\n",
       "<style scoped>\n",
       "    .dataframe tbody tr th:only-of-type {\n",
       "        vertical-align: middle;\n",
       "    }\n",
       "\n",
       "    .dataframe tbody tr th {\n",
       "        vertical-align: top;\n",
       "    }\n",
       "\n",
       "    .dataframe thead th {\n",
       "        text-align: right;\n",
       "    }\n",
       "</style>\n",
       "<table border=\"1\" class=\"dataframe\">\n",
       "  <thead>\n",
       "    <tr style=\"text-align: right;\">\n",
       "      <th></th>\n",
       "      <th>Пол</th>\n",
       "      <th>Возраст</th>\n",
       "      <th>Зарплата</th>\n",
       "      <th>Члены семьи</th>\n",
       "      <th>Страховые выплаты</th>\n",
       "    </tr>\n",
       "  </thead>\n",
       "  <tbody>\n",
       "    <tr>\n",
       "      <th>0</th>\n",
       "      <td>1</td>\n",
       "      <td>41.0</td>\n",
       "      <td>49600.0</td>\n",
       "      <td>1</td>\n",
       "      <td>0</td>\n",
       "    </tr>\n",
       "    <tr>\n",
       "      <th>1</th>\n",
       "      <td>0</td>\n",
       "      <td>46.0</td>\n",
       "      <td>38000.0</td>\n",
       "      <td>1</td>\n",
       "      <td>1</td>\n",
       "    </tr>\n",
       "    <tr>\n",
       "      <th>2</th>\n",
       "      <td>0</td>\n",
       "      <td>29.0</td>\n",
       "      <td>21000.0</td>\n",
       "      <td>0</td>\n",
       "      <td>0</td>\n",
       "    </tr>\n",
       "    <tr>\n",
       "      <th>3</th>\n",
       "      <td>0</td>\n",
       "      <td>21.0</td>\n",
       "      <td>41700.0</td>\n",
       "      <td>2</td>\n",
       "      <td>0</td>\n",
       "    </tr>\n",
       "    <tr>\n",
       "      <th>4</th>\n",
       "      <td>1</td>\n",
       "      <td>28.0</td>\n",
       "      <td>26100.0</td>\n",
       "      <td>0</td>\n",
       "      <td>0</td>\n",
       "    </tr>\n",
       "    <tr>\n",
       "      <th>...</th>\n",
       "      <td>...</td>\n",
       "      <td>...</td>\n",
       "      <td>...</td>\n",
       "      <td>...</td>\n",
       "      <td>...</td>\n",
       "    </tr>\n",
       "    <tr>\n",
       "      <th>4842</th>\n",
       "      <td>0</td>\n",
       "      <td>28.0</td>\n",
       "      <td>35700.0</td>\n",
       "      <td>2</td>\n",
       "      <td>0</td>\n",
       "    </tr>\n",
       "    <tr>\n",
       "      <th>4843</th>\n",
       "      <td>0</td>\n",
       "      <td>34.0</td>\n",
       "      <td>52400.0</td>\n",
       "      <td>1</td>\n",
       "      <td>0</td>\n",
       "    </tr>\n",
       "    <tr>\n",
       "      <th>4844</th>\n",
       "      <td>0</td>\n",
       "      <td>20.0</td>\n",
       "      <td>33900.0</td>\n",
       "      <td>2</td>\n",
       "      <td>0</td>\n",
       "    </tr>\n",
       "    <tr>\n",
       "      <th>4845</th>\n",
       "      <td>1</td>\n",
       "      <td>22.0</td>\n",
       "      <td>32700.0</td>\n",
       "      <td>3</td>\n",
       "      <td>0</td>\n",
       "    </tr>\n",
       "    <tr>\n",
       "      <th>4846</th>\n",
       "      <td>1</td>\n",
       "      <td>28.0</td>\n",
       "      <td>40600.0</td>\n",
       "      <td>1</td>\n",
       "      <td>0</td>\n",
       "    </tr>\n",
       "  </tbody>\n",
       "</table>\n",
       "<p>4847 rows × 5 columns</p>\n",
       "</div>"
      ],
      "text/plain": [
       "      Пол  Возраст  Зарплата  Члены семьи  Страховые выплаты\n",
       "0       1     41.0   49600.0            1                  0\n",
       "1       0     46.0   38000.0            1                  1\n",
       "2       0     29.0   21000.0            0                  0\n",
       "3       0     21.0   41700.0            2                  0\n",
       "4       1     28.0   26100.0            0                  0\n",
       "...   ...      ...       ...          ...                ...\n",
       "4842    0     28.0   35700.0            2                  0\n",
       "4843    0     34.0   52400.0            1                  0\n",
       "4844    0     20.0   33900.0            2                  0\n",
       "4845    1     22.0   32700.0            3                  0\n",
       "4846    1     28.0   40600.0            1                  0\n",
       "\n",
       "[4847 rows x 5 columns]"
      ]
     },
     "execution_count": 6,
     "metadata": {},
     "output_type": "execute_result"
    }
   ],
   "source": [
    "data.drop_duplicates().reset_index(drop = True)"
   ]
  },
  {
   "cell_type": "code",
   "execution_count": 7,
   "metadata": {},
   "outputs": [],
   "source": [
    "data['Возраст'] = data['Возраст'].astype('int')"
   ]
  },
  {
   "cell_type": "code",
   "execution_count": 8,
   "metadata": {
    "scrolled": true
   },
   "outputs": [
    {
     "name": "stdout",
     "output_type": "stream",
     "text": [
      "<class 'pandas.core.frame.DataFrame'>\n",
      "RangeIndex: 5000 entries, 0 to 4999\n",
      "Data columns (total 5 columns):\n",
      " #   Column             Non-Null Count  Dtype  \n",
      "---  ------             --------------  -----  \n",
      " 0   Пол                5000 non-null   int64  \n",
      " 1   Возраст            5000 non-null   int64  \n",
      " 2   Зарплата           5000 non-null   float64\n",
      " 3   Члены семьи        5000 non-null   int64  \n",
      " 4   Страховые выплаты  5000 non-null   int64  \n",
      "dtypes: float64(1), int64(4)\n",
      "memory usage: 195.4 KB\n"
     ]
    }
   ],
   "source": [
    "data.info()"
   ]
  },
  {
   "cell_type": "markdown",
   "metadata": {},
   "source": [
    "**ВЫВОДЫ**\n",
    "\n",
    "- от дубликатов избавились\n",
    "- к необходимым значениям данные привели"
   ]
  },
  {
   "cell_type": "markdown",
   "metadata": {},
   "source": [
    "## Умножение матриц"
   ]
  },
  {
   "cell_type": "markdown",
   "metadata": {},
   "source": [
    "Ответим на вопрос и обоснуем решение.\n",
    "\n",
    "\n",
    "Признаки умножают на обратимую матрицу. Изменится ли качество линейной регрессии? (Её можно обучить заново.)\n",
    "\n",
    "\n",
    "- a. Изменится. Приведите примеры матриц.\n",
    "- b. Не изменится. Укажите, как связаны параметры линейной регрессии в исходной задаче и в преобразованной."
   ]
  },
  {
   "cell_type": "markdown",
   "metadata": {},
   "source": [
    "Разделим признаки на features и target "
   ]
  },
  {
   "cell_type": "code",
   "execution_count": 9,
   "metadata": {},
   "outputs": [
    {
     "name": "stdout",
     "output_type": "stream",
     "text": [
      "(5000, 4) (5000,)\n"
     ]
    }
   ],
   "source": [
    "features = data.drop('Страховые выплаты', axis = 1)\n",
    "target = data['Страховые выплаты']\n",
    "print(features.shape, target.shape)"
   ]
  },
  {
   "cell_type": "code",
   "execution_count": 10,
   "metadata": {},
   "outputs": [
    {
     "name": "stdout",
     "output_type": "stream",
     "text": [
      "0.42494550286668\n"
     ]
    }
   ],
   "source": [
    "model  = LinearRegression()\n",
    "model.fit(features, target)\n",
    "prediction = model.predict(features)\n",
    "print(r2_score(target, prediction))\n"
   ]
  },
  {
   "cell_type": "markdown",
   "metadata": {},
   "source": [
    "Обозначения:\n",
    "\n",
    "- $X$ — матрица признаков (нулевой столбец состоит из единиц)\n",
    "\n",
    "- $y$ — вектор целевого признака\n",
    "\n",
    "- $P$ — матрица, на которую умножаются признаки\n",
    "\n",
    "- $w$ — вектор весов линейной регрессии (нулевой элемент равен сдвигу)"
   ]
  },
  {
   "cell_type": "markdown",
   "metadata": {},
   "source": [
    "Укажем основные свойства обратной матрицы:\n",
    "$$\n",
    "det(A) = \\\\frac{1}  {det(A)}\n",
    "$$\n",
    "\n",
    "$$\n",
    "(AB)^{-1} =  B^{-1}A^{-1}\n",
    "$$\n",
    "\n",
    "$$\n",
    "(A^T)^{-1} = ((A)^{-1})^T\n",
    "$$\n",
    "\n",
    "\n",
    "\n",
    "Для двух квадратных оббратимых матриц $A$ $B$: \n",
    "$$\n",
    "(A^T)^{-1} = ((A)^{-1}))^T\n",
    "$$\n"
   ]
  },
  {
   "cell_type": "markdown",
   "metadata": {},
   "source": [
    "Укажем основыне свойства единичной матрицы :\n",
    "$$\n",
    "AE = EA =A\n",
    "$$\n",
    "\n",
    "$$\n",
    "AA^{1}=EE\n",
    "$$"
   ]
  },
  {
   "cell_type": "markdown",
   "metadata": {},
   "source": [
    "Предсказания:\n",
    "\n",
    "$$\n",
    "a = Xw\n",
    "$$\n",
    "\n",
    "Задача обучения:\n",
    "\n",
    "$$\n",
    "w = \\arg\\min_w MSE(Xw, y)\n",
    "$$\n",
    "\n",
    "Формула обучения:\n",
    "\n",
    "$$\n",
    "w = (X^T X)^{-1} X^T y\n",
    "$$"
   ]
  },
  {
   "cell_type": "markdown",
   "metadata": {},
   "source": [
    "**Вопрос:** Признаки умножают на обратимую матрицу. Изменится ли качество линейной регрессии?\n",
    "\n",
    "**Ответ:** Не изменится\n",
    "\n",
    "**Обоснование:** \n",
    "\n",
    "Заменим матрицу $X$ на матрицу $Z$: \n",
    "\n",
    "$$\n",
    "Z = XP   (1.1)\n",
    "$$\n",
    "\n",
    "$P$  а данном случае - обратная матрица с неизвестными значениями, на котороую может быть умножена матрица X.\n",
    "\n",
    "Заменим $X$ на $Z$ и вычислим чему будет равно предсказание и вектор весов:\n",
    "$$\n",
    "a_1 = Zw_1 (1.2)\n",
    "$$\n",
    "\n",
    "$$\n",
    "w_1 = (Z^T Z)^{-1} Z^T y (1.3)\n",
    "$$\n",
    "\n",
    "\n",
    "Подставим в уравнение 1.2 правую часть уравнения 1.3 :\n",
    "\n",
    "$$\n",
    "a_1 = Z(Z^T Z)^ {-1} Z^T y  (1.4)\n",
    "$$\n",
    "\n",
    "\n",
    "Заменим все $Z$ правой частью уравнения 1.1:\n",
    "$$\n",
    "a_1 =XP ((XP)^T (XP))^{-1} (XP)^T y  (1.5)\n",
    "$$\n",
    "\n",
    "Для данного этапа нам нам понадобится свойство обратной матрицы:\n",
    "$$\n",
    "(AB)^{-1} =  B^{-1}A^{-1}\n",
    "$$\n",
    "\n",
    "\n",
    "Раскроем $((XP)^T (XP))^{-1}$ :\n",
    "$$\n",
    "а_1 = XP ((XP)^T (XP))^{-1} (XP)^T y = XP(XP)^{-1}((XP)^T)^{-1} (XP)^T y = XPP^{-1}X^{-1}((XP)^T)^{1} (XP)^T (1.6)\n",
    "$$\n",
    "\n",
    "Из умножения получится, что $PP^{-1} = E$\n",
    "\n",
    "Для данного этапа нам нам понадобится свойство транспортированной матрицы:\n",
    "$$\n",
    "(AB)^T = B^T A^T \n",
    "$$\n",
    "\n",
    "Умножение на единичную матрицу ничего не поменяет\n",
    "$$\n",
    "a_1 = XEX^{-1}((XP)^T)^{-1} (XP)^T y = XX^{-1}(P^T X^T)^{-1} P^T X^T y = XX^{-1} (X^T)^{-1} (P^T)^{-1} P^T X^T y (1.7)\n",
    "$$\n",
    "\n",
    "Умножение привет к $(P^T)^{-1} P^T = E$ В итоге из уравнения 1.7 получится :\n",
    "\n",
    "$$\n",
    "a_1 = XX^{-1} (X^T)^{-1} E X^T y= X(X^T X)^{-1} X^T y = Xw = a\n",
    "$$\n",
    "\n",
    "Отсюда можно сказать, что значение предсказания $a$ не поменяется, если умножить матрицу признаков на обратную матрицу. "
   ]
  },
  {
   "cell_type": "markdown",
   "metadata": {},
   "source": [
    "$$\n",
    "a = Xw = XEw = XPP^{-1}w = (XP)P^{-1}w = (XP)w'\n",
    "$$\n",
    "\n",
    "$$\n",
    "w' = ((XP)^T XP)^{-1} (XP)^T y\n",
    "$$\n",
    "$$\n",
    "w' = (P^T (X^T X) P)^{-1} (XP)^T y\n",
    "$$\n",
    "$$\n",
    "w'= (P^T (X^T X) P)^{-1} P^T X^T y\n",
    "$$\n",
    "$$\n",
    "w' = P^{-1} (X^T X)^{-1} (P^T)^{-1} P^T X^T y\n",
    "$$\n",
    "$$\n",
    "w' = P^{-1} (X^T X)^ {-1} E X^Ty\n",
    "$$"
   ]
  },
  {
   "cell_type": "markdown",
   "metadata": {},
   "source": [
    "$$\n",
    "w' =  P^{-1}w\n",
    "$$\n",
    "$$\n",
    "w' = ((XP)^T(XP))^{-1}(XP)^Ty\n",
    "$$"
   ]
  },
  {
   "cell_type": "markdown",
   "metadata": {},
   "source": [
    "Создадим обратную матрицу и умножим для проверки "
   ]
  },
  {
   "cell_type": "code",
   "execution_count": 11,
   "metadata": {
    "scrolled": true
   },
   "outputs": [
    {
     "name": "stdout",
     "output_type": "stream",
     "text": [
      "Рандоманая матрица: [[6 5 6 0]\n",
      " [6 8 3 2]\n",
      " [5 6 8 8]\n",
      " [8 1 6 3]]\n",
      "\n",
      "Обратная матрица: [[-0.10885246  0.11803279 -0.09639344  0.17836066]\n",
      " [ 0.04262295  0.09836066  0.01967213 -0.11803279]\n",
      " [ 0.24       -0.2         0.08       -0.08      ]\n",
      " [-0.20393443  0.05245902  0.0904918   0.05704918]]\n"
     ]
    },
    {
     "data": {
      "text/html": [
       "<div>\n",
       "<style scoped>\n",
       "    .dataframe tbody tr th:only-of-type {\n",
       "        vertical-align: middle;\n",
       "    }\n",
       "\n",
       "    .dataframe tbody tr th {\n",
       "        vertical-align: top;\n",
       "    }\n",
       "\n",
       "    .dataframe thead th {\n",
       "        text-align: right;\n",
       "    }\n",
       "</style>\n",
       "<table border=\"1\" class=\"dataframe\">\n",
       "  <thead>\n",
       "    <tr style=\"text-align: right;\">\n",
       "      <th></th>\n",
       "      <th>0</th>\n",
       "      <th>1</th>\n",
       "      <th>2</th>\n",
       "      <th>3</th>\n",
       "    </tr>\n",
       "  </thead>\n",
       "  <tbody>\n",
       "    <tr>\n",
       "      <th>0</th>\n",
       "      <td>11905.434754</td>\n",
       "      <td>-9915.796721</td>\n",
       "      <td>3968.800656</td>\n",
       "      <td>-3972.603934</td>\n",
       "    </tr>\n",
       "    <tr>\n",
       "      <th>1</th>\n",
       "      <td>9121.756721</td>\n",
       "      <td>-7595.422951</td>\n",
       "      <td>3040.995410</td>\n",
       "      <td>-3045.372459</td>\n",
       "    </tr>\n",
       "    <tr>\n",
       "      <th>2</th>\n",
       "      <td>5041.236066</td>\n",
       "      <td>-4197.147541</td>\n",
       "      <td>1680.570492</td>\n",
       "      <td>-1683.422951</td>\n",
       "    </tr>\n",
       "    <tr>\n",
       "      <th>3</th>\n",
       "      <td>10008.487213</td>\n",
       "      <td>-8337.829508</td>\n",
       "      <td>3336.594098</td>\n",
       "      <td>-3338.364590</td>\n",
       "    </tr>\n",
       "    <tr>\n",
       "      <th>4</th>\n",
       "      <td>6265.084590</td>\n",
       "      <td>-5217.127869</td>\n",
       "      <td>2088.454426</td>\n",
       "      <td>-2091.126557</td>\n",
       "    </tr>\n",
       "    <tr>\n",
       "      <th>...</th>\n",
       "      <td>...</td>\n",
       "      <td>...</td>\n",
       "      <td>...</td>\n",
       "      <td>...</td>\n",
       "    </tr>\n",
       "    <tr>\n",
       "      <th>4995</th>\n",
       "      <td>8568.785574</td>\n",
       "      <td>-7137.140984</td>\n",
       "      <td>2856.731803</td>\n",
       "      <td>-2859.190820</td>\n",
       "    </tr>\n",
       "    <tr>\n",
       "      <th>4996</th>\n",
       "      <td>12577.245246</td>\n",
       "      <td>-10476.603279</td>\n",
       "      <td>4192.759344</td>\n",
       "      <td>-4195.956066</td>\n",
       "    </tr>\n",
       "    <tr>\n",
       "      <th>4997</th>\n",
       "      <td>8136.444590</td>\n",
       "      <td>-6777.927869</td>\n",
       "      <td>2712.574426</td>\n",
       "      <td>-2714.246557</td>\n",
       "    </tr>\n",
       "    <tr>\n",
       "      <th>4998</th>\n",
       "      <td>7848.217049</td>\n",
       "      <td>-6537.560656</td>\n",
       "      <td>2616.607869</td>\n",
       "      <td>-2618.247213</td>\n",
       "    </tr>\n",
       "    <tr>\n",
       "      <th>4999</th>\n",
       "      <td>9744.880656</td>\n",
       "      <td>-8117.075410</td>\n",
       "      <td>3248.544918</td>\n",
       "      <td>-3251.069508</td>\n",
       "    </tr>\n",
       "  </tbody>\n",
       "</table>\n",
       "<p>5000 rows × 4 columns</p>\n",
       "</div>"
      ],
      "text/plain": [
       "                 0             1            2            3\n",
       "0     11905.434754  -9915.796721  3968.800656 -3972.603934\n",
       "1      9121.756721  -7595.422951  3040.995410 -3045.372459\n",
       "2      5041.236066  -4197.147541  1680.570492 -1683.422951\n",
       "3     10008.487213  -8337.829508  3336.594098 -3338.364590\n",
       "4      6265.084590  -5217.127869  2088.454426 -2091.126557\n",
       "...            ...           ...          ...          ...\n",
       "4995   8568.785574  -7137.140984  2856.731803 -2859.190820\n",
       "4996  12577.245246 -10476.603279  4192.759344 -4195.956066\n",
       "4997   8136.444590  -6777.927869  2712.574426 -2714.246557\n",
       "4998   7848.217049  -6537.560656  2616.607869 -2618.247213\n",
       "4999   9744.880656  -8117.075410  3248.544918 -3251.069508\n",
       "\n",
       "[5000 rows x 4 columns]"
      ]
     },
     "execution_count": 11,
     "metadata": {},
     "output_type": "execute_result"
    }
   ],
   "source": [
    "random_matrix =  np.matrix(np.random.randint(10, size = (4,4)))\n",
    "print('Рандоманая матрица:', random_matrix)\n",
    "print()\n",
    "reverse_matrix  = np.linalg.inv(random_matrix)\n",
    "print('Обратная матрица:',reverse_matrix )\n",
    "features_1 = features.dot(reverse_matrix)\n",
    "features_1"
   ]
  },
  {
   "cell_type": "markdown",
   "metadata": {},
   "source": [
    "def generate_invertible_matrix(size):\n",
    "    try:\n",
    "        matrix = np.random.normal(size=(size, size))\n",
    "        # проверим матрицу на обратимость, если нет, пробуем сгенерировать еще раз\n",
    "        # таким образом гарантируем, что матрица стопроцентно будет обратимой\n",
    "        np.linalg.inv(matrix)\n",
    "    except np.linalg.LinAlgError:\n",
    "        matrix = generate_invertible_matrix()\n",
    "    \n",
    "    return matrix"
   ]
  },
  {
   "cell_type": "code",
   "execution_count": 12,
   "metadata": {},
   "outputs": [
    {
     "name": "stdout",
     "output_type": "stream",
     "text": [
      "0.4249455028666683\n"
     ]
    }
   ],
   "source": [
    "model_1  = LinearRegression()\n",
    "model_1.fit(features_1, target)\n",
    "prediction_1 = model_1.predict(features_1)\n",
    "print(r2_score(target, prediction_1))"
   ]
  },
  {
   "cell_type": "markdown",
   "metadata": {},
   "source": [
    "**ВЫВОД** \n",
    "\n",
    "- Качество модели после переобучения практически не изменилось "
   ]
  },
  {
   "cell_type": "markdown",
   "metadata": {},
   "source": [
    "## Алгоритм преобразования"
   ]
  },
  {
   "cell_type": "markdown",
   "metadata": {},
   "source": [
    "**Алгоритм**\n",
    "Я немного запутался, вроде выше мы и так доказываем, что умножение на матрицу не повлияет на предсказание. Посмтрел рекомендации преподователя по проектам, он сказал, что можно сослаться на второй пункт."
   ]
  },
  {
   "cell_type": "markdown",
   "metadata": {},
   "source": [
    "**Обоснование**\n",
    "\n"
   ]
  },
  {
   "cell_type": "markdown",
   "metadata": {},
   "source": [
    "## Проверка алгоритма"
   ]
  },
  {
   "cell_type": "code",
   "execution_count": 13,
   "metadata": {},
   "outputs": [
    {
     "name": "stdout",
     "output_type": "stream",
     "text": [
      "0.42494550286668\n"
     ]
    }
   ],
   "source": [
    "features_2=np.array([features])\n",
    "features_3=np.rot90(features_2, 2)\n",
    "target=list(reversed(target))\n",
    "\n",
    "model_2=LinearRegression()\n",
    "model_2.fit(features_3[0,:,:], target)\n",
    "prediction_2=model_2.predict(features_3[0,:,:])\n",
    "print(r2_score(target, prediction_2))"
   ]
  },
  {
   "cell_type": "markdown",
   "metadata": {},
   "source": [
    "Опять же, качество модели практически не изменилось"
   ]
  }
 ],
 "metadata": {
  "ExecuteTimeLog": [
   {
    "duration": 1108,
    "start_time": "2022-04-30T09:59:35.598Z"
   },
   {
    "duration": 35,
    "start_time": "2022-04-30T09:59:51.138Z"
   },
   {
    "duration": 9,
    "start_time": "2022-04-30T10:00:00.971Z"
   },
   {
    "duration": 8,
    "start_time": "2022-04-30T10:00:12.853Z"
   },
   {
    "duration": 3,
    "start_time": "2022-04-30T10:00:24.037Z"
   },
   {
    "duration": 20,
    "start_time": "2022-04-30T10:01:14.874Z"
   },
   {
    "duration": 22,
    "start_time": "2022-04-30T10:01:27.463Z"
   },
   {
    "duration": 10,
    "start_time": "2022-04-30T10:01:38.818Z"
   },
   {
    "duration": 5,
    "start_time": "2022-04-30T10:06:20.377Z"
   },
   {
    "duration": 6,
    "start_time": "2022-04-30T10:06:42.765Z"
   },
   {
    "duration": 11,
    "start_time": "2022-04-30T10:06:54.258Z"
   },
   {
    "duration": 3,
    "start_time": "2022-04-30T10:07:14.126Z"
   },
   {
    "duration": 25,
    "start_time": "2022-04-30T10:07:14.131Z"
   },
   {
    "duration": 11,
    "start_time": "2022-04-30T10:07:14.157Z"
   },
   {
    "duration": 6,
    "start_time": "2022-04-30T10:07:14.170Z"
   },
   {
    "duration": 10,
    "start_time": "2022-04-30T10:07:14.178Z"
   },
   {
    "duration": 13,
    "start_time": "2022-04-30T10:13:15.627Z"
   },
   {
    "duration": 4,
    "start_time": "2022-04-30T10:13:22.305Z"
   },
   {
    "duration": 11,
    "start_time": "2022-04-30T10:14:06.825Z"
   },
   {
    "duration": 4,
    "start_time": "2022-04-30T10:14:12.843Z"
   },
   {
    "duration": 15,
    "start_time": "2022-04-30T10:18:52.285Z"
   },
   {
    "duration": 10,
    "start_time": "2022-04-30T13:01:39.442Z"
   },
   {
    "duration": 21,
    "start_time": "2022-04-30T13:01:59.675Z"
   },
   {
    "duration": 606,
    "start_time": "2022-04-30T13:02:22.170Z"
   },
   {
    "duration": 7,
    "start_time": "2022-04-30T13:02:36.626Z"
   },
   {
    "duration": 10,
    "start_time": "2022-04-30T13:10:09.787Z"
   },
   {
    "duration": 7,
    "start_time": "2022-04-30T13:11:19.256Z"
   },
   {
    "duration": 6,
    "start_time": "2022-04-30T13:12:23.641Z"
   },
   {
    "duration": 14,
    "start_time": "2022-04-30T13:13:34.022Z"
   },
   {
    "duration": 3,
    "start_time": "2022-04-30T13:14:43.108Z"
   },
   {
    "duration": 11,
    "start_time": "2022-04-30T13:14:43.471Z"
   },
   {
    "duration": 23,
    "start_time": "2022-04-30T13:14:51.442Z"
   },
   {
    "duration": 17,
    "start_time": "2022-04-30T13:14:51.467Z"
   },
   {
    "duration": 10,
    "start_time": "2022-04-30T13:14:51.486Z"
   },
   {
    "duration": 6,
    "start_time": "2022-04-30T13:14:51.498Z"
   },
   {
    "duration": 7,
    "start_time": "2022-04-30T13:14:51.506Z"
   },
   {
    "duration": 43,
    "start_time": "2022-04-30T13:14:51.514Z"
   },
   {
    "duration": 4,
    "start_time": "2022-04-30T13:14:51.559Z"
   },
   {
    "duration": 13,
    "start_time": "2022-04-30T13:14:51.565Z"
   },
   {
    "duration": 6,
    "start_time": "2022-04-30T13:14:51.579Z"
   },
   {
    "duration": 68,
    "start_time": "2022-04-30T13:14:51.586Z"
   },
   {
    "duration": 106,
    "start_time": "2022-04-30T13:14:51.655Z"
   },
   {
    "duration": 19,
    "start_time": "2022-04-30T13:22:02.751Z"
   },
   {
    "duration": 15,
    "start_time": "2022-04-30T13:22:19.347Z"
   },
   {
    "duration": 7,
    "start_time": "2022-04-30T13:22:29.166Z"
   },
   {
    "duration": 17,
    "start_time": "2022-04-30T13:23:50.848Z"
   },
   {
    "duration": 16,
    "start_time": "2022-04-30T13:24:50.844Z"
   },
   {
    "duration": 10,
    "start_time": "2022-04-30T13:25:02.097Z"
   },
   {
    "duration": 14,
    "start_time": "2022-04-30T13:25:34.401Z"
   },
   {
    "duration": 4,
    "start_time": "2022-04-30T13:25:50.001Z"
   },
   {
    "duration": 29,
    "start_time": "2022-04-30T13:25:50.007Z"
   },
   {
    "duration": 15,
    "start_time": "2022-04-30T13:25:50.037Z"
   },
   {
    "duration": 8,
    "start_time": "2022-04-30T13:25:50.054Z"
   },
   {
    "duration": 11,
    "start_time": "2022-04-30T13:25:50.064Z"
   },
   {
    "duration": 17,
    "start_time": "2022-04-30T13:25:50.076Z"
   },
   {
    "duration": 4,
    "start_time": "2022-04-30T13:25:50.094Z"
   },
   {
    "duration": 12,
    "start_time": "2022-04-30T13:25:50.099Z"
   },
   {
    "duration": 7,
    "start_time": "2022-04-30T13:25:50.113Z"
   },
   {
    "duration": 33,
    "start_time": "2022-04-30T13:25:50.122Z"
   },
   {
    "duration": 191,
    "start_time": "2022-04-30T13:25:50.157Z"
   },
   {
    "duration": 11,
    "start_time": "2022-04-30T13:25:50.350Z"
   },
   {
    "duration": 192,
    "start_time": "2022-04-30T13:25:50.363Z"
   },
   {
    "duration": 9,
    "start_time": "2022-04-30T13:27:47.788Z"
   },
   {
    "duration": 3,
    "start_time": "2022-04-30T13:27:50.160Z"
   },
   {
    "duration": 26,
    "start_time": "2022-04-30T13:27:50.165Z"
   },
   {
    "duration": 15,
    "start_time": "2022-04-30T13:27:50.193Z"
   },
   {
    "duration": 5,
    "start_time": "2022-04-30T13:27:50.210Z"
   },
   {
    "duration": 6,
    "start_time": "2022-04-30T13:27:50.217Z"
   },
   {
    "duration": 22,
    "start_time": "2022-04-30T13:27:50.225Z"
   },
   {
    "duration": 4,
    "start_time": "2022-04-30T13:27:50.249Z"
   },
   {
    "duration": 11,
    "start_time": "2022-04-30T13:27:50.254Z"
   },
   {
    "duration": 6,
    "start_time": "2022-04-30T13:27:50.267Z"
   },
   {
    "duration": 8,
    "start_time": "2022-04-30T13:27:50.276Z"
   },
   {
    "duration": 110,
    "start_time": "2022-04-30T13:27:50.347Z"
   },
   {
    "duration": 188,
    "start_time": "2022-04-30T13:27:50.460Z"
   },
   {
    "duration": 119,
    "start_time": "2022-04-30T13:27:50.650Z"
   },
   {
    "duration": 1348,
    "start_time": "2022-04-30T13:29:14.020Z"
   },
   {
    "duration": 24,
    "start_time": "2022-04-30T13:29:15.370Z"
   },
   {
    "duration": 12,
    "start_time": "2022-04-30T13:29:15.396Z"
   },
   {
    "duration": 6,
    "start_time": "2022-04-30T13:29:15.410Z"
   },
   {
    "duration": 6,
    "start_time": "2022-04-30T13:29:15.418Z"
   },
   {
    "duration": 36,
    "start_time": "2022-04-30T13:29:15.425Z"
   },
   {
    "duration": 4,
    "start_time": "2022-04-30T13:29:15.463Z"
   },
   {
    "duration": 16,
    "start_time": "2022-04-30T13:29:15.468Z"
   },
   {
    "duration": 7,
    "start_time": "2022-04-30T13:29:15.486Z"
   },
   {
    "duration": 58,
    "start_time": "2022-04-30T13:29:15.495Z"
   },
   {
    "duration": 108,
    "start_time": "2022-04-30T13:29:15.555Z"
   },
   {
    "duration": 89,
    "start_time": "2022-04-30T13:29:15.665Z"
   },
   {
    "duration": 21,
    "start_time": "2022-04-30T13:29:15.847Z"
   },
   {
    "duration": 93051,
    "start_time": "2022-04-30T21:05:36.863Z"
   },
   {
    "duration": 32,
    "start_time": "2022-04-30T21:07:09.916Z"
   },
   {
    "duration": 16,
    "start_time": "2022-04-30T21:07:09.950Z"
   },
   {
    "duration": 9,
    "start_time": "2022-04-30T21:07:09.970Z"
   },
   {
    "duration": 8,
    "start_time": "2022-04-30T21:07:09.981Z"
   },
   {
    "duration": 20,
    "start_time": "2022-04-30T21:07:09.991Z"
   },
   {
    "duration": 5,
    "start_time": "2022-04-30T21:07:10.014Z"
   },
   {
    "duration": 18,
    "start_time": "2022-04-30T21:07:10.021Z"
   },
   {
    "duration": 9,
    "start_time": "2022-04-30T21:08:19.909Z"
   },
   {
    "duration": 58,
    "start_time": "2022-04-30T21:08:20.496Z"
   },
   {
    "duration": 78,
    "start_time": "2022-04-30T21:10:58.576Z"
   },
   {
    "duration": 24,
    "start_time": "2022-04-30T21:11:00.180Z"
   },
   {
    "duration": 32,
    "start_time": "2022-04-30T21:11:05.481Z"
   }
  ],
  "kernelspec": {
   "display_name": "Python 3 (ipykernel)",
   "language": "python",
   "name": "python3"
  },
  "language_info": {
   "codemirror_mode": {
    "name": "ipython",
    "version": 3
   },
   "file_extension": ".py",
   "mimetype": "text/x-python",
   "name": "python",
   "nbconvert_exporter": "python",
   "pygments_lexer": "ipython3",
   "version": "3.9.7"
  },
  "toc": {
   "base_numbering": 1,
   "nav_menu": {},
   "number_sections": true,
   "sideBar": true,
   "skip_h1_title": true,
   "title_cell": "Содержание",
   "title_sidebar": "Contents",
   "toc_cell": true,
   "toc_position": {},
   "toc_section_display": true,
   "toc_window_display": true
  }
 },
 "nbformat": 4,
 "nbformat_minor": 2
}
