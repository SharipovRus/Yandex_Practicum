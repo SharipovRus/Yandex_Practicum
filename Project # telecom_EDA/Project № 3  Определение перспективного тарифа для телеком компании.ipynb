{
 "cells": [
  {
   "cell_type": "markdown",
   "metadata": {
    "toc": true
   },
   "source": [
    "<h1>Содержание <span class=\"tocSkip\"></span></h1>\n",
    "<div class=\"toc\"><ul class=\"toc-item\"><li><span><a href=\"#Открываем-файлы-с-данными-и-изучаем-общую-информацию\" data-toc-modified-id=\"Открываем-файлы-с-данными-и-изучаем-общую-информацию-1\"><span class=\"toc-item-num\">1&nbsp;&nbsp;</span>Открываем файлы с данными и изучаем общую информацию</a></span></li><li><span><a href=\"#Подготовка-данных\" data-toc-modified-id=\"Подготовка-данных-2\"><span class=\"toc-item-num\">2&nbsp;&nbsp;</span>Подготовка данных</a></span></li><li><span><a href=\"#Анализ-данных\" data-toc-modified-id=\"Анализ-данных-3\"><span class=\"toc-item-num\">3&nbsp;&nbsp;</span>Анализ данных</a></span></li><li><span><a href=\"#Проверка-гипотез\" data-toc-modified-id=\"Проверка-гипотез-4\"><span class=\"toc-item-num\">4&nbsp;&nbsp;</span>Проверка гипотез</a></span></li><li><span><a href=\"#Общий-вывод\" data-toc-modified-id=\"Общий-вывод-5\"><span class=\"toc-item-num\">5&nbsp;&nbsp;</span>Общий вывод</a></span></li></ul></div>"
   ]
  },
  {
   "cell_type": "markdown",
   "metadata": {},
   "source": [
    "# Определение перспективного тарифа для телеком-компании"
   ]
  },
  {
   "cell_type": "markdown",
   "metadata": {},
   "source": [
    "**ПЛАН/ЗАДАЧА** \n",
    "Определить какой тариф для компании Мегалайн будет выгоднее"
   ]
  },
  {
   "cell_type": "markdown",
   "metadata": {},
   "source": [
    "**Описание тарифов**\n",
    "\n",
    "**Тариф «Смарт»**\n",
    "- Ежемесячная плата, руб.\t550\t\n",
    "- Включено: (мин/смс/Гб)\t500/50/15\t\n",
    "- Сверх пакета, ру.: (мин/смс/Гб)\t3/3/200\t\n",
    "\n",
    "**Тариф «Ультра»**\n",
    "- Ежемесячная плата, руб.\t1950\t\n",
    "- Включено: (мин/смс/Гб)\t3000/1000/30\t\n",
    "- Сверх пакета, ру.: (мин/смс/Гб)\t1/1/150"
   ]
  },
  {
   "cell_type": "markdown",
   "metadata": {},
   "source": [
    "**Описание данных**\n",
    "\n",
    "**Таблица users (информация о пользователях):**\n",
    "- user_id — уникальный идентификатор пользователя\n",
    "- first_name — имя пользователя\n",
    "- last_name — фамилия пользователя\n",
    "- age — возраст пользователя (годы)\n",
    "- reg_date — дата подключения тарифа (день, месяц, год)\n",
    "- churn_date — дата прекращения пользования тарифом (если значение пропущено, то тариф ещё действовал на момент выгрузки данных)\n",
    "- city — город проживания пользователя\n",
    "- tarif — название тарифного плана\n",
    "\n",
    "**Таблица calls (информация о звонках):**\n",
    "- id — уникальный номер звонка\n",
    "- call_date — дата звонка\n",
    "- duration — длительность звонка в минутах\n",
    "- user_id — идентификатор пользователя, сделавшего звонок\n",
    "\n",
    "**Таблица messages (информация о сообщениях):**\n",
    "- id — уникальный номер сообщения\n",
    "- message_date — дата сообщения\n",
    "- user_id — идентификатор пользователя, отправившего сообщение\n",
    "\n",
    "**Таблица internet (информация об интернет-сессиях):**\n",
    "- id — уникальный номер сессии\n",
    "- mb_used — объём потраченного за сессию интернет-трафика (в мегабайтах)\n",
    "- session_date — дата интернет-сессии\n",
    "- user_id — идентификатор пользователя\n",
    "\n",
    "**Таблица tariffs (информация о тарифах):**\n",
    "- tariff_name — название тарифа\n",
    "- rub_monthly_fee — ежемесячная абонентская плата в рублях\n",
    "- minutes_included — количество минут разговора в месяц, включённых в абонентскую плату\n",
    "- messages_included — количество сообщений в месяц, включённых в абонентскую плату\n",
    "- mb_per_month_included — объём интернет-трафика, включённого в абонентскую плату (в мегабайтах)\n",
    "- rub_per_minute — стоимость минуты разговора сверх тарифного пакета (например, если в тарифе 100 минут разговора в месяц, то со 101 минуты будет взиматься плата)\n",
    "- rub_per_message — стоимость отправки сообщения сверх тарифного пакета\n",
    "- rub_per_gb — стоимость дополнительного гигабайта интернет-трафика сверх тарифного пакета (1 гигабайт = 1024 мегабайта)"
   ]
  },
  {
   "cell_type": "markdown",
   "metadata": {},
   "source": [
    "##  Открываем файлы с данными и изучаем общую информацию"
   ]
  },
  {
   "cell_type": "code",
   "execution_count": 1,
   "metadata": {},
   "outputs": [],
   "source": [
    "import pandas as pd\n",
    "import matplotlib.pyplot as plt\n",
    "import math\n",
    "import numpy as np\n",
    "from scipy import stats as st\n",
    "import copy\n",
    "import seaborn as sns\n",
    "\n",
    "calls = pd.read_csv('/datasets/calls.csv')\n",
    "internet = pd.read_csv('/datasets/internet.csv')\n",
    "messages = pd.read_csv('/datasets/messages.csv')\n",
    "tariffs = pd.read_csv('/datasets/tariffs.csv')\n",
    "users = pd.read_csv('/datasets/users.csv')"
   ]
  },
  {
   "cell_type": "code",
   "execution_count": 2,
   "metadata": {},
   "outputs": [
    {
     "name": "stdout",
     "output_type": "stream",
     "text": [
      "<class 'pandas.core.frame.DataFrame'>\n",
      "RangeIndex: 202607 entries, 0 to 202606\n",
      "Data columns (total 4 columns):\n",
      "id           202607 non-null object\n",
      "call_date    202607 non-null object\n",
      "duration     202607 non-null float64\n",
      "user_id      202607 non-null int64\n",
      "dtypes: float64(1), int64(1), object(2)\n",
      "memory usage: 6.2+ MB\n"
     ]
    },
    {
     "data": {
      "text/plain": [
       "None"
      ]
     },
     "metadata": {},
     "output_type": "display_data"
    },
    {
     "name": "stdout",
     "output_type": "stream",
     "text": [
      "**********************************************************************\n",
      "<class 'pandas.core.frame.DataFrame'>\n",
      "RangeIndex: 149396 entries, 0 to 149395\n",
      "Data columns (total 5 columns):\n",
      "Unnamed: 0      149396 non-null int64\n",
      "id              149396 non-null object\n",
      "mb_used         149396 non-null float64\n",
      "session_date    149396 non-null object\n",
      "user_id         149396 non-null int64\n",
      "dtypes: float64(1), int64(2), object(2)\n",
      "memory usage: 5.7+ MB\n"
     ]
    },
    {
     "data": {
      "text/plain": [
       "None"
      ]
     },
     "metadata": {},
     "output_type": "display_data"
    },
    {
     "name": "stdout",
     "output_type": "stream",
     "text": [
      "**********************************************************************\n",
      "<class 'pandas.core.frame.DataFrame'>\n",
      "RangeIndex: 123036 entries, 0 to 123035\n",
      "Data columns (total 3 columns):\n",
      "id              123036 non-null object\n",
      "message_date    123036 non-null object\n",
      "user_id         123036 non-null int64\n",
      "dtypes: int64(1), object(2)\n",
      "memory usage: 2.8+ MB\n"
     ]
    },
    {
     "data": {
      "text/plain": [
       "None"
      ]
     },
     "metadata": {},
     "output_type": "display_data"
    },
    {
     "name": "stdout",
     "output_type": "stream",
     "text": [
      "**********************************************************************\n",
      "<class 'pandas.core.frame.DataFrame'>\n",
      "RangeIndex: 500 entries, 0 to 499\n",
      "Data columns (total 8 columns):\n",
      "user_id       500 non-null int64\n",
      "age           500 non-null int64\n",
      "churn_date    38 non-null object\n",
      "city          500 non-null object\n",
      "first_name    500 non-null object\n",
      "last_name     500 non-null object\n",
      "reg_date      500 non-null object\n",
      "tariff        500 non-null object\n",
      "dtypes: int64(2), object(6)\n",
      "memory usage: 31.4+ KB\n"
     ]
    },
    {
     "data": {
      "text/plain": [
       "None"
      ]
     },
     "metadata": {},
     "output_type": "display_data"
    },
    {
     "name": "stdout",
     "output_type": "stream",
     "text": [
      "**********************************************************************\n",
      "<class 'pandas.core.frame.DataFrame'>\n",
      "RangeIndex: 2 entries, 0 to 1\n",
      "Data columns (total 8 columns):\n",
      "messages_included        2 non-null int64\n",
      "mb_per_month_included    2 non-null int64\n",
      "minutes_included         2 non-null int64\n",
      "rub_monthly_fee          2 non-null int64\n",
      "rub_per_gb               2 non-null int64\n",
      "rub_per_message          2 non-null int64\n",
      "rub_per_minute           2 non-null int64\n",
      "tariff_name              2 non-null object\n",
      "dtypes: int64(7), object(1)\n",
      "memory usage: 256.0+ bytes\n"
     ]
    },
    {
     "data": {
      "text/plain": [
       "None"
      ]
     },
     "metadata": {},
     "output_type": "display_data"
    },
    {
     "name": "stdout",
     "output_type": "stream",
     "text": [
      "**********************************************************************\n"
     ]
    }
   ],
   "source": [
    "for data in [calls, internet, messages, users, tariffs]: #классную подсказку дали, как посмотреть на все датасеты разом\n",
    "    display(data.info())\n",
    "    (print('*' * 70))"
   ]
  },
  {
   "cell_type": "markdown",
   "metadata": {},
   "source": [
    "**Исходя из данных делаем выводы:**\n",
    "\n",
    "В таблице users: \n",
    "- столбцы reg_date - заменить типа данных на datetime\n",
    "- Присутствуют пропуски в churn_date\n",
    "\n",
    "В таблице internet:\n",
    "- столбцы session_date - заменить типа данных на datetime\n",
    "\n",
    "В таблице messages:\n",
    "- message_date - заменить типа данных на datetime\n",
    "\n",
    "В таблице calls:\n",
    "- call_date - заменить типа данных на datetime\n",
    "\n",
    "Так же необходимо округлить минуты и интернет трафик в большую сторону по правилам оператора.\n"
   ]
  },
  {
   "cell_type": "markdown",
   "metadata": {},
   "source": [
    "## Подготовка данных"
   ]
  },
  {
   "cell_type": "code",
   "execution_count": 3,
   "metadata": {},
   "outputs": [],
   "source": [
    "# переведем все нужные столбы разом в datetime \n",
    "datetime_columns = [calls['call_date'], internet['session_date'], messages['message_date'], users['churn_date'], users['reg_date']]\n",
    "for index in datetime_columns:\n",
    "    index = pd.to_datetime(index, format='%Y-%m-%d')"
   ]
  },
  {
   "cell_type": "code",
   "execution_count": 4,
   "metadata": {},
   "outputs": [
    {
     "name": "stdout",
     "output_type": "stream",
     "text": [
      "<class 'pandas.core.frame.DataFrame'>\n",
      "RangeIndex: 202607 entries, 0 to 202606\n",
      "Data columns (total 4 columns):\n",
      "id           202607 non-null object\n",
      "call_date    202607 non-null object\n",
      "duration     202607 non-null float64\n",
      "user_id      202607 non-null int64\n",
      "dtypes: float64(1), int64(1), object(2)\n",
      "memory usage: 6.2+ MB\n"
     ]
    },
    {
     "data": {
      "text/plain": [
       "None"
      ]
     },
     "metadata": {},
     "output_type": "display_data"
    },
    {
     "name": "stdout",
     "output_type": "stream",
     "text": [
      "<class 'pandas.core.frame.DataFrame'>\n",
      "RangeIndex: 149396 entries, 0 to 149395\n",
      "Data columns (total 5 columns):\n",
      "Unnamed: 0      149396 non-null int64\n",
      "id              149396 non-null object\n",
      "mb_used         149396 non-null float64\n",
      "session_date    149396 non-null object\n",
      "user_id         149396 non-null int64\n",
      "dtypes: float64(1), int64(2), object(2)\n",
      "memory usage: 5.7+ MB\n"
     ]
    },
    {
     "data": {
      "text/plain": [
       "None"
      ]
     },
     "metadata": {},
     "output_type": "display_data"
    },
    {
     "name": "stdout",
     "output_type": "stream",
     "text": [
      "<class 'pandas.core.frame.DataFrame'>\n",
      "RangeIndex: 123036 entries, 0 to 123035\n",
      "Data columns (total 3 columns):\n",
      "id              123036 non-null object\n",
      "message_date    123036 non-null object\n",
      "user_id         123036 non-null int64\n",
      "dtypes: int64(1), object(2)\n",
      "memory usage: 2.8+ MB\n"
     ]
    },
    {
     "data": {
      "text/plain": [
       "None"
      ]
     },
     "metadata": {},
     "output_type": "display_data"
    },
    {
     "name": "stdout",
     "output_type": "stream",
     "text": [
      "<class 'pandas.core.frame.DataFrame'>\n",
      "RangeIndex: 500 entries, 0 to 499\n",
      "Data columns (total 8 columns):\n",
      "user_id       500 non-null int64\n",
      "age           500 non-null int64\n",
      "churn_date    38 non-null object\n",
      "city          500 non-null object\n",
      "first_name    500 non-null object\n",
      "last_name     500 non-null object\n",
      "reg_date      500 non-null object\n",
      "tariff        500 non-null object\n",
      "dtypes: int64(2), object(6)\n",
      "memory usage: 31.4+ KB\n"
     ]
    },
    {
     "data": {
      "text/plain": [
       "None"
      ]
     },
     "metadata": {},
     "output_type": "display_data"
    },
    {
     "name": "stdout",
     "output_type": "stream",
     "text": [
      "<class 'pandas.core.frame.DataFrame'>\n",
      "RangeIndex: 2 entries, 0 to 1\n",
      "Data columns (total 8 columns):\n",
      "messages_included        2 non-null int64\n",
      "mb_per_month_included    2 non-null int64\n",
      "minutes_included         2 non-null int64\n",
      "rub_monthly_fee          2 non-null int64\n",
      "rub_per_gb               2 non-null int64\n",
      "rub_per_message          2 non-null int64\n",
      "rub_per_minute           2 non-null int64\n",
      "tariff_name              2 non-null object\n",
      "dtypes: int64(7), object(1)\n",
      "memory usage: 256.0+ bytes\n"
     ]
    },
    {
     "data": {
      "text/plain": [
       "None"
      ]
     },
     "metadata": {},
     "output_type": "display_data"
    }
   ],
   "source": [
    "for data in [calls, internet, messages, users, tariffs]: #посмотрим на данные\n",
    "    display(data.info())"
   ]
  },
  {
   "cell_type": "code",
   "execution_count": 5,
   "metadata": {},
   "outputs": [
    {
     "data": {
      "text/html": [
       "<div>\n",
       "<style scoped>\n",
       "    .dataframe tbody tr th:only-of-type {\n",
       "        vertical-align: middle;\n",
       "    }\n",
       "\n",
       "    .dataframe tbody tr th {\n",
       "        vertical-align: top;\n",
       "    }\n",
       "\n",
       "    .dataframe thead th {\n",
       "        text-align: right;\n",
       "    }\n",
       "</style>\n",
       "<table border=\"1\" class=\"dataframe\">\n",
       "  <thead>\n",
       "    <tr style=\"text-align: right;\">\n",
       "      <th></th>\n",
       "      <th>id</th>\n",
       "      <th>call_date</th>\n",
       "      <th>duration</th>\n",
       "      <th>user_id</th>\n",
       "    </tr>\n",
       "  </thead>\n",
       "  <tbody>\n",
       "    <tr>\n",
       "      <td>0</td>\n",
       "      <td>1000_0</td>\n",
       "      <td>2018-07-25</td>\n",
       "      <td>0.00</td>\n",
       "      <td>1000</td>\n",
       "    </tr>\n",
       "    <tr>\n",
       "      <td>1</td>\n",
       "      <td>1000_1</td>\n",
       "      <td>2018-08-17</td>\n",
       "      <td>0.00</td>\n",
       "      <td>1000</td>\n",
       "    </tr>\n",
       "    <tr>\n",
       "      <td>2</td>\n",
       "      <td>1000_2</td>\n",
       "      <td>2018-06-11</td>\n",
       "      <td>2.85</td>\n",
       "      <td>1000</td>\n",
       "    </tr>\n",
       "    <tr>\n",
       "      <td>3</td>\n",
       "      <td>1000_3</td>\n",
       "      <td>2018-09-21</td>\n",
       "      <td>13.80</td>\n",
       "      <td>1000</td>\n",
       "    </tr>\n",
       "    <tr>\n",
       "      <td>4</td>\n",
       "      <td>1000_4</td>\n",
       "      <td>2018-12-15</td>\n",
       "      <td>5.18</td>\n",
       "      <td>1000</td>\n",
       "    </tr>\n",
       "    <tr>\n",
       "      <td>5</td>\n",
       "      <td>1000_5</td>\n",
       "      <td>2018-11-02</td>\n",
       "      <td>0.00</td>\n",
       "      <td>1000</td>\n",
       "    </tr>\n",
       "    <tr>\n",
       "      <td>6</td>\n",
       "      <td>1000_6</td>\n",
       "      <td>2018-10-18</td>\n",
       "      <td>0.00</td>\n",
       "      <td>1000</td>\n",
       "    </tr>\n",
       "    <tr>\n",
       "      <td>7</td>\n",
       "      <td>1000_7</td>\n",
       "      <td>2018-08-22</td>\n",
       "      <td>18.31</td>\n",
       "      <td>1000</td>\n",
       "    </tr>\n",
       "    <tr>\n",
       "      <td>8</td>\n",
       "      <td>1000_8</td>\n",
       "      <td>2018-09-15</td>\n",
       "      <td>18.44</td>\n",
       "      <td>1000</td>\n",
       "    </tr>\n",
       "    <tr>\n",
       "      <td>9</td>\n",
       "      <td>1000_9</td>\n",
       "      <td>2018-08-15</td>\n",
       "      <td>0.00</td>\n",
       "      <td>1000</td>\n",
       "    </tr>\n",
       "  </tbody>\n",
       "</table>\n",
       "</div>"
      ],
      "text/plain": [
       "       id   call_date  duration  user_id\n",
       "0  1000_0  2018-07-25      0.00     1000\n",
       "1  1000_1  2018-08-17      0.00     1000\n",
       "2  1000_2  2018-06-11      2.85     1000\n",
       "3  1000_3  2018-09-21     13.80     1000\n",
       "4  1000_4  2018-12-15      5.18     1000\n",
       "5  1000_5  2018-11-02      0.00     1000\n",
       "6  1000_6  2018-10-18      0.00     1000\n",
       "7  1000_7  2018-08-22     18.31     1000\n",
       "8  1000_8  2018-09-15     18.44     1000\n",
       "9  1000_9  2018-08-15      0.00     1000"
      ]
     },
     "metadata": {},
     "output_type": "display_data"
    },
    {
     "data": {
      "text/html": [
       "<div>\n",
       "<style scoped>\n",
       "    .dataframe tbody tr th:only-of-type {\n",
       "        vertical-align: middle;\n",
       "    }\n",
       "\n",
       "    .dataframe tbody tr th {\n",
       "        vertical-align: top;\n",
       "    }\n",
       "\n",
       "    .dataframe thead th {\n",
       "        text-align: right;\n",
       "    }\n",
       "</style>\n",
       "<table border=\"1\" class=\"dataframe\">\n",
       "  <thead>\n",
       "    <tr style=\"text-align: right;\">\n",
       "      <th></th>\n",
       "      <th>Unnamed: 0</th>\n",
       "      <th>id</th>\n",
       "      <th>mb_used</th>\n",
       "      <th>session_date</th>\n",
       "      <th>user_id</th>\n",
       "    </tr>\n",
       "  </thead>\n",
       "  <tbody>\n",
       "    <tr>\n",
       "      <td>0</td>\n",
       "      <td>0</td>\n",
       "      <td>1000_0</td>\n",
       "      <td>112.95</td>\n",
       "      <td>2018-11-25</td>\n",
       "      <td>1000</td>\n",
       "    </tr>\n",
       "    <tr>\n",
       "      <td>1</td>\n",
       "      <td>1</td>\n",
       "      <td>1000_1</td>\n",
       "      <td>1052.81</td>\n",
       "      <td>2018-09-07</td>\n",
       "      <td>1000</td>\n",
       "    </tr>\n",
       "    <tr>\n",
       "      <td>2</td>\n",
       "      <td>2</td>\n",
       "      <td>1000_2</td>\n",
       "      <td>1197.26</td>\n",
       "      <td>2018-06-25</td>\n",
       "      <td>1000</td>\n",
       "    </tr>\n",
       "    <tr>\n",
       "      <td>3</td>\n",
       "      <td>3</td>\n",
       "      <td>1000_3</td>\n",
       "      <td>550.27</td>\n",
       "      <td>2018-08-22</td>\n",
       "      <td>1000</td>\n",
       "    </tr>\n",
       "    <tr>\n",
       "      <td>4</td>\n",
       "      <td>4</td>\n",
       "      <td>1000_4</td>\n",
       "      <td>302.56</td>\n",
       "      <td>2018-09-24</td>\n",
       "      <td>1000</td>\n",
       "    </tr>\n",
       "    <tr>\n",
       "      <td>5</td>\n",
       "      <td>5</td>\n",
       "      <td>1000_5</td>\n",
       "      <td>399.97</td>\n",
       "      <td>2018-10-02</td>\n",
       "      <td>1000</td>\n",
       "    </tr>\n",
       "    <tr>\n",
       "      <td>6</td>\n",
       "      <td>6</td>\n",
       "      <td>1000_6</td>\n",
       "      <td>540.08</td>\n",
       "      <td>2018-09-07</td>\n",
       "      <td>1000</td>\n",
       "    </tr>\n",
       "    <tr>\n",
       "      <td>7</td>\n",
       "      <td>7</td>\n",
       "      <td>1000_7</td>\n",
       "      <td>415.70</td>\n",
       "      <td>2018-07-11</td>\n",
       "      <td>1000</td>\n",
       "    </tr>\n",
       "    <tr>\n",
       "      <td>8</td>\n",
       "      <td>8</td>\n",
       "      <td>1000_8</td>\n",
       "      <td>505.40</td>\n",
       "      <td>2018-10-08</td>\n",
       "      <td>1000</td>\n",
       "    </tr>\n",
       "    <tr>\n",
       "      <td>9</td>\n",
       "      <td>9</td>\n",
       "      <td>1000_9</td>\n",
       "      <td>345.54</td>\n",
       "      <td>2018-09-03</td>\n",
       "      <td>1000</td>\n",
       "    </tr>\n",
       "  </tbody>\n",
       "</table>\n",
       "</div>"
      ],
      "text/plain": [
       "   Unnamed: 0      id  mb_used session_date  user_id\n",
       "0           0  1000_0   112.95   2018-11-25     1000\n",
       "1           1  1000_1  1052.81   2018-09-07     1000\n",
       "2           2  1000_2  1197.26   2018-06-25     1000\n",
       "3           3  1000_3   550.27   2018-08-22     1000\n",
       "4           4  1000_4   302.56   2018-09-24     1000\n",
       "5           5  1000_5   399.97   2018-10-02     1000\n",
       "6           6  1000_6   540.08   2018-09-07     1000\n",
       "7           7  1000_7   415.70   2018-07-11     1000\n",
       "8           8  1000_8   505.40   2018-10-08     1000\n",
       "9           9  1000_9   345.54   2018-09-03     1000"
      ]
     },
     "metadata": {},
     "output_type": "display_data"
    },
    {
     "data": {
      "text/html": [
       "<div>\n",
       "<style scoped>\n",
       "    .dataframe tbody tr th:only-of-type {\n",
       "        vertical-align: middle;\n",
       "    }\n",
       "\n",
       "    .dataframe tbody tr th {\n",
       "        vertical-align: top;\n",
       "    }\n",
       "\n",
       "    .dataframe thead th {\n",
       "        text-align: right;\n",
       "    }\n",
       "</style>\n",
       "<table border=\"1\" class=\"dataframe\">\n",
       "  <thead>\n",
       "    <tr style=\"text-align: right;\">\n",
       "      <th></th>\n",
       "      <th>id</th>\n",
       "      <th>message_date</th>\n",
       "      <th>user_id</th>\n",
       "    </tr>\n",
       "  </thead>\n",
       "  <tbody>\n",
       "    <tr>\n",
       "      <td>0</td>\n",
       "      <td>1000_0</td>\n",
       "      <td>2018-06-27</td>\n",
       "      <td>1000</td>\n",
       "    </tr>\n",
       "    <tr>\n",
       "      <td>1</td>\n",
       "      <td>1000_1</td>\n",
       "      <td>2018-10-08</td>\n",
       "      <td>1000</td>\n",
       "    </tr>\n",
       "    <tr>\n",
       "      <td>2</td>\n",
       "      <td>1000_2</td>\n",
       "      <td>2018-08-04</td>\n",
       "      <td>1000</td>\n",
       "    </tr>\n",
       "    <tr>\n",
       "      <td>3</td>\n",
       "      <td>1000_3</td>\n",
       "      <td>2018-06-16</td>\n",
       "      <td>1000</td>\n",
       "    </tr>\n",
       "    <tr>\n",
       "      <td>4</td>\n",
       "      <td>1000_4</td>\n",
       "      <td>2018-12-05</td>\n",
       "      <td>1000</td>\n",
       "    </tr>\n",
       "    <tr>\n",
       "      <td>5</td>\n",
       "      <td>1000_5</td>\n",
       "      <td>2018-06-20</td>\n",
       "      <td>1000</td>\n",
       "    </tr>\n",
       "    <tr>\n",
       "      <td>6</td>\n",
       "      <td>1000_6</td>\n",
       "      <td>2018-11-19</td>\n",
       "      <td>1000</td>\n",
       "    </tr>\n",
       "    <tr>\n",
       "      <td>7</td>\n",
       "      <td>1000_7</td>\n",
       "      <td>2018-10-29</td>\n",
       "      <td>1000</td>\n",
       "    </tr>\n",
       "    <tr>\n",
       "      <td>8</td>\n",
       "      <td>1000_8</td>\n",
       "      <td>2018-06-25</td>\n",
       "      <td>1000</td>\n",
       "    </tr>\n",
       "    <tr>\n",
       "      <td>9</td>\n",
       "      <td>1000_9</td>\n",
       "      <td>2018-12-18</td>\n",
       "      <td>1000</td>\n",
       "    </tr>\n",
       "  </tbody>\n",
       "</table>\n",
       "</div>"
      ],
      "text/plain": [
       "       id message_date  user_id\n",
       "0  1000_0   2018-06-27     1000\n",
       "1  1000_1   2018-10-08     1000\n",
       "2  1000_2   2018-08-04     1000\n",
       "3  1000_3   2018-06-16     1000\n",
       "4  1000_4   2018-12-05     1000\n",
       "5  1000_5   2018-06-20     1000\n",
       "6  1000_6   2018-11-19     1000\n",
       "7  1000_7   2018-10-29     1000\n",
       "8  1000_8   2018-06-25     1000\n",
       "9  1000_9   2018-12-18     1000"
      ]
     },
     "metadata": {},
     "output_type": "display_data"
    },
    {
     "data": {
      "text/html": [
       "<div>\n",
       "<style scoped>\n",
       "    .dataframe tbody tr th:only-of-type {\n",
       "        vertical-align: middle;\n",
       "    }\n",
       "\n",
       "    .dataframe tbody tr th {\n",
       "        vertical-align: top;\n",
       "    }\n",
       "\n",
       "    .dataframe thead th {\n",
       "        text-align: right;\n",
       "    }\n",
       "</style>\n",
       "<table border=\"1\" class=\"dataframe\">\n",
       "  <thead>\n",
       "    <tr style=\"text-align: right;\">\n",
       "      <th></th>\n",
       "      <th>user_id</th>\n",
       "      <th>age</th>\n",
       "      <th>churn_date</th>\n",
       "      <th>city</th>\n",
       "      <th>first_name</th>\n",
       "      <th>last_name</th>\n",
       "      <th>reg_date</th>\n",
       "      <th>tariff</th>\n",
       "    </tr>\n",
       "  </thead>\n",
       "  <tbody>\n",
       "    <tr>\n",
       "      <td>0</td>\n",
       "      <td>1000</td>\n",
       "      <td>52</td>\n",
       "      <td>NaN</td>\n",
       "      <td>Краснодар</td>\n",
       "      <td>Рафаил</td>\n",
       "      <td>Верещагин</td>\n",
       "      <td>2018-05-25</td>\n",
       "      <td>ultra</td>\n",
       "    </tr>\n",
       "    <tr>\n",
       "      <td>1</td>\n",
       "      <td>1001</td>\n",
       "      <td>41</td>\n",
       "      <td>NaN</td>\n",
       "      <td>Москва</td>\n",
       "      <td>Иван</td>\n",
       "      <td>Ежов</td>\n",
       "      <td>2018-11-01</td>\n",
       "      <td>smart</td>\n",
       "    </tr>\n",
       "    <tr>\n",
       "      <td>2</td>\n",
       "      <td>1002</td>\n",
       "      <td>59</td>\n",
       "      <td>NaN</td>\n",
       "      <td>Стерлитамак</td>\n",
       "      <td>Евгений</td>\n",
       "      <td>Абрамович</td>\n",
       "      <td>2018-06-17</td>\n",
       "      <td>smart</td>\n",
       "    </tr>\n",
       "    <tr>\n",
       "      <td>3</td>\n",
       "      <td>1003</td>\n",
       "      <td>23</td>\n",
       "      <td>NaN</td>\n",
       "      <td>Москва</td>\n",
       "      <td>Белла</td>\n",
       "      <td>Белякова</td>\n",
       "      <td>2018-08-17</td>\n",
       "      <td>ultra</td>\n",
       "    </tr>\n",
       "    <tr>\n",
       "      <td>4</td>\n",
       "      <td>1004</td>\n",
       "      <td>68</td>\n",
       "      <td>NaN</td>\n",
       "      <td>Новокузнецк</td>\n",
       "      <td>Татьяна</td>\n",
       "      <td>Авдеенко</td>\n",
       "      <td>2018-05-14</td>\n",
       "      <td>ultra</td>\n",
       "    </tr>\n",
       "    <tr>\n",
       "      <td>5</td>\n",
       "      <td>1005</td>\n",
       "      <td>67</td>\n",
       "      <td>NaN</td>\n",
       "      <td>Набережные Челны</td>\n",
       "      <td>Афанасий</td>\n",
       "      <td>Горлов</td>\n",
       "      <td>2018-01-25</td>\n",
       "      <td>smart</td>\n",
       "    </tr>\n",
       "    <tr>\n",
       "      <td>6</td>\n",
       "      <td>1006</td>\n",
       "      <td>21</td>\n",
       "      <td>NaN</td>\n",
       "      <td>Ульяновск</td>\n",
       "      <td>Леонид</td>\n",
       "      <td>Ермолаев</td>\n",
       "      <td>2018-02-26</td>\n",
       "      <td>smart</td>\n",
       "    </tr>\n",
       "    <tr>\n",
       "      <td>7</td>\n",
       "      <td>1007</td>\n",
       "      <td>65</td>\n",
       "      <td>NaN</td>\n",
       "      <td>Москва</td>\n",
       "      <td>Юна</td>\n",
       "      <td>Березина</td>\n",
       "      <td>2018-04-19</td>\n",
       "      <td>smart</td>\n",
       "    </tr>\n",
       "    <tr>\n",
       "      <td>8</td>\n",
       "      <td>1008</td>\n",
       "      <td>63</td>\n",
       "      <td>NaN</td>\n",
       "      <td>Челябинск</td>\n",
       "      <td>Рустэм</td>\n",
       "      <td>Пономарёв</td>\n",
       "      <td>2018-12-19</td>\n",
       "      <td>smart</td>\n",
       "    </tr>\n",
       "    <tr>\n",
       "      <td>9</td>\n",
       "      <td>1009</td>\n",
       "      <td>24</td>\n",
       "      <td>NaN</td>\n",
       "      <td>Пермь</td>\n",
       "      <td>Василиса</td>\n",
       "      <td>Блинова</td>\n",
       "      <td>2018-03-22</td>\n",
       "      <td>smart</td>\n",
       "    </tr>\n",
       "  </tbody>\n",
       "</table>\n",
       "</div>"
      ],
      "text/plain": [
       "   user_id  age churn_date              city first_name  last_name  \\\n",
       "0     1000   52        NaN         Краснодар     Рафаил  Верещагин   \n",
       "1     1001   41        NaN            Москва       Иван       Ежов   \n",
       "2     1002   59        NaN       Стерлитамак    Евгений  Абрамович   \n",
       "3     1003   23        NaN            Москва      Белла   Белякова   \n",
       "4     1004   68        NaN       Новокузнецк    Татьяна   Авдеенко   \n",
       "5     1005   67        NaN  Набережные Челны   Афанасий     Горлов   \n",
       "6     1006   21        NaN         Ульяновск     Леонид   Ермолаев   \n",
       "7     1007   65        NaN            Москва        Юна   Березина   \n",
       "8     1008   63        NaN         Челябинск     Рустэм  Пономарёв   \n",
       "9     1009   24        NaN             Пермь   Василиса    Блинова   \n",
       "\n",
       "     reg_date tariff  \n",
       "0  2018-05-25  ultra  \n",
       "1  2018-11-01  smart  \n",
       "2  2018-06-17  smart  \n",
       "3  2018-08-17  ultra  \n",
       "4  2018-05-14  ultra  \n",
       "5  2018-01-25  smart  \n",
       "6  2018-02-26  smart  \n",
       "7  2018-04-19  smart  \n",
       "8  2018-12-19  smart  \n",
       "9  2018-03-22  smart  "
      ]
     },
     "metadata": {},
     "output_type": "display_data"
    },
    {
     "data": {
      "text/html": [
       "<div>\n",
       "<style scoped>\n",
       "    .dataframe tbody tr th:only-of-type {\n",
       "        vertical-align: middle;\n",
       "    }\n",
       "\n",
       "    .dataframe tbody tr th {\n",
       "        vertical-align: top;\n",
       "    }\n",
       "\n",
       "    .dataframe thead th {\n",
       "        text-align: right;\n",
       "    }\n",
       "</style>\n",
       "<table border=\"1\" class=\"dataframe\">\n",
       "  <thead>\n",
       "    <tr style=\"text-align: right;\">\n",
       "      <th></th>\n",
       "      <th>messages_included</th>\n",
       "      <th>mb_per_month_included</th>\n",
       "      <th>minutes_included</th>\n",
       "      <th>rub_monthly_fee</th>\n",
       "      <th>rub_per_gb</th>\n",
       "      <th>rub_per_message</th>\n",
       "      <th>rub_per_minute</th>\n",
       "      <th>tariff_name</th>\n",
       "    </tr>\n",
       "  </thead>\n",
       "  <tbody>\n",
       "    <tr>\n",
       "      <td>0</td>\n",
       "      <td>50</td>\n",
       "      <td>15360</td>\n",
       "      <td>500</td>\n",
       "      <td>550</td>\n",
       "      <td>200</td>\n",
       "      <td>3</td>\n",
       "      <td>3</td>\n",
       "      <td>smart</td>\n",
       "    </tr>\n",
       "    <tr>\n",
       "      <td>1</td>\n",
       "      <td>1000</td>\n",
       "      <td>30720</td>\n",
       "      <td>3000</td>\n",
       "      <td>1950</td>\n",
       "      <td>150</td>\n",
       "      <td>1</td>\n",
       "      <td>1</td>\n",
       "      <td>ultra</td>\n",
       "    </tr>\n",
       "  </tbody>\n",
       "</table>\n",
       "</div>"
      ],
      "text/plain": [
       "   messages_included  mb_per_month_included  minutes_included  \\\n",
       "0                 50                  15360               500   \n",
       "1               1000                  30720              3000   \n",
       "\n",
       "   rub_monthly_fee  rub_per_gb  rub_per_message  rub_per_minute tariff_name  \n",
       "0              550         200                3               3       smart  \n",
       "1             1950         150                1               1       ultra  "
      ]
     },
     "metadata": {},
     "output_type": "display_data"
    }
   ],
   "source": [
    "for data in [calls, internet, messages, users, tariffs]: #посмотрим на данные\n",
    "    display(data.head(10))"
   ]
  },
  {
   "cell_type": "markdown",
   "metadata": {},
   "source": [
    "- В таблице calls столбцы duration имеют пропущенные значения\n",
    "- В таблице internet есть непонятный столбец, как мне кажется он не дает никаких данных, предлагаю его просто удалить\n",
    "- Привести данные в нужный тип. Например user_id в messages в int\n",
    "- Надо округлить значения в большую сторону, т.к тариф окргляет до минут и мб. Нулевые значения предлагаю заменить на 1.\n",
    "- Интернет приведем в Гб для удобства дальнейшей обработки. Интренет предлагаю перевести в Гб для удобства обработки поделив значение mb_used на 1024"
   ]
  },
  {
   "cell_type": "code",
   "execution_count": 6,
   "metadata": {},
   "outputs": [
    {
     "data": {
      "text/plain": [
       "0.0    39613\n",
       "Name: duration, dtype: int64"
      ]
     },
     "execution_count": 6,
     "metadata": {},
     "output_type": "execute_result"
    }
   ],
   "source": [
    "calls.loc[calls['duration'] == 0, 'duration'].value_counts() "
   ]
  },
  {
   "cell_type": "code",
   "execution_count": 7,
   "metadata": {},
   "outputs": [
    {
     "data": {
      "text/plain": [
       "id               object\n",
       "mb_used         float64\n",
       "session_date     object\n",
       "user_id           int64\n",
       "dtype: object"
      ]
     },
     "execution_count": 7,
     "metadata": {},
     "output_type": "execute_result"
    }
   ],
   "source": [
    "internet = internet.drop('Unnamed: 0', axis=1) #удаляем столбец\n",
    "internet.dtypes #проверяем"
   ]
  },
  {
   "cell_type": "markdown",
   "metadata": {},
   "source": [
    "Приведем тип данных в столбце user_id к типу int"
   ]
  },
  {
   "cell_type": "code",
   "execution_count": 8,
   "metadata": {},
   "outputs": [],
   "source": [
    "messages['user_id'] = messages['user_id'].astype('int')"
   ]
  },
  {
   "cell_type": "code",
   "execution_count": 9,
   "metadata": {
    "scrolled": true
   },
   "outputs": [
    {
     "data": {
      "text/plain": [
       "id              object\n",
       "message_date    object\n",
       "user_id          int64\n",
       "dtype: object"
      ]
     },
     "execution_count": 9,
     "metadata": {},
     "output_type": "execute_result"
    }
   ],
   "source": [
    "messages.dtypes # проверяем"
   ]
  },
  {
   "cell_type": "markdown",
   "metadata": {},
   "source": [
    "Создадим переменную для тарифов придав им значения 0 и 1"
   ]
  },
  {
   "cell_type": "code",
   "execution_count": 10,
   "metadata": {},
   "outputs": [
    {
     "data": {
      "text/plain": [
       "0    351\n",
       "1    149\n",
       "Name: tariff_id, dtype: int64"
      ]
     },
     "execution_count": 10,
     "metadata": {},
     "output_type": "execute_result"
    }
   ],
   "source": [
    "users['tariff_id'] = users['tariff'].apply(lambda x: 1 if x == 'ultra' else 0)\n",
    "users['tariff_id'].value_counts()"
   ]
  },
  {
   "cell_type": "markdown",
   "metadata": {},
   "source": [
    "Округлим все значения в большую сторону и заменяем 0 на 1"
   ]
  },
  {
   "cell_type": "code",
   "execution_count": 11,
   "metadata": {},
   "outputs": [],
   "source": [
    "calls['duration'] = calls['duration'].apply(np.ceil).replace(0, 1)\n",
    "#internet['mb_used'] = internet['mb_used'].apply(np.ceil).replace(0, 1)\n",
    "internet['mb_used'] = np.ceil(internet['mb_used']) #тут сделал без apply"
   ]
  },
  {
   "cell_type": "markdown",
   "metadata": {},
   "source": [
    "Переводим мб в Гб"
   ]
  },
  {
   "cell_type": "code",
   "execution_count": 12,
   "metadata": {},
   "outputs": [],
   "source": [
    "internet['gb_used'] = internet['mb_used'] / 1024"
   ]
  },
  {
   "cell_type": "code",
   "execution_count": 13,
   "metadata": {},
   "outputs": [
    {
     "data": {
      "text/html": [
       "<div>\n",
       "<style scoped>\n",
       "    .dataframe tbody tr th:only-of-type {\n",
       "        vertical-align: middle;\n",
       "    }\n",
       "\n",
       "    .dataframe tbody tr th {\n",
       "        vertical-align: top;\n",
       "    }\n",
       "\n",
       "    .dataframe thead th {\n",
       "        text-align: right;\n",
       "    }\n",
       "</style>\n",
       "<table border=\"1\" class=\"dataframe\">\n",
       "  <thead>\n",
       "    <tr style=\"text-align: right;\">\n",
       "      <th></th>\n",
       "      <th>id</th>\n",
       "      <th>call_date</th>\n",
       "      <th>duration</th>\n",
       "      <th>user_id</th>\n",
       "    </tr>\n",
       "  </thead>\n",
       "  <tbody>\n",
       "    <tr>\n",
       "      <td>0</td>\n",
       "      <td>1000_0</td>\n",
       "      <td>2018-07-25</td>\n",
       "      <td>1.0</td>\n",
       "      <td>1000</td>\n",
       "    </tr>\n",
       "    <tr>\n",
       "      <td>1</td>\n",
       "      <td>1000_1</td>\n",
       "      <td>2018-08-17</td>\n",
       "      <td>1.0</td>\n",
       "      <td>1000</td>\n",
       "    </tr>\n",
       "    <tr>\n",
       "      <td>2</td>\n",
       "      <td>1000_2</td>\n",
       "      <td>2018-06-11</td>\n",
       "      <td>3.0</td>\n",
       "      <td>1000</td>\n",
       "    </tr>\n",
       "    <tr>\n",
       "      <td>3</td>\n",
       "      <td>1000_3</td>\n",
       "      <td>2018-09-21</td>\n",
       "      <td>14.0</td>\n",
       "      <td>1000</td>\n",
       "    </tr>\n",
       "    <tr>\n",
       "      <td>4</td>\n",
       "      <td>1000_4</td>\n",
       "      <td>2018-12-15</td>\n",
       "      <td>6.0</td>\n",
       "      <td>1000</td>\n",
       "    </tr>\n",
       "    <tr>\n",
       "      <td>5</td>\n",
       "      <td>1000_5</td>\n",
       "      <td>2018-11-02</td>\n",
       "      <td>1.0</td>\n",
       "      <td>1000</td>\n",
       "    </tr>\n",
       "    <tr>\n",
       "      <td>6</td>\n",
       "      <td>1000_6</td>\n",
       "      <td>2018-10-18</td>\n",
       "      <td>1.0</td>\n",
       "      <td>1000</td>\n",
       "    </tr>\n",
       "    <tr>\n",
       "      <td>7</td>\n",
       "      <td>1000_7</td>\n",
       "      <td>2018-08-22</td>\n",
       "      <td>19.0</td>\n",
       "      <td>1000</td>\n",
       "    </tr>\n",
       "    <tr>\n",
       "      <td>8</td>\n",
       "      <td>1000_8</td>\n",
       "      <td>2018-09-15</td>\n",
       "      <td>19.0</td>\n",
       "      <td>1000</td>\n",
       "    </tr>\n",
       "    <tr>\n",
       "      <td>9</td>\n",
       "      <td>1000_9</td>\n",
       "      <td>2018-08-15</td>\n",
       "      <td>1.0</td>\n",
       "      <td>1000</td>\n",
       "    </tr>\n",
       "  </tbody>\n",
       "</table>\n",
       "</div>"
      ],
      "text/plain": [
       "       id   call_date  duration  user_id\n",
       "0  1000_0  2018-07-25       1.0     1000\n",
       "1  1000_1  2018-08-17       1.0     1000\n",
       "2  1000_2  2018-06-11       3.0     1000\n",
       "3  1000_3  2018-09-21      14.0     1000\n",
       "4  1000_4  2018-12-15       6.0     1000\n",
       "5  1000_5  2018-11-02       1.0     1000\n",
       "6  1000_6  2018-10-18       1.0     1000\n",
       "7  1000_7  2018-08-22      19.0     1000\n",
       "8  1000_8  2018-09-15      19.0     1000\n",
       "9  1000_9  2018-08-15       1.0     1000"
      ]
     },
     "metadata": {},
     "output_type": "display_data"
    },
    {
     "data": {
      "text/html": [
       "<div>\n",
       "<style scoped>\n",
       "    .dataframe tbody tr th:only-of-type {\n",
       "        vertical-align: middle;\n",
       "    }\n",
       "\n",
       "    .dataframe tbody tr th {\n",
       "        vertical-align: top;\n",
       "    }\n",
       "\n",
       "    .dataframe thead th {\n",
       "        text-align: right;\n",
       "    }\n",
       "</style>\n",
       "<table border=\"1\" class=\"dataframe\">\n",
       "  <thead>\n",
       "    <tr style=\"text-align: right;\">\n",
       "      <th></th>\n",
       "      <th>id</th>\n",
       "      <th>mb_used</th>\n",
       "      <th>session_date</th>\n",
       "      <th>user_id</th>\n",
       "      <th>gb_used</th>\n",
       "    </tr>\n",
       "  </thead>\n",
       "  <tbody>\n",
       "    <tr>\n",
       "      <td>0</td>\n",
       "      <td>1000_0</td>\n",
       "      <td>113.0</td>\n",
       "      <td>2018-11-25</td>\n",
       "      <td>1000</td>\n",
       "      <td>0.110352</td>\n",
       "    </tr>\n",
       "    <tr>\n",
       "      <td>1</td>\n",
       "      <td>1000_1</td>\n",
       "      <td>1053.0</td>\n",
       "      <td>2018-09-07</td>\n",
       "      <td>1000</td>\n",
       "      <td>1.028320</td>\n",
       "    </tr>\n",
       "    <tr>\n",
       "      <td>2</td>\n",
       "      <td>1000_2</td>\n",
       "      <td>1198.0</td>\n",
       "      <td>2018-06-25</td>\n",
       "      <td>1000</td>\n",
       "      <td>1.169922</td>\n",
       "    </tr>\n",
       "    <tr>\n",
       "      <td>3</td>\n",
       "      <td>1000_3</td>\n",
       "      <td>551.0</td>\n",
       "      <td>2018-08-22</td>\n",
       "      <td>1000</td>\n",
       "      <td>0.538086</td>\n",
       "    </tr>\n",
       "    <tr>\n",
       "      <td>4</td>\n",
       "      <td>1000_4</td>\n",
       "      <td>303.0</td>\n",
       "      <td>2018-09-24</td>\n",
       "      <td>1000</td>\n",
       "      <td>0.295898</td>\n",
       "    </tr>\n",
       "    <tr>\n",
       "      <td>5</td>\n",
       "      <td>1000_5</td>\n",
       "      <td>400.0</td>\n",
       "      <td>2018-10-02</td>\n",
       "      <td>1000</td>\n",
       "      <td>0.390625</td>\n",
       "    </tr>\n",
       "    <tr>\n",
       "      <td>6</td>\n",
       "      <td>1000_6</td>\n",
       "      <td>541.0</td>\n",
       "      <td>2018-09-07</td>\n",
       "      <td>1000</td>\n",
       "      <td>0.528320</td>\n",
       "    </tr>\n",
       "    <tr>\n",
       "      <td>7</td>\n",
       "      <td>1000_7</td>\n",
       "      <td>416.0</td>\n",
       "      <td>2018-07-11</td>\n",
       "      <td>1000</td>\n",
       "      <td>0.406250</td>\n",
       "    </tr>\n",
       "    <tr>\n",
       "      <td>8</td>\n",
       "      <td>1000_8</td>\n",
       "      <td>506.0</td>\n",
       "      <td>2018-10-08</td>\n",
       "      <td>1000</td>\n",
       "      <td>0.494141</td>\n",
       "    </tr>\n",
       "    <tr>\n",
       "      <td>9</td>\n",
       "      <td>1000_9</td>\n",
       "      <td>346.0</td>\n",
       "      <td>2018-09-03</td>\n",
       "      <td>1000</td>\n",
       "      <td>0.337891</td>\n",
       "    </tr>\n",
       "  </tbody>\n",
       "</table>\n",
       "</div>"
      ],
      "text/plain": [
       "       id  mb_used session_date  user_id   gb_used\n",
       "0  1000_0    113.0   2018-11-25     1000  0.110352\n",
       "1  1000_1   1053.0   2018-09-07     1000  1.028320\n",
       "2  1000_2   1198.0   2018-06-25     1000  1.169922\n",
       "3  1000_3    551.0   2018-08-22     1000  0.538086\n",
       "4  1000_4    303.0   2018-09-24     1000  0.295898\n",
       "5  1000_5    400.0   2018-10-02     1000  0.390625\n",
       "6  1000_6    541.0   2018-09-07     1000  0.528320\n",
       "7  1000_7    416.0   2018-07-11     1000  0.406250\n",
       "8  1000_8    506.0   2018-10-08     1000  0.494141\n",
       "9  1000_9    346.0   2018-09-03     1000  0.337891"
      ]
     },
     "metadata": {},
     "output_type": "display_data"
    },
    {
     "data": {
      "text/html": [
       "<div>\n",
       "<style scoped>\n",
       "    .dataframe tbody tr th:only-of-type {\n",
       "        vertical-align: middle;\n",
       "    }\n",
       "\n",
       "    .dataframe tbody tr th {\n",
       "        vertical-align: top;\n",
       "    }\n",
       "\n",
       "    .dataframe thead th {\n",
       "        text-align: right;\n",
       "    }\n",
       "</style>\n",
       "<table border=\"1\" class=\"dataframe\">\n",
       "  <thead>\n",
       "    <tr style=\"text-align: right;\">\n",
       "      <th></th>\n",
       "      <th>id</th>\n",
       "      <th>message_date</th>\n",
       "      <th>user_id</th>\n",
       "    </tr>\n",
       "  </thead>\n",
       "  <tbody>\n",
       "    <tr>\n",
       "      <td>0</td>\n",
       "      <td>1000_0</td>\n",
       "      <td>2018-06-27</td>\n",
       "      <td>1000</td>\n",
       "    </tr>\n",
       "    <tr>\n",
       "      <td>1</td>\n",
       "      <td>1000_1</td>\n",
       "      <td>2018-10-08</td>\n",
       "      <td>1000</td>\n",
       "    </tr>\n",
       "    <tr>\n",
       "      <td>2</td>\n",
       "      <td>1000_2</td>\n",
       "      <td>2018-08-04</td>\n",
       "      <td>1000</td>\n",
       "    </tr>\n",
       "    <tr>\n",
       "      <td>3</td>\n",
       "      <td>1000_3</td>\n",
       "      <td>2018-06-16</td>\n",
       "      <td>1000</td>\n",
       "    </tr>\n",
       "    <tr>\n",
       "      <td>4</td>\n",
       "      <td>1000_4</td>\n",
       "      <td>2018-12-05</td>\n",
       "      <td>1000</td>\n",
       "    </tr>\n",
       "    <tr>\n",
       "      <td>5</td>\n",
       "      <td>1000_5</td>\n",
       "      <td>2018-06-20</td>\n",
       "      <td>1000</td>\n",
       "    </tr>\n",
       "    <tr>\n",
       "      <td>6</td>\n",
       "      <td>1000_6</td>\n",
       "      <td>2018-11-19</td>\n",
       "      <td>1000</td>\n",
       "    </tr>\n",
       "    <tr>\n",
       "      <td>7</td>\n",
       "      <td>1000_7</td>\n",
       "      <td>2018-10-29</td>\n",
       "      <td>1000</td>\n",
       "    </tr>\n",
       "    <tr>\n",
       "      <td>8</td>\n",
       "      <td>1000_8</td>\n",
       "      <td>2018-06-25</td>\n",
       "      <td>1000</td>\n",
       "    </tr>\n",
       "    <tr>\n",
       "      <td>9</td>\n",
       "      <td>1000_9</td>\n",
       "      <td>2018-12-18</td>\n",
       "      <td>1000</td>\n",
       "    </tr>\n",
       "  </tbody>\n",
       "</table>\n",
       "</div>"
      ],
      "text/plain": [
       "       id message_date  user_id\n",
       "0  1000_0   2018-06-27     1000\n",
       "1  1000_1   2018-10-08     1000\n",
       "2  1000_2   2018-08-04     1000\n",
       "3  1000_3   2018-06-16     1000\n",
       "4  1000_4   2018-12-05     1000\n",
       "5  1000_5   2018-06-20     1000\n",
       "6  1000_6   2018-11-19     1000\n",
       "7  1000_7   2018-10-29     1000\n",
       "8  1000_8   2018-06-25     1000\n",
       "9  1000_9   2018-12-18     1000"
      ]
     },
     "metadata": {},
     "output_type": "display_data"
    },
    {
     "data": {
      "text/html": [
       "<div>\n",
       "<style scoped>\n",
       "    .dataframe tbody tr th:only-of-type {\n",
       "        vertical-align: middle;\n",
       "    }\n",
       "\n",
       "    .dataframe tbody tr th {\n",
       "        vertical-align: top;\n",
       "    }\n",
       "\n",
       "    .dataframe thead th {\n",
       "        text-align: right;\n",
       "    }\n",
       "</style>\n",
       "<table border=\"1\" class=\"dataframe\">\n",
       "  <thead>\n",
       "    <tr style=\"text-align: right;\">\n",
       "      <th></th>\n",
       "      <th>user_id</th>\n",
       "      <th>age</th>\n",
       "      <th>churn_date</th>\n",
       "      <th>city</th>\n",
       "      <th>first_name</th>\n",
       "      <th>last_name</th>\n",
       "      <th>reg_date</th>\n",
       "      <th>tariff</th>\n",
       "      <th>tariff_id</th>\n",
       "    </tr>\n",
       "  </thead>\n",
       "  <tbody>\n",
       "    <tr>\n",
       "      <td>0</td>\n",
       "      <td>1000</td>\n",
       "      <td>52</td>\n",
       "      <td>NaN</td>\n",
       "      <td>Краснодар</td>\n",
       "      <td>Рафаил</td>\n",
       "      <td>Верещагин</td>\n",
       "      <td>2018-05-25</td>\n",
       "      <td>ultra</td>\n",
       "      <td>1</td>\n",
       "    </tr>\n",
       "    <tr>\n",
       "      <td>1</td>\n",
       "      <td>1001</td>\n",
       "      <td>41</td>\n",
       "      <td>NaN</td>\n",
       "      <td>Москва</td>\n",
       "      <td>Иван</td>\n",
       "      <td>Ежов</td>\n",
       "      <td>2018-11-01</td>\n",
       "      <td>smart</td>\n",
       "      <td>0</td>\n",
       "    </tr>\n",
       "    <tr>\n",
       "      <td>2</td>\n",
       "      <td>1002</td>\n",
       "      <td>59</td>\n",
       "      <td>NaN</td>\n",
       "      <td>Стерлитамак</td>\n",
       "      <td>Евгений</td>\n",
       "      <td>Абрамович</td>\n",
       "      <td>2018-06-17</td>\n",
       "      <td>smart</td>\n",
       "      <td>0</td>\n",
       "    </tr>\n",
       "    <tr>\n",
       "      <td>3</td>\n",
       "      <td>1003</td>\n",
       "      <td>23</td>\n",
       "      <td>NaN</td>\n",
       "      <td>Москва</td>\n",
       "      <td>Белла</td>\n",
       "      <td>Белякова</td>\n",
       "      <td>2018-08-17</td>\n",
       "      <td>ultra</td>\n",
       "      <td>1</td>\n",
       "    </tr>\n",
       "    <tr>\n",
       "      <td>4</td>\n",
       "      <td>1004</td>\n",
       "      <td>68</td>\n",
       "      <td>NaN</td>\n",
       "      <td>Новокузнецк</td>\n",
       "      <td>Татьяна</td>\n",
       "      <td>Авдеенко</td>\n",
       "      <td>2018-05-14</td>\n",
       "      <td>ultra</td>\n",
       "      <td>1</td>\n",
       "    </tr>\n",
       "    <tr>\n",
       "      <td>5</td>\n",
       "      <td>1005</td>\n",
       "      <td>67</td>\n",
       "      <td>NaN</td>\n",
       "      <td>Набережные Челны</td>\n",
       "      <td>Афанасий</td>\n",
       "      <td>Горлов</td>\n",
       "      <td>2018-01-25</td>\n",
       "      <td>smart</td>\n",
       "      <td>0</td>\n",
       "    </tr>\n",
       "    <tr>\n",
       "      <td>6</td>\n",
       "      <td>1006</td>\n",
       "      <td>21</td>\n",
       "      <td>NaN</td>\n",
       "      <td>Ульяновск</td>\n",
       "      <td>Леонид</td>\n",
       "      <td>Ермолаев</td>\n",
       "      <td>2018-02-26</td>\n",
       "      <td>smart</td>\n",
       "      <td>0</td>\n",
       "    </tr>\n",
       "    <tr>\n",
       "      <td>7</td>\n",
       "      <td>1007</td>\n",
       "      <td>65</td>\n",
       "      <td>NaN</td>\n",
       "      <td>Москва</td>\n",
       "      <td>Юна</td>\n",
       "      <td>Березина</td>\n",
       "      <td>2018-04-19</td>\n",
       "      <td>smart</td>\n",
       "      <td>0</td>\n",
       "    </tr>\n",
       "    <tr>\n",
       "      <td>8</td>\n",
       "      <td>1008</td>\n",
       "      <td>63</td>\n",
       "      <td>NaN</td>\n",
       "      <td>Челябинск</td>\n",
       "      <td>Рустэм</td>\n",
       "      <td>Пономарёв</td>\n",
       "      <td>2018-12-19</td>\n",
       "      <td>smart</td>\n",
       "      <td>0</td>\n",
       "    </tr>\n",
       "    <tr>\n",
       "      <td>9</td>\n",
       "      <td>1009</td>\n",
       "      <td>24</td>\n",
       "      <td>NaN</td>\n",
       "      <td>Пермь</td>\n",
       "      <td>Василиса</td>\n",
       "      <td>Блинова</td>\n",
       "      <td>2018-03-22</td>\n",
       "      <td>smart</td>\n",
       "      <td>0</td>\n",
       "    </tr>\n",
       "  </tbody>\n",
       "</table>\n",
       "</div>"
      ],
      "text/plain": [
       "   user_id  age churn_date              city first_name  last_name  \\\n",
       "0     1000   52        NaN         Краснодар     Рафаил  Верещагин   \n",
       "1     1001   41        NaN            Москва       Иван       Ежов   \n",
       "2     1002   59        NaN       Стерлитамак    Евгений  Абрамович   \n",
       "3     1003   23        NaN            Москва      Белла   Белякова   \n",
       "4     1004   68        NaN       Новокузнецк    Татьяна   Авдеенко   \n",
       "5     1005   67        NaN  Набережные Челны   Афанасий     Горлов   \n",
       "6     1006   21        NaN         Ульяновск     Леонид   Ермолаев   \n",
       "7     1007   65        NaN            Москва        Юна   Березина   \n",
       "8     1008   63        NaN         Челябинск     Рустэм  Пономарёв   \n",
       "9     1009   24        NaN             Пермь   Василиса    Блинова   \n",
       "\n",
       "     reg_date tariff  tariff_id  \n",
       "0  2018-05-25  ultra          1  \n",
       "1  2018-11-01  smart          0  \n",
       "2  2018-06-17  smart          0  \n",
       "3  2018-08-17  ultra          1  \n",
       "4  2018-05-14  ultra          1  \n",
       "5  2018-01-25  smart          0  \n",
       "6  2018-02-26  smart          0  \n",
       "7  2018-04-19  smart          0  \n",
       "8  2018-12-19  smart          0  \n",
       "9  2018-03-22  smart          0  "
      ]
     },
     "metadata": {},
     "output_type": "display_data"
    },
    {
     "data": {
      "text/html": [
       "<div>\n",
       "<style scoped>\n",
       "    .dataframe tbody tr th:only-of-type {\n",
       "        vertical-align: middle;\n",
       "    }\n",
       "\n",
       "    .dataframe tbody tr th {\n",
       "        vertical-align: top;\n",
       "    }\n",
       "\n",
       "    .dataframe thead th {\n",
       "        text-align: right;\n",
       "    }\n",
       "</style>\n",
       "<table border=\"1\" class=\"dataframe\">\n",
       "  <thead>\n",
       "    <tr style=\"text-align: right;\">\n",
       "      <th></th>\n",
       "      <th>messages_included</th>\n",
       "      <th>mb_per_month_included</th>\n",
       "      <th>minutes_included</th>\n",
       "      <th>rub_monthly_fee</th>\n",
       "      <th>rub_per_gb</th>\n",
       "      <th>rub_per_message</th>\n",
       "      <th>rub_per_minute</th>\n",
       "      <th>tariff_name</th>\n",
       "    </tr>\n",
       "  </thead>\n",
       "  <tbody>\n",
       "    <tr>\n",
       "      <td>0</td>\n",
       "      <td>50</td>\n",
       "      <td>15360</td>\n",
       "      <td>500</td>\n",
       "      <td>550</td>\n",
       "      <td>200</td>\n",
       "      <td>3</td>\n",
       "      <td>3</td>\n",
       "      <td>smart</td>\n",
       "    </tr>\n",
       "    <tr>\n",
       "      <td>1</td>\n",
       "      <td>1000</td>\n",
       "      <td>30720</td>\n",
       "      <td>3000</td>\n",
       "      <td>1950</td>\n",
       "      <td>150</td>\n",
       "      <td>1</td>\n",
       "      <td>1</td>\n",
       "      <td>ultra</td>\n",
       "    </tr>\n",
       "  </tbody>\n",
       "</table>\n",
       "</div>"
      ],
      "text/plain": [
       "   messages_included  mb_per_month_included  minutes_included  \\\n",
       "0                 50                  15360               500   \n",
       "1               1000                  30720              3000   \n",
       "\n",
       "   rub_monthly_fee  rub_per_gb  rub_per_message  rub_per_minute tariff_name  \n",
       "0              550         200                3               3       smart  \n",
       "1             1950         150                1               1       ultra  "
      ]
     },
     "metadata": {},
     "output_type": "display_data"
    }
   ],
   "source": [
    "for data in [calls, internet, messages, users, tariffs]: #посмотрим на измененные данные\n",
    "    display(data.head(10))"
   ]
  },
  {
   "cell_type": "markdown",
   "metadata": {},
   "source": [
    "Так как нам необъодимо узнать сколько минут разговора, сколько сообщений и какой объём интернет-трафика требуется пользователям каждого тарифа в месяц - Добавим столбец с датами в таблицы с смс, звонками и траффиком. "
   ]
  },
  {
   "cell_type": "code",
   "execution_count": 14,
   "metadata": {},
   "outputs": [],
   "source": [
    "calls['month'] = pd.DatetimeIndex(calls['call_date']).month\n",
    "internet['month'] = pd.DatetimeIndex(internet['session_date']).month\n",
    "messages['month'] = pd.DatetimeIndex(messages['message_date']).month"
   ]
  },
  {
   "cell_type": "code",
   "execution_count": 15,
   "metadata": {},
   "outputs": [
    {
     "data": {
      "text/html": [
       "<div>\n",
       "<style scoped>\n",
       "    .dataframe tbody tr th:only-of-type {\n",
       "        vertical-align: middle;\n",
       "    }\n",
       "\n",
       "    .dataframe tbody tr th {\n",
       "        vertical-align: top;\n",
       "    }\n",
       "\n",
       "    .dataframe thead th {\n",
       "        text-align: right;\n",
       "    }\n",
       "</style>\n",
       "<table border=\"1\" class=\"dataframe\">\n",
       "  <thead>\n",
       "    <tr style=\"text-align: right;\">\n",
       "      <th></th>\n",
       "      <th>id</th>\n",
       "      <th>call_date</th>\n",
       "      <th>duration</th>\n",
       "      <th>user_id</th>\n",
       "      <th>month</th>\n",
       "    </tr>\n",
       "  </thead>\n",
       "  <tbody>\n",
       "    <tr>\n",
       "      <td>0</td>\n",
       "      <td>1000_0</td>\n",
       "      <td>2018-07-25</td>\n",
       "      <td>1.0</td>\n",
       "      <td>1000</td>\n",
       "      <td>7</td>\n",
       "    </tr>\n",
       "    <tr>\n",
       "      <td>1</td>\n",
       "      <td>1000_1</td>\n",
       "      <td>2018-08-17</td>\n",
       "      <td>1.0</td>\n",
       "      <td>1000</td>\n",
       "      <td>8</td>\n",
       "    </tr>\n",
       "    <tr>\n",
       "      <td>2</td>\n",
       "      <td>1000_2</td>\n",
       "      <td>2018-06-11</td>\n",
       "      <td>3.0</td>\n",
       "      <td>1000</td>\n",
       "      <td>6</td>\n",
       "    </tr>\n",
       "    <tr>\n",
       "      <td>3</td>\n",
       "      <td>1000_3</td>\n",
       "      <td>2018-09-21</td>\n",
       "      <td>14.0</td>\n",
       "      <td>1000</td>\n",
       "      <td>9</td>\n",
       "    </tr>\n",
       "    <tr>\n",
       "      <td>4</td>\n",
       "      <td>1000_4</td>\n",
       "      <td>2018-12-15</td>\n",
       "      <td>6.0</td>\n",
       "      <td>1000</td>\n",
       "      <td>12</td>\n",
       "    </tr>\n",
       "    <tr>\n",
       "      <td>5</td>\n",
       "      <td>1000_5</td>\n",
       "      <td>2018-11-02</td>\n",
       "      <td>1.0</td>\n",
       "      <td>1000</td>\n",
       "      <td>11</td>\n",
       "    </tr>\n",
       "    <tr>\n",
       "      <td>6</td>\n",
       "      <td>1000_6</td>\n",
       "      <td>2018-10-18</td>\n",
       "      <td>1.0</td>\n",
       "      <td>1000</td>\n",
       "      <td>10</td>\n",
       "    </tr>\n",
       "    <tr>\n",
       "      <td>7</td>\n",
       "      <td>1000_7</td>\n",
       "      <td>2018-08-22</td>\n",
       "      <td>19.0</td>\n",
       "      <td>1000</td>\n",
       "      <td>8</td>\n",
       "    </tr>\n",
       "    <tr>\n",
       "      <td>8</td>\n",
       "      <td>1000_8</td>\n",
       "      <td>2018-09-15</td>\n",
       "      <td>19.0</td>\n",
       "      <td>1000</td>\n",
       "      <td>9</td>\n",
       "    </tr>\n",
       "    <tr>\n",
       "      <td>9</td>\n",
       "      <td>1000_9</td>\n",
       "      <td>2018-08-15</td>\n",
       "      <td>1.0</td>\n",
       "      <td>1000</td>\n",
       "      <td>8</td>\n",
       "    </tr>\n",
       "  </tbody>\n",
       "</table>\n",
       "</div>"
      ],
      "text/plain": [
       "       id   call_date  duration  user_id  month\n",
       "0  1000_0  2018-07-25       1.0     1000      7\n",
       "1  1000_1  2018-08-17       1.0     1000      8\n",
       "2  1000_2  2018-06-11       3.0     1000      6\n",
       "3  1000_3  2018-09-21      14.0     1000      9\n",
       "4  1000_4  2018-12-15       6.0     1000     12\n",
       "5  1000_5  2018-11-02       1.0     1000     11\n",
       "6  1000_6  2018-10-18       1.0     1000     10\n",
       "7  1000_7  2018-08-22      19.0     1000      8\n",
       "8  1000_8  2018-09-15      19.0     1000      9\n",
       "9  1000_9  2018-08-15       1.0     1000      8"
      ]
     },
     "metadata": {},
     "output_type": "display_data"
    },
    {
     "data": {
      "text/html": [
       "<div>\n",
       "<style scoped>\n",
       "    .dataframe tbody tr th:only-of-type {\n",
       "        vertical-align: middle;\n",
       "    }\n",
       "\n",
       "    .dataframe tbody tr th {\n",
       "        vertical-align: top;\n",
       "    }\n",
       "\n",
       "    .dataframe thead th {\n",
       "        text-align: right;\n",
       "    }\n",
       "</style>\n",
       "<table border=\"1\" class=\"dataframe\">\n",
       "  <thead>\n",
       "    <tr style=\"text-align: right;\">\n",
       "      <th></th>\n",
       "      <th>id</th>\n",
       "      <th>mb_used</th>\n",
       "      <th>session_date</th>\n",
       "      <th>user_id</th>\n",
       "      <th>gb_used</th>\n",
       "      <th>month</th>\n",
       "    </tr>\n",
       "  </thead>\n",
       "  <tbody>\n",
       "    <tr>\n",
       "      <td>0</td>\n",
       "      <td>1000_0</td>\n",
       "      <td>113.0</td>\n",
       "      <td>2018-11-25</td>\n",
       "      <td>1000</td>\n",
       "      <td>0.110352</td>\n",
       "      <td>11</td>\n",
       "    </tr>\n",
       "    <tr>\n",
       "      <td>1</td>\n",
       "      <td>1000_1</td>\n",
       "      <td>1053.0</td>\n",
       "      <td>2018-09-07</td>\n",
       "      <td>1000</td>\n",
       "      <td>1.028320</td>\n",
       "      <td>9</td>\n",
       "    </tr>\n",
       "    <tr>\n",
       "      <td>2</td>\n",
       "      <td>1000_2</td>\n",
       "      <td>1198.0</td>\n",
       "      <td>2018-06-25</td>\n",
       "      <td>1000</td>\n",
       "      <td>1.169922</td>\n",
       "      <td>6</td>\n",
       "    </tr>\n",
       "    <tr>\n",
       "      <td>3</td>\n",
       "      <td>1000_3</td>\n",
       "      <td>551.0</td>\n",
       "      <td>2018-08-22</td>\n",
       "      <td>1000</td>\n",
       "      <td>0.538086</td>\n",
       "      <td>8</td>\n",
       "    </tr>\n",
       "    <tr>\n",
       "      <td>4</td>\n",
       "      <td>1000_4</td>\n",
       "      <td>303.0</td>\n",
       "      <td>2018-09-24</td>\n",
       "      <td>1000</td>\n",
       "      <td>0.295898</td>\n",
       "      <td>9</td>\n",
       "    </tr>\n",
       "    <tr>\n",
       "      <td>5</td>\n",
       "      <td>1000_5</td>\n",
       "      <td>400.0</td>\n",
       "      <td>2018-10-02</td>\n",
       "      <td>1000</td>\n",
       "      <td>0.390625</td>\n",
       "      <td>10</td>\n",
       "    </tr>\n",
       "    <tr>\n",
       "      <td>6</td>\n",
       "      <td>1000_6</td>\n",
       "      <td>541.0</td>\n",
       "      <td>2018-09-07</td>\n",
       "      <td>1000</td>\n",
       "      <td>0.528320</td>\n",
       "      <td>9</td>\n",
       "    </tr>\n",
       "    <tr>\n",
       "      <td>7</td>\n",
       "      <td>1000_7</td>\n",
       "      <td>416.0</td>\n",
       "      <td>2018-07-11</td>\n",
       "      <td>1000</td>\n",
       "      <td>0.406250</td>\n",
       "      <td>7</td>\n",
       "    </tr>\n",
       "    <tr>\n",
       "      <td>8</td>\n",
       "      <td>1000_8</td>\n",
       "      <td>506.0</td>\n",
       "      <td>2018-10-08</td>\n",
       "      <td>1000</td>\n",
       "      <td>0.494141</td>\n",
       "      <td>10</td>\n",
       "    </tr>\n",
       "    <tr>\n",
       "      <td>9</td>\n",
       "      <td>1000_9</td>\n",
       "      <td>346.0</td>\n",
       "      <td>2018-09-03</td>\n",
       "      <td>1000</td>\n",
       "      <td>0.337891</td>\n",
       "      <td>9</td>\n",
       "    </tr>\n",
       "  </tbody>\n",
       "</table>\n",
       "</div>"
      ],
      "text/plain": [
       "       id  mb_used session_date  user_id   gb_used  month\n",
       "0  1000_0    113.0   2018-11-25     1000  0.110352     11\n",
       "1  1000_1   1053.0   2018-09-07     1000  1.028320      9\n",
       "2  1000_2   1198.0   2018-06-25     1000  1.169922      6\n",
       "3  1000_3    551.0   2018-08-22     1000  0.538086      8\n",
       "4  1000_4    303.0   2018-09-24     1000  0.295898      9\n",
       "5  1000_5    400.0   2018-10-02     1000  0.390625     10\n",
       "6  1000_6    541.0   2018-09-07     1000  0.528320      9\n",
       "7  1000_7    416.0   2018-07-11     1000  0.406250      7\n",
       "8  1000_8    506.0   2018-10-08     1000  0.494141     10\n",
       "9  1000_9    346.0   2018-09-03     1000  0.337891      9"
      ]
     },
     "metadata": {},
     "output_type": "display_data"
    },
    {
     "data": {
      "text/html": [
       "<div>\n",
       "<style scoped>\n",
       "    .dataframe tbody tr th:only-of-type {\n",
       "        vertical-align: middle;\n",
       "    }\n",
       "\n",
       "    .dataframe tbody tr th {\n",
       "        vertical-align: top;\n",
       "    }\n",
       "\n",
       "    .dataframe thead th {\n",
       "        text-align: right;\n",
       "    }\n",
       "</style>\n",
       "<table border=\"1\" class=\"dataframe\">\n",
       "  <thead>\n",
       "    <tr style=\"text-align: right;\">\n",
       "      <th></th>\n",
       "      <th>id</th>\n",
       "      <th>message_date</th>\n",
       "      <th>user_id</th>\n",
       "      <th>month</th>\n",
       "    </tr>\n",
       "  </thead>\n",
       "  <tbody>\n",
       "    <tr>\n",
       "      <td>0</td>\n",
       "      <td>1000_0</td>\n",
       "      <td>2018-06-27</td>\n",
       "      <td>1000</td>\n",
       "      <td>6</td>\n",
       "    </tr>\n",
       "    <tr>\n",
       "      <td>1</td>\n",
       "      <td>1000_1</td>\n",
       "      <td>2018-10-08</td>\n",
       "      <td>1000</td>\n",
       "      <td>10</td>\n",
       "    </tr>\n",
       "    <tr>\n",
       "      <td>2</td>\n",
       "      <td>1000_2</td>\n",
       "      <td>2018-08-04</td>\n",
       "      <td>1000</td>\n",
       "      <td>8</td>\n",
       "    </tr>\n",
       "    <tr>\n",
       "      <td>3</td>\n",
       "      <td>1000_3</td>\n",
       "      <td>2018-06-16</td>\n",
       "      <td>1000</td>\n",
       "      <td>6</td>\n",
       "    </tr>\n",
       "    <tr>\n",
       "      <td>4</td>\n",
       "      <td>1000_4</td>\n",
       "      <td>2018-12-05</td>\n",
       "      <td>1000</td>\n",
       "      <td>12</td>\n",
       "    </tr>\n",
       "    <tr>\n",
       "      <td>5</td>\n",
       "      <td>1000_5</td>\n",
       "      <td>2018-06-20</td>\n",
       "      <td>1000</td>\n",
       "      <td>6</td>\n",
       "    </tr>\n",
       "    <tr>\n",
       "      <td>6</td>\n",
       "      <td>1000_6</td>\n",
       "      <td>2018-11-19</td>\n",
       "      <td>1000</td>\n",
       "      <td>11</td>\n",
       "    </tr>\n",
       "    <tr>\n",
       "      <td>7</td>\n",
       "      <td>1000_7</td>\n",
       "      <td>2018-10-29</td>\n",
       "      <td>1000</td>\n",
       "      <td>10</td>\n",
       "    </tr>\n",
       "    <tr>\n",
       "      <td>8</td>\n",
       "      <td>1000_8</td>\n",
       "      <td>2018-06-25</td>\n",
       "      <td>1000</td>\n",
       "      <td>6</td>\n",
       "    </tr>\n",
       "    <tr>\n",
       "      <td>9</td>\n",
       "      <td>1000_9</td>\n",
       "      <td>2018-12-18</td>\n",
       "      <td>1000</td>\n",
       "      <td>12</td>\n",
       "    </tr>\n",
       "  </tbody>\n",
       "</table>\n",
       "</div>"
      ],
      "text/plain": [
       "       id message_date  user_id  month\n",
       "0  1000_0   2018-06-27     1000      6\n",
       "1  1000_1   2018-10-08     1000     10\n",
       "2  1000_2   2018-08-04     1000      8\n",
       "3  1000_3   2018-06-16     1000      6\n",
       "4  1000_4   2018-12-05     1000     12\n",
       "5  1000_5   2018-06-20     1000      6\n",
       "6  1000_6   2018-11-19     1000     11\n",
       "7  1000_7   2018-10-29     1000     10\n",
       "8  1000_8   2018-06-25     1000      6\n",
       "9  1000_9   2018-12-18     1000     12"
      ]
     },
     "metadata": {},
     "output_type": "display_data"
    },
    {
     "data": {
      "text/html": [
       "<div>\n",
       "<style scoped>\n",
       "    .dataframe tbody tr th:only-of-type {\n",
       "        vertical-align: middle;\n",
       "    }\n",
       "\n",
       "    .dataframe tbody tr th {\n",
       "        vertical-align: top;\n",
       "    }\n",
       "\n",
       "    .dataframe thead th {\n",
       "        text-align: right;\n",
       "    }\n",
       "</style>\n",
       "<table border=\"1\" class=\"dataframe\">\n",
       "  <thead>\n",
       "    <tr style=\"text-align: right;\">\n",
       "      <th></th>\n",
       "      <th>user_id</th>\n",
       "      <th>age</th>\n",
       "      <th>churn_date</th>\n",
       "      <th>city</th>\n",
       "      <th>first_name</th>\n",
       "      <th>last_name</th>\n",
       "      <th>reg_date</th>\n",
       "      <th>tariff</th>\n",
       "      <th>tariff_id</th>\n",
       "    </tr>\n",
       "  </thead>\n",
       "  <tbody>\n",
       "    <tr>\n",
       "      <td>0</td>\n",
       "      <td>1000</td>\n",
       "      <td>52</td>\n",
       "      <td>NaN</td>\n",
       "      <td>Краснодар</td>\n",
       "      <td>Рафаил</td>\n",
       "      <td>Верещагин</td>\n",
       "      <td>2018-05-25</td>\n",
       "      <td>ultra</td>\n",
       "      <td>1</td>\n",
       "    </tr>\n",
       "    <tr>\n",
       "      <td>1</td>\n",
       "      <td>1001</td>\n",
       "      <td>41</td>\n",
       "      <td>NaN</td>\n",
       "      <td>Москва</td>\n",
       "      <td>Иван</td>\n",
       "      <td>Ежов</td>\n",
       "      <td>2018-11-01</td>\n",
       "      <td>smart</td>\n",
       "      <td>0</td>\n",
       "    </tr>\n",
       "    <tr>\n",
       "      <td>2</td>\n",
       "      <td>1002</td>\n",
       "      <td>59</td>\n",
       "      <td>NaN</td>\n",
       "      <td>Стерлитамак</td>\n",
       "      <td>Евгений</td>\n",
       "      <td>Абрамович</td>\n",
       "      <td>2018-06-17</td>\n",
       "      <td>smart</td>\n",
       "      <td>0</td>\n",
       "    </tr>\n",
       "    <tr>\n",
       "      <td>3</td>\n",
       "      <td>1003</td>\n",
       "      <td>23</td>\n",
       "      <td>NaN</td>\n",
       "      <td>Москва</td>\n",
       "      <td>Белла</td>\n",
       "      <td>Белякова</td>\n",
       "      <td>2018-08-17</td>\n",
       "      <td>ultra</td>\n",
       "      <td>1</td>\n",
       "    </tr>\n",
       "    <tr>\n",
       "      <td>4</td>\n",
       "      <td>1004</td>\n",
       "      <td>68</td>\n",
       "      <td>NaN</td>\n",
       "      <td>Новокузнецк</td>\n",
       "      <td>Татьяна</td>\n",
       "      <td>Авдеенко</td>\n",
       "      <td>2018-05-14</td>\n",
       "      <td>ultra</td>\n",
       "      <td>1</td>\n",
       "    </tr>\n",
       "    <tr>\n",
       "      <td>5</td>\n",
       "      <td>1005</td>\n",
       "      <td>67</td>\n",
       "      <td>NaN</td>\n",
       "      <td>Набережные Челны</td>\n",
       "      <td>Афанасий</td>\n",
       "      <td>Горлов</td>\n",
       "      <td>2018-01-25</td>\n",
       "      <td>smart</td>\n",
       "      <td>0</td>\n",
       "    </tr>\n",
       "    <tr>\n",
       "      <td>6</td>\n",
       "      <td>1006</td>\n",
       "      <td>21</td>\n",
       "      <td>NaN</td>\n",
       "      <td>Ульяновск</td>\n",
       "      <td>Леонид</td>\n",
       "      <td>Ермолаев</td>\n",
       "      <td>2018-02-26</td>\n",
       "      <td>smart</td>\n",
       "      <td>0</td>\n",
       "    </tr>\n",
       "    <tr>\n",
       "      <td>7</td>\n",
       "      <td>1007</td>\n",
       "      <td>65</td>\n",
       "      <td>NaN</td>\n",
       "      <td>Москва</td>\n",
       "      <td>Юна</td>\n",
       "      <td>Березина</td>\n",
       "      <td>2018-04-19</td>\n",
       "      <td>smart</td>\n",
       "      <td>0</td>\n",
       "    </tr>\n",
       "    <tr>\n",
       "      <td>8</td>\n",
       "      <td>1008</td>\n",
       "      <td>63</td>\n",
       "      <td>NaN</td>\n",
       "      <td>Челябинск</td>\n",
       "      <td>Рустэм</td>\n",
       "      <td>Пономарёв</td>\n",
       "      <td>2018-12-19</td>\n",
       "      <td>smart</td>\n",
       "      <td>0</td>\n",
       "    </tr>\n",
       "    <tr>\n",
       "      <td>9</td>\n",
       "      <td>1009</td>\n",
       "      <td>24</td>\n",
       "      <td>NaN</td>\n",
       "      <td>Пермь</td>\n",
       "      <td>Василиса</td>\n",
       "      <td>Блинова</td>\n",
       "      <td>2018-03-22</td>\n",
       "      <td>smart</td>\n",
       "      <td>0</td>\n",
       "    </tr>\n",
       "  </tbody>\n",
       "</table>\n",
       "</div>"
      ],
      "text/plain": [
       "   user_id  age churn_date              city first_name  last_name  \\\n",
       "0     1000   52        NaN         Краснодар     Рафаил  Верещагин   \n",
       "1     1001   41        NaN            Москва       Иван       Ежов   \n",
       "2     1002   59        NaN       Стерлитамак    Евгений  Абрамович   \n",
       "3     1003   23        NaN            Москва      Белла   Белякова   \n",
       "4     1004   68        NaN       Новокузнецк    Татьяна   Авдеенко   \n",
       "5     1005   67        NaN  Набережные Челны   Афанасий     Горлов   \n",
       "6     1006   21        NaN         Ульяновск     Леонид   Ермолаев   \n",
       "7     1007   65        NaN            Москва        Юна   Березина   \n",
       "8     1008   63        NaN         Челябинск     Рустэм  Пономарёв   \n",
       "9     1009   24        NaN             Пермь   Василиса    Блинова   \n",
       "\n",
       "     reg_date tariff  tariff_id  \n",
       "0  2018-05-25  ultra          1  \n",
       "1  2018-11-01  smart          0  \n",
       "2  2018-06-17  smart          0  \n",
       "3  2018-08-17  ultra          1  \n",
       "4  2018-05-14  ultra          1  \n",
       "5  2018-01-25  smart          0  \n",
       "6  2018-02-26  smart          0  \n",
       "7  2018-04-19  smart          0  \n",
       "8  2018-12-19  smart          0  \n",
       "9  2018-03-22  smart          0  "
      ]
     },
     "metadata": {},
     "output_type": "display_data"
    },
    {
     "data": {
      "text/html": [
       "<div>\n",
       "<style scoped>\n",
       "    .dataframe tbody tr th:only-of-type {\n",
       "        vertical-align: middle;\n",
       "    }\n",
       "\n",
       "    .dataframe tbody tr th {\n",
       "        vertical-align: top;\n",
       "    }\n",
       "\n",
       "    .dataframe thead th {\n",
       "        text-align: right;\n",
       "    }\n",
       "</style>\n",
       "<table border=\"1\" class=\"dataframe\">\n",
       "  <thead>\n",
       "    <tr style=\"text-align: right;\">\n",
       "      <th></th>\n",
       "      <th>messages_included</th>\n",
       "      <th>mb_per_month_included</th>\n",
       "      <th>minutes_included</th>\n",
       "      <th>rub_monthly_fee</th>\n",
       "      <th>rub_per_gb</th>\n",
       "      <th>rub_per_message</th>\n",
       "      <th>rub_per_minute</th>\n",
       "      <th>tariff_name</th>\n",
       "    </tr>\n",
       "  </thead>\n",
       "  <tbody>\n",
       "    <tr>\n",
       "      <td>0</td>\n",
       "      <td>50</td>\n",
       "      <td>15360</td>\n",
       "      <td>500</td>\n",
       "      <td>550</td>\n",
       "      <td>200</td>\n",
       "      <td>3</td>\n",
       "      <td>3</td>\n",
       "      <td>smart</td>\n",
       "    </tr>\n",
       "    <tr>\n",
       "      <td>1</td>\n",
       "      <td>1000</td>\n",
       "      <td>30720</td>\n",
       "      <td>3000</td>\n",
       "      <td>1950</td>\n",
       "      <td>150</td>\n",
       "      <td>1</td>\n",
       "      <td>1</td>\n",
       "      <td>ultra</td>\n",
       "    </tr>\n",
       "  </tbody>\n",
       "</table>\n",
       "</div>"
      ],
      "text/plain": [
       "   messages_included  mb_per_month_included  minutes_included  \\\n",
       "0                 50                  15360               500   \n",
       "1               1000                  30720              3000   \n",
       "\n",
       "   rub_monthly_fee  rub_per_gb  rub_per_message  rub_per_minute tariff_name  \n",
       "0              550         200                3               3       smart  \n",
       "1             1950         150                1               1       ultra  "
      ]
     },
     "metadata": {},
     "output_type": "display_data"
    }
   ],
   "source": [
    "for data in [calls, internet, messages, users, tariffs]: #снова посмотрим на данные\n",
    "    display(data.head(10))"
   ]
  },
  {
   "cell_type": "markdown",
   "metadata": {},
   "source": [
    "Посчитаем для каждого пользователя:\n",
    "- количество сделанных звонков и израсходованных минут разговора по месяцам;\n",
    "- количество отправленных сообщений по месяцам;\n",
    "- объем израсходованного интернет-трафика по месяцам;\n",
    "- помесячную выручку с каждого пользователя "
   ]
  },
  {
   "cell_type": "markdown",
   "metadata": {},
   "source": [
    "Тут будем создавать сводные таблицы по минутам, смс и трафику, а затем обединять в одну."
   ]
  },
  {
   "cell_type": "markdown",
   "metadata": {},
   "source": [
    "Сводная таблица для сообщений"
   ]
  },
  {
   "cell_type": "code",
   "execution_count": 16,
   "metadata": {},
   "outputs": [
    {
     "data": {
      "text/html": [
       "<div>\n",
       "<style scoped>\n",
       "    .dataframe tbody tr th:only-of-type {\n",
       "        vertical-align: middle;\n",
       "    }\n",
       "\n",
       "    .dataframe tbody tr th {\n",
       "        vertical-align: top;\n",
       "    }\n",
       "\n",
       "    .dataframe thead th {\n",
       "        text-align: right;\n",
       "    }\n",
       "</style>\n",
       "<table border=\"1\" class=\"dataframe\">\n",
       "  <thead>\n",
       "    <tr style=\"text-align: right;\">\n",
       "      <th></th>\n",
       "      <th></th>\n",
       "      <th>messages</th>\n",
       "    </tr>\n",
       "    <tr>\n",
       "      <th>user_id</th>\n",
       "      <th>month</th>\n",
       "      <th></th>\n",
       "    </tr>\n",
       "  </thead>\n",
       "  <tbody>\n",
       "    <tr>\n",
       "      <td rowspan=\"5\" valign=\"top\">1000</td>\n",
       "      <td>5.0</td>\n",
       "      <td>22</td>\n",
       "    </tr>\n",
       "    <tr>\n",
       "      <td>6.0</td>\n",
       "      <td>60</td>\n",
       "    </tr>\n",
       "    <tr>\n",
       "      <td>7.0</td>\n",
       "      <td>75</td>\n",
       "    </tr>\n",
       "    <tr>\n",
       "      <td>8.0</td>\n",
       "      <td>81</td>\n",
       "    </tr>\n",
       "    <tr>\n",
       "      <td>9.0</td>\n",
       "      <td>57</td>\n",
       "    </tr>\n",
       "  </tbody>\n",
       "</table>\n",
       "</div>"
      ],
      "text/plain": [
       "               messages\n",
       "user_id month          \n",
       "1000    5.0          22\n",
       "        6.0          60\n",
       "        7.0          75\n",
       "        8.0          81\n",
       "        9.0          57"
      ]
     },
     "execution_count": 16,
     "metadata": {},
     "output_type": "execute_result"
    }
   ],
   "source": [
    "users_messages = messages.merge(users, on='user_id', how='outer')\n",
    "messages_grouped = users_messages.pivot_table(values='id', \n",
    "                       index=['user_id', 'month',], \n",
    "                       aggfunc={'user_id': 'count'})\n",
    "messages_grouped.columns = ['messages']\n",
    "messages_grouped.head()"
   ]
  },
  {
   "cell_type": "markdown",
   "metadata": {},
   "source": [
    "Сводная таблица для длительности звонка и их количества"
   ]
  },
  {
   "cell_type": "code",
   "execution_count": 17,
   "metadata": {},
   "outputs": [
    {
     "data": {
      "text/html": [
       "<div>\n",
       "<style scoped>\n",
       "    .dataframe tbody tr th:only-of-type {\n",
       "        vertical-align: middle;\n",
       "    }\n",
       "\n",
       "    .dataframe tbody tr th {\n",
       "        vertical-align: top;\n",
       "    }\n",
       "\n",
       "    .dataframe thead th {\n",
       "        text-align: right;\n",
       "    }\n",
       "</style>\n",
       "<table border=\"1\" class=\"dataframe\">\n",
       "  <thead>\n",
       "    <tr style=\"text-align: right;\">\n",
       "      <th></th>\n",
       "      <th></th>\n",
       "      <th>duration</th>\n",
       "      <th>calls</th>\n",
       "    </tr>\n",
       "    <tr>\n",
       "      <th>user_id</th>\n",
       "      <th>month</th>\n",
       "      <th></th>\n",
       "      <th></th>\n",
       "    </tr>\n",
       "  </thead>\n",
       "  <tbody>\n",
       "    <tr>\n",
       "      <td rowspan=\"5\" valign=\"top\">1000</td>\n",
       "      <td>5.0</td>\n",
       "      <td>164.0</td>\n",
       "      <td>22</td>\n",
       "    </tr>\n",
       "    <tr>\n",
       "      <td>6.0</td>\n",
       "      <td>187.0</td>\n",
       "      <td>43</td>\n",
       "    </tr>\n",
       "    <tr>\n",
       "      <td>7.0</td>\n",
       "      <td>346.0</td>\n",
       "      <td>47</td>\n",
       "    </tr>\n",
       "    <tr>\n",
       "      <td>8.0</td>\n",
       "      <td>418.0</td>\n",
       "      <td>52</td>\n",
       "    </tr>\n",
       "    <tr>\n",
       "      <td>9.0</td>\n",
       "      <td>478.0</td>\n",
       "      <td>58</td>\n",
       "    </tr>\n",
       "  </tbody>\n",
       "</table>\n",
       "</div>"
      ],
      "text/plain": [
       "               duration  calls\n",
       "user_id month                 \n",
       "1000    5.0       164.0     22\n",
       "        6.0       187.0     43\n",
       "        7.0       346.0     47\n",
       "        8.0       418.0     52\n",
       "        9.0       478.0     58"
      ]
     },
     "execution_count": 17,
     "metadata": {},
     "output_type": "execute_result"
    }
   ],
   "source": [
    "users_calls = calls.merge(users, on='user_id', how='outer')\n",
    "calls_grouped = users_calls.pivot_table(values=['duration'], \n",
    "                       index=['user_id', 'month'], \n",
    "                       aggfunc={'user_id': 'count', 'duration': 'sum'})\n",
    "calls_grouped.columns = ['duration', 'calls']\n",
    "calls_grouped.head()"
   ]
  },
  {
   "cell_type": "markdown",
   "metadata": {},
   "source": [
    "Сводная таблица для значений использованого трафика"
   ]
  },
  {
   "cell_type": "code",
   "execution_count": 18,
   "metadata": {},
   "outputs": [
    {
     "data": {
      "text/html": [
       "<div>\n",
       "<style scoped>\n",
       "    .dataframe tbody tr th:only-of-type {\n",
       "        vertical-align: middle;\n",
       "    }\n",
       "\n",
       "    .dataframe tbody tr th {\n",
       "        vertical-align: top;\n",
       "    }\n",
       "\n",
       "    .dataframe thead th {\n",
       "        text-align: right;\n",
       "    }\n",
       "</style>\n",
       "<table border=\"1\" class=\"dataframe\">\n",
       "  <thead>\n",
       "    <tr style=\"text-align: right;\">\n",
       "      <th></th>\n",
       "      <th></th>\n",
       "      <th>mb_used</th>\n",
       "    </tr>\n",
       "    <tr>\n",
       "      <th>user_id</th>\n",
       "      <th>month</th>\n",
       "      <th></th>\n",
       "    </tr>\n",
       "  </thead>\n",
       "  <tbody>\n",
       "    <tr>\n",
       "      <td rowspan=\"5\" valign=\"top\">1000</td>\n",
       "      <td>5.0</td>\n",
       "      <td>2256.0</td>\n",
       "    </tr>\n",
       "    <tr>\n",
       "      <td>6.0</td>\n",
       "      <td>23257.0</td>\n",
       "    </tr>\n",
       "    <tr>\n",
       "      <td>7.0</td>\n",
       "      <td>14016.0</td>\n",
       "    </tr>\n",
       "    <tr>\n",
       "      <td>8.0</td>\n",
       "      <td>14070.0</td>\n",
       "    </tr>\n",
       "    <tr>\n",
       "      <td>9.0</td>\n",
       "      <td>14581.0</td>\n",
       "    </tr>\n",
       "  </tbody>\n",
       "</table>\n",
       "</div>"
      ],
      "text/plain": [
       "               mb_used\n",
       "user_id month         \n",
       "1000    5.0     2256.0\n",
       "        6.0    23257.0\n",
       "        7.0    14016.0\n",
       "        8.0    14070.0\n",
       "        9.0    14581.0"
      ]
     },
     "execution_count": 18,
     "metadata": {},
     "output_type": "execute_result"
    }
   ],
   "source": [
    "users_internet = internet.merge(users, on='user_id', how='outer')\n",
    "internet_grouped = users_internet.pivot_table(values='mb_used', \n",
    "                       index=['user_id', 'month'], \n",
    "                       aggfunc={'mb_used': 'sum'})\n",
    "internet_grouped.columns = ['mb_used']\n",
    "internet_grouped.head()"
   ]
  },
  {
   "cell_type": "markdown",
   "metadata": {},
   "source": [
    "Объединяем в одну сводную таблицу "
   ]
  },
  {
   "cell_type": "code",
   "execution_count": 19,
   "metadata": {},
   "outputs": [
    {
     "data": {
      "text/html": [
       "<div>\n",
       "<style scoped>\n",
       "    .dataframe tbody tr th:only-of-type {\n",
       "        vertical-align: middle;\n",
       "    }\n",
       "\n",
       "    .dataframe tbody tr th {\n",
       "        vertical-align: top;\n",
       "    }\n",
       "\n",
       "    .dataframe thead th {\n",
       "        text-align: right;\n",
       "    }\n",
       "</style>\n",
       "<table border=\"1\" class=\"dataframe\">\n",
       "  <thead>\n",
       "    <tr style=\"text-align: right;\">\n",
       "      <th></th>\n",
       "      <th>user_id</th>\n",
       "      <th>month</th>\n",
       "      <th>duration</th>\n",
       "      <th>calls</th>\n",
       "      <th>messages</th>\n",
       "      <th>mb_used</th>\n",
       "    </tr>\n",
       "  </thead>\n",
       "  <tbody>\n",
       "    <tr>\n",
       "      <td>0</td>\n",
       "      <td>1000</td>\n",
       "      <td>5.0</td>\n",
       "      <td>164.0</td>\n",
       "      <td>22.0</td>\n",
       "      <td>22.0</td>\n",
       "      <td>2256.0</td>\n",
       "    </tr>\n",
       "    <tr>\n",
       "      <td>1</td>\n",
       "      <td>1000</td>\n",
       "      <td>6.0</td>\n",
       "      <td>187.0</td>\n",
       "      <td>43.0</td>\n",
       "      <td>60.0</td>\n",
       "      <td>23257.0</td>\n",
       "    </tr>\n",
       "    <tr>\n",
       "      <td>2</td>\n",
       "      <td>1000</td>\n",
       "      <td>7.0</td>\n",
       "      <td>346.0</td>\n",
       "      <td>47.0</td>\n",
       "      <td>75.0</td>\n",
       "      <td>14016.0</td>\n",
       "    </tr>\n",
       "    <tr>\n",
       "      <td>3</td>\n",
       "      <td>1000</td>\n",
       "      <td>8.0</td>\n",
       "      <td>418.0</td>\n",
       "      <td>52.0</td>\n",
       "      <td>81.0</td>\n",
       "      <td>14070.0</td>\n",
       "    </tr>\n",
       "    <tr>\n",
       "      <td>4</td>\n",
       "      <td>1000</td>\n",
       "      <td>9.0</td>\n",
       "      <td>478.0</td>\n",
       "      <td>58.0</td>\n",
       "      <td>57.0</td>\n",
       "      <td>14581.0</td>\n",
       "    </tr>\n",
       "  </tbody>\n",
       "</table>\n",
       "</div>"
      ],
      "text/plain": [
       "   user_id  month  duration  calls  messages  mb_used\n",
       "0     1000    5.0     164.0   22.0      22.0   2256.0\n",
       "1     1000    6.0     187.0   43.0      60.0  23257.0\n",
       "2     1000    7.0     346.0   47.0      75.0  14016.0\n",
       "3     1000    8.0     418.0   52.0      81.0  14070.0\n",
       "4     1000    9.0     478.0   58.0      57.0  14581.0"
      ]
     },
     "execution_count": 19,
     "metadata": {},
     "output_type": "execute_result"
    }
   ],
   "source": [
    "all_services = calls_grouped.merge(messages_grouped, how='outer', on=['user_id', 'month'])\n",
    "all_services = all_services.merge(internet_grouped, how='outer', on=['user_id', 'month'])\n",
    "all_services.reset_index(level=[0,1], inplace=True)\n",
    "all_services.head()"
   ]
  },
  {
   "cell_type": "markdown",
   "metadata": {},
   "source": [
    "Добавляем тариф к объединенным данным"
   ]
  },
  {
   "cell_type": "code",
   "execution_count": 20,
   "metadata": {},
   "outputs": [
    {
     "data": {
      "text/html": [
       "<div>\n",
       "<style scoped>\n",
       "    .dataframe tbody tr th:only-of-type {\n",
       "        vertical-align: middle;\n",
       "    }\n",
       "\n",
       "    .dataframe tbody tr th {\n",
       "        vertical-align: top;\n",
       "    }\n",
       "\n",
       "    .dataframe thead th {\n",
       "        text-align: right;\n",
       "    }\n",
       "</style>\n",
       "<table border=\"1\" class=\"dataframe\">\n",
       "  <thead>\n",
       "    <tr style=\"text-align: right;\">\n",
       "      <th></th>\n",
       "      <th>user_id</th>\n",
       "      <th>month</th>\n",
       "      <th>duration</th>\n",
       "      <th>calls</th>\n",
       "      <th>messages</th>\n",
       "      <th>mb_used</th>\n",
       "      <th>tariff_id</th>\n",
       "    </tr>\n",
       "  </thead>\n",
       "  <tbody>\n",
       "    <tr>\n",
       "      <td>0</td>\n",
       "      <td>1000</td>\n",
       "      <td>5.0</td>\n",
       "      <td>164.0</td>\n",
       "      <td>22.0</td>\n",
       "      <td>22.0</td>\n",
       "      <td>2256.0</td>\n",
       "      <td>1</td>\n",
       "    </tr>\n",
       "    <tr>\n",
       "      <td>1</td>\n",
       "      <td>1000</td>\n",
       "      <td>6.0</td>\n",
       "      <td>187.0</td>\n",
       "      <td>43.0</td>\n",
       "      <td>60.0</td>\n",
       "      <td>23257.0</td>\n",
       "      <td>1</td>\n",
       "    </tr>\n",
       "    <tr>\n",
       "      <td>2</td>\n",
       "      <td>1000</td>\n",
       "      <td>7.0</td>\n",
       "      <td>346.0</td>\n",
       "      <td>47.0</td>\n",
       "      <td>75.0</td>\n",
       "      <td>14016.0</td>\n",
       "      <td>1</td>\n",
       "    </tr>\n",
       "    <tr>\n",
       "      <td>3</td>\n",
       "      <td>1000</td>\n",
       "      <td>8.0</td>\n",
       "      <td>418.0</td>\n",
       "      <td>52.0</td>\n",
       "      <td>81.0</td>\n",
       "      <td>14070.0</td>\n",
       "      <td>1</td>\n",
       "    </tr>\n",
       "    <tr>\n",
       "      <td>4</td>\n",
       "      <td>1000</td>\n",
       "      <td>9.0</td>\n",
       "      <td>478.0</td>\n",
       "      <td>58.0</td>\n",
       "      <td>57.0</td>\n",
       "      <td>14581.0</td>\n",
       "      <td>1</td>\n",
       "    </tr>\n",
       "    <tr>\n",
       "      <td>...</td>\n",
       "      <td>...</td>\n",
       "      <td>...</td>\n",
       "      <td>...</td>\n",
       "      <td>...</td>\n",
       "      <td>...</td>\n",
       "      <td>...</td>\n",
       "      <td>...</td>\n",
       "    </tr>\n",
       "    <tr>\n",
       "      <td>3209</td>\n",
       "      <td>1489</td>\n",
       "      <td>9.0</td>\n",
       "      <td>NaN</td>\n",
       "      <td>NaN</td>\n",
       "      <td>32.0</td>\n",
       "      <td>17232.0</td>\n",
       "      <td>0</td>\n",
       "    </tr>\n",
       "    <tr>\n",
       "      <td>3210</td>\n",
       "      <td>1489</td>\n",
       "      <td>10.0</td>\n",
       "      <td>NaN</td>\n",
       "      <td>NaN</td>\n",
       "      <td>21.0</td>\n",
       "      <td>19588.0</td>\n",
       "      <td>0</td>\n",
       "    </tr>\n",
       "    <tr>\n",
       "      <td>3211</td>\n",
       "      <td>1489</td>\n",
       "      <td>11.0</td>\n",
       "      <td>NaN</td>\n",
       "      <td>NaN</td>\n",
       "      <td>20.0</td>\n",
       "      <td>17516.0</td>\n",
       "      <td>0</td>\n",
       "    </tr>\n",
       "    <tr>\n",
       "      <td>3212</td>\n",
       "      <td>1489</td>\n",
       "      <td>12.0</td>\n",
       "      <td>NaN</td>\n",
       "      <td>NaN</td>\n",
       "      <td>35.0</td>\n",
       "      <td>17341.0</td>\n",
       "      <td>0</td>\n",
       "    </tr>\n",
       "    <tr>\n",
       "      <td>3213</td>\n",
       "      <td>1476</td>\n",
       "      <td>4.0</td>\n",
       "      <td>NaN</td>\n",
       "      <td>NaN</td>\n",
       "      <td>NaN</td>\n",
       "      <td>531.0</td>\n",
       "      <td>1</td>\n",
       "    </tr>\n",
       "  </tbody>\n",
       "</table>\n",
       "<p>3214 rows × 7 columns</p>\n",
       "</div>"
      ],
      "text/plain": [
       "      user_id  month  duration  calls  messages  mb_used  tariff_id\n",
       "0        1000    5.0     164.0   22.0      22.0   2256.0          1\n",
       "1        1000    6.0     187.0   43.0      60.0  23257.0          1\n",
       "2        1000    7.0     346.0   47.0      75.0  14016.0          1\n",
       "3        1000    8.0     418.0   52.0      81.0  14070.0          1\n",
       "4        1000    9.0     478.0   58.0      57.0  14581.0          1\n",
       "...       ...    ...       ...    ...       ...      ...        ...\n",
       "3209     1489    9.0       NaN    NaN      32.0  17232.0          0\n",
       "3210     1489   10.0       NaN    NaN      21.0  19588.0          0\n",
       "3211     1489   11.0       NaN    NaN      20.0  17516.0          0\n",
       "3212     1489   12.0       NaN    NaN      35.0  17341.0          0\n",
       "3213     1476    4.0       NaN    NaN       NaN    531.0          1\n",
       "\n",
       "[3214 rows x 7 columns]"
      ]
     },
     "execution_count": 20,
     "metadata": {},
     "output_type": "execute_result"
    }
   ],
   "source": [
    "all_services = all_services.merge(users[['user_id', 'tariff_id']], on='user_id', how='left') \n",
    "all_services\n"
   ]
  },
  {
   "cell_type": "code",
   "execution_count": 21,
   "metadata": {
    "scrolled": true
   },
   "outputs": [
    {
     "name": "stdout",
     "output_type": "stream",
     "text": [
      "<class 'pandas.core.frame.DataFrame'>\n",
      "Int64Index: 3214 entries, 0 to 3213\n",
      "Data columns (total 7 columns):\n",
      "user_id      3214 non-null int64\n",
      "month        3214 non-null float64\n",
      "duration     3174 non-null float64\n",
      "calls        3174 non-null float64\n",
      "messages     2717 non-null float64\n",
      "mb_used      3203 non-null float64\n",
      "tariff_id    3214 non-null int64\n",
      "dtypes: float64(5), int64(2)\n",
      "memory usage: 200.9 KB\n"
     ]
    }
   ],
   "source": [
    "all_services.info() #так как видны пропущенные значения - посмотрим на даные"
   ]
  },
  {
   "cell_type": "markdown",
   "metadata": {},
   "source": [
    "После формирования нового датафрейма появились пропуски. Некоторые пользователи пользовались не всеми услугами (кто-то только интернетом, а кто-то только звонками). Предлагаю заполнить пропуски нулями и посмотреть, что из этого выйдёт. "
   ]
  },
  {
   "cell_type": "code",
   "execution_count": 22,
   "metadata": {},
   "outputs": [],
   "source": [
    "empty_values= ['calls', 'duration', 'messages', 'mb_used']\n",
    "\n",
    "for empty in empty_values:\n",
    "    all_services[empty] = all_services[empty].fillna(0).astype('int64') #заполняем пропуски и переводим в int "
   ]
  },
  {
   "cell_type": "code",
   "execution_count": 23,
   "metadata": {},
   "outputs": [
    {
     "name": "stdout",
     "output_type": "stream",
     "text": [
      "<class 'pandas.core.frame.DataFrame'>\n",
      "Int64Index: 3214 entries, 0 to 3213\n",
      "Data columns (total 7 columns):\n",
      "user_id      3214 non-null int64\n",
      "month        3214 non-null float64\n",
      "duration     3214 non-null int64\n",
      "calls        3214 non-null int64\n",
      "messages     3214 non-null int64\n",
      "mb_used      3214 non-null int64\n",
      "tariff_id    3214 non-null int64\n",
      "dtypes: float64(1), int64(6)\n",
      "memory usage: 200.9 KB\n"
     ]
    }
   ],
   "source": [
    "all_services.info() #проверяем заполнение "
   ]
  },
  {
   "cell_type": "markdown",
   "metadata": {},
   "source": [
    "Создадим функцию посчета выручки в зависимости от тарифа"
   ]
  },
  {
   "cell_type": "code",
   "execution_count": 24,
   "metadata": {
    "scrolled": true
   },
   "outputs": [
    {
     "data": {
      "text/html": [
       "<div>\n",
       "<style scoped>\n",
       "    .dataframe tbody tr th:only-of-type {\n",
       "        vertical-align: middle;\n",
       "    }\n",
       "\n",
       "    .dataframe tbody tr th {\n",
       "        vertical-align: top;\n",
       "    }\n",
       "\n",
       "    .dataframe thead th {\n",
       "        text-align: right;\n",
       "    }\n",
       "</style>\n",
       "<table border=\"1\" class=\"dataframe\">\n",
       "  <thead>\n",
       "    <tr style=\"text-align: right;\">\n",
       "      <th></th>\n",
       "      <th>user_id</th>\n",
       "      <th>month</th>\n",
       "      <th>duration</th>\n",
       "      <th>calls</th>\n",
       "      <th>messages</th>\n",
       "      <th>mb_used</th>\n",
       "      <th>tariff_id</th>\n",
       "      <th>revenue</th>\n",
       "    </tr>\n",
       "  </thead>\n",
       "  <tbody>\n",
       "    <tr>\n",
       "      <td>0</td>\n",
       "      <td>1000</td>\n",
       "      <td>5.0</td>\n",
       "      <td>164</td>\n",
       "      <td>22</td>\n",
       "      <td>22</td>\n",
       "      <td>2256</td>\n",
       "      <td>1</td>\n",
       "      <td>1950.0</td>\n",
       "    </tr>\n",
       "    <tr>\n",
       "      <td>1</td>\n",
       "      <td>1000</td>\n",
       "      <td>6.0</td>\n",
       "      <td>187</td>\n",
       "      <td>43</td>\n",
       "      <td>60</td>\n",
       "      <td>23257</td>\n",
       "      <td>1</td>\n",
       "      <td>1950.0</td>\n",
       "    </tr>\n",
       "    <tr>\n",
       "      <td>2</td>\n",
       "      <td>1000</td>\n",
       "      <td>7.0</td>\n",
       "      <td>346</td>\n",
       "      <td>47</td>\n",
       "      <td>75</td>\n",
       "      <td>14016</td>\n",
       "      <td>1</td>\n",
       "      <td>1950.0</td>\n",
       "    </tr>\n",
       "    <tr>\n",
       "      <td>3</td>\n",
       "      <td>1000</td>\n",
       "      <td>8.0</td>\n",
       "      <td>418</td>\n",
       "      <td>52</td>\n",
       "      <td>81</td>\n",
       "      <td>14070</td>\n",
       "      <td>1</td>\n",
       "      <td>1950.0</td>\n",
       "    </tr>\n",
       "    <tr>\n",
       "      <td>4</td>\n",
       "      <td>1000</td>\n",
       "      <td>9.0</td>\n",
       "      <td>478</td>\n",
       "      <td>58</td>\n",
       "      <td>57</td>\n",
       "      <td>14581</td>\n",
       "      <td>1</td>\n",
       "      <td>1950.0</td>\n",
       "    </tr>\n",
       "    <tr>\n",
       "      <td>5</td>\n",
       "      <td>1000</td>\n",
       "      <td>10.0</td>\n",
       "      <td>363</td>\n",
       "      <td>57</td>\n",
       "      <td>73</td>\n",
       "      <td>14717</td>\n",
       "      <td>1</td>\n",
       "      <td>1950.0</td>\n",
       "    </tr>\n",
       "    <tr>\n",
       "      <td>6</td>\n",
       "      <td>1000</td>\n",
       "      <td>11.0</td>\n",
       "      <td>344</td>\n",
       "      <td>43</td>\n",
       "      <td>58</td>\n",
       "      <td>14768</td>\n",
       "      <td>1</td>\n",
       "      <td>1950.0</td>\n",
       "    </tr>\n",
       "    <tr>\n",
       "      <td>7</td>\n",
       "      <td>1000</td>\n",
       "      <td>12.0</td>\n",
       "      <td>341</td>\n",
       "      <td>46</td>\n",
       "      <td>70</td>\n",
       "      <td>9827</td>\n",
       "      <td>1</td>\n",
       "      <td>1950.0</td>\n",
       "    </tr>\n",
       "    <tr>\n",
       "      <td>8</td>\n",
       "      <td>1001</td>\n",
       "      <td>11.0</td>\n",
       "      <td>444</td>\n",
       "      <td>59</td>\n",
       "      <td>0</td>\n",
       "      <td>18452</td>\n",
       "      <td>0</td>\n",
       "      <td>1350.0</td>\n",
       "    </tr>\n",
       "    <tr>\n",
       "      <td>9</td>\n",
       "      <td>1001</td>\n",
       "      <td>12.0</td>\n",
       "      <td>430</td>\n",
       "      <td>63</td>\n",
       "      <td>0</td>\n",
       "      <td>14053</td>\n",
       "      <td>0</td>\n",
       "      <td>550.0</td>\n",
       "    </tr>\n",
       "  </tbody>\n",
       "</table>\n",
       "</div>"
      ],
      "text/plain": [
       "   user_id  month  duration  calls  messages  mb_used  tariff_id  revenue\n",
       "0     1000    5.0       164     22        22     2256          1   1950.0\n",
       "1     1000    6.0       187     43        60    23257          1   1950.0\n",
       "2     1000    7.0       346     47        75    14016          1   1950.0\n",
       "3     1000    8.0       418     52        81    14070          1   1950.0\n",
       "4     1000    9.0       478     58        57    14581          1   1950.0\n",
       "5     1000   10.0       363     57        73    14717          1   1950.0\n",
       "6     1000   11.0       344     43        58    14768          1   1950.0\n",
       "7     1000   12.0       341     46        70     9827          1   1950.0\n",
       "8     1001   11.0       444     59         0    18452          0   1350.0\n",
       "9     1001   12.0       430     63         0    14053          0    550.0"
      ]
     },
     "execution_count": 24,
     "metadata": {},
     "output_type": "execute_result"
    }
   ],
   "source": [
    "def revenue(row):\n",
    "    duration = row['duration']\n",
    "    calls = row['calls']\n",
    "    msg = row['messages']\n",
    "    mb = row['mb_used']\n",
    "    tariff = row['tariff_id']\n",
    "    added = []\n",
    "    \n",
    "    if tariff == 0:\n",
    "        added.append(duration - tariffs.loc[0, 'minutes_included'])\n",
    "        added.append(mb - tariffs.loc[0, 'mb_per_month_included'])\n",
    "        added.append(msg - tariffs.loc[0, 'messages_included'])\n",
    "        x = [0 if x < 0 else x for x in added]\n",
    "        \n",
    "        return x[2] * tariffs.loc[0, 'rub_per_message'] + np.ceil(x[1] / 1024) * tariffs.loc[0, 'rub_per_gb'] + x[0] * tariffs.loc[0, 'rub_per_minute'] + tariffs.loc[0, 'rub_monthly_fee'] \n",
    "        \n",
    "    else:\n",
    "        added.append(duration - tariffs.loc[1, 'minutes_included'])\n",
    "        added.append(mb - tariffs.loc[1, 'mb_per_month_included'])\n",
    "        added.append(msg - tariffs.loc[1, 'messages_included'])\n",
    "        x = [0 if x < 0 else x for x in added]\n",
    "        return x[2] * tariffs.loc[1, 'rub_per_message'] +  np.ceil(x[1] / 1024) * tariffs.loc[1, 'rub_per_gb'] + x[0] * tariffs.loc[1, 'rub_per_minute'] + tariffs.loc[1, 'rub_monthly_fee']\n",
    "\n",
    "    \n",
    "all_services['revenue'] = all_services.apply(revenue, axis=1)\n",
    "all_services.head(10)   "
   ]
  },
  {
   "cell_type": "markdown",
   "metadata": {},
   "source": [
    "**ВЫВОДЫ**:\n",
    "- В таблице internet удалили столбец из ненадобности \n",
    "- Привели данные в нужный тип. Например user_id в messages в int\n",
    "- Создали переменную для тарифов под цифрами 0 и 1 для удобства агрегации \n",
    "- Интернет привели в Гб поделив на 1024\n",
    "- Посчитали выручку в зависимости от тарифа\n",
    "\n",
    "Посчитали для каждого пользователя:\n",
    "- количество сделанных звонков и израсходованных минут разговора по месяцам;\n",
    "- количество отправленных сообщений по месяцам;\n",
    "- объем израсходованного интернет-трафика по месяцам;\n",
    "- помесячную выручку с каждого пользователя \n"
   ]
  },
  {
   "cell_type": "markdown",
   "metadata": {},
   "source": [
    "##  Анализ данных"
   ]
  },
  {
   "cell_type": "markdown",
   "metadata": {},
   "source": [
    "Опишем поведение клиентов оператора, исходя из выборки и посчитаем:\n",
    "\n",
    "- Сколько минут разговора,\n",
    "- сколько сообщений,\n",
    "- какой объём интернет-трафика\n",
    "- требуется пользователям каждого тарифа в месяц.\n",
    "- Посчитаем среднее количество, дисперсию и стандартное отклонение.\n"
   ]
  },
  {
   "cell_type": "markdown",
   "metadata": {},
   "source": [
    "Создадим сводные таблицы и посмотрим на данные "
   ]
  },
  {
   "cell_type": "code",
   "execution_count": 25,
   "metadata": {},
   "outputs": [],
   "source": [
    "values = ['duration', 'messages', 'mb_used', 'revenue']\n",
    "\n",
    "month_data = all_services.pivot_table(\n",
    "    index=['tariff_id', 'month'],\n",
    "    values=values\n",
    ")"
   ]
  },
  {
   "cell_type": "code",
   "execution_count": 26,
   "metadata": {},
   "outputs": [
    {
     "data": {
      "text/html": [
       "<div>\n",
       "<style scoped>\n",
       "    .dataframe tbody tr th:only-of-type {\n",
       "        vertical-align: middle;\n",
       "    }\n",
       "\n",
       "    .dataframe tbody tr th {\n",
       "        vertical-align: top;\n",
       "    }\n",
       "\n",
       "    .dataframe thead th {\n",
       "        text-align: right;\n",
       "    }\n",
       "</style>\n",
       "<table border=\"1\" class=\"dataframe\">\n",
       "  <thead>\n",
       "    <tr style=\"text-align: right;\">\n",
       "      <th></th>\n",
       "      <th>duration</th>\n",
       "      <th>mb_used</th>\n",
       "      <th>messages</th>\n",
       "      <th>revenue</th>\n",
       "    </tr>\n",
       "    <tr>\n",
       "      <th>month</th>\n",
       "      <th></th>\n",
       "      <th></th>\n",
       "      <th></th>\n",
       "      <th></th>\n",
       "    </tr>\n",
       "  </thead>\n",
       "  <tbody>\n",
       "    <tr>\n",
       "      <td>1.0</td>\n",
       "      <td>209.647059</td>\n",
       "      <td>8524.441176</td>\n",
       "      <td>18.235294</td>\n",
       "      <td>723.352941</td>\n",
       "    </tr>\n",
       "    <tr>\n",
       "      <td>2.0</td>\n",
       "      <td>306.310345</td>\n",
       "      <td>11611.396552</td>\n",
       "      <td>24.086207</td>\n",
       "      <td>835.051724</td>\n",
       "    </tr>\n",
       "    <tr>\n",
       "      <td>3.0</td>\n",
       "      <td>400.532468</td>\n",
       "      <td>15123.857143</td>\n",
       "      <td>31.857143</td>\n",
       "      <td>1178.571429</td>\n",
       "    </tr>\n",
       "    <tr>\n",
       "      <td>4.0</td>\n",
       "      <td>377.000000</td>\n",
       "      <td>13479.482143</td>\n",
       "      <td>30.741071</td>\n",
       "      <td>974.875000</td>\n",
       "    </tr>\n",
       "    <tr>\n",
       "      <td>5.0</td>\n",
       "      <td>398.404255</td>\n",
       "      <td>15825.198582</td>\n",
       "      <td>33.773050</td>\n",
       "      <td>1217.687943</td>\n",
       "    </tr>\n",
       "    <tr>\n",
       "      <td>6.0</td>\n",
       "      <td>406.701220</td>\n",
       "      <td>15814.768293</td>\n",
       "      <td>33.402439</td>\n",
       "      <td>1222.926829</td>\n",
       "    </tr>\n",
       "    <tr>\n",
       "      <td>7.0</td>\n",
       "      <td>419.288557</td>\n",
       "      <td>15763.512438</td>\n",
       "      <td>33.751244</td>\n",
       "      <td>1245.477612</td>\n",
       "    </tr>\n",
       "    <tr>\n",
       "      <td>8.0</td>\n",
       "      <td>433.191489</td>\n",
       "      <td>16632.174468</td>\n",
       "      <td>33.638298</td>\n",
       "      <td>1346.123404</td>\n",
       "    </tr>\n",
       "    <tr>\n",
       "      <td>9.0</td>\n",
       "      <td>440.080769</td>\n",
       "      <td>16324.526923</td>\n",
       "      <td>33.638462</td>\n",
       "      <td>1272.961538</td>\n",
       "    </tr>\n",
       "    <tr>\n",
       "      <td>10.0</td>\n",
       "      <td>438.295918</td>\n",
       "      <td>16778.564626</td>\n",
       "      <td>33.765306</td>\n",
       "      <td>1387.472789</td>\n",
       "    </tr>\n",
       "    <tr>\n",
       "      <td>11.0</td>\n",
       "      <td>447.620253</td>\n",
       "      <td>16917.531646</td>\n",
       "      <td>34.075949</td>\n",
       "      <td>1366.996835</td>\n",
       "    </tr>\n",
       "    <tr>\n",
       "      <td>12.0</td>\n",
       "      <td>491.418398</td>\n",
       "      <td>18136.833828</td>\n",
       "      <td>35.994065</td>\n",
       "      <td>1604.851632</td>\n",
       "    </tr>\n",
       "  </tbody>\n",
       "</table>\n",
       "</div>"
      ],
      "text/plain": [
       "         duration       mb_used   messages      revenue\n",
       "month                                                  \n",
       "1.0    209.647059   8524.441176  18.235294   723.352941\n",
       "2.0    306.310345  11611.396552  24.086207   835.051724\n",
       "3.0    400.532468  15123.857143  31.857143  1178.571429\n",
       "4.0    377.000000  13479.482143  30.741071   974.875000\n",
       "5.0    398.404255  15825.198582  33.773050  1217.687943\n",
       "6.0    406.701220  15814.768293  33.402439  1222.926829\n",
       "7.0    419.288557  15763.512438  33.751244  1245.477612\n",
       "8.0    433.191489  16632.174468  33.638298  1346.123404\n",
       "9.0    440.080769  16324.526923  33.638462  1272.961538\n",
       "10.0   438.295918  16778.564626  33.765306  1387.472789\n",
       "11.0   447.620253  16917.531646  34.075949  1366.996835\n",
       "12.0   491.418398  18136.833828  35.994065  1604.851632"
      ]
     },
     "execution_count": 26,
     "metadata": {},
     "output_type": "execute_result"
    }
   ],
   "source": [
    "smart_per_month = month_data.loc[0]\n",
    "smart_per_month"
   ]
  },
  {
   "cell_type": "code",
   "execution_count": 27,
   "metadata": {},
   "outputs": [
    {
     "data": {
      "text/html": [
       "<div>\n",
       "<style scoped>\n",
       "    .dataframe tbody tr th:only-of-type {\n",
       "        vertical-align: middle;\n",
       "    }\n",
       "\n",
       "    .dataframe tbody tr th {\n",
       "        vertical-align: top;\n",
       "    }\n",
       "\n",
       "    .dataframe thead th {\n",
       "        text-align: right;\n",
       "    }\n",
       "</style>\n",
       "<table border=\"1\" class=\"dataframe\">\n",
       "  <thead>\n",
       "    <tr style=\"text-align: right;\">\n",
       "      <th></th>\n",
       "      <th>duration</th>\n",
       "      <th>mb_used</th>\n",
       "      <th>messages</th>\n",
       "      <th>revenue</th>\n",
       "    </tr>\n",
       "    <tr>\n",
       "      <th>month</th>\n",
       "      <th></th>\n",
       "      <th></th>\n",
       "      <th></th>\n",
       "      <th></th>\n",
       "    </tr>\n",
       "  </thead>\n",
       "  <tbody>\n",
       "    <tr>\n",
       "      <td>1.0</td>\n",
       "      <td>440.888889</td>\n",
       "      <td>13153.555556</td>\n",
       "      <td>33.777778</td>\n",
       "      <td>1950.000000</td>\n",
       "    </tr>\n",
       "    <tr>\n",
       "      <td>2.0</td>\n",
       "      <td>304.666667</td>\n",
       "      <td>11786.958333</td>\n",
       "      <td>21.958333</td>\n",
       "      <td>1975.000000</td>\n",
       "    </tr>\n",
       "    <tr>\n",
       "      <td>3.0</td>\n",
       "      <td>503.081081</td>\n",
       "      <td>17551.972973</td>\n",
       "      <td>32.297297</td>\n",
       "      <td>2014.864865</td>\n",
       "    </tr>\n",
       "    <tr>\n",
       "      <td>4.0</td>\n",
       "      <td>470.072727</td>\n",
       "      <td>16843.800000</td>\n",
       "      <td>31.563636</td>\n",
       "      <td>2001.818182</td>\n",
       "    </tr>\n",
       "    <tr>\n",
       "      <td>5.0</td>\n",
       "      <td>524.865672</td>\n",
       "      <td>19381.194030</td>\n",
       "      <td>37.850746</td>\n",
       "      <td>2061.940299</td>\n",
       "    </tr>\n",
       "    <tr>\n",
       "      <td>6.0</td>\n",
       "      <td>492.428571</td>\n",
       "      <td>18942.238095</td>\n",
       "      <td>41.726190</td>\n",
       "      <td>2041.071429</td>\n",
       "    </tr>\n",
       "    <tr>\n",
       "      <td>7.0</td>\n",
       "      <td>560.296703</td>\n",
       "      <td>20514.648352</td>\n",
       "      <td>49.846154</td>\n",
       "      <td>2121.428571</td>\n",
       "    </tr>\n",
       "    <tr>\n",
       "      <td>8.0</td>\n",
       "      <td>524.570093</td>\n",
       "      <td>19594.065421</td>\n",
       "      <td>48.439252</td>\n",
       "      <td>2083.177570</td>\n",
       "    </tr>\n",
       "    <tr>\n",
       "      <td>9.0</td>\n",
       "      <td>553.643478</td>\n",
       "      <td>19222.208696</td>\n",
       "      <td>52.286957</td>\n",
       "      <td>2024.347826</td>\n",
       "    </tr>\n",
       "    <tr>\n",
       "      <td>10.0</td>\n",
       "      <td>572.829268</td>\n",
       "      <td>20063.869919</td>\n",
       "      <td>58.430894</td>\n",
       "      <td>2067.073171</td>\n",
       "    </tr>\n",
       "    <tr>\n",
       "      <td>11.0</td>\n",
       "      <td>555.805970</td>\n",
       "      <td>19805.313433</td>\n",
       "      <td>55.791045</td>\n",
       "      <td>2093.283582</td>\n",
       "    </tr>\n",
       "    <tr>\n",
       "      <td>12.0</td>\n",
       "      <td>609.129496</td>\n",
       "      <td>21813.589928</td>\n",
       "      <td>60.611511</td>\n",
       "      <td>2138.848921</td>\n",
       "    </tr>\n",
       "  </tbody>\n",
       "</table>\n",
       "</div>"
      ],
      "text/plain": [
       "         duration       mb_used   messages      revenue\n",
       "month                                                  \n",
       "1.0    440.888889  13153.555556  33.777778  1950.000000\n",
       "2.0    304.666667  11786.958333  21.958333  1975.000000\n",
       "3.0    503.081081  17551.972973  32.297297  2014.864865\n",
       "4.0    470.072727  16843.800000  31.563636  2001.818182\n",
       "5.0    524.865672  19381.194030  37.850746  2061.940299\n",
       "6.0    492.428571  18942.238095  41.726190  2041.071429\n",
       "7.0    560.296703  20514.648352  49.846154  2121.428571\n",
       "8.0    524.570093  19594.065421  48.439252  2083.177570\n",
       "9.0    553.643478  19222.208696  52.286957  2024.347826\n",
       "10.0   572.829268  20063.869919  58.430894  2067.073171\n",
       "11.0   555.805970  19805.313433  55.791045  2093.283582\n",
       "12.0   609.129496  21813.589928  60.611511  2138.848921"
      ]
     },
     "execution_count": 27,
     "metadata": {},
     "output_type": "execute_result"
    }
   ],
   "source": [
    "ultra_per_month = month_data.loc[1]\n",
    "ultra_per_month"
   ]
  },
  {
   "cell_type": "markdown",
   "metadata": {},
   "source": [
    "Расчёт средних значений использования услуг в разрезе тарифов."
   ]
  },
  {
   "cell_type": "code",
   "execution_count": 28,
   "metadata": {},
   "outputs": [
    {
     "data": {
      "text/html": [
       "<div>\n",
       "<style scoped>\n",
       "    .dataframe tbody tr th:only-of-type {\n",
       "        vertical-align: middle;\n",
       "    }\n",
       "\n",
       "    .dataframe tbody tr th {\n",
       "        vertical-align: top;\n",
       "    }\n",
       "\n",
       "    .dataframe thead th {\n",
       "        text-align: right;\n",
       "    }\n",
       "</style>\n",
       "<table border=\"1\" class=\"dataframe\">\n",
       "  <thead>\n",
       "    <tr style=\"text-align: right;\">\n",
       "      <th></th>\n",
       "      <th>duration</th>\n",
       "      <th>mb_used</th>\n",
       "      <th>messages</th>\n",
       "      <th>revenue</th>\n",
       "    </tr>\n",
       "    <tr>\n",
       "      <th>tariff_id</th>\n",
       "      <th></th>\n",
       "      <th></th>\n",
       "      <th></th>\n",
       "      <th></th>\n",
       "    </tr>\n",
       "  </thead>\n",
       "  <tbody>\n",
       "    <tr>\n",
       "      <td>0</td>\n",
       "      <td>397.374228</td>\n",
       "      <td>15077.690651</td>\n",
       "      <td>31.413211</td>\n",
       "      <td>1198.029140</td>\n",
       "    </tr>\n",
       "    <tr>\n",
       "      <td>1</td>\n",
       "      <td>509.356551</td>\n",
       "      <td>18222.784561</td>\n",
       "      <td>43.714983</td>\n",
       "      <td>2047.737868</td>\n",
       "    </tr>\n",
       "  </tbody>\n",
       "</table>\n",
       "</div>"
      ],
      "text/plain": [
       "             duration       mb_used   messages      revenue\n",
       "tariff_id                                                  \n",
       "0          397.374228  15077.690651  31.413211  1198.029140\n",
       "1          509.356551  18222.784561  43.714983  2047.737868"
      ]
     },
     "execution_count": 28,
     "metadata": {},
     "output_type": "execute_result"
    }
   ],
   "source": [
    "tariff_usage = month_data.pivot_table(\n",
    "    index='tariff_id',\n",
    "    values=values\n",
    ")\n",
    "tariff_usage"
   ]
  },
  {
   "cell_type": "markdown",
   "metadata": {},
   "source": [
    "Выводы\n",
    "\n",
    "- Клиенты с тарифом УЛЬТРА более активные пользователи, но клиенты тарифа СМАРТ тратят больше на дополнительные услуги. \n",
    "- По идее МЕГАЛАЙНУ тариф УЛЬТРА выгоднее. В СМАРТЕ меньшее количество прибыли."
   ]
  },
  {
   "cell_type": "markdown",
   "metadata": {},
   "source": [
    "Посчитаем среднее количество, дисперсию и стандартное отклонение. Построим гистограммы. Опишем распределения."
   ]
  },
  {
   "cell_type": "code",
   "execution_count": 29,
   "metadata": {},
   "outputs": [],
   "source": [
    "all_services['gb_used'] = all_services['mb_used'] / 1024"
   ]
  },
  {
   "cell_type": "code",
   "execution_count": 30,
   "metadata": {},
   "outputs": [
    {
     "data": {
      "text/html": [
       "<div>\n",
       "<style scoped>\n",
       "    .dataframe tbody tr th:only-of-type {\n",
       "        vertical-align: middle;\n",
       "    }\n",
       "\n",
       "    .dataframe tbody tr th {\n",
       "        vertical-align: top;\n",
       "    }\n",
       "\n",
       "    .dataframe thead tr th {\n",
       "        text-align: left;\n",
       "    }\n",
       "\n",
       "    .dataframe thead tr:last-of-type th {\n",
       "        text-align: right;\n",
       "    }\n",
       "</style>\n",
       "<table border=\"1\" class=\"dataframe\">\n",
       "  <thead>\n",
       "    <tr>\n",
       "      <th></th>\n",
       "      <th colspan=\"3\" halign=\"left\">duration</th>\n",
       "      <th colspan=\"3\" halign=\"left\">mb_used</th>\n",
       "      <th colspan=\"3\" halign=\"left\">messages</th>\n",
       "      <th colspan=\"4\" halign=\"left\">revenue</th>\n",
       "    </tr>\n",
       "    <tr>\n",
       "      <th></th>\n",
       "      <th>median</th>\n",
       "      <th>std</th>\n",
       "      <th>var</th>\n",
       "      <th>median</th>\n",
       "      <th>std</th>\n",
       "      <th>var</th>\n",
       "      <th>median</th>\n",
       "      <th>std</th>\n",
       "      <th>var</th>\n",
       "      <th>mean</th>\n",
       "      <th>median</th>\n",
       "      <th>std</th>\n",
       "      <th>var</th>\n",
       "    </tr>\n",
       "    <tr>\n",
       "      <th>tariff_id</th>\n",
       "      <th></th>\n",
       "      <th></th>\n",
       "      <th></th>\n",
       "      <th></th>\n",
       "      <th></th>\n",
       "      <th></th>\n",
       "      <th></th>\n",
       "      <th></th>\n",
       "      <th></th>\n",
       "      <th></th>\n",
       "      <th></th>\n",
       "      <th></th>\n",
       "      <th></th>\n",
       "    </tr>\n",
       "  </thead>\n",
       "  <tbody>\n",
       "    <tr>\n",
       "      <td>0</td>\n",
       "      <td>435.0</td>\n",
       "      <td>194.871174</td>\n",
       "      <td>37974.774628</td>\n",
       "      <td>16531.0</td>\n",
       "      <td>5877.576978</td>\n",
       "      <td>3.454591e+07</td>\n",
       "      <td>28.0</td>\n",
       "      <td>28.227876</td>\n",
       "      <td>796.812958</td>\n",
       "      <td>1311.615074</td>\n",
       "      <td>1075.0</td>\n",
       "      <td>830.044514</td>\n",
       "      <td>688973.895751</td>\n",
       "    </tr>\n",
       "    <tr>\n",
       "      <td>1</td>\n",
       "      <td>532.0</td>\n",
       "      <td>325.738740</td>\n",
       "      <td>106105.726823</td>\n",
       "      <td>19324.0</td>\n",
       "      <td>10096.317202</td>\n",
       "      <td>1.019356e+08</td>\n",
       "      <td>38.0</td>\n",
       "      <td>47.804457</td>\n",
       "      <td>2285.266143</td>\n",
       "      <td>2071.065990</td>\n",
       "      <td>1950.0</td>\n",
       "      <td>378.802377</td>\n",
       "      <td>143491.240560</td>\n",
       "    </tr>\n",
       "  </tbody>\n",
       "</table>\n",
       "</div>"
      ],
      "text/plain": [
       "          duration                             mb_used                \\\n",
       "            median         std            var   median           std   \n",
       "tariff_id                                                              \n",
       "0            435.0  194.871174   37974.774628  16531.0   5877.576978   \n",
       "1            532.0  325.738740  106105.726823  19324.0  10096.317202   \n",
       "\n",
       "                        messages                              revenue          \\\n",
       "                    var   median        std          var         mean  median   \n",
       "tariff_id                                                                       \n",
       "0          3.454591e+07     28.0  28.227876   796.812958  1311.615074  1075.0   \n",
       "1          1.019356e+08     38.0  47.804457  2285.266143  2071.065990  1950.0   \n",
       "\n",
       "                                      \n",
       "                  std            var  \n",
       "tariff_id                             \n",
       "0          830.044514  688973.895751  \n",
       "1          378.802377  143491.240560  "
      ]
     },
     "execution_count": 30,
     "metadata": {},
     "output_type": "execute_result"
    }
   ],
   "source": [
    "statistics = all_services.pivot_table(index=['tariff_id'], values=['duration', 'mb_used', 'messages', 'revenue'], \n",
    "                    aggfunc={'duration': [np.median, np.var, np.std], \n",
    "                             'mb_used': [np.median, np.var, np.std],\n",
    "                             'messages': [np.median, np.var, np.std],\n",
    "                             'revenue': [np.median, np.var, np.std, np.mean]})\n",
    "statistics"
   ]
  },
  {
   "cell_type": "code",
   "execution_count": 31,
   "metadata": {},
   "outputs": [
    {
     "data": {
      "image/png": "[encoded data removed]",
      "text/plain": [
       "<Figure size 360x360 with 1 Axes>"
      ]
     },
     "metadata": {
      "needs_background": "light"
     },
     "output_type": "display_data"
    },
    {
     "data": {
      "image/png": "[encoded data removed]",
      "text/plain": [
       "<Figure size 360x360 with 1 Axes>"
      ]
     },
     "metadata": {
      "needs_background": "light"
     },
     "output_type": "display_data"
    },
    {
     "data": {
      "image/png": "[encoded data removed]",
      "text/plain": [
       "<Figure size 360x360 with 1 Axes>"
      ]
     },
     "metadata": {
      "needs_background": "light"
     },
     "output_type": "display_data"
    }
   ],
   "source": [
    "for column in ['duration', 'gb_used', 'messages']:    \n",
    "    sns.catplot(x=\"tariff_id\", y=column, kind=\"box\", data=all_services, orient='v')"
   ]
  },
  {
   "cell_type": "code",
   "execution_count": 32,
   "metadata": {},
   "outputs": [
    {
     "data": {
      "image/png": "[encoded data removed]",
      "text/plain": [
       "<Figure size 432x288 with 1 Axes>"
      ]
     },
     "metadata": {
      "needs_background": "light"
     },
     "output_type": "display_data"
    }
   ],
   "source": [
    "for tariff in range(2):\n",
    "    sns.distplot(all_services.query('tariff_id == @tariff')['duration'], kde=False)\n",
    "_ = plt.legend(['ultra', 'smart'])"
   ]
  },
  {
   "cell_type": "code",
   "execution_count": 33,
   "metadata": {},
   "outputs": [
    {
     "data": {
      "image/png": "[encoded data removed]",
      "text/plain": [
       "<Figure size 432x288 with 1 Axes>"
      ]
     },
     "metadata": {
      "needs_background": "light"
     },
     "output_type": "display_data"
    }
   ],
   "source": [
    "for tariff in range(2):\n",
    "    sns.distplot(all_services.query('tariff_id == @tariff')['gb_used'], kde=False)\n",
    "_ = plt.legend(['ultra', 'smart'])"
   ]
  },
  {
   "cell_type": "code",
   "execution_count": 34,
   "metadata": {},
   "outputs": [
    {
     "data": {
      "image/png": "[encoded data removed]",
      "text/plain": [
       "<Figure size 432x288 with 1 Axes>"
      ]
     },
     "metadata": {
      "needs_background": "light"
     },
     "output_type": "display_data"
    }
   ],
   "source": [
    "for tariff in range(2):\n",
    "    sns.distplot(all_services.query('tariff_id == @tariff')['messages'], kde=False)\n",
    "_ = plt.legend(['ultra', 'smart'])"
   ]
  },
  {
   "cell_type": "markdown",
   "metadata": {},
   "source": [
    "Межквартильный размах у тарифа Ультра шире, что означает о больше неоднородности среди пользователе, чем у тарифа Смарт. Медианы так же влияют на значение более дорого тарифа. \n",
    "\n",
    "Скорее всего связано с тем, что когда ты покупаешь более дорогой тариф (где минут много), то о минутах и особо задумываться не надо. Когда же покупаешь более дешевый тариф, то приходится экономить и укладываться в рамки, чтобы не переплачивать."
   ]
  },
  {
   "cell_type": "markdown",
   "metadata": {},
   "source": [
    "## Проверка гипотез"
   ]
  },
  {
   "cell_type": "markdown",
   "metadata": {},
   "source": [
    "1. средняя выручка пользователей тарифов «Ультра» и «Смарт» различаются;\n",
    "2. средняя выручка пользователей из Москвы отличается от выручки пользователей из других регионов."
   ]
  },
  {
   "cell_type": "markdown",
   "metadata": {},
   "source": [
    "Гипотеза 1. Средняя выручка пользователей тарифов «Ультра» и «Смарт» различается.\n",
    "\n",
    "- H0 - гипотеза о том, что средние наших выборок равны\n",
    "- H1 гипотезой будет наша гипотеза \"Средняя выручка пользователей тарифов «Ультра» и «Смарт» различается\".\n",
    "\n",
    "\n",
    "Критический уровень значимости заддадим 0.05( как в тренажере кхе).Вероятность правильности вывода тогда будет - 95% и больше."
   ]
  },
  {
   "cell_type": "code",
   "execution_count": 35,
   "metadata": {},
   "outputs": [
    {
     "name": "stdout",
     "output_type": "stream",
     "text": [
      "P-value: 5.8329360042226996e-08\n",
      "Отвергаем нулевую гипотезу\n"
     ]
    }
   ],
   "source": [
    "from scipy import stats as st\n",
    "alpha = 0.05\n",
    "ultra = ultra_per_month['revenue']\n",
    "smart = smart_per_month['revenue']\n",
    "results = st.ttest_ind(smart, ultra, equal_var = False)\n",
    "print('P-value:', results.pvalue)\n",
    "\n",
    "if (results.pvalue < alpha):\n",
    "    print(\"Отвергаем нулевую гипотезу\")\n",
    "else:\n",
    "    print(\"Не получилось отвергнуть нулевую гипотезу\")"
   ]
  },
  {
   "cell_type": "markdown",
   "metadata": {},
   "source": [
    "**ВЫВОД**\n",
    "\n",
    "Значение p-value указывает на малую вероятность случайного совпадения средних по тарифам. Следовательно, мы отвергаем нулевую гипотезу и с уверенность в 95% можжно заявить, что средние значения выручки по тарифам не совпадут. "
   ]
  },
  {
   "cell_type": "markdown",
   "metadata": {},
   "source": [
    "Гипотеза 2. Средняя выручка пользователей из Москвы отличается от выручки пользователей из других регионов\n",
    "\n",
    "- H0 - средняя выручка пользователей из Москвы равна средней выручке пользователей из других регионов.\n",
    "- H1 - средняя выручка пользователей из Москвы отличается средней выручке пользователей из других регионов.\n",
    "Критический уровень значимости заддадим 0.05. Таким образом вероятность правильности вывода 95% и больше."
   ]
  },
  {
   "cell_type": "code",
   "execution_count": 36,
   "metadata": {},
   "outputs": [
    {
     "name": "stdout",
     "output_type": "stream",
     "text": [
      "P-value: 0.5612228736965572\n",
      "Не получилось отвергнуть нулевую гипотезу\n"
     ]
    }
   ],
   "source": [
    "#создаем две таблицы. В одной будут все клиенты и Мск, во второй - все остальные\n",
    "citys = all_services.merge(users.loc[: , ['user_id', 'city']], on='user_id')\n",
    "\n",
    "moscow = citys.query('city == \"Москва\"')['revenue']\n",
    "regions = citys.query('city != \"Москва\"')['revenue']\n",
    "\n",
    "alpha = 0.05\n",
    "results = st.ttest_ind(moscow, regions, equal_var = False)\n",
    "print('P-value:', results.pvalue)\n",
    "\n",
    "if (results.pvalue < alpha):\n",
    "    print(\"Отвергаем нулевую гипотезу\")\n",
    "else:\n",
    "    print(\"Не получилось отвергнуть нулевую гипотезу\")"
   ]
  },
  {
   "cell_type": "markdown",
   "metadata": {},
   "source": [
    "Значение p-value получилось высоким, значи нулевая гипотеза не может быть овтергнута. "
   ]
  },
  {
   "cell_type": "markdown",
   "metadata": {},
   "source": [
    "## Общий вывод"
   ]
  },
  {
   "cell_type": "markdown",
   "metadata": {},
   "source": [
    "**Была проведена работа по подготовке данных:** \n",
    "- перевели данные в нужный тип\n",
    "- избавились от ненужных столбцов \n",
    "- добавили необходимые столбцы для анализы \n",
    "\n",
    "**Проанализировал данные**:\n",
    "- добавил сводные таблицы\n",
    "- посчитал прибыль по месяцам по клиентам компании\n",
    "\n",
    "**Проверил гипотезы**\n",
    "- средняя выручка пользователей тарифов «Ультра» и «Смарт» различаются\n",
    "- средняя выручка пользователей из Москвы отличается от выручки пользователей из других регионов: \n",
    "\n",
    "\n",
    "**Исходя из проверенных гипотез можем сделать вывод**:\n",
    "- Для МЕГАЛАЙН выгоднее тариф УЛЬТРА, так как прибыль от него выше\n",
    "- Для пользователя тариф СМАРТ выгоднее"
   ]
  }
 ],
 "metadata": {
  "ExecuteTimeLog": [
   {
    "duration": 4,
    "start_time": "2022-01-30T09:59:34.788Z"
   },
   {
    "duration": 1792,
    "start_time": "2022-01-30T10:10:13.378Z"
   },
   {
    "duration": 92,
    "start_time": "2022-01-30T10:10:54.334Z"
   },
   {
    "duration": 80,
    "start_time": "2022-01-30T10:11:21.456Z"
   },
   {
    "duration": 77,
    "start_time": "2022-01-30T10:36:26.436Z"
   },
   {
    "duration": 45,
    "start_time": "2022-01-30T10:36:28.536Z"
   },
   {
    "duration": 9,
    "start_time": "2022-01-30T10:47:06.363Z"
   },
   {
    "duration": 46,
    "start_time": "2022-01-30T10:47:07.766Z"
   },
   {
    "duration": 46,
    "start_time": "2022-01-30T10:47:54.641Z"
   },
   {
    "duration": 77,
    "start_time": "2022-01-30T10:48:16.255Z"
   },
   {
    "duration": 262,
    "start_time": "2022-01-31T16:34:51.791Z"
   },
   {
    "duration": 1450,
    "start_time": "2022-01-31T16:34:57.525Z"
   },
   {
    "duration": 64,
    "start_time": "2022-01-31T16:34:58.977Z"
   },
   {
    "duration": 639,
    "start_time": "2022-01-31T16:34:59.043Z"
   },
   {
    "duration": -166,
    "start_time": "2022-01-31T16:34:59.850Z"
   },
   {
    "duration": -167,
    "start_time": "2022-01-31T16:34:59.852Z"
   },
   {
    "duration": -182,
    "start_time": "2022-01-31T16:34:59.869Z"
   },
   {
    "duration": 58,
    "start_time": "2022-01-31T16:35:24.755Z"
   },
   {
    "duration": 99,
    "start_time": "2022-01-31T16:35:30.846Z"
   },
   {
    "duration": 43,
    "start_time": "2022-01-31T16:36:19.592Z"
   },
   {
    "duration": 11,
    "start_time": "2022-01-31T16:36:22.957Z"
   },
   {
    "duration": 33,
    "start_time": "2022-01-31T16:39:02.020Z"
   },
   {
    "duration": 41,
    "start_time": "2022-01-31T16:39:11.322Z"
   },
   {
    "duration": 11,
    "start_time": "2022-01-31T16:40:51.990Z"
   },
   {
    "duration": 244,
    "start_time": "2022-01-31T16:41:08.516Z"
   },
   {
    "duration": 374,
    "start_time": "2022-01-31T16:41:20.548Z"
   },
   {
    "duration": 60,
    "start_time": "2022-01-31T16:41:20.924Z"
   },
   {
    "duration": 81,
    "start_time": "2022-01-31T16:41:20.986Z"
   },
   {
    "duration": 79,
    "start_time": "2022-01-31T16:41:21.070Z"
   },
   {
    "duration": 62,
    "start_time": "2022-01-31T16:41:21.151Z"
   },
   {
    "duration": 9,
    "start_time": "2022-01-31T16:41:21.215Z"
   },
   {
    "duration": 9,
    "start_time": "2022-01-31T16:41:21.226Z"
   },
   {
    "duration": 4,
    "start_time": "2022-01-31T16:43:38.584Z"
   },
   {
    "duration": 5,
    "start_time": "2022-01-31T16:44:42.566Z"
   },
   {
    "duration": 7,
    "start_time": "2022-01-31T16:44:48.984Z"
   },
   {
    "duration": 10,
    "start_time": "2022-01-31T16:46:34.781Z"
   },
   {
    "duration": 94,
    "start_time": "2022-01-31T16:48:13.723Z"
   },
   {
    "duration": 37,
    "start_time": "2022-01-31T16:49:50.199Z"
   },
   {
    "duration": 47,
    "start_time": "2022-01-31T16:50:25.638Z"
   },
   {
    "duration": 123,
    "start_time": "2022-01-31T16:52:18.500Z"
   },
   {
    "duration": 35,
    "start_time": "2022-01-31T16:52:52.123Z"
   },
   {
    "duration": 35,
    "start_time": "2022-01-31T16:53:08.460Z"
   },
   {
    "duration": 78,
    "start_time": "2022-01-31T16:55:55.776Z"
   },
   {
    "duration": 117,
    "start_time": "2022-01-31T16:56:11.666Z"
   },
   {
    "duration": 95,
    "start_time": "2022-01-31T16:56:19.201Z"
   },
   {
    "duration": 26,
    "start_time": "2022-01-31T16:56:35.491Z"
   },
   {
    "duration": 235,
    "start_time": "2022-01-31T16:56:54.336Z"
   },
   {
    "duration": 394,
    "start_time": "2022-01-31T16:57:07.587Z"
   },
   {
    "duration": 68,
    "start_time": "2022-01-31T16:57:07.983Z"
   },
   {
    "duration": 75,
    "start_time": "2022-01-31T16:57:08.053Z"
   },
   {
    "duration": 82,
    "start_time": "2022-01-31T16:57:08.130Z"
   },
   {
    "duration": 30,
    "start_time": "2022-01-31T16:57:08.215Z"
   },
   {
    "duration": 9,
    "start_time": "2022-01-31T16:57:08.247Z"
   },
   {
    "duration": 8,
    "start_time": "2022-01-31T16:57:08.258Z"
   },
   {
    "duration": 44,
    "start_time": "2022-01-31T16:57:08.270Z"
   },
   {
    "duration": 5,
    "start_time": "2022-01-31T16:57:08.317Z"
   },
   {
    "duration": 9,
    "start_time": "2022-01-31T16:57:08.324Z"
   },
   {
    "duration": 4,
    "start_time": "2022-01-31T16:57:08.335Z"
   },
   {
    "duration": 73,
    "start_time": "2022-01-31T16:57:08.340Z"
   },
   {
    "duration": 126,
    "start_time": "2022-01-31T16:57:08.415Z"
   },
   {
    "duration": 34,
    "start_time": "2022-01-31T16:57:08.543Z"
   },
   {
    "duration": 83,
    "start_time": "2022-01-31T16:57:08.579Z"
   },
   {
    "duration": 128,
    "start_time": "2022-01-31T16:57:08.664Z"
   },
   {
    "duration": 80,
    "start_time": "2022-01-31T16:57:08.794Z"
   },
   {
    "duration": 38,
    "start_time": "2022-01-31T16:57:08.876Z"
   },
   {
    "duration": 237,
    "start_time": "2022-01-31T16:57:08.916Z"
   },
   {
    "duration": 7,
    "start_time": "2022-01-31T17:43:10.355Z"
   },
   {
    "duration": 20,
    "start_time": "2022-01-31T17:43:11.569Z"
   },
   {
    "duration": 7,
    "start_time": "2022-01-31T17:43:45.931Z"
   },
   {
    "duration": 7,
    "start_time": "2022-01-31T17:44:23.095Z"
   },
   {
    "duration": 13,
    "start_time": "2022-01-31T17:55:10.434Z"
   },
   {
    "duration": 17,
    "start_time": "2022-01-31T17:55:19.848Z"
   },
   {
    "duration": 8,
    "start_time": "2022-01-31T17:55:33.944Z"
   },
   {
    "duration": 10,
    "start_time": "2022-01-31T17:55:56.574Z"
   },
   {
    "duration": 8,
    "start_time": "2022-01-31T17:56:00.073Z"
   },
   {
    "duration": 7,
    "start_time": "2022-01-31T18:01:31.353Z"
   },
   {
    "duration": 7,
    "start_time": "2022-01-31T18:01:38.700Z"
   },
   {
    "duration": 6,
    "start_time": "2022-01-31T18:01:59.557Z"
   },
   {
    "duration": 309,
    "start_time": "2022-01-31T18:04:04.817Z"
   },
   {
    "duration": 373,
    "start_time": "2022-01-31T18:05:23.342Z"
   },
   {
    "duration": 61,
    "start_time": "2022-01-31T18:05:23.717Z"
   },
   {
    "duration": 87,
    "start_time": "2022-01-31T18:05:23.780Z"
   },
   {
    "duration": 76,
    "start_time": "2022-01-31T18:05:23.869Z"
   },
   {
    "duration": 31,
    "start_time": "2022-01-31T18:05:23.947Z"
   },
   {
    "duration": 38,
    "start_time": "2022-01-31T18:05:23.980Z"
   },
   {
    "duration": 8,
    "start_time": "2022-01-31T18:05:24.020Z"
   },
   {
    "duration": 5,
    "start_time": "2022-01-31T18:05:24.029Z"
   },
   {
    "duration": 4,
    "start_time": "2022-01-31T18:05:24.037Z"
   },
   {
    "duration": 7,
    "start_time": "2022-01-31T18:05:24.043Z"
   },
   {
    "duration": 12,
    "start_time": "2022-01-31T18:05:24.051Z"
   },
   {
    "duration": 4,
    "start_time": "2022-01-31T18:05:24.064Z"
   },
   {
    "duration": 74,
    "start_time": "2022-01-31T18:05:24.070Z"
   },
   {
    "duration": 145,
    "start_time": "2022-01-31T18:05:24.146Z"
   },
   {
    "duration": 37,
    "start_time": "2022-01-31T18:05:24.292Z"
   },
   {
    "duration": 54,
    "start_time": "2022-01-31T18:05:24.331Z"
   },
   {
    "duration": 126,
    "start_time": "2022-01-31T18:05:24.387Z"
   },
   {
    "duration": 71,
    "start_time": "2022-01-31T18:05:24.514Z"
   },
   {
    "duration": 40,
    "start_time": "2022-01-31T18:05:24.587Z"
   },
   {
    "duration": 20,
    "start_time": "2022-01-31T18:05:24.629Z"
   },
   {
    "duration": 6,
    "start_time": "2022-01-31T18:05:24.651Z"
   },
   {
    "duration": 8,
    "start_time": "2022-01-31T18:05:24.659Z"
   },
   {
    "duration": 9,
    "start_time": "2022-01-31T18:05:24.668Z"
   },
   {
    "duration": 37,
    "start_time": "2022-01-31T18:05:24.679Z"
   },
   {
    "duration": 7,
    "start_time": "2022-01-31T18:05:24.718Z"
   },
   {
    "duration": 330,
    "start_time": "2022-01-31T18:05:24.727Z"
   },
   {
    "duration": 107,
    "start_time": "2022-01-31T18:12:09.116Z"
   },
   {
    "duration": 350,
    "start_time": "2022-01-31T18:16:45.655Z"
   },
   {
    "duration": 63,
    "start_time": "2022-01-31T18:16:46.007Z"
   },
   {
    "duration": 83,
    "start_time": "2022-01-31T18:16:46.072Z"
   },
   {
    "duration": 70,
    "start_time": "2022-01-31T18:16:46.157Z"
   },
   {
    "duration": 29,
    "start_time": "2022-01-31T18:16:46.228Z"
   },
   {
    "duration": 7,
    "start_time": "2022-01-31T18:16:46.259Z"
   },
   {
    "duration": 8,
    "start_time": "2022-01-31T18:16:46.267Z"
   },
   {
    "duration": 4,
    "start_time": "2022-01-31T18:16:46.313Z"
   },
   {
    "duration": 5,
    "start_time": "2022-01-31T18:16:46.319Z"
   },
   {
    "duration": 8,
    "start_time": "2022-01-31T18:16:46.326Z"
   },
   {
    "duration": 11,
    "start_time": "2022-01-31T18:16:46.336Z"
   },
   {
    "duration": 4,
    "start_time": "2022-01-31T18:16:46.349Z"
   },
   {
    "duration": 65,
    "start_time": "2022-01-31T18:16:46.354Z"
   },
   {
    "duration": 131,
    "start_time": "2022-01-31T18:16:46.421Z"
   },
   {
    "duration": 34,
    "start_time": "2022-01-31T18:16:46.554Z"
   },
   {
    "duration": 80,
    "start_time": "2022-01-31T18:16:46.590Z"
   },
   {
    "duration": 132,
    "start_time": "2022-01-31T18:16:46.672Z"
   },
   {
    "duration": 77,
    "start_time": "2022-01-31T18:16:46.806Z"
   },
   {
    "duration": 42,
    "start_time": "2022-01-31T18:16:46.885Z"
   },
   {
    "duration": 19,
    "start_time": "2022-01-31T18:16:46.929Z"
   },
   {
    "duration": 6,
    "start_time": "2022-01-31T18:16:46.950Z"
   },
   {
    "duration": 9,
    "start_time": "2022-01-31T18:16:46.958Z"
   },
   {
    "duration": 6,
    "start_time": "2022-01-31T18:16:46.970Z"
   },
   {
    "duration": 35,
    "start_time": "2022-01-31T18:16:46.977Z"
   },
   {
    "duration": 11,
    "start_time": "2022-01-31T18:16:47.014Z"
   },
   {
    "duration": 303,
    "start_time": "2022-01-31T18:16:47.027Z"
   },
   {
    "duration": 12,
    "start_time": "2022-01-31T18:20:29.904Z"
   },
   {
    "duration": 10,
    "start_time": "2022-01-31T18:20:43.067Z"
   },
   {
    "duration": 10,
    "start_time": "2022-01-31T18:20:53.407Z"
   },
   {
    "duration": 14,
    "start_time": "2022-01-31T18:21:16.932Z"
   },
   {
    "duration": 6844,
    "start_time": "2022-01-31T18:28:14.903Z"
   },
   {
    "duration": 357,
    "start_time": "2022-01-31T18:28:49.505Z"
   },
   {
    "duration": 62,
    "start_time": "2022-01-31T18:28:49.864Z"
   },
   {
    "duration": 58,
    "start_time": "2022-01-31T18:28:49.928Z"
   },
   {
    "duration": 80,
    "start_time": "2022-01-31T18:28:49.988Z"
   },
   {
    "duration": 59,
    "start_time": "2022-01-31T18:28:50.070Z"
   },
   {
    "duration": 7,
    "start_time": "2022-01-31T18:28:50.130Z"
   },
   {
    "duration": 8,
    "start_time": "2022-01-31T18:28:50.139Z"
   },
   {
    "duration": 3,
    "start_time": "2022-01-31T18:28:50.149Z"
   },
   {
    "duration": 6,
    "start_time": "2022-01-31T18:28:50.154Z"
   },
   {
    "duration": 7,
    "start_time": "2022-01-31T18:28:50.162Z"
   },
   {
    "duration": 46,
    "start_time": "2022-01-31T18:28:50.170Z"
   },
   {
    "duration": 4,
    "start_time": "2022-01-31T18:28:50.217Z"
   },
   {
    "duration": 34,
    "start_time": "2022-01-31T18:28:50.222Z"
   },
   {
    "duration": 134,
    "start_time": "2022-01-31T18:28:50.257Z"
   },
   {
    "duration": 44,
    "start_time": "2022-01-31T18:28:50.393Z"
   },
   {
    "duration": 57,
    "start_time": "2022-01-31T18:28:50.438Z"
   },
   {
    "duration": 88,
    "start_time": "2022-01-31T18:28:50.513Z"
   },
   {
    "duration": 79,
    "start_time": "2022-01-31T18:28:50.602Z"
   },
   {
    "duration": 35,
    "start_time": "2022-01-31T18:28:50.683Z"
   },
   {
    "duration": 18,
    "start_time": "2022-01-31T18:28:50.720Z"
   },
   {
    "duration": 6,
    "start_time": "2022-01-31T18:28:50.740Z"
   },
   {
    "duration": 8,
    "start_time": "2022-01-31T18:28:50.747Z"
   },
   {
    "duration": 6,
    "start_time": "2022-01-31T18:28:50.758Z"
   },
   {
    "duration": 6,
    "start_time": "2022-01-31T18:28:50.766Z"
   },
   {
    "duration": 50,
    "start_time": "2022-01-31T18:28:50.774Z"
   },
   {
    "duration": 288,
    "start_time": "2022-01-31T18:28:50.826Z"
   },
   {
    "duration": 14,
    "start_time": "2022-01-31T18:28:51.115Z"
   },
   {
    "duration": 9,
    "start_time": "2022-01-31T18:28:51.130Z"
   },
   {
    "duration": 10,
    "start_time": "2022-01-31T18:28:51.141Z"
   },
   {
    "duration": 14,
    "start_time": "2022-01-31T18:28:51.152Z"
   },
   {
    "duration": 4,
    "start_time": "2022-01-31T18:30:47.640Z"
   },
   {
    "duration": 46,
    "start_time": "2022-01-31T18:30:53.916Z"
   },
   {
    "duration": 1092,
    "start_time": "2022-01-31T18:31:01.686Z"
   },
   {
    "duration": 328,
    "start_time": "2022-01-31T18:31:12.391Z"
   },
   {
    "duration": 316,
    "start_time": "2022-01-31T18:31:19.707Z"
   },
   {
    "duration": 328,
    "start_time": "2022-01-31T18:31:26.674Z"
   },
   {
    "duration": 6,
    "start_time": "2022-01-31T18:34:05.877Z"
   },
   {
    "duration": 14,
    "start_time": "2022-01-31T18:34:53.961Z"
   },
   {
    "duration": 381,
    "start_time": "2022-01-31T19:01:12.394Z"
   },
   {
    "duration": 58,
    "start_time": "2022-01-31T19:01:12.777Z"
   },
   {
    "duration": 74,
    "start_time": "2022-01-31T19:01:12.838Z"
   },
   {
    "duration": 58,
    "start_time": "2022-01-31T19:01:12.914Z"
   },
   {
    "duration": 61,
    "start_time": "2022-01-31T19:01:12.973Z"
   },
   {
    "duration": 9,
    "start_time": "2022-01-31T19:01:13.036Z"
   },
   {
    "duration": 8,
    "start_time": "2022-01-31T19:01:13.046Z"
   },
   {
    "duration": 4,
    "start_time": "2022-01-31T19:01:13.057Z"
   },
   {
    "duration": 12,
    "start_time": "2022-01-31T19:01:13.062Z"
   },
   {
    "duration": 40,
    "start_time": "2022-01-31T19:01:13.076Z"
   },
   {
    "duration": 9,
    "start_time": "2022-01-31T19:01:13.118Z"
   },
   {
    "duration": 4,
    "start_time": "2022-01-31T19:01:13.129Z"
   },
   {
    "duration": 35,
    "start_time": "2022-01-31T19:01:13.135Z"
   },
   {
    "duration": 160,
    "start_time": "2022-01-31T19:01:13.172Z"
   },
   {
    "duration": 36,
    "start_time": "2022-01-31T19:01:13.334Z"
   },
   {
    "duration": 81,
    "start_time": "2022-01-31T19:01:13.372Z"
   },
   {
    "duration": 104,
    "start_time": "2022-01-31T19:01:13.455Z"
   },
   {
    "duration": 84,
    "start_time": "2022-01-31T19:01:13.561Z"
   },
   {
    "duration": 26,
    "start_time": "2022-01-31T19:01:13.648Z"
   },
   {
    "duration": 37,
    "start_time": "2022-01-31T19:01:13.676Z"
   },
   {
    "duration": 8,
    "start_time": "2022-01-31T19:01:13.715Z"
   },
   {
    "duration": 11,
    "start_time": "2022-01-31T19:01:13.725Z"
   },
   {
    "duration": 6,
    "start_time": "2022-01-31T19:01:13.740Z"
   },
   {
    "duration": 7,
    "start_time": "2022-01-31T19:01:13.749Z"
   },
   {
    "duration": 8,
    "start_time": "2022-01-31T19:01:13.758Z"
   },
   {
    "duration": 349,
    "start_time": "2022-01-31T19:01:13.768Z"
   },
   {
    "duration": 12,
    "start_time": "2022-01-31T19:01:14.119Z"
   },
   {
    "duration": 9,
    "start_time": "2022-01-31T19:01:14.133Z"
   },
   {
    "duration": 11,
    "start_time": "2022-01-31T19:01:14.143Z"
   },
   {
    "duration": 14,
    "start_time": "2022-01-31T19:01:14.156Z"
   },
   {
    "duration": 6,
    "start_time": "2022-01-31T19:01:14.171Z"
   },
   {
    "duration": 81,
    "start_time": "2022-01-31T19:01:14.178Z"
   },
   {
    "duration": 1005,
    "start_time": "2022-01-31T19:01:14.260Z"
   },
   {
    "duration": 331,
    "start_time": "2022-01-31T19:01:15.266Z"
   },
   {
    "duration": 318,
    "start_time": "2022-01-31T19:01:15.599Z"
   },
   {
    "duration": 277,
    "start_time": "2022-01-31T19:01:15.919Z"
   },
   {
    "duration": 5,
    "start_time": "2022-01-31T19:01:16.198Z"
   },
   {
    "duration": 15,
    "start_time": "2022-01-31T19:01:16.212Z"
   },
   {
    "duration": 6,
    "start_time": "2022-01-31T19:20:55.656Z"
   },
   {
    "duration": 397,
    "start_time": "2022-01-31T19:21:12.966Z"
   },
   {
    "duration": 67,
    "start_time": "2022-01-31T19:21:13.365Z"
   },
   {
    "duration": 57,
    "start_time": "2022-01-31T19:21:13.434Z"
   },
   {
    "duration": 68,
    "start_time": "2022-01-31T19:21:13.513Z"
   },
   {
    "duration": 67,
    "start_time": "2022-01-31T19:21:13.582Z"
   },
   {
    "duration": 7,
    "start_time": "2022-01-31T19:21:13.650Z"
   },
   {
    "duration": 13,
    "start_time": "2022-01-31T19:21:13.658Z"
   },
   {
    "duration": 3,
    "start_time": "2022-01-31T19:21:13.674Z"
   },
   {
    "duration": 39,
    "start_time": "2022-01-31T19:21:13.679Z"
   },
   {
    "duration": 11,
    "start_time": "2022-01-31T19:21:13.721Z"
   },
   {
    "duration": 10,
    "start_time": "2022-01-31T19:21:13.734Z"
   },
   {
    "duration": 5,
    "start_time": "2022-01-31T19:21:13.745Z"
   },
   {
    "duration": 80,
    "start_time": "2022-01-31T19:21:13.751Z"
   },
   {
    "duration": 142,
    "start_time": "2022-01-31T19:21:13.832Z"
   },
   {
    "duration": 49,
    "start_time": "2022-01-31T19:21:13.976Z"
   },
   {
    "duration": 59,
    "start_time": "2022-01-31T19:21:14.027Z"
   },
   {
    "duration": 153,
    "start_time": "2022-01-31T19:21:14.088Z"
   },
   {
    "duration": 84,
    "start_time": "2022-01-31T19:21:14.243Z"
   },
   {
    "duration": 24,
    "start_time": "2022-01-31T19:21:14.329Z"
   },
   {
    "duration": 18,
    "start_time": "2022-01-31T19:21:14.354Z"
   },
   {
    "duration": 7,
    "start_time": "2022-01-31T19:21:14.373Z"
   },
   {
    "duration": 39,
    "start_time": "2022-01-31T19:21:14.381Z"
   },
   {
    "duration": 6,
    "start_time": "2022-01-31T19:21:14.426Z"
   },
   {
    "duration": 6,
    "start_time": "2022-01-31T19:21:14.434Z"
   },
   {
    "duration": 7,
    "start_time": "2022-01-31T19:21:14.442Z"
   },
   {
    "duration": 346,
    "start_time": "2022-01-31T19:21:14.451Z"
   },
   {
    "duration": 30,
    "start_time": "2022-01-31T19:21:14.799Z"
   },
   {
    "duration": 12,
    "start_time": "2022-01-31T19:21:14.830Z"
   },
   {
    "duration": 11,
    "start_time": "2022-01-31T19:21:14.844Z"
   },
   {
    "duration": 15,
    "start_time": "2022-01-31T19:21:14.857Z"
   },
   {
    "duration": 48,
    "start_time": "2022-01-31T19:21:14.874Z"
   },
   {
    "duration": 50,
    "start_time": "2022-01-31T19:21:14.925Z"
   },
   {
    "duration": 1007,
    "start_time": "2022-01-31T19:21:14.977Z"
   },
   {
    "duration": 360,
    "start_time": "2022-01-31T19:21:15.986Z"
   },
   {
    "duration": 431,
    "start_time": "2022-01-31T19:21:16.348Z"
   },
   {
    "duration": 291,
    "start_time": "2022-01-31T19:21:16.781Z"
   },
   {
    "duration": 5,
    "start_time": "2022-01-31T19:21:17.074Z"
   },
   {
    "duration": 31,
    "start_time": "2022-01-31T19:21:17.081Z"
   },
   {
    "duration": 343,
    "start_time": "2022-01-31T19:24:48.685Z"
   },
   {
    "duration": 55,
    "start_time": "2022-01-31T19:24:49.030Z"
   },
   {
    "duration": 65,
    "start_time": "2022-01-31T19:24:49.087Z"
   },
   {
    "duration": 67,
    "start_time": "2022-01-31T19:24:49.154Z"
   },
   {
    "duration": 28,
    "start_time": "2022-01-31T19:24:49.222Z"
   },
   {
    "duration": 7,
    "start_time": "2022-01-31T19:24:49.251Z"
   },
   {
    "duration": 8,
    "start_time": "2022-01-31T19:24:49.259Z"
   },
   {
    "duration": 3,
    "start_time": "2022-01-31T19:24:49.269Z"
   },
   {
    "duration": 41,
    "start_time": "2022-01-31T19:24:49.274Z"
   },
   {
    "duration": 7,
    "start_time": "2022-01-31T19:24:49.316Z"
   },
   {
    "duration": 8,
    "start_time": "2022-01-31T19:24:49.325Z"
   },
   {
    "duration": 3,
    "start_time": "2022-01-31T19:24:49.335Z"
   },
   {
    "duration": 31,
    "start_time": "2022-01-31T19:24:49.339Z"
   },
   {
    "duration": 147,
    "start_time": "2022-01-31T19:24:49.371Z"
   },
   {
    "duration": 30,
    "start_time": "2022-01-31T19:24:49.520Z"
   },
   {
    "duration": 71,
    "start_time": "2022-01-31T19:24:49.551Z"
   },
   {
    "duration": 95,
    "start_time": "2022-01-31T19:24:49.623Z"
   },
   {
    "duration": 69,
    "start_time": "2022-01-31T19:24:49.719Z"
   },
   {
    "duration": 38,
    "start_time": "2022-01-31T19:24:49.790Z"
   },
   {
    "duration": 17,
    "start_time": "2022-01-31T19:24:49.830Z"
   },
   {
    "duration": 6,
    "start_time": "2022-01-31T19:24:49.849Z"
   },
   {
    "duration": 5,
    "start_time": "2022-01-31T19:24:49.856Z"
   },
   {
    "duration": 6,
    "start_time": "2022-01-31T19:24:49.865Z"
   },
   {
    "duration": 39,
    "start_time": "2022-01-31T19:24:49.873Z"
   },
   {
    "duration": 298,
    "start_time": "2022-01-31T19:24:49.914Z"
   },
   {
    "duration": 11,
    "start_time": "2022-01-31T19:24:50.213Z"
   },
   {
    "duration": 9,
    "start_time": "2022-01-31T19:24:50.226Z"
   },
   {
    "duration": 9,
    "start_time": "2022-01-31T19:24:50.237Z"
   },
   {
    "duration": 13,
    "start_time": "2022-01-31T19:24:50.248Z"
   },
   {
    "duration": 6,
    "start_time": "2022-01-31T19:24:50.262Z"
   },
   {
    "duration": 76,
    "start_time": "2022-01-31T19:24:50.269Z"
   },
   {
    "duration": 906,
    "start_time": "2022-01-31T19:24:50.346Z"
   },
   {
    "duration": 312,
    "start_time": "2022-01-31T19:24:51.254Z"
   },
   {
    "duration": 308,
    "start_time": "2022-01-31T19:24:51.567Z"
   },
   {
    "duration": 256,
    "start_time": "2022-01-31T19:24:51.877Z"
   },
   {
    "duration": 6,
    "start_time": "2022-01-31T19:24:52.135Z"
   },
   {
    "duration": 13,
    "start_time": "2022-01-31T19:24:52.142Z"
   },
   {
    "duration": 351,
    "start_time": "2022-01-31T19:27:38.971Z"
   },
   {
    "duration": 56,
    "start_time": "2022-01-31T19:27:39.324Z"
   },
   {
    "duration": 77,
    "start_time": "2022-01-31T19:27:39.382Z"
   },
   {
    "duration": 63,
    "start_time": "2022-01-31T19:27:39.461Z"
   },
   {
    "duration": 28,
    "start_time": "2022-01-31T19:27:39.526Z"
   },
   {
    "duration": 10,
    "start_time": "2022-01-31T19:27:39.556Z"
   },
   {
    "duration": 46,
    "start_time": "2022-01-31T19:27:39.568Z"
   },
   {
    "duration": 4,
    "start_time": "2022-01-31T19:27:39.616Z"
   },
   {
    "duration": 7,
    "start_time": "2022-01-31T19:27:39.623Z"
   },
   {
    "duration": 9,
    "start_time": "2022-01-31T19:27:39.632Z"
   },
   {
    "duration": 10,
    "start_time": "2022-01-31T19:27:39.643Z"
   },
   {
    "duration": 5,
    "start_time": "2022-01-31T19:27:39.655Z"
   },
   {
    "duration": 82,
    "start_time": "2022-01-31T19:27:39.662Z"
   },
   {
    "duration": 147,
    "start_time": "2022-01-31T19:27:39.745Z"
   },
   {
    "duration": 46,
    "start_time": "2022-01-31T19:27:39.893Z"
   },
   {
    "duration": 76,
    "start_time": "2022-01-31T19:27:39.940Z"
   },
   {
    "duration": 118,
    "start_time": "2022-01-31T19:27:40.018Z"
   },
   {
    "duration": 86,
    "start_time": "2022-01-31T19:27:40.138Z"
   },
   {
    "duration": 23,
    "start_time": "2022-01-31T19:27:40.226Z"
   },
   {
    "duration": 17,
    "start_time": "2022-01-31T19:27:40.251Z"
   },
   {
    "duration": 6,
    "start_time": "2022-01-31T19:27:40.270Z"
   },
   {
    "duration": 6,
    "start_time": "2022-01-31T19:27:40.278Z"
   },
   {
    "duration": 6,
    "start_time": "2022-01-31T19:27:40.312Z"
   },
   {
    "duration": 304,
    "start_time": "2022-01-31T19:27:40.320Z"
   },
   {
    "duration": 14,
    "start_time": "2022-01-31T19:27:40.626Z"
   },
   {
    "duration": 11,
    "start_time": "2022-01-31T19:27:40.641Z"
   },
   {
    "duration": 10,
    "start_time": "2022-01-31T19:27:40.657Z"
   },
   {
    "duration": 47,
    "start_time": "2022-01-31T19:27:40.669Z"
   },
   {
    "duration": 4,
    "start_time": "2022-01-31T19:27:40.718Z"
   },
   {
    "duration": 49,
    "start_time": "2022-01-31T19:27:40.724Z"
   },
   {
    "duration": 981,
    "start_time": "2022-01-31T19:27:40.774Z"
   },
   {
    "duration": 316,
    "start_time": "2022-01-31T19:27:41.757Z"
   },
   {
    "duration": 397,
    "start_time": "2022-01-31T19:27:42.075Z"
   },
   {
    "duration": 267,
    "start_time": "2022-01-31T19:27:42.474Z"
   },
   {
    "duration": 7,
    "start_time": "2022-01-31T19:27:42.743Z"
   },
   {
    "duration": 21,
    "start_time": "2022-01-31T19:27:42.752Z"
   },
   {
    "duration": 1390,
    "start_time": "2022-02-02T17:23:34.781Z"
   },
   {
    "duration": 54,
    "start_time": "2022-02-02T17:23:36.172Z"
   },
   {
    "duration": 77,
    "start_time": "2022-02-02T17:23:36.228Z"
   },
   {
    "duration": 48,
    "start_time": "2022-02-02T17:23:36.307Z"
   },
   {
    "duration": 29,
    "start_time": "2022-02-02T17:23:36.372Z"
   },
   {
    "duration": 9,
    "start_time": "2022-02-02T17:23:36.403Z"
   },
   {
    "duration": 11,
    "start_time": "2022-02-02T17:23:36.414Z"
   },
   {
    "duration": 4,
    "start_time": "2022-02-02T17:23:36.426Z"
   },
   {
    "duration": 40,
    "start_time": "2022-02-02T17:23:36.433Z"
   },
   {
    "duration": 8,
    "start_time": "2022-02-02T17:23:36.475Z"
   },
   {
    "duration": 9,
    "start_time": "2022-02-02T17:23:36.485Z"
   },
   {
    "duration": 8,
    "start_time": "2022-02-02T17:23:36.495Z"
   },
   {
    "duration": 29,
    "start_time": "2022-02-02T17:23:36.504Z"
   },
   {
    "duration": 143,
    "start_time": "2022-02-02T17:23:36.534Z"
   },
   {
    "duration": 30,
    "start_time": "2022-02-02T17:23:36.678Z"
   },
   {
    "duration": 102,
    "start_time": "2022-02-02T17:23:36.710Z"
   },
   {
    "duration": 133,
    "start_time": "2022-02-02T17:23:36.813Z"
   },
   {
    "duration": 109,
    "start_time": "2022-02-02T17:23:36.947Z"
   },
   {
    "duration": 30,
    "start_time": "2022-02-02T17:23:37.058Z"
   },
   {
    "duration": 16,
    "start_time": "2022-02-02T17:23:37.089Z"
   },
   {
    "duration": 6,
    "start_time": "2022-02-02T17:23:37.106Z"
   },
   {
    "duration": 6,
    "start_time": "2022-02-02T17:23:37.114Z"
   },
   {
    "duration": 6,
    "start_time": "2022-02-02T17:23:37.121Z"
   },
   {
    "duration": 295,
    "start_time": "2022-02-02T17:23:37.128Z"
   },
   {
    "duration": 10,
    "start_time": "2022-02-02T17:23:37.425Z"
   },
   {
    "duration": 9,
    "start_time": "2022-02-02T17:23:37.436Z"
   },
   {
    "duration": 11,
    "start_time": "2022-02-02T17:23:37.447Z"
   },
   {
    "duration": 11,
    "start_time": "2022-02-02T17:23:37.471Z"
   },
   {
    "duration": 5,
    "start_time": "2022-02-02T17:23:37.483Z"
   },
   {
    "duration": 41,
    "start_time": "2022-02-02T17:23:37.489Z"
   },
   {
    "duration": 910,
    "start_time": "2022-02-02T17:23:37.531Z"
   },
   {
    "duration": 261,
    "start_time": "2022-02-02T17:23:38.443Z"
   },
   {
    "duration": 260,
    "start_time": "2022-02-02T17:23:38.705Z"
   },
   {
    "duration": 276,
    "start_time": "2022-02-02T17:23:38.971Z"
   },
   {
    "duration": 4,
    "start_time": "2022-02-02T17:23:39.249Z"
   },
   {
    "duration": 24,
    "start_time": "2022-02-02T17:23:39.255Z"
   },
   {
    "duration": 16,
    "start_time": "2022-02-02T17:40:13.273Z"
   },
   {
    "duration": 349,
    "start_time": "2022-02-02T17:51:42.678Z"
   },
   {
    "duration": 50,
    "start_time": "2022-02-02T17:51:43.029Z"
   },
   {
    "duration": 50,
    "start_time": "2022-02-02T17:51:43.081Z"
   },
   {
    "duration": 64,
    "start_time": "2022-02-02T17:51:43.133Z"
   },
   {
    "duration": 26,
    "start_time": "2022-02-02T17:51:43.199Z"
   },
   {
    "duration": 6,
    "start_time": "2022-02-02T17:51:43.227Z"
   },
   {
    "duration": 40,
    "start_time": "2022-02-02T17:51:43.234Z"
   },
   {
    "duration": 4,
    "start_time": "2022-02-02T17:51:43.276Z"
   },
   {
    "duration": 3,
    "start_time": "2022-02-02T17:51:43.282Z"
   },
   {
    "duration": 6,
    "start_time": "2022-02-02T17:51:43.287Z"
   },
   {
    "duration": 7,
    "start_time": "2022-02-02T17:51:43.294Z"
   },
   {
    "duration": 3,
    "start_time": "2022-02-02T17:51:43.303Z"
   },
   {
    "duration": 32,
    "start_time": "2022-02-02T17:51:43.307Z"
   },
   {
    "duration": 141,
    "start_time": "2022-02-02T17:51:43.340Z"
   },
   {
    "duration": 30,
    "start_time": "2022-02-02T17:51:43.483Z"
   },
   {
    "duration": 71,
    "start_time": "2022-02-02T17:51:43.514Z"
   },
   {
    "duration": 103,
    "start_time": "2022-02-02T17:51:43.587Z"
   },
   {
    "duration": 63,
    "start_time": "2022-02-02T17:51:43.691Z"
   },
   {
    "duration": 35,
    "start_time": "2022-02-02T17:51:43.755Z"
   },
   {
    "duration": 16,
    "start_time": "2022-02-02T17:51:43.791Z"
   },
   {
    "duration": 5,
    "start_time": "2022-02-02T17:51:43.808Z"
   },
   {
    "duration": 5,
    "start_time": "2022-02-02T17:51:43.815Z"
   },
   {
    "duration": 5,
    "start_time": "2022-02-02T17:51:43.822Z"
   },
   {
    "duration": 294,
    "start_time": "2022-02-02T17:51:43.829Z"
   },
   {
    "duration": 10,
    "start_time": "2022-02-02T17:51:44.124Z"
   },
   {
    "duration": 7,
    "start_time": "2022-02-02T17:51:44.136Z"
   },
   {
    "duration": 9,
    "start_time": "2022-02-02T17:51:44.144Z"
   },
   {
    "duration": 27,
    "start_time": "2022-02-02T17:51:44.154Z"
   },
   {
    "duration": 3,
    "start_time": "2022-02-02T17:51:44.183Z"
   },
   {
    "duration": 39,
    "start_time": "2022-02-02T17:51:44.188Z"
   },
   {
    "duration": 905,
    "start_time": "2022-02-02T17:51:44.229Z"
   },
   {
    "duration": 257,
    "start_time": "2022-02-02T17:51:45.135Z"
   },
   {
    "duration": 251,
    "start_time": "2022-02-02T17:51:45.394Z"
   },
   {
    "duration": 224,
    "start_time": "2022-02-02T17:51:45.647Z"
   },
   {
    "duration": 6,
    "start_time": "2022-02-02T17:51:45.873Z"
   },
   {
    "duration": 14,
    "start_time": "2022-02-02T17:51:45.881Z"
   },
   {
    "duration": 7,
    "start_time": "2022-02-02T17:52:19.080Z"
   },
   {
    "duration": 352,
    "start_time": "2022-02-02T17:52:22.420Z"
   },
   {
    "duration": 53,
    "start_time": "2022-02-02T17:52:22.774Z"
   },
   {
    "duration": 74,
    "start_time": "2022-02-02T17:52:22.829Z"
   },
   {
    "duration": 50,
    "start_time": "2022-02-02T17:52:22.905Z"
   },
   {
    "duration": 26,
    "start_time": "2022-02-02T17:52:22.972Z"
   },
   {
    "duration": 7,
    "start_time": "2022-02-02T17:52:22.999Z"
   },
   {
    "duration": 8,
    "start_time": "2022-02-02T17:52:23.007Z"
   },
   {
    "duration": 3,
    "start_time": "2022-02-02T17:52:23.016Z"
   },
   {
    "duration": 5,
    "start_time": "2022-02-02T17:52:23.022Z"
   },
   {
    "duration": 44,
    "start_time": "2022-02-02T17:52:23.029Z"
   },
   {
    "duration": 10,
    "start_time": "2022-02-02T17:52:23.075Z"
   },
   {
    "duration": 4,
    "start_time": "2022-02-02T17:52:23.087Z"
   },
   {
    "duration": 33,
    "start_time": "2022-02-02T17:52:23.093Z"
   },
   {
    "duration": 158,
    "start_time": "2022-02-02T17:52:23.127Z"
   },
   {
    "duration": 35,
    "start_time": "2022-02-02T17:52:23.287Z"
   },
   {
    "duration": 70,
    "start_time": "2022-02-02T17:52:23.323Z"
   },
   {
    "duration": 90,
    "start_time": "2022-02-02T17:52:23.395Z"
   },
   {
    "duration": 66,
    "start_time": "2022-02-02T17:52:23.487Z"
   },
   {
    "duration": 36,
    "start_time": "2022-02-02T17:52:23.555Z"
   },
   {
    "duration": 16,
    "start_time": "2022-02-02T17:52:23.593Z"
   },
   {
    "duration": 5,
    "start_time": "2022-02-02T17:52:23.611Z"
   },
   {
    "duration": 5,
    "start_time": "2022-02-02T17:52:23.618Z"
   },
   {
    "duration": 5,
    "start_time": "2022-02-02T17:52:23.625Z"
   },
   {
    "duration": 300,
    "start_time": "2022-02-02T17:52:23.631Z"
   },
   {
    "duration": 11,
    "start_time": "2022-02-02T17:52:23.933Z"
   },
   {
    "duration": 9,
    "start_time": "2022-02-02T17:52:23.945Z"
   },
   {
    "duration": 23,
    "start_time": "2022-02-02T17:52:23.956Z"
   },
   {
    "duration": 11,
    "start_time": "2022-02-02T17:52:23.980Z"
   },
   {
    "duration": 6,
    "start_time": "2022-02-02T17:52:23.993Z"
   },
   {
    "duration": 44,
    "start_time": "2022-02-02T17:52:24.000Z"
   },
   {
    "duration": 925,
    "start_time": "2022-02-02T17:52:24.046Z"
   },
   {
    "duration": 273,
    "start_time": "2022-02-02T17:52:24.973Z"
   },
   {
    "duration": 329,
    "start_time": "2022-02-02T17:52:25.247Z"
   },
   {
    "duration": 217,
    "start_time": "2022-02-02T17:52:25.578Z"
   },
   {
    "duration": 5,
    "start_time": "2022-02-02T17:52:25.796Z"
   },
   {
    "duration": 14,
    "start_time": "2022-02-02T17:52:25.802Z"
   },
   {
    "duration": 86,
    "start_time": "2022-02-12T04:05:38.279Z"
   },
   {
    "duration": 1342,
    "start_time": "2022-02-12T04:08:54.361Z"
   },
   {
    "duration": 55,
    "start_time": "2022-02-12T04:08:55.705Z"
   },
   {
    "duration": 56,
    "start_time": "2022-02-12T04:08:55.762Z"
   },
   {
    "duration": 69,
    "start_time": "2022-02-12T04:08:55.820Z"
   },
   {
    "duration": 28,
    "start_time": "2022-02-12T04:08:55.891Z"
   },
   {
    "duration": 40,
    "start_time": "2022-02-12T04:08:55.921Z"
   },
   {
    "duration": 10,
    "start_time": "2022-02-12T04:08:55.962Z"
   },
   {
    "duration": 3,
    "start_time": "2022-02-12T04:08:55.974Z"
   },
   {
    "duration": 12,
    "start_time": "2022-02-12T04:08:55.978Z"
   },
   {
    "duration": 7,
    "start_time": "2022-02-12T04:08:55.992Z"
   },
   {
    "duration": 12,
    "start_time": "2022-02-12T04:08:56.001Z"
   },
   {
    "duration": 4,
    "start_time": "2022-02-12T04:08:56.015Z"
   },
   {
    "duration": 55,
    "start_time": "2022-02-12T04:08:56.021Z"
   },
   {
    "duration": 124,
    "start_time": "2022-02-12T04:08:56.078Z"
   },
   {
    "duration": 32,
    "start_time": "2022-02-12T04:08:56.204Z"
   },
   {
    "duration": 100,
    "start_time": "2022-02-12T04:08:56.237Z"
   },
   {
    "duration": 12,
    "start_time": "2022-02-12T04:09:03.001Z"
   },
   {
    "duration": 275,
    "start_time": "2022-02-12T04:09:21.298Z"
   },
   {
    "duration": 7,
    "start_time": "2022-02-12T04:09:25.688Z"
   },
   {
    "duration": 395,
    "start_time": "2022-02-12T04:25:20.471Z"
   },
   {
    "duration": 54,
    "start_time": "2022-02-12T04:25:20.868Z"
   },
   {
    "duration": 81,
    "start_time": "2022-02-12T04:25:20.924Z"
   },
   {
    "duration": 63,
    "start_time": "2022-02-12T04:25:21.007Z"
   },
   {
    "duration": 27,
    "start_time": "2022-02-12T04:25:21.071Z"
   },
   {
    "duration": 7,
    "start_time": "2022-02-12T04:25:21.099Z"
   },
   {
    "duration": 8,
    "start_time": "2022-02-12T04:25:21.108Z"
   },
   {
    "duration": 41,
    "start_time": "2022-02-12T04:25:21.118Z"
   },
   {
    "duration": 5,
    "start_time": "2022-02-12T04:25:21.161Z"
   },
   {
    "duration": 10,
    "start_time": "2022-02-12T04:25:21.167Z"
   },
   {
    "duration": 10,
    "start_time": "2022-02-12T04:25:21.179Z"
   },
   {
    "duration": 3,
    "start_time": "2022-02-12T04:25:21.191Z"
   },
   {
    "duration": 64,
    "start_time": "2022-02-12T04:25:21.195Z"
   },
   {
    "duration": 114,
    "start_time": "2022-02-12T04:25:21.261Z"
   },
   {
    "duration": 30,
    "start_time": "2022-02-12T04:25:21.376Z"
   },
   {
    "duration": 90,
    "start_time": "2022-02-12T04:25:21.407Z"
   },
   {
    "duration": 120,
    "start_time": "2022-02-12T04:25:21.498Z"
   },
   {
    "duration": 100,
    "start_time": "2022-02-12T04:25:21.619Z"
   },
   {
    "duration": 23,
    "start_time": "2022-02-12T04:25:21.720Z"
   },
   {
    "duration": 30,
    "start_time": "2022-02-12T04:25:21.746Z"
   },
   {
    "duration": 7,
    "start_time": "2022-02-12T04:25:21.778Z"
   },
   {
    "duration": 6,
    "start_time": "2022-02-12T04:25:21.787Z"
   },
   {
    "duration": 10,
    "start_time": "2022-02-12T04:25:21.795Z"
   },
   {
    "duration": 288,
    "start_time": "2022-02-12T04:25:21.807Z"
   },
   {
    "duration": 12,
    "start_time": "2022-02-12T04:25:22.096Z"
   },
   {
    "duration": 9,
    "start_time": "2022-02-12T04:25:22.109Z"
   },
   {
    "duration": 11,
    "start_time": "2022-02-12T04:25:22.119Z"
   },
   {
    "duration": 32,
    "start_time": "2022-02-12T04:25:22.131Z"
   },
   {
    "duration": 6,
    "start_time": "2022-02-12T04:25:22.165Z"
   },
   {
    "duration": 61,
    "start_time": "2022-02-12T04:25:22.173Z"
   },
   {
    "duration": 1028,
    "start_time": "2022-02-12T04:25:22.236Z"
   },
   {
    "duration": 294,
    "start_time": "2022-02-12T04:25:23.265Z"
   },
   {
    "duration": 280,
    "start_time": "2022-02-12T04:25:23.560Z"
   },
   {
    "duration": 312,
    "start_time": "2022-02-12T04:25:23.841Z"
   },
   {
    "duration": 12,
    "start_time": "2022-02-12T04:25:31.530Z"
   },
   {
    "duration": 194,
    "start_time": "2022-02-12T04:26:02.168Z"
   },
   {
    "duration": 9,
    "start_time": "2022-02-12T04:29:38.663Z"
   },
   {
    "duration": 2119,
    "start_time": "2022-02-12T08:36:45.094Z"
   },
   {
    "duration": 89,
    "start_time": "2022-02-12T08:36:47.216Z"
   },
   {
    "duration": 119,
    "start_time": "2022-02-12T08:36:47.309Z"
   },
   {
    "duration": 103,
    "start_time": "2022-02-12T08:36:47.431Z"
   },
   {
    "duration": 85,
    "start_time": "2022-02-12T08:36:47.537Z"
   },
   {
    "duration": 53,
    "start_time": "2022-02-12T08:36:47.626Z"
   },
   {
    "duration": 19,
    "start_time": "2022-02-12T08:36:47.682Z"
   },
   {
    "duration": 5,
    "start_time": "2022-02-12T08:36:47.707Z"
   },
   {
    "duration": 8,
    "start_time": "2022-02-12T08:36:47.717Z"
   },
   {
    "duration": 52,
    "start_time": "2022-02-12T08:36:47.728Z"
   },
   {
    "duration": 12,
    "start_time": "2022-02-12T08:36:47.783Z"
   },
   {
    "duration": 9,
    "start_time": "2022-02-12T08:36:47.798Z"
   },
   {
    "duration": 94,
    "start_time": "2022-02-12T08:36:47.810Z"
   },
   {
    "duration": 190,
    "start_time": "2022-02-12T08:36:47.906Z"
   },
   {
    "duration": 75,
    "start_time": "2022-02-12T08:36:48.098Z"
   },
   {
    "duration": 126,
    "start_time": "2022-02-12T08:36:48.176Z"
   },
   {
    "duration": 179,
    "start_time": "2022-02-12T08:36:48.305Z"
   },
   {
    "duration": 143,
    "start_time": "2022-02-12T08:36:48.487Z"
   },
   {
    "duration": 53,
    "start_time": "2022-02-12T08:36:48.633Z"
   },
   {
    "duration": 33,
    "start_time": "2022-02-12T08:36:48.689Z"
   },
   {
    "duration": 10,
    "start_time": "2022-02-12T08:36:48.725Z"
   },
   {
    "duration": 9,
    "start_time": "2022-02-12T08:36:48.770Z"
   },
   {
    "duration": 10,
    "start_time": "2022-02-12T08:36:48.784Z"
   },
   {
    "duration": 548,
    "start_time": "2022-02-12T08:36:48.797Z"
   },
   {
    "duration": 31,
    "start_time": "2022-02-12T08:36:49.348Z"
   },
   {
    "duration": 19,
    "start_time": "2022-02-12T08:36:49.381Z"
   },
   {
    "duration": 35,
    "start_time": "2022-02-12T08:36:49.403Z"
   },
   {
    "duration": 54,
    "start_time": "2022-02-12T08:36:49.441Z"
   },
   {
    "duration": 11,
    "start_time": "2022-02-12T08:36:49.498Z"
   },
   {
    "duration": 86,
    "start_time": "2022-02-12T08:36:49.512Z"
   },
   {
    "duration": 1342,
    "start_time": "2022-02-12T08:36:49.601Z"
   },
   {
    "duration": 529,
    "start_time": "2022-02-12T08:36:50.946Z"
   },
   {
    "duration": 498,
    "start_time": "2022-02-12T08:36:51.479Z"
   },
   {
    "duration": 519,
    "start_time": "2022-02-12T08:36:51.981Z"
   },
   {
    "duration": 8,
    "start_time": "2022-02-12T08:36:52.503Z"
   },
   {
    "duration": 55,
    "start_time": "2022-02-12T08:36:52.514Z"
   },
   {
    "duration": 354,
    "start_time": "2022-02-13T15:08:23.216Z"
   },
   {
    "duration": 2130,
    "start_time": "2022-02-13T15:08:29.401Z"
   },
   {
    "duration": 108,
    "start_time": "2022-02-13T15:08:31.534Z"
   },
   {
    "duration": 123,
    "start_time": "2022-02-13T15:08:31.645Z"
   },
   {
    "duration": 99,
    "start_time": "2022-02-13T15:08:31.771Z"
   },
   {
    "duration": 87,
    "start_time": "2022-02-13T15:08:31.873Z"
   },
   {
    "duration": 60,
    "start_time": "2022-02-13T15:08:31.962Z"
   },
   {
    "duration": 83,
    "start_time": "2022-02-13T15:08:32.024Z"
   },
   {
    "duration": 91,
    "start_time": "2022-02-13T15:08:32.111Z"
   },
   {
    "duration": 230,
    "start_time": "2022-02-13T15:08:32.206Z"
   },
   {
    "duration": 355,
    "start_time": "2022-02-13T15:08:32.439Z"
   },
   {
    "duration": 209,
    "start_time": "2022-02-13T15:08:32.797Z"
   },
   {
    "duration": 217,
    "start_time": "2022-02-13T15:08:33.008Z"
   },
   {
    "duration": 109,
    "start_time": "2022-02-13T15:08:33.228Z"
   },
   {
    "duration": 203,
    "start_time": "2022-02-13T15:08:33.340Z"
   },
   {
    "duration": 156,
    "start_time": "2022-02-13T15:08:33.546Z"
   },
   {
    "duration": 266,
    "start_time": "2022-02-13T15:08:33.705Z"
   },
   {
    "duration": 185,
    "start_time": "2022-02-13T15:08:33.974Z"
   },
   {
    "duration": 531,
    "start_time": "2022-02-13T15:08:34.162Z"
   },
   {
    "duration": 46,
    "start_time": "2022-02-13T15:08:34.695Z"
   },
   {
    "duration": 198,
    "start_time": "2022-02-13T15:08:34.743Z"
   },
   {
    "duration": 43,
    "start_time": "2022-02-13T15:08:34.944Z"
   },
   {
    "duration": 193,
    "start_time": "2022-02-13T15:08:34.991Z"
   },
   {
    "duration": 77,
    "start_time": "2022-02-13T15:08:35.188Z"
   },
   {
    "duration": 747,
    "start_time": "2022-02-13T15:08:35.268Z"
   },
   {
    "duration": 38,
    "start_time": "2022-02-13T15:08:36.018Z"
   },
   {
    "duration": 288,
    "start_time": "2022-02-13T15:08:36.059Z"
   },
   {
    "duration": 322,
    "start_time": "2022-02-13T15:08:36.350Z"
   },
   {
    "duration": 166,
    "start_time": "2022-02-13T15:08:36.674Z"
   },
   {
    "duration": 281,
    "start_time": "2022-02-13T15:08:36.842Z"
   },
   {
    "duration": 176,
    "start_time": "2022-02-13T15:08:37.126Z"
   },
   {
    "duration": 1806,
    "start_time": "2022-02-13T15:08:37.305Z"
   },
   {
    "duration": 539,
    "start_time": "2022-02-13T15:08:39.113Z"
   },
   {
    "duration": 497,
    "start_time": "2022-02-13T15:08:39.654Z"
   },
   {
    "duration": 501,
    "start_time": "2022-02-13T15:08:40.154Z"
   },
   {
    "duration": 76,
    "start_time": "2022-02-13T15:08:40.657Z"
   },
   {
    "duration": 156,
    "start_time": "2022-02-13T15:08:40.735Z"
   },
   {
    "duration": 590,
    "start_time": "2022-02-13T15:27:47.473Z"
   },
   {
    "duration": 558,
    "start_time": "2022-02-13T15:27:59.820Z"
   },
   {
    "duration": 1020,
    "start_time": "2022-02-13T15:28:09.974Z"
   },
   {
    "duration": 955,
    "start_time": "2022-02-13T15:28:19.222Z"
   },
   {
    "duration": 633,
    "start_time": "2022-02-13T15:29:43.915Z"
   },
   {
    "duration": 125,
    "start_time": "2022-02-13T15:29:44.551Z"
   },
   {
    "duration": 521,
    "start_time": "2022-02-13T15:29:44.679Z"
   },
   {
    "duration": 172,
    "start_time": "2022-02-13T15:29:45.204Z"
   },
   {
    "duration": 328,
    "start_time": "2022-02-13T15:29:45.378Z"
   },
   {
    "duration": 1010,
    "start_time": "2022-02-13T15:29:45.708Z"
   },
   {
    "duration": 301,
    "start_time": "2022-02-13T15:29:46.720Z"
   },
   {
    "duration": 452,
    "start_time": "2022-02-13T15:29:47.025Z"
   },
   {
    "duration": 752,
    "start_time": "2022-02-13T15:29:47.481Z"
   },
   {
    "duration": 759,
    "start_time": "2022-02-13T15:29:48.236Z"
   },
   {
    "duration": 683,
    "start_time": "2022-02-13T15:29:48.998Z"
   },
   {
    "duration": 763,
    "start_time": "2022-02-13T15:29:49.684Z"
   },
   {
    "duration": 341,
    "start_time": "2022-02-13T15:29:50.450Z"
   },
   {
    "duration": 515,
    "start_time": "2022-02-13T15:29:50.793Z"
   },
   {
    "duration": 385,
    "start_time": "2022-02-13T15:29:51.311Z"
   },
   {
    "duration": 933,
    "start_time": "2022-02-13T15:29:51.699Z"
   },
   {
    "duration": 1086,
    "start_time": "2022-02-13T15:29:52.635Z"
   },
   {
    "duration": 1078,
    "start_time": "2022-02-13T15:29:53.724Z"
   },
   {
    "duration": 737,
    "start_time": "2022-02-13T15:29:54.805Z"
   },
   {
    "duration": 860,
    "start_time": "2022-02-13T15:29:55.545Z"
   },
   {
    "duration": 774,
    "start_time": "2022-02-13T15:29:56.408Z"
   },
   {
    "duration": 486,
    "start_time": "2022-02-13T15:29:57.184Z"
   },
   {
    "duration": 845,
    "start_time": "2022-02-13T15:29:57.675Z"
   },
   {
    "duration": 1561,
    "start_time": "2022-02-13T15:29:58.523Z"
   },
   {
    "duration": 322,
    "start_time": "2022-02-13T15:30:00.088Z"
   },
   {
    "duration": 190,
    "start_time": "2022-02-13T15:30:00.413Z"
   },
   {
    "duration": 525,
    "start_time": "2022-02-13T15:30:00.606Z"
   },
   {
    "duration": 725,
    "start_time": "2022-02-13T15:30:01.133Z"
   },
   {
    "duration": 1235,
    "start_time": "2022-02-13T15:30:01.861Z"
   },
   {
    "duration": 264,
    "start_time": "2022-02-13T15:30:03.098Z"
   },
   {
    "duration": 1417,
    "start_time": "2022-02-13T15:30:03.365Z"
   },
   {
    "duration": 517,
    "start_time": "2022-02-13T15:30:04.785Z"
   },
   {
    "duration": 1138,
    "start_time": "2022-02-13T15:30:05.304Z"
   },
   {
    "duration": 858,
    "start_time": "2022-02-13T15:30:06.445Z"
   },
   {
    "duration": 638,
    "start_time": "2022-02-13T15:30:07.306Z"
   },
   {
    "duration": 1037,
    "start_time": "2022-02-13T15:30:07.947Z"
   },
   {
    "duration": 502,
    "start_time": "2022-02-13T15:47:29.019Z"
   },
   {
    "duration": 275,
    "start_time": "2022-02-13T15:47:29.524Z"
   },
   {
    "duration": 541,
    "start_time": "2022-02-13T15:47:29.803Z"
   },
   {
    "duration": 316,
    "start_time": "2022-02-13T15:47:30.347Z"
   },
   {
    "duration": 426,
    "start_time": "2022-02-13T15:47:30.665Z"
   },
   {
    "duration": 230,
    "start_time": "2022-02-13T15:47:31.094Z"
   },
   {
    "duration": 439,
    "start_time": "2022-02-13T15:47:31.327Z"
   },
   {
    "duration": 211,
    "start_time": "2022-02-13T15:47:31.770Z"
   },
   {
    "duration": 49,
    "start_time": "2022-02-13T15:47:31.984Z"
   },
   {
    "duration": 25,
    "start_time": "2022-02-13T15:47:32.035Z"
   },
   {
    "duration": 21,
    "start_time": "2022-02-13T15:47:32.062Z"
   },
   {
    "duration": 9,
    "start_time": "2022-02-13T15:47:32.085Z"
   },
   {
    "duration": 70,
    "start_time": "2022-02-13T15:47:32.097Z"
   },
   {
    "duration": 188,
    "start_time": "2022-02-13T15:47:32.170Z"
   },
   {
    "duration": 87,
    "start_time": "2022-02-13T15:47:32.361Z"
   },
   {
    "duration": 300,
    "start_time": "2022-02-13T15:47:32.450Z"
   },
   {
    "duration": 387,
    "start_time": "2022-02-13T15:47:32.753Z"
   },
   {
    "duration": 124,
    "start_time": "2022-02-13T15:47:33.142Z"
   },
   {
    "duration": 40,
    "start_time": "2022-02-13T15:47:33.268Z"
   },
   {
    "duration": 194,
    "start_time": "2022-02-13T15:47:33.311Z"
   },
   {
    "duration": 546,
    "start_time": "2022-02-13T15:47:33.508Z"
   },
   {
    "duration": 612,
    "start_time": "2022-02-13T15:47:34.057Z"
   },
   {
    "duration": 410,
    "start_time": "2022-02-13T15:47:34.673Z"
   },
   {
    "duration": 1019,
    "start_time": "2022-02-13T15:47:35.086Z"
   },
   {
    "duration": 34,
    "start_time": "2022-02-13T15:47:36.107Z"
   },
   {
    "duration": 598,
    "start_time": "2022-02-13T15:47:36.143Z"
   },
   {
    "duration": 548,
    "start_time": "2022-02-13T15:47:36.743Z"
   },
   {
    "duration": 594,
    "start_time": "2022-02-13T15:47:37.293Z"
   },
   {
    "duration": 357,
    "start_time": "2022-02-13T15:47:37.889Z"
   },
   {
    "duration": 304,
    "start_time": "2022-02-13T15:47:38.248Z"
   },
   {
    "duration": 1707,
    "start_time": "2022-02-13T15:47:38.555Z"
   },
   {
    "duration": 506,
    "start_time": "2022-02-13T15:47:40.265Z"
   },
   {
    "duration": 612,
    "start_time": "2022-02-13T15:47:40.774Z"
   },
   {
    "duration": 443,
    "start_time": "2022-02-13T15:47:41.389Z"
   },
   {
    "duration": 7,
    "start_time": "2022-02-13T15:47:41.834Z"
   },
   {
    "duration": 235,
    "start_time": "2022-02-13T15:47:41.843Z"
   },
   {
    "duration": 469,
    "start_time": "2022-02-13T15:49:51.657Z"
   },
   {
    "duration": 110,
    "start_time": "2022-02-13T15:49:52.128Z"
   },
   {
    "duration": 397,
    "start_time": "2022-02-13T15:49:52.242Z"
   },
   {
    "duration": 346,
    "start_time": "2022-02-13T15:49:52.642Z"
   },
   {
    "duration": 312,
    "start_time": "2022-02-13T15:49:52.991Z"
   },
   {
    "duration": 215,
    "start_time": "2022-02-13T15:49:53.306Z"
   },
   {
    "duration": 728,
    "start_time": "2022-02-13T15:49:53.523Z"
   },
   {
    "duration": 706,
    "start_time": "2022-02-13T15:49:54.255Z"
   },
   {
    "duration": 769,
    "start_time": "2022-02-13T15:49:54.965Z"
   },
   {
    "duration": 631,
    "start_time": "2022-02-13T15:49:55.737Z"
   },
   {
    "duration": 561,
    "start_time": "2022-02-13T15:49:56.370Z"
   },
   {
    "duration": 495,
    "start_time": "2022-02-13T15:49:56.934Z"
   },
   {
    "duration": 911,
    "start_time": "2022-02-13T15:49:57.431Z"
   },
   {
    "duration": 529,
    "start_time": "2022-02-13T15:49:58.345Z"
   },
   {
    "duration": 224,
    "start_time": "2022-02-13T15:49:58.876Z"
   },
   {
    "duration": 454,
    "start_time": "2022-02-13T15:49:59.102Z"
   },
   {
    "duration": 497,
    "start_time": "2022-02-13T15:49:59.558Z"
   },
   {
    "duration": 188,
    "start_time": "2022-02-13T15:50:00.058Z"
   },
   {
    "duration": 404,
    "start_time": "2022-02-13T15:50:00.248Z"
   },
   {
    "duration": 440,
    "start_time": "2022-02-13T15:50:00.654Z"
   },
   {
    "duration": 673,
    "start_time": "2022-02-13T15:50:01.097Z"
   },
   {
    "duration": 848,
    "start_time": "2022-02-13T15:50:01.772Z"
   },
   {
    "duration": 582,
    "start_time": "2022-02-13T15:50:02.628Z"
   },
   {
    "duration": 1111,
    "start_time": "2022-02-13T15:50:03.214Z"
   },
   {
    "duration": 21,
    "start_time": "2022-02-13T15:50:04.332Z"
   },
   {
    "duration": 319,
    "start_time": "2022-02-13T15:50:04.356Z"
   },
   {
    "duration": 311,
    "start_time": "2022-02-13T15:50:04.678Z"
   },
   {
    "duration": 305,
    "start_time": "2022-02-13T15:50:04.993Z"
   },
   {
    "duration": 329,
    "start_time": "2022-02-13T15:50:05.301Z"
   },
   {
    "duration": 1056,
    "start_time": "2022-02-13T15:50:05.633Z"
   },
   {
    "duration": 2368,
    "start_time": "2022-02-13T15:50:06.691Z"
   },
   {
    "duration": 519,
    "start_time": "2022-02-13T15:50:09.061Z"
   },
   {
    "duration": 790,
    "start_time": "2022-02-13T15:50:09.582Z"
   },
   {
    "duration": 717,
    "start_time": "2022-02-13T15:50:10.374Z"
   },
   {
    "duration": 485,
    "start_time": "2022-02-13T15:50:11.094Z"
   },
   {
    "duration": 628,
    "start_time": "2022-02-13T15:50:11.581Z"
   },
   {
    "duration": 514,
    "start_time": "2022-02-13T16:25:46.043Z"
   },
   {
    "duration": 98,
    "start_time": "2022-02-13T16:25:46.560Z"
   },
   {
    "duration": 363,
    "start_time": "2022-02-13T16:25:46.662Z"
   },
   {
    "duration": 253,
    "start_time": "2022-02-13T16:25:47.029Z"
   },
   {
    "duration": 170,
    "start_time": "2022-02-13T16:25:47.285Z"
   },
   {
    "duration": 158,
    "start_time": "2022-02-13T16:25:47.458Z"
   },
   {
    "duration": 209,
    "start_time": "2022-02-13T16:25:47.619Z"
   },
   {
    "duration": 165,
    "start_time": "2022-02-13T16:25:47.834Z"
   },
   {
    "duration": 256,
    "start_time": "2022-02-13T16:25:48.004Z"
   },
   {
    "duration": 81,
    "start_time": "2022-02-13T16:25:48.263Z"
   },
   {
    "duration": 140,
    "start_time": "2022-02-13T16:25:48.347Z"
   },
   {
    "duration": 98,
    "start_time": "2022-02-13T16:25:48.490Z"
   },
   {
    "duration": 309,
    "start_time": "2022-02-13T16:25:48.591Z"
   },
   {
    "duration": 263,
    "start_time": "2022-02-13T16:25:48.904Z"
   },
   {
    "duration": 79,
    "start_time": "2022-02-13T16:25:49.170Z"
   },
   {
    "duration": 234,
    "start_time": "2022-02-13T16:25:49.252Z"
   },
   {
    "duration": 223,
    "start_time": "2022-02-13T16:25:49.489Z"
   },
   {
    "duration": 161,
    "start_time": "2022-02-13T16:25:49.714Z"
   },
   {
    "duration": 39,
    "start_time": "2022-02-13T16:25:49.878Z"
   },
   {
    "duration": 61,
    "start_time": "2022-02-13T16:25:49.920Z"
   },
   {
    "duration": 26,
    "start_time": "2022-02-13T16:25:49.984Z"
   },
   {
    "duration": 45,
    "start_time": "2022-02-13T16:25:50.012Z"
   },
   {
    "duration": 119,
    "start_time": "2022-02-13T16:25:50.062Z"
   },
   {
    "duration": 741,
    "start_time": "2022-02-13T16:25:50.184Z"
   },
   {
    "duration": 20,
    "start_time": "2022-02-13T16:25:50.933Z"
   },
   {
    "duration": 382,
    "start_time": "2022-02-13T16:25:50.956Z"
   },
   {
    "duration": 156,
    "start_time": "2022-02-13T16:25:51.342Z"
   },
   {
    "duration": 528,
    "start_time": "2022-02-13T16:25:51.501Z"
   },
   {
    "duration": 223,
    "start_time": "2022-02-13T16:25:52.031Z"
   },
   {
    "duration": 284,
    "start_time": "2022-02-13T16:25:52.256Z"
   },
   {
    "duration": 1866,
    "start_time": "2022-02-13T16:25:52.543Z"
   },
   {
    "duration": 857,
    "start_time": "2022-02-13T16:25:54.412Z"
   },
   {
    "duration": 597,
    "start_time": "2022-02-13T16:25:55.272Z"
   },
   {
    "duration": 622,
    "start_time": "2022-02-13T16:25:55.872Z"
   },
   {
    "duration": 9,
    "start_time": "2022-02-13T16:25:56.497Z"
   },
   {
    "duration": 238,
    "start_time": "2022-02-13T16:25:56.508Z"
   },
   {
    "duration": 486,
    "start_time": "2022-02-13T17:08:29.555Z"
   },
   {
    "duration": 107,
    "start_time": "2022-02-13T17:08:30.043Z"
   },
   {
    "duration": 168,
    "start_time": "2022-02-13T17:08:30.155Z"
   },
   {
    "duration": 126,
    "start_time": "2022-02-13T17:08:30.327Z"
   },
   {
    "duration": 83,
    "start_time": "2022-02-13T17:08:30.456Z"
   },
   {
    "duration": 13,
    "start_time": "2022-02-13T17:08:30.541Z"
   },
   {
    "duration": 22,
    "start_time": "2022-02-13T17:08:30.557Z"
   },
   {
    "duration": 6,
    "start_time": "2022-02-13T17:08:30.583Z"
   },
   {
    "duration": 45,
    "start_time": "2022-02-13T17:08:30.593Z"
   },
   {
    "duration": 19,
    "start_time": "2022-02-13T17:08:30.641Z"
   },
   {
    "duration": 12,
    "start_time": "2022-02-13T17:08:30.663Z"
   },
   {
    "duration": 6,
    "start_time": "2022-02-13T17:08:30.678Z"
   },
   {
    "duration": 99,
    "start_time": "2022-02-13T17:08:30.687Z"
   },
   {
    "duration": 199,
    "start_time": "2022-02-13T17:08:30.789Z"
   },
   {
    "duration": 71,
    "start_time": "2022-02-13T17:08:30.992Z"
   },
   {
    "duration": 110,
    "start_time": "2022-02-13T17:08:31.065Z"
   },
   {
    "duration": 189,
    "start_time": "2022-02-13T17:08:31.178Z"
   },
   {
    "duration": 130,
    "start_time": "2022-02-13T17:08:31.370Z"
   },
   {
    "duration": 55,
    "start_time": "2022-02-13T17:08:31.503Z"
   },
   {
    "duration": 29,
    "start_time": "2022-02-13T17:08:31.561Z"
   },
   {
    "duration": 9,
    "start_time": "2022-02-13T17:08:31.592Z"
   },
   {
    "duration": 35,
    "start_time": "2022-02-13T17:08:31.603Z"
   },
   {
    "duration": 13,
    "start_time": "2022-02-13T17:08:31.643Z"
   },
   {
    "duration": 592,
    "start_time": "2022-02-13T17:08:31.659Z"
   },
   {
    "duration": 19,
    "start_time": "2022-02-13T17:08:32.254Z"
   },
   {
    "duration": 21,
    "start_time": "2022-02-13T17:08:32.275Z"
   },
   {
    "duration": 39,
    "start_time": "2022-02-13T17:08:32.299Z"
   },
   {
    "duration": 21,
    "start_time": "2022-02-13T17:08:32.341Z"
   },
   {
    "duration": 8,
    "start_time": "2022-02-13T17:08:32.365Z"
   },
   {
    "duration": 109,
    "start_time": "2022-02-13T17:08:32.376Z"
   },
   {
    "duration": 1322,
    "start_time": "2022-02-13T17:08:32.488Z"
   },
   {
    "duration": 510,
    "start_time": "2022-02-13T17:08:33.812Z"
   },
   {
    "duration": 481,
    "start_time": "2022-02-13T17:08:34.324Z"
   },
   {
    "duration": 405,
    "start_time": "2022-02-13T17:08:34.808Z"
   },
   {
    "duration": 17,
    "start_time": "2022-02-13T17:08:35.216Z"
   },
   {
    "duration": 24,
    "start_time": "2022-02-13T17:08:35.237Z"
   },
   {
    "duration": 2060,
    "start_time": "2022-02-15T03:07:33.830Z"
   },
   {
    "duration": 89,
    "start_time": "2022-02-15T03:07:35.893Z"
   },
   {
    "duration": 113,
    "start_time": "2022-02-15T03:07:35.986Z"
   },
   {
    "duration": 100,
    "start_time": "2022-02-15T03:07:36.102Z"
   },
   {
    "duration": 91,
    "start_time": "2022-02-15T03:07:36.205Z"
   },
   {
    "duration": 13,
    "start_time": "2022-02-15T03:07:36.299Z"
   },
   {
    "duration": 52,
    "start_time": "2022-02-15T03:07:36.315Z"
   },
   {
    "duration": 4,
    "start_time": "2022-02-15T03:07:36.373Z"
   },
   {
    "duration": 6,
    "start_time": "2022-02-15T03:07:36.380Z"
   },
   {
    "duration": 9,
    "start_time": "2022-02-15T03:07:36.390Z"
   },
   {
    "duration": 10,
    "start_time": "2022-02-15T03:07:36.401Z"
   },
   {
    "duration": 12,
    "start_time": "2022-02-15T03:07:36.460Z"
   },
   {
    "duration": 50,
    "start_time": "2022-02-15T03:07:36.474Z"
   },
   {
    "duration": 193,
    "start_time": "2022-02-15T03:07:36.526Z"
   },
   {
    "duration": 65,
    "start_time": "2022-02-15T03:07:36.722Z"
   },
   {
    "duration": 137,
    "start_time": "2022-02-15T03:07:36.789Z"
   },
   {
    "duration": 179,
    "start_time": "2022-02-15T03:07:36.929Z"
   },
   {
    "duration": 153,
    "start_time": "2022-02-15T03:07:37.110Z"
   },
   {
    "duration": 40,
    "start_time": "2022-02-15T03:07:37.265Z"
   },
   {
    "duration": 51,
    "start_time": "2022-02-15T03:07:37.308Z"
   },
   {
    "duration": 10,
    "start_time": "2022-02-15T03:07:37.361Z"
   },
   {
    "duration": 10,
    "start_time": "2022-02-15T03:07:37.373Z"
   },
   {
    "duration": 10,
    "start_time": "2022-02-15T03:07:37.389Z"
   },
   {
    "duration": 568,
    "start_time": "2022-02-15T03:07:37.403Z"
   },
   {
    "duration": 19,
    "start_time": "2022-02-15T03:07:37.974Z"
   },
   {
    "duration": 13,
    "start_time": "2022-02-15T03:07:37.995Z"
   },
   {
    "duration": 51,
    "start_time": "2022-02-15T03:07:38.010Z"
   },
   {
    "duration": 19,
    "start_time": "2022-02-15T03:07:38.063Z"
   },
   {
    "duration": 4,
    "start_time": "2022-02-15T03:07:38.085Z"
   },
   {
    "duration": 85,
    "start_time": "2022-02-15T03:07:38.092Z"
   },
   {
    "duration": 1424,
    "start_time": "2022-02-15T03:07:38.179Z"
   },
   {
    "duration": 482,
    "start_time": "2022-02-15T03:07:39.606Z"
   },
   {
    "duration": 458,
    "start_time": "2022-02-15T03:07:40.091Z"
   },
   {
    "duration": 457,
    "start_time": "2022-02-15T03:07:40.551Z"
   },
   {
    "duration": 7,
    "start_time": "2022-02-15T03:07:41.011Z"
   },
   {
    "duration": 43,
    "start_time": "2022-02-15T03:07:41.020Z"
   }
  ],
  "kernelspec": {
   "display_name": "Python 3 (ipykernel)",
   "language": "python",
   "name": "python3"
  },
  "language_info": {
   "codemirror_mode": {
    "name": "ipython",
    "version": 3
   },
   "file_extension": ".py",
   "mimetype": "text/x-python",
   "name": "python",
   "nbconvert_exporter": "python",
   "pygments_lexer": "ipython3",
   "version": "3.9.7"
  },
  "toc": {
   "base_numbering": 1,
   "nav_menu": {},
   "number_sections": true,
   "sideBar": true,
   "skip_h1_title": true,
   "title_cell": "Содержание ",
   "title_sidebar": "Contents",
   "toc_cell": true,
   "toc_position": {
    "height": "calc(100% - 180px)",
    "left": "10px",
    "top": "150px",
    "width": "409.097px"
   },
   "toc_section_display": true,
   "toc_window_display": true
  }
 },
 "nbformat": 4,
 "nbformat_minor": 2
}
