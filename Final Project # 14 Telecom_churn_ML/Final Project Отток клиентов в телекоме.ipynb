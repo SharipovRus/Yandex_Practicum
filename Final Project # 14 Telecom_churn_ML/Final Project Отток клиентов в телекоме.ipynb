{
 "cells": [
  {
   "cell_type": "markdown",
   "id": "b3ea54a2",
   "metadata": {},
   "source": [
    "# 1. Телеком — задача и описание проекта"
   ]
  },
  {
   "cell_type": "markdown",
   "id": "c4ea120f",
   "metadata": {},
   "source": [
    "Оператор связи «Ниединогоразрыва.ком» хочет научиться прогнозировать отток клиентов. Если выяснится, что пользователь планирует уйти, ему будут предложены промокоды и специальные условия. Команда оператора собрала персональные данные о некоторых клиентах, информацию об их тарифах и договорах."
   ]
  },
  {
   "cell_type": "markdown",
   "id": "bea7e142",
   "metadata": {},
   "source": [
    "##  Описание услуг\n",
    "\n",
    "Оператор предоставляет два основных типа услуг: \n",
    "\n",
    "1. Стационарную телефонную связь. Возможно подключение телефонного аппарата к нескольким линиям одновременно.\n",
    "2. Интернет. Подключение может быть двух типов: через телефонную линию (DSL*,* от англ. *digital subscriber line*, «цифровая абонентская линия») или оптоволоконный кабель (*Fiber optic*)."
   ]
  },
  {
   "cell_type": "markdown",
   "id": "af0079cd",
   "metadata": {},
   "source": [
    "Также доступны такие услуги:\n",
    "\n",
    "- Интернет-безопасность: антивирус (*DeviceProtection*) и блокировка небезопасных сайтов (*OnlineSecurity*);\n",
    "- Выделенная линия технической поддержки (*TechSupport*);\n",
    "- Облачное хранилище файлов для резервного копирования данных (*OnlineBackup*);\n",
    "- Стриминговое телевидение (*StreamingTV*) и каталог фильмов (*StreamingMovies*)."
   ]
  },
  {
   "cell_type": "markdown",
   "id": "b541cd71",
   "metadata": {},
   "source": [
    "За услуги клиенты могут платить каждый месяц или заключить договор на 1–2 года. Доступны различные способы расчёта и возможность получения электронного чека."
   ]
  },
  {
   "cell_type": "markdown",
   "id": "b7afa8cf",
   "metadata": {},
   "source": [
    "##  Описание данных\n",
    "\n",
    "Данные состоят из файлов, полученных из разных источников:\n",
    "\n",
    "- `contract.csv` — информация о договоре;\n",
    "- `personal.csv` — персональные данные клиента;\n",
    "- `internet.csv` — информация об интернет-услугах;\n",
    "- `phone.csv` — информация об услугах телефонии.\n",
    "\n",
    "Во всех файлах столбец `customerID` содержит код клиента.\n",
    "\n",
    "Информация о договорах актуальна на 1 февраля 2020."
   ]
  },
  {
   "cell_type": "markdown",
   "id": "f23f3ec2",
   "metadata": {},
   "source": [
    "##  План работы :\n",
    "\n",
    "\n",
    "1. Изучить полученные данные\n",
    "2. Провести предобработку данных (Удаление ненужных записей, исправление структурных ошибок, удаление выбросов,управление отсутствующими данными)\n",
    "3. Провести исследовательский анализ данных (Построить гистограммы, провести сравнения для разных групп клиентов)\n",
    "4. Подготовить данные к расчету модели. (Кодирование категориальных переменных, определение конечного датасета)\n",
    "5. Моделирование (Разбиение данных, определение исследуемых моделей, тестовая модель, подбор гиперпараметров)\n",
    "6. Тест моделей. (Сравнение моделей, оценка эффективности моделей)\n",
    "7. Общий вывод\n",
    "8. Отчет"
   ]
  },
  {
   "cell_type": "markdown",
   "id": "85cb5fb4",
   "metadata": {},
   "source": [
    "## План на исследовательский анализ данных\n",
    "\n",
    "1. Сравним распределения величин ежемесячных платежей (MonthlyCharges) всех клиентов и тех, кто ушёл. \n",
    "2. Для каждой группы посчитаем статистики: средние, минимальные и максимальные значения, медиану и величины 25%- и 75%-квартилей. \n",
    "3. Построим гистограммы распределения.\n",
    "4. Сравниим поведение клиентов этих двух групп. Для каждой построим два любых графика, изображающих:\n",
    "\n",
    "- долю пользователей телефонной связи;\n",
    "- долю интернет-пользователей."
   ]
  },
  {
   "cell_type": "markdown",
   "id": "af7e715e",
   "metadata": {},
   "source": [
    "# Предобработка данных"
   ]
  },
  {
   "cell_type": "code",
   "execution_count": 1,
   "id": "589f1574",
   "metadata": {},
   "outputs": [],
   "source": [
    "import pandas as pd\n",
    "import numpy as np\n",
    "import seaborn as sns\n",
    "from sklearn.model_selection import train_test_split, RandomizedSearchCV, GridSearchCV\n",
    "from sklearn.linear_model import LogisticRegression\n",
    "from sklearn.tree import DecisionTreeClassifier\n",
    "from sklearn.ensemble import RandomForestClassifier\n",
    "from sklearn.metrics import accuracy_score\n",
    "from sklearn.metrics import confusion_matrix\n",
    "from sklearn.metrics import f1_score\n",
    "from sklearn.metrics import precision_score\n",
    "from sklearn.metrics import recall_score\n",
    "from sklearn.utils import shuffle\n",
    "from sklearn.metrics import accuracy_score, roc_auc_score, precision_score, recall_score, roc_curve, confusion_matrix\n",
    "from sklearn.utils import shuffle\n",
    "from sklearn.preprocessing import StandardScaler\n",
    "from lightgbm import LGBMClassifier\n",
    "from catboost import CatBoostClassifier\n",
    "from catboost import cv\n",
    "from catboost import Pool\n",
    "import catboost as cat\n",
    "import matplotlib.pyplot as plt\n",
    "import warnings\n",
    "from warnings import filterwarnings\n",
    "warnings.filterwarnings('error')\n",
    "filterwarnings(action='ignore', category=DeprecationWarning, message='`np.bool` is a deprecated alias')\n"
   ]
  },
  {
   "cell_type": "code",
   "execution_count": 3,
   "id": "1529f6d2",
   "metadata": {},
   "outputs": [],
   "source": [
    "try:\n",
    "    contract = pd.read_csv(r'C:\\Users\\79811\\Downloads\\final_provider\\final_provider\\contract.csv', index_col='customerID')\n",
    "    internet = pd.read_csv(r'C:\\Users\\79811\\Downloads\\final_provider\\final_provider\\internet.csv', index_col='customerID')\n",
    "    personal = pd.read_csv(r'C:\\Users\\79811\\Downloads\\final_provider\\final_provider\\personal.csv', index_col='customerID')\n",
    "    phone = pd.read_csv(r'C:\\Users\\79811\\Downloads\\final_provider\\final_provider\\phone.csv')\n",
    "except:\n",
    "    contract = pd.read_csv('/datasets/final_provider/contract.csv', index_col='customerID')\n",
    "    internet = pd.read_csv('/datasets/final_provider/internet.csv', index_col='customerID')\n",
    "    personal = pd.read_csv('/datasets/final_provider/personal.csv', index_col='customerID')\n",
    "    phone = pd.read_csv('/datasets/final_provider/phone.csv', index_col='customerID')\n"
   ]
  },
  {
   "cell_type": "code",
   "execution_count": 2,
   "id": "8ee319cc",
   "metadata": {},
   "outputs": [],
   "source": [
    "#contract = pd.read_csv(r'C:\\Users\\79811\\Downloads\\final_provider\\final_provider\\contract.csv')\n",
    "#internet = pd.read_csv(r'C:\\Users\\79811\\Downloads\\final_provider\\final_provider\\internet.csv')\n",
    "#personal = pd.read_csv(r'C:\\Users\\79811\\Downloads\\final_provider\\final_provider\\personal.csv')\n",
    "#phone = pd.read_csv(r'C:\\Users\\79811\\Downloads\\final_provider\\final_provider\\phone.csv')"
   ]
  },
  {
   "cell_type": "code",
   "execution_count": 4,
   "id": "93a38b1b",
   "metadata": {},
   "outputs": [
    {
     "data": {
      "text/html": [
       "<div>\n",
       "<style scoped>\n",
       "    .dataframe tbody tr th:only-of-type {\n",
       "        vertical-align: middle;\n",
       "    }\n",
       "\n",
       "    .dataframe tbody tr th {\n",
       "        vertical-align: top;\n",
       "    }\n",
       "\n",
       "    .dataframe thead th {\n",
       "        text-align: right;\n",
       "    }\n",
       "</style>\n",
       "<table border=\"1\" class=\"dataframe\">\n",
       "  <thead>\n",
       "    <tr style=\"text-align: right;\">\n",
       "      <th></th>\n",
       "      <th>BeginDate</th>\n",
       "      <th>EndDate</th>\n",
       "      <th>Type</th>\n",
       "      <th>PaperlessBilling</th>\n",
       "      <th>PaymentMethod</th>\n",
       "      <th>MonthlyCharges</th>\n",
       "      <th>TotalCharges</th>\n",
       "    </tr>\n",
       "    <tr>\n",
       "      <th>customerID</th>\n",
       "      <th></th>\n",
       "      <th></th>\n",
       "      <th></th>\n",
       "      <th></th>\n",
       "      <th></th>\n",
       "      <th></th>\n",
       "      <th></th>\n",
       "    </tr>\n",
       "  </thead>\n",
       "  <tbody>\n",
       "    <tr>\n",
       "      <th>7590-VHVEG</th>\n",
       "      <td>2020-01-01</td>\n",
       "      <td>No</td>\n",
       "      <td>Month-to-month</td>\n",
       "      <td>Yes</td>\n",
       "      <td>Electronic check</td>\n",
       "      <td>29.85</td>\n",
       "      <td>29.85</td>\n",
       "    </tr>\n",
       "    <tr>\n",
       "      <th>5575-GNVDE</th>\n",
       "      <td>2017-04-01</td>\n",
       "      <td>No</td>\n",
       "      <td>One year</td>\n",
       "      <td>No</td>\n",
       "      <td>Mailed check</td>\n",
       "      <td>56.95</td>\n",
       "      <td>1889.5</td>\n",
       "    </tr>\n",
       "    <tr>\n",
       "      <th>3668-QPYBK</th>\n",
       "      <td>2019-10-01</td>\n",
       "      <td>2019-12-01 00:00:00</td>\n",
       "      <td>Month-to-month</td>\n",
       "      <td>Yes</td>\n",
       "      <td>Mailed check</td>\n",
       "      <td>53.85</td>\n",
       "      <td>108.15</td>\n",
       "    </tr>\n",
       "    <tr>\n",
       "      <th>7795-CFOCW</th>\n",
       "      <td>2016-05-01</td>\n",
       "      <td>No</td>\n",
       "      <td>One year</td>\n",
       "      <td>No</td>\n",
       "      <td>Bank transfer (automatic)</td>\n",
       "      <td>42.30</td>\n",
       "      <td>1840.75</td>\n",
       "    </tr>\n",
       "    <tr>\n",
       "      <th>9237-HQITU</th>\n",
       "      <td>2019-09-01</td>\n",
       "      <td>2019-11-01 00:00:00</td>\n",
       "      <td>Month-to-month</td>\n",
       "      <td>Yes</td>\n",
       "      <td>Electronic check</td>\n",
       "      <td>70.70</td>\n",
       "      <td>151.65</td>\n",
       "    </tr>\n",
       "  </tbody>\n",
       "</table>\n",
       "</div>"
      ],
      "text/plain": [
       "             BeginDate              EndDate            Type PaperlessBilling  \\\n",
       "customerID                                                                     \n",
       "7590-VHVEG  2020-01-01                   No  Month-to-month              Yes   \n",
       "5575-GNVDE  2017-04-01                   No        One year               No   \n",
       "3668-QPYBK  2019-10-01  2019-12-01 00:00:00  Month-to-month              Yes   \n",
       "7795-CFOCW  2016-05-01                   No        One year               No   \n",
       "9237-HQITU  2019-09-01  2019-11-01 00:00:00  Month-to-month              Yes   \n",
       "\n",
       "                        PaymentMethod  MonthlyCharges TotalCharges  \n",
       "customerID                                                          \n",
       "7590-VHVEG           Electronic check           29.85        29.85  \n",
       "5575-GNVDE               Mailed check           56.95       1889.5  \n",
       "3668-QPYBK               Mailed check           53.85       108.15  \n",
       "7795-CFOCW  Bank transfer (automatic)           42.30      1840.75  \n",
       "9237-HQITU           Electronic check           70.70       151.65  "
      ]
     },
     "metadata": {},
     "output_type": "display_data"
    },
    {
     "name": "stdout",
     "output_type": "stream",
     "text": [
      "**********************************************************************\n"
     ]
    },
    {
     "data": {
      "text/html": [
       "<div>\n",
       "<style scoped>\n",
       "    .dataframe tbody tr th:only-of-type {\n",
       "        vertical-align: middle;\n",
       "    }\n",
       "\n",
       "    .dataframe tbody tr th {\n",
       "        vertical-align: top;\n",
       "    }\n",
       "\n",
       "    .dataframe thead th {\n",
       "        text-align: right;\n",
       "    }\n",
       "</style>\n",
       "<table border=\"1\" class=\"dataframe\">\n",
       "  <thead>\n",
       "    <tr style=\"text-align: right;\">\n",
       "      <th></th>\n",
       "      <th>InternetService</th>\n",
       "      <th>OnlineSecurity</th>\n",
       "      <th>OnlineBackup</th>\n",
       "      <th>DeviceProtection</th>\n",
       "      <th>TechSupport</th>\n",
       "      <th>StreamingTV</th>\n",
       "      <th>StreamingMovies</th>\n",
       "    </tr>\n",
       "    <tr>\n",
       "      <th>customerID</th>\n",
       "      <th></th>\n",
       "      <th></th>\n",
       "      <th></th>\n",
       "      <th></th>\n",
       "      <th></th>\n",
       "      <th></th>\n",
       "      <th></th>\n",
       "    </tr>\n",
       "  </thead>\n",
       "  <tbody>\n",
       "    <tr>\n",
       "      <th>7590-VHVEG</th>\n",
       "      <td>DSL</td>\n",
       "      <td>No</td>\n",
       "      <td>Yes</td>\n",
       "      <td>No</td>\n",
       "      <td>No</td>\n",
       "      <td>No</td>\n",
       "      <td>No</td>\n",
       "    </tr>\n",
       "    <tr>\n",
       "      <th>5575-GNVDE</th>\n",
       "      <td>DSL</td>\n",
       "      <td>Yes</td>\n",
       "      <td>No</td>\n",
       "      <td>Yes</td>\n",
       "      <td>No</td>\n",
       "      <td>No</td>\n",
       "      <td>No</td>\n",
       "    </tr>\n",
       "    <tr>\n",
       "      <th>3668-QPYBK</th>\n",
       "      <td>DSL</td>\n",
       "      <td>Yes</td>\n",
       "      <td>Yes</td>\n",
       "      <td>No</td>\n",
       "      <td>No</td>\n",
       "      <td>No</td>\n",
       "      <td>No</td>\n",
       "    </tr>\n",
       "    <tr>\n",
       "      <th>7795-CFOCW</th>\n",
       "      <td>DSL</td>\n",
       "      <td>Yes</td>\n",
       "      <td>No</td>\n",
       "      <td>Yes</td>\n",
       "      <td>Yes</td>\n",
       "      <td>No</td>\n",
       "      <td>No</td>\n",
       "    </tr>\n",
       "    <tr>\n",
       "      <th>9237-HQITU</th>\n",
       "      <td>Fiber optic</td>\n",
       "      <td>No</td>\n",
       "      <td>No</td>\n",
       "      <td>No</td>\n",
       "      <td>No</td>\n",
       "      <td>No</td>\n",
       "      <td>No</td>\n",
       "    </tr>\n",
       "  </tbody>\n",
       "</table>\n",
       "</div>"
      ],
      "text/plain": [
       "           InternetService OnlineSecurity OnlineBackup DeviceProtection  \\\n",
       "customerID                                                                \n",
       "7590-VHVEG             DSL             No          Yes               No   \n",
       "5575-GNVDE             DSL            Yes           No              Yes   \n",
       "3668-QPYBK             DSL            Yes          Yes               No   \n",
       "7795-CFOCW             DSL            Yes           No              Yes   \n",
       "9237-HQITU     Fiber optic             No           No               No   \n",
       "\n",
       "           TechSupport StreamingTV StreamingMovies  \n",
       "customerID                                          \n",
       "7590-VHVEG          No          No              No  \n",
       "5575-GNVDE          No          No              No  \n",
       "3668-QPYBK          No          No              No  \n",
       "7795-CFOCW         Yes          No              No  \n",
       "9237-HQITU          No          No              No  "
      ]
     },
     "metadata": {},
     "output_type": "display_data"
    },
    {
     "name": "stdout",
     "output_type": "stream",
     "text": [
      "**********************************************************************\n"
     ]
    },
    {
     "data": {
      "text/html": [
       "<div>\n",
       "<style scoped>\n",
       "    .dataframe tbody tr th:only-of-type {\n",
       "        vertical-align: middle;\n",
       "    }\n",
       "\n",
       "    .dataframe tbody tr th {\n",
       "        vertical-align: top;\n",
       "    }\n",
       "\n",
       "    .dataframe thead th {\n",
       "        text-align: right;\n",
       "    }\n",
       "</style>\n",
       "<table border=\"1\" class=\"dataframe\">\n",
       "  <thead>\n",
       "    <tr style=\"text-align: right;\">\n",
       "      <th></th>\n",
       "      <th>gender</th>\n",
       "      <th>SeniorCitizen</th>\n",
       "      <th>Partner</th>\n",
       "      <th>Dependents</th>\n",
       "    </tr>\n",
       "    <tr>\n",
       "      <th>customerID</th>\n",
       "      <th></th>\n",
       "      <th></th>\n",
       "      <th></th>\n",
       "      <th></th>\n",
       "    </tr>\n",
       "  </thead>\n",
       "  <tbody>\n",
       "    <tr>\n",
       "      <th>7590-VHVEG</th>\n",
       "      <td>Female</td>\n",
       "      <td>0</td>\n",
       "      <td>Yes</td>\n",
       "      <td>No</td>\n",
       "    </tr>\n",
       "    <tr>\n",
       "      <th>5575-GNVDE</th>\n",
       "      <td>Male</td>\n",
       "      <td>0</td>\n",
       "      <td>No</td>\n",
       "      <td>No</td>\n",
       "    </tr>\n",
       "    <tr>\n",
       "      <th>3668-QPYBK</th>\n",
       "      <td>Male</td>\n",
       "      <td>0</td>\n",
       "      <td>No</td>\n",
       "      <td>No</td>\n",
       "    </tr>\n",
       "    <tr>\n",
       "      <th>7795-CFOCW</th>\n",
       "      <td>Male</td>\n",
       "      <td>0</td>\n",
       "      <td>No</td>\n",
       "      <td>No</td>\n",
       "    </tr>\n",
       "    <tr>\n",
       "      <th>9237-HQITU</th>\n",
       "      <td>Female</td>\n",
       "      <td>0</td>\n",
       "      <td>No</td>\n",
       "      <td>No</td>\n",
       "    </tr>\n",
       "  </tbody>\n",
       "</table>\n",
       "</div>"
      ],
      "text/plain": [
       "            gender  SeniorCitizen Partner Dependents\n",
       "customerID                                          \n",
       "7590-VHVEG  Female              0     Yes         No\n",
       "5575-GNVDE    Male              0      No         No\n",
       "3668-QPYBK    Male              0      No         No\n",
       "7795-CFOCW    Male              0      No         No\n",
       "9237-HQITU  Female              0      No         No"
      ]
     },
     "metadata": {},
     "output_type": "display_data"
    },
    {
     "name": "stdout",
     "output_type": "stream",
     "text": [
      "**********************************************************************\n"
     ]
    },
    {
     "data": {
      "text/html": [
       "<div>\n",
       "<style scoped>\n",
       "    .dataframe tbody tr th:only-of-type {\n",
       "        vertical-align: middle;\n",
       "    }\n",
       "\n",
       "    .dataframe tbody tr th {\n",
       "        vertical-align: top;\n",
       "    }\n",
       "\n",
       "    .dataframe thead th {\n",
       "        text-align: right;\n",
       "    }\n",
       "</style>\n",
       "<table border=\"1\" class=\"dataframe\">\n",
       "  <thead>\n",
       "    <tr style=\"text-align: right;\">\n",
       "      <th></th>\n",
       "      <th>MultipleLines</th>\n",
       "    </tr>\n",
       "    <tr>\n",
       "      <th>customerID</th>\n",
       "      <th></th>\n",
       "    </tr>\n",
       "  </thead>\n",
       "  <tbody>\n",
       "    <tr>\n",
       "      <th>5575-GNVDE</th>\n",
       "      <td>No</td>\n",
       "    </tr>\n",
       "    <tr>\n",
       "      <th>3668-QPYBK</th>\n",
       "      <td>No</td>\n",
       "    </tr>\n",
       "    <tr>\n",
       "      <th>9237-HQITU</th>\n",
       "      <td>No</td>\n",
       "    </tr>\n",
       "    <tr>\n",
       "      <th>9305-CDSKC</th>\n",
       "      <td>Yes</td>\n",
       "    </tr>\n",
       "    <tr>\n",
       "      <th>1452-KIOVK</th>\n",
       "      <td>Yes</td>\n",
       "    </tr>\n",
       "  </tbody>\n",
       "</table>\n",
       "</div>"
      ],
      "text/plain": [
       "           MultipleLines\n",
       "customerID              \n",
       "5575-GNVDE            No\n",
       "3668-QPYBK            No\n",
       "9237-HQITU            No\n",
       "9305-CDSKC           Yes\n",
       "1452-KIOVK           Yes"
      ]
     },
     "metadata": {},
     "output_type": "display_data"
    },
    {
     "name": "stdout",
     "output_type": "stream",
     "text": [
      "**********************************************************************\n"
     ]
    }
   ],
   "source": [
    "for data in [contract, internet, personal, phone]: \n",
    "    display(data.head())\n",
    "    (print('*' * 70))"
   ]
  },
  {
   "cell_type": "code",
   "execution_count": 5,
   "id": "d7c55ee7",
   "metadata": {},
   "outputs": [
    {
     "name": "stdout",
     "output_type": "stream",
     "text": [
      "<class 'pandas.core.frame.DataFrame'>\n",
      "Index: 7043 entries, 7590-VHVEG to 3186-AJIEK\n",
      "Data columns (total 7 columns):\n",
      " #   Column            Non-Null Count  Dtype  \n",
      "---  ------            --------------  -----  \n",
      " 0   BeginDate         7043 non-null   object \n",
      " 1   EndDate           7043 non-null   object \n",
      " 2   Type              7043 non-null   object \n",
      " 3   PaperlessBilling  7043 non-null   object \n",
      " 4   PaymentMethod     7043 non-null   object \n",
      " 5   MonthlyCharges    7043 non-null   float64\n",
      " 6   TotalCharges      7043 non-null   object \n",
      "dtypes: float64(1), object(6)\n",
      "memory usage: 440.2+ KB\n"
     ]
    },
    {
     "data": {
      "text/plain": [
       "None"
      ]
     },
     "metadata": {},
     "output_type": "display_data"
    },
    {
     "name": "stdout",
     "output_type": "stream",
     "text": [
      "**********************************************************************\n",
      "<class 'pandas.core.frame.DataFrame'>\n",
      "Index: 5517 entries, 7590-VHVEG to 3186-AJIEK\n",
      "Data columns (total 7 columns):\n",
      " #   Column            Non-Null Count  Dtype \n",
      "---  ------            --------------  ----- \n",
      " 0   InternetService   5517 non-null   object\n",
      " 1   OnlineSecurity    5517 non-null   object\n",
      " 2   OnlineBackup      5517 non-null   object\n",
      " 3   DeviceProtection  5517 non-null   object\n",
      " 4   TechSupport       5517 non-null   object\n",
      " 5   StreamingTV       5517 non-null   object\n",
      " 6   StreamingMovies   5517 non-null   object\n",
      "dtypes: object(7)\n",
      "memory usage: 344.8+ KB\n"
     ]
    },
    {
     "data": {
      "text/plain": [
       "None"
      ]
     },
     "metadata": {},
     "output_type": "display_data"
    },
    {
     "name": "stdout",
     "output_type": "stream",
     "text": [
      "**********************************************************************\n",
      "<class 'pandas.core.frame.DataFrame'>\n",
      "Index: 7043 entries, 7590-VHVEG to 3186-AJIEK\n",
      "Data columns (total 4 columns):\n",
      " #   Column         Non-Null Count  Dtype \n",
      "---  ------         --------------  ----- \n",
      " 0   gender         7043 non-null   object\n",
      " 1   SeniorCitizen  7043 non-null   int64 \n",
      " 2   Partner        7043 non-null   object\n",
      " 3   Dependents     7043 non-null   object\n",
      "dtypes: int64(1), object(3)\n",
      "memory usage: 275.1+ KB\n"
     ]
    },
    {
     "data": {
      "text/plain": [
       "None"
      ]
     },
     "metadata": {},
     "output_type": "display_data"
    },
    {
     "name": "stdout",
     "output_type": "stream",
     "text": [
      "**********************************************************************\n",
      "<class 'pandas.core.frame.DataFrame'>\n",
      "Index: 6361 entries, 5575-GNVDE to 3186-AJIEK\n",
      "Data columns (total 1 columns):\n",
      " #   Column         Non-Null Count  Dtype \n",
      "---  ------         --------------  ----- \n",
      " 0   MultipleLines  6361 non-null   object\n",
      "dtypes: object(1)\n",
      "memory usage: 99.4+ KB\n"
     ]
    },
    {
     "data": {
      "text/plain": [
       "None"
      ]
     },
     "metadata": {},
     "output_type": "display_data"
    },
    {
     "name": "stdout",
     "output_type": "stream",
     "text": [
      "**********************************************************************\n"
     ]
    }
   ],
   "source": [
    "for data in [contract, internet, personal, phone]:\n",
    "    display(data.info())\n",
    "    (print('*' * 70))"
   ]
  },
  {
   "cell_type": "markdown",
   "id": "7455f5da",
   "metadata": {},
   "source": [
    "**Проведем описание столбцов для лучшего понимания :**\n",
    "\n",
    "contract:\n",
    "\n",
    "- customerID - код клиента\n",
    "- BeginDate - дата начала использования услугами компании\n",
    "- EndDate - дата окончания использования услугами компании\n",
    "- Type - тип оплаты: ежемесячно, раз в год или раз в два года\n",
    "- PaperlessBilling - выставляется ли счет электронно (да/нет)\n",
    "- PaymentMethod - способ оплаты\n",
    "- MonthlyCharges - ежемесячный платёж (сумма)\n",
    "- TotalCharges - сумма всех платежей\n",
    "\n",
    "internet:\n",
    "\n",
    "- customerID - код клиента        \n",
    "- InternetService - тип подключения (DSL или Fiber optic)\n",
    "- OnlineSecurity - защита онлайн (да/нет)   \n",
    "- OnlineBackup - онлайн бэкап (да/нет)     \n",
    "- DeviceProtection -  защита устройства (да/нет)  \n",
    "- TechSupport - тех. поддержка (да/нет)      \n",
    "- StreamingTV - онлайнТВ (да/нет)      \n",
    "- StreamingMovies - онлайн кинотеатр (да/нет)\n",
    "\n",
    "personal:\n",
    "\n",
    "- customerID - код клиента\n",
    "- gender - пол клиента\n",
    "- SeniorCitizen - возрастной клиент(страше скольки???)\n",
    "- Partner - состоит ли в браке клиент\n",
    "- Dependents - есть ли у клиента члены семьи на обеспечении (дети, нетрудоспособные люди)\n",
    "\n",
    "\n",
    "phone:\n",
    "\n",
    "- customerID - код клиента\n",
    "- BeginDate - подключено ли несколько телефонный линий одновременно\n"
   ]
  },
  {
   "cell_type": "markdown",
   "id": "765090c2",
   "metadata": {},
   "source": [
    "**ВЫВОДЫ ПО ДАННЫМ** \n",
    "\n",
    "1. количество customerID почти во всех данных различается ( не считая contract и personal). Необходимо проверить на дубликаты.\n",
    "2. Необходимо привести данные к нужному типу(стобцы TotalCharges к типу float, BeginDate и EndDate к формату даты)"
   ]
  },
  {
   "cell_type": "markdown",
   "id": "0f4d009f",
   "metadata": {},
   "source": [
    "Создадим переменную для ушедших клиентов придав им значения 0(ушёл) и 1(остался)"
   ]
  },
  {
   "cell_type": "code",
   "execution_count": 6,
   "id": "e40d3281",
   "metadata": {},
   "outputs": [
    {
     "data": {
      "text/plain": [
       "1    5174\n",
       "0    1869\n",
       "Name: Client_left, dtype: int64"
      ]
     },
     "execution_count": 6,
     "metadata": {},
     "output_type": "execute_result"
    }
   ],
   "source": [
    "contract['Client_left'] = contract['EndDate'].apply(lambda x: 1 if x == 'No' else 0)\n",
    "contract['Client_left'].value_counts()\n"
   ]
  },
  {
   "cell_type": "code",
   "execution_count": 7,
   "id": "94d571a1",
   "metadata": {},
   "outputs": [
    {
     "data": {
      "text/html": [
       "<div>\n",
       "<style scoped>\n",
       "    .dataframe tbody tr th:only-of-type {\n",
       "        vertical-align: middle;\n",
       "    }\n",
       "\n",
       "    .dataframe tbody tr th {\n",
       "        vertical-align: top;\n",
       "    }\n",
       "\n",
       "    .dataframe thead th {\n",
       "        text-align: right;\n",
       "    }\n",
       "</style>\n",
       "<table border=\"1\" class=\"dataframe\">\n",
       "  <thead>\n",
       "    <tr style=\"text-align: right;\">\n",
       "      <th></th>\n",
       "      <th>BeginDate</th>\n",
       "      <th>EndDate</th>\n",
       "      <th>Type</th>\n",
       "      <th>PaperlessBilling</th>\n",
       "      <th>PaymentMethod</th>\n",
       "      <th>MonthlyCharges</th>\n",
       "      <th>TotalCharges</th>\n",
       "      <th>Client_left</th>\n",
       "    </tr>\n",
       "    <tr>\n",
       "      <th>customerID</th>\n",
       "      <th></th>\n",
       "      <th></th>\n",
       "      <th></th>\n",
       "      <th></th>\n",
       "      <th></th>\n",
       "      <th></th>\n",
       "      <th></th>\n",
       "      <th></th>\n",
       "    </tr>\n",
       "  </thead>\n",
       "  <tbody>\n",
       "    <tr>\n",
       "      <th>7590-VHVEG</th>\n",
       "      <td>2020-01-01</td>\n",
       "      <td>No</td>\n",
       "      <td>Month-to-month</td>\n",
       "      <td>Yes</td>\n",
       "      <td>Electronic check</td>\n",
       "      <td>29.85</td>\n",
       "      <td>29.85</td>\n",
       "      <td>1</td>\n",
       "    </tr>\n",
       "    <tr>\n",
       "      <th>5575-GNVDE</th>\n",
       "      <td>2017-04-01</td>\n",
       "      <td>No</td>\n",
       "      <td>One year</td>\n",
       "      <td>No</td>\n",
       "      <td>Mailed check</td>\n",
       "      <td>56.95</td>\n",
       "      <td>1889.5</td>\n",
       "      <td>1</td>\n",
       "    </tr>\n",
       "    <tr>\n",
       "      <th>3668-QPYBK</th>\n",
       "      <td>2019-10-01</td>\n",
       "      <td>2019-12-01 00:00:00</td>\n",
       "      <td>Month-to-month</td>\n",
       "      <td>Yes</td>\n",
       "      <td>Mailed check</td>\n",
       "      <td>53.85</td>\n",
       "      <td>108.15</td>\n",
       "      <td>0</td>\n",
       "    </tr>\n",
       "    <tr>\n",
       "      <th>7795-CFOCW</th>\n",
       "      <td>2016-05-01</td>\n",
       "      <td>No</td>\n",
       "      <td>One year</td>\n",
       "      <td>No</td>\n",
       "      <td>Bank transfer (automatic)</td>\n",
       "      <td>42.30</td>\n",
       "      <td>1840.75</td>\n",
       "      <td>1</td>\n",
       "    </tr>\n",
       "    <tr>\n",
       "      <th>9237-HQITU</th>\n",
       "      <td>2019-09-01</td>\n",
       "      <td>2019-11-01 00:00:00</td>\n",
       "      <td>Month-to-month</td>\n",
       "      <td>Yes</td>\n",
       "      <td>Electronic check</td>\n",
       "      <td>70.70</td>\n",
       "      <td>151.65</td>\n",
       "      <td>0</td>\n",
       "    </tr>\n",
       "  </tbody>\n",
       "</table>\n",
       "</div>"
      ],
      "text/plain": [
       "             BeginDate              EndDate            Type PaperlessBilling  \\\n",
       "customerID                                                                     \n",
       "7590-VHVEG  2020-01-01                   No  Month-to-month              Yes   \n",
       "5575-GNVDE  2017-04-01                   No        One year               No   \n",
       "3668-QPYBK  2019-10-01  2019-12-01 00:00:00  Month-to-month              Yes   \n",
       "7795-CFOCW  2016-05-01                   No        One year               No   \n",
       "9237-HQITU  2019-09-01  2019-11-01 00:00:00  Month-to-month              Yes   \n",
       "\n",
       "                        PaymentMethod  MonthlyCharges TotalCharges  \\\n",
       "customerID                                                           \n",
       "7590-VHVEG           Electronic check           29.85        29.85   \n",
       "5575-GNVDE               Mailed check           56.95       1889.5   \n",
       "3668-QPYBK               Mailed check           53.85       108.15   \n",
       "7795-CFOCW  Bank transfer (automatic)           42.30      1840.75   \n",
       "9237-HQITU           Electronic check           70.70       151.65   \n",
       "\n",
       "            Client_left  \n",
       "customerID               \n",
       "7590-VHVEG            1  \n",
       "5575-GNVDE            1  \n",
       "3668-QPYBK            0  \n",
       "7795-CFOCW            1  \n",
       "9237-HQITU            0  "
      ]
     },
     "execution_count": 7,
     "metadata": {},
     "output_type": "execute_result"
    }
   ],
   "source": [
    "contract.head()"
   ]
  },
  {
   "cell_type": "markdown",
   "id": "2a1d9828",
   "metadata": {},
   "source": [
    "Столбец дополнительный создали, но для начала попробую объединить все данные в один датафрейм"
   ]
  },
  {
   "cell_type": "code",
   "execution_count": 8,
   "id": "00acdbff",
   "metadata": {},
   "outputs": [],
   "source": [
    "data = contract.merge(internet, on ='customerID', how = 'left')\n",
    "data = data.merge(personal, on ='customerID', how = 'left')\n",
    "data = data.merge(phone, on ='customerID', how = 'left')"
   ]
  },
  {
   "cell_type": "code",
   "execution_count": 9,
   "id": "6ebbe6ba",
   "metadata": {},
   "outputs": [
    {
     "name": "stdout",
     "output_type": "stream",
     "text": [
      "<class 'pandas.core.frame.DataFrame'>\n",
      "Index: 7043 entries, 7590-VHVEG to 3186-AJIEK\n",
      "Data columns (total 20 columns):\n",
      " #   Column            Non-Null Count  Dtype  \n",
      "---  ------            --------------  -----  \n",
      " 0   BeginDate         7043 non-null   object \n",
      " 1   EndDate           7043 non-null   object \n",
      " 2   Type              7043 non-null   object \n",
      " 3   PaperlessBilling  7043 non-null   object \n",
      " 4   PaymentMethod     7043 non-null   object \n",
      " 5   MonthlyCharges    7043 non-null   float64\n",
      " 6   TotalCharges      7043 non-null   object \n",
      " 7   Client_left       7043 non-null   int64  \n",
      " 8   InternetService   5517 non-null   object \n",
      " 9   OnlineSecurity    5517 non-null   object \n",
      " 10  OnlineBackup      5517 non-null   object \n",
      " 11  DeviceProtection  5517 non-null   object \n",
      " 12  TechSupport       5517 non-null   object \n",
      " 13  StreamingTV       5517 non-null   object \n",
      " 14  StreamingMovies   5517 non-null   object \n",
      " 15  gender            7043 non-null   object \n",
      " 16  SeniorCitizen     7043 non-null   int64  \n",
      " 17  Partner           7043 non-null   object \n",
      " 18  Dependents        7043 non-null   object \n",
      " 19  MultipleLines     6361 non-null   object \n",
      "dtypes: float64(1), int64(2), object(17)\n",
      "memory usage: 1.1+ MB\n"
     ]
    }
   ],
   "source": [
    "data.info()"
   ]
  },
  {
   "cell_type": "markdown",
   "id": "42d1ef3e",
   "metadata": {},
   "source": [
    "У нас появились пропуски в данных. Связно это с тем, что если услуга не оказывалась тому или иному клиенту, то её просто не указывают для данного кликнта, отсюда появились и пустые значения. Предлагаю заполнить данные проспуски на значение - NA (Not Applicable)"
   ]
  },
  {
   "cell_type": "code",
   "execution_count": 10,
   "id": "e639397c",
   "metadata": {},
   "outputs": [],
   "source": [
    "empty_values= ['MultipleLines', 'InternetService', 'OnlineSecurity', 'OnlineBackup', 'DeviceProtection', 'TechSupport', 'StreamingTV', 'StreamingMovies']\n",
    "\n",
    "for empty in empty_values:\n",
    "    data[empty] = data[empty].fillna('NA')"
   ]
  },
  {
   "cell_type": "code",
   "execution_count": 11,
   "id": "8d441eef",
   "metadata": {},
   "outputs": [
    {
     "name": "stdout",
     "output_type": "stream",
     "text": [
      "<class 'pandas.core.frame.DataFrame'>\n",
      "Index: 7043 entries, 7590-VHVEG to 3186-AJIEK\n",
      "Data columns (total 20 columns):\n",
      " #   Column            Non-Null Count  Dtype  \n",
      "---  ------            --------------  -----  \n",
      " 0   BeginDate         7043 non-null   object \n",
      " 1   EndDate           7043 non-null   object \n",
      " 2   Type              7043 non-null   object \n",
      " 3   PaperlessBilling  7043 non-null   object \n",
      " 4   PaymentMethod     7043 non-null   object \n",
      " 5   MonthlyCharges    7043 non-null   float64\n",
      " 6   TotalCharges      7043 non-null   object \n",
      " 7   Client_left       7043 non-null   int64  \n",
      " 8   InternetService   7043 non-null   object \n",
      " 9   OnlineSecurity    7043 non-null   object \n",
      " 10  OnlineBackup      7043 non-null   object \n",
      " 11  DeviceProtection  7043 non-null   object \n",
      " 12  TechSupport       7043 non-null   object \n",
      " 13  StreamingTV       7043 non-null   object \n",
      " 14  StreamingMovies   7043 non-null   object \n",
      " 15  gender            7043 non-null   object \n",
      " 16  SeniorCitizen     7043 non-null   int64  \n",
      " 17  Partner           7043 non-null   object \n",
      " 18  Dependents        7043 non-null   object \n",
      " 19  MultipleLines     7043 non-null   object \n",
      "dtypes: float64(1), int64(2), object(17)\n",
      "memory usage: 1.1+ MB\n"
     ]
    }
   ],
   "source": [
    "data.info()"
   ]
  },
  {
   "cell_type": "code",
   "execution_count": 12,
   "id": "bcd79224",
   "metadata": {},
   "outputs": [
    {
     "data": {
      "text/plain": [
       "0"
      ]
     },
     "execution_count": 12,
     "metadata": {},
     "output_type": "execute_result"
    }
   ],
   "source": [
    "#проверка на дубликаты\n",
    "data.index.duplicated().sum()"
   ]
  },
  {
   "cell_type": "markdown",
   "id": "3750d2eb",
   "metadata": {},
   "source": [
    "Займёмся обработкой столбцов (приведем к нужному типу):\n",
    "\n",
    "- TotalCharges к типу float \n",
    "- BeginDate  к формату даты \n",
    "- EndDate  к формату даты \n"
   ]
  },
  {
   "cell_type": "code",
   "execution_count": 13,
   "id": "d02669a3",
   "metadata": {},
   "outputs": [
    {
     "data": {
      "text/html": [
       "<div>\n",
       "<style scoped>\n",
       "    .dataframe tbody tr th:only-of-type {\n",
       "        vertical-align: middle;\n",
       "    }\n",
       "\n",
       "    .dataframe tbody tr th {\n",
       "        vertical-align: top;\n",
       "    }\n",
       "\n",
       "    .dataframe thead th {\n",
       "        text-align: right;\n",
       "    }\n",
       "</style>\n",
       "<table border=\"1\" class=\"dataframe\">\n",
       "  <thead>\n",
       "    <tr style=\"text-align: right;\">\n",
       "      <th></th>\n",
       "      <th>BeginDate</th>\n",
       "      <th>EndDate</th>\n",
       "      <th>Type</th>\n",
       "      <th>PaperlessBilling</th>\n",
       "      <th>PaymentMethod</th>\n",
       "      <th>MonthlyCharges</th>\n",
       "      <th>TotalCharges</th>\n",
       "      <th>Client_left</th>\n",
       "      <th>InternetService</th>\n",
       "      <th>OnlineSecurity</th>\n",
       "      <th>OnlineBackup</th>\n",
       "      <th>DeviceProtection</th>\n",
       "      <th>TechSupport</th>\n",
       "      <th>StreamingTV</th>\n",
       "      <th>StreamingMovies</th>\n",
       "      <th>gender</th>\n",
       "      <th>SeniorCitizen</th>\n",
       "      <th>Partner</th>\n",
       "      <th>Dependents</th>\n",
       "      <th>MultipleLines</th>\n",
       "    </tr>\n",
       "    <tr>\n",
       "      <th>customerID</th>\n",
       "      <th></th>\n",
       "      <th></th>\n",
       "      <th></th>\n",
       "      <th></th>\n",
       "      <th></th>\n",
       "      <th></th>\n",
       "      <th></th>\n",
       "      <th></th>\n",
       "      <th></th>\n",
       "      <th></th>\n",
       "      <th></th>\n",
       "      <th></th>\n",
       "      <th></th>\n",
       "      <th></th>\n",
       "      <th></th>\n",
       "      <th></th>\n",
       "      <th></th>\n",
       "      <th></th>\n",
       "      <th></th>\n",
       "      <th></th>\n",
       "    </tr>\n",
       "  </thead>\n",
       "  <tbody>\n",
       "    <tr>\n",
       "      <th>4472-LVYGI</th>\n",
       "      <td>2020-02-01</td>\n",
       "      <td>No</td>\n",
       "      <td>Two year</td>\n",
       "      <td>Yes</td>\n",
       "      <td>Bank transfer (automatic)</td>\n",
       "      <td>52.55</td>\n",
       "      <td></td>\n",
       "      <td>1</td>\n",
       "      <td>DSL</td>\n",
       "      <td>Yes</td>\n",
       "      <td>No</td>\n",
       "      <td>Yes</td>\n",
       "      <td>Yes</td>\n",
       "      <td>Yes</td>\n",
       "      <td>No</td>\n",
       "      <td>Female</td>\n",
       "      <td>0</td>\n",
       "      <td>Yes</td>\n",
       "      <td>Yes</td>\n",
       "      <td>NA</td>\n",
       "    </tr>\n",
       "    <tr>\n",
       "      <th>3115-CZMZD</th>\n",
       "      <td>2020-02-01</td>\n",
       "      <td>No</td>\n",
       "      <td>Two year</td>\n",
       "      <td>No</td>\n",
       "      <td>Mailed check</td>\n",
       "      <td>20.25</td>\n",
       "      <td></td>\n",
       "      <td>1</td>\n",
       "      <td>NA</td>\n",
       "      <td>NA</td>\n",
       "      <td>NA</td>\n",
       "      <td>NA</td>\n",
       "      <td>NA</td>\n",
       "      <td>NA</td>\n",
       "      <td>NA</td>\n",
       "      <td>Male</td>\n",
       "      <td>0</td>\n",
       "      <td>No</td>\n",
       "      <td>Yes</td>\n",
       "      <td>No</td>\n",
       "    </tr>\n",
       "    <tr>\n",
       "      <th>5709-LVOEQ</th>\n",
       "      <td>2020-02-01</td>\n",
       "      <td>No</td>\n",
       "      <td>Two year</td>\n",
       "      <td>No</td>\n",
       "      <td>Mailed check</td>\n",
       "      <td>80.85</td>\n",
       "      <td></td>\n",
       "      <td>1</td>\n",
       "      <td>DSL</td>\n",
       "      <td>Yes</td>\n",
       "      <td>Yes</td>\n",
       "      <td>Yes</td>\n",
       "      <td>No</td>\n",
       "      <td>Yes</td>\n",
       "      <td>Yes</td>\n",
       "      <td>Female</td>\n",
       "      <td>0</td>\n",
       "      <td>Yes</td>\n",
       "      <td>Yes</td>\n",
       "      <td>No</td>\n",
       "    </tr>\n",
       "    <tr>\n",
       "      <th>4367-NUYAO</th>\n",
       "      <td>2020-02-01</td>\n",
       "      <td>No</td>\n",
       "      <td>Two year</td>\n",
       "      <td>No</td>\n",
       "      <td>Mailed check</td>\n",
       "      <td>25.75</td>\n",
       "      <td></td>\n",
       "      <td>1</td>\n",
       "      <td>NA</td>\n",
       "      <td>NA</td>\n",
       "      <td>NA</td>\n",
       "      <td>NA</td>\n",
       "      <td>NA</td>\n",
       "      <td>NA</td>\n",
       "      <td>NA</td>\n",
       "      <td>Male</td>\n",
       "      <td>0</td>\n",
       "      <td>Yes</td>\n",
       "      <td>Yes</td>\n",
       "      <td>Yes</td>\n",
       "    </tr>\n",
       "    <tr>\n",
       "      <th>1371-DWPAZ</th>\n",
       "      <td>2020-02-01</td>\n",
       "      <td>No</td>\n",
       "      <td>Two year</td>\n",
       "      <td>No</td>\n",
       "      <td>Credit card (automatic)</td>\n",
       "      <td>56.05</td>\n",
       "      <td></td>\n",
       "      <td>1</td>\n",
       "      <td>DSL</td>\n",
       "      <td>Yes</td>\n",
       "      <td>Yes</td>\n",
       "      <td>Yes</td>\n",
       "      <td>Yes</td>\n",
       "      <td>Yes</td>\n",
       "      <td>No</td>\n",
       "      <td>Female</td>\n",
       "      <td>0</td>\n",
       "      <td>Yes</td>\n",
       "      <td>Yes</td>\n",
       "      <td>NA</td>\n",
       "    </tr>\n",
       "    <tr>\n",
       "      <th>7644-OMVMY</th>\n",
       "      <td>2020-02-01</td>\n",
       "      <td>No</td>\n",
       "      <td>Two year</td>\n",
       "      <td>No</td>\n",
       "      <td>Mailed check</td>\n",
       "      <td>19.85</td>\n",
       "      <td></td>\n",
       "      <td>1</td>\n",
       "      <td>NA</td>\n",
       "      <td>NA</td>\n",
       "      <td>NA</td>\n",
       "      <td>NA</td>\n",
       "      <td>NA</td>\n",
       "      <td>NA</td>\n",
       "      <td>NA</td>\n",
       "      <td>Male</td>\n",
       "      <td>0</td>\n",
       "      <td>Yes</td>\n",
       "      <td>Yes</td>\n",
       "      <td>No</td>\n",
       "    </tr>\n",
       "    <tr>\n",
       "      <th>3213-VVOLG</th>\n",
       "      <td>2020-02-01</td>\n",
       "      <td>No</td>\n",
       "      <td>Two year</td>\n",
       "      <td>No</td>\n",
       "      <td>Mailed check</td>\n",
       "      <td>25.35</td>\n",
       "      <td></td>\n",
       "      <td>1</td>\n",
       "      <td>NA</td>\n",
       "      <td>NA</td>\n",
       "      <td>NA</td>\n",
       "      <td>NA</td>\n",
       "      <td>NA</td>\n",
       "      <td>NA</td>\n",
       "      <td>NA</td>\n",
       "      <td>Male</td>\n",
       "      <td>0</td>\n",
       "      <td>Yes</td>\n",
       "      <td>Yes</td>\n",
       "      <td>Yes</td>\n",
       "    </tr>\n",
       "    <tr>\n",
       "      <th>2520-SGTTA</th>\n",
       "      <td>2020-02-01</td>\n",
       "      <td>No</td>\n",
       "      <td>Two year</td>\n",
       "      <td>No</td>\n",
       "      <td>Mailed check</td>\n",
       "      <td>20.00</td>\n",
       "      <td></td>\n",
       "      <td>1</td>\n",
       "      <td>NA</td>\n",
       "      <td>NA</td>\n",
       "      <td>NA</td>\n",
       "      <td>NA</td>\n",
       "      <td>NA</td>\n",
       "      <td>NA</td>\n",
       "      <td>NA</td>\n",
       "      <td>Female</td>\n",
       "      <td>0</td>\n",
       "      <td>Yes</td>\n",
       "      <td>Yes</td>\n",
       "      <td>No</td>\n",
       "    </tr>\n",
       "    <tr>\n",
       "      <th>2923-ARZLG</th>\n",
       "      <td>2020-02-01</td>\n",
       "      <td>No</td>\n",
       "      <td>One year</td>\n",
       "      <td>Yes</td>\n",
       "      <td>Mailed check</td>\n",
       "      <td>19.70</td>\n",
       "      <td></td>\n",
       "      <td>1</td>\n",
       "      <td>NA</td>\n",
       "      <td>NA</td>\n",
       "      <td>NA</td>\n",
       "      <td>NA</td>\n",
       "      <td>NA</td>\n",
       "      <td>NA</td>\n",
       "      <td>NA</td>\n",
       "      <td>Male</td>\n",
       "      <td>0</td>\n",
       "      <td>Yes</td>\n",
       "      <td>Yes</td>\n",
       "      <td>No</td>\n",
       "    </tr>\n",
       "    <tr>\n",
       "      <th>4075-WKNIU</th>\n",
       "      <td>2020-02-01</td>\n",
       "      <td>No</td>\n",
       "      <td>Two year</td>\n",
       "      <td>No</td>\n",
       "      <td>Mailed check</td>\n",
       "      <td>73.35</td>\n",
       "      <td></td>\n",
       "      <td>1</td>\n",
       "      <td>DSL</td>\n",
       "      <td>No</td>\n",
       "      <td>Yes</td>\n",
       "      <td>Yes</td>\n",
       "      <td>Yes</td>\n",
       "      <td>Yes</td>\n",
       "      <td>No</td>\n",
       "      <td>Female</td>\n",
       "      <td>0</td>\n",
       "      <td>Yes</td>\n",
       "      <td>Yes</td>\n",
       "      <td>Yes</td>\n",
       "    </tr>\n",
       "    <tr>\n",
       "      <th>2775-SEFEE</th>\n",
       "      <td>2020-02-01</td>\n",
       "      <td>No</td>\n",
       "      <td>Two year</td>\n",
       "      <td>Yes</td>\n",
       "      <td>Bank transfer (automatic)</td>\n",
       "      <td>61.90</td>\n",
       "      <td></td>\n",
       "      <td>1</td>\n",
       "      <td>DSL</td>\n",
       "      <td>Yes</td>\n",
       "      <td>Yes</td>\n",
       "      <td>No</td>\n",
       "      <td>Yes</td>\n",
       "      <td>No</td>\n",
       "      <td>No</td>\n",
       "      <td>Male</td>\n",
       "      <td>0</td>\n",
       "      <td>No</td>\n",
       "      <td>Yes</td>\n",
       "      <td>Yes</td>\n",
       "    </tr>\n",
       "  </tbody>\n",
       "</table>\n",
       "</div>"
      ],
      "text/plain": [
       "             BeginDate EndDate      Type PaperlessBilling  \\\n",
       "customerID                                                  \n",
       "4472-LVYGI  2020-02-01      No  Two year              Yes   \n",
       "3115-CZMZD  2020-02-01      No  Two year               No   \n",
       "5709-LVOEQ  2020-02-01      No  Two year               No   \n",
       "4367-NUYAO  2020-02-01      No  Two year               No   \n",
       "1371-DWPAZ  2020-02-01      No  Two year               No   \n",
       "7644-OMVMY  2020-02-01      No  Two year               No   \n",
       "3213-VVOLG  2020-02-01      No  Two year               No   \n",
       "2520-SGTTA  2020-02-01      No  Two year               No   \n",
       "2923-ARZLG  2020-02-01      No  One year              Yes   \n",
       "4075-WKNIU  2020-02-01      No  Two year               No   \n",
       "2775-SEFEE  2020-02-01      No  Two year              Yes   \n",
       "\n",
       "                        PaymentMethod  MonthlyCharges TotalCharges  \\\n",
       "customerID                                                           \n",
       "4472-LVYGI  Bank transfer (automatic)           52.55                \n",
       "3115-CZMZD               Mailed check           20.25                \n",
       "5709-LVOEQ               Mailed check           80.85                \n",
       "4367-NUYAO               Mailed check           25.75                \n",
       "1371-DWPAZ    Credit card (automatic)           56.05                \n",
       "7644-OMVMY               Mailed check           19.85                \n",
       "3213-VVOLG               Mailed check           25.35                \n",
       "2520-SGTTA               Mailed check           20.00                \n",
       "2923-ARZLG               Mailed check           19.70                \n",
       "4075-WKNIU               Mailed check           73.35                \n",
       "2775-SEFEE  Bank transfer (automatic)           61.90                \n",
       "\n",
       "            Client_left InternetService OnlineSecurity OnlineBackup  \\\n",
       "customerID                                                            \n",
       "4472-LVYGI            1             DSL            Yes           No   \n",
       "3115-CZMZD            1              NA             NA           NA   \n",
       "5709-LVOEQ            1             DSL            Yes          Yes   \n",
       "4367-NUYAO            1              NA             NA           NA   \n",
       "1371-DWPAZ            1             DSL            Yes          Yes   \n",
       "7644-OMVMY            1              NA             NA           NA   \n",
       "3213-VVOLG            1              NA             NA           NA   \n",
       "2520-SGTTA            1              NA             NA           NA   \n",
       "2923-ARZLG            1              NA             NA           NA   \n",
       "4075-WKNIU            1             DSL             No          Yes   \n",
       "2775-SEFEE            1             DSL            Yes          Yes   \n",
       "\n",
       "           DeviceProtection TechSupport StreamingTV StreamingMovies  gender  \\\n",
       "customerID                                                                    \n",
       "4472-LVYGI              Yes         Yes         Yes              No  Female   \n",
       "3115-CZMZD               NA          NA          NA              NA    Male   \n",
       "5709-LVOEQ              Yes          No         Yes             Yes  Female   \n",
       "4367-NUYAO               NA          NA          NA              NA    Male   \n",
       "1371-DWPAZ              Yes         Yes         Yes              No  Female   \n",
       "7644-OMVMY               NA          NA          NA              NA    Male   \n",
       "3213-VVOLG               NA          NA          NA              NA    Male   \n",
       "2520-SGTTA               NA          NA          NA              NA  Female   \n",
       "2923-ARZLG               NA          NA          NA              NA    Male   \n",
       "4075-WKNIU              Yes         Yes         Yes              No  Female   \n",
       "2775-SEFEE               No         Yes          No              No    Male   \n",
       "\n",
       "            SeniorCitizen Partner Dependents MultipleLines  \n",
       "customerID                                                  \n",
       "4472-LVYGI              0     Yes        Yes            NA  \n",
       "3115-CZMZD              0      No        Yes            No  \n",
       "5709-LVOEQ              0     Yes        Yes            No  \n",
       "4367-NUYAO              0     Yes        Yes           Yes  \n",
       "1371-DWPAZ              0     Yes        Yes            NA  \n",
       "7644-OMVMY              0     Yes        Yes            No  \n",
       "3213-VVOLG              0     Yes        Yes           Yes  \n",
       "2520-SGTTA              0     Yes        Yes            No  \n",
       "2923-ARZLG              0     Yes        Yes            No  \n",
       "4075-WKNIU              0     Yes        Yes           Yes  \n",
       "2775-SEFEE              0      No        Yes           Yes  "
      ]
     },
     "execution_count": 13,
     "metadata": {},
     "output_type": "execute_result"
    }
   ],
   "source": [
    "# data['TotalCharges'] = data['TotalCharges'].astype('float') не смог перевести, кажется тут есть пропуски, посмотрю на этот столбец отдельно\n",
    "data.query('TotalCharges == \" \"') "
   ]
  },
  {
   "cell_type": "markdown",
   "id": "6527fde7",
   "metadata": {},
   "source": [
    "Да пропуски имеются для людей кто является клиентом меньше месяца, заполним пустые значения значениями месячными"
   ]
  },
  {
   "cell_type": "code",
   "execution_count": 14,
   "id": "a3d04f67",
   "metadata": {
    "scrolled": false
   },
   "outputs": [],
   "source": [
    "data.loc[data['TotalCharges'] == ' ', 'TotalCharges'] = data['MonthlyCharges']\n",
    "data['TotalCharges'] = data['TotalCharges'].astype('float')"
   ]
  },
  {
   "cell_type": "markdown",
   "id": "85c989ee",
   "metadata": {},
   "source": [
    "Заменим все значения \"No\" в EndDate на статус Active "
   ]
  },
  {
   "cell_type": "code",
   "execution_count": 15,
   "id": "d48f9238",
   "metadata": {},
   "outputs": [],
   "source": [
    "data['BeginDate']=pd.to_datetime(data['BeginDate'],format = '%Y-%m-%d')\n",
    "data['EndDate']=pd.to_datetime(data.loc[data['EndDate'] != 'No','EndDate'],format = '%Y-%m-%dT%H:%M:%S')"
   ]
  },
  {
   "cell_type": "code",
   "execution_count": 16,
   "id": "074374e2",
   "metadata": {},
   "outputs": [],
   "source": [
    "data['EndDate'].fillna('Active',inplace = True) #заменим значение No на Active для удобства"
   ]
  },
  {
   "cell_type": "code",
   "execution_count": 17,
   "id": "c1c68040",
   "metadata": {},
   "outputs": [
    {
     "name": "stdout",
     "output_type": "stream",
     "text": [
      "<class 'pandas.core.frame.DataFrame'>\n",
      "Index: 7043 entries, 7590-VHVEG to 3186-AJIEK\n",
      "Data columns (total 20 columns):\n",
      " #   Column            Non-Null Count  Dtype         \n",
      "---  ------            --------------  -----         \n",
      " 0   BeginDate         7043 non-null   datetime64[ns]\n",
      " 1   EndDate           7043 non-null   object        \n",
      " 2   Type              7043 non-null   object        \n",
      " 3   PaperlessBilling  7043 non-null   object        \n",
      " 4   PaymentMethod     7043 non-null   object        \n",
      " 5   MonthlyCharges    7043 non-null   float64       \n",
      " 6   TotalCharges      7043 non-null   float64       \n",
      " 7   Client_left       7043 non-null   int64         \n",
      " 8   InternetService   7043 non-null   object        \n",
      " 9   OnlineSecurity    7043 non-null   object        \n",
      " 10  OnlineBackup      7043 non-null   object        \n",
      " 11  DeviceProtection  7043 non-null   object        \n",
      " 12  TechSupport       7043 non-null   object        \n",
      " 13  StreamingTV       7043 non-null   object        \n",
      " 14  StreamingMovies   7043 non-null   object        \n",
      " 15  gender            7043 non-null   object        \n",
      " 16  SeniorCitizen     7043 non-null   int64         \n",
      " 17  Partner           7043 non-null   object        \n",
      " 18  Dependents        7043 non-null   object        \n",
      " 19  MultipleLines     7043 non-null   object        \n",
      "dtypes: datetime64[ns](1), float64(2), int64(2), object(15)\n",
      "memory usage: 1.4+ MB\n"
     ]
    }
   ],
   "source": [
    "data.info()#проверяем"
   ]
  },
  {
   "cell_type": "code",
   "execution_count": 18,
   "id": "ca751381",
   "metadata": {},
   "outputs": [
    {
     "data": {
      "text/html": [
       "<div>\n",
       "<style scoped>\n",
       "    .dataframe tbody tr th:only-of-type {\n",
       "        vertical-align: middle;\n",
       "    }\n",
       "\n",
       "    .dataframe tbody tr th {\n",
       "        vertical-align: top;\n",
       "    }\n",
       "\n",
       "    .dataframe thead th {\n",
       "        text-align: right;\n",
       "    }\n",
       "</style>\n",
       "<table border=\"1\" class=\"dataframe\">\n",
       "  <thead>\n",
       "    <tr style=\"text-align: right;\">\n",
       "      <th></th>\n",
       "      <th>BeginDate</th>\n",
       "      <th>EndDate</th>\n",
       "      <th>Type</th>\n",
       "      <th>PaperlessBilling</th>\n",
       "      <th>PaymentMethod</th>\n",
       "      <th>MonthlyCharges</th>\n",
       "      <th>TotalCharges</th>\n",
       "      <th>Client_left</th>\n",
       "      <th>InternetService</th>\n",
       "      <th>OnlineSecurity</th>\n",
       "      <th>OnlineBackup</th>\n",
       "      <th>DeviceProtection</th>\n",
       "      <th>TechSupport</th>\n",
       "      <th>StreamingTV</th>\n",
       "      <th>StreamingMovies</th>\n",
       "      <th>gender</th>\n",
       "      <th>SeniorCitizen</th>\n",
       "      <th>Partner</th>\n",
       "      <th>Dependents</th>\n",
       "      <th>MultipleLines</th>\n",
       "    </tr>\n",
       "    <tr>\n",
       "      <th>customerID</th>\n",
       "      <th></th>\n",
       "      <th></th>\n",
       "      <th></th>\n",
       "      <th></th>\n",
       "      <th></th>\n",
       "      <th></th>\n",
       "      <th></th>\n",
       "      <th></th>\n",
       "      <th></th>\n",
       "      <th></th>\n",
       "      <th></th>\n",
       "      <th></th>\n",
       "      <th></th>\n",
       "      <th></th>\n",
       "      <th></th>\n",
       "      <th></th>\n",
       "      <th></th>\n",
       "      <th></th>\n",
       "      <th></th>\n",
       "      <th></th>\n",
       "    </tr>\n",
       "  </thead>\n",
       "  <tbody>\n",
       "    <tr>\n",
       "      <th>7590-VHVEG</th>\n",
       "      <td>2020-01-01</td>\n",
       "      <td>Active</td>\n",
       "      <td>Month-to-month</td>\n",
       "      <td>Yes</td>\n",
       "      <td>Electronic check</td>\n",
       "      <td>29.85</td>\n",
       "      <td>29.85</td>\n",
       "      <td>1</td>\n",
       "      <td>DSL</td>\n",
       "      <td>No</td>\n",
       "      <td>Yes</td>\n",
       "      <td>No</td>\n",
       "      <td>No</td>\n",
       "      <td>No</td>\n",
       "      <td>No</td>\n",
       "      <td>Female</td>\n",
       "      <td>0</td>\n",
       "      <td>Yes</td>\n",
       "      <td>No</td>\n",
       "      <td>NA</td>\n",
       "    </tr>\n",
       "    <tr>\n",
       "      <th>5575-GNVDE</th>\n",
       "      <td>2017-04-01</td>\n",
       "      <td>Active</td>\n",
       "      <td>One year</td>\n",
       "      <td>No</td>\n",
       "      <td>Mailed check</td>\n",
       "      <td>56.95</td>\n",
       "      <td>1889.50</td>\n",
       "      <td>1</td>\n",
       "      <td>DSL</td>\n",
       "      <td>Yes</td>\n",
       "      <td>No</td>\n",
       "      <td>Yes</td>\n",
       "      <td>No</td>\n",
       "      <td>No</td>\n",
       "      <td>No</td>\n",
       "      <td>Male</td>\n",
       "      <td>0</td>\n",
       "      <td>No</td>\n",
       "      <td>No</td>\n",
       "      <td>No</td>\n",
       "    </tr>\n",
       "    <tr>\n",
       "      <th>3668-QPYBK</th>\n",
       "      <td>2019-10-01</td>\n",
       "      <td>2019-12-01 00:00:00</td>\n",
       "      <td>Month-to-month</td>\n",
       "      <td>Yes</td>\n",
       "      <td>Mailed check</td>\n",
       "      <td>53.85</td>\n",
       "      <td>108.15</td>\n",
       "      <td>0</td>\n",
       "      <td>DSL</td>\n",
       "      <td>Yes</td>\n",
       "      <td>Yes</td>\n",
       "      <td>No</td>\n",
       "      <td>No</td>\n",
       "      <td>No</td>\n",
       "      <td>No</td>\n",
       "      <td>Male</td>\n",
       "      <td>0</td>\n",
       "      <td>No</td>\n",
       "      <td>No</td>\n",
       "      <td>No</td>\n",
       "    </tr>\n",
       "    <tr>\n",
       "      <th>7795-CFOCW</th>\n",
       "      <td>2016-05-01</td>\n",
       "      <td>Active</td>\n",
       "      <td>One year</td>\n",
       "      <td>No</td>\n",
       "      <td>Bank transfer (automatic)</td>\n",
       "      <td>42.30</td>\n",
       "      <td>1840.75</td>\n",
       "      <td>1</td>\n",
       "      <td>DSL</td>\n",
       "      <td>Yes</td>\n",
       "      <td>No</td>\n",
       "      <td>Yes</td>\n",
       "      <td>Yes</td>\n",
       "      <td>No</td>\n",
       "      <td>No</td>\n",
       "      <td>Male</td>\n",
       "      <td>0</td>\n",
       "      <td>No</td>\n",
       "      <td>No</td>\n",
       "      <td>NA</td>\n",
       "    </tr>\n",
       "    <tr>\n",
       "      <th>9237-HQITU</th>\n",
       "      <td>2019-09-01</td>\n",
       "      <td>2019-11-01 00:00:00</td>\n",
       "      <td>Month-to-month</td>\n",
       "      <td>Yes</td>\n",
       "      <td>Electronic check</td>\n",
       "      <td>70.70</td>\n",
       "      <td>151.65</td>\n",
       "      <td>0</td>\n",
       "      <td>Fiber optic</td>\n",
       "      <td>No</td>\n",
       "      <td>No</td>\n",
       "      <td>No</td>\n",
       "      <td>No</td>\n",
       "      <td>No</td>\n",
       "      <td>No</td>\n",
       "      <td>Female</td>\n",
       "      <td>0</td>\n",
       "      <td>No</td>\n",
       "      <td>No</td>\n",
       "      <td>No</td>\n",
       "    </tr>\n",
       "    <tr>\n",
       "      <th>9305-CDSKC</th>\n",
       "      <td>2019-03-01</td>\n",
       "      <td>2019-11-01 00:00:00</td>\n",
       "      <td>Month-to-month</td>\n",
       "      <td>Yes</td>\n",
       "      <td>Electronic check</td>\n",
       "      <td>99.65</td>\n",
       "      <td>820.50</td>\n",
       "      <td>0</td>\n",
       "      <td>Fiber optic</td>\n",
       "      <td>No</td>\n",
       "      <td>No</td>\n",
       "      <td>Yes</td>\n",
       "      <td>No</td>\n",
       "      <td>Yes</td>\n",
       "      <td>Yes</td>\n",
       "      <td>Female</td>\n",
       "      <td>0</td>\n",
       "      <td>No</td>\n",
       "      <td>No</td>\n",
       "      <td>Yes</td>\n",
       "    </tr>\n",
       "    <tr>\n",
       "      <th>1452-KIOVK</th>\n",
       "      <td>2018-04-01</td>\n",
       "      <td>Active</td>\n",
       "      <td>Month-to-month</td>\n",
       "      <td>Yes</td>\n",
       "      <td>Credit card (automatic)</td>\n",
       "      <td>89.10</td>\n",
       "      <td>1949.40</td>\n",
       "      <td>1</td>\n",
       "      <td>Fiber optic</td>\n",
       "      <td>No</td>\n",
       "      <td>Yes</td>\n",
       "      <td>No</td>\n",
       "      <td>No</td>\n",
       "      <td>Yes</td>\n",
       "      <td>No</td>\n",
       "      <td>Male</td>\n",
       "      <td>0</td>\n",
       "      <td>No</td>\n",
       "      <td>Yes</td>\n",
       "      <td>Yes</td>\n",
       "    </tr>\n",
       "    <tr>\n",
       "      <th>6713-OKOMC</th>\n",
       "      <td>2019-04-01</td>\n",
       "      <td>Active</td>\n",
       "      <td>Month-to-month</td>\n",
       "      <td>No</td>\n",
       "      <td>Mailed check</td>\n",
       "      <td>29.75</td>\n",
       "      <td>301.90</td>\n",
       "      <td>1</td>\n",
       "      <td>DSL</td>\n",
       "      <td>Yes</td>\n",
       "      <td>No</td>\n",
       "      <td>No</td>\n",
       "      <td>No</td>\n",
       "      <td>No</td>\n",
       "      <td>No</td>\n",
       "      <td>Female</td>\n",
       "      <td>0</td>\n",
       "      <td>No</td>\n",
       "      <td>No</td>\n",
       "      <td>NA</td>\n",
       "    </tr>\n",
       "    <tr>\n",
       "      <th>7892-POOKP</th>\n",
       "      <td>2017-07-01</td>\n",
       "      <td>2019-11-01 00:00:00</td>\n",
       "      <td>Month-to-month</td>\n",
       "      <td>Yes</td>\n",
       "      <td>Electronic check</td>\n",
       "      <td>104.80</td>\n",
       "      <td>3046.05</td>\n",
       "      <td>0</td>\n",
       "      <td>Fiber optic</td>\n",
       "      <td>No</td>\n",
       "      <td>No</td>\n",
       "      <td>Yes</td>\n",
       "      <td>Yes</td>\n",
       "      <td>Yes</td>\n",
       "      <td>Yes</td>\n",
       "      <td>Female</td>\n",
       "      <td>0</td>\n",
       "      <td>Yes</td>\n",
       "      <td>No</td>\n",
       "      <td>Yes</td>\n",
       "    </tr>\n",
       "    <tr>\n",
       "      <th>6388-TABGU</th>\n",
       "      <td>2014-12-01</td>\n",
       "      <td>Active</td>\n",
       "      <td>One year</td>\n",
       "      <td>No</td>\n",
       "      <td>Bank transfer (automatic)</td>\n",
       "      <td>56.15</td>\n",
       "      <td>3487.95</td>\n",
       "      <td>1</td>\n",
       "      <td>DSL</td>\n",
       "      <td>Yes</td>\n",
       "      <td>Yes</td>\n",
       "      <td>No</td>\n",
       "      <td>No</td>\n",
       "      <td>No</td>\n",
       "      <td>No</td>\n",
       "      <td>Male</td>\n",
       "      <td>0</td>\n",
       "      <td>No</td>\n",
       "      <td>Yes</td>\n",
       "      <td>No</td>\n",
       "    </tr>\n",
       "  </tbody>\n",
       "</table>\n",
       "</div>"
      ],
      "text/plain": [
       "            BeginDate              EndDate            Type PaperlessBilling  \\\n",
       "customerID                                                                    \n",
       "7590-VHVEG 2020-01-01               Active  Month-to-month              Yes   \n",
       "5575-GNVDE 2017-04-01               Active        One year               No   \n",
       "3668-QPYBK 2019-10-01  2019-12-01 00:00:00  Month-to-month              Yes   \n",
       "7795-CFOCW 2016-05-01               Active        One year               No   \n",
       "9237-HQITU 2019-09-01  2019-11-01 00:00:00  Month-to-month              Yes   \n",
       "9305-CDSKC 2019-03-01  2019-11-01 00:00:00  Month-to-month              Yes   \n",
       "1452-KIOVK 2018-04-01               Active  Month-to-month              Yes   \n",
       "6713-OKOMC 2019-04-01               Active  Month-to-month               No   \n",
       "7892-POOKP 2017-07-01  2019-11-01 00:00:00  Month-to-month              Yes   \n",
       "6388-TABGU 2014-12-01               Active        One year               No   \n",
       "\n",
       "                        PaymentMethod  MonthlyCharges  TotalCharges  \\\n",
       "customerID                                                            \n",
       "7590-VHVEG           Electronic check           29.85         29.85   \n",
       "5575-GNVDE               Mailed check           56.95       1889.50   \n",
       "3668-QPYBK               Mailed check           53.85        108.15   \n",
       "7795-CFOCW  Bank transfer (automatic)           42.30       1840.75   \n",
       "9237-HQITU           Electronic check           70.70        151.65   \n",
       "9305-CDSKC           Electronic check           99.65        820.50   \n",
       "1452-KIOVK    Credit card (automatic)           89.10       1949.40   \n",
       "6713-OKOMC               Mailed check           29.75        301.90   \n",
       "7892-POOKP           Electronic check          104.80       3046.05   \n",
       "6388-TABGU  Bank transfer (automatic)           56.15       3487.95   \n",
       "\n",
       "            Client_left InternetService OnlineSecurity OnlineBackup  \\\n",
       "customerID                                                            \n",
       "7590-VHVEG            1             DSL             No          Yes   \n",
       "5575-GNVDE            1             DSL            Yes           No   \n",
       "3668-QPYBK            0             DSL            Yes          Yes   \n",
       "7795-CFOCW            1             DSL            Yes           No   \n",
       "9237-HQITU            0     Fiber optic             No           No   \n",
       "9305-CDSKC            0     Fiber optic             No           No   \n",
       "1452-KIOVK            1     Fiber optic             No          Yes   \n",
       "6713-OKOMC            1             DSL            Yes           No   \n",
       "7892-POOKP            0     Fiber optic             No           No   \n",
       "6388-TABGU            1             DSL            Yes          Yes   \n",
       "\n",
       "           DeviceProtection TechSupport StreamingTV StreamingMovies  gender  \\\n",
       "customerID                                                                    \n",
       "7590-VHVEG               No          No          No              No  Female   \n",
       "5575-GNVDE              Yes          No          No              No    Male   \n",
       "3668-QPYBK               No          No          No              No    Male   \n",
       "7795-CFOCW              Yes         Yes          No              No    Male   \n",
       "9237-HQITU               No          No          No              No  Female   \n",
       "9305-CDSKC              Yes          No         Yes             Yes  Female   \n",
       "1452-KIOVK               No          No         Yes              No    Male   \n",
       "6713-OKOMC               No          No          No              No  Female   \n",
       "7892-POOKP              Yes         Yes         Yes             Yes  Female   \n",
       "6388-TABGU               No          No          No              No    Male   \n",
       "\n",
       "            SeniorCitizen Partner Dependents MultipleLines  \n",
       "customerID                                                  \n",
       "7590-VHVEG              0     Yes         No            NA  \n",
       "5575-GNVDE              0      No         No            No  \n",
       "3668-QPYBK              0      No         No            No  \n",
       "7795-CFOCW              0      No         No            NA  \n",
       "9237-HQITU              0      No         No            No  \n",
       "9305-CDSKC              0      No         No           Yes  \n",
       "1452-KIOVK              0      No        Yes           Yes  \n",
       "6713-OKOMC              0      No         No            NA  \n",
       "7892-POOKP              0     Yes         No           Yes  \n",
       "6388-TABGU              0      No        Yes            No  "
      ]
     },
     "execution_count": 18,
     "metadata": {},
     "output_type": "execute_result"
    }
   ],
   "source": [
    "data.head(10)"
   ]
  },
  {
   "cell_type": "markdown",
   "id": "b29cb450",
   "metadata": {},
   "source": [
    "## Выводы по предобработке \n",
    "\n",
    "1. Объединили данные в один датафрейм\n",
    "2. Именили тип данных на необходимый\n",
    "3. Проверили на пропуски в данных (пропусков не обнаружено)\n",
    "4. Сделали описание данных"
   ]
  },
  {
   "cell_type": "markdown",
   "id": "263ea8b5",
   "metadata": {},
   "source": [
    "#  Исследовательский анализ данных "
   ]
  },
  {
   "cell_type": "markdown",
   "id": "6e8affc6",
   "metadata": {},
   "source": [
    "Задачи:\n",
    "\n",
    "1. Сравним распределения величин ежемесячных платежей (MonthlyCharges) всех клиентов и тех, кто ушёл. \n",
    "2. Для каждой группы посчитаем статистики: средние, минимальные и максимальные значения, медиану и величины 25%- и 75%-квартилей. \n",
    "3. Построим гистограммы распределения.\n",
    "4. Сравниим поведение клиентов этих двух групп. Для каждой построим два любых графика, изображающих:\n",
    "\n",
    "- долю пользователей телефонной связи;\n",
    "- долю интернет-пользователей."
   ]
  },
  {
   "cell_type": "markdown",
   "id": "42bb1233",
   "metadata": {},
   "source": [
    "Для дополнительного удобства нам необходимо создать несколько признаков:\n",
    "\n",
    "1. Где клиент пользуется всеми услугами\n",
    "2. Где клиент использует только интернет \n",
    "3. Где клиент использует только телефон"
   ]
  },
  {
   "cell_type": "code",
   "execution_count": 19,
   "id": "1fe909ad",
   "metadata": {},
   "outputs": [],
   "source": [
    "data['Services'] = 0 #все услуги\n",
    "data.loc[data['MultipleLines'] == 'NA', 'Services'] = 1\n",
    "data.loc[data['InternetService'] == 'NA', 'Services'] = 2"
   ]
  },
  {
   "cell_type": "code",
   "execution_count": 20,
   "id": "448f7ec0",
   "metadata": {},
   "outputs": [
    {
     "data": {
      "text/plain": [
       "0    4835\n",
       "2    1526\n",
       "1     682\n",
       "Name: Services, dtype: int64"
      ]
     },
     "execution_count": 20,
     "metadata": {},
     "output_type": "execute_result"
    }
   ],
   "source": [
    "data['Services'].value_counts()"
   ]
  },
  {
   "cell_type": "markdown",
   "id": "2bb2b91a",
   "metadata": {},
   "source": [
    "В столбце EndDate появились значения NaT (почему я не очень понял). Хочу исправить неизвестные значения на No. Заодно создадим отдельный датафрейм с уже ушедшими клиентами для предстоящего анализа. "
   ]
  },
  {
   "cell_type": "code",
   "execution_count": 21,
   "id": "87eb00a2",
   "metadata": {},
   "outputs": [],
   "source": [
    "data['EndDate'] = data['EndDate'].fillna('No')"
   ]
  },
  {
   "cell_type": "code",
   "execution_count": 22,
   "id": "5d137c68",
   "metadata": {},
   "outputs": [
    {
     "data": {
      "text/html": [
       "<div>\n",
       "<style scoped>\n",
       "    .dataframe tbody tr th:only-of-type {\n",
       "        vertical-align: middle;\n",
       "    }\n",
       "\n",
       "    .dataframe tbody tr th {\n",
       "        vertical-align: top;\n",
       "    }\n",
       "\n",
       "    .dataframe thead th {\n",
       "        text-align: right;\n",
       "    }\n",
       "</style>\n",
       "<table border=\"1\" class=\"dataframe\">\n",
       "  <thead>\n",
       "    <tr style=\"text-align: right;\">\n",
       "      <th></th>\n",
       "      <th>BeginDate</th>\n",
       "      <th>EndDate</th>\n",
       "      <th>Type</th>\n",
       "      <th>PaperlessBilling</th>\n",
       "      <th>PaymentMethod</th>\n",
       "      <th>MonthlyCharges</th>\n",
       "      <th>TotalCharges</th>\n",
       "      <th>Client_left</th>\n",
       "      <th>InternetService</th>\n",
       "      <th>OnlineSecurity</th>\n",
       "      <th>...</th>\n",
       "      <th>DeviceProtection</th>\n",
       "      <th>TechSupport</th>\n",
       "      <th>StreamingTV</th>\n",
       "      <th>StreamingMovies</th>\n",
       "      <th>gender</th>\n",
       "      <th>SeniorCitizen</th>\n",
       "      <th>Partner</th>\n",
       "      <th>Dependents</th>\n",
       "      <th>MultipleLines</th>\n",
       "      <th>Services</th>\n",
       "    </tr>\n",
       "    <tr>\n",
       "      <th>customerID</th>\n",
       "      <th></th>\n",
       "      <th></th>\n",
       "      <th></th>\n",
       "      <th></th>\n",
       "      <th></th>\n",
       "      <th></th>\n",
       "      <th></th>\n",
       "      <th></th>\n",
       "      <th></th>\n",
       "      <th></th>\n",
       "      <th></th>\n",
       "      <th></th>\n",
       "      <th></th>\n",
       "      <th></th>\n",
       "      <th></th>\n",
       "      <th></th>\n",
       "      <th></th>\n",
       "      <th></th>\n",
       "      <th></th>\n",
       "      <th></th>\n",
       "      <th></th>\n",
       "    </tr>\n",
       "  </thead>\n",
       "  <tbody>\n",
       "    <tr>\n",
       "      <th>7590-VHVEG</th>\n",
       "      <td>2020-01-01</td>\n",
       "      <td>Active</td>\n",
       "      <td>Month-to-month</td>\n",
       "      <td>Yes</td>\n",
       "      <td>Electronic check</td>\n",
       "      <td>29.85</td>\n",
       "      <td>29.85</td>\n",
       "      <td>1</td>\n",
       "      <td>DSL</td>\n",
       "      <td>No</td>\n",
       "      <td>...</td>\n",
       "      <td>No</td>\n",
       "      <td>No</td>\n",
       "      <td>No</td>\n",
       "      <td>No</td>\n",
       "      <td>Female</td>\n",
       "      <td>0</td>\n",
       "      <td>Yes</td>\n",
       "      <td>No</td>\n",
       "      <td>NA</td>\n",
       "      <td>1</td>\n",
       "    </tr>\n",
       "    <tr>\n",
       "      <th>5575-GNVDE</th>\n",
       "      <td>2017-04-01</td>\n",
       "      <td>Active</td>\n",
       "      <td>One year</td>\n",
       "      <td>No</td>\n",
       "      <td>Mailed check</td>\n",
       "      <td>56.95</td>\n",
       "      <td>1889.50</td>\n",
       "      <td>1</td>\n",
       "      <td>DSL</td>\n",
       "      <td>Yes</td>\n",
       "      <td>...</td>\n",
       "      <td>Yes</td>\n",
       "      <td>No</td>\n",
       "      <td>No</td>\n",
       "      <td>No</td>\n",
       "      <td>Male</td>\n",
       "      <td>0</td>\n",
       "      <td>No</td>\n",
       "      <td>No</td>\n",
       "      <td>No</td>\n",
       "      <td>0</td>\n",
       "    </tr>\n",
       "    <tr>\n",
       "      <th>3668-QPYBK</th>\n",
       "      <td>2019-10-01</td>\n",
       "      <td>2019-12-01 00:00:00</td>\n",
       "      <td>Month-to-month</td>\n",
       "      <td>Yes</td>\n",
       "      <td>Mailed check</td>\n",
       "      <td>53.85</td>\n",
       "      <td>108.15</td>\n",
       "      <td>0</td>\n",
       "      <td>DSL</td>\n",
       "      <td>Yes</td>\n",
       "      <td>...</td>\n",
       "      <td>No</td>\n",
       "      <td>No</td>\n",
       "      <td>No</td>\n",
       "      <td>No</td>\n",
       "      <td>Male</td>\n",
       "      <td>0</td>\n",
       "      <td>No</td>\n",
       "      <td>No</td>\n",
       "      <td>No</td>\n",
       "      <td>0</td>\n",
       "    </tr>\n",
       "    <tr>\n",
       "      <th>7795-CFOCW</th>\n",
       "      <td>2016-05-01</td>\n",
       "      <td>Active</td>\n",
       "      <td>One year</td>\n",
       "      <td>No</td>\n",
       "      <td>Bank transfer (automatic)</td>\n",
       "      <td>42.30</td>\n",
       "      <td>1840.75</td>\n",
       "      <td>1</td>\n",
       "      <td>DSL</td>\n",
       "      <td>Yes</td>\n",
       "      <td>...</td>\n",
       "      <td>Yes</td>\n",
       "      <td>Yes</td>\n",
       "      <td>No</td>\n",
       "      <td>No</td>\n",
       "      <td>Male</td>\n",
       "      <td>0</td>\n",
       "      <td>No</td>\n",
       "      <td>No</td>\n",
       "      <td>NA</td>\n",
       "      <td>1</td>\n",
       "    </tr>\n",
       "    <tr>\n",
       "      <th>9237-HQITU</th>\n",
       "      <td>2019-09-01</td>\n",
       "      <td>2019-11-01 00:00:00</td>\n",
       "      <td>Month-to-month</td>\n",
       "      <td>Yes</td>\n",
       "      <td>Electronic check</td>\n",
       "      <td>70.70</td>\n",
       "      <td>151.65</td>\n",
       "      <td>0</td>\n",
       "      <td>Fiber optic</td>\n",
       "      <td>No</td>\n",
       "      <td>...</td>\n",
       "      <td>No</td>\n",
       "      <td>No</td>\n",
       "      <td>No</td>\n",
       "      <td>No</td>\n",
       "      <td>Female</td>\n",
       "      <td>0</td>\n",
       "      <td>No</td>\n",
       "      <td>No</td>\n",
       "      <td>No</td>\n",
       "      <td>0</td>\n",
       "    </tr>\n",
       "  </tbody>\n",
       "</table>\n",
       "<p>5 rows × 21 columns</p>\n",
       "</div>"
      ],
      "text/plain": [
       "            BeginDate              EndDate            Type PaperlessBilling  \\\n",
       "customerID                                                                    \n",
       "7590-VHVEG 2020-01-01               Active  Month-to-month              Yes   \n",
       "5575-GNVDE 2017-04-01               Active        One year               No   \n",
       "3668-QPYBK 2019-10-01  2019-12-01 00:00:00  Month-to-month              Yes   \n",
       "7795-CFOCW 2016-05-01               Active        One year               No   \n",
       "9237-HQITU 2019-09-01  2019-11-01 00:00:00  Month-to-month              Yes   \n",
       "\n",
       "                        PaymentMethod  MonthlyCharges  TotalCharges  \\\n",
       "customerID                                                            \n",
       "7590-VHVEG           Electronic check           29.85         29.85   \n",
       "5575-GNVDE               Mailed check           56.95       1889.50   \n",
       "3668-QPYBK               Mailed check           53.85        108.15   \n",
       "7795-CFOCW  Bank transfer (automatic)           42.30       1840.75   \n",
       "9237-HQITU           Electronic check           70.70        151.65   \n",
       "\n",
       "            Client_left InternetService OnlineSecurity  ... DeviceProtection  \\\n",
       "customerID                                              ...                    \n",
       "7590-VHVEG            1             DSL             No  ...               No   \n",
       "5575-GNVDE            1             DSL            Yes  ...              Yes   \n",
       "3668-QPYBK            0             DSL            Yes  ...               No   \n",
       "7795-CFOCW            1             DSL            Yes  ...              Yes   \n",
       "9237-HQITU            0     Fiber optic             No  ...               No   \n",
       "\n",
       "           TechSupport StreamingTV StreamingMovies  gender SeniorCitizen  \\\n",
       "customerID                                                                 \n",
       "7590-VHVEG          No          No              No  Female             0   \n",
       "5575-GNVDE          No          No              No    Male             0   \n",
       "3668-QPYBK          No          No              No    Male             0   \n",
       "7795-CFOCW         Yes          No              No    Male             0   \n",
       "9237-HQITU          No          No              No  Female             0   \n",
       "\n",
       "            Partner Dependents MultipleLines Services  \n",
       "customerID                                             \n",
       "7590-VHVEG      Yes         No            NA        1  \n",
       "5575-GNVDE       No         No            No        0  \n",
       "3668-QPYBK       No         No            No        0  \n",
       "7795-CFOCW       No         No            NA        1  \n",
       "9237-HQITU       No         No            No        0  \n",
       "\n",
       "[5 rows x 21 columns]"
      ]
     },
     "execution_count": 22,
     "metadata": {},
     "output_type": "execute_result"
    }
   ],
   "source": [
    "data.head()"
   ]
  },
  {
   "cell_type": "code",
   "execution_count": 23,
   "id": "f27f3760",
   "metadata": {},
   "outputs": [],
   "source": [
    "data_left = data[data['EndDate'] != 'Active']"
   ]
  },
  {
   "cell_type": "markdown",
   "id": "e60d585b",
   "metadata": {},
   "source": [
    "Сравним распределения величин ежемесячных платежей (MonthlyCharges) всех клиентов и тех, кто ушёл."
   ]
  },
  {
   "cell_type": "code",
   "execution_count": 24,
   "id": "aea7207f",
   "metadata": {},
   "outputs": [
    {
     "data": {
      "text/plain": [
       "count    7043.000000\n",
       "mean       64.761692\n",
       "std        30.090047\n",
       "min        18.250000\n",
       "25%        35.500000\n",
       "50%        70.350000\n",
       "75%        89.850000\n",
       "max       118.750000\n",
       "Name: MonthlyCharges, dtype: float64"
      ]
     },
     "execution_count": 24,
     "metadata": {},
     "output_type": "execute_result"
    }
   ],
   "source": [
    "data['MonthlyCharges'].describe()"
   ]
  },
  {
   "cell_type": "code",
   "execution_count": 25,
   "id": "4eb5d92c",
   "metadata": {},
   "outputs": [
    {
     "data": {
      "text/plain": [
       "count    1869.000000\n",
       "mean       74.441332\n",
       "std        24.666053\n",
       "min        18.850000\n",
       "25%        56.150000\n",
       "50%        79.650000\n",
       "75%        94.200000\n",
       "max       118.350000\n",
       "Name: MonthlyCharges, dtype: float64"
      ]
     },
     "execution_count": 25,
     "metadata": {},
     "output_type": "execute_result"
    }
   ],
   "source": [
    "data_left['MonthlyCharges'].describe()"
   ]
  },
  {
   "cell_type": "markdown",
   "id": "05b77aa7",
   "metadata": {},
   "source": [
    "Для группыe ушедших польхователей статистики: средние, минимальные и максимальные значения, медиану и величины 25%- и 75%-квартилей превышают расходы общей группы (не считая максимума)"
   ]
  },
  {
   "cell_type": "code",
   "execution_count": 26,
   "id": "b13e84e2",
   "metadata": {},
   "outputs": [
    {
     "data": {
      "image/png": "[encoded data removed]",
      "text/plain": [
       "<Figure size 864x576 with 1 Axes>"
      ]
     },
     "metadata": {
      "needs_background": "light"
     },
     "output_type": "display_data"
    }
   ],
   "source": [
    "plt.figure(figsize =(12,8))\n",
    "data['MonthlyCharges'].plot(kind = 'hist', bins = 100, grid =True)\n",
    "plt.title('Гистограмма месячных платежей')\n",
    "plt.xlabel('Стоимость услуг')\n",
    "plt.ylabel('Кол-во клиентов')\n",
    "plt.show()"
   ]
  },
  {
   "cell_type": "code",
   "execution_count": 27,
   "id": "fdc5fbc8",
   "metadata": {},
   "outputs": [
    {
     "data": {
      "image/png": "[encoded data removed]",
      "text/plain": [
       "<Figure size 864x576 with 1 Axes>"
      ]
     },
     "metadata": {
      "needs_background": "light"
     },
     "output_type": "display_data"
    }
   ],
   "source": [
    "plt.figure(figsize =(12,8))\n",
    "data_left['MonthlyCharges'].plot(kind = 'hist', bins = 100, grid =True)\n",
    "plt.title('Гистограмма месячных платежей для ушедших клиентов')\n",
    "plt.xlabel('Стоимость услуг')\n",
    "plt.ylabel('Кол-во клиентов')\n",
    "plt.show()\n",
    "\n"
   ]
  },
  {
   "cell_type": "markdown",
   "id": "bc042906",
   "metadata": {},
   "source": [
    "Выводы:\n",
    "\n",
    "- Исходя из гистограмм , большая часть людей ушла, которая платила больше 70 долларов в месяц. Можно предположить, что высокая цена за услуги стала основным поводом оттока клиентов. Может быть компания в определенный период повысила цены на тарифы, отсюда и большая утечка клиентов. "
   ]
  },
  {
   "cell_type": "code",
   "execution_count": 28,
   "id": "58501d59",
   "metadata": {},
   "outputs": [
    {
     "data": {
      "image/png": "[encoded data removed]",
      "text/plain": [
       "<Figure size 432x288 with 1 Axes>"
      ]
     },
     "metadata": {},
     "output_type": "display_data"
    }
   ],
   "source": [
    "labels  = ['1', 'OnlyInternet', 'OnlyPhone']\n",
    "columns = data['Services'].value_counts().values\n",
    "\n",
    "fig1,ax1 = plt.subplots()\n",
    "ax1.pie (columns, labels=labels, autopct = '%1.1f%%', startangle = 100)\n",
    "\n",
    "ax1.axis('equal')\n",
    "plt.tight_layout()\n",
    "plt.title ('Доля услуг в заключённых контрактах')\n",
    "plt.show()"
   ]
  },
  {
   "cell_type": "code",
   "execution_count": 29,
   "id": "129e53e0",
   "metadata": {},
   "outputs": [
    {
     "data": {
      "image/png": "[encoded data removed]",
      "text/plain": [
       "<Figure size 432x288 with 1 Axes>"
      ]
     },
     "metadata": {},
     "output_type": "display_data"
    }
   ],
   "source": [
    "labels  = ['1', 'OnlyInternet', 'OnlyPhone']\n",
    "client_left  = data.query ('Client_left == 0')\n",
    "columns = client_left['Services'].value_counts().values\n",
    "\n",
    "fig1,ax1 = plt.subplots()\n",
    "ax1.pie (columns, labels=labels, autopct = '%1.1f%%', startangle = 100)\n",
    "\n",
    "ax1.axis('equal')\n",
    "plt.tight_layout()\n",
    "plt.title ('Доля услуг в заключённых контрактах')\n",
    "plt.show()"
   ]
  },
  {
   "cell_type": "markdown",
   "id": "5aee1a38",
   "metadata": {},
   "source": [
    "Выводы :\n",
    "\n",
    "1. 69 % клиентов пользуются всеми услугами предоставляемыми компанией. 10 % пользуются только телефоном и 21% пользуются только интернетом\n",
    "\n",
    "2. Из ушедших клиентов 85 % пльзовались всеми услугами, 6% только телефоном, а 9% только интернетом.\n",
    "\n",
    "- Отюсда можно сделать вывод, что проблема заключается не в конкретной услуге, а в целом клиенты не довольны компанией. Опять же, возможно предоставляемые услуги сильно возрасли в цене. "
   ]
  },
  {
   "cell_type": "markdown",
   "id": "fcbaeb0b",
   "metadata": {},
   "source": [
    "Хочу ещё посмотреть на гистрограмму ушедших клиентов по году их подключения:"
   ]
  },
  {
   "cell_type": "code",
   "execution_count": 30,
   "id": "2c5e73c7",
   "metadata": {},
   "outputs": [],
   "source": [
    "data['Begin_Year'] = pd.DatetimeIndex(data['BeginDate']).year #округлим до года для удобства просмотра"
   ]
  },
  {
   "cell_type": "code",
   "execution_count": 31,
   "id": "3d56779e",
   "metadata": {},
   "outputs": [
    {
     "data": {
      "image/png": "[encoded data removed]",
      "text/plain": [
       "<Figure size 864x576 with 1 Axes>"
      ]
     },
     "metadata": {
      "needs_background": "light"
     },
     "output_type": "display_data"
    }
   ],
   "source": [
    "plt.figure(figsize =(12,8))\n",
    "data.query('Client_left == 0')['Begin_Year'].plot(kind = 'hist', bins = 100, grid =True)\n",
    "plt.title('Ушедшие клиенты по году поключения')\n",
    "plt.xlabel('Год подключения')\n",
    "plt.ylabel('Кол-во ушедших клиентов')\n",
    "plt.show()\n"
   ]
  },
  {
   "cell_type": "markdown",
   "id": "591f82ae",
   "metadata": {},
   "source": [
    "Хм, график показывает нам, что самый большой отток был в 2019 году. Может компнаия таки ввела новую ценовую политику и тарифы сильно выросли в цене."
   ]
  },
  {
   "cell_type": "code",
   "execution_count": 32,
   "id": "5738ea6b",
   "metadata": {},
   "outputs": [
    {
     "data": {
      "image/png": "[encoded data removed]",
      "text/plain": [
       "<Figure size 864x576 with 1 Axes>"
      ]
     },
     "metadata": {
      "needs_background": "light"
     },
     "output_type": "display_data"
    }
   ],
   "source": [
    "data['BeginDate'].value_counts().plot(grid = True, figsize = (12,8))\n",
    "plt.title('Новые пользователи по годам')\n",
    "plt.show()"
   ]
  },
  {
   "cell_type": "markdown",
   "id": "bac92831",
   "metadata": {},
   "source": [
    "С 2018 года наблюдался рост клиентов, а к концу 2019 произошёл дикий обвал, пользователи начали повально отказываться от наших услуг"
   ]
  },
  {
   "cell_type": "markdown",
   "id": "13ef65dd",
   "metadata": {},
   "source": [
    "## Выводы по исследовательскому анализу\n",
    "\n",
    "\n",
    "- Подготовили данные, пропуски убрали, необходимые типы данных изменили, добавили новый признак Client_left с информацией ушёл ли от нас клиент. \n",
    "- 69 % клиентов пользуются всеми услугами предоставляемыми компанией. 10 % пользуются только телефоном и 21% пользуются только интернетом\n",
    "- Из ушедших клиентов 85 % пльзовались всеми услугами, 6% только телефоном, а 9% только интернетом.\n",
    "- Отюсда можно сделать вывод, что проблема заключается не в конкретной услуге, а в целом клиенты не довольны компанией. Опять же, возможно предоставляемые услуги сильно возрасли в цене. \n",
    "- Самый большой отток клиентов был в 2019 году (точнее к концу года случился просто обвал)"
   ]
  },
  {
   "cell_type": "markdown",
   "id": "17f31b9c",
   "metadata": {},
   "source": [
    "# Подготовка к  моделированию"
   ]
  },
  {
   "cell_type": "markdown",
   "id": "ca5a9562",
   "metadata": {},
   "source": [
    "Бинарные категориальные переменные будем кодироват вручную, Yes No переводим в 1 и 0 соответсвенно"
   ]
  },
  {
   "cell_type": "code",
   "execution_count": 34,
   "id": "0a02c189",
   "metadata": {},
   "outputs": [],
   "source": [
    "df = data"
   ]
  },
  {
   "cell_type": "code",
   "execution_count": 35,
   "id": "8cdff231",
   "metadata": {},
   "outputs": [],
   "source": [
    "data['MultipleLines'] = pd.Series(np.where(data['MultipleLines'].values == 'Yes', 1, 0),data.index)\n",
    "data['Dependents'] = pd.Series(np.where(data['Dependents'].values == 'Yes', 1, 0),data.index)\n",
    "data['Partner'] = pd.Series(np.where(data['Partner'].values == 'Yes', 1, 0),data.index)\n",
    "data['gender'] = pd.Series(np.where(data['gender'].values == 'Female', 1, 0),data.index)\n",
    "data['StreamingMovies'] = pd.Series(np.where(data['StreamingMovies'].values == 'Yes', 1, 0),data.index)\n",
    "data['StreamingTV'] = pd.Series(np.where(data['StreamingTV'].values == 'Yes', 1, 0),data.index)\n",
    "data['TechSupport'] = pd.Series(np.where(data['TechSupport'].values == 'Yes', 1, 0),data.index)\n",
    "data['DeviceProtection'] = pd.Series(np.where(data['DeviceProtection'].values == 'Yes', 1, 0),data.index)\n",
    "data['OnlineBackup'] = pd.Series(np.where(data['OnlineBackup'].values == 'Yes', 1, 0),data.index)\n",
    "data['OnlineSecurity'] = pd.Series(np.where(data['OnlineSecurity'].values == 'Yes', 1, 0),data.index)\n",
    "data['PaperlessBilling'] = pd.Series(np.where(data['PaperlessBilling'].values == 'Yes',1,0),data.index)"
   ]
  },
  {
   "cell_type": "code",
   "execution_count": 36,
   "id": "5dbd213b",
   "metadata": {},
   "outputs": [
    {
     "name": "stdout",
     "output_type": "stream",
     "text": [
      "<class 'pandas.core.frame.DataFrame'>\n",
      "Index: 7043 entries, 7590-VHVEG to 3186-AJIEK\n",
      "Data columns (total 22 columns):\n",
      " #   Column            Non-Null Count  Dtype         \n",
      "---  ------            --------------  -----         \n",
      " 0   BeginDate         7043 non-null   datetime64[ns]\n",
      " 1   EndDate           7043 non-null   object        \n",
      " 2   Type              7043 non-null   object        \n",
      " 3   PaperlessBilling  7043 non-null   int64         \n",
      " 4   PaymentMethod     7043 non-null   object        \n",
      " 5   MonthlyCharges    7043 non-null   float64       \n",
      " 6   TotalCharges      7043 non-null   float64       \n",
      " 7   Client_left       7043 non-null   int64         \n",
      " 8   InternetService   7043 non-null   object        \n",
      " 9   OnlineSecurity    7043 non-null   int64         \n",
      " 10  OnlineBackup      7043 non-null   int64         \n",
      " 11  DeviceProtection  7043 non-null   int64         \n",
      " 12  TechSupport       7043 non-null   int64         \n",
      " 13  StreamingTV       7043 non-null   int64         \n",
      " 14  StreamingMovies   7043 non-null   int64         \n",
      " 15  gender            7043 non-null   int64         \n",
      " 16  SeniorCitizen     7043 non-null   int64         \n",
      " 17  Partner           7043 non-null   int64         \n",
      " 18  Dependents        7043 non-null   int64         \n",
      " 19  MultipleLines     7043 non-null   int64         \n",
      " 20  Services          7043 non-null   int64         \n",
      " 21  Begin_Year        7043 non-null   int64         \n",
      "dtypes: datetime64[ns](1), float64(2), int64(15), object(4)\n",
      "memory usage: 1.5+ MB\n"
     ]
    }
   ],
   "source": [
    "data.info()"
   ]
  },
  {
   "cell_type": "code",
   "execution_count": 37,
   "id": "e84eaa3d",
   "metadata": {},
   "outputs": [
    {
     "data": {
      "text/html": [
       "<div>\n",
       "<style scoped>\n",
       "    .dataframe tbody tr th:only-of-type {\n",
       "        vertical-align: middle;\n",
       "    }\n",
       "\n",
       "    .dataframe tbody tr th {\n",
       "        vertical-align: top;\n",
       "    }\n",
       "\n",
       "    .dataframe thead th {\n",
       "        text-align: right;\n",
       "    }\n",
       "</style>\n",
       "<table border=\"1\" class=\"dataframe\">\n",
       "  <thead>\n",
       "    <tr style=\"text-align: right;\">\n",
       "      <th></th>\n",
       "      <th>BeginDate</th>\n",
       "      <th>EndDate</th>\n",
       "      <th>Type</th>\n",
       "      <th>PaperlessBilling</th>\n",
       "      <th>PaymentMethod</th>\n",
       "      <th>MonthlyCharges</th>\n",
       "      <th>TotalCharges</th>\n",
       "      <th>Client_left</th>\n",
       "      <th>InternetService</th>\n",
       "      <th>OnlineSecurity</th>\n",
       "      <th>...</th>\n",
       "      <th>TechSupport</th>\n",
       "      <th>StreamingTV</th>\n",
       "      <th>StreamingMovies</th>\n",
       "      <th>gender</th>\n",
       "      <th>SeniorCitizen</th>\n",
       "      <th>Partner</th>\n",
       "      <th>Dependents</th>\n",
       "      <th>MultipleLines</th>\n",
       "      <th>Services</th>\n",
       "      <th>Begin_Year</th>\n",
       "    </tr>\n",
       "    <tr>\n",
       "      <th>customerID</th>\n",
       "      <th></th>\n",
       "      <th></th>\n",
       "      <th></th>\n",
       "      <th></th>\n",
       "      <th></th>\n",
       "      <th></th>\n",
       "      <th></th>\n",
       "      <th></th>\n",
       "      <th></th>\n",
       "      <th></th>\n",
       "      <th></th>\n",
       "      <th></th>\n",
       "      <th></th>\n",
       "      <th></th>\n",
       "      <th></th>\n",
       "      <th></th>\n",
       "      <th></th>\n",
       "      <th></th>\n",
       "      <th></th>\n",
       "      <th></th>\n",
       "      <th></th>\n",
       "    </tr>\n",
       "  </thead>\n",
       "  <tbody>\n",
       "    <tr>\n",
       "      <th>7590-VHVEG</th>\n",
       "      <td>2020-01-01</td>\n",
       "      <td>Active</td>\n",
       "      <td>Month-to-month</td>\n",
       "      <td>1</td>\n",
       "      <td>Electronic check</td>\n",
       "      <td>29.85</td>\n",
       "      <td>29.85</td>\n",
       "      <td>1</td>\n",
       "      <td>DSL</td>\n",
       "      <td>0</td>\n",
       "      <td>...</td>\n",
       "      <td>0</td>\n",
       "      <td>0</td>\n",
       "      <td>0</td>\n",
       "      <td>1</td>\n",
       "      <td>0</td>\n",
       "      <td>1</td>\n",
       "      <td>0</td>\n",
       "      <td>0</td>\n",
       "      <td>1</td>\n",
       "      <td>2020</td>\n",
       "    </tr>\n",
       "  </tbody>\n",
       "</table>\n",
       "<p>1 rows × 22 columns</p>\n",
       "</div>"
      ],
      "text/plain": [
       "            BeginDate EndDate            Type  PaperlessBilling  \\\n",
       "customerID                                                        \n",
       "7590-VHVEG 2020-01-01  Active  Month-to-month                 1   \n",
       "\n",
       "               PaymentMethod  MonthlyCharges  TotalCharges  Client_left  \\\n",
       "customerID                                                                \n",
       "7590-VHVEG  Electronic check           29.85         29.85            1   \n",
       "\n",
       "           InternetService  OnlineSecurity  ...  TechSupport  StreamingTV  \\\n",
       "customerID                                  ...                             \n",
       "7590-VHVEG             DSL               0  ...            0            0   \n",
       "\n",
       "            StreamingMovies  gender  SeniorCitizen  Partner  Dependents  \\\n",
       "customerID                                                                \n",
       "7590-VHVEG                0       1              0        1           0   \n",
       "\n",
       "            MultipleLines  Services  Begin_Year  \n",
       "customerID                                       \n",
       "7590-VHVEG              0         1        2020  \n",
       "\n",
       "[1 rows x 22 columns]"
      ]
     },
     "execution_count": 37,
     "metadata": {},
     "output_type": "execute_result"
    }
   ],
   "source": [
    "data.head(1)"
   ]
  },
  {
   "cell_type": "markdown",
   "id": "e9eb00c7",
   "metadata": {},
   "source": [
    "Оставшиеся переменных будет кодировать через OHE  (OneHotEncoder)"
   ]
  },
  {
   "cell_type": "code",
   "execution_count": 38,
   "id": "ead3970a",
   "metadata": {},
   "outputs": [],
   "source": [
    "data = pd.get_dummies(df, columns = ['Type', 'InternetService','PaymentMethod'], drop_first = True)"
   ]
  },
  {
   "cell_type": "code",
   "execution_count": 39,
   "id": "b32419b5",
   "metadata": {},
   "outputs": [],
   "source": [
    "#data.drop('Services', axis = 1, inplace = True)"
   ]
  },
  {
   "cell_type": "code",
   "execution_count": 40,
   "id": "1fcc5a76",
   "metadata": {},
   "outputs": [
    {
     "data": {
      "text/plain": [
       "Timestamp('2020-02-01 00:00:00')"
      ]
     },
     "execution_count": 40,
     "metadata": {},
     "output_type": "execute_result"
    }
   ],
   "source": [
    "data['BeginDate'].max()"
   ]
  },
  {
   "cell_type": "markdown",
   "id": "a7a30d01",
   "metadata": {},
   "source": [
    "Необходимо поменять значение Active в столбце EndDate на дату последнего заполнения датасета ('2020-02-01 00:00:00'). Столбец lasted переименуем в duration для лучшего отображения после изменеиий"
   ]
  },
  {
   "cell_type": "code",
   "execution_count": 41,
   "id": "33708d1b",
   "metadata": {},
   "outputs": [],
   "source": [
    "data['EndDate'] = data['EndDate'].replace('Active', '2020-02-01')"
   ]
  },
  {
   "cell_type": "code",
   "execution_count": 42,
   "id": "ac59c388",
   "metadata": {},
   "outputs": [
    {
     "data": {
      "text/html": [
       "<div>\n",
       "<style scoped>\n",
       "    .dataframe tbody tr th:only-of-type {\n",
       "        vertical-align: middle;\n",
       "    }\n",
       "\n",
       "    .dataframe tbody tr th {\n",
       "        vertical-align: top;\n",
       "    }\n",
       "\n",
       "    .dataframe thead th {\n",
       "        text-align: right;\n",
       "    }\n",
       "</style>\n",
       "<table border=\"1\" class=\"dataframe\">\n",
       "  <thead>\n",
       "    <tr style=\"text-align: right;\">\n",
       "      <th></th>\n",
       "      <th>BeginDate</th>\n",
       "      <th>EndDate</th>\n",
       "      <th>PaperlessBilling</th>\n",
       "      <th>MonthlyCharges</th>\n",
       "      <th>TotalCharges</th>\n",
       "      <th>Client_left</th>\n",
       "      <th>OnlineSecurity</th>\n",
       "      <th>OnlineBackup</th>\n",
       "      <th>DeviceProtection</th>\n",
       "      <th>TechSupport</th>\n",
       "      <th>...</th>\n",
       "      <th>MultipleLines</th>\n",
       "      <th>Services</th>\n",
       "      <th>Begin_Year</th>\n",
       "      <th>Type_One year</th>\n",
       "      <th>Type_Two year</th>\n",
       "      <th>InternetService_Fiber optic</th>\n",
       "      <th>InternetService_NA</th>\n",
       "      <th>PaymentMethod_Credit card (automatic)</th>\n",
       "      <th>PaymentMethod_Electronic check</th>\n",
       "      <th>PaymentMethod_Mailed check</th>\n",
       "    </tr>\n",
       "    <tr>\n",
       "      <th>customerID</th>\n",
       "      <th></th>\n",
       "      <th></th>\n",
       "      <th></th>\n",
       "      <th></th>\n",
       "      <th></th>\n",
       "      <th></th>\n",
       "      <th></th>\n",
       "      <th></th>\n",
       "      <th></th>\n",
       "      <th></th>\n",
       "      <th></th>\n",
       "      <th></th>\n",
       "      <th></th>\n",
       "      <th></th>\n",
       "      <th></th>\n",
       "      <th></th>\n",
       "      <th></th>\n",
       "      <th></th>\n",
       "      <th></th>\n",
       "      <th></th>\n",
       "      <th></th>\n",
       "    </tr>\n",
       "  </thead>\n",
       "  <tbody>\n",
       "    <tr>\n",
       "      <th>7590-VHVEG</th>\n",
       "      <td>2020-01-01</td>\n",
       "      <td>2020-02-01</td>\n",
       "      <td>1</td>\n",
       "      <td>29.85</td>\n",
       "      <td>29.85</td>\n",
       "      <td>1</td>\n",
       "      <td>0</td>\n",
       "      <td>1</td>\n",
       "      <td>0</td>\n",
       "      <td>0</td>\n",
       "      <td>...</td>\n",
       "      <td>0</td>\n",
       "      <td>1</td>\n",
       "      <td>2020</td>\n",
       "      <td>0</td>\n",
       "      <td>0</td>\n",
       "      <td>0</td>\n",
       "      <td>0</td>\n",
       "      <td>0</td>\n",
       "      <td>1</td>\n",
       "      <td>0</td>\n",
       "    </tr>\n",
       "  </tbody>\n",
       "</table>\n",
       "<p>1 rows × 26 columns</p>\n",
       "</div>"
      ],
      "text/plain": [
       "            BeginDate     EndDate  PaperlessBilling  MonthlyCharges  \\\n",
       "customerID                                                            \n",
       "7590-VHVEG 2020-01-01  2020-02-01                 1           29.85   \n",
       "\n",
       "            TotalCharges  Client_left  OnlineSecurity  OnlineBackup  \\\n",
       "customerID                                                            \n",
       "7590-VHVEG         29.85            1               0             1   \n",
       "\n",
       "            DeviceProtection  TechSupport  ...  MultipleLines  Services  \\\n",
       "customerID                                 ...                            \n",
       "7590-VHVEG                 0            0  ...              0         1   \n",
       "\n",
       "            Begin_Year  Type_One year  Type_Two year  \\\n",
       "customerID                                             \n",
       "7590-VHVEG        2020              0              0   \n",
       "\n",
       "            InternetService_Fiber optic  InternetService_NA  \\\n",
       "customerID                                                    \n",
       "7590-VHVEG                            0                   0   \n",
       "\n",
       "            PaymentMethod_Credit card (automatic)  \\\n",
       "customerID                                          \n",
       "7590-VHVEG                                      0   \n",
       "\n",
       "            PaymentMethod_Electronic check  PaymentMethod_Mailed check  \n",
       "customerID                                                              \n",
       "7590-VHVEG                               1                           0  \n",
       "\n",
       "[1 rows x 26 columns]"
      ]
     },
     "execution_count": 42,
     "metadata": {},
     "output_type": "execute_result"
    }
   ],
   "source": [
    "data.head(1)"
   ]
  },
  {
   "cell_type": "code",
   "execution_count": 43,
   "id": "4877803d",
   "metadata": {},
   "outputs": [],
   "source": [
    "data['lasted'] = (pd.to_datetime(data['EndDate']) - data['BeginDate']).dt.days"
   ]
  },
  {
   "cell_type": "code",
   "execution_count": 44,
   "id": "ddb1e759",
   "metadata": {},
   "outputs": [],
   "source": [
    "\n",
    "data.rename({'lasted': 'duration'}, axis=1, inplace=True)"
   ]
  },
  {
   "cell_type": "code",
   "execution_count": 45,
   "id": "96d9afcd",
   "metadata": {},
   "outputs": [
    {
     "data": {
      "text/html": [
       "<div>\n",
       "<style scoped>\n",
       "    .dataframe tbody tr th:only-of-type {\n",
       "        vertical-align: middle;\n",
       "    }\n",
       "\n",
       "    .dataframe tbody tr th {\n",
       "        vertical-align: top;\n",
       "    }\n",
       "\n",
       "    .dataframe thead th {\n",
       "        text-align: right;\n",
       "    }\n",
       "</style>\n",
       "<table border=\"1\" class=\"dataframe\">\n",
       "  <thead>\n",
       "    <tr style=\"text-align: right;\">\n",
       "      <th></th>\n",
       "      <th>BeginDate</th>\n",
       "      <th>EndDate</th>\n",
       "      <th>PaperlessBilling</th>\n",
       "      <th>MonthlyCharges</th>\n",
       "      <th>TotalCharges</th>\n",
       "      <th>Client_left</th>\n",
       "      <th>OnlineSecurity</th>\n",
       "      <th>OnlineBackup</th>\n",
       "      <th>DeviceProtection</th>\n",
       "      <th>TechSupport</th>\n",
       "      <th>...</th>\n",
       "      <th>Services</th>\n",
       "      <th>Begin_Year</th>\n",
       "      <th>Type_One year</th>\n",
       "      <th>Type_Two year</th>\n",
       "      <th>InternetService_Fiber optic</th>\n",
       "      <th>InternetService_NA</th>\n",
       "      <th>PaymentMethod_Credit card (automatic)</th>\n",
       "      <th>PaymentMethod_Electronic check</th>\n",
       "      <th>PaymentMethod_Mailed check</th>\n",
       "      <th>duration</th>\n",
       "    </tr>\n",
       "    <tr>\n",
       "      <th>customerID</th>\n",
       "      <th></th>\n",
       "      <th></th>\n",
       "      <th></th>\n",
       "      <th></th>\n",
       "      <th></th>\n",
       "      <th></th>\n",
       "      <th></th>\n",
       "      <th></th>\n",
       "      <th></th>\n",
       "      <th></th>\n",
       "      <th></th>\n",
       "      <th></th>\n",
       "      <th></th>\n",
       "      <th></th>\n",
       "      <th></th>\n",
       "      <th></th>\n",
       "      <th></th>\n",
       "      <th></th>\n",
       "      <th></th>\n",
       "      <th></th>\n",
       "      <th></th>\n",
       "    </tr>\n",
       "  </thead>\n",
       "  <tbody>\n",
       "    <tr>\n",
       "      <th>7590-VHVEG</th>\n",
       "      <td>2020-01-01</td>\n",
       "      <td>2020-02-01</td>\n",
       "      <td>1</td>\n",
       "      <td>29.85</td>\n",
       "      <td>29.85</td>\n",
       "      <td>1</td>\n",
       "      <td>0</td>\n",
       "      <td>1</td>\n",
       "      <td>0</td>\n",
       "      <td>0</td>\n",
       "      <td>...</td>\n",
       "      <td>1</td>\n",
       "      <td>2020</td>\n",
       "      <td>0</td>\n",
       "      <td>0</td>\n",
       "      <td>0</td>\n",
       "      <td>0</td>\n",
       "      <td>0</td>\n",
       "      <td>1</td>\n",
       "      <td>0</td>\n",
       "      <td>31</td>\n",
       "    </tr>\n",
       "  </tbody>\n",
       "</table>\n",
       "<p>1 rows × 27 columns</p>\n",
       "</div>"
      ],
      "text/plain": [
       "            BeginDate     EndDate  PaperlessBilling  MonthlyCharges  \\\n",
       "customerID                                                            \n",
       "7590-VHVEG 2020-01-01  2020-02-01                 1           29.85   \n",
       "\n",
       "            TotalCharges  Client_left  OnlineSecurity  OnlineBackup  \\\n",
       "customerID                                                            \n",
       "7590-VHVEG         29.85            1               0             1   \n",
       "\n",
       "            DeviceProtection  TechSupport  ...  Services  Begin_Year  \\\n",
       "customerID                                 ...                         \n",
       "7590-VHVEG                 0            0  ...         1        2020   \n",
       "\n",
       "            Type_One year  Type_Two year  InternetService_Fiber optic  \\\n",
       "customerID                                                              \n",
       "7590-VHVEG              0              0                            0   \n",
       "\n",
       "            InternetService_NA  PaymentMethod_Credit card (automatic)  \\\n",
       "customerID                                                              \n",
       "7590-VHVEG                   0                                      0   \n",
       "\n",
       "            PaymentMethod_Electronic check  PaymentMethod_Mailed check  \\\n",
       "customerID                                                               \n",
       "7590-VHVEG                               1                           0   \n",
       "\n",
       "            duration  \n",
       "customerID            \n",
       "7590-VHVEG        31  \n",
       "\n",
       "[1 rows x 27 columns]"
      ]
     },
     "execution_count": 45,
     "metadata": {},
     "output_type": "execute_result"
    }
   ],
   "source": [
    "data.head(1)"
   ]
  },
  {
   "cell_type": "markdown",
   "id": "71b95e3c",
   "metadata": {},
   "source": [
    "Удалим стобцы с датой дабы избежать утечки данных"
   ]
  },
  {
   "cell_type": "code",
   "execution_count": 46,
   "id": "f136bb91",
   "metadata": {},
   "outputs": [],
   "source": [
    "data.drop('EndDate', axis = 1, inplace = True)\n",
    "data.drop('BeginDate', axis = 1, inplace = True)"
   ]
  },
  {
   "cell_type": "code",
   "execution_count": 47,
   "id": "c01b27b7",
   "metadata": {},
   "outputs": [
    {
     "data": {
      "text/plain": [
       "1    5174\n",
       "0    1869\n",
       "Name: Client_left, dtype: int64"
      ]
     },
     "execution_count": 47,
     "metadata": {},
     "output_type": "execute_result"
    }
   ],
   "source": [
    "data['Client_left'].value_counts()"
   ]
  },
  {
   "cell_type": "code",
   "execution_count": 48,
   "id": "43d83361",
   "metadata": {
    "scrolled": true
   },
   "outputs": [
    {
     "data": {
      "text/html": [
       "<div>\n",
       "<style scoped>\n",
       "    .dataframe tbody tr th:only-of-type {\n",
       "        vertical-align: middle;\n",
       "    }\n",
       "\n",
       "    .dataframe tbody tr th {\n",
       "        vertical-align: top;\n",
       "    }\n",
       "\n",
       "    .dataframe thead th {\n",
       "        text-align: right;\n",
       "    }\n",
       "</style>\n",
       "<table border=\"1\" class=\"dataframe\">\n",
       "  <thead>\n",
       "    <tr style=\"text-align: right;\">\n",
       "      <th></th>\n",
       "      <th>PaperlessBilling</th>\n",
       "      <th>MonthlyCharges</th>\n",
       "      <th>TotalCharges</th>\n",
       "      <th>Client_left</th>\n",
       "      <th>OnlineSecurity</th>\n",
       "      <th>OnlineBackup</th>\n",
       "      <th>DeviceProtection</th>\n",
       "      <th>TechSupport</th>\n",
       "      <th>StreamingTV</th>\n",
       "      <th>StreamingMovies</th>\n",
       "      <th>...</th>\n",
       "      <th>Services</th>\n",
       "      <th>Begin_Year</th>\n",
       "      <th>Type_One year</th>\n",
       "      <th>Type_Two year</th>\n",
       "      <th>InternetService_Fiber optic</th>\n",
       "      <th>InternetService_NA</th>\n",
       "      <th>PaymentMethod_Credit card (automatic)</th>\n",
       "      <th>PaymentMethod_Electronic check</th>\n",
       "      <th>PaymentMethod_Mailed check</th>\n",
       "      <th>duration</th>\n",
       "    </tr>\n",
       "    <tr>\n",
       "      <th>customerID</th>\n",
       "      <th></th>\n",
       "      <th></th>\n",
       "      <th></th>\n",
       "      <th></th>\n",
       "      <th></th>\n",
       "      <th></th>\n",
       "      <th></th>\n",
       "      <th></th>\n",
       "      <th></th>\n",
       "      <th></th>\n",
       "      <th></th>\n",
       "      <th></th>\n",
       "      <th></th>\n",
       "      <th></th>\n",
       "      <th></th>\n",
       "      <th></th>\n",
       "      <th></th>\n",
       "      <th></th>\n",
       "      <th></th>\n",
       "      <th></th>\n",
       "      <th></th>\n",
       "    </tr>\n",
       "  </thead>\n",
       "  <tbody>\n",
       "    <tr>\n",
       "      <th>7590-VHVEG</th>\n",
       "      <td>1</td>\n",
       "      <td>29.85</td>\n",
       "      <td>29.85</td>\n",
       "      <td>1</td>\n",
       "      <td>0</td>\n",
       "      <td>1</td>\n",
       "      <td>0</td>\n",
       "      <td>0</td>\n",
       "      <td>0</td>\n",
       "      <td>0</td>\n",
       "      <td>...</td>\n",
       "      <td>1</td>\n",
       "      <td>2020</td>\n",
       "      <td>0</td>\n",
       "      <td>0</td>\n",
       "      <td>0</td>\n",
       "      <td>0</td>\n",
       "      <td>0</td>\n",
       "      <td>1</td>\n",
       "      <td>0</td>\n",
       "      <td>31</td>\n",
       "    </tr>\n",
       "    <tr>\n",
       "      <th>5575-GNVDE</th>\n",
       "      <td>0</td>\n",
       "      <td>56.95</td>\n",
       "      <td>1889.50</td>\n",
       "      <td>1</td>\n",
       "      <td>1</td>\n",
       "      <td>0</td>\n",
       "      <td>1</td>\n",
       "      <td>0</td>\n",
       "      <td>0</td>\n",
       "      <td>0</td>\n",
       "      <td>...</td>\n",
       "      <td>0</td>\n",
       "      <td>2017</td>\n",
       "      <td>1</td>\n",
       "      <td>0</td>\n",
       "      <td>0</td>\n",
       "      <td>0</td>\n",
       "      <td>0</td>\n",
       "      <td>0</td>\n",
       "      <td>1</td>\n",
       "      <td>1036</td>\n",
       "    </tr>\n",
       "    <tr>\n",
       "      <th>3668-QPYBK</th>\n",
       "      <td>1</td>\n",
       "      <td>53.85</td>\n",
       "      <td>108.15</td>\n",
       "      <td>0</td>\n",
       "      <td>1</td>\n",
       "      <td>1</td>\n",
       "      <td>0</td>\n",
       "      <td>0</td>\n",
       "      <td>0</td>\n",
       "      <td>0</td>\n",
       "      <td>...</td>\n",
       "      <td>0</td>\n",
       "      <td>2019</td>\n",
       "      <td>0</td>\n",
       "      <td>0</td>\n",
       "      <td>0</td>\n",
       "      <td>0</td>\n",
       "      <td>0</td>\n",
       "      <td>0</td>\n",
       "      <td>1</td>\n",
       "      <td>61</td>\n",
       "    </tr>\n",
       "    <tr>\n",
       "      <th>7795-CFOCW</th>\n",
       "      <td>0</td>\n",
       "      <td>42.30</td>\n",
       "      <td>1840.75</td>\n",
       "      <td>1</td>\n",
       "      <td>1</td>\n",
       "      <td>0</td>\n",
       "      <td>1</td>\n",
       "      <td>1</td>\n",
       "      <td>0</td>\n",
       "      <td>0</td>\n",
       "      <td>...</td>\n",
       "      <td>1</td>\n",
       "      <td>2016</td>\n",
       "      <td>1</td>\n",
       "      <td>0</td>\n",
       "      <td>0</td>\n",
       "      <td>0</td>\n",
       "      <td>0</td>\n",
       "      <td>0</td>\n",
       "      <td>0</td>\n",
       "      <td>1371</td>\n",
       "    </tr>\n",
       "    <tr>\n",
       "      <th>9237-HQITU</th>\n",
       "      <td>1</td>\n",
       "      <td>70.70</td>\n",
       "      <td>151.65</td>\n",
       "      <td>0</td>\n",
       "      <td>0</td>\n",
       "      <td>0</td>\n",
       "      <td>0</td>\n",
       "      <td>0</td>\n",
       "      <td>0</td>\n",
       "      <td>0</td>\n",
       "      <td>...</td>\n",
       "      <td>0</td>\n",
       "      <td>2019</td>\n",
       "      <td>0</td>\n",
       "      <td>0</td>\n",
       "      <td>1</td>\n",
       "      <td>0</td>\n",
       "      <td>0</td>\n",
       "      <td>1</td>\n",
       "      <td>0</td>\n",
       "      <td>61</td>\n",
       "    </tr>\n",
       "    <tr>\n",
       "      <th>...</th>\n",
       "      <td>...</td>\n",
       "      <td>...</td>\n",
       "      <td>...</td>\n",
       "      <td>...</td>\n",
       "      <td>...</td>\n",
       "      <td>...</td>\n",
       "      <td>...</td>\n",
       "      <td>...</td>\n",
       "      <td>...</td>\n",
       "      <td>...</td>\n",
       "      <td>...</td>\n",
       "      <td>...</td>\n",
       "      <td>...</td>\n",
       "      <td>...</td>\n",
       "      <td>...</td>\n",
       "      <td>...</td>\n",
       "      <td>...</td>\n",
       "      <td>...</td>\n",
       "      <td>...</td>\n",
       "      <td>...</td>\n",
       "      <td>...</td>\n",
       "    </tr>\n",
       "    <tr>\n",
       "      <th>6840-RESVB</th>\n",
       "      <td>1</td>\n",
       "      <td>84.80</td>\n",
       "      <td>1990.50</td>\n",
       "      <td>1</td>\n",
       "      <td>1</td>\n",
       "      <td>0</td>\n",
       "      <td>1</td>\n",
       "      <td>1</td>\n",
       "      <td>1</td>\n",
       "      <td>1</td>\n",
       "      <td>...</td>\n",
       "      <td>0</td>\n",
       "      <td>2018</td>\n",
       "      <td>1</td>\n",
       "      <td>0</td>\n",
       "      <td>0</td>\n",
       "      <td>0</td>\n",
       "      <td>0</td>\n",
       "      <td>0</td>\n",
       "      <td>1</td>\n",
       "      <td>730</td>\n",
       "    </tr>\n",
       "    <tr>\n",
       "      <th>2234-XADUH</th>\n",
       "      <td>1</td>\n",
       "      <td>103.20</td>\n",
       "      <td>7362.90</td>\n",
       "      <td>1</td>\n",
       "      <td>0</td>\n",
       "      <td>1</td>\n",
       "      <td>1</td>\n",
       "      <td>0</td>\n",
       "      <td>1</td>\n",
       "      <td>1</td>\n",
       "      <td>...</td>\n",
       "      <td>0</td>\n",
       "      <td>2014</td>\n",
       "      <td>1</td>\n",
       "      <td>0</td>\n",
       "      <td>1</td>\n",
       "      <td>0</td>\n",
       "      <td>1</td>\n",
       "      <td>0</td>\n",
       "      <td>0</td>\n",
       "      <td>2191</td>\n",
       "    </tr>\n",
       "    <tr>\n",
       "      <th>4801-JZAZL</th>\n",
       "      <td>1</td>\n",
       "      <td>29.60</td>\n",
       "      <td>346.45</td>\n",
       "      <td>1</td>\n",
       "      <td>1</td>\n",
       "      <td>0</td>\n",
       "      <td>0</td>\n",
       "      <td>0</td>\n",
       "      <td>0</td>\n",
       "      <td>0</td>\n",
       "      <td>...</td>\n",
       "      <td>1</td>\n",
       "      <td>2019</td>\n",
       "      <td>0</td>\n",
       "      <td>0</td>\n",
       "      <td>0</td>\n",
       "      <td>0</td>\n",
       "      <td>0</td>\n",
       "      <td>1</td>\n",
       "      <td>0</td>\n",
       "      <td>337</td>\n",
       "    </tr>\n",
       "    <tr>\n",
       "      <th>8361-LTMKD</th>\n",
       "      <td>1</td>\n",
       "      <td>74.40</td>\n",
       "      <td>306.60</td>\n",
       "      <td>0</td>\n",
       "      <td>0</td>\n",
       "      <td>0</td>\n",
       "      <td>0</td>\n",
       "      <td>0</td>\n",
       "      <td>0</td>\n",
       "      <td>0</td>\n",
       "      <td>...</td>\n",
       "      <td>0</td>\n",
       "      <td>2019</td>\n",
       "      <td>0</td>\n",
       "      <td>0</td>\n",
       "      <td>1</td>\n",
       "      <td>0</td>\n",
       "      <td>0</td>\n",
       "      <td>0</td>\n",
       "      <td>1</td>\n",
       "      <td>123</td>\n",
       "    </tr>\n",
       "    <tr>\n",
       "      <th>3186-AJIEK</th>\n",
       "      <td>1</td>\n",
       "      <td>105.65</td>\n",
       "      <td>6844.50</td>\n",
       "      <td>1</td>\n",
       "      <td>1</td>\n",
       "      <td>0</td>\n",
       "      <td>1</td>\n",
       "      <td>1</td>\n",
       "      <td>1</td>\n",
       "      <td>1</td>\n",
       "      <td>...</td>\n",
       "      <td>0</td>\n",
       "      <td>2014</td>\n",
       "      <td>0</td>\n",
       "      <td>1</td>\n",
       "      <td>1</td>\n",
       "      <td>0</td>\n",
       "      <td>0</td>\n",
       "      <td>0</td>\n",
       "      <td>0</td>\n",
       "      <td>2010</td>\n",
       "    </tr>\n",
       "  </tbody>\n",
       "</table>\n",
       "<p>7043 rows × 25 columns</p>\n",
       "</div>"
      ],
      "text/plain": [
       "            PaperlessBilling  MonthlyCharges  TotalCharges  Client_left  \\\n",
       "customerID                                                                \n",
       "7590-VHVEG                 1           29.85         29.85            1   \n",
       "5575-GNVDE                 0           56.95       1889.50            1   \n",
       "3668-QPYBK                 1           53.85        108.15            0   \n",
       "7795-CFOCW                 0           42.30       1840.75            1   \n",
       "9237-HQITU                 1           70.70        151.65            0   \n",
       "...                      ...             ...           ...          ...   \n",
       "6840-RESVB                 1           84.80       1990.50            1   \n",
       "2234-XADUH                 1          103.20       7362.90            1   \n",
       "4801-JZAZL                 1           29.60        346.45            1   \n",
       "8361-LTMKD                 1           74.40        306.60            0   \n",
       "3186-AJIEK                 1          105.65       6844.50            1   \n",
       "\n",
       "            OnlineSecurity  OnlineBackup  DeviceProtection  TechSupport  \\\n",
       "customerID                                                                \n",
       "7590-VHVEG               0             1                 0            0   \n",
       "5575-GNVDE               1             0                 1            0   \n",
       "3668-QPYBK               1             1                 0            0   \n",
       "7795-CFOCW               1             0                 1            1   \n",
       "9237-HQITU               0             0                 0            0   \n",
       "...                    ...           ...               ...          ...   \n",
       "6840-RESVB               1             0                 1            1   \n",
       "2234-XADUH               0             1                 1            0   \n",
       "4801-JZAZL               1             0                 0            0   \n",
       "8361-LTMKD               0             0                 0            0   \n",
       "3186-AJIEK               1             0                 1            1   \n",
       "\n",
       "            StreamingTV  StreamingMovies  ...  Services  Begin_Year  \\\n",
       "customerID                                ...                         \n",
       "7590-VHVEG            0                0  ...         1        2020   \n",
       "5575-GNVDE            0                0  ...         0        2017   \n",
       "3668-QPYBK            0                0  ...         0        2019   \n",
       "7795-CFOCW            0                0  ...         1        2016   \n",
       "9237-HQITU            0                0  ...         0        2019   \n",
       "...                 ...              ...  ...       ...         ...   \n",
       "6840-RESVB            1                1  ...         0        2018   \n",
       "2234-XADUH            1                1  ...         0        2014   \n",
       "4801-JZAZL            0                0  ...         1        2019   \n",
       "8361-LTMKD            0                0  ...         0        2019   \n",
       "3186-AJIEK            1                1  ...         0        2014   \n",
       "\n",
       "            Type_One year  Type_Two year  InternetService_Fiber optic  \\\n",
       "customerID                                                              \n",
       "7590-VHVEG              0              0                            0   \n",
       "5575-GNVDE              1              0                            0   \n",
       "3668-QPYBK              0              0                            0   \n",
       "7795-CFOCW              1              0                            0   \n",
       "9237-HQITU              0              0                            1   \n",
       "...                   ...            ...                          ...   \n",
       "6840-RESVB              1              0                            0   \n",
       "2234-XADUH              1              0                            1   \n",
       "4801-JZAZL              0              0                            0   \n",
       "8361-LTMKD              0              0                            1   \n",
       "3186-AJIEK              0              1                            1   \n",
       "\n",
       "            InternetService_NA  PaymentMethod_Credit card (automatic)  \\\n",
       "customerID                                                              \n",
       "7590-VHVEG                   0                                      0   \n",
       "5575-GNVDE                   0                                      0   \n",
       "3668-QPYBK                   0                                      0   \n",
       "7795-CFOCW                   0                                      0   \n",
       "9237-HQITU                   0                                      0   \n",
       "...                        ...                                    ...   \n",
       "6840-RESVB                   0                                      0   \n",
       "2234-XADUH                   0                                      1   \n",
       "4801-JZAZL                   0                                      0   \n",
       "8361-LTMKD                   0                                      0   \n",
       "3186-AJIEK                   0                                      0   \n",
       "\n",
       "            PaymentMethod_Electronic check  PaymentMethod_Mailed check  \\\n",
       "customerID                                                               \n",
       "7590-VHVEG                               1                           0   \n",
       "5575-GNVDE                               0                           1   \n",
       "3668-QPYBK                               0                           1   \n",
       "7795-CFOCW                               0                           0   \n",
       "9237-HQITU                               1                           0   \n",
       "...                                    ...                         ...   \n",
       "6840-RESVB                               0                           1   \n",
       "2234-XADUH                               0                           0   \n",
       "4801-JZAZL                               1                           0   \n",
       "8361-LTMKD                               0                           1   \n",
       "3186-AJIEK                               0                           0   \n",
       "\n",
       "            duration  \n",
       "customerID            \n",
       "7590-VHVEG        31  \n",
       "5575-GNVDE      1036  \n",
       "3668-QPYBK        61  \n",
       "7795-CFOCW      1371  \n",
       "9237-HQITU        61  \n",
       "...              ...  \n",
       "6840-RESVB       730  \n",
       "2234-XADUH      2191  \n",
       "4801-JZAZL       337  \n",
       "8361-LTMKD       123  \n",
       "3186-AJIEK      2010  \n",
       "\n",
       "[7043 rows x 25 columns]"
      ]
     },
     "execution_count": 48,
     "metadata": {},
     "output_type": "execute_result"
    }
   ],
   "source": [
    "data"
   ]
  },
  {
   "cell_type": "code",
   "execution_count": 49,
   "id": "83f007f8",
   "metadata": {},
   "outputs": [
    {
     "data": {
      "image/png": "[encoded data removed]",
      "text/plain": [
       "<Figure size 1080x1080 with 2 Axes>"
      ]
     },
     "metadata": {
      "needs_background": "light"
     },
     "output_type": "display_data"
    }
   ],
   "source": [
    "correlation = data.corr()\n",
    "plt.figure(figsize=(15,15))\n",
    "sns.heatmap(correlation, vmax=1, square=True,annot=True,cmap='cubehelix')\n",
    "\n",
    "plt.title('Correlation between different fearures')\n",
    "plt.show()"
   ]
  },
  {
   "cell_type": "markdown",
   "id": "ea61273c",
   "metadata": {},
   "source": [
    "Признак TotalCharges и duration сильно коррелируюи между собой, это можно обяъснить тем, что чем дольше клиент пользуется услугами, тем бльше он тратит денег. удалим столбец TotalCharges"
   ]
  },
  {
   "cell_type": "code",
   "execution_count": 50,
   "id": "8311f9e9",
   "metadata": {},
   "outputs": [],
   "source": [
    "data.drop('TotalCharges', axis = 1, inplace = True)"
   ]
  },
  {
   "cell_type": "markdown",
   "id": "97818b03",
   "metadata": {},
   "source": [
    "Столбцы Services,Begin_Year так же удалим, т.к. он коррелирует с другими признаками и был нужен для исследовательского анализа"
   ]
  },
  {
   "cell_type": "code",
   "execution_count": 51,
   "id": "7b957d74",
   "metadata": {},
   "outputs": [],
   "source": [
    "data.drop('Services', axis = 1, inplace = True)\n",
    "data.drop('Begin_Year', axis = 1, inplace = True)"
   ]
  },
  {
   "cell_type": "markdown",
   "id": "36f97145",
   "metadata": {},
   "source": [
    "# Моделирование"
   ]
  },
  {
   "cell_type": "code",
   "execution_count": 52,
   "id": "6489b5ad",
   "metadata": {},
   "outputs": [],
   "source": [
    "train_df, test_df = train_test_split(data, test_size = 0.2, random_state = 250722)"
   ]
  },
  {
   "cell_type": "code",
   "execution_count": 53,
   "id": "7659908c",
   "metadata": {},
   "outputs": [],
   "source": [
    "features_train = train_df.drop('Client_left', axis = 1)\n",
    "features_test = test_df.drop('Client_left', axis = 1)\n",
    "\n",
    "target_train = train_df['Client_left']\n",
    "target_test = test_df['Client_left']"
   ]
  },
  {
   "cell_type": "markdown",
   "id": "aa1fa606",
   "metadata": {},
   "source": [
    "## CatBoostClassifier"
   ]
  },
  {
   "cell_type": "code",
   "execution_count": 54,
   "id": "0142735a",
   "metadata": {},
   "outputs": [],
   "source": [
    "train_dataset = Pool(features_train, target_train)\n",
    "test_dataset = Pool(features_test, target_test)"
   ]
  },
  {
   "cell_type": "code",
   "execution_count": 55,
   "id": "d67b6245",
   "metadata": {},
   "outputs": [
    {
     "data": {
      "application/vnd.jupyter.widget-view+json": {
       "model_id": "b2c90f72068d4858b8f0403b44e6c313",
       "version_major": 2,
       "version_minor": 0
      },
      "text/plain": [
       "MetricVisualizer(layout=Layout(align_self='stretch', height='500px'))"
      ]
     },
     "metadata": {},
     "output_type": "display_data"
    },
    {
     "data": {
      "text/plain": [
       "0.9255700317138681"
      ]
     },
     "execution_count": 55,
     "metadata": {},
     "output_type": "execute_result"
    }
   ],
   "source": [
    "model = CatBoostClassifier(loss_function = 'CrossEntropy',learning_rate = 0.03, random_state = 250722)\n",
    "model.fit(train_dataset, eval_set = test_dataset, plot = True, verbose = False)\n",
    "Cat_Model_Prediction_Proba = model.predict_proba(features_test)[:,1]\n",
    "roc_auc_score(target_test, Cat_Model_Prediction_Proba)"
   ]
  },
  {
   "cell_type": "markdown",
   "id": "bf7b2a5f",
   "metadata": {},
   "source": [
    "Оценим важность фич"
   ]
  },
  {
   "cell_type": "code",
   "execution_count": 56,
   "id": "ebf49505",
   "metadata": {},
   "outputs": [
    {
     "data": {
      "text/html": [
       "<div>\n",
       "<style scoped>\n",
       "    .dataframe tbody tr th:only-of-type {\n",
       "        vertical-align: middle;\n",
       "    }\n",
       "\n",
       "    .dataframe tbody tr th {\n",
       "        vertical-align: top;\n",
       "    }\n",
       "\n",
       "    .dataframe thead th {\n",
       "        text-align: right;\n",
       "    }\n",
       "</style>\n",
       "<table border=\"1\" class=\"dataframe\">\n",
       "  <thead>\n",
       "    <tr style=\"text-align: right;\">\n",
       "      <th></th>\n",
       "      <th>Feature Id</th>\n",
       "      <th>Importances</th>\n",
       "    </tr>\n",
       "  </thead>\n",
       "  <tbody>\n",
       "    <tr>\n",
       "      <th>0</th>\n",
       "      <td>duration</td>\n",
       "      <td>54.554134</td>\n",
       "    </tr>\n",
       "    <tr>\n",
       "      <th>1</th>\n",
       "      <td>MonthlyCharges</td>\n",
       "      <td>11.313548</td>\n",
       "    </tr>\n",
       "    <tr>\n",
       "      <th>2</th>\n",
       "      <td>Type_Two year</td>\n",
       "      <td>5.595191</td>\n",
       "    </tr>\n",
       "    <tr>\n",
       "      <th>3</th>\n",
       "      <td>InternetService_Fiber optic</td>\n",
       "      <td>3.253573</td>\n",
       "    </tr>\n",
       "    <tr>\n",
       "      <th>4</th>\n",
       "      <td>PaymentMethod_Electronic check</td>\n",
       "      <td>2.302160</td>\n",
       "    </tr>\n",
       "    <tr>\n",
       "      <th>5</th>\n",
       "      <td>PaperlessBilling</td>\n",
       "      <td>2.190820</td>\n",
       "    </tr>\n",
       "    <tr>\n",
       "      <th>6</th>\n",
       "      <td>Type_One year</td>\n",
       "      <td>2.168300</td>\n",
       "    </tr>\n",
       "    <tr>\n",
       "      <th>7</th>\n",
       "      <td>TechSupport</td>\n",
       "      <td>1.859789</td>\n",
       "    </tr>\n",
       "    <tr>\n",
       "      <th>8</th>\n",
       "      <td>gender</td>\n",
       "      <td>1.747836</td>\n",
       "    </tr>\n",
       "    <tr>\n",
       "      <th>9</th>\n",
       "      <td>Dependents</td>\n",
       "      <td>1.539019</td>\n",
       "    </tr>\n",
       "    <tr>\n",
       "      <th>10</th>\n",
       "      <td>PaymentMethod_Mailed check</td>\n",
       "      <td>1.512141</td>\n",
       "    </tr>\n",
       "    <tr>\n",
       "      <th>11</th>\n",
       "      <td>StreamingMovies</td>\n",
       "      <td>1.408579</td>\n",
       "    </tr>\n",
       "    <tr>\n",
       "      <th>12</th>\n",
       "      <td>StreamingTV</td>\n",
       "      <td>1.355521</td>\n",
       "    </tr>\n",
       "    <tr>\n",
       "      <th>13</th>\n",
       "      <td>InternetService_NA</td>\n",
       "      <td>1.316970</td>\n",
       "    </tr>\n",
       "    <tr>\n",
       "      <th>14</th>\n",
       "      <td>OnlineSecurity</td>\n",
       "      <td>1.285534</td>\n",
       "    </tr>\n",
       "    <tr>\n",
       "      <th>15</th>\n",
       "      <td>MultipleLines</td>\n",
       "      <td>1.278694</td>\n",
       "    </tr>\n",
       "    <tr>\n",
       "      <th>16</th>\n",
       "      <td>SeniorCitizen</td>\n",
       "      <td>1.259408</td>\n",
       "    </tr>\n",
       "    <tr>\n",
       "      <th>17</th>\n",
       "      <td>PaymentMethod_Credit card (automatic)</td>\n",
       "      <td>1.217825</td>\n",
       "    </tr>\n",
       "    <tr>\n",
       "      <th>18</th>\n",
       "      <td>Partner</td>\n",
       "      <td>1.154576</td>\n",
       "    </tr>\n",
       "    <tr>\n",
       "      <th>19</th>\n",
       "      <td>OnlineBackup</td>\n",
       "      <td>0.997658</td>\n",
       "    </tr>\n",
       "    <tr>\n",
       "      <th>20</th>\n",
       "      <td>DeviceProtection</td>\n",
       "      <td>0.688726</td>\n",
       "    </tr>\n",
       "  </tbody>\n",
       "</table>\n",
       "</div>"
      ],
      "text/plain": [
       "                               Feature Id  Importances\n",
       "0                                duration    54.554134\n",
       "1                          MonthlyCharges    11.313548\n",
       "2                           Type_Two year     5.595191\n",
       "3             InternetService_Fiber optic     3.253573\n",
       "4          PaymentMethod_Electronic check     2.302160\n",
       "5                        PaperlessBilling     2.190820\n",
       "6                           Type_One year     2.168300\n",
       "7                             TechSupport     1.859789\n",
       "8                                  gender     1.747836\n",
       "9                              Dependents     1.539019\n",
       "10             PaymentMethod_Mailed check     1.512141\n",
       "11                        StreamingMovies     1.408579\n",
       "12                            StreamingTV     1.355521\n",
       "13                     InternetService_NA     1.316970\n",
       "14                         OnlineSecurity     1.285534\n",
       "15                          MultipleLines     1.278694\n",
       "16                          SeniorCitizen     1.259408\n",
       "17  PaymentMethod_Credit card (automatic)     1.217825\n",
       "18                                Partner     1.154576\n",
       "19                           OnlineBackup     0.997658\n",
       "20                       DeviceProtection     0.688726"
      ]
     },
     "execution_count": 56,
     "metadata": {},
     "output_type": "execute_result"
    }
   ],
   "source": [
    "feature_importance = model.get_feature_importance(train_dataset, prettified = True)\n",
    "feature_importance"
   ]
  },
  {
   "cell_type": "markdown",
   "id": "b3520942",
   "metadata": {},
   "source": [
    "Я бы выделил 11 важных фич, а остальные будем считать менее важными "
   ]
  },
  {
   "cell_type": "code",
   "execution_count": 57,
   "id": "41164c83",
   "metadata": {},
   "outputs": [],
   "source": [
    "Cat_boost_train = features_train[['duration','MonthlyCharges','Type_Two year',\\\n",
    "                              'InternetService_Fiber optic','PaymentMethod_Electronic check','PaperlessBilling','Type_One year','TechSupport', 'gender']]\n",
    "Cat_boost_test = features_test[['duration','MonthlyCharges','Type_Two year',\\\n",
    "                              'InternetService_Fiber optic','PaymentMethod_Electronic check','PaperlessBilling','Type_One year','TechSupport', 'gender']]\n",
    "train_dataset = Pool(Cat_boost_train, target_train)\n",
    "test_dataset = Pool(Cat_boost_test, target_test)"
   ]
  },
  {
   "cell_type": "code",
   "execution_count": 58,
   "id": "156a40dc",
   "metadata": {},
   "outputs": [],
   "source": [
    "modelCat = CatBoostClassifier( random_state = 250722)\n",
    "Cat_GRID = GridSearchCV(modelCat,{\n",
    "    'iterations': [400,500,600,1000],\n",
    "    'learning_rate' : [0.03],\n",
    "    'depth' : range(3,15,3),\n",
    "    'verbose' : [False]\n",
    "}, cv = 5,scoring = 'roc_auc')"
   ]
  },
  {
   "cell_type": "code",
   "execution_count": 59,
   "id": "24ecdf62",
   "metadata": {},
   "outputs": [
    {
     "data": {
      "text/plain": [
       "GridSearchCV(cv=5,\n",
       "             estimator=<catboost.core.CatBoostClassifier object at 0x0000024B1B74A850>,\n",
       "             param_grid={'depth': range(3, 15, 3),\n",
       "                         'iterations': [400, 500, 600, 1000],\n",
       "                         'learning_rate': [0.03], 'verbose': [False]},\n",
       "             scoring='roc_auc')"
      ]
     },
     "execution_count": 59,
     "metadata": {},
     "output_type": "execute_result"
    }
   ],
   "source": [
    "Cat_GRID.fit(Cat_boost_train,target_train)"
   ]
  },
  {
   "cell_type": "code",
   "execution_count": 60,
   "id": "cef8b6f3",
   "metadata": {},
   "outputs": [
    {
     "data": {
      "text/plain": [
       "{'depth': 6, 'iterations': 1000, 'learning_rate': 0.03, 'verbose': False}"
      ]
     },
     "execution_count": 60,
     "metadata": {},
     "output_type": "execute_result"
    }
   ],
   "source": [
    "Cat_GRID.best_params_"
   ]
  },
  {
   "cell_type": "code",
   "execution_count": 61,
   "id": "3a890b5f",
   "metadata": {},
   "outputs": [
    {
     "data": {
      "text/plain": [
       "0.9193873223031493"
      ]
     },
     "execution_count": 61,
     "metadata": {},
     "output_type": "execute_result"
    }
   ],
   "source": [
    "Cat_GRID.best_score_"
   ]
  },
  {
   "cell_type": "code",
   "execution_count": 62,
   "id": "4f68225d",
   "metadata": {},
   "outputs": [],
   "source": [
    "modelCat = CatBoostClassifier(loss_function = 'CrossEntropy',iterations = 1000, depth = 6,learning_rate = 0.03, random_state = 250722)"
   ]
  },
  {
   "cell_type": "code",
   "execution_count": 63,
   "id": "742cff3f",
   "metadata": {},
   "outputs": [
    {
     "data": {
      "text/plain": [
       "<catboost.core.CatBoostClassifier at 0x24b1b85bf10>"
      ]
     },
     "execution_count": 63,
     "metadata": {},
     "output_type": "execute_result"
    }
   ],
   "source": [
    "modelCat.fit(train_dataset, eval_set = test_dataset, verbose = False)"
   ]
  },
  {
   "cell_type": "code",
   "execution_count": 64,
   "id": "4a1acae8",
   "metadata": {},
   "outputs": [],
   "source": [
    "catPrediction_Proba = modelCat.predict_proba(Cat_boost_test)[:,1]"
   ]
  },
  {
   "cell_type": "code",
   "execution_count": 65,
   "id": "70cf4c56",
   "metadata": {},
   "outputs": [
    {
     "data": {
      "text/plain": [
       "0.9302967700401569"
      ]
     },
     "execution_count": 65,
     "metadata": {},
     "output_type": "execute_result"
    }
   ],
   "source": [
    "roc_auc_score(target_test, catPrediction_Proba)"
   ]
  },
  {
   "cell_type": "code",
   "execution_count": 66,
   "id": "5bac817c",
   "metadata": {},
   "outputs": [
    {
     "data": {
      "text/plain": [
       "0.8914123491838183"
      ]
     },
     "execution_count": 66,
     "metadata": {},
     "output_type": "execute_result"
    }
   ],
   "source": [
    "Cat_boost_pred = modelCat.predict(Cat_boost_test)\n",
    "accuracy_score(target_test,Cat_boost_pred)"
   ]
  },
  {
   "cell_type": "markdown",
   "id": "fd35e5ad",
   "metadata": {},
   "source": [
    "## RandomForest"
   ]
  },
  {
   "cell_type": "code",
   "execution_count": 67,
   "id": "1d2a1c7a",
   "metadata": {},
   "outputs": [
    {
     "data": {
      "text/plain": [
       "0.8422723171175734"
      ]
     },
     "execution_count": 67,
     "metadata": {},
     "output_type": "execute_result"
    }
   ],
   "source": [
    "RF = RandomForestClassifier(class_weight = 'balanced', random_state = 250722)\n",
    "\n",
    "RF.fit(features_train, target_train)\n",
    "\n",
    "RF_proba = RF.predict_proba(features_test)[:,1]\n",
    "\n",
    "roc_auc_score(target_test, RF_proba)"
   ]
  },
  {
   "cell_type": "code",
   "execution_count": 68,
   "id": "4090f22f",
   "metadata": {},
   "outputs": [
    {
     "name": "stdout",
     "output_type": "stream",
     "text": [
      "Feature importances:\n",
      " 1. feature 'duration' (0.2626)\n",
      " 2. feature 'MonthlyCharges' (0.2032)\n",
      " 3. feature 'Type_Two year' (0.0771)\n",
      " 4. feature 'InternetService_Fiber optic' (0.0519)\n",
      " 5. feature 'Type_One year' (0.0351)\n",
      " 6. feature 'PaymentMethod_Electronic check' (0.0348)\n",
      " 7. feature 'gender' (0.0291)\n",
      " 8. feature 'InternetService_NA' (0.0270)\n",
      " 9. feature 'TechSupport' (0.0270)\n",
      "10. feature 'PaperlessBilling' (0.0268)\n",
      "11. feature 'OnlineSecurity' (0.0246)\n",
      "12. feature 'Partner' (0.0245)\n",
      "13. feature 'OnlineBackup' (0.0235)\n",
      "14. feature 'Dependents' (0.0217)\n",
      "15. feature 'DeviceProtection' (0.0209)\n",
      "16. feature 'SeniorCitizen' (0.0208)\n",
      "17. feature 'StreamingMovies' (0.0203)\n",
      "18. feature 'MultipleLines' (0.0203)\n",
      "19. feature 'StreamingTV' (0.0191)\n",
      "20. feature 'PaymentMethod_Credit card (automatic)' (0.0163)\n",
      "21. feature 'PaymentMethod_Mailed check' (0.0134)\n"
     ]
    },
    {
     "data": {
      "text/plain": [
       "<BarContainer object of 21 artists>"
      ]
     },
     "execution_count": 68,
     "metadata": {},
     "output_type": "execute_result"
    },
    {
     "data": {
      "image/png": "[encoded data removed]",
      "text/plain": [
       "<Figure size 1440x648 with 1 Axes>"
      ]
     },
     "metadata": {
      "needs_background": "light"
     },
     "output_type": "display_data"
    }
   ],
   "source": [
    "plt.figure(figsize=(20,9))\n",
    "plt.xticks(rotation=45, fontsize=10) \n",
    "feature_import2 = RF.feature_importances_\n",
    "col_names = features_train.columns\n",
    "indices = np.argsort(feature_import2)[::-1]\n",
    "print(\"Feature importances:\")\n",
    "for f, idx in enumerate(indices):\n",
    "    print(\"{:2d}. feature '{:5s}' ({:.4f})\".format(f + 1, col_names[idx], feature_import2[idx]))\n",
    "plt.bar(col_names,feature_import2)\n"
   ]
  },
  {
   "cell_type": "code",
   "execution_count": 69,
   "id": "1158a3e2",
   "metadata": {},
   "outputs": [],
   "source": [
    "RF_train = features_train[['duration','MonthlyCharges','Type_Two year','InternetService_Fiber optic',\\\n",
    "                              'PaymentMethod_Electronic check','Type_One year','OnlineSecurity','gender','PaperlessBilling']]"
   ]
  },
  {
   "cell_type": "code",
   "execution_count": 70,
   "id": "8d5c4352",
   "metadata": {},
   "outputs": [],
   "source": [
    "RF_test = features_test[['duration','MonthlyCharges','Type_Two year','InternetService_Fiber optic',\\\n",
    "                             'PaymentMethod_Electronic check','Type_One year','OnlineSecurity','gender','PaperlessBilling']]"
   ]
  },
  {
   "cell_type": "code",
   "execution_count": 71,
   "id": "413fdc75",
   "metadata": {},
   "outputs": [],
   "source": [
    "RFC = GridSearchCV(RandomForestClassifier(criterion = 'entropy', class_weight='balanced'),{\n",
    "    'max_depth': range(3,15,3),\n",
    "    'n_estimators': range(10,100, 10),\n",
    "    'min_samples_split' : range(4,28,4),\n",
    "    'min_samples_leaf' : range(3,13,2)\n",
    "}, cv = 5, scoring = 'roc_auc')"
   ]
  },
  {
   "cell_type": "code",
   "execution_count": 72,
   "id": "9d0fa5b1",
   "metadata": {},
   "outputs": [
    {
     "data": {
      "text/plain": [
       "GridSearchCV(cv=5,\n",
       "             estimator=RandomForestClassifier(class_weight='balanced',\n",
       "                                              criterion='entropy'),\n",
       "             param_grid={'max_depth': range(3, 15, 3),\n",
       "                         'min_samples_leaf': range(3, 13, 2),\n",
       "                         'min_samples_split': range(4, 28, 4),\n",
       "                         'n_estimators': range(10, 100, 10)},\n",
       "             scoring='roc_auc')"
      ]
     },
     "execution_count": 72,
     "metadata": {},
     "output_type": "execute_result"
    }
   ],
   "source": [
    "RFC.fit(RF_train,target_train)"
   ]
  },
  {
   "cell_type": "code",
   "execution_count": 73,
   "id": "67dc8566",
   "metadata": {},
   "outputs": [
    {
     "data": {
      "text/plain": [
       "{'max_depth': 9,\n",
       " 'min_samples_leaf': 3,\n",
       " 'min_samples_split': 24,\n",
       " 'n_estimators': 90}"
      ]
     },
     "execution_count": 73,
     "metadata": {},
     "output_type": "execute_result"
    }
   ],
   "source": [
    "RFC.best_params_"
   ]
  },
  {
   "cell_type": "code",
   "execution_count": 74,
   "id": "4ef33b38",
   "metadata": {},
   "outputs": [
    {
     "data": {
      "text/plain": [
       "0.8585924262641317"
      ]
     },
     "execution_count": 74,
     "metadata": {},
     "output_type": "execute_result"
    }
   ],
   "source": [
    "RFC.best_score_"
   ]
  },
  {
   "cell_type": "code",
   "execution_count": 75,
   "id": "a3b70943",
   "metadata": {},
   "outputs": [
    {
     "data": {
      "text/plain": [
       "0.8689401974597245"
      ]
     },
     "execution_count": 75,
     "metadata": {},
     "output_type": "execute_result"
    }
   ],
   "source": [
    "RFCauc = RandomForestClassifier(class_weight = 'balanced',criterion = 'entropy', max_depth=9, min_samples_leaf=3, min_samples_split=24, n_estimators = 90, random_state = 250722)\n",
    "\n",
    "RFCauc.fit(RF_train, target_train)\n",
    "\n",
    "RFCauc_proba = RFCauc.predict_proba(RF_test)[:,1]\n",
    "\n",
    "roc_auc_score(target_test, RFCauc_proba)"
   ]
  },
  {
   "cell_type": "code",
   "execution_count": 76,
   "id": "05ef261b",
   "metadata": {},
   "outputs": [
    {
     "data": {
      "text/plain": [
       "0.7934705464868701"
      ]
     },
     "execution_count": 76,
     "metadata": {},
     "output_type": "execute_result"
    }
   ],
   "source": [
    "RF_predict = RFCauc.predict(RF_test)\n",
    "accuracy_score(target_test,RF_predict)"
   ]
  },
  {
   "cell_type": "markdown",
   "id": "e21167a7",
   "metadata": {},
   "source": [
    "## DecisionTreeClassifier"
   ]
  },
  {
   "cell_type": "code",
   "execution_count": 77,
   "id": "0963f112",
   "metadata": {},
   "outputs": [
    {
     "data": {
      "text/plain": [
       "0.7048908483591635"
      ]
     },
     "execution_count": 77,
     "metadata": {},
     "output_type": "execute_result"
    }
   ],
   "source": [
    "DT = DecisionTreeClassifier(random_state=250722, class_weight = 'balanced')\n",
    "\n",
    "DT.fit(features_train, target_train)\n",
    "\n",
    "DT_proba = DT.predict_proba(features_test)[:,1]\n",
    "\n",
    "roc_auc_score(target_test, DT_proba)"
   ]
  },
  {
   "cell_type": "code",
   "execution_count": 78,
   "id": "ebcd5ca3",
   "metadata": {},
   "outputs": [
    {
     "name": "stdout",
     "output_type": "stream",
     "text": [
      "Feature importances:\n",
      " 1. feature 'duration' (0.2626)\n",
      " 2. feature 'MonthlyCharges' (0.2032)\n",
      " 3. feature 'Type_Two year' (0.0771)\n",
      " 4. feature 'InternetService_Fiber optic' (0.0519)\n",
      " 5. feature 'Type_One year' (0.0351)\n",
      " 6. feature 'PaymentMethod_Electronic check' (0.0348)\n",
      " 7. feature 'gender' (0.0291)\n",
      " 8. feature 'InternetService_NA' (0.0270)\n",
      " 9. feature 'TechSupport' (0.0270)\n",
      "10. feature 'PaperlessBilling' (0.0268)\n",
      "11. feature 'OnlineSecurity' (0.0246)\n",
      "12. feature 'Partner' (0.0245)\n",
      "13. feature 'OnlineBackup' (0.0235)\n",
      "14. feature 'Dependents' (0.0217)\n",
      "15. feature 'DeviceProtection' (0.0209)\n",
      "16. feature 'SeniorCitizen' (0.0208)\n",
      "17. feature 'StreamingMovies' (0.0203)\n",
      "18. feature 'MultipleLines' (0.0203)\n",
      "19. feature 'StreamingTV' (0.0191)\n",
      "20. feature 'PaymentMethod_Credit card (automatic)' (0.0163)\n",
      "21. feature 'PaymentMethod_Mailed check' (0.0134)\n"
     ]
    },
    {
     "data": {
      "text/plain": [
       "<BarContainer object of 21 artists>"
      ]
     },
     "execution_count": 78,
     "metadata": {},
     "output_type": "execute_result"
    },
    {
     "data": {
      "image/png": "[encoded data removed]",
      "text/plain": [
       "<Figure size 1440x648 with 1 Axes>"
      ]
     },
     "metadata": {
      "needs_background": "light"
     },
     "output_type": "display_data"
    }
   ],
   "source": [
    "plt.figure(figsize=(20,9))\n",
    "plt.xticks(rotation=45, fontsize=10) \n",
    "feature_importance3 = DT.feature_importances_\n",
    "col_names = features_train.columns\n",
    "indices = np.argsort(feature_import2)[::-1]\n",
    "print(\"Feature importances:\")\n",
    "for f, idx in enumerate(indices):\n",
    "    print(\"{:2d}. feature '{:5s}' ({:.4f})\".format(f + 1, col_names[idx], feature_import2[idx]))\n",
    "plt.bar(col_names,feature_importance3)"
   ]
  },
  {
   "cell_type": "code",
   "execution_count": 79,
   "id": "8231db59",
   "metadata": {},
   "outputs": [],
   "source": [
    "DT_train = features_train[['duration','MonthlyCharges','Type_Two year','InternetService_Fiber optic',\\\n",
    "                             'Type_One year','PaymentMethod_Electronic check','gender','InternetService_NA','TechSupport']]"
   ]
  },
  {
   "cell_type": "code",
   "execution_count": 80,
   "id": "94aed40f",
   "metadata": {},
   "outputs": [],
   "source": [
    "DT_test = features_test[['duration','MonthlyCharges','Type_Two year','InternetService_Fiber optic',\\\n",
    "                             'Type_One year','PaymentMethod_Electronic check','gender','InternetService_NA','TechSupport']]"
   ]
  },
  {
   "cell_type": "code",
   "execution_count": 81,
   "id": "1fe12b2f",
   "metadata": {},
   "outputs": [],
   "source": [
    "DTG = GridSearchCV(DecisionTreeClassifier(criterion = 'entropy', class_weight='balanced'),{\n",
    "    'max_depth': range(1, 10, 20),\n",
    "    'min_samples_split' : range(4,28,4),\n",
    "    'min_samples_leaf' : range(3,13,2)\n",
    "}, cv = 5, scoring = 'roc_auc')"
   ]
  },
  {
   "cell_type": "code",
   "execution_count": 82,
   "id": "6d29cee7",
   "metadata": {},
   "outputs": [
    {
     "data": {
      "text/plain": [
       "GridSearchCV(cv=5,\n",
       "             estimator=DecisionTreeClassifier(class_weight='balanced',\n",
       "                                              criterion='entropy'),\n",
       "             param_grid={'max_depth': range(1, 10, 20),\n",
       "                         'min_samples_leaf': range(3, 13, 2),\n",
       "                         'min_samples_split': range(4, 28, 4)},\n",
       "             scoring='roc_auc')"
      ]
     },
     "execution_count": 82,
     "metadata": {},
     "output_type": "execute_result"
    }
   ],
   "source": [
    "DTG.fit(DT_train,target_train)"
   ]
  },
  {
   "cell_type": "code",
   "execution_count": 83,
   "id": "c02f9739",
   "metadata": {},
   "outputs": [
    {
     "data": {
      "text/plain": [
       "{'max_depth': 1, 'min_samples_leaf': 3, 'min_samples_split': 4}"
      ]
     },
     "execution_count": 83,
     "metadata": {},
     "output_type": "execute_result"
    }
   ],
   "source": [
    "DTG.best_params_"
   ]
  },
  {
   "cell_type": "code",
   "execution_count": 84,
   "id": "5ce71d77",
   "metadata": {},
   "outputs": [
    {
     "data": {
      "text/plain": [
       "0.6481243934767025"
      ]
     },
     "execution_count": 84,
     "metadata": {},
     "output_type": "execute_result"
    }
   ],
   "source": [
    "DTG.best_score_"
   ]
  },
  {
   "cell_type": "code",
   "execution_count": 85,
   "id": "7b07cb6e",
   "metadata": {},
   "outputs": [
    {
     "data": {
      "text/plain": [
       "0.6390568686117135"
      ]
     },
     "execution_count": 85,
     "metadata": {},
     "output_type": "execute_result"
    }
   ],
   "source": [
    "DTGauc = DecisionTreeClassifier(class_weight = 'balanced', max_depth=1, min_samples_leaf=3, min_samples_split=4, random_state = 250722)\n",
    "\n",
    "DTGauc.fit(DT_train, target_train)\n",
    "\n",
    "DTGauc_proba = DTGauc.predict_proba(DT_test)[:,1]\n",
    "\n",
    "roc_auc_score(target_test, DTGauc_proba)"
   ]
  },
  {
   "cell_type": "code",
   "execution_count": 86,
   "id": "3fb659df",
   "metadata": {},
   "outputs": [
    {
     "data": {
      "text/plain": [
       "0.47835344215755854"
      ]
     },
     "execution_count": 86,
     "metadata": {},
     "output_type": "execute_result"
    }
   ],
   "source": [
    "DT_predict = DTGauc.predict(DT_test)\n",
    "accuracy_score(target_test,DT_predict)"
   ]
  },
  {
   "cell_type": "markdown",
   "id": "99e82f1a",
   "metadata": {},
   "source": [
    "## Итоговые результаты\n"
   ]
  },
  {
   "cell_type": "code",
   "execution_count": 87,
   "id": "afea16a5",
   "metadata": {},
   "outputs": [
    {
     "data": {
      "text/html": [
       "<div>\n",
       "<style scoped>\n",
       "    .dataframe tbody tr th:only-of-type {\n",
       "        vertical-align: middle;\n",
       "    }\n",
       "\n",
       "    .dataframe tbody tr th {\n",
       "        vertical-align: top;\n",
       "    }\n",
       "\n",
       "    .dataframe thead th {\n",
       "        text-align: right;\n",
       "    }\n",
       "</style>\n",
       "<table border=\"1\" class=\"dataframe\">\n",
       "  <thead>\n",
       "    <tr style=\"text-align: right;\">\n",
       "      <th></th>\n",
       "      <th>Model</th>\n",
       "      <th>Значение метрики ROC-AUC</th>\n",
       "      <th>Значение метрики accuracy</th>\n",
       "    </tr>\n",
       "  </thead>\n",
       "  <tbody>\n",
       "    <tr>\n",
       "      <th>0</th>\n",
       "      <td>CatBoostClassifier</td>\n",
       "      <td>0.930</td>\n",
       "      <td>0.891</td>\n",
       "    </tr>\n",
       "    <tr>\n",
       "      <th>1</th>\n",
       "      <td>RandomForest</td>\n",
       "      <td>0.869</td>\n",
       "      <td>0.789</td>\n",
       "    </tr>\n",
       "    <tr>\n",
       "      <th>2</th>\n",
       "      <td>DecisionTreeClassifier</td>\n",
       "      <td>0.639</td>\n",
       "      <td>0.478</td>\n",
       "    </tr>\n",
       "  </tbody>\n",
       "</table>\n",
       "</div>"
      ],
      "text/plain": [
       "                    Model  Значение метрики ROC-AUC  Значение метрики accuracy\n",
       "0      CatBoostClassifier                     0.930                      0.891\n",
       "1            RandomForest                     0.869                      0.789\n",
       "2  DecisionTreeClassifier                     0.639                      0.478"
      ]
     },
     "metadata": {},
     "output_type": "display_data"
    }
   ],
   "source": [
    "results = {\n",
    "    'Model' : ['CatBoostClassifier', 'RandomForest', 'DecisionTreeClassifier'],\n",
    "    'Значение метрики ROC-AUC' :pd.Series([0.930,  0.869, 0.639]),\n",
    "    'Значение метрики accuracy': pd.Series([0.891, 0.789,  0.478]),\n",
    "    }\n",
    "display(pd.DataFrame(results))"
   ]
  },
  {
   "cell_type": "markdown",
   "id": "d31a6739",
   "metadata": {},
   "source": [
    "# Вывод\n"
   ]
  },
  {
   "cell_type": "markdown",
   "id": "fc524fb2",
   "metadata": {},
   "source": [
    "Мы провели тестроивание моделей, самые точные предсказания получили у модели CatBoostClassifier с гиперпараметрами:\n",
    "\n",
    "{'depth': 6, 'iterations': 1000, 'learning_rate': 0.03, 'verbose': False}\n",
    "\n",
    "- Значение метрики ROC_AUC - 0,93\n",
    "- Значение метрики accuracy - 0.891"
   ]
  },
  {
   "cell_type": "markdown",
   "id": "3b92ce8f",
   "metadata": {},
   "source": [
    "#  Общий вывод"
   ]
  },
  {
   "cell_type": "markdown",
   "id": "4dce93fb",
   "metadata": {},
   "source": [
    "Оператор связи «Ниединогоразрыва.ком» хотел научиться прогнозировать отток клиентов. Для этого нам предоставлили данные:\n",
    "\n",
    "1. информация о договорах,  \n",
    "2. персональные данные клиентов,\n",
    "3. информация об интернет-услугах,\n",
    "4. информация об услугах телефонии.\n",
    "\n",
    "Мы провели предобработку данных, а конкретнее:\n",
    "\n",
    "- объединили данные в один датасет, для удобства работы\n",
    "- изменили необходимые типы данных\n",
    "- заполнили пропущенные значения\n",
    "\n",
    "В исследовательском анализе провели:\n",
    "\n",
    "- Сравнили распределения величин ежемесячных платежей (MonthlyCharges) всех клиентов и тех, кто ушёл. \n",
    "- Для каждой группы посчитали статистики: средние, минимальные и максимальные значения, медиану и величины 25%- и 75%-квартилей. \n",
    "- Построили гистограммы распределения\n",
    "- Сравниили поведение клиентов этих двух групп. \n",
    "\n",
    "Выводы из исследовательского анализа:\n",
    "\n",
    "- 69 % клиентов пользуются всеми услугами предоставляемыми компанией. 10 % пользуются только телефоном и 21% пользуются только интернетом\n",
    "- Из ушедших клиентов 85 % пльзовались всеми услугами, 6% только телефоном, а 9% только интернетом.\n",
    "- Отюсда можно сделать вывод, что проблема заключается не в конкретной услуге, а в целом клиенты не довольны компанией. Опять же, возможно предоставляемые услуги сильно возрасли в цене. \n",
    "- Самый большой отток клиентов был в 2019 году (точнее к концу года случился просто обвал)\n",
    "\n",
    "\n",
    "Для решения поставленной задачи мы закодировали категориальные признакки, разделили данные на две выборки:\n",
    "1. Обучающую (80%)\n",
    "2. Тестовую (20%)\n",
    "\n",
    "\n",
    "Далее обучали и проверяли модели 'CatBoostClassifier', 'RandomForest', 'DecisionTreeClassifier'\n",
    "\n",
    "Проверили все модели на тестовых выборках. Самое точное предсказание получили с помощью модели CatBoostClassifier, для которой значение ROC_AUC на тестовой выборке получилось =  0.93\n",
    "\n",
    "**ИТОГ И РЕКОМЕНДАЦИИ ДЛЯ «Ниединогоразрыва.ком»**\n",
    "\n",
    "1. Рекомендуем оператору проанализировать события конца 2019 года, где у произошёл большой обвал бользователей. Могла сильно измениться ценовая политика и большая часть клиентов просто не могла столько денег тратить на связь.\n",
    "\n",
    "2. Для прогнозированния оттока рекоменуем использовать модель CatBoostClassifier с параметрами: {'depth': 6, 'iterations': 1000, 'learning_rate': 0.03, 'verbose': False}\n",
    "\n"
   ]
  },
  {
   "cell_type": "markdown",
   "id": "671c63ef",
   "metadata": {},
   "source": [
    "# Отчёт по проекту \"Прогнозирование оттока клиентов\" для оператора связи «Ниединогоразрыва.ком» "
   ]
  },
  {
   "cell_type": "markdown",
   "id": "7cb44e03",
   "metadata": {},
   "source": [
    "\n",
    "В данной работе мы поставили себе план и не сильно от него отклонялись. Выполненые шаги по плану были:\n",
    "\n",
    "1. Изучили полученные данные и предобработали их:\n",
    "\n",
    "- объединили данные в один датасет, для удобства работы\n",
    "- изменили необходимые типы данных (BeginDate, EndDate к формату даты, а TotalCharges к формату float)\n",
    "- заполнили пропущенные значения ( В столбце TotalCharges имелись пропущенные значения для клиентов, которые являются клиентом меньше месяца, заполняли данные пропуски значениями платежа за месяц MonthlyCharges)\n",
    "\n",
    "2. Провели исселовательский анализ данных \n",
    "\n",
    "- Сравнили распределения величин ежемесячных платежей (MonthlyCharges) всех клиентов и тех, кто ушёл. \n",
    "- Для каждой группы посчитали статистики: средние, минимальные и максимальные значения, медиану и величины 25%- и 75%-квартилей. \n",
    "- Построили гистограммы распределения\n",
    "- Сравниили поведение клиентов этих двух групп. \n",
    "\n",
    "Выводы получившиеся из исследовательского анализа\n",
    "\n",
    "- 69 % клиентов пользуются всеми услугами предоставляемыми компанией. 10 % пользуются только телефоном и 21% пользуются только интернетом\n",
    "- Из ушедших клиентов 85 % пльзовались всеми услугами, 6% только телефоном, а 9% только интернетом.\n",
    "- Отюсда можно сделать вывод, что проблема заключается не в конкретной услуге, а в целом клиенты не довольны компанией. Опять же, возможно предоставляемые услуги сильно возрасли в цене. \n",
    "- Самый большой отток клиентов был в 2019 году (точнее к концу года случился просто обвал)\n",
    "\n",
    "3. Разделили данные на выборки (80% обучающую и 20% тестовую), подобрали параметры гиперпараметров и обучили модели\n",
    "\n",
    "\n",
    "\n",
    "4. Проанализировали резуьтаты работы наших моделей\n",
    "\n",
    "\n",
    "\n",
    "5. Сделали итоговый вывод\n",
    "\n",
    "\n",
    "\n",
    "Без труднойстей, конечно же, тоже не обошлось. Больше всего пришлось повозиться и подумать в исследовательском анализе и при отборе признаков. Для решения данных задач мы испльзвали различные инструменты:\n",
    "\n",
    "* Разделяли группы на уже ушедших и оставшихся клиентов.\n",
    "* С помощию средств библиотеки `matplotlib.pyplot` построили наглядные графики для визуализации по ушешим и оставшимся клиентам (выводы по данному разделу приведены выше)\n",
    "* С помощью get_feature_importance нашли самые важные фичи для построения наших моделей\n",
    "* Кодировали категориальные признаки \n",
    "\n",
    "По результату подготовки к моделированию и при построении моделей выяснили, что двумя самыми важными признаками при построении модели мы смогли выделить duration (какое количество человек является клиентом нашего сервиса) и MonthlyCharges (сумма ежемесячного платежа)((не и ещё 9 штук хехе, но самыми важными будут именно они))\n",
    "\n",
    "\n",
    "По итогу наилучшим результатом обладает модель CatBoostClassifier на тестовой выборке - значение метрики ROC-AUC 0.93 и значение метрики accuracy 0.89.\n",
    "\n",
    "**ИТОГ И РЕКОМЕНДАЦИИ ДЛЯ «Ниединогоразрыва.ком»**\n",
    "\n",
    "1. Рекомендуем оператору проанализировать события конца 2019 года, где у произошёл большой обвал бользователей. Могла сильно измениться ценовая политика и большая часть клиентов просто не могла столько денег тратить на связь.\n",
    "\n",
    "2. Для прогнозированния оттока рекоменуем использовать модель CatBoostClassifier с параметрами: {'depth': 6, 'iterations': 1000, 'learning_rate': 0.03, 'verbose': False}\n",
    "\n"
   ]
  }
 ],
 "metadata": {
  "ExecuteTimeLog": [
   {
    "duration": 1977,
    "start_time": "2022-08-02T08:15:56.147Z"
   },
   {
    "duration": 3,
    "start_time": "2022-08-02T08:16:38.819Z"
   },
   {
    "duration": 178,
    "start_time": "2022-08-02T08:16:42.904Z"
   },
   {
    "duration": 31,
    "start_time": "2022-08-02T08:17:05.780Z"
   },
   {
    "duration": 37,
    "start_time": "2022-08-02T08:17:14.018Z"
   },
   {
    "duration": 10,
    "start_time": "2022-08-02T08:17:45.108Z"
   },
   {
    "duration": 12,
    "start_time": "2022-08-02T08:17:45.691Z"
   },
   {
    "duration": 28,
    "start_time": "2022-08-02T08:17:59.472Z"
   },
   {
    "duration": 15,
    "start_time": "2022-08-02T08:18:00.260Z"
   },
   {
    "duration": 8,
    "start_time": "2022-08-02T08:18:25.597Z"
   },
   {
    "duration": 15,
    "start_time": "2022-08-02T08:18:30.207Z"
   },
   {
    "duration": 5,
    "start_time": "2022-08-02T08:18:48.055Z"
   },
   {
    "duration": 24,
    "start_time": "2022-08-02T08:18:52.068Z"
   },
   {
    "duration": 7,
    "start_time": "2022-08-02T08:19:28.863Z"
   },
   {
    "duration": 10,
    "start_time": "2022-08-02T08:19:31.251Z"
   },
   {
    "duration": 13,
    "start_time": "2022-08-02T08:19:32.660Z"
   },
   {
    "duration": 14,
    "start_time": "2022-08-02T08:19:33.470Z"
   },
   {
    "duration": 18,
    "start_time": "2022-08-02T08:19:34.575Z"
   },
   {
    "duration": 5,
    "start_time": "2022-08-02T08:20:11.417Z"
   },
   {
    "duration": 5,
    "start_time": "2022-08-02T08:20:12.268Z"
   },
   {
    "duration": 4,
    "start_time": "2022-08-02T08:20:13.812Z"
   },
   {
    "duration": 22,
    "start_time": "2022-08-02T08:20:15.521Z"
   },
   {
    "duration": 6,
    "start_time": "2022-08-02T08:20:21.912Z"
   },
   {
    "duration": 8,
    "start_time": "2022-08-02T08:20:23.259Z"
   },
   {
    "duration": 7,
    "start_time": "2022-08-02T08:20:23.405Z"
   },
   {
    "duration": 273,
    "start_time": "2022-08-02T08:20:24.066Z"
   },
   {
    "duration": 325,
    "start_time": "2022-08-02T08:20:24.564Z"
   },
   {
    "duration": 185,
    "start_time": "2022-08-02T08:20:25.352Z"
   },
   {
    "duration": 187,
    "start_time": "2022-08-02T08:20:25.551Z"
   },
   {
    "duration": 5,
    "start_time": "2022-08-02T08:20:26.577Z"
   },
   {
    "duration": 265,
    "start_time": "2022-08-02T08:20:26.803Z"
   },
   {
    "duration": 241,
    "start_time": "2022-08-02T08:20:27.801Z"
   },
   {
    "duration": 101,
    "start_time": "2022-08-02T08:21:20.518Z"
   },
   {
    "duration": 2,
    "start_time": "2022-08-02T08:21:31.756Z"
   },
   {
    "duration": 15,
    "start_time": "2022-08-02T08:21:32.664Z"
   },
   {
    "duration": 13,
    "start_time": "2022-08-02T08:21:34.244Z"
   },
   {
    "duration": 16,
    "start_time": "2022-08-02T08:21:38.393Z"
   },
   {
    "duration": 13,
    "start_time": "2022-08-02T08:21:47.479Z"
   },
   {
    "duration": 2,
    "start_time": "2022-08-02T08:21:48.152Z"
   },
   {
    "duration": 5,
    "start_time": "2022-08-02T08:21:49.156Z"
   },
   {
    "duration": 4,
    "start_time": "2022-08-02T08:21:49.592Z"
   },
   {
    "duration": 18,
    "start_time": "2022-08-02T08:21:50.504Z"
   },
   {
    "duration": 7,
    "start_time": "2022-08-02T08:21:54.756Z"
   },
   {
    "duration": 4,
    "start_time": "2022-08-02T08:21:55.355Z"
   },
   {
    "duration": 17,
    "start_time": "2022-08-02T08:21:56.180Z"
   },
   {
    "duration": 7,
    "start_time": "2022-08-02T08:22:00.794Z"
   },
   {
    "duration": 5,
    "start_time": "2022-08-02T08:22:27.172Z"
   },
   {
    "duration": 28,
    "start_time": "2022-08-02T08:22:27.856Z"
   },
   {
    "duration": 3466,
    "start_time": "2022-08-02T08:22:30.287Z"
   },
   {
    "duration": 4,
    "start_time": "2022-08-02T08:22:33.755Z"
   },
   {
    "duration": 8,
    "start_time": "2022-08-02T08:22:33.760Z"
   },
   {
    "duration": 102,
    "start_time": "2022-08-04T19:54:15.568Z"
   }
  ],
  "kernelspec": {
   "display_name": "Python 3 (ipykernel)",
   "language": "python",
   "name": "python3"
  },
  "language_info": {
   "codemirror_mode": {
    "name": "ipython",
    "version": 3
   },
   "file_extension": ".py",
   "mimetype": "text/x-python",
   "name": "python",
   "nbconvert_exporter": "python",
   "pygments_lexer": "ipython3",
   "version": "3.9.7"
  },
  "toc": {
   "base_numbering": 1,
   "nav_menu": {},
   "number_sections": true,
   "sideBar": true,
   "skip_h1_title": false,
   "title_cell": "Table of Contents",
   "title_sidebar": "Contents",
   "toc_cell": false,
   "toc_position": {},
   "toc_section_display": true,
   "toc_window_display": false
  }
 },
 "nbformat": 4,
 "nbformat_minor": 5
}
