{
 "cells": [
  {
   "cell_type": "markdown",
   "metadata": {
    "toc": true
   },
   "source": [
    "<h1>Содержание<span class=\"tocSkip\"></span></h1>\n",
    "<div class=\"toc\"><ul class=\"toc-item\"><li><span><a href=\"#Подготовка-данных\" data-toc-modified-id=\"Подготовка-данных-1\"><span class=\"toc-item-num\">1&nbsp;&nbsp;</span>Подготовка данных</a></span></li><li><span><a href=\"#Исследование-задачи\" data-toc-modified-id=\"Исследование-задачи-2\"><span class=\"toc-item-num\">2&nbsp;&nbsp;</span>Исследование задачи</a></span><ul class=\"toc-item\"><li><span><a href=\"#Посмотрим-на-различные-факотры-оттока\" data-toc-modified-id=\"Посмотрим-на-различные-факотры-оттока-2.1\"><span class=\"toc-item-num\">2.1&nbsp;&nbsp;</span>Посмотрим на различные факотры оттока</a></span><ul class=\"toc-item\"><li><span><a href=\"#Избавимся-от-категориальных-признаков-методом-One-hot-encoder\" data-toc-modified-id=\"Избавимся-от-категориальных-признаков-методом-One-hot-encoder-2.1.1\"><span class=\"toc-item-num\">2.1.1&nbsp;&nbsp;</span>Избавимся от категориальных признаков методом One hot encoder</a></span></li><li><span><a href=\"#Построим-модель-без-учета-баланса\" data-toc-modified-id=\"Построим-модель-без-учета-баланса-2.1.2\"><span class=\"toc-item-num\">2.1.2&nbsp;&nbsp;</span>Построим модель без учета баланса</a></span></li></ul></li></ul></li><li><span><a href=\"#Борьба-с-дисбалансом\" data-toc-modified-id=\"Борьба-с-дисбалансом-3\"><span class=\"toc-item-num\">3&nbsp;&nbsp;</span>Борьба с дисбалансом</a></span><ul class=\"toc-item\"><li><span><a href=\"#Воспользуемся-функцией--Downsampling\" data-toc-modified-id=\"Воспользуемся-функцией--Downsampling-3.1\"><span class=\"toc-item-num\">3.1&nbsp;&nbsp;</span>Воспользуемся функцией  Downsampling</a></span></li><li><span><a href=\"#Воспользуемся-функцией-Upsampling\" data-toc-modified-id=\"Воспользуемся-функцией-Upsampling-3.2\"><span class=\"toc-item-num\">3.2&nbsp;&nbsp;</span>Воспользуемся функцией Upsampling</a></span></li></ul></li><li><span><a href=\"#Тестирование-модели\" data-toc-modified-id=\"Тестирование-модели-4\"><span class=\"toc-item-num\">4&nbsp;&nbsp;</span>Тестирование модели</a></span><ul class=\"toc-item\"><li><span><a href=\"#Обучение-с-помощью-модели-Дерево-решения-после-балансирования-данных\" data-toc-modified-id=\"Обучение-с-помощью-модели-Дерево-решения-после-балансирования-данных-4.1\"><span class=\"toc-item-num\">4.1&nbsp;&nbsp;</span>Обучение с помощью модели Дерево решения после балансирования данных</a></span></li></ul></li><li><span><a href=\"#ОБЩИЙ-ВЫВОД\" data-toc-modified-id=\"ОБЩИЙ-ВЫВОД-5\"><span class=\"toc-item-num\">5&nbsp;&nbsp;</span>ОБЩИЙ ВЫВОД</a></span></li></ul></div>"
   ]
  },
  {
   "cell_type": "markdown",
   "metadata": {},
   "source": [
    "# Отток клиентов"
   ]
  },
  {
   "cell_type": "markdown",
   "metadata": {},
   "source": [
    "Из «Бета-Банка» стали уходить клиенты. Каждый месяц. Немного, но заметно. Банковские маркетологи посчитали: сохранять текущих клиентов дешевле, чем привлекать новых.\n",
    "\n",
    "Нужно спрогнозировать, уйдёт клиент из банка в ближайшее время или нет. Нам предоставлены исторические данные о поведении клиентов и расторжении договоров с банком. \n",
    "\n",
    "Построим модель с предельно большим значением *F1*-меры. Чтобы сдать проект успешно, нужно довести метрику до 0.59. Проверим *F1*-меру на тестовой выборке\n",
    "\n",
    "Дополнительно измерим *AUC-ROC*, сравнивайте её значение с *F1*-мерой.\n",
    "\n",
    "Источник данных: [https://www.kaggle.com/barelydedicated/bank-customer-churn-modeling](https://www.kaggle.com/barelydedicated/bank-customer-churn-modeling)"
   ]
  },
  {
   "cell_type": "markdown",
   "metadata": {},
   "source": [
    "## Подготовка данных"
   ]
  },
  {
   "cell_type": "code",
   "execution_count": 1,
   "metadata": {},
   "outputs": [],
   "source": [
    "import pandas as pd\n",
    "import matplotlib.pyplot as plt\n",
    "import numpy as np\n",
    "from sklearn.tree import DecisionTreeClassifier\n",
    "from sklearn.ensemble import RandomForestClassifier\n",
    "from sklearn.linear_model import LogisticRegression\n",
    "from sklearn.model_selection import train_test_split\n",
    "from sklearn.preprocessing import OrdinalEncoder\n",
    "from sklearn.preprocessing import StandardScaler\n",
    "from sklearn.metrics import f1_score\n",
    "from sklearn.metrics import f1_score, precision_score, recall_score, accuracy_score, roc_auc_score, roc_curve\n",
    "from sklearn.utils import shuffle\n",
    "from sklearn.metrics import roc_curve\n",
    "from sklearn.metrics import roc_auc_score\n",
    "import warnings"
   ]
  },
  {
   "cell_type": "code",
   "execution_count": 2,
   "metadata": {},
   "outputs": [],
   "source": [
    "warnings.filterwarnings('ignore')"
   ]
  },
  {
   "cell_type": "code",
   "execution_count": 3,
   "metadata": {},
   "outputs": [],
   "source": [
    "data = pd.read_csv('/datasets/Churn.csv')"
   ]
  },
  {
   "cell_type": "code",
   "execution_count": 4,
   "metadata": {
    "scrolled": false
   },
   "outputs": [
    {
     "data": {
      "text/html": [
       "<div>\n",
       "<style scoped>\n",
       "    .dataframe tbody tr th:only-of-type {\n",
       "        vertical-align: middle;\n",
       "    }\n",
       "\n",
       "    .dataframe tbody tr th {\n",
       "        vertical-align: top;\n",
       "    }\n",
       "\n",
       "    .dataframe thead th {\n",
       "        text-align: right;\n",
       "    }\n",
       "</style>\n",
       "<table border=\"1\" class=\"dataframe\">\n",
       "  <thead>\n",
       "    <tr style=\"text-align: right;\">\n",
       "      <th></th>\n",
       "      <th>RowNumber</th>\n",
       "      <th>CustomerId</th>\n",
       "      <th>Surname</th>\n",
       "      <th>CreditScore</th>\n",
       "      <th>Geography</th>\n",
       "      <th>Gender</th>\n",
       "      <th>Age</th>\n",
       "      <th>Tenure</th>\n",
       "      <th>Balance</th>\n",
       "      <th>NumOfProducts</th>\n",
       "      <th>HasCrCard</th>\n",
       "      <th>IsActiveMember</th>\n",
       "      <th>EstimatedSalary</th>\n",
       "      <th>Exited</th>\n",
       "    </tr>\n",
       "  </thead>\n",
       "  <tbody>\n",
       "    <tr>\n",
       "      <th>0</th>\n",
       "      <td>1</td>\n",
       "      <td>15634602</td>\n",
       "      <td>Hargrave</td>\n",
       "      <td>619</td>\n",
       "      <td>France</td>\n",
       "      <td>Female</td>\n",
       "      <td>42</td>\n",
       "      <td>2.0</td>\n",
       "      <td>0.00</td>\n",
       "      <td>1</td>\n",
       "      <td>1</td>\n",
       "      <td>1</td>\n",
       "      <td>101348.88</td>\n",
       "      <td>1</td>\n",
       "    </tr>\n",
       "    <tr>\n",
       "      <th>1</th>\n",
       "      <td>2</td>\n",
       "      <td>15647311</td>\n",
       "      <td>Hill</td>\n",
       "      <td>608</td>\n",
       "      <td>Spain</td>\n",
       "      <td>Female</td>\n",
       "      <td>41</td>\n",
       "      <td>1.0</td>\n",
       "      <td>83807.86</td>\n",
       "      <td>1</td>\n",
       "      <td>0</td>\n",
       "      <td>1</td>\n",
       "      <td>112542.58</td>\n",
       "      <td>0</td>\n",
       "    </tr>\n",
       "    <tr>\n",
       "      <th>2</th>\n",
       "      <td>3</td>\n",
       "      <td>15619304</td>\n",
       "      <td>Onio</td>\n",
       "      <td>502</td>\n",
       "      <td>France</td>\n",
       "      <td>Female</td>\n",
       "      <td>42</td>\n",
       "      <td>8.0</td>\n",
       "      <td>159660.80</td>\n",
       "      <td>3</td>\n",
       "      <td>1</td>\n",
       "      <td>0</td>\n",
       "      <td>113931.57</td>\n",
       "      <td>1</td>\n",
       "    </tr>\n",
       "    <tr>\n",
       "      <th>3</th>\n",
       "      <td>4</td>\n",
       "      <td>15701354</td>\n",
       "      <td>Boni</td>\n",
       "      <td>699</td>\n",
       "      <td>France</td>\n",
       "      <td>Female</td>\n",
       "      <td>39</td>\n",
       "      <td>1.0</td>\n",
       "      <td>0.00</td>\n",
       "      <td>2</td>\n",
       "      <td>0</td>\n",
       "      <td>0</td>\n",
       "      <td>93826.63</td>\n",
       "      <td>0</td>\n",
       "    </tr>\n",
       "    <tr>\n",
       "      <th>4</th>\n",
       "      <td>5</td>\n",
       "      <td>15737888</td>\n",
       "      <td>Mitchell</td>\n",
       "      <td>850</td>\n",
       "      <td>Spain</td>\n",
       "      <td>Female</td>\n",
       "      <td>43</td>\n",
       "      <td>2.0</td>\n",
       "      <td>125510.82</td>\n",
       "      <td>1</td>\n",
       "      <td>1</td>\n",
       "      <td>1</td>\n",
       "      <td>79084.10</td>\n",
       "      <td>0</td>\n",
       "    </tr>\n",
       "    <tr>\n",
       "      <th>...</th>\n",
       "      <td>...</td>\n",
       "      <td>...</td>\n",
       "      <td>...</td>\n",
       "      <td>...</td>\n",
       "      <td>...</td>\n",
       "      <td>...</td>\n",
       "      <td>...</td>\n",
       "      <td>...</td>\n",
       "      <td>...</td>\n",
       "      <td>...</td>\n",
       "      <td>...</td>\n",
       "      <td>...</td>\n",
       "      <td>...</td>\n",
       "      <td>...</td>\n",
       "    </tr>\n",
       "    <tr>\n",
       "      <th>9995</th>\n",
       "      <td>9996</td>\n",
       "      <td>15606229</td>\n",
       "      <td>Obijiaku</td>\n",
       "      <td>771</td>\n",
       "      <td>France</td>\n",
       "      <td>Male</td>\n",
       "      <td>39</td>\n",
       "      <td>5.0</td>\n",
       "      <td>0.00</td>\n",
       "      <td>2</td>\n",
       "      <td>1</td>\n",
       "      <td>0</td>\n",
       "      <td>96270.64</td>\n",
       "      <td>0</td>\n",
       "    </tr>\n",
       "    <tr>\n",
       "      <th>9996</th>\n",
       "      <td>9997</td>\n",
       "      <td>15569892</td>\n",
       "      <td>Johnstone</td>\n",
       "      <td>516</td>\n",
       "      <td>France</td>\n",
       "      <td>Male</td>\n",
       "      <td>35</td>\n",
       "      <td>10.0</td>\n",
       "      <td>57369.61</td>\n",
       "      <td>1</td>\n",
       "      <td>1</td>\n",
       "      <td>1</td>\n",
       "      <td>101699.77</td>\n",
       "      <td>0</td>\n",
       "    </tr>\n",
       "    <tr>\n",
       "      <th>9997</th>\n",
       "      <td>9998</td>\n",
       "      <td>15584532</td>\n",
       "      <td>Liu</td>\n",
       "      <td>709</td>\n",
       "      <td>France</td>\n",
       "      <td>Female</td>\n",
       "      <td>36</td>\n",
       "      <td>7.0</td>\n",
       "      <td>0.00</td>\n",
       "      <td>1</td>\n",
       "      <td>0</td>\n",
       "      <td>1</td>\n",
       "      <td>42085.58</td>\n",
       "      <td>1</td>\n",
       "    </tr>\n",
       "    <tr>\n",
       "      <th>9998</th>\n",
       "      <td>9999</td>\n",
       "      <td>15682355</td>\n",
       "      <td>Sabbatini</td>\n",
       "      <td>772</td>\n",
       "      <td>Germany</td>\n",
       "      <td>Male</td>\n",
       "      <td>42</td>\n",
       "      <td>3.0</td>\n",
       "      <td>75075.31</td>\n",
       "      <td>2</td>\n",
       "      <td>1</td>\n",
       "      <td>0</td>\n",
       "      <td>92888.52</td>\n",
       "      <td>1</td>\n",
       "    </tr>\n",
       "    <tr>\n",
       "      <th>9999</th>\n",
       "      <td>10000</td>\n",
       "      <td>15628319</td>\n",
       "      <td>Walker</td>\n",
       "      <td>792</td>\n",
       "      <td>France</td>\n",
       "      <td>Female</td>\n",
       "      <td>28</td>\n",
       "      <td>NaN</td>\n",
       "      <td>130142.79</td>\n",
       "      <td>1</td>\n",
       "      <td>1</td>\n",
       "      <td>0</td>\n",
       "      <td>38190.78</td>\n",
       "      <td>0</td>\n",
       "    </tr>\n",
       "  </tbody>\n",
       "</table>\n",
       "<p>10000 rows × 14 columns</p>\n",
       "</div>"
      ],
      "text/plain": [
       "      RowNumber  CustomerId    Surname  CreditScore Geography  Gender  Age  \\\n",
       "0             1    15634602   Hargrave          619    France  Female   42   \n",
       "1             2    15647311       Hill          608     Spain  Female   41   \n",
       "2             3    15619304       Onio          502    France  Female   42   \n",
       "3             4    15701354       Boni          699    France  Female   39   \n",
       "4             5    15737888   Mitchell          850     Spain  Female   43   \n",
       "...         ...         ...        ...          ...       ...     ...  ...   \n",
       "9995       9996    15606229   Obijiaku          771    France    Male   39   \n",
       "9996       9997    15569892  Johnstone          516    France    Male   35   \n",
       "9997       9998    15584532        Liu          709    France  Female   36   \n",
       "9998       9999    15682355  Sabbatini          772   Germany    Male   42   \n",
       "9999      10000    15628319     Walker          792    France  Female   28   \n",
       "\n",
       "      Tenure    Balance  NumOfProducts  HasCrCard  IsActiveMember  \\\n",
       "0        2.0       0.00              1          1               1   \n",
       "1        1.0   83807.86              1          0               1   \n",
       "2        8.0  159660.80              3          1               0   \n",
       "3        1.0       0.00              2          0               0   \n",
       "4        2.0  125510.82              1          1               1   \n",
       "...      ...        ...            ...        ...             ...   \n",
       "9995     5.0       0.00              2          1               0   \n",
       "9996    10.0   57369.61              1          1               1   \n",
       "9997     7.0       0.00              1          0               1   \n",
       "9998     3.0   75075.31              2          1               0   \n",
       "9999     NaN  130142.79              1          1               0   \n",
       "\n",
       "      EstimatedSalary  Exited  \n",
       "0           101348.88       1  \n",
       "1           112542.58       0  \n",
       "2           113931.57       1  \n",
       "3            93826.63       0  \n",
       "4            79084.10       0  \n",
       "...               ...     ...  \n",
       "9995         96270.64       0  \n",
       "9996        101699.77       0  \n",
       "9997         42085.58       1  \n",
       "9998         92888.52       1  \n",
       "9999         38190.78       0  \n",
       "\n",
       "[10000 rows x 14 columns]"
      ]
     },
     "execution_count": 4,
     "metadata": {},
     "output_type": "execute_result"
    }
   ],
   "source": [
    "data"
   ]
  },
  {
   "cell_type": "code",
   "execution_count": 5,
   "metadata": {
    "scrolled": false
   },
   "outputs": [
    {
     "name": "stdout",
     "output_type": "stream",
     "text": [
      "<class 'pandas.core.frame.DataFrame'>\n",
      "RangeIndex: 10000 entries, 0 to 9999\n",
      "Data columns (total 14 columns):\n",
      " #   Column           Non-Null Count  Dtype  \n",
      "---  ------           --------------  -----  \n",
      " 0   RowNumber        10000 non-null  int64  \n",
      " 1   CustomerId       10000 non-null  int64  \n",
      " 2   Surname          10000 non-null  object \n",
      " 3   CreditScore      10000 non-null  int64  \n",
      " 4   Geography        10000 non-null  object \n",
      " 5   Gender           10000 non-null  object \n",
      " 6   Age              10000 non-null  int64  \n",
      " 7   Tenure           9091 non-null   float64\n",
      " 8   Balance          10000 non-null  float64\n",
      " 9   NumOfProducts    10000 non-null  int64  \n",
      " 10  HasCrCard        10000 non-null  int64  \n",
      " 11  IsActiveMember   10000 non-null  int64  \n",
      " 12  EstimatedSalary  10000 non-null  float64\n",
      " 13  Exited           10000 non-null  int64  \n",
      "dtypes: float64(3), int64(8), object(3)\n",
      "memory usage: 1.1+ MB\n"
     ]
    }
   ],
   "source": [
    "data.info()"
   ]
  },
  {
   "cell_type": "markdown",
   "metadata": {},
   "source": [
    "**ПРИЗНАКИ**\n",
    "\n",
    "- RowNumber — индекс строки в данных\n",
    "- CustomerId — уникальный идентификатор клиента\n",
    "- Surname — фамилия\n",
    "- CreditScore — кредитный рейтинг\n",
    "- Geography — страна проживания\n",
    "- Gender — пол\n",
    "- Age — возраст\n",
    "- Tenure — сколько лет человек является клиентом банка\n",
    "- Balance — баланс на счёте\n",
    "- NumOfProducts — количество продуктов банка, используемых клиентом\n",
    "- HasCrCard — наличие кредитной карты\n",
    "- IsActiveMember — активность клиента\n",
    "- EstimatedSalary — предполагаемая зарплата"
   ]
  },
  {
   "cell_type": "markdown",
   "metadata": {},
   "source": [
    "**ВЫВОДЫ ПО ДАННЫМ**\n",
    "\n",
    "1. В данных присутствуют не нужные столбцы, от них предлагаю избавиться: \n",
    " - rownumber\n",
    " - customerid\n",
    " - surname\n",
    "2. Имеются пропуски в значении Tenure(сколько лет человек является клиентом банка). Моё предположение будет, что если данный момент пропущен, то человек будет являться совсем новым клиентом(не может же он являться клиентом банка n-ое количество лет и нигде эта информация не будет зафиксированна), отсюда предлагаю заполнить пропущенные знаения на 0.\n"
   ]
  },
  {
   "cell_type": "code",
   "execution_count": 6,
   "metadata": {},
   "outputs": [],
   "source": [
    "# Удаляем ненужные столбцы \n",
    "exit_columns=['RowNumber','CustomerId','Surname']\n",
    "data=data.drop(exit_columns,axis=1)"
   ]
  },
  {
   "cell_type": "code",
   "execution_count": 7,
   "metadata": {},
   "outputs": [],
   "source": [
    "# Заполняем пропуски на 0\n",
    "data['Tenure']=data['Tenure'].fillna(0).astype('int64')\n",
    "\n"
   ]
  },
  {
   "cell_type": "code",
   "execution_count": 8,
   "metadata": {
    "scrolled": true
   },
   "outputs": [
    {
     "name": "stdout",
     "output_type": "stream",
     "text": [
      "<class 'pandas.core.frame.DataFrame'>\n",
      "RangeIndex: 10000 entries, 0 to 9999\n",
      "Data columns (total 11 columns):\n",
      " #   Column           Non-Null Count  Dtype  \n",
      "---  ------           --------------  -----  \n",
      " 0   CreditScore      10000 non-null  int64  \n",
      " 1   Geography        10000 non-null  object \n",
      " 2   Gender           10000 non-null  object \n",
      " 3   Age              10000 non-null  int64  \n",
      " 4   Tenure           10000 non-null  int64  \n",
      " 5   Balance          10000 non-null  float64\n",
      " 6   NumOfProducts    10000 non-null  int64  \n",
      " 7   HasCrCard        10000 non-null  int64  \n",
      " 8   IsActiveMember   10000 non-null  int64  \n",
      " 9   EstimatedSalary  10000 non-null  float64\n",
      " 10  Exited           10000 non-null  int64  \n",
      "dtypes: float64(2), int64(7), object(2)\n",
      "memory usage: 859.5+ KB\n"
     ]
    }
   ],
   "source": [
    "#проверяем изменения \n",
    "data.info()"
   ]
  },
  {
   "cell_type": "markdown",
   "metadata": {},
   "source": [
    "## Исследование задачи"
   ]
  },
  {
   "cell_type": "markdown",
   "metadata": {},
   "source": [
    "Посмотрим на гитограмму оттока и осттатка клиентов "
   ]
  },
  {
   "cell_type": "code",
   "execution_count": 9,
   "metadata": {
    "scrolled": false
   },
   "outputs": [
    {
     "data": {
      "text/plain": [
       "<AxesSubplot:title={'center':'Соотношение оставшиееся/ушедшие'}>"
      ]
     },
     "execution_count": 9,
     "metadata": {},
     "output_type": "execute_result"
    },
    {
     "data": {
      "image/png": "[encoded data removed]",
      "text/plain": [
       "<Figure size 720x432 with 1 Axes>"
      ]
     },
     "metadata": {
      "needs_background": "light"
     },
     "output_type": "display_data"
    }
   ],
   "source": [
    "# Рисую гистограмму значений оттока и оставшихся клиентов\n",
    "data['Exited'].value_counts().plot(kind='bar',grid=True,figsize=(10,6),title='Соотношение оставшиееся/ушедшие клиенты')"
   ]
  },
  {
   "cell_type": "markdown",
   "metadata": {},
   "source": [
    "- Соотношение вышло 1 к 4. Значит у нас присутствует дисбаланс в данных."
   ]
  },
  {
   "cell_type": "markdown",
   "metadata": {},
   "source": [
    "### Посмотрим на различные факотры оттока "
   ]
  },
  {
   "cell_type": "markdown",
   "metadata": {},
   "source": [
    "1. Построим гистограмму для зависимости ухода от возраста\n"
   ]
  },
  {
   "cell_type": "code",
   "execution_count": 10,
   "metadata": {},
   "outputs": [
    {
     "data": {
      "image/png": "[encoded data removed]",
      "text/plain": [
       "<Figure size 1080x432 with 1 Axes>"
      ]
     },
     "metadata": {
      "needs_background": "light"
     },
     "output_type": "display_data"
    }
   ],
   "source": [
    "data.groupby('Age')['Exited'].sum().plot(figsize=(15,6),kind='bar',title='Зависимость оттока от возраста клиентов')\n",
    "plt.show()\n"
   ]
  },
  {
   "cell_type": "markdown",
   "metadata": {},
   "source": [
    "- Больше всего клиентов уходит в возрасте от 40 до 50 лет "
   ]
  },
  {
   "cell_type": "markdown",
   "metadata": {},
   "source": [
    "2. Построим гистограмму как зависит наличие недвижимости и отток "
   ]
  },
  {
   "cell_type": "code",
   "execution_count": 11,
   "metadata": {
    "scrolled": false
   },
   "outputs": [
    {
     "data": {
      "image/png": "[encoded data removed]",
      "text/plain": [
       "<Figure size 1080x432 with 1 Axes>"
      ]
     },
     "metadata": {
      "needs_background": "light"
     },
     "output_type": "display_data"
    }
   ],
   "source": [
    "data.groupby('Tenure')['Exited'].count().plot(figsize=(15,6),kind='bar', title='Зависимость сколько лет человек является клиентом от оттока')\n",
    "plt.show()"
   ]
  },
  {
   "cell_type": "markdown",
   "metadata": {},
   "source": [
    "- Зависимость показывает, что люди являющимимися новыми клиентами уходят из банка чаще"
   ]
  },
  {
   "cell_type": "markdown",
   "metadata": {},
   "source": [
    "3. Построим истогрмму медианного баланса денег оставшихся людей и ушедших"
   ]
  },
  {
   "cell_type": "code",
   "execution_count": 12,
   "metadata": {},
   "outputs": [
    {
     "data": {
      "text/plain": [
       "<AxesSubplot:title={'center':'Гистограмма медианного баланса денег оставшихся людей и ушедших'}, xlabel='Exited'>"
      ]
     },
     "execution_count": 12,
     "metadata": {},
     "output_type": "execute_result"
    },
    {
     "data": {
      "image/png": "[encoded data removed]",
      "text/plain": [
       "<Figure size 432x288 with 1 Axes>"
      ]
     },
     "metadata": {
      "needs_background": "light"
     },
     "output_type": "display_data"
    }
   ],
   "source": [
    "data.groupby('Exited')['Balance'].median().plot(kind='bar', title='Гистограмма медианного баланса денег оставшихся людей и ушедших')"
   ]
  },
  {
   "cell_type": "markdown",
   "metadata": {},
   "source": [
    "Зависимость, опять же, не сильная. Но среднее значение баланса немного выше у тех, кто ушёл."
   ]
  },
  {
   "cell_type": "markdown",
   "metadata": {},
   "source": [
    "Посмотрим на корреляцию и сделаем выводы"
   ]
  },
  {
   "cell_type": "code",
   "execution_count": 13,
   "metadata": {
    "scrolled": true
   },
   "outputs": [
    {
     "data": {
      "text/html": [
       "<div>\n",
       "<style scoped>\n",
       "    .dataframe tbody tr th:only-of-type {\n",
       "        vertical-align: middle;\n",
       "    }\n",
       "\n",
       "    .dataframe tbody tr th {\n",
       "        vertical-align: top;\n",
       "    }\n",
       "\n",
       "    .dataframe thead th {\n",
       "        text-align: right;\n",
       "    }\n",
       "</style>\n",
       "<table border=\"1\" class=\"dataframe\">\n",
       "  <thead>\n",
       "    <tr style=\"text-align: right;\">\n",
       "      <th></th>\n",
       "      <th>CreditScore</th>\n",
       "      <th>Age</th>\n",
       "      <th>Tenure</th>\n",
       "      <th>Balance</th>\n",
       "      <th>NumOfProducts</th>\n",
       "      <th>HasCrCard</th>\n",
       "      <th>IsActiveMember</th>\n",
       "      <th>EstimatedSalary</th>\n",
       "      <th>Exited</th>\n",
       "    </tr>\n",
       "  </thead>\n",
       "  <tbody>\n",
       "    <tr>\n",
       "      <th>CreditScore</th>\n",
       "      <td>1.000000</td>\n",
       "      <td>-0.003965</td>\n",
       "      <td>0.003087</td>\n",
       "      <td>0.006268</td>\n",
       "      <td>0.012238</td>\n",
       "      <td>-0.005458</td>\n",
       "      <td>0.025651</td>\n",
       "      <td>-0.001384</td>\n",
       "      <td>-0.027094</td>\n",
       "    </tr>\n",
       "    <tr>\n",
       "      <th>Age</th>\n",
       "      <td>-0.003965</td>\n",
       "      <td>1.000000</td>\n",
       "      <td>-0.007368</td>\n",
       "      <td>0.028308</td>\n",
       "      <td>-0.030680</td>\n",
       "      <td>-0.011721</td>\n",
       "      <td>0.085472</td>\n",
       "      <td>-0.007201</td>\n",
       "      <td>0.285323</td>\n",
       "    </tr>\n",
       "    <tr>\n",
       "      <th>Tenure</th>\n",
       "      <td>0.003087</td>\n",
       "      <td>-0.007368</td>\n",
       "      <td>1.000000</td>\n",
       "      <td>-0.005821</td>\n",
       "      <td>0.010106</td>\n",
       "      <td>0.021387</td>\n",
       "      <td>-0.025856</td>\n",
       "      <td>0.011225</td>\n",
       "      <td>-0.013319</td>\n",
       "    </tr>\n",
       "    <tr>\n",
       "      <th>Balance</th>\n",
       "      <td>0.006268</td>\n",
       "      <td>0.028308</td>\n",
       "      <td>-0.005821</td>\n",
       "      <td>1.000000</td>\n",
       "      <td>-0.304180</td>\n",
       "      <td>-0.014858</td>\n",
       "      <td>-0.010084</td>\n",
       "      <td>0.012797</td>\n",
       "      <td>0.118533</td>\n",
       "    </tr>\n",
       "    <tr>\n",
       "      <th>NumOfProducts</th>\n",
       "      <td>0.012238</td>\n",
       "      <td>-0.030680</td>\n",
       "      <td>0.010106</td>\n",
       "      <td>-0.304180</td>\n",
       "      <td>1.000000</td>\n",
       "      <td>0.003183</td>\n",
       "      <td>0.009612</td>\n",
       "      <td>0.014204</td>\n",
       "      <td>-0.047820</td>\n",
       "    </tr>\n",
       "    <tr>\n",
       "      <th>HasCrCard</th>\n",
       "      <td>-0.005458</td>\n",
       "      <td>-0.011721</td>\n",
       "      <td>0.021387</td>\n",
       "      <td>-0.014858</td>\n",
       "      <td>0.003183</td>\n",
       "      <td>1.000000</td>\n",
       "      <td>-0.011866</td>\n",
       "      <td>-0.009933</td>\n",
       "      <td>-0.007138</td>\n",
       "    </tr>\n",
       "    <tr>\n",
       "      <th>IsActiveMember</th>\n",
       "      <td>0.025651</td>\n",
       "      <td>0.085472</td>\n",
       "      <td>-0.025856</td>\n",
       "      <td>-0.010084</td>\n",
       "      <td>0.009612</td>\n",
       "      <td>-0.011866</td>\n",
       "      <td>1.000000</td>\n",
       "      <td>-0.011421</td>\n",
       "      <td>-0.156128</td>\n",
       "    </tr>\n",
       "    <tr>\n",
       "      <th>EstimatedSalary</th>\n",
       "      <td>-0.001384</td>\n",
       "      <td>-0.007201</td>\n",
       "      <td>0.011225</td>\n",
       "      <td>0.012797</td>\n",
       "      <td>0.014204</td>\n",
       "      <td>-0.009933</td>\n",
       "      <td>-0.011421</td>\n",
       "      <td>1.000000</td>\n",
       "      <td>0.012097</td>\n",
       "    </tr>\n",
       "    <tr>\n",
       "      <th>Exited</th>\n",
       "      <td>-0.027094</td>\n",
       "      <td>0.285323</td>\n",
       "      <td>-0.013319</td>\n",
       "      <td>0.118533</td>\n",
       "      <td>-0.047820</td>\n",
       "      <td>-0.007138</td>\n",
       "      <td>-0.156128</td>\n",
       "      <td>0.012097</td>\n",
       "      <td>1.000000</td>\n",
       "    </tr>\n",
       "  </tbody>\n",
       "</table>\n",
       "</div>"
      ],
      "text/plain": [
       "                 CreditScore       Age    Tenure   Balance  NumOfProducts  \\\n",
       "CreditScore         1.000000 -0.003965  0.003087  0.006268       0.012238   \n",
       "Age                -0.003965  1.000000 -0.007368  0.028308      -0.030680   \n",
       "Tenure              0.003087 -0.007368  1.000000 -0.005821       0.010106   \n",
       "Balance             0.006268  0.028308 -0.005821  1.000000      -0.304180   \n",
       "NumOfProducts       0.012238 -0.030680  0.010106 -0.304180       1.000000   \n",
       "HasCrCard          -0.005458 -0.011721  0.021387 -0.014858       0.003183   \n",
       "IsActiveMember      0.025651  0.085472 -0.025856 -0.010084       0.009612   \n",
       "EstimatedSalary    -0.001384 -0.007201  0.011225  0.012797       0.014204   \n",
       "Exited             -0.027094  0.285323 -0.013319  0.118533      -0.047820   \n",
       "\n",
       "                 HasCrCard  IsActiveMember  EstimatedSalary    Exited  \n",
       "CreditScore      -0.005458        0.025651        -0.001384 -0.027094  \n",
       "Age              -0.011721        0.085472        -0.007201  0.285323  \n",
       "Tenure            0.021387       -0.025856         0.011225 -0.013319  \n",
       "Balance          -0.014858       -0.010084         0.012797  0.118533  \n",
       "NumOfProducts     0.003183        0.009612         0.014204 -0.047820  \n",
       "HasCrCard         1.000000       -0.011866        -0.009933 -0.007138  \n",
       "IsActiveMember   -0.011866        1.000000        -0.011421 -0.156128  \n",
       "EstimatedSalary  -0.009933       -0.011421         1.000000  0.012097  \n",
       "Exited           -0.007138       -0.156128         0.012097  1.000000  "
      ]
     },
     "execution_count": 13,
     "metadata": {},
     "output_type": "execute_result"
    }
   ],
   "source": [
    "data.corr() # Считаю корреляцию Пирсона"
   ]
  },
  {
   "cell_type": "code",
   "execution_count": 14,
   "metadata": {
    "scrolled": true
   },
   "outputs": [],
   "source": [
    "#pd.plotting.scatter_matrix(data, figsize=(15, 15), alpha=0.03)"
   ]
  },
  {
   "cell_type": "markdown",
   "metadata": {},
   "source": [
    "Хммм...\n",
    "Все признаки не сильно коррелируют с целевым признаком. Ладно, работаем дальше."
   ]
  },
  {
   "cell_type": "markdown",
   "metadata": {},
   "source": [
    "#### Избавимся от категориальных признаков методом One hot encoder"
   ]
  },
  {
   "cell_type": "markdown",
   "metadata": {},
   "source": [
    "Используем метод get_dummies для избавления от категориальных признаков"
   ]
  },
  {
   "cell_type": "code",
   "execution_count": 15,
   "metadata": {},
   "outputs": [],
   "source": [
    "data_ohe=pd.get_dummies(data,drop_first=True) "
   ]
  },
  {
   "cell_type": "code",
   "execution_count": 16,
   "metadata": {},
   "outputs": [],
   "source": [
    "target=data_ohe['Exited'] # Целевой признак\n",
    "features=data_ohe.drop(['Exited'],axis=1) # Признаки\n"
   ]
  },
  {
   "cell_type": "markdown",
   "metadata": {},
   "source": [
    "Разбиваем данные после OHE на четыре выборки train_features,valid_features,train_target,valid_target"
   ]
  },
  {
   "cell_type": "code",
   "execution_count": 17,
   "metadata": {},
   "outputs": [],
   "source": [
    "#train_features,valid_features,train_target,valid_target=train_test_split(features,target,test_size=0.25,random_state=1234)\n",
    "# Получение пропорции 60:40\n",
    "features_train, features_valid, target_train, target_valid = train_test_split(features, target, test_size=0.4, \n",
    "                                                                              random_state=123456)\n",
    "features_valid, features_test, target_valid, target_test = train_test_split(features_valid, target_valid, test_size=0.5, \n",
    "                                                                              random_state=123456 )"
   ]
  },
  {
   "cell_type": "markdown",
   "metadata": {},
   "source": [
    "Придётся стандартизировать тестовую и валидную выборки, так как есть маленькие и оочень большие значения."
   ]
  },
  {
   "cell_type": "code",
   "execution_count": 18,
   "metadata": {
    "scrolled": true
   },
   "outputs": [],
   "source": [
    "numeric=['CreditScore','Age','Tenure','Balance','NumOfProducts','HasCrCard','IsActiveMember']\n",
    "\n",
    "scaler = StandardScaler()\n",
    "scaler.fit(features_train[numeric])\n",
    "\n",
    "features_train[numeric] = scaler.transform(features_train[numeric])\n",
    "features_valid[numeric] = scaler.transform(features_valid[numeric])\n",
    "features_test[numeric] = scaler.transform(features_test[numeric])"
   ]
  },
  {
   "cell_type": "markdown",
   "metadata": {},
   "source": [
    "#### Построим модель без учета баланса"
   ]
  },
  {
   "cell_type": "markdown",
   "metadata": {},
   "source": [
    "- Обучение с помощью модели Дерево решения"
   ]
  },
  {
   "cell_type": "code",
   "execution_count": 19,
   "metadata": {
    "scrolled": false
   },
   "outputs": [
    {
     "name": "stdout",
     "output_type": "stream",
     "text": [
      "max depth 2 F1 0.5078864353312303\n",
      "max depth 3 F1 0.530232558139535\n",
      "max depth 4 F1 0.49501661129568103\n",
      "max depth 5 F1 0.5057851239669422\n",
      "max depth 6 F1 0.5414201183431953\n",
      "max depth 7 F1 0.5470332850940666\n",
      "max depth 8 F1 0.5467625899280576\n",
      "max depth 9 F1 0.5367847411444141\n",
      "max depth 10 F1 0.5392953929539295\n",
      "max depth 11 F1 0.5027624309392266\n",
      "max depth 12 F1 0.47375504710632577\n",
      "max depth 13 F1 0.47480106100795755\n",
      "max depth 14 F1 0.472258064516129\n",
      "max depth 15 F1 0.45914396887159536\n",
      "max depth 16 F1 0.4685138539042821\n",
      "max depth 17 F1 0.4796044499381953\n",
      "max depth 18 F1 0.47144592952612396\n",
      "max depth 19 F1 0.45925925925925926\n",
      "max depth 20 F1 0.47515151515151516\n",
      "max depth 21 F1 0.4684014869888476\n",
      "max depth 22 F1 0.4684014869888476\n",
      "max depth 23 F1 0.4684014869888476\n",
      "max depth 24 F1 0.4684014869888476\n",
      "max depth 25 F1 0.4684014869888476\n",
      "max depth 26 F1 0.4684014869888476\n",
      "max depth 27 F1 0.4684014869888476\n",
      "max depth 28 F1 0.4684014869888476\n",
      "max depth 29 F1 0.4684014869888476\n",
      "CPU times: user 1.14 s, sys: 3.23 ms, total: 1.14 s\n",
      "Wall time: 1.15 s\n"
     ]
    }
   ],
   "source": [
    "%%time\n",
    "\n",
    "for depth in range(2, 30):\n",
    "    model = DecisionTreeClassifier(random_state=123456, max_depth=depth)\n",
    "    model.fit(features_train, target_train)\n",
    "    predicted_valid = model.predict(features_valid)\n",
    "    print('max depth', depth,'F1', f1_score(target_valid, predicted_valid))"
   ]
  },
  {
   "cell_type": "markdown",
   "metadata": {},
   "source": [
    "Лучшее значение max_depth=7, при котором F1=0,547"
   ]
  },
  {
   "cell_type": "markdown",
   "metadata": {},
   "source": [
    "- Обучение с помощью модели Случайный лес"
   ]
  },
  {
   "cell_type": "code",
   "execution_count": 20,
   "metadata": {},
   "outputs": [
    {
     "name": "stdout",
     "output_type": "stream",
     "text": [
      "N estimators 50 F1 0.5407066052227342\n",
      "N estimators 60 F1 0.5423728813559322\n",
      "N estimators 70 F1 0.5490797546012269\n",
      "N estimators 80 F1 0.5423728813559322\n",
      "N estimators 90 F1 0.5454545454545455\n",
      "N estimators 100 F1 0.5443234836702955\n",
      "N estimators 110 F1 0.5479876160990711\n",
      "N estimators 120 F1 0.5502318392581144\n",
      "N estimators 130 F1 0.5505443234836703\n",
      "N estimators 140 F1 0.5356037151702787\n",
      "N estimators 150 F1 0.5499231950844853\n",
      "N estimators 160 F1 0.5462962962962963\n",
      "N estimators 170 F1 0.5457364341085272\n",
      "N estimators 180 F1 0.551617873651772\n",
      "N estimators 190 F1 0.5499231950844853\n",
      "N estimators 200 F1 0.5499231950844853\n",
      "N estimators 210 F1 0.5565749235474007\n",
      "N estimators 220 F1 0.551829268292683\n",
      "N estimators 230 F1 0.551829268292683\n",
      "N estimators 240 F1 0.5526717557251908\n",
      "N estimators 250 F1 0.5570776255707763\n",
      "N estimators 260 F1 0.5548780487804877\n",
      "N estimators 270 F1 0.5526717557251908\n",
      "N estimators 280 F1 0.5513016845329249\n",
      "N estimators 290 F1 0.5490797546012269\n",
      "CPU times: user 43.9 s, sys: 273 ms, total: 44.1 s\n",
      "Wall time: 44.6 s\n"
     ]
    }
   ],
   "source": [
    "%%time\n",
    "\n",
    "for estimator in range(50, 300, 10):\n",
    "    model =  RandomForestClassifier(random_state=123456, n_estimators=estimator)\n",
    "    model.fit(features_train, target_train)\n",
    "    predicted_valid = model.predict(features_valid)\n",
    "    print('N estimators', estimator,'F1', f1_score(target_valid, predicted_valid))"
   ]
  },
  {
   "cell_type": "markdown",
   "metadata": {},
   "source": [
    "Лучший результат был получен в районе 50-60 n_estimators. Сделаем исследование с шагом 1."
   ]
  },
  {
   "cell_type": "code",
   "execution_count": 21,
   "metadata": {
    "scrolled": false
   },
   "outputs": [
    {
     "name": "stdout",
     "output_type": "stream",
     "text": [
      "N estimators 40 F1 0.5507692307692308\n",
      "N estimators 41 F1 0.5537065052950074\n",
      "N estimators 42 F1 0.5490797546012269\n",
      "N estimators 43 F1 0.5540334855403349\n",
      "N estimators 44 F1 0.5468509984639016\n",
      "N estimators 45 F1 0.5506807866868381\n",
      "N estimators 46 F1 0.5398773006134968\n",
      "N estimators 47 F1 0.5533834586466165\n",
      "N estimators 48 F1 0.5465648854961832\n",
      "N estimators 49 F1 0.5449010654490107\n",
      "N estimators 50 F1 0.5407066052227342\n",
      "N estimators 51 F1 0.5435114503816794\n",
      "N estimators 52 F1 0.5415384615384615\n",
      "N estimators 53 F1 0.5501519756838905\n",
      "N estimators 54 F1 0.5460122699386504\n",
      "N estimators 55 F1 0.5553869499241275\n",
      "N estimators 56 F1 0.5440494590417312\n",
      "N estimators 57 F1 0.551829268292683\n",
      "N estimators 58 F1 0.5476923076923077\n",
      "N estimators 59 F1 0.549618320610687\n",
      "CPU times: user 10.2 s, sys: 31.9 ms, total: 10.2 s\n",
      "Wall time: 10.4 s\n"
     ]
    }
   ],
   "source": [
    "%%time\n",
    "\n",
    "for estimator in range(40, 60, 1):\n",
    "    model =  RandomForestClassifier(random_state=123456, n_estimators=estimator)\n",
    "    model.fit(features_train, target_train)\n",
    "    predicted_valid = model.predict(features_valid)\n",
    "    print('N estimators', estimator,'F1', f1_score(target_valid, predicted_valid))\n"
   ]
  },
  {
   "cell_type": "markdown",
   "metadata": {},
   "source": [
    "учший результат по гиперпараметру n_estimators достигнут на 59."
   ]
  },
  {
   "cell_type": "markdown",
   "metadata": {},
   "source": [
    "- Обучение с помощью модели Логистической регрессии"
   ]
  },
  {
   "cell_type": "code",
   "execution_count": 22,
   "metadata": {
    "scrolled": true
   },
   "outputs": [
    {
     "name": "stdout",
     "output_type": "stream",
     "text": [
      "F1 0.08786610878661087\n",
      "CPU times: user 116 ms, sys: 24.4 ms, total: 140 ms\n",
      "Wall time: 91.7 ms\n"
     ]
    }
   ],
   "source": [
    "%%time\n",
    "\n",
    "model =  LogisticRegression(solver='liblinear', random_state=123456)\n",
    "model.fit(features_train, target_train)\n",
    "predicted_valid = model.predict(features_valid)\n",
    "print('F1', f1_score(target_valid, predicted_valid))"
   ]
  },
  {
   "cell_type": "markdown",
   "metadata": {},
   "source": [
    "Результаты довольно низкие. Возможно precision или recall низкий и близок к 0."
   ]
  },
  {
   "cell_type": "markdown",
   "metadata": {},
   "source": [
    "Проведем оценку accuracy, precision и recall, также покажем F-метрику."
   ]
  },
  {
   "cell_type": "markdown",
   "metadata": {},
   "source": [
    "**ОБЩИЙ ВЫВОД**\n",
    "\n",
    "Исходя из полученных данных лучшая модель оказалась - Дерево решеня при лучем значении max_depth=7, мы имеем F1 меру =0,586 на тестовой(валидной) выборке."
   ]
  },
  {
   "cell_type": "code",
   "execution_count": 23,
   "metadata": {},
   "outputs": [
    {
     "name": "stdout",
     "output_type": "stream",
     "text": [
      "Решающее дерево\n",
      "Точность попадания по классам 0.8435\n",
      "Precision 0.7\n",
      "Recall 0.4489311163895487\n",
      "F1 0.5470332850940666\n",
      "\n",
      "CPU times: user 49.2 ms, sys: 19.3 ms, total: 68.5 ms\n",
      "Wall time: 106 ms\n"
     ]
    }
   ],
   "source": [
    "%%time\n",
    "\n",
    "model = DecisionTreeClassifier(random_state=123456, max_depth=7)\n",
    "model.fit(features_train, target_train)\n",
    "predicted_valid = model.predict(features_valid)\n",
    "print('Решающее дерево')\n",
    "print('Точность попадания по классам', accuracy_score(target_valid, predicted_valid))\n",
    "print('Precision', precision_score(target_valid, predicted_valid))\n",
    "print('Recall', recall_score(target_valid, predicted_valid))\n",
    "print('F1', f1_score(target_valid, predicted_valid))\n",
    "print()"
   ]
  },
  {
   "cell_type": "code",
   "execution_count": 24,
   "metadata": {},
   "outputs": [
    {
     "name": "stdout",
     "output_type": "stream",
     "text": [
      "Случайный лес\n",
      "Точность попадания по классам 0.8525\n",
      "Precision 0.7692307692307693\n",
      "Recall 0.42755344418052255\n",
      "F1 0.549618320610687\n",
      "\n",
      "CPU times: user 614 ms, sys: 7 µs, total: 614 ms\n",
      "Wall time: 626 ms\n"
     ]
    }
   ],
   "source": [
    "%%time\n",
    "\n",
    "model = RandomForestClassifier(random_state=123456, n_estimators=59)\n",
    "model.fit(features_train, target_train)\n",
    "predicted_valid = model.predict(features_valid)\n",
    "print('Случайный лес')\n",
    "print('Точность попадания по классам', accuracy_score(target_valid, predicted_valid))\n",
    "print('Precision', precision_score(target_valid, predicted_valid))\n",
    "print('Recall', recall_score(target_valid, predicted_valid))\n",
    "print('F1', f1_score(target_valid, predicted_valid))\n",
    "print()\n"
   ]
  },
  {
   "cell_type": "code",
   "execution_count": 25,
   "metadata": {},
   "outputs": [
    {
     "name": "stdout",
     "output_type": "stream",
     "text": [
      "Логистическая регрессия\n",
      "Точность попадания по классам 0.782\n",
      "Precision 0.3684210526315789\n",
      "Recall 0.0498812351543943\n",
      "F1 0.08786610878661087\n",
      "\n",
      "CPU times: user 87.9 ms, sys: 43.9 ms, total: 132 ms\n",
      "Wall time: 75.4 ms\n"
     ]
    }
   ],
   "source": [
    "%%time\n",
    "\n",
    "model = LogisticRegression(random_state=123456, solver='liblinear')\n",
    "model.fit(features_train, target_train)\n",
    "predicted_valid = model.predict(features_valid)\n",
    "print('Логистическая регрессия')\n",
    "print('Точность попадания по классам', accuracy_score(target_valid, predicted_valid))\n",
    "print('Precision', precision_score(target_valid, predicted_valid))\n",
    "print('Recall', recall_score(target_valid, predicted_valid))\n",
    "print('F1', f1_score(target_valid, predicted_valid))\n",
    "print()"
   ]
  },
  {
   "cell_type": "markdown",
   "metadata": {},
   "source": [
    "Проведем построение ROC-кривой для кажддой модели. И выведем показатель AUC-ROC."
   ]
  },
  {
   "cell_type": "code",
   "execution_count": 26,
   "metadata": {
    "scrolled": false
   },
   "outputs": [
    {
     "name": "stdout",
     "output_type": "stream",
     "text": [
      "AUC-ROC DecisionTreeClassifier 0.8126794823387122\n",
      "AUC-ROC RandomForestClassifier 0.850836167693856\n",
      "AUC-ROC LogisticRegression 0.6546492789116055\n"
     ]
    },
    {
     "data": {
      "image/png": "[encoded data removed]",
      "text/plain": [
       "<Figure size 864x648 with 1 Axes>"
      ]
     },
     "metadata": {
      "needs_background": "light"
     },
     "output_type": "display_data"
    }
   ],
   "source": [
    "plt.figure(figsize=[12,9])\n",
    "\n",
    "plt.plot([0, 1], [0, 1], linestyle='--', label='RandomModel')\n",
    "\n",
    "\n",
    "model = DecisionTreeClassifier(random_state=123456, max_depth=7)\n",
    "model.fit(features_train, target_train)\n",
    "probabilities_valid = model.predict_proba(features_valid)\n",
    "probabilities_one_valid = probabilities_valid[:, 1]\n",
    "fpr, tpr, thresholds = roc_curve(target_valid, probabilities_one_valid)\n",
    "auc_roc = roc_auc_score(target_valid, probabilities_one_valid)\n",
    "print('AUC-ROC DecisionTreeClassifier',auc_roc)\n",
    "plt.plot(fpr, tpr, label='DecisionTreeClassifier')\n",
    "\n",
    "model = RandomForestClassifier(random_state=123456, n_estimators=59)\n",
    "model.fit(features_train, target_train)\n",
    "probabilities_valid = model.predict_proba(features_valid)\n",
    "probabilities_one_valid = probabilities_valid[:, 1]\n",
    "fpr, tpr, thresholds = roc_curve(target_valid, probabilities_one_valid)\n",
    "auc_roc = roc_auc_score(target_valid, probabilities_one_valid)\n",
    "print('AUC-ROC RandomForestClassifier',auc_roc)\n",
    "plt.plot(fpr, tpr, label='RandomForestClassifier')\n",
    "\n",
    "model = LogisticRegression(random_state=123456, solver='liblinear')\n",
    "model.fit(features_train, target_train)\n",
    "probabilities_valid = model.predict_proba(features_valid)\n",
    "probabilities_one_valid = probabilities_valid[:, 1]\n",
    "fpr, tpr, thresholds = roc_curve(target_valid, probabilities_one_valid)\n",
    "auc_roc = roc_auc_score(target_valid, probabilities_one_valid)\n",
    "print('AUC-ROC LogisticRegression',auc_roc)\n",
    "plt.plot(fpr, tpr, label='LogisticRegression')\n",
    "\n",
    "plt.xlim([0,1])\n",
    "plt.ylim([0,1])\n",
    "\n",
    "plt.xlabel(\"False Positive Rate\")\n",
    "plt.ylabel(\"True Positive Rate\")\n",
    "\n",
    "plt.legend(loc='lower right', fontsize='x-large')\n",
    "\n",
    "plt.title(\"ROC-кривая\")\n",
    "plt.show()"
   ]
  },
  {
   "cell_type": "markdown",
   "metadata": {},
   "source": [
    "**ВЫВОД**\n",
    "\n",
    "- Лучшие метрикии F1 и AUC-ROC  у Случайного леса"
   ]
  },
  {
   "cell_type": "markdown",
   "metadata": {},
   "source": [
    "## Борьба с дисбалансом"
   ]
  },
  {
   "cell_type": "markdown",
   "metadata": {},
   "source": [
    "Для борьбы с дисбалансом выполним сравнение моделей:\n",
    "\n",
    "- С взвешенными классами\n",
    "- С уменьшенной выборкой\n",
    "- С увеличенной выборкой\n"
   ]
  },
  {
   "cell_type": "code",
   "execution_count": 27,
   "metadata": {},
   "outputs": [
    {
     "name": "stdout",
     "output_type": "stream",
     "text": [
      "Решающее дерево\n",
      "Точность попадания по классам 0.7615\n",
      "Precision 0.4574468085106383\n",
      "Recall 0.7149643705463183\n",
      "F1 0.5579240037071361\n",
      "\n",
      "CPU times: user 40.9 ms, sys: 100 µs, total: 41 ms\n",
      "Wall time: 38.5 ms\n"
     ]
    }
   ],
   "source": [
    "%%time\n",
    "\n",
    "model = DecisionTreeClassifier(random_state=123456, max_depth=7, class_weight='balanced')\n",
    "model.fit(features_train, target_train)\n",
    "predicted_valid = model.predict(features_valid)\n",
    "print('Решающее дерево')\n",
    "print('Точность попадания по классам', accuracy_score(target_valid, predicted_valid))\n",
    "print('Precision', precision_score(target_valid, predicted_valid))\n",
    "print('Recall', recall_score(target_valid, predicted_valid))\n",
    "print('F1', f1_score(target_valid, predicted_valid))\n",
    "print()\n"
   ]
  },
  {
   "cell_type": "code",
   "execution_count": 28,
   "metadata": {},
   "outputs": [
    {
     "name": "stdout",
     "output_type": "stream",
     "text": [
      "Случайный лес\n",
      "Точность попадания по классам 0.8495\n",
      "Precision 0.7678571428571429\n",
      "Recall 0.4085510688836104\n",
      "F1 0.5333333333333333\n",
      "\n",
      "CPU times: user 796 ms, sys: 3.97 ms, total: 800 ms\n",
      "Wall time: 809 ms\n"
     ]
    }
   ],
   "source": [
    "%%time\n",
    "\n",
    "model = RandomForestClassifier(random_state=123456, n_estimators=53, class_weight='balanced')\n",
    "model.fit(features_train, target_train)\n",
    "predicted_valid = model.predict(features_valid)\n",
    "print('Случайный лес')\n",
    "print('Точность попадания по классам', accuracy_score(target_valid, predicted_valid))\n",
    "print('Precision', precision_score(target_valid, predicted_valid))\n",
    "print('Recall', recall_score(target_valid, predicted_valid))\n",
    "print('F1', f1_score(target_valid, predicted_valid))\n",
    "print()\n",
    "\n"
   ]
  },
  {
   "cell_type": "code",
   "execution_count": 29,
   "metadata": {
    "scrolled": true
   },
   "outputs": [
    {
     "name": "stdout",
     "output_type": "stream",
     "text": [
      "Логистическая регрессия\n",
      "Точность попадания по классам 0.658\n",
      "Precision 0.3354192740926158\n",
      "Recall 0.6365795724465558\n",
      "F1 0.439344262295082\n",
      "\n",
      "CPU times: user 72.6 ms, sys: 24.3 ms, total: 96.9 ms\n",
      "Wall time: 97.5 ms\n"
     ]
    }
   ],
   "source": [
    "%%time\n",
    "\n",
    "model = LogisticRegression(random_state=123456, solver='liblinear', class_weight='balanced')\n",
    "model.fit(features_train, target_train)\n",
    "predicted_valid = model.predict(features_valid)\n",
    "print('Логистическая регрессия')\n",
    "print('Точность попадания по классам', accuracy_score(target_valid, predicted_valid))\n",
    "print('Precision', precision_score(target_valid, predicted_valid))\n",
    "print('Recall', recall_score(target_valid, predicted_valid))\n",
    "print('F1', f1_score(target_valid, predicted_valid))\n",
    "print()"
   ]
  },
  {
   "cell_type": "markdown",
   "metadata": {},
   "source": [
    "**ВЫВОД**\n",
    "- F-мера падает у решающего дерева и случайного леса\n",
    "- F-мера выросла в разы у логистической регресии"
   ]
  },
  {
   "cell_type": "markdown",
   "metadata": {},
   "source": [
    "Исследуем способ уменьшения значений класса 0"
   ]
  },
  {
   "cell_type": "markdown",
   "metadata": {},
   "source": [
    "### Воспользуемся функцией  Downsampling"
   ]
  },
  {
   "cell_type": "code",
   "execution_count": 30,
   "metadata": {},
   "outputs": [
    {
     "name": "stdout",
     "output_type": "stream",
     "text": [
      "1    1214\n",
      "0    1196\n",
      "Name: Exited, dtype: int64\n"
     ]
    }
   ],
   "source": [
    "def downsample(features, target, fraction):\n",
    "    features_zeros = features[target == 0]\n",
    "    features_ones = features[target == 1]\n",
    "    target_zeros = target[target == 0]\n",
    "    target_ones = target[target == 1]\n",
    "\n",
    "    features_downsampled = pd.concat(\n",
    "        [features_zeros.sample(frac=fraction, random_state=123456)] + [features_ones])\n",
    "    target_downsampled = pd.concat(\n",
    "        [target_zeros.sample(frac=fraction, random_state=123456)] + [target_ones])\n",
    "    \n",
    "    features_downsampled, target_downsampled = shuffle(\n",
    "        features_downsampled, target_downsampled, random_state=123456)\n",
    "    \n",
    "    return features_downsampled, target_downsampled\n",
    "\n",
    "features_downsampled, target_downsampled = downsample(features_train, target_train, 0.25)\n",
    "\n",
    "print(target_downsampled.value_counts())"
   ]
  },
  {
   "cell_type": "code",
   "execution_count": 31,
   "metadata": {},
   "outputs": [
    {
     "name": "stdout",
     "output_type": "stream",
     "text": [
      "Решающее дерево\n",
      "Точность попадания по классам 0.744\n",
      "Precision 0.4379263301500682\n",
      "Recall 0.7624703087885986\n",
      "F1 0.5563258232235702\n",
      "\n",
      "CPU times: user 15.3 ms, sys: 15.9 ms, total: 31.2 ms\n",
      "Wall time: 26.9 ms\n"
     ]
    }
   ],
   "source": [
    "%%time\n",
    "\n",
    "model = DecisionTreeClassifier(random_state=123456, max_depth=7)\n",
    "model.fit(features_downsampled, target_downsampled)\n",
    "predicted_valid = model.predict(features_valid)\n",
    "print('Решающее дерево')\n",
    "print('Точность попадания по классам', accuracy_score(target_valid, predicted_valid))\n",
    "print('Precision', precision_score(target_valid, predicted_valid))\n",
    "print('Recall', recall_score(target_valid, predicted_valid))\n",
    "print('F1', f1_score(target_valid, predicted_valid))\n",
    "print()\n",
    "\n",
    "\n"
   ]
  },
  {
   "cell_type": "code",
   "execution_count": 32,
   "metadata": {},
   "outputs": [
    {
     "name": "stdout",
     "output_type": "stream",
     "text": [
      "Случайный лес\n",
      "Точность попадания по классам 0.7885\n",
      "Precision 0.4984126984126984\n",
      "Recall 0.7458432304038005\n",
      "F1 0.5975261655566128\n",
      "\n",
      "CPU times: user 286 ms, sys: 3.96 ms, total: 290 ms\n",
      "Wall time: 323 ms\n"
     ]
    }
   ],
   "source": [
    "%%time\n",
    "\n",
    "\n",
    "model = RandomForestClassifier(random_state=123456, n_estimators=53)\n",
    "model.fit(features_downsampled, target_downsampled)\n",
    "predicted_valid = model.predict(features_valid)\n",
    "print('Случайный лес')\n",
    "print('Точность попадания по классам', accuracy_score(target_valid, predicted_valid))\n",
    "print('Precision', precision_score(target_valid, predicted_valid))\n",
    "print('Recall', recall_score(target_valid, predicted_valid))\n",
    "print('F1', f1_score(target_valid, predicted_valid))\n",
    "print()\n",
    "\n"
   ]
  },
  {
   "cell_type": "code",
   "execution_count": 33,
   "metadata": {
    "scrolled": true
   },
   "outputs": [
    {
     "name": "stdout",
     "output_type": "stream",
     "text": [
      "Логистическая регрессия\n",
      "Точность попадания по классам 0.654\n",
      "Precision 0.33575757575757575\n",
      "Recall 0.6579572446555819\n",
      "F1 0.44462279293739965\n",
      "\n",
      "CPU times: user 70.8 ms, sys: 76.1 ms, total: 147 ms\n",
      "Wall time: 104 ms\n"
     ]
    }
   ],
   "source": [
    "%%time\n",
    "\n",
    "\n",
    "model = LogisticRegression(random_state=123456, solver='liblinear')\n",
    "model.fit(features_downsampled, target_downsampled)\n",
    "predicted_valid = model.predict(features_valid)\n",
    "print('Логистическая регрессия')\n",
    "print('Точность попадания по классам', accuracy_score(target_valid, predicted_valid))\n",
    "print('Precision', precision_score(target_valid, predicted_valid))\n",
    "print('Recall', recall_score(target_valid, predicted_valid))\n",
    "print('F1', f1_score(target_valid, predicted_valid))\n",
    "print()"
   ]
  },
  {
   "cell_type": "markdown",
   "metadata": {},
   "source": [
    "**ВЫВОД**\n",
    "\n",
    "- Показатели логистической регрессии выросли\n",
    "- Решающее дерево и случайный лес показали результат похуже"
   ]
  },
  {
   "cell_type": "markdown",
   "metadata": {},
   "source": [
    "Исследуем методы увеличения класса 1"
   ]
  },
  {
   "cell_type": "markdown",
   "metadata": {},
   "source": [
    "### Воспользуемся функцией Upsampling "
   ]
  },
  {
   "cell_type": "code",
   "execution_count": 34,
   "metadata": {},
   "outputs": [
    {
     "name": "stdout",
     "output_type": "stream",
     "text": [
      "1    4856\n",
      "0    4786\n",
      "Name: Exited, dtype: int64\n"
     ]
    }
   ],
   "source": [
    "def upsample(features, target, repeat):\n",
    "    features_zeros = features[target == 0]\n",
    "    features_ones = features[target == 1]\n",
    "    target_zeros = target[target == 0]\n",
    "    target_ones = target[target == 1]\n",
    "\n",
    "    features_upsampled = pd.concat([features_zeros] + [features_ones] * repeat)\n",
    "    target_upsampled = pd.concat([target_zeros] + [target_ones] * repeat)\n",
    "    \n",
    "    features_upsampled, target_upsampled = shuffle(\n",
    "        features_upsampled, target_upsampled, random_state=12345)\n",
    "    \n",
    "    return features_upsampled, target_upsampled\n",
    "\n",
    "features_upsampled, target_upsampled = upsample(features_train, target_train, 4)\n",
    "\n",
    "print(target_upsampled.value_counts())"
   ]
  },
  {
   "cell_type": "code",
   "execution_count": 35,
   "metadata": {},
   "outputs": [
    {
     "name": "stdout",
     "output_type": "stream",
     "text": [
      "Решающее дерево\n",
      "Точность попадания по классам 0.745\n",
      "Precision 0.4392905866302865\n",
      "Recall 0.7648456057007126\n",
      "F1 0.5580589254766031\n",
      "\n",
      "CPU times: user 73.1 ms, sys: 212 µs, total: 73.3 ms\n",
      "Wall time: 94.1 ms\n"
     ]
    }
   ],
   "source": [
    "%%time\n",
    "\n",
    "model = DecisionTreeClassifier(random_state=123456, max_depth=7)\n",
    "model.fit(features_upsampled, target_upsampled)\n",
    "predicted_valid = model.predict(features_valid)\n",
    "print('Решающее дерево')\n",
    "print('Точность попадания по классам', accuracy_score(target_valid, predicted_valid))\n",
    "print('Precision', precision_score(target_valid, predicted_valid))\n",
    "print('Recall', recall_score(target_valid, predicted_valid))\n",
    "print('F1', f1_score(target_valid, predicted_valid))\n",
    "print()\n",
    "\n",
    "\n"
   ]
  },
  {
   "cell_type": "code",
   "execution_count": 36,
   "metadata": {},
   "outputs": [
    {
     "name": "stdout",
     "output_type": "stream",
     "text": [
      "Случайный лес\n",
      "Точность попадания по классам 0.839\n",
      "Precision 0.6551724137931034\n",
      "Recall 0.49643705463182897\n",
      "F1 0.5648648648648649\n",
      "\n",
      "CPU times: user 1.15 s, sys: 3.84 ms, total: 1.15 s\n",
      "Wall time: 1.17 s\n"
     ]
    }
   ],
   "source": [
    "%%time\n",
    "\n",
    "model = RandomForestClassifier(random_state=123456, n_estimators=53)\n",
    "model.fit(features_upsampled, target_upsampled)\n",
    "predicted_valid = model.predict(features_valid)\n",
    "print('Случайный лес')\n",
    "print('Точность попадания по классам', accuracy_score(target_valid, predicted_valid))\n",
    "print('Precision', precision_score(target_valid, predicted_valid))\n",
    "print('Recall', recall_score(target_valid, predicted_valid))\n",
    "print('F1', f1_score(target_valid, predicted_valid))\n",
    "print()\n",
    "\n"
   ]
  },
  {
   "cell_type": "code",
   "execution_count": 37,
   "metadata": {
    "scrolled": false
   },
   "outputs": [
    {
     "name": "stdout",
     "output_type": "stream",
     "text": [
      "Логистическая регрессия\n",
      "Точность попадания по классам 0.654\n",
      "Precision 0.33414932680538556\n",
      "Recall 0.6484560570071259\n",
      "F1 0.44103392568659133\n",
      "\n",
      "CPU times: user 104 ms, sys: 8.29 ms, total: 112 ms\n",
      "Wall time: 97.4 ms\n"
     ]
    }
   ],
   "source": [
    "%%time\n",
    "\n",
    "model = LogisticRegression(random_state=123456, solver='liblinear')\n",
    "model.fit(features_upsampled, target_upsampled)\n",
    "predicted_valid = model.predict(features_valid)\n",
    "print('Логистическая регрессия')\n",
    "print('Точность попадания по классам', accuracy_score(target_valid, predicted_valid))\n",
    "print('Precision', precision_score(target_valid, predicted_valid))\n",
    "print('Recall', recall_score(target_valid, predicted_valid))\n",
    "print('F1', f1_score(target_valid, predicted_valid))\n",
    "print()\n"
   ]
  },
  {
   "cell_type": "markdown",
   "metadata": {},
   "source": [
    "**ВЫВОД**\n",
    "- F-мера стала лучше у случайного леса, логистической регресии по сравнению с дисбалансными данными\n",
    "- Лучшей моделью по F-мера стал случайны лес с тренировочными данными, где увеличен класс 1."
   ]
  },
  {
   "cell_type": "markdown",
   "metadata": {},
   "source": [
    "Выведем ROC-кривую и AUC-ROC для посленнего измененного баланса."
   ]
  },
  {
   "cell_type": "code",
   "execution_count": 38,
   "metadata": {
    "scrolled": false
   },
   "outputs": [
    {
     "name": "stdout",
     "output_type": "stream",
     "text": [
      "AUC-ROC DecisionTreeClassifier 0.8109630708271719\n",
      "AUC-ROC RandomForestClassifier 0.8483217226092464\n",
      "AUC-ROC LogisticRegression 0.6975595667001124\n"
     ]
    },
    {
     "data": {
      "image/png": "[encoded data removed]",
      "text/plain": [
       "<Figure size 864x648 with 1 Axes>"
      ]
     },
     "metadata": {
      "needs_background": "light"
     },
     "output_type": "display_data"
    }
   ],
   "source": [
    "plt.figure(figsize=[12,9])\n",
    "\n",
    "plt.plot([0, 1], [0, 1], linestyle='--', label='RandomModel')\n",
    "\n",
    "\n",
    "model = DecisionTreeClassifier(random_state=123456, max_depth=7)\n",
    "model.fit(features_upsampled, target_upsampled)\n",
    "probabilities_valid = model.predict_proba(features_valid)\n",
    "probabilities_one_valid = probabilities_valid[:, 1]\n",
    "fpr, tpr, thresholds = roc_curve(target_valid, probabilities_one_valid)\n",
    "auc_roc = roc_auc_score(target_valid, probabilities_one_valid)\n",
    "print('AUC-ROC DecisionTreeClassifier',auc_roc)\n",
    "plt.plot(fpr, tpr, label='DecisionTreeClassifier')\n",
    "\n",
    "model = RandomForestClassifier(random_state=123456, n_estimators=53)\n",
    "model.fit(features_upsampled, target_upsampled)\n",
    "probabilities_valid = model.predict_proba(features_valid)\n",
    "probabilities_one_valid = probabilities_valid[:, 1]\n",
    "fpr, tpr, thresholds = roc_curve(target_valid, probabilities_one_valid)\n",
    "auc_roc = roc_auc_score(target_valid, probabilities_one_valid)\n",
    "print('AUC-ROC RandomForestClassifier',auc_roc)\n",
    "plt.plot(fpr, tpr, label='RandomForestClassifier')\n",
    "\n",
    "model = LogisticRegression(random_state=123456, solver='liblinear')\n",
    "model.fit(features_upsampled, target_upsampled)\n",
    "probabilities_valid = model.predict_proba(features_valid)\n",
    "probabilities_one_valid = probabilities_valid[:, 1]\n",
    "fpr, tpr, thresholds = roc_curve(target_valid, probabilities_one_valid)\n",
    "auc_roc = roc_auc_score(target_valid, probabilities_one_valid)\n",
    "print('AUC-ROC LogisticRegression',auc_roc)\n",
    "plt.plot(fpr, tpr, label='LogisticRegression')\n",
    "\n",
    "plt.xlim([0,1])\n",
    "plt.ylim([0,1])\n",
    "\n",
    "plt.xlabel(\"False Positive Rate\")\n",
    "plt.ylabel(\"True Positive Rate\")\n",
    "\n",
    "plt.legend(loc='lower right', fontsize='x-large')\n",
    "\n",
    "plt.title(\"ROC-кривая\")\n",
    "plt.show()"
   ]
  },
  {
   "cell_type": "markdown",
   "metadata": {},
   "source": [
    "**ВЫВОД**\n",
    "\n",
    "- Дисбаланс негативно повлиял на модели. Правильным решением стало увелечение классов на 1 в тренировочной выборке"
   ]
  },
  {
   "cell_type": "markdown",
   "metadata": {},
   "source": [
    "## Тестирование модели"
   ]
  },
  {
   "cell_type": "markdown",
   "metadata": {},
   "source": [
    "### Обучение с помощью модели Дерево решения после балансирования данных"
   ]
  },
  {
   "cell_type": "markdown",
   "metadata": {},
   "source": [
    "К тестовой выборке примем модель случайного леса. Исследуем гиперпараметры и улучшим F-меру модели."
   ]
  },
  {
   "cell_type": "code",
   "execution_count": 39,
   "metadata": {},
   "outputs": [
    {
     "name": "stdout",
     "output_type": "stream",
     "text": [
      "N estimators 10 F1 0.5119549929676512\n",
      "N estimators 20 F1 0.5419532324621733\n",
      "N estimators 30 F1 0.5544827586206896\n",
      "N estimators 40 F1 0.5584594222833563\n",
      "N estimators 50 F1 0.5604395604395604\n",
      "N estimators 60 F1 0.5659863945578232\n",
      "N estimators 70 F1 0.5593451568894953\n",
      "N estimators 80 F1 0.5573770491803279\n",
      "N estimators 90 F1 0.5541838134430728\n",
      "N estimators 100 F1 0.5561643835616439\n",
      "N estimators 110 F1 0.5581395348837209\n",
      "N estimators 120 F1 0.5624142661179699\n",
      "N estimators 130 F1 0.5667125171939478\n",
      "N estimators 140 F1 0.5589041095890411\n",
      "N estimators 150 F1 0.5624142661179699\n",
      "N estimators 160 F1 0.5607734806629834\n",
      "N estimators 170 F1 0.5580110497237569\n",
      "N estimators 180 F1 0.5532503457814661\n",
      "N estimators 190 F1 0.5572413793103448\n",
      "N estimators 200 F1 0.5544827586206896\n",
      "N estimators 210 F1 0.5544827586206896\n",
      "N estimators 220 F1 0.5616438356164384\n",
      "N estimators 230 F1 0.5631868131868132\n",
      "N estimators 240 F1 0.5584594222833563\n",
      "N estimators 250 F1 0.5619834710743802\n",
      "N estimators 260 F1 0.5607734806629834\n",
      "N estimators 270 F1 0.5552486187845305\n",
      "N estimators 280 F1 0.5560165975103735\n",
      "N estimators 290 F1 0.5567867036011079\n",
      "N estimators 300 F1 0.5580110497237569\n",
      "N estimators 310 F1 0.5560165975103735\n",
      "N estimators 320 F1 0.5567867036011079\n",
      "N estimators 330 F1 0.5560165975103735\n",
      "N estimators 340 F1 0.5575589459084606\n",
      "N estimators 350 F1 0.5580110497237569\n",
      "N estimators 360 F1 0.5572413793103448\n",
      "N estimators 370 F1 0.56\n",
      "N estimators 380 F1 0.5575589459084606\n",
      "N estimators 390 F1 0.561549100968188\n",
      "N estimators 400 F1 0.56353591160221\n",
      "N estimators 410 F1 0.56\n",
      "N estimators 420 F1 0.5592286501377411\n",
      "N estimators 430 F1 0.5572413793103448\n",
      "N estimators 440 F1 0.5604395604395604\n",
      "N estimators 450 F1 0.5592286501377411\n",
      "N estimators 460 F1 0.5572413793103448\n",
      "N estimators 470 F1 0.5631868131868132\n",
      "N estimators 480 F1 0.56\n",
      "N estimators 490 F1 0.5619834710743802\n",
      "CPU times: user 2min 58s, sys: 736 ms, total: 2min 58s\n",
      "Wall time: 3min\n"
     ]
    }
   ],
   "source": [
    "%%time\n",
    "\n",
    "for estimator in range(10, 500, 10):\n",
    "    model =  RandomForestClassifier(random_state=123456, n_estimators=estimator)\n",
    "    model.fit(features_upsampled, target_upsampled)\n",
    "    predicted_valid = model.predict(features_valid)\n",
    "    print('N estimators', estimator,'F1', f1_score(target_valid, predicted_valid))"
   ]
  },
  {
   "cell_type": "markdown",
   "metadata": {},
   "source": [
    "Лучший результат лежит в диапазоне 370-400."
   ]
  },
  {
   "cell_type": "code",
   "execution_count": 40,
   "metadata": {},
   "outputs": [
    {
     "name": "stdout",
     "output_type": "stream",
     "text": [
      "N estimators 370 F1 0.5698478561549102\n",
      "N estimators 371 F1 0.5718232044198895\n",
      "N estimators 372 F1 0.5678670360110804\n",
      "N estimators 373 F1 0.5702479338842974\n",
      "N estimators 374 F1 0.569060773480663\n",
      "N estimators 375 F1 0.5667125171939478\n",
      "N estimators 376 F1 0.5682758620689656\n",
      "N estimators 377 F1 0.5714285714285714\n",
      "N estimators 378 F1 0.569060773480663\n",
      "N estimators 379 F1 0.5694635488308116\n",
      "N estimators 380 F1 0.569060773480663\n",
      "N estimators 381 F1 0.5694635488308116\n",
      "N estimators 382 F1 0.5694635488308116\n",
      "N estimators 383 F1 0.5679012345679012\n",
      "N estimators 384 F1 0.5655172413793104\n",
      "N estimators 385 F1 0.5667125171939478\n",
      "N estimators 386 F1 0.5627586206896551\n",
      "N estimators 387 F1 0.5639614855570839\n",
      "N estimators 388 F1 0.5627586206896551\n",
      "N estimators 389 F1 0.5647382920110193\n",
      "N estimators 390 F1 0.561549100968188\n",
      "N estimators 391 F1 0.5627586206896551\n",
      "N estimators 392 F1 0.56353591160221\n",
      "N estimators 393 F1 0.5647382920110193\n",
      "N estimators 394 F1 0.5655172413793104\n",
      "N estimators 395 F1 0.5647382920110193\n",
      "N estimators 396 F1 0.5662983425414365\n",
      "N estimators 397 F1 0.5667125171939478\n",
      "N estimators 398 F1 0.5682758620689656\n",
      "N estimators 399 F1 0.5674931129476584\n",
      "CPU times: user 2min 45s, sys: 395 ms, total: 2min 46s\n",
      "Wall time: 2min 49s\n"
     ]
    }
   ],
   "source": [
    "%%time\n",
    "\n",
    "for estimator in range(370, 400):\n",
    "    model =  RandomForestClassifier(random_state=1223456, n_estimators=estimator)\n",
    "    model.fit(features_upsampled, target_upsampled)\n",
    "    predicted_valid = model.predict(features_valid)\n",
    "    print('N estimators', estimator,'F1', f1_score(target_valid, predicted_valid))"
   ]
  },
  {
   "cell_type": "code",
   "execution_count": 41,
   "metadata": {},
   "outputs": [
    {
     "name": "stdout",
     "output_type": "stream",
     "text": [
      "F1 0.5834464043419267\n",
      "CPU times: user 6.71 s, sys: 12 ms, total: 6.72 s\n",
      "Wall time: 6.74 s\n"
     ]
    }
   ],
   "source": [
    "%%time\n",
    "\n",
    "model =  RandomForestClassifier(random_state=123456, n_estimators=371, criterion='entropy')\n",
    "model.fit(features_upsampled, target_upsampled)\n",
    "predicted_valid = model.predict(features_valid)\n",
    "print('F1', f1_score(target_valid, predicted_valid))"
   ]
  },
  {
   "cell_type": "markdown",
   "metadata": {},
   "source": [
    "Изменим гиперпараметр min_samples_split."
   ]
  },
  {
   "cell_type": "code",
   "execution_count": 42,
   "metadata": {
    "scrolled": false
   },
   "outputs": [
    {
     "name": "stdout",
     "output_type": "stream",
     "text": [
      "Samples_split 0.1 F1 0.5996168582375481\n",
      "Samples_split 0.2 F1 0.5845004668534081\n",
      "Samples_split 0.3 F1 0.5666666666666667\n",
      "Samples_split 0.4 F1 0.5608465608465608\n",
      "Samples_split 0.5 F1 0.5657298277425203\n",
      "Samples_split 0.6 F1 0.546594982078853\n",
      "Samples_split 0.7 F1 0.34779016935150764\n",
      "Samples_split 0.8 F1 0.34779016935150764\n",
      "Samples_split 0.9 F1 0.34779016935150764\n",
      "Samples_split 1.0 F1 0.34779016935150764\n",
      "Samples_split 2 F1 0.5627586206896551\n",
      "Samples_split 3 F1 0.5710344827586208\n",
      "Samples_split 4 F1 0.572987721691678\n",
      "Samples_split 5 F1 0.5760430686406461\n",
      "Samples_split 6 F1 0.5824468085106383\n",
      "Samples_split 7 F1 0.5921052631578947\n",
      "Samples_split 8 F1 0.5961290322580646\n",
      "Samples_split 9 F1 0.6045918367346939\n",
      "Samples_split 10 F1 0.6040100250626567\n",
      "CPU times: user 1min 7s, sys: 176 ms, total: 1min 7s\n",
      "Wall time: 1min 8s\n"
     ]
    }
   ],
   "source": [
    "%%time\n",
    "\n",
    "for samples_split in range(1, 11):\n",
    "    model =  RandomForestClassifier(random_state=123456, n_estimators=estimator, min_samples_split=samples_split/10)\n",
    "    model.fit(features_upsampled, target_upsampled)\n",
    "    predicted_valid = model.predict(features_valid)\n",
    "    print('Samples_split', samples_split/10,'F1', f1_score(target_valid, predicted_valid))\n",
    "    \n",
    "for samples_split in range(2, 11):\n",
    "    model =  RandomForestClassifier(random_state=123456, n_estimators=estimator, min_samples_split=samples_split)\n",
    "    model.fit(features_upsampled, target_upsampled)\n",
    "    predicted_valid = model.predict(features_valid)\n",
    "    print('Samples_split', samples_split,'F1', f1_score(target_valid, predicted_valid))"
   ]
  },
  {
   "cell_type": "markdown",
   "metadata": {},
   "source": [
    "Лучший F1 получени при min_samples_split=9.\n",
    "\n",
    "Изменим гиперпараметр min_samples_leaf.\n",
    "\n"
   ]
  },
  {
   "cell_type": "code",
   "execution_count": 43,
   "metadata": {},
   "outputs": [
    {
     "name": "stdout",
     "output_type": "stream",
     "text": [
      "Samples_leaf 0.1 F1 0.5467889908256881\n",
      "Samples_leaf 0.2 F1 0.5322580645161291\n",
      "Samples_leaf 0.3 F1 0.48449287510477795\n",
      "Samples_leaf 0.4 F1 0.34779016935150764\n",
      "Samples_leaf 0.5 F1 0.34779016935150764\n",
      "CPU times: user 7.51 s, sys: 52 ms, total: 7.56 s\n",
      "Wall time: 7.69 s\n"
     ]
    }
   ],
   "source": [
    "%%time\n",
    "\n",
    "for samples_leaf in range(1, 6):\n",
    "    model =  RandomForestClassifier(random_state=123456, n_estimators=estimator, min_samples_split=9, \n",
    "                                    min_samples_leaf= samples_leaf/10)\n",
    "    model.fit(features_upsampled, target_upsampled)\n",
    "    predicted_valid = model.predict(features_valid)\n",
    "    print('Samples_leaf', samples_leaf/10,'F1', f1_score(target_valid, predicted_valid))"
   ]
  },
  {
   "cell_type": "code",
   "execution_count": 44,
   "metadata": {},
   "outputs": [
    {
     "name": "stdout",
     "output_type": "stream",
     "text": [
      "Samples_leaf 1 F1 0.6045918367346939\n",
      "Samples_leaf 2 F1 0.6049382716049383\n",
      "Samples_leaf 3 F1 0.6157517899761338\n",
      "Samples_leaf 4 F1 0.6137689614935822\n",
      "Samples_leaf 5 F1 0.6220204313280364\n",
      "Samples_leaf 6 F1 0.6261261261261262\n",
      "Samples_leaf 7 F1 0.6283185840707964\n",
      "Samples_leaf 8 F1 0.625\n",
      "Samples_leaf 9 F1 0.6282608695652173\n",
      "Samples_leaf 10 F1 0.6394849785407726\n",
      "CPU times: user 52.2 s, sys: 87.8 ms, total: 52.3 s\n",
      "Wall time: 53.2 s\n"
     ]
    }
   ],
   "source": [
    "%%time\n",
    "\n",
    "    \n",
    "for samples_leaf in range(1, 11):\n",
    "    model =  RandomForestClassifier(random_state=123456, n_estimators=estimator, min_samples_split=9,\n",
    "                                   min_samples_leaf= samples_leaf)\n",
    "    model.fit(features_upsampled, target_upsampled)\n",
    "    predicted_valid = model.predict(features_valid)\n",
    "    print('Samples_leaf', samples_leaf,'F1', f1_score(target_valid, predicted_valid))"
   ]
  },
  {
   "cell_type": "markdown",
   "metadata": {},
   "source": [
    "Лучший показатель min_samples_leaf = 10\n",
    "\n",
    "Проверим на тестовой выборке четыре модели: на дисбалансных данных и сбалансированных: со взвешенными классами, усечением 0 класса и расширением класса 1."
   ]
  },
  {
   "cell_type": "code",
   "execution_count": 45,
   "metadata": {},
   "outputs": [
    {
     "name": "stdout",
     "output_type": "stream",
     "text": [
      "Случайный лес - дисбаланс классов\n",
      "Точность попадания по классам 0.86\n",
      "Precision 0.7877358490566038\n",
      "Recall 0.4154228855721393\n",
      "F1 0.5439739413680782\n",
      "\n"
     ]
    }
   ],
   "source": [
    "model = RandomForestClassifier(random_state=123456, n_estimators=estimator, min_samples_split=5,\n",
    "                                   min_samples_leaf=10)\n",
    "model.fit(features_train, target_train)\n",
    "predicted_test = model.predict(features_test)\n",
    "print('Случайный лес - дисбаланс классов')\n",
    "print('Точность попадания по классам', accuracy_score(target_test, predicted_test))\n",
    "print('Precision', precision_score(target_test, predicted_test))\n",
    "print('Recall', recall_score(target_test, predicted_test))\n",
    "print('F1', f1_score(target_test, predicted_test))\n",
    "print()"
   ]
  },
  {
   "cell_type": "code",
   "execution_count": 46,
   "metadata": {},
   "outputs": [
    {
     "name": "stdout",
     "output_type": "stream",
     "text": [
      "Случайный лес - взвешенные классы\n",
      "Точность попадания по классам 0.831\n",
      "Precision 0.5686695278969958\n",
      "Recall 0.6592039800995025\n",
      "F1 0.6105990783410139\n",
      "\n"
     ]
    }
   ],
   "source": [
    "model = RandomForestClassifier(random_state=123456, n_estimators=estimator, min_samples_split=5,\n",
    "                                   min_samples_leaf=10, class_weight='balanced')\n",
    "model.fit(features_train, target_train)\n",
    "predicted_test = model.predict(features_test)\n",
    "print('Случайный лес - взвешенные классы')\n",
    "print('Точность попадания по классам', accuracy_score(target_test, predicted_test))\n",
    "print('Precision', precision_score(target_test, predicted_test))\n",
    "print('Recall', recall_score(target_test, predicted_test))\n",
    "print('F1', f1_score(target_test, predicted_test))\n",
    "print()"
   ]
  },
  {
   "cell_type": "code",
   "execution_count": 47,
   "metadata": {},
   "outputs": [
    {
     "name": "stdout",
     "output_type": "stream",
     "text": [
      "Случайный лес - уменьшенное количество классов 0\n",
      "Точность попадания по классам 0.787\n",
      "Precision 0.4805194805194805\n",
      "Recall 0.736318407960199\n",
      "F1 0.581532416502947\n",
      "\n"
     ]
    }
   ],
   "source": [
    "model = RandomForestClassifier(random_state=123456, n_estimators=estimator, min_samples_split=5,\n",
    "                                   min_samples_leaf=10)\n",
    "model.fit(features_downsampled, target_downsampled)\n",
    "predicted_test = model.predict(features_test)\n",
    "print('Случайный лес - уменьшенное количество классов 0')\n",
    "print('Точность попадания по классам', accuracy_score(target_test, predicted_test))\n",
    "print('Precision', precision_score(target_test, predicted_test))\n",
    "print('Recall', recall_score(target_test, predicted_test))\n",
    "print('F1', f1_score(target_test, predicted_test))\n",
    "print()\n"
   ]
  },
  {
   "cell_type": "code",
   "execution_count": 48,
   "metadata": {},
   "outputs": [
    {
     "name": "stdout",
     "output_type": "stream",
     "text": [
      "Случайный лес - увеличенное количество классов 1\n",
      "Точность попадания по классам 0.82\n",
      "Precision 0.5418326693227091\n",
      "Recall 0.6766169154228856\n",
      "F1 0.6017699115044247\n",
      "\n"
     ]
    }
   ],
   "source": [
    "model = RandomForestClassifier(random_state=123456, n_estimators=estimator, min_samples_split=5,\n",
    "                                   min_samples_leaf=10)\n",
    "model.fit(features_upsampled, target_upsampled)\n",
    "predicted_test = model.predict(features_test)\n",
    "print('Случайный лес - увеличенное количество классов 1')\n",
    "print('Точность попадания по классам', accuracy_score(target_test, predicted_test))\n",
    "print('Precision', precision_score(target_test, predicted_test))\n",
    "print('Recall', recall_score(target_test, predicted_test))\n",
    "print('F1', f1_score(target_test, predicted_test))\n",
    "print()"
   ]
  },
  {
   "cell_type": "code",
   "execution_count": 49,
   "metadata": {},
   "outputs": [
    {
     "name": "stdout",
     "output_type": "stream",
     "text": [
      "AUC-ROC RandomForestClassifier - disbalanced 0.8572718385544119\n",
      "AUC-ROC RandomForestClassifier - balanced by class weight 0.8563534019514443\n",
      "AUC-ROC RandomForestClassifier - balanced by reduce 0 class 0.8554910055479797\n",
      "AUC-ROC RandomForestClassifier - balanced by grow 1 class 0.8547438028879382\n"
     ]
    },
    {
     "data": {
      "image/png": "[encoded data removed]",
      "text/plain": [
       "<Figure size 864x648 with 1 Axes>"
      ]
     },
     "metadata": {
      "needs_background": "light"
     },
     "output_type": "display_data"
    }
   ],
   "source": [
    "plt.figure(figsize=[12,9])\n",
    "\n",
    "plt.plot([0, 1], [0, 1], linestyle='--', label='RandomModel')\n",
    "\n",
    "\n",
    "model = RandomForestClassifier(random_state=123456, n_estimators=estimator, min_samples_split=5,\n",
    "                                   min_samples_leaf=7)\n",
    "model.fit(features_train, target_train)\n",
    "predicted_test = model.predict(features_test)\n",
    "probabilities_test = model.predict_proba(features_test)\n",
    "probabilities_one_test = probabilities_test[:, 1]\n",
    "fpr, tpr, thresholds = roc_curve(target_test, probabilities_one_test)\n",
    "auc_roc = roc_auc_score(target_test, probabilities_one_test)\n",
    "print('AUC-ROC RandomForestClassifier - disbalanced',auc_roc)\n",
    "plt.plot(fpr, tpr, label='RandomForestClassifier - disbalanced')\n",
    "\n",
    "model = RandomForestClassifier(random_state=123456, n_estimators=estimator, min_samples_split=5,\n",
    "                                   min_samples_leaf=7, class_weight='balanced')\n",
    "model.fit(features_train, target_train)\n",
    "predicted_test = model.predict(features_test)\n",
    "probabilities_test = model.predict_proba(features_test)\n",
    "probabilities_one_test = probabilities_test[:, 1]\n",
    "fpr, tpr, thresholds = roc_curve(target_test, probabilities_one_test)\n",
    "auc_roc = roc_auc_score(target_test, probabilities_one_test)\n",
    "print('AUC-ROC RandomForestClassifier - balanced by class weight',auc_roc)\n",
    "plt.plot(fpr, tpr, label='RandomForestClassifier - balanced by class weight')\n",
    "\n",
    "model = RandomForestClassifier(random_state=123456, n_estimators=estimator, min_samples_split=5,\n",
    "                                   min_samples_leaf=7)\n",
    "model.fit(features_downsampled, target_downsampled)\n",
    "predicted_test = model.predict(features_test)\n",
    "probabilities_test = model.predict_proba(features_test)\n",
    "probabilities_one_test = probabilities_test[:, 1]\n",
    "fpr, tpr, thresholds = roc_curve(target_test, probabilities_one_test)\n",
    "auc_roc = roc_auc_score(target_test, probabilities_one_test)\n",
    "print('AUC-ROC RandomForestClassifier - balanced by reduce 0 class',auc_roc)\n",
    "plt.plot(fpr, tpr, label='RandomForestClassifier - balanced by reduce 0 class')\n",
    "\n",
    "model = RandomForestClassifier(random_state=123456, n_estimators=estimator, min_samples_split=5,\n",
    "                                   min_samples_leaf=7)\n",
    "model.fit(features_upsampled, target_upsampled)\n",
    "predicted_test = model.predict(features_test)\n",
    "probabilities_test = model.predict_proba(features_test)\n",
    "probabilities_one_test = probabilities_test[:, 1]\n",
    "fpr, tpr, thresholds = roc_curve(target_test, probabilities_one_test)\n",
    "auc_roc = roc_auc_score(target_test, probabilities_one_test)\n",
    "print('AUC-ROC RandomForestClassifier - balanced by grow 1 class',auc_roc)\n",
    "plt.plot(fpr, tpr, label='RandomForestClassifier - balanced')\n",
    "\n",
    "plt.xlim([0,1])\n",
    "plt.ylim([0,1])\n",
    "\n",
    "plt.xlabel(\"False Positive Rate\")\n",
    "plt.ylabel(\"True Positive Rate\")\n",
    "\n",
    "plt.legend(loc='lower right', fontsize='x-large')\n",
    "\n",
    "plt.title(\"ROC-кривая\")\n",
    "plt.show()"
   ]
  },
  {
   "cell_type": "markdown",
   "metadata": {},
   "source": [
    "## ОБЩИЙ ВЫВОД"
   ]
  },
  {
   "cell_type": "markdown",
   "metadata": {},
   "source": [
    "В проекте мы выполнили:\n",
    "\n",
    "- Изучили данные, разбили на три выборки \n",
    "- Проверили модели на данных без изменений\n",
    "- Скорректировали баланс класса\n",
    "- Провели поиск гиперпараметров\n",
    "- Нашли наилучшую модель. Лучшей моделю будет модель Случайного леса со взвешенными классами при значениях AUC-ROC = 0.856 и F1 мерой = 0.610"
   ]
  }
 ],
 "metadata": {
  "ExecuteTimeLog": [
   {
    "duration": 1285,
    "start_time": "2022-03-14T15:29:36.422Z"
   },
   {
    "duration": 30,
    "start_time": "2022-03-14T15:29:37.710Z"
   },
   {
    "duration": 48,
    "start_time": "2022-03-14T15:29:37.742Z"
   },
   {
    "duration": 12,
    "start_time": "2022-03-14T15:29:55.170Z"
   },
   {
    "duration": 6,
    "start_time": "2022-03-14T15:39:22.831Z"
   },
   {
    "duration": 6,
    "start_time": "2022-03-14T15:40:42.522Z"
   },
   {
    "duration": 564,
    "start_time": "2022-03-14T15:40:59.399Z"
   },
   {
    "duration": 12,
    "start_time": "2022-03-14T15:41:06.007Z"
   },
   {
    "duration": 414,
    "start_time": "2022-03-16T15:36:23.253Z"
   },
   {
    "duration": 1368,
    "start_time": "2022-03-16T15:36:26.891Z"
   },
   {
    "duration": 80,
    "start_time": "2022-03-16T15:36:28.262Z"
   },
   {
    "duration": 57,
    "start_time": "2022-03-16T15:36:28.347Z"
   },
   {
    "duration": 37,
    "start_time": "2022-03-16T15:36:28.407Z"
   },
   {
    "duration": 6,
    "start_time": "2022-03-16T15:36:28.446Z"
   },
   {
    "duration": 8,
    "start_time": "2022-03-16T15:36:28.454Z"
   },
   {
    "duration": 15,
    "start_time": "2022-03-16T15:36:28.464Z"
   },
   {
    "duration": 445,
    "start_time": "2022-03-16T15:36:28.482Z"
   },
   {
    "duration": 2024,
    "start_time": "2022-03-16T15:38:38.094Z"
   },
   {
    "duration": 5,
    "start_time": "2022-03-16T15:38:43.292Z"
   },
   {
    "duration": 1455,
    "start_time": "2022-03-16T15:38:43.301Z"
   },
   {
    "duration": 44,
    "start_time": "2022-03-16T15:38:44.760Z"
   },
   {
    "duration": 36,
    "start_time": "2022-03-16T15:38:44.807Z"
   },
   {
    "duration": 6,
    "start_time": "2022-03-16T15:38:44.845Z"
   },
   {
    "duration": 9,
    "start_time": "2022-03-16T15:38:44.854Z"
   },
   {
    "duration": 15,
    "start_time": "2022-03-16T15:38:44.865Z"
   },
   {
    "duration": 316,
    "start_time": "2022-03-16T15:38:44.883Z"
   },
   {
    "duration": 2159,
    "start_time": "2022-03-16T15:38:45.202Z"
   },
   {
    "duration": 2154,
    "start_time": "2022-03-16T15:39:12.611Z"
   },
   {
    "duration": 636,
    "start_time": "2022-03-16T15:42:11.921Z"
   },
   {
    "duration": 5,
    "start_time": "2022-03-16T15:42:45.263Z"
   },
   {
    "duration": 7,
    "start_time": "2022-03-16T15:42:46.683Z"
   },
   {
    "duration": 48,
    "start_time": "2022-03-16T15:42:46.693Z"
   },
   {
    "duration": 33,
    "start_time": "2022-03-16T15:42:46.744Z"
   },
   {
    "duration": 18,
    "start_time": "2022-03-16T15:42:46.780Z"
   },
   {
    "duration": 6,
    "start_time": "2022-03-16T15:42:46.801Z"
   },
   {
    "duration": 35,
    "start_time": "2022-03-16T15:42:46.810Z"
   },
   {
    "duration": 15,
    "start_time": "2022-03-16T15:42:46.848Z"
   },
   {
    "duration": 316,
    "start_time": "2022-03-16T15:42:46.866Z"
   },
   {
    "duration": 1454,
    "start_time": "2022-03-16T15:42:47.185Z"
   },
   {
    "duration": 513,
    "start_time": "2022-03-16T15:42:48.641Z"
   },
   {
    "duration": 287,
    "start_time": "2022-03-16T15:46:15.275Z"
   },
   {
    "duration": 276,
    "start_time": "2022-03-16T15:46:19.969Z"
   },
   {
    "duration": 19,
    "start_time": "2022-03-16T15:47:33.756Z"
   },
   {
    "duration": 18,
    "start_time": "2022-03-16T15:50:52.048Z"
   },
   {
    "duration": 7,
    "start_time": "2022-03-16T15:51:04.469Z"
   },
   {
    "duration": 9,
    "start_time": "2022-03-16T15:52:06.964Z"
   },
   {
    "duration": 50,
    "start_time": "2022-03-16T15:53:32.134Z"
   },
   {
    "duration": 203,
    "start_time": "2022-03-16T15:57:30.227Z"
   },
   {
    "duration": 8601,
    "start_time": "2022-03-16T15:58:12.843Z"
   },
   {
    "duration": 7345,
    "start_time": "2022-03-16T15:58:55.664Z"
   },
   {
    "duration": 94,
    "start_time": "2022-03-16T16:03:20.849Z"
   },
   {
    "duration": 103,
    "start_time": "2022-03-16T16:03:44.154Z"
   },
   {
    "duration": 6,
    "start_time": "2022-03-16T16:18:00.513Z"
   },
   {
    "duration": 13,
    "start_time": "2022-03-16T16:18:19.510Z"
   },
   {
    "duration": 6,
    "start_time": "2022-03-16T16:18:43.500Z"
   },
   {
    "duration": 17,
    "start_time": "2022-03-16T16:18:54.903Z"
   },
   {
    "duration": 489,
    "start_time": "2022-03-16T16:35:21.241Z"
   },
   {
    "duration": 7,
    "start_time": "2022-03-16T16:36:18.239Z"
   },
   {
    "duration": 13,
    "start_time": "2022-03-16T16:36:18.249Z"
   },
   {
    "duration": 62,
    "start_time": "2022-03-16T16:36:18.265Z"
   },
   {
    "duration": 39,
    "start_time": "2022-03-16T16:36:18.329Z"
   },
   {
    "duration": 13,
    "start_time": "2022-03-16T16:36:18.371Z"
   },
   {
    "duration": 7,
    "start_time": "2022-03-16T16:36:18.387Z"
   },
   {
    "duration": 8,
    "start_time": "2022-03-16T16:36:18.397Z"
   },
   {
    "duration": 45,
    "start_time": "2022-03-16T16:36:18.407Z"
   },
   {
    "duration": 410,
    "start_time": "2022-03-16T16:36:18.456Z"
   },
   {
    "duration": 2090,
    "start_time": "2022-03-16T16:36:18.869Z"
   },
   {
    "duration": 406,
    "start_time": "2022-03-16T16:36:20.961Z"
   },
   {
    "duration": 227,
    "start_time": "2022-03-16T16:36:21.369Z"
   },
   {
    "duration": 21,
    "start_time": "2022-03-16T16:36:21.599Z"
   },
   {
    "duration": 35,
    "start_time": "2022-03-16T16:36:21.623Z"
   },
   {
    "duration": 8,
    "start_time": "2022-03-16T16:36:21.660Z"
   },
   {
    "duration": 11,
    "start_time": "2022-03-16T16:36:21.670Z"
   },
   {
    "duration": 66,
    "start_time": "2022-03-16T16:36:21.684Z"
   },
   {
    "duration": 209,
    "start_time": "2022-03-16T16:36:21.752Z"
   },
   {
    "duration": 10215,
    "start_time": "2022-03-16T16:36:21.964Z"
   },
   {
    "duration": 6280,
    "start_time": "2022-03-16T16:36:32.181Z"
   },
   {
    "duration": 86,
    "start_time": "2022-03-16T16:36:38.463Z"
   },
   {
    "duration": 92,
    "start_time": "2022-03-16T16:36:38.552Z"
   },
   {
    "duration": 17,
    "start_time": "2022-03-16T16:36:38.647Z"
   },
   {
    "duration": 7,
    "start_time": "2022-03-16T16:36:38.666Z"
   },
   {
    "duration": 21,
    "start_time": "2022-03-16T16:36:38.675Z"
   },
   {
    "duration": 519,
    "start_time": "2022-03-16T16:36:38.698Z"
   },
   {
    "duration": 6923,
    "start_time": "2022-03-16T16:40:56.768Z"
   },
   {
    "duration": 9584,
    "start_time": "2022-03-16T16:41:08.179Z"
   },
   {
    "duration": 337,
    "start_time": "2022-03-16T16:41:24.143Z"
   },
   {
    "duration": 41,
    "start_time": "2022-03-16T16:42:20.075Z"
   },
   {
    "duration": 7,
    "start_time": "2022-03-16T16:53:57.286Z"
   },
   {
    "duration": 7,
    "start_time": "2022-03-16T16:54:04.240Z"
   },
   {
    "duration": 5,
    "start_time": "2022-03-16T16:54:09.781Z"
   },
   {
    "duration": 5,
    "start_time": "2022-03-16T16:54:18.500Z"
   },
   {
    "duration": 8,
    "start_time": "2022-03-16T16:54:18.509Z"
   },
   {
    "duration": 35,
    "start_time": "2022-03-16T16:54:18.521Z"
   },
   {
    "duration": 33,
    "start_time": "2022-03-16T16:54:18.558Z"
   },
   {
    "duration": 16,
    "start_time": "2022-03-16T16:54:18.594Z"
   },
   {
    "duration": 7,
    "start_time": "2022-03-16T16:54:18.612Z"
   },
   {
    "duration": 6,
    "start_time": "2022-03-16T16:54:18.644Z"
   },
   {
    "duration": 19,
    "start_time": "2022-03-16T16:54:18.652Z"
   },
   {
    "duration": 424,
    "start_time": "2022-03-16T16:54:18.676Z"
   },
   {
    "duration": 1785,
    "start_time": "2022-03-16T16:54:19.104Z"
   },
   {
    "duration": 534,
    "start_time": "2022-03-16T16:54:20.892Z"
   },
   {
    "duration": 277,
    "start_time": "2022-03-16T16:54:21.429Z"
   },
   {
    "duration": 37,
    "start_time": "2022-03-16T16:54:21.709Z"
   },
   {
    "duration": 18,
    "start_time": "2022-03-16T16:54:21.749Z"
   },
   {
    "duration": 7,
    "start_time": "2022-03-16T16:54:21.770Z"
   },
   {
    "duration": 10,
    "start_time": "2022-03-16T16:54:21.780Z"
   },
   {
    "duration": 82,
    "start_time": "2022-03-16T16:54:21.793Z"
   },
   {
    "duration": 200,
    "start_time": "2022-03-16T16:54:21.878Z"
   },
   {
    "duration": 7968,
    "start_time": "2022-03-16T16:54:22.080Z"
   },
   {
    "duration": 6949,
    "start_time": "2022-03-16T16:54:30.050Z"
   },
   {
    "duration": 53,
    "start_time": "2022-03-16T16:54:37.001Z"
   },
   {
    "duration": 90,
    "start_time": "2022-03-16T16:54:37.058Z"
   },
   {
    "duration": 103,
    "start_time": "2022-03-16T16:54:37.152Z"
   },
   {
    "duration": 6,
    "start_time": "2022-03-16T16:54:37.257Z"
   },
   {
    "duration": 17,
    "start_time": "2022-03-16T16:54:37.266Z"
   },
   {
    "duration": 506,
    "start_time": "2022-03-16T16:54:37.286Z"
   },
   {
    "duration": 7751,
    "start_time": "2022-03-16T16:54:37.796Z"
   },
   {
    "duration": 11095,
    "start_time": "2022-03-16T16:54:45.550Z"
   },
   {
    "duration": 363,
    "start_time": "2022-03-16T16:54:56.648Z"
   },
   {
    "duration": 129,
    "start_time": "2022-03-16T16:54:57.013Z"
   },
   {
    "duration": 97,
    "start_time": "2022-03-16T16:54:57.146Z"
   },
   {
    "duration": 13,
    "start_time": "2022-03-16T16:54:57.246Z"
   },
   {
    "duration": 12,
    "start_time": "2022-03-16T16:54:57.262Z"
   },
   {
    "duration": 34,
    "start_time": "2022-03-16T16:56:10.270Z"
   },
   {
    "duration": 8,
    "start_time": "2022-03-16T16:56:18.747Z"
   },
   {
    "duration": 6,
    "start_time": "2022-03-16T16:56:24.679Z"
   },
   {
    "duration": 15,
    "start_time": "2022-03-16T17:00:37.416Z"
   },
   {
    "duration": 9,
    "start_time": "2022-03-16T17:00:43.716Z"
   },
   {
    "duration": 6,
    "start_time": "2022-03-16T17:00:47.762Z"
   },
   {
    "duration": 615,
    "start_time": "2022-03-16T17:01:40.555Z"
   },
   {
    "duration": 6,
    "start_time": "2022-03-16T17:11:43.353Z"
   },
   {
    "duration": 5,
    "start_time": "2022-03-16T17:11:43.361Z"
   },
   {
    "duration": 39,
    "start_time": "2022-03-16T17:11:43.368Z"
   },
   {
    "duration": 34,
    "start_time": "2022-03-16T17:11:43.444Z"
   },
   {
    "duration": 12,
    "start_time": "2022-03-16T17:11:43.480Z"
   },
   {
    "duration": 6,
    "start_time": "2022-03-16T17:11:43.494Z"
   },
   {
    "duration": 6,
    "start_time": "2022-03-16T17:11:43.502Z"
   },
   {
    "duration": 10,
    "start_time": "2022-03-16T17:11:43.544Z"
   },
   {
    "duration": 419,
    "start_time": "2022-03-16T17:11:43.558Z"
   },
   {
    "duration": 1281,
    "start_time": "2022-03-16T17:11:43.981Z"
   },
   {
    "duration": 567,
    "start_time": "2022-03-16T17:11:45.266Z"
   },
   {
    "duration": 220,
    "start_time": "2022-03-16T17:11:45.844Z"
   },
   {
    "duration": 20,
    "start_time": "2022-03-16T17:11:46.067Z"
   },
   {
    "duration": 19,
    "start_time": "2022-03-16T17:11:46.089Z"
   },
   {
    "duration": 36,
    "start_time": "2022-03-16T17:11:46.111Z"
   },
   {
    "duration": 12,
    "start_time": "2022-03-16T17:11:46.151Z"
   },
   {
    "duration": 77,
    "start_time": "2022-03-16T17:11:46.166Z"
   },
   {
    "duration": 276,
    "start_time": "2022-03-16T17:11:46.246Z"
   },
   {
    "duration": 10320,
    "start_time": "2022-03-16T17:11:46.524Z"
   },
   {
    "duration": 6183,
    "start_time": "2022-03-16T17:11:56.847Z"
   },
   {
    "duration": 120,
    "start_time": "2022-03-16T17:12:03.032Z"
   },
   {
    "duration": 89,
    "start_time": "2022-03-16T17:12:03.157Z"
   },
   {
    "duration": 22,
    "start_time": "2022-03-16T17:12:03.248Z"
   },
   {
    "duration": 7,
    "start_time": "2022-03-16T17:12:03.273Z"
   },
   {
    "duration": 62,
    "start_time": "2022-03-16T17:12:03.283Z"
   },
   {
    "duration": 504,
    "start_time": "2022-03-16T17:12:03.347Z"
   },
   {
    "duration": 6466,
    "start_time": "2022-03-16T17:12:03.856Z"
   },
   {
    "duration": 9803,
    "start_time": "2022-03-16T17:12:10.326Z"
   },
   {
    "duration": 354,
    "start_time": "2022-03-16T17:12:20.131Z"
   },
   {
    "duration": 163,
    "start_time": "2022-03-16T17:12:20.488Z"
   },
   {
    "duration": 92,
    "start_time": "2022-03-16T17:12:20.655Z"
   },
   {
    "duration": 13,
    "start_time": "2022-03-16T17:12:20.749Z"
   },
   {
    "duration": 8,
    "start_time": "2022-03-16T17:12:20.764Z"
   },
   {
    "duration": 30,
    "start_time": "2022-03-16T17:12:20.775Z"
   },
   {
    "duration": 7,
    "start_time": "2022-03-16T17:12:20.807Z"
   },
   {
    "duration": 5,
    "start_time": "2022-03-16T17:12:20.843Z"
   },
   {
    "duration": 19,
    "start_time": "2022-03-16T17:12:20.850Z"
   },
   {
    "duration": 175,
    "start_time": "2022-03-16T17:12:20.872Z"
   },
   {
    "duration": 6,
    "start_time": "2022-03-16T17:12:21.050Z"
   },
   {
    "duration": 558,
    "start_time": "2022-03-16T17:12:21.058Z"
   },
   {
    "duration": 1705,
    "start_time": "2022-03-20T16:36:51.217Z"
   },
   {
    "duration": 3,
    "start_time": "2022-03-20T16:36:52.924Z"
   },
   {
    "duration": 32,
    "start_time": "2022-03-20T16:36:52.928Z"
   },
   {
    "duration": 23,
    "start_time": "2022-03-20T16:36:52.962Z"
   },
   {
    "duration": 18,
    "start_time": "2022-03-20T16:36:52.986Z"
   },
   {
    "duration": 4,
    "start_time": "2022-03-20T16:36:53.006Z"
   },
   {
    "duration": 4,
    "start_time": "2022-03-20T16:36:53.012Z"
   },
   {
    "duration": 10,
    "start_time": "2022-03-20T16:36:53.018Z"
   },
   {
    "duration": 137,
    "start_time": "2022-03-20T16:36:53.029Z"
   },
   {
    "duration": 790,
    "start_time": "2022-03-20T16:36:53.169Z"
   },
   {
    "duration": 163,
    "start_time": "2022-03-20T16:36:53.961Z"
   },
   {
    "duration": 167,
    "start_time": "2022-03-20T16:36:54.126Z"
   },
   {
    "duration": 16,
    "start_time": "2022-03-20T16:36:54.300Z"
   },
   {
    "duration": 9,
    "start_time": "2022-03-20T16:36:54.318Z"
   },
   {
    "duration": 5,
    "start_time": "2022-03-20T16:36:54.329Z"
   },
   {
    "duration": 8,
    "start_time": "2022-03-20T16:36:54.335Z"
   },
   {
    "duration": 24,
    "start_time": "2022-03-20T16:36:54.344Z"
   },
   {
    "duration": 168,
    "start_time": "2022-03-20T16:36:54.369Z"
   },
   {
    "duration": 4763,
    "start_time": "2022-03-20T16:36:54.538Z"
   },
   {
    "duration": 3687,
    "start_time": "2022-03-20T16:36:59.303Z"
   },
   {
    "duration": 211,
    "start_time": "2022-03-20T16:37:02.991Z"
   },
   {
    "duration": 5,
    "start_time": "2022-03-20T16:37:03.205Z"
   },
   {
    "duration": 103,
    "start_time": "2022-03-20T16:37:03.212Z"
   },
   {
    "duration": 4,
    "start_time": "2022-03-20T16:37:03.317Z"
   },
   {
    "duration": 15,
    "start_time": "2022-03-20T16:37:03.322Z"
   },
   {
    "duration": 391,
    "start_time": "2022-03-20T16:37:03.339Z"
   },
   {
    "duration": 4176,
    "start_time": "2022-03-20T16:37:03.731Z"
   },
   {
    "duration": 6026,
    "start_time": "2022-03-20T16:37:07.910Z"
   },
   {
    "duration": 222,
    "start_time": "2022-03-20T16:37:13.938Z"
   },
   {
    "duration": 48,
    "start_time": "2022-03-20T16:37:14.162Z"
   },
   {
    "duration": 8,
    "start_time": "2022-03-20T16:37:14.303Z"
   },
   {
    "duration": 5,
    "start_time": "2022-03-20T16:37:14.402Z"
   },
   {
    "duration": 17,
    "start_time": "2022-03-20T16:37:14.409Z"
   },
   {
    "duration": 25,
    "start_time": "2022-03-20T16:37:14.428Z"
   },
   {
    "duration": 12,
    "start_time": "2022-03-20T16:37:14.455Z"
   },
   {
    "duration": 17,
    "start_time": "2022-03-20T16:37:14.468Z"
   },
   {
    "duration": 36,
    "start_time": "2022-03-20T16:37:14.486Z"
   },
   {
    "duration": 78,
    "start_time": "2022-03-20T16:37:14.524Z"
   },
   {
    "duration": 98,
    "start_time": "2022-03-20T16:37:14.604Z"
   },
   {
    "duration": 187,
    "start_time": "2022-03-20T16:37:14.704Z"
   },
   {
    "duration": 65,
    "start_time": "2022-03-21T17:07:53.028Z"
   },
   {
    "duration": 2152,
    "start_time": "2022-03-21T17:36:49.304Z"
   },
   {
    "duration": 2,
    "start_time": "2022-03-21T17:36:51.458Z"
   },
   {
    "duration": 27,
    "start_time": "2022-03-21T17:36:51.462Z"
   },
   {
    "duration": 23,
    "start_time": "2022-03-21T17:36:51.491Z"
   },
   {
    "duration": 26,
    "start_time": "2022-03-21T17:36:51.516Z"
   },
   {
    "duration": 4,
    "start_time": "2022-03-21T17:36:51.544Z"
   },
   {
    "duration": 5,
    "start_time": "2022-03-21T17:36:51.549Z"
   },
   {
    "duration": 12,
    "start_time": "2022-03-21T17:36:51.556Z"
   },
   {
    "duration": 149,
    "start_time": "2022-03-21T17:36:51.569Z"
   },
   {
    "duration": 789,
    "start_time": "2022-03-21T17:36:51.721Z"
   },
   {
    "duration": 158,
    "start_time": "2022-03-21T17:36:52.512Z"
   },
   {
    "duration": 172,
    "start_time": "2022-03-21T17:36:52.672Z"
   },
   {
    "duration": 14,
    "start_time": "2022-03-21T17:36:52.846Z"
   },
   {
    "duration": 9,
    "start_time": "2022-03-21T17:36:52.861Z"
   },
   {
    "duration": 4,
    "start_time": "2022-03-21T17:36:52.871Z"
   },
   {
    "duration": 6,
    "start_time": "2022-03-21T17:36:52.877Z"
   },
   {
    "duration": 49,
    "start_time": "2022-03-21T17:36:52.884Z"
   },
   {
    "duration": 148,
    "start_time": "2022-03-21T17:36:52.934Z"
   },
   {
    "duration": 4721,
    "start_time": "2022-03-21T17:36:53.084Z"
   },
   {
    "duration": 3653,
    "start_time": "2022-03-21T17:36:57.807Z"
   },
   {
    "duration": 175,
    "start_time": "2022-03-21T17:37:01.462Z"
   },
   {
    "duration": 95,
    "start_time": "2022-03-21T17:37:01.639Z"
   },
   {
    "duration": 15,
    "start_time": "2022-03-21T17:37:01.736Z"
   },
   {
    "duration": 4,
    "start_time": "2022-03-21T17:37:01.753Z"
   },
   {
    "duration": 13,
    "start_time": "2022-03-21T17:37:01.758Z"
   },
   {
    "duration": 378,
    "start_time": "2022-03-21T17:37:01.773Z"
   },
   {
    "duration": 3784,
    "start_time": "2022-03-21T17:37:02.153Z"
   },
   {
    "duration": 6014,
    "start_time": "2022-03-21T17:37:05.941Z"
   },
   {
    "duration": 222,
    "start_time": "2022-03-21T17:37:11.956Z"
   },
   {
    "duration": 65,
    "start_time": "2022-03-21T17:37:12.179Z"
   },
   {
    "duration": 6,
    "start_time": "2022-03-21T17:37:12.333Z"
   },
   {
    "duration": 7,
    "start_time": "2022-03-21T17:37:12.341Z"
   },
   {
    "duration": 5,
    "start_time": "2022-03-21T17:37:12.349Z"
   },
   {
    "duration": 21,
    "start_time": "2022-03-21T17:37:12.355Z"
   },
   {
    "duration": 5,
    "start_time": "2022-03-21T17:37:12.377Z"
   },
   {
    "duration": 8,
    "start_time": "2022-03-21T17:37:12.383Z"
   },
   {
    "duration": 49,
    "start_time": "2022-03-21T17:37:12.392Z"
   },
   {
    "duration": 9,
    "start_time": "2022-03-21T17:37:12.532Z"
   },
   {
    "duration": 5,
    "start_time": "2022-03-21T17:37:12.543Z"
   },
   {
    "duration": 182,
    "start_time": "2022-03-21T17:37:12.549Z"
   },
   {
    "duration": 250,
    "start_time": "2022-03-22T15:30:54.843Z"
   },
   {
    "duration": 44,
    "start_time": "2022-03-22T15:31:17.821Z"
   },
   {
    "duration": 1980,
    "start_time": "2022-03-22T15:31:21.404Z"
   },
   {
    "duration": 4,
    "start_time": "2022-03-22T15:31:23.386Z"
   },
   {
    "duration": 30,
    "start_time": "2022-03-22T15:31:23.391Z"
   },
   {
    "duration": 26,
    "start_time": "2022-03-22T15:31:23.423Z"
   },
   {
    "duration": 15,
    "start_time": "2022-03-22T15:31:23.462Z"
   },
   {
    "duration": 8,
    "start_time": "2022-03-22T15:31:23.479Z"
   },
   {
    "duration": 11,
    "start_time": "2022-03-22T15:31:23.489Z"
   },
   {
    "duration": 14,
    "start_time": "2022-03-22T15:31:23.502Z"
   },
   {
    "duration": 165,
    "start_time": "2022-03-22T15:31:23.518Z"
   },
   {
    "duration": 823,
    "start_time": "2022-03-22T15:31:23.686Z"
   },
   {
    "duration": 233,
    "start_time": "2022-03-22T15:31:24.510Z"
   },
   {
    "duration": 162,
    "start_time": "2022-03-22T15:31:24.745Z"
   },
   {
    "duration": 23,
    "start_time": "2022-03-22T15:31:24.910Z"
   },
   {
    "duration": 27,
    "start_time": "2022-03-22T15:31:24.936Z"
   },
   {
    "duration": 7,
    "start_time": "2022-03-22T15:31:24.965Z"
   },
   {
    "duration": 12,
    "start_time": "2022-03-22T15:31:24.974Z"
   },
   {
    "duration": 40,
    "start_time": "2022-03-22T15:31:24.988Z"
   },
   {
    "duration": 279,
    "start_time": "2022-03-22T15:31:25.030Z"
   },
   {
    "duration": 5968,
    "start_time": "2022-03-22T15:31:25.311Z"
   },
   {
    "duration": 5247,
    "start_time": "2022-03-22T15:31:31.281Z"
   },
   {
    "duration": 242,
    "start_time": "2022-03-22T15:31:36.530Z"
   },
   {
    "duration": 94,
    "start_time": "2022-03-22T15:31:36.774Z"
   },
   {
    "duration": 107,
    "start_time": "2022-03-22T15:31:36.870Z"
   },
   {
    "duration": 4,
    "start_time": "2022-03-22T15:31:36.979Z"
   },
   {
    "duration": 14,
    "start_time": "2022-03-22T15:31:36.985Z"
   },
   {
    "duration": 419,
    "start_time": "2022-03-22T15:31:37.000Z"
   },
   {
    "duration": 4401,
    "start_time": "2022-03-22T15:31:37.421Z"
   },
   {
    "duration": 7106,
    "start_time": "2022-03-22T15:31:41.826Z"
   },
   {
    "duration": 262,
    "start_time": "2022-03-22T15:31:48.934Z"
   },
   {
    "duration": 69,
    "start_time": "2022-03-22T15:31:49.198Z"
   },
   {
    "duration": 94,
    "start_time": "2022-03-22T15:31:49.269Z"
   },
   {
    "duration": 8,
    "start_time": "2022-03-22T15:31:49.365Z"
   },
   {
    "duration": 5,
    "start_time": "2022-03-22T15:31:49.375Z"
   },
   {
    "duration": 29,
    "start_time": "2022-03-22T15:31:49.382Z"
   },
   {
    "duration": 7,
    "start_time": "2022-03-22T15:31:49.413Z"
   },
   {
    "duration": 6,
    "start_time": "2022-03-22T15:31:49.421Z"
   },
   {
    "duration": 40,
    "start_time": "2022-03-22T15:31:49.429Z"
   },
   {
    "duration": 11,
    "start_time": "2022-03-22T15:31:49.471Z"
   },
   {
    "duration": 100,
    "start_time": "2022-03-22T15:31:49.565Z"
   },
   {
    "duration": 182,
    "start_time": "2022-03-22T15:31:49.667Z"
   },
   {
    "duration": 132,
    "start_time": "2022-03-22T15:33:57.820Z"
   },
   {
    "duration": 2268,
    "start_time": "2022-03-24T17:30:30.319Z"
   },
   {
    "duration": 5,
    "start_time": "2022-03-24T17:30:32.591Z"
   },
   {
    "duration": 47,
    "start_time": "2022-03-24T17:30:32.599Z"
   },
   {
    "duration": 40,
    "start_time": "2022-03-24T17:30:32.649Z"
   },
   {
    "duration": 18,
    "start_time": "2022-03-24T17:30:32.691Z"
   },
   {
    "duration": 9,
    "start_time": "2022-03-24T17:30:32.711Z"
   },
   {
    "duration": 9,
    "start_time": "2022-03-24T17:30:32.723Z"
   },
   {
    "duration": 41,
    "start_time": "2022-03-24T17:30:32.734Z"
   },
   {
    "duration": 248,
    "start_time": "2022-03-24T17:30:32.778Z"
   },
   {
    "duration": 1343,
    "start_time": "2022-03-24T17:30:33.032Z"
   },
   {
    "duration": 298,
    "start_time": "2022-03-24T17:30:34.378Z"
   },
   {
    "duration": 259,
    "start_time": "2022-03-24T17:30:34.679Z"
   },
   {
    "duration": 35,
    "start_time": "2022-03-24T17:30:34.941Z"
   },
   {
    "duration": 14,
    "start_time": "2022-03-24T17:30:34.979Z"
   },
   {
    "duration": 6,
    "start_time": "2022-03-24T17:30:34.996Z"
   },
   {
    "duration": 9,
    "start_time": "2022-03-24T17:30:35.005Z"
   },
   {
    "duration": 79,
    "start_time": "2022-03-24T17:30:35.017Z"
   },
   {
    "duration": 301,
    "start_time": "2022-03-24T17:30:35.099Z"
   },
   {
    "duration": 9200,
    "start_time": "2022-03-24T17:30:35.403Z"
   },
   {
    "duration": 7106,
    "start_time": "2022-03-24T17:30:44.605Z"
   },
   {
    "duration": 269,
    "start_time": "2022-03-24T17:30:51.714Z"
   },
   {
    "duration": 8,
    "start_time": "2022-03-24T17:30:52.075Z"
   },
   {
    "duration": 109,
    "start_time": "2022-03-24T17:30:52.086Z"
   },
   {
    "duration": 6,
    "start_time": "2022-03-24T17:30:52.198Z"
   },
   {
    "duration": 18,
    "start_time": "2022-03-24T17:30:52.206Z"
   },
   {
    "duration": 649,
    "start_time": "2022-03-24T17:30:52.226Z"
   },
   {
    "duration": 6735,
    "start_time": "2022-03-24T17:30:52.878Z"
   },
   {
    "duration": 10758,
    "start_time": "2022-03-24T17:30:59.618Z"
   },
   {
    "duration": 399,
    "start_time": "2022-03-24T17:31:10.378Z"
   },
   {
    "duration": 45,
    "start_time": "2022-03-24T17:31:10.779Z"
   },
   {
    "duration": 9,
    "start_time": "2022-03-24T17:31:10.875Z"
   },
   {
    "duration": 94,
    "start_time": "2022-03-24T17:31:10.886Z"
   },
   {
    "duration": 6,
    "start_time": "2022-03-24T17:31:10.982Z"
   },
   {
    "duration": 30,
    "start_time": "2022-03-24T17:31:10.990Z"
   },
   {
    "duration": 6,
    "start_time": "2022-03-24T17:31:11.023Z"
   },
   {
    "duration": 45,
    "start_time": "2022-03-24T17:31:11.031Z"
   },
   {
    "duration": 12,
    "start_time": "2022-03-24T17:31:11.078Z"
   },
   {
    "duration": 180,
    "start_time": "2022-03-24T17:31:11.094Z"
   },
   {
    "duration": 9,
    "start_time": "2022-03-24T17:31:11.276Z"
   },
   {
    "duration": 339,
    "start_time": "2022-03-24T17:31:11.287Z"
   },
   {
    "duration": 174,
    "start_time": "2022-03-24T17:31:37.233Z"
   },
   {
    "duration": 8371,
    "start_time": "2022-03-24T17:32:37.191Z"
   },
   {
    "duration": 69,
    "start_time": "2022-03-26T08:28:03.725Z"
   },
   {
    "duration": 2044,
    "start_time": "2022-03-26T08:28:20.010Z"
   },
   {
    "duration": 5,
    "start_time": "2022-03-26T08:28:22.058Z"
   },
   {
    "duration": 38,
    "start_time": "2022-03-26T08:28:22.068Z"
   },
   {
    "duration": 38,
    "start_time": "2022-03-26T08:28:22.109Z"
   },
   {
    "duration": 32,
    "start_time": "2022-03-26T08:28:22.150Z"
   },
   {
    "duration": 6,
    "start_time": "2022-03-26T08:28:22.184Z"
   },
   {
    "duration": 8,
    "start_time": "2022-03-26T08:28:22.193Z"
   },
   {
    "duration": 18,
    "start_time": "2022-03-26T08:28:22.203Z"
   },
   {
    "duration": 272,
    "start_time": "2022-03-26T08:28:22.223Z"
   },
   {
    "duration": 1286,
    "start_time": "2022-03-26T08:28:22.499Z"
   },
   {
    "duration": 272,
    "start_time": "2022-03-26T08:28:23.788Z"
   },
   {
    "duration": 245,
    "start_time": "2022-03-26T08:28:24.062Z"
   },
   {
    "duration": 23,
    "start_time": "2022-03-26T08:28:24.309Z"
   },
   {
    "duration": 120,
    "start_time": "2022-03-26T08:28:24.334Z"
   },
   {
    "duration": 0,
    "start_time": "2022-03-26T08:28:24.457Z"
   },
   {
    "duration": 0,
    "start_time": "2022-03-26T08:28:24.459Z"
   },
   {
    "duration": 0,
    "start_time": "2022-03-26T08:28:24.467Z"
   },
   {
    "duration": 0,
    "start_time": "2022-03-26T08:28:24.469Z"
   },
   {
    "duration": 0,
    "start_time": "2022-03-26T08:28:24.471Z"
   },
   {
    "duration": 0,
    "start_time": "2022-03-26T08:28:24.473Z"
   },
   {
    "duration": 0,
    "start_time": "2022-03-26T08:28:24.476Z"
   },
   {
    "duration": 0,
    "start_time": "2022-03-26T08:28:24.478Z"
   },
   {
    "duration": 0,
    "start_time": "2022-03-26T08:28:24.480Z"
   },
   {
    "duration": 0,
    "start_time": "2022-03-26T08:28:24.483Z"
   },
   {
    "duration": 0,
    "start_time": "2022-03-26T08:28:24.486Z"
   },
   {
    "duration": 0,
    "start_time": "2022-03-26T08:28:24.488Z"
   },
   {
    "duration": 0,
    "start_time": "2022-03-26T08:28:24.490Z"
   },
   {
    "duration": 0,
    "start_time": "2022-03-26T08:28:24.492Z"
   },
   {
    "duration": 0,
    "start_time": "2022-03-26T08:28:24.493Z"
   },
   {
    "duration": 0,
    "start_time": "2022-03-26T08:28:24.495Z"
   },
   {
    "duration": 0,
    "start_time": "2022-03-26T08:28:24.496Z"
   },
   {
    "duration": 0,
    "start_time": "2022-03-26T08:28:24.498Z"
   },
   {
    "duration": 1,
    "start_time": "2022-03-26T08:28:24.499Z"
   },
   {
    "duration": 0,
    "start_time": "2022-03-26T08:28:24.501Z"
   },
   {
    "duration": 0,
    "start_time": "2022-03-26T08:28:24.502Z"
   },
   {
    "duration": 0,
    "start_time": "2022-03-26T08:28:24.504Z"
   },
   {
    "duration": 0,
    "start_time": "2022-03-26T08:28:24.568Z"
   },
   {
    "duration": 0,
    "start_time": "2022-03-26T08:28:24.569Z"
   },
   {
    "duration": 0,
    "start_time": "2022-03-26T08:28:24.570Z"
   },
   {
    "duration": 0,
    "start_time": "2022-03-26T08:28:24.572Z"
   },
   {
    "duration": 0,
    "start_time": "2022-03-26T08:28:24.573Z"
   },
   {
    "duration": 8540,
    "start_time": "2022-03-26T08:28:42.424Z"
   },
   {
    "duration": 6,
    "start_time": "2022-03-26T08:32:04.281Z"
   },
   {
    "duration": 8,
    "start_time": "2022-03-26T08:32:04.291Z"
   },
   {
    "duration": 67,
    "start_time": "2022-03-26T08:32:04.301Z"
   },
   {
    "duration": 33,
    "start_time": "2022-03-26T08:32:04.372Z"
   },
   {
    "duration": 17,
    "start_time": "2022-03-26T08:32:04.408Z"
   },
   {
    "duration": 6,
    "start_time": "2022-03-26T08:32:04.427Z"
   },
   {
    "duration": 6,
    "start_time": "2022-03-26T08:32:04.468Z"
   },
   {
    "duration": 20,
    "start_time": "2022-03-26T08:32:04.476Z"
   },
   {
    "duration": 251,
    "start_time": "2022-03-26T08:32:04.498Z"
   },
   {
    "duration": 1353,
    "start_time": "2022-03-26T08:32:04.753Z"
   },
   {
    "duration": 267,
    "start_time": "2022-03-26T08:32:06.108Z"
   },
   {
    "duration": 183,
    "start_time": "2022-03-26T08:32:06.378Z"
   },
   {
    "duration": 23,
    "start_time": "2022-03-26T08:32:06.567Z"
   },
   {
    "duration": 8740,
    "start_time": "2022-03-26T08:32:06.592Z"
   },
   {
    "duration": 33,
    "start_time": "2022-03-26T08:32:15.334Z"
   },
   {
    "duration": 7,
    "start_time": "2022-03-26T08:32:15.370Z"
   },
   {
    "duration": 22,
    "start_time": "2022-03-26T08:32:15.379Z"
   },
   {
    "duration": 36,
    "start_time": "2022-03-26T08:32:15.403Z"
   },
   {
    "duration": 267,
    "start_time": "2022-03-26T08:32:15.441Z"
   },
   {
    "duration": 8741,
    "start_time": "2022-03-26T08:32:15.710Z"
   },
   {
    "duration": 6653,
    "start_time": "2022-03-26T08:32:24.453Z"
   },
   {
    "duration": 266,
    "start_time": "2022-03-26T08:32:31.109Z"
   },
   {
    "duration": 94,
    "start_time": "2022-03-26T08:32:31.378Z"
   },
   {
    "duration": 120,
    "start_time": "2022-03-26T08:32:31.476Z"
   },
   {
    "duration": 6,
    "start_time": "2022-03-26T08:32:31.598Z"
   },
   {
    "duration": 17,
    "start_time": "2022-03-26T08:32:31.607Z"
   },
   {
    "duration": 658,
    "start_time": "2022-03-26T08:32:31.626Z"
   },
   {
    "duration": 6640,
    "start_time": "2022-03-26T08:32:32.289Z"
   },
   {
    "duration": 10465,
    "start_time": "2022-03-26T08:32:38.931Z"
   },
   {
    "duration": 383,
    "start_time": "2022-03-26T08:32:49.399Z"
   },
   {
    "duration": 88,
    "start_time": "2022-03-26T08:32:49.785Z"
   },
   {
    "duration": 98,
    "start_time": "2022-03-26T08:32:49.876Z"
   },
   {
    "duration": 7,
    "start_time": "2022-03-26T08:32:49.977Z"
   },
   {
    "duration": 6,
    "start_time": "2022-03-26T08:32:49.986Z"
   },
   {
    "duration": 30,
    "start_time": "2022-03-26T08:32:49.994Z"
   },
   {
    "duration": 44,
    "start_time": "2022-03-26T08:32:50.026Z"
   },
   {
    "duration": 6,
    "start_time": "2022-03-26T08:32:50.073Z"
   },
   {
    "duration": 13,
    "start_time": "2022-03-26T08:32:50.081Z"
   },
   {
    "duration": 9,
    "start_time": "2022-03-26T08:32:50.170Z"
   },
   {
    "duration": 7,
    "start_time": "2022-03-26T08:32:50.269Z"
   },
   {
    "duration": 306,
    "start_time": "2022-03-26T08:32:50.278Z"
   },
   {
    "duration": 6,
    "start_time": "2022-03-26T09:27:44.322Z"
   },
   {
    "duration": 6,
    "start_time": "2022-03-26T09:27:44.331Z"
   },
   {
    "duration": 39,
    "start_time": "2022-03-26T09:27:44.339Z"
   },
   {
    "duration": 47,
    "start_time": "2022-03-26T09:27:44.381Z"
   },
   {
    "duration": 60,
    "start_time": "2022-03-26T09:27:44.431Z"
   },
   {
    "duration": 6,
    "start_time": "2022-03-26T09:27:44.494Z"
   },
   {
    "duration": 7,
    "start_time": "2022-03-26T09:27:44.502Z"
   },
   {
    "duration": 17,
    "start_time": "2022-03-26T09:27:44.511Z"
   },
   {
    "duration": 267,
    "start_time": "2022-03-26T09:27:44.530Z"
   },
   {
    "duration": 1303,
    "start_time": "2022-03-26T09:27:44.803Z"
   },
   {
    "duration": 283,
    "start_time": "2022-03-26T09:27:46.108Z"
   },
   {
    "duration": 191,
    "start_time": "2022-03-26T09:27:46.395Z"
   },
   {
    "duration": 24,
    "start_time": "2022-03-26T09:27:46.588Z"
   },
   {
    "duration": 8553,
    "start_time": "2022-03-26T09:27:46.614Z"
   },
   {
    "duration": 19,
    "start_time": "2022-03-26T09:27:55.170Z"
   },
   {
    "duration": 8,
    "start_time": "2022-03-26T09:27:55.192Z"
   },
   {
    "duration": 16,
    "start_time": "2022-03-26T09:27:55.202Z"
   },
   {
    "duration": 0,
    "start_time": "2022-03-26T09:27:55.221Z"
   },
   {
    "duration": 0,
    "start_time": "2022-03-26T09:27:55.224Z"
   },
   {
    "duration": 0,
    "start_time": "2022-03-26T09:27:55.227Z"
   },
   {
    "duration": 1,
    "start_time": "2022-03-26T09:27:55.267Z"
   },
   {
    "duration": 1,
    "start_time": "2022-03-26T09:27:55.269Z"
   },
   {
    "duration": 0,
    "start_time": "2022-03-26T09:27:55.271Z"
   },
   {
    "duration": 0,
    "start_time": "2022-03-26T09:27:55.272Z"
   },
   {
    "duration": 0,
    "start_time": "2022-03-26T09:27:55.274Z"
   },
   {
    "duration": 0,
    "start_time": "2022-03-26T09:27:55.276Z"
   },
   {
    "duration": 0,
    "start_time": "2022-03-26T09:27:55.277Z"
   },
   {
    "duration": 0,
    "start_time": "2022-03-26T09:27:55.279Z"
   },
   {
    "duration": 0,
    "start_time": "2022-03-26T09:27:55.280Z"
   },
   {
    "duration": 0,
    "start_time": "2022-03-26T09:27:55.282Z"
   },
   {
    "duration": 0,
    "start_time": "2022-03-26T09:27:55.283Z"
   },
   {
    "duration": 0,
    "start_time": "2022-03-26T09:27:55.285Z"
   },
   {
    "duration": 0,
    "start_time": "2022-03-26T09:27:55.287Z"
   },
   {
    "duration": 0,
    "start_time": "2022-03-26T09:27:55.289Z"
   },
   {
    "duration": 0,
    "start_time": "2022-03-26T09:27:55.584Z"
   },
   {
    "duration": 0,
    "start_time": "2022-03-26T09:27:55.585Z"
   },
   {
    "duration": 0,
    "start_time": "2022-03-26T09:27:55.587Z"
   },
   {
    "duration": 0,
    "start_time": "2022-03-26T09:27:55.589Z"
   },
   {
    "duration": 0,
    "start_time": "2022-03-26T09:27:55.590Z"
   },
   {
    "duration": 0,
    "start_time": "2022-03-26T09:27:55.592Z"
   },
   {
    "duration": 0,
    "start_time": "2022-03-26T09:27:55.594Z"
   },
   {
    "duration": 7,
    "start_time": "2022-03-26T09:28:03.905Z"
   },
   {
    "duration": 5,
    "start_time": "2022-03-26T09:28:03.915Z"
   },
   {
    "duration": 36,
    "start_time": "2022-03-26T09:28:03.922Z"
   },
   {
    "duration": 33,
    "start_time": "2022-03-26T09:28:03.961Z"
   },
   {
    "duration": 18,
    "start_time": "2022-03-26T09:28:03.996Z"
   },
   {
    "duration": 5,
    "start_time": "2022-03-26T09:28:04.016Z"
   },
   {
    "duration": 44,
    "start_time": "2022-03-26T09:28:04.023Z"
   },
   {
    "duration": 17,
    "start_time": "2022-03-26T09:28:04.070Z"
   },
   {
    "duration": 239,
    "start_time": "2022-03-26T09:28:04.089Z"
   },
   {
    "duration": 1278,
    "start_time": "2022-03-26T09:28:04.334Z"
   },
   {
    "duration": 279,
    "start_time": "2022-03-26T09:28:05.615Z"
   },
   {
    "duration": 185,
    "start_time": "2022-03-26T09:28:05.896Z"
   },
   {
    "duration": 23,
    "start_time": "2022-03-26T09:28:06.084Z"
   },
   {
    "duration": 8690,
    "start_time": "2022-03-26T09:28:06.109Z"
   },
   {
    "duration": 14,
    "start_time": "2022-03-26T09:28:14.801Z"
   },
   {
    "duration": 6,
    "start_time": "2022-03-26T09:28:14.818Z"
   },
   {
    "duration": 42,
    "start_time": "2022-03-26T09:28:14.826Z"
   },
   {
    "duration": 33,
    "start_time": "2022-03-26T09:28:14.870Z"
   },
   {
    "duration": 268,
    "start_time": "2022-03-26T09:28:14.905Z"
   },
   {
    "duration": 8892,
    "start_time": "2022-03-26T09:28:15.176Z"
   },
   {
    "duration": 6785,
    "start_time": "2022-03-26T09:28:24.071Z"
   },
   {
    "duration": 215,
    "start_time": "2022-03-26T09:28:30.859Z"
   },
   {
    "duration": 93,
    "start_time": "2022-03-26T09:28:31.077Z"
   },
   {
    "duration": 19,
    "start_time": "2022-03-26T09:28:31.173Z"
   },
   {
    "duration": 7,
    "start_time": "2022-03-26T09:28:31.267Z"
   },
   {
    "duration": 18,
    "start_time": "2022-03-26T09:28:31.276Z"
   },
   {
    "duration": 617,
    "start_time": "2022-03-26T09:28:31.296Z"
   },
   {
    "duration": 6704,
    "start_time": "2022-03-26T09:28:31.918Z"
   },
   {
    "duration": 10360,
    "start_time": "2022-03-26T09:28:38.624Z"
   },
   {
    "duration": 384,
    "start_time": "2022-03-26T09:28:48.986Z"
   },
   {
    "duration": 102,
    "start_time": "2022-03-26T09:28:49.372Z"
   },
   {
    "duration": 91,
    "start_time": "2022-03-26T09:28:49.477Z"
   },
   {
    "duration": 9,
    "start_time": "2022-03-26T09:28:49.571Z"
   },
   {
    "duration": 6,
    "start_time": "2022-03-26T09:28:49.582Z"
   },
   {
    "duration": 30,
    "start_time": "2022-03-26T09:28:49.590Z"
   },
   {
    "duration": 44,
    "start_time": "2022-03-26T09:28:49.623Z"
   },
   {
    "duration": 6,
    "start_time": "2022-03-26T09:28:49.669Z"
   },
   {
    "duration": 16,
    "start_time": "2022-03-26T09:28:49.677Z"
   },
   {
    "duration": 9,
    "start_time": "2022-03-26T09:28:49.770Z"
   },
   {
    "duration": 94,
    "start_time": "2022-03-26T09:28:49.782Z"
   },
   {
    "duration": 308,
    "start_time": "2022-03-26T09:28:49.879Z"
   },
   {
    "duration": 52,
    "start_time": "2022-03-27T09:48:15.882Z"
   },
   {
    "duration": 1680,
    "start_time": "2022-03-27T09:48:23.202Z"
   },
   {
    "duration": 3,
    "start_time": "2022-03-27T09:48:24.885Z"
   },
   {
    "duration": 38,
    "start_time": "2022-03-27T09:48:24.890Z"
   },
   {
    "duration": 27,
    "start_time": "2022-03-27T09:48:24.931Z"
   },
   {
    "duration": 14,
    "start_time": "2022-03-27T09:48:24.960Z"
   },
   {
    "duration": 10,
    "start_time": "2022-03-27T09:48:24.976Z"
   },
   {
    "duration": 18,
    "start_time": "2022-03-27T09:48:24.988Z"
   },
   {
    "duration": 17,
    "start_time": "2022-03-27T09:48:25.008Z"
   },
   {
    "duration": 169,
    "start_time": "2022-03-27T09:48:25.027Z"
   },
   {
    "duration": 837,
    "start_time": "2022-03-27T09:48:25.202Z"
   },
   {
    "duration": 186,
    "start_time": "2022-03-27T09:48:26.041Z"
   },
   {
    "duration": 183,
    "start_time": "2022-03-27T09:48:26.229Z"
   },
   {
    "duration": 18,
    "start_time": "2022-03-27T09:48:26.414Z"
   },
   {
    "duration": 5924,
    "start_time": "2022-03-27T09:48:26.434Z"
   },
   {
    "duration": 12,
    "start_time": "2022-03-27T09:48:32.360Z"
   },
   {
    "duration": 5,
    "start_time": "2022-03-27T09:48:32.374Z"
   },
   {
    "duration": 24,
    "start_time": "2022-03-27T09:48:32.381Z"
   },
   {
    "duration": 9,
    "start_time": "2022-03-27T09:48:32.407Z"
   },
   {
    "duration": 86,
    "start_time": "2022-03-27T09:48:32.418Z"
   },
   {
    "duration": 0,
    "start_time": "2022-03-27T09:48:32.507Z"
   },
   {
    "duration": 0,
    "start_time": "2022-03-27T09:48:32.508Z"
   },
   {
    "duration": 0,
    "start_time": "2022-03-27T09:48:32.510Z"
   },
   {
    "duration": 0,
    "start_time": "2022-03-27T09:48:32.511Z"
   },
   {
    "duration": 0,
    "start_time": "2022-03-27T09:48:32.513Z"
   },
   {
    "duration": 0,
    "start_time": "2022-03-27T09:48:32.514Z"
   },
   {
    "duration": 0,
    "start_time": "2022-03-27T09:48:32.515Z"
   },
   {
    "duration": 0,
    "start_time": "2022-03-27T09:48:32.516Z"
   },
   {
    "duration": 0,
    "start_time": "2022-03-27T09:48:32.517Z"
   },
   {
    "duration": 0,
    "start_time": "2022-03-27T09:48:32.518Z"
   },
   {
    "duration": 0,
    "start_time": "2022-03-27T09:48:32.519Z"
   },
   {
    "duration": 0,
    "start_time": "2022-03-27T09:48:32.520Z"
   },
   {
    "duration": 0,
    "start_time": "2022-03-27T09:48:32.521Z"
   },
   {
    "duration": 0,
    "start_time": "2022-03-27T09:48:32.522Z"
   },
   {
    "duration": 0,
    "start_time": "2022-03-27T09:48:32.523Z"
   },
   {
    "duration": 0,
    "start_time": "2022-03-27T09:48:32.524Z"
   },
   {
    "duration": 1,
    "start_time": "2022-03-27T09:48:32.525Z"
   },
   {
    "duration": 0,
    "start_time": "2022-03-27T09:48:32.526Z"
   },
   {
    "duration": 0,
    "start_time": "2022-03-27T09:48:32.527Z"
   },
   {
    "duration": 0,
    "start_time": "2022-03-27T09:48:32.529Z"
   },
   {
    "duration": 0,
    "start_time": "2022-03-27T09:48:32.529Z"
   },
   {
    "duration": 0,
    "start_time": "2022-03-27T09:48:32.530Z"
   },
   {
    "duration": 0,
    "start_time": "2022-03-27T09:48:32.531Z"
   },
   {
    "duration": 27,
    "start_time": "2022-03-27T09:49:41.778Z"
   },
   {
    "duration": 5,
    "start_time": "2022-03-27T09:50:58.280Z"
   },
   {
    "duration": 8,
    "start_time": "2022-03-27T09:50:58.288Z"
   },
   {
    "duration": 27,
    "start_time": "2022-03-27T09:50:58.298Z"
   },
   {
    "duration": 23,
    "start_time": "2022-03-27T09:50:58.327Z"
   },
   {
    "duration": 19,
    "start_time": "2022-03-27T09:50:58.352Z"
   },
   {
    "duration": 5,
    "start_time": "2022-03-27T09:50:58.401Z"
   },
   {
    "duration": 9,
    "start_time": "2022-03-27T09:50:58.408Z"
   },
   {
    "duration": 16,
    "start_time": "2022-03-27T09:50:58.419Z"
   },
   {
    "duration": 219,
    "start_time": "2022-03-27T09:50:58.437Z"
   },
   {
    "duration": 1265,
    "start_time": "2022-03-27T09:50:58.660Z"
   },
   {
    "duration": 211,
    "start_time": "2022-03-27T09:50:59.928Z"
   },
   {
    "duration": 136,
    "start_time": "2022-03-27T09:51:00.141Z"
   },
   {
    "duration": 29,
    "start_time": "2022-03-27T09:51:00.280Z"
   },
   {
    "duration": 6221,
    "start_time": "2022-03-27T09:51:00.311Z"
   },
   {
    "duration": 14,
    "start_time": "2022-03-27T09:51:06.534Z"
   },
   {
    "duration": 12,
    "start_time": "2022-03-27T09:51:06.551Z"
   },
   {
    "duration": 36,
    "start_time": "2022-03-27T09:51:06.565Z"
   },
   {
    "duration": 9,
    "start_time": "2022-03-27T09:51:06.603Z"
   },
   {
    "duration": 34,
    "start_time": "2022-03-27T09:51:06.614Z"
   },
   {
    "duration": 13,
    "start_time": "2022-03-27T09:51:06.650Z"
   },
   {
    "duration": 0,
    "start_time": "2022-03-27T09:51:06.665Z"
   },
   {
    "duration": 0,
    "start_time": "2022-03-27T09:51:06.666Z"
   },
   {
    "duration": 0,
    "start_time": "2022-03-27T09:51:06.668Z"
   },
   {
    "duration": 0,
    "start_time": "2022-03-27T09:51:06.670Z"
   },
   {
    "duration": 0,
    "start_time": "2022-03-27T09:51:06.702Z"
   },
   {
    "duration": 0,
    "start_time": "2022-03-27T09:51:06.703Z"
   },
   {
    "duration": 0,
    "start_time": "2022-03-27T09:51:06.706Z"
   },
   {
    "duration": 0,
    "start_time": "2022-03-27T09:51:06.707Z"
   },
   {
    "duration": 0,
    "start_time": "2022-03-27T09:51:06.710Z"
   },
   {
    "duration": 0,
    "start_time": "2022-03-27T09:51:06.711Z"
   },
   {
    "duration": 0,
    "start_time": "2022-03-27T09:51:06.712Z"
   },
   {
    "duration": 0,
    "start_time": "2022-03-27T09:51:06.714Z"
   },
   {
    "duration": 0,
    "start_time": "2022-03-27T09:51:06.715Z"
   },
   {
    "duration": 0,
    "start_time": "2022-03-27T09:51:06.717Z"
   },
   {
    "duration": 1,
    "start_time": "2022-03-27T09:51:06.718Z"
   },
   {
    "duration": 0,
    "start_time": "2022-03-27T09:51:06.720Z"
   },
   {
    "duration": 0,
    "start_time": "2022-03-27T09:51:06.722Z"
   },
   {
    "duration": 0,
    "start_time": "2022-03-27T09:51:06.723Z"
   },
   {
    "duration": 0,
    "start_time": "2022-03-27T09:51:06.724Z"
   },
   {
    "duration": 0,
    "start_time": "2022-03-27T09:51:06.726Z"
   },
   {
    "duration": 0,
    "start_time": "2022-03-27T09:51:06.727Z"
   },
   {
    "duration": 0,
    "start_time": "2022-03-27T09:51:06.729Z"
   },
   {
    "duration": 24,
    "start_time": "2022-03-27T09:53:19.775Z"
   },
   {
    "duration": 15,
    "start_time": "2022-03-27T09:53:37.538Z"
   },
   {
    "duration": 5,
    "start_time": "2022-03-27T09:55:18.596Z"
   },
   {
    "duration": 6,
    "start_time": "2022-03-27T09:55:18.604Z"
   },
   {
    "duration": 27,
    "start_time": "2022-03-27T09:55:18.612Z"
   },
   {
    "duration": 24,
    "start_time": "2022-03-27T09:55:18.641Z"
   },
   {
    "duration": 48,
    "start_time": "2022-03-27T09:55:18.667Z"
   },
   {
    "duration": 5,
    "start_time": "2022-03-27T09:55:18.717Z"
   },
   {
    "duration": 7,
    "start_time": "2022-03-27T09:55:18.725Z"
   },
   {
    "duration": 16,
    "start_time": "2022-03-27T09:55:18.734Z"
   },
   {
    "duration": 175,
    "start_time": "2022-03-27T09:55:18.753Z"
   },
   {
    "duration": 903,
    "start_time": "2022-03-27T09:55:18.931Z"
   },
   {
    "duration": 290,
    "start_time": "2022-03-27T09:55:19.837Z"
   },
   {
    "duration": 189,
    "start_time": "2022-03-27T09:55:20.130Z"
   },
   {
    "duration": 18,
    "start_time": "2022-03-27T09:55:20.321Z"
   },
   {
    "duration": 6236,
    "start_time": "2022-03-27T09:55:20.340Z"
   },
   {
    "duration": 28,
    "start_time": "2022-03-27T09:55:26.579Z"
   },
   {
    "duration": 6,
    "start_time": "2022-03-27T09:55:26.609Z"
   },
   {
    "duration": 13,
    "start_time": "2022-03-27T09:55:26.618Z"
   },
   {
    "duration": 9,
    "start_time": "2022-03-27T09:55:26.634Z"
   },
   {
    "duration": 56,
    "start_time": "2022-03-27T09:55:26.645Z"
   },
   {
    "duration": 29,
    "start_time": "2022-03-27T09:55:26.704Z"
   },
   {
    "duration": 0,
    "start_time": "2022-03-27T09:55:26.736Z"
   },
   {
    "duration": 0,
    "start_time": "2022-03-27T09:55:26.738Z"
   },
   {
    "duration": 0,
    "start_time": "2022-03-27T09:55:26.739Z"
   },
   {
    "duration": 0,
    "start_time": "2022-03-27T09:55:26.741Z"
   },
   {
    "duration": 0,
    "start_time": "2022-03-27T09:55:26.992Z"
   },
   {
    "duration": 0,
    "start_time": "2022-03-27T09:55:27.001Z"
   },
   {
    "duration": 0,
    "start_time": "2022-03-27T09:55:27.003Z"
   },
   {
    "duration": 0,
    "start_time": "2022-03-27T09:55:27.005Z"
   },
   {
    "duration": 0,
    "start_time": "2022-03-27T09:55:27.006Z"
   },
   {
    "duration": 0,
    "start_time": "2022-03-27T09:55:27.007Z"
   },
   {
    "duration": 0,
    "start_time": "2022-03-27T09:55:27.008Z"
   },
   {
    "duration": 0,
    "start_time": "2022-03-27T09:55:27.010Z"
   },
   {
    "duration": 0,
    "start_time": "2022-03-27T09:55:27.011Z"
   },
   {
    "duration": 0,
    "start_time": "2022-03-27T09:55:27.012Z"
   },
   {
    "duration": 0,
    "start_time": "2022-03-27T09:55:27.014Z"
   },
   {
    "duration": 0,
    "start_time": "2022-03-27T09:55:27.015Z"
   },
   {
    "duration": 0,
    "start_time": "2022-03-27T09:55:27.016Z"
   },
   {
    "duration": 0,
    "start_time": "2022-03-27T09:55:27.018Z"
   },
   {
    "duration": 0,
    "start_time": "2022-03-27T09:55:27.019Z"
   },
   {
    "duration": 0,
    "start_time": "2022-03-27T09:55:27.021Z"
   },
   {
    "duration": 0,
    "start_time": "2022-03-27T09:55:27.022Z"
   },
   {
    "duration": 0,
    "start_time": "2022-03-27T09:55:27.024Z"
   },
   {
    "duration": 4,
    "start_time": "2022-03-27T09:57:52.707Z"
   },
   {
    "duration": 10,
    "start_time": "2022-03-27T09:57:52.713Z"
   },
   {
    "duration": 33,
    "start_time": "2022-03-27T09:57:52.725Z"
   },
   {
    "duration": 52,
    "start_time": "2022-03-27T09:57:52.761Z"
   },
   {
    "duration": 19,
    "start_time": "2022-03-27T09:57:52.815Z"
   },
   {
    "duration": 6,
    "start_time": "2022-03-27T09:57:52.836Z"
   },
   {
    "duration": 7,
    "start_time": "2022-03-27T09:57:52.844Z"
   },
   {
    "duration": 48,
    "start_time": "2022-03-27T09:57:52.853Z"
   },
   {
    "duration": 150,
    "start_time": "2022-03-27T09:57:52.904Z"
   },
   {
    "duration": 907,
    "start_time": "2022-03-27T09:57:53.058Z"
   },
   {
    "duration": 184,
    "start_time": "2022-03-27T09:57:53.967Z"
   },
   {
    "duration": 126,
    "start_time": "2022-03-27T09:57:54.153Z"
   },
   {
    "duration": 26,
    "start_time": "2022-03-27T09:57:54.281Z"
   },
   {
    "duration": 6384,
    "start_time": "2022-03-27T09:57:54.309Z"
   },
   {
    "duration": 17,
    "start_time": "2022-03-27T09:58:00.700Z"
   },
   {
    "duration": 7,
    "start_time": "2022-03-27T09:58:00.719Z"
   },
   {
    "duration": 18,
    "start_time": "2022-03-27T09:58:00.728Z"
   },
   {
    "duration": 53,
    "start_time": "2022-03-27T09:58:00.748Z"
   },
   {
    "duration": 21,
    "start_time": "2022-03-27T09:58:00.803Z"
   },
   {
    "duration": 0,
    "start_time": "2022-03-27T09:58:00.827Z"
   },
   {
    "duration": 0,
    "start_time": "2022-03-27T09:58:00.828Z"
   },
   {
    "duration": 0,
    "start_time": "2022-03-27T09:58:00.830Z"
   },
   {
    "duration": 0,
    "start_time": "2022-03-27T09:58:00.831Z"
   },
   {
    "duration": 0,
    "start_time": "2022-03-27T09:58:00.832Z"
   },
   {
    "duration": 0,
    "start_time": "2022-03-27T09:58:00.833Z"
   },
   {
    "duration": 0,
    "start_time": "2022-03-27T09:58:00.835Z"
   },
   {
    "duration": 0,
    "start_time": "2022-03-27T09:58:00.836Z"
   },
   {
    "duration": 0,
    "start_time": "2022-03-27T09:58:00.837Z"
   },
   {
    "duration": 0,
    "start_time": "2022-03-27T09:58:00.838Z"
   },
   {
    "duration": 0,
    "start_time": "2022-03-27T09:58:00.839Z"
   },
   {
    "duration": 0,
    "start_time": "2022-03-27T09:58:00.840Z"
   },
   {
    "duration": 0,
    "start_time": "2022-03-27T09:58:00.841Z"
   },
   {
    "duration": 0,
    "start_time": "2022-03-27T09:58:00.842Z"
   },
   {
    "duration": 0,
    "start_time": "2022-03-27T09:58:00.844Z"
   },
   {
    "duration": 0,
    "start_time": "2022-03-27T09:58:00.845Z"
   },
   {
    "duration": 0,
    "start_time": "2022-03-27T09:58:00.846Z"
   },
   {
    "duration": 0,
    "start_time": "2022-03-27T09:58:00.849Z"
   },
   {
    "duration": 0,
    "start_time": "2022-03-27T09:58:00.850Z"
   },
   {
    "duration": 0,
    "start_time": "2022-03-27T09:58:00.851Z"
   },
   {
    "duration": 0,
    "start_time": "2022-03-27T09:58:00.852Z"
   },
   {
    "duration": 0,
    "start_time": "2022-03-27T09:58:00.900Z"
   },
   {
    "duration": 4,
    "start_time": "2022-03-27T10:04:50.186Z"
   },
   {
    "duration": 6,
    "start_time": "2022-03-27T10:04:50.193Z"
   },
   {
    "duration": 27,
    "start_time": "2022-03-27T10:04:50.201Z"
   },
   {
    "duration": 27,
    "start_time": "2022-03-27T10:04:50.230Z"
   },
   {
    "duration": 42,
    "start_time": "2022-03-27T10:04:50.260Z"
   },
   {
    "duration": 5,
    "start_time": "2022-03-27T10:04:50.304Z"
   },
   {
    "duration": 14,
    "start_time": "2022-03-27T10:04:50.311Z"
   },
   {
    "duration": 17,
    "start_time": "2022-03-27T10:04:50.327Z"
   },
   {
    "duration": 161,
    "start_time": "2022-03-27T10:04:50.346Z"
   },
   {
    "duration": 992,
    "start_time": "2022-03-27T10:04:50.510Z"
   },
   {
    "duration": 181,
    "start_time": "2022-03-27T10:04:51.505Z"
   },
   {
    "duration": 134,
    "start_time": "2022-03-27T10:04:51.688Z"
   },
   {
    "duration": 19,
    "start_time": "2022-03-27T10:04:51.824Z"
   },
   {
    "duration": 3,
    "start_time": "2022-03-27T10:04:51.847Z"
   },
   {
    "duration": 17,
    "start_time": "2022-03-27T10:04:51.852Z"
   },
   {
    "duration": 31,
    "start_time": "2022-03-27T10:04:51.871Z"
   },
   {
    "duration": 10,
    "start_time": "2022-03-27T10:04:51.904Z"
   },
   {
    "duration": 22,
    "start_time": "2022-03-27T10:04:51.916Z"
   },
   {
    "duration": 0,
    "start_time": "2022-03-27T10:04:51.940Z"
   },
   {
    "duration": 0,
    "start_time": "2022-03-27T10:04:51.942Z"
   },
   {
    "duration": 0,
    "start_time": "2022-03-27T10:04:51.943Z"
   },
   {
    "duration": 0,
    "start_time": "2022-03-27T10:04:51.944Z"
   },
   {
    "duration": 0,
    "start_time": "2022-03-27T10:04:51.946Z"
   },
   {
    "duration": 0,
    "start_time": "2022-03-27T10:04:51.947Z"
   },
   {
    "duration": 0,
    "start_time": "2022-03-27T10:04:51.949Z"
   },
   {
    "duration": 0,
    "start_time": "2022-03-27T10:04:51.950Z"
   },
   {
    "duration": 0,
    "start_time": "2022-03-27T10:04:51.951Z"
   },
   {
    "duration": 0,
    "start_time": "2022-03-27T10:04:51.953Z"
   },
   {
    "duration": 1,
    "start_time": "2022-03-27T10:04:51.954Z"
   },
   {
    "duration": 0,
    "start_time": "2022-03-27T10:04:51.955Z"
   },
   {
    "duration": 0,
    "start_time": "2022-03-27T10:04:51.957Z"
   },
   {
    "duration": 0,
    "start_time": "2022-03-27T10:04:51.958Z"
   },
   {
    "duration": 0,
    "start_time": "2022-03-27T10:04:51.959Z"
   },
   {
    "duration": 0,
    "start_time": "2022-03-27T10:04:51.960Z"
   },
   {
    "duration": 0,
    "start_time": "2022-03-27T10:04:52.002Z"
   },
   {
    "duration": 0,
    "start_time": "2022-03-27T10:04:52.003Z"
   },
   {
    "duration": 0,
    "start_time": "2022-03-27T10:04:52.004Z"
   },
   {
    "duration": 0,
    "start_time": "2022-03-27T10:04:52.006Z"
   },
   {
    "duration": 0,
    "start_time": "2022-03-27T10:04:52.006Z"
   },
   {
    "duration": 0,
    "start_time": "2022-03-27T10:04:52.008Z"
   },
   {
    "duration": 0,
    "start_time": "2022-03-27T10:04:52.009Z"
   },
   {
    "duration": 15,
    "start_time": "2022-03-27T10:06:49.974Z"
   },
   {
    "duration": 52,
    "start_time": "2022-03-27T10:08:12.546Z"
   },
   {
    "duration": 29,
    "start_time": "2022-03-27T10:08:15.579Z"
   },
   {
    "duration": 174,
    "start_time": "2022-03-27T10:09:11.012Z"
   },
   {
    "duration": 32,
    "start_time": "2022-03-27T10:09:32.504Z"
   },
   {
    "duration": 8040,
    "start_time": "2022-03-27T10:10:38.891Z"
   },
   {
    "duration": 6244,
    "start_time": "2022-03-27T10:11:07.986Z"
   },
   {
    "duration": 240,
    "start_time": "2022-03-27T10:11:29.465Z"
   },
   {
    "duration": 25,
    "start_time": "2022-03-27T10:12:12.182Z"
   },
   {
    "duration": 114,
    "start_time": "2022-03-27T10:12:21.298Z"
   },
   {
    "duration": 5,
    "start_time": "2022-03-27T10:12:23.184Z"
   },
   {
    "duration": 8,
    "start_time": "2022-03-27T10:12:23.191Z"
   },
   {
    "duration": 36,
    "start_time": "2022-03-27T10:12:23.200Z"
   },
   {
    "duration": 23,
    "start_time": "2022-03-27T10:12:23.239Z"
   },
   {
    "duration": 38,
    "start_time": "2022-03-27T10:12:23.264Z"
   },
   {
    "duration": 5,
    "start_time": "2022-03-27T10:12:23.304Z"
   },
   {
    "duration": 24,
    "start_time": "2022-03-27T10:12:23.311Z"
   },
   {
    "duration": 19,
    "start_time": "2022-03-27T10:12:23.337Z"
   },
   {
    "duration": 152,
    "start_time": "2022-03-27T10:12:23.358Z"
   },
   {
    "duration": 903,
    "start_time": "2022-03-27T10:12:23.513Z"
   },
   {
    "duration": 185,
    "start_time": "2022-03-27T10:12:24.418Z"
   },
   {
    "duration": 144,
    "start_time": "2022-03-27T10:12:24.605Z"
   },
   {
    "duration": 19,
    "start_time": "2022-03-27T10:12:24.751Z"
   },
   {
    "duration": 3,
    "start_time": "2022-03-27T10:12:24.773Z"
   },
   {
    "duration": 32,
    "start_time": "2022-03-27T10:12:24.778Z"
   },
   {
    "duration": 6,
    "start_time": "2022-03-27T10:12:24.812Z"
   },
   {
    "duration": 10,
    "start_time": "2022-03-27T10:12:24.820Z"
   },
   {
    "duration": 34,
    "start_time": "2022-03-27T10:12:24.832Z"
   },
   {
    "duration": 197,
    "start_time": "2022-03-27T10:12:24.868Z"
   },
   {
    "duration": 5965,
    "start_time": "2022-03-27T10:12:25.067Z"
   },
   {
    "duration": 5007,
    "start_time": "2022-03-27T10:12:31.034Z"
   },
   {
    "duration": 161,
    "start_time": "2022-03-27T10:12:36.043Z"
   },
   {
    "duration": 96,
    "start_time": "2022-03-27T10:12:36.207Z"
   },
   {
    "duration": 23,
    "start_time": "2022-03-27T10:12:36.305Z"
   },
   {
    "duration": 5,
    "start_time": "2022-03-27T10:12:36.330Z"
   },
   {
    "duration": 14,
    "start_time": "2022-03-27T10:12:36.336Z"
   },
   {
    "duration": 131,
    "start_time": "2022-03-27T10:12:36.352Z"
   },
   {
    "duration": 238,
    "start_time": "2022-03-27T10:12:36.487Z"
   },
   {
    "duration": 154,
    "start_time": "2022-03-27T10:12:36.727Z"
   },
   {
    "duration": 285,
    "start_time": "2022-03-27T10:12:36.883Z"
   },
   {
    "duration": 143,
    "start_time": "2022-03-27T10:12:37.169Z"
   },
   {
    "duration": 20,
    "start_time": "2022-03-27T10:12:37.314Z"
   },
   {
    "duration": 0,
    "start_time": "2022-03-27T10:12:37.337Z"
   },
   {
    "duration": 0,
    "start_time": "2022-03-27T10:12:37.338Z"
   },
   {
    "duration": 0,
    "start_time": "2022-03-27T10:12:37.340Z"
   },
   {
    "duration": 0,
    "start_time": "2022-03-27T10:12:37.342Z"
   },
   {
    "duration": 0,
    "start_time": "2022-03-27T10:12:37.343Z"
   },
   {
    "duration": 0,
    "start_time": "2022-03-27T10:12:37.345Z"
   },
   {
    "duration": 0,
    "start_time": "2022-03-27T10:12:37.346Z"
   },
   {
    "duration": 0,
    "start_time": "2022-03-27T10:12:37.348Z"
   },
   {
    "duration": 0,
    "start_time": "2022-03-27T10:12:37.349Z"
   },
   {
    "duration": 48,
    "start_time": "2022-03-27T10:31:59.002Z"
   },
   {
    "duration": 1559,
    "start_time": "2022-03-27T10:32:05.227Z"
   },
   {
    "duration": 3,
    "start_time": "2022-03-27T10:32:06.788Z"
   },
   {
    "duration": 28,
    "start_time": "2022-03-27T10:32:06.793Z"
   },
   {
    "duration": 25,
    "start_time": "2022-03-27T10:32:06.823Z"
   },
   {
    "duration": 13,
    "start_time": "2022-03-27T10:32:06.850Z"
   },
   {
    "duration": 4,
    "start_time": "2022-03-27T10:32:06.865Z"
   },
   {
    "duration": 6,
    "start_time": "2022-03-27T10:32:06.871Z"
   },
   {
    "duration": 38,
    "start_time": "2022-03-27T10:32:06.879Z"
   },
   {
    "duration": 163,
    "start_time": "2022-03-27T10:32:06.919Z"
   },
   {
    "duration": 930,
    "start_time": "2022-03-27T10:32:07.085Z"
   },
   {
    "duration": 175,
    "start_time": "2022-03-27T10:32:08.017Z"
   },
   {
    "duration": 182,
    "start_time": "2022-03-27T10:32:08.194Z"
   },
   {
    "duration": 32,
    "start_time": "2022-03-27T10:32:08.378Z"
   },
   {
    "duration": 3,
    "start_time": "2022-03-27T10:32:08.411Z"
   },
   {
    "duration": 14,
    "start_time": "2022-03-27T10:32:08.415Z"
   },
   {
    "duration": 4,
    "start_time": "2022-03-27T10:32:08.431Z"
   },
   {
    "duration": 7,
    "start_time": "2022-03-27T10:32:08.437Z"
   },
   {
    "duration": 29,
    "start_time": "2022-03-27T10:32:08.445Z"
   },
   {
    "duration": 183,
    "start_time": "2022-03-27T10:32:08.476Z"
   },
   {
    "duration": 5274,
    "start_time": "2022-03-27T10:32:08.661Z"
   },
   {
    "duration": 4124,
    "start_time": "2022-03-27T10:32:13.938Z"
   },
   {
    "duration": 263,
    "start_time": "2022-03-27T10:32:18.064Z"
   },
   {
    "duration": 0,
    "start_time": "2022-03-27T10:32:18.329Z"
   },
   {
    "duration": 0,
    "start_time": "2022-03-27T10:32:18.330Z"
   },
   {
    "duration": 0,
    "start_time": "2022-03-27T10:32:18.331Z"
   },
   {
    "duration": 0,
    "start_time": "2022-03-27T10:32:18.332Z"
   },
   {
    "duration": 0,
    "start_time": "2022-03-27T10:32:18.333Z"
   },
   {
    "duration": 0,
    "start_time": "2022-03-27T10:32:18.334Z"
   },
   {
    "duration": 0,
    "start_time": "2022-03-27T10:32:18.336Z"
   },
   {
    "duration": 0,
    "start_time": "2022-03-27T10:32:18.337Z"
   },
   {
    "duration": 0,
    "start_time": "2022-03-27T10:32:18.338Z"
   },
   {
    "duration": 0,
    "start_time": "2022-03-27T10:32:18.339Z"
   },
   {
    "duration": 0,
    "start_time": "2022-03-27T10:32:18.340Z"
   },
   {
    "duration": 0,
    "start_time": "2022-03-27T10:32:18.341Z"
   },
   {
    "duration": 0,
    "start_time": "2022-03-27T10:32:18.342Z"
   },
   {
    "duration": 0,
    "start_time": "2022-03-27T10:32:18.343Z"
   },
   {
    "duration": 0,
    "start_time": "2022-03-27T10:32:18.345Z"
   },
   {
    "duration": 0,
    "start_time": "2022-03-27T10:32:18.346Z"
   },
   {
    "duration": 0,
    "start_time": "2022-03-27T10:32:18.347Z"
   },
   {
    "duration": 0,
    "start_time": "2022-03-27T10:32:18.349Z"
   },
   {
    "duration": 0,
    "start_time": "2022-03-27T10:32:18.350Z"
   },
   {
    "duration": 18,
    "start_time": "2022-03-27T10:33:37.819Z"
   },
   {
    "duration": 972,
    "start_time": "2022-03-27T10:34:18.439Z"
   },
   {
    "duration": 8,
    "start_time": "2022-03-27T10:38:19.141Z"
   },
   {
    "duration": 761,
    "start_time": "2022-03-27T10:38:53.133Z"
   },
   {
    "duration": 773,
    "start_time": "2022-03-27T10:39:55.871Z"
   },
   {
    "duration": 30723,
    "start_time": "2022-03-27T10:40:24.549Z"
   },
   {
    "duration": 7882,
    "start_time": "2022-03-27T10:41:13.673Z"
   },
   {
    "duration": 3,
    "start_time": "2022-03-27T10:42:04.190Z"
   },
   {
    "duration": 110,
    "start_time": "2022-03-27T10:42:16.099Z"
   },
   {
    "duration": 122,
    "start_time": "2022-03-27T10:44:19.517Z"
   },
   {
    "duration": 4,
    "start_time": "2022-03-27T10:45:07.611Z"
   },
   {
    "duration": 15,
    "start_time": "2022-03-27T10:45:07.617Z"
   },
   {
    "duration": 31,
    "start_time": "2022-03-27T10:45:07.634Z"
   },
   {
    "duration": 22,
    "start_time": "2022-03-27T10:45:07.668Z"
   },
   {
    "duration": 18,
    "start_time": "2022-03-27T10:45:07.692Z"
   },
   {
    "duration": 5,
    "start_time": "2022-03-27T10:45:07.712Z"
   },
   {
    "duration": 6,
    "start_time": "2022-03-27T10:45:07.718Z"
   },
   {
    "duration": 13,
    "start_time": "2022-03-27T10:45:07.725Z"
   },
   {
    "duration": 188,
    "start_time": "2022-03-27T10:45:07.740Z"
   },
   {
    "duration": 919,
    "start_time": "2022-03-27T10:45:07.932Z"
   },
   {
    "duration": 183,
    "start_time": "2022-03-27T10:45:08.853Z"
   },
   {
    "duration": 127,
    "start_time": "2022-03-27T10:45:09.038Z"
   },
   {
    "duration": 17,
    "start_time": "2022-03-27T10:45:09.167Z"
   },
   {
    "duration": 2,
    "start_time": "2022-03-27T10:45:09.186Z"
   },
   {
    "duration": 25,
    "start_time": "2022-03-27T10:45:09.190Z"
   },
   {
    "duration": 5,
    "start_time": "2022-03-27T10:45:09.217Z"
   },
   {
    "duration": 10,
    "start_time": "2022-03-27T10:45:09.223Z"
   },
   {
    "duration": 29,
    "start_time": "2022-03-27T10:45:09.235Z"
   },
   {
    "duration": 824,
    "start_time": "2022-03-27T10:45:09.266Z"
   },
   {
    "duration": 30626,
    "start_time": "2022-03-27T10:45:10.092Z"
   },
   {
    "duration": 7268,
    "start_time": "2022-03-27T10:45:40.720Z"
   },
   {
    "duration": 3,
    "start_time": "2022-03-27T10:45:47.989Z"
   },
   {
    "duration": 29,
    "start_time": "2022-03-27T10:45:47.993Z"
   },
   {
    "duration": 783,
    "start_time": "2022-03-27T10:45:48.025Z"
   },
   {
    "duration": 4,
    "start_time": "2022-03-27T10:45:48.810Z"
   },
   {
    "duration": 13,
    "start_time": "2022-03-27T10:45:48.816Z"
   },
   {
    "duration": 0,
    "start_time": "2022-03-27T10:45:48.831Z"
   },
   {
    "duration": 0,
    "start_time": "2022-03-27T10:45:48.833Z"
   },
   {
    "duration": 0,
    "start_time": "2022-03-27T10:45:48.834Z"
   },
   {
    "duration": 0,
    "start_time": "2022-03-27T10:45:48.835Z"
   },
   {
    "duration": 0,
    "start_time": "2022-03-27T10:45:48.836Z"
   },
   {
    "duration": 0,
    "start_time": "2022-03-27T10:45:48.837Z"
   },
   {
    "duration": 0,
    "start_time": "2022-03-27T10:45:48.838Z"
   },
   {
    "duration": 0,
    "start_time": "2022-03-27T10:45:48.840Z"
   },
   {
    "duration": 0,
    "start_time": "2022-03-27T10:45:48.841Z"
   },
   {
    "duration": 0,
    "start_time": "2022-03-27T10:45:48.842Z"
   },
   {
    "duration": 0,
    "start_time": "2022-03-27T10:45:48.843Z"
   },
   {
    "duration": 0,
    "start_time": "2022-03-27T10:45:48.845Z"
   },
   {
    "duration": 0,
    "start_time": "2022-03-27T10:45:48.845Z"
   },
   {
    "duration": 0,
    "start_time": "2022-03-27T10:45:48.847Z"
   },
   {
    "duration": 0,
    "start_time": "2022-03-27T10:45:48.848Z"
   },
   {
    "duration": 0,
    "start_time": "2022-03-27T10:45:48.849Z"
   },
   {
    "duration": 0,
    "start_time": "2022-03-27T10:45:48.850Z"
   },
   {
    "duration": 530,
    "start_time": "2022-03-27T10:46:02.885Z"
   },
   {
    "duration": 48,
    "start_time": "2022-03-27T10:49:47.563Z"
   },
   {
    "duration": 90,
    "start_time": "2022-03-27T10:51:21.433Z"
   },
   {
    "duration": 39,
    "start_time": "2022-03-27T10:51:36.385Z"
   },
   {
    "duration": 16,
    "start_time": "2022-03-27T10:51:47.678Z"
   },
   {
    "duration": 16,
    "start_time": "2022-03-27T10:51:55.395Z"
   },
   {
    "duration": 5,
    "start_time": "2022-03-27T10:53:23.669Z"
   },
   {
    "duration": 4,
    "start_time": "2022-03-27T10:53:23.676Z"
   },
   {
    "duration": 26,
    "start_time": "2022-03-27T10:53:23.681Z"
   },
   {
    "duration": 22,
    "start_time": "2022-03-27T10:53:23.709Z"
   },
   {
    "duration": 16,
    "start_time": "2022-03-27T10:53:23.733Z"
   },
   {
    "duration": 6,
    "start_time": "2022-03-27T10:53:23.750Z"
   },
   {
    "duration": 4,
    "start_time": "2022-03-27T10:53:23.758Z"
   },
   {
    "duration": 49,
    "start_time": "2022-03-27T10:53:23.764Z"
   },
   {
    "duration": 155,
    "start_time": "2022-03-27T10:53:23.815Z"
   },
   {
    "duration": 975,
    "start_time": "2022-03-27T10:53:23.974Z"
   },
   {
    "duration": 173,
    "start_time": "2022-03-27T10:53:24.951Z"
   },
   {
    "duration": 118,
    "start_time": "2022-03-27T10:53:25.126Z"
   },
   {
    "duration": 17,
    "start_time": "2022-03-27T10:53:25.246Z"
   },
   {
    "duration": 2,
    "start_time": "2022-03-27T10:53:25.265Z"
   },
   {
    "duration": 12,
    "start_time": "2022-03-27T10:53:25.269Z"
   },
   {
    "duration": 26,
    "start_time": "2022-03-27T10:53:25.283Z"
   },
   {
    "duration": 9,
    "start_time": "2022-03-27T10:53:25.311Z"
   },
   {
    "duration": 30,
    "start_time": "2022-03-27T10:53:25.321Z"
   },
   {
    "duration": 797,
    "start_time": "2022-03-27T10:53:25.353Z"
   },
   {
    "duration": 29650,
    "start_time": "2022-03-27T10:53:26.152Z"
   },
   {
    "duration": 7384,
    "start_time": "2022-03-27T10:53:55.803Z"
   },
   {
    "duration": 2,
    "start_time": "2022-03-27T10:54:03.189Z"
   },
   {
    "duration": 34,
    "start_time": "2022-03-27T10:54:03.193Z"
   },
   {
    "duration": 681,
    "start_time": "2022-03-27T10:54:03.229Z"
   },
   {
    "duration": 96,
    "start_time": "2022-03-27T10:54:03.913Z"
   },
   {
    "duration": 15,
    "start_time": "2022-03-27T10:54:04.011Z"
   },
   {
    "duration": 0,
    "start_time": "2022-03-27T10:54:04.028Z"
   },
   {
    "duration": 0,
    "start_time": "2022-03-27T10:54:04.030Z"
   },
   {
    "duration": 0,
    "start_time": "2022-03-27T10:54:04.032Z"
   },
   {
    "duration": 0,
    "start_time": "2022-03-27T10:54:04.033Z"
   },
   {
    "duration": 0,
    "start_time": "2022-03-27T10:54:04.034Z"
   },
   {
    "duration": 0,
    "start_time": "2022-03-27T10:54:04.036Z"
   },
   {
    "duration": 0,
    "start_time": "2022-03-27T10:54:04.037Z"
   },
   {
    "duration": 0,
    "start_time": "2022-03-27T10:54:04.039Z"
   },
   {
    "duration": 0,
    "start_time": "2022-03-27T10:54:04.040Z"
   },
   {
    "duration": 0,
    "start_time": "2022-03-27T10:54:04.042Z"
   },
   {
    "duration": 0,
    "start_time": "2022-03-27T10:54:04.043Z"
   },
   {
    "duration": 0,
    "start_time": "2022-03-27T10:54:04.044Z"
   },
   {
    "duration": 0,
    "start_time": "2022-03-27T10:54:04.046Z"
   },
   {
    "duration": 0,
    "start_time": "2022-03-27T10:54:04.047Z"
   },
   {
    "duration": 0,
    "start_time": "2022-03-27T10:54:04.048Z"
   },
   {
    "duration": 0,
    "start_time": "2022-03-27T10:54:04.050Z"
   },
   {
    "duration": 0,
    "start_time": "2022-03-27T10:54:04.052Z"
   },
   {
    "duration": 468,
    "start_time": "2022-03-27T10:54:52.956Z"
   },
   {
    "duration": 17,
    "start_time": "2022-03-27T10:55:57.162Z"
   },
   {
    "duration": 17,
    "start_time": "2022-03-27T10:56:17.941Z"
   },
   {
    "duration": 18,
    "start_time": "2022-03-27T10:56:23.445Z"
   },
   {
    "duration": 209,
    "start_time": "2022-03-27T10:56:31.001Z"
   },
   {
    "duration": 15,
    "start_time": "2022-03-27T10:56:48.536Z"
   },
   {
    "duration": 420,
    "start_time": "2022-03-27T10:57:40.229Z"
   },
   {
    "duration": 1385,
    "start_time": "2022-03-27T10:59:00.006Z"
   },
   {
    "duration": 3,
    "start_time": "2022-03-27T10:59:01.393Z"
   },
   {
    "duration": 36,
    "start_time": "2022-03-27T10:59:01.397Z"
   },
   {
    "duration": 26,
    "start_time": "2022-03-27T10:59:01.434Z"
   },
   {
    "duration": 12,
    "start_time": "2022-03-27T10:59:01.462Z"
   },
   {
    "duration": 6,
    "start_time": "2022-03-27T10:59:01.476Z"
   },
   {
    "duration": 26,
    "start_time": "2022-03-27T10:59:01.483Z"
   },
   {
    "duration": 11,
    "start_time": "2022-03-27T10:59:01.511Z"
   },
   {
    "duration": 160,
    "start_time": "2022-03-27T10:59:01.524Z"
   },
   {
    "duration": 886,
    "start_time": "2022-03-27T10:59:01.685Z"
   },
   {
    "duration": 176,
    "start_time": "2022-03-27T10:59:02.573Z"
   },
   {
    "duration": 191,
    "start_time": "2022-03-27T10:59:02.750Z"
   },
   {
    "duration": 17,
    "start_time": "2022-03-27T10:59:02.942Z"
   },
   {
    "duration": 2,
    "start_time": "2022-03-27T10:59:02.962Z"
   },
   {
    "duration": 15,
    "start_time": "2022-03-27T10:59:02.965Z"
   },
   {
    "duration": 4,
    "start_time": "2022-03-27T10:59:02.982Z"
   },
   {
    "duration": 8,
    "start_time": "2022-03-27T10:59:03.008Z"
   },
   {
    "duration": 27,
    "start_time": "2022-03-27T10:59:03.017Z"
   },
   {
    "duration": 795,
    "start_time": "2022-03-27T10:59:03.046Z"
   },
   {
    "duration": 30111,
    "start_time": "2022-03-27T10:59:03.843Z"
   },
   {
    "duration": 7355,
    "start_time": "2022-03-27T10:59:33.955Z"
   },
   {
    "duration": 3,
    "start_time": "2022-03-27T10:59:41.311Z"
   },
   {
    "duration": 99,
    "start_time": "2022-03-27T10:59:41.315Z"
   },
   {
    "duration": 597,
    "start_time": "2022-03-27T10:59:41.416Z"
   },
   {
    "duration": 94,
    "start_time": "2022-03-27T10:59:42.016Z"
   },
   {
    "duration": 119,
    "start_time": "2022-03-27T10:59:42.111Z"
   },
   {
    "duration": 0,
    "start_time": "2022-03-27T10:59:42.231Z"
   },
   {
    "duration": 0,
    "start_time": "2022-03-27T10:59:42.232Z"
   },
   {
    "duration": 0,
    "start_time": "2022-03-27T10:59:42.234Z"
   },
   {
    "duration": 0,
    "start_time": "2022-03-27T10:59:42.235Z"
   },
   {
    "duration": 0,
    "start_time": "2022-03-27T10:59:42.236Z"
   },
   {
    "duration": 0,
    "start_time": "2022-03-27T10:59:42.237Z"
   },
   {
    "duration": 0,
    "start_time": "2022-03-27T10:59:42.238Z"
   },
   {
    "duration": 0,
    "start_time": "2022-03-27T10:59:42.239Z"
   },
   {
    "duration": 0,
    "start_time": "2022-03-27T10:59:42.240Z"
   },
   {
    "duration": 0,
    "start_time": "2022-03-27T10:59:42.240Z"
   },
   {
    "duration": 0,
    "start_time": "2022-03-27T10:59:42.242Z"
   },
   {
    "duration": 1,
    "start_time": "2022-03-27T10:59:42.242Z"
   },
   {
    "duration": 0,
    "start_time": "2022-03-27T10:59:42.244Z"
   },
   {
    "duration": 0,
    "start_time": "2022-03-27T10:59:42.245Z"
   },
   {
    "duration": 0,
    "start_time": "2022-03-27T10:59:42.246Z"
   },
   {
    "duration": 0,
    "start_time": "2022-03-27T10:59:42.247Z"
   },
   {
    "duration": 0,
    "start_time": "2022-03-27T10:59:42.247Z"
   },
   {
    "duration": 448,
    "start_time": "2022-03-27T11:04:30.068Z"
   },
   {
    "duration": 17,
    "start_time": "2022-03-27T11:05:13.956Z"
   },
   {
    "duration": 6986,
    "start_time": "2022-03-27T11:06:18.474Z"
   },
   {
    "duration": 7170,
    "start_time": "2022-03-27T11:07:28.672Z"
   },
   {
    "duration": 1415,
    "start_time": "2022-03-27T11:08:16.885Z"
   },
   {
    "duration": 3,
    "start_time": "2022-03-27T11:08:18.302Z"
   },
   {
    "duration": 32,
    "start_time": "2022-03-27T11:08:18.306Z"
   },
   {
    "duration": 25,
    "start_time": "2022-03-27T11:08:18.340Z"
   },
   {
    "duration": 13,
    "start_time": "2022-03-27T11:08:18.366Z"
   },
   {
    "duration": 4,
    "start_time": "2022-03-27T11:08:18.380Z"
   },
   {
    "duration": 23,
    "start_time": "2022-03-27T11:08:18.386Z"
   },
   {
    "duration": 12,
    "start_time": "2022-03-27T11:08:18.411Z"
   },
   {
    "duration": 165,
    "start_time": "2022-03-27T11:08:18.424Z"
   },
   {
    "duration": 899,
    "start_time": "2022-03-27T11:08:18.591Z"
   },
   {
    "duration": 173,
    "start_time": "2022-03-27T11:08:19.492Z"
   },
   {
    "duration": 202,
    "start_time": "2022-03-27T11:08:19.666Z"
   },
   {
    "duration": 21,
    "start_time": "2022-03-27T11:08:19.870Z"
   },
   {
    "duration": 17,
    "start_time": "2022-03-27T11:08:19.892Z"
   },
   {
    "duration": 11,
    "start_time": "2022-03-27T11:08:19.910Z"
   },
   {
    "duration": 8,
    "start_time": "2022-03-27T11:08:19.922Z"
   },
   {
    "duration": 9,
    "start_time": "2022-03-27T11:08:19.932Z"
   },
   {
    "duration": 28,
    "start_time": "2022-03-27T11:08:19.943Z"
   },
   {
    "duration": 766,
    "start_time": "2022-03-27T11:08:19.973Z"
   },
   {
    "duration": 0,
    "start_time": "2022-03-27T11:08:57.347Z"
   },
   {
    "duration": 0,
    "start_time": "2022-03-27T11:08:57.348Z"
   },
   {
    "duration": 0,
    "start_time": "2022-03-27T11:08:57.349Z"
   },
   {
    "duration": 0,
    "start_time": "2022-03-27T11:08:57.350Z"
   },
   {
    "duration": 0,
    "start_time": "2022-03-27T11:08:57.351Z"
   },
   {
    "duration": 0,
    "start_time": "2022-03-27T11:08:57.352Z"
   },
   {
    "duration": 0,
    "start_time": "2022-03-27T11:08:57.353Z"
   },
   {
    "duration": 0,
    "start_time": "2022-03-27T11:08:57.354Z"
   },
   {
    "duration": 0,
    "start_time": "2022-03-27T11:08:57.355Z"
   },
   {
    "duration": 0,
    "start_time": "2022-03-27T11:08:57.356Z"
   },
   {
    "duration": 0,
    "start_time": "2022-03-27T11:08:57.357Z"
   },
   {
    "duration": 0,
    "start_time": "2022-03-27T11:08:57.358Z"
   },
   {
    "duration": 0,
    "start_time": "2022-03-27T11:08:57.359Z"
   },
   {
    "duration": 0,
    "start_time": "2022-03-27T11:08:57.360Z"
   },
   {
    "duration": 0,
    "start_time": "2022-03-27T11:08:57.409Z"
   },
   {
    "duration": 0,
    "start_time": "2022-03-27T11:08:57.410Z"
   },
   {
    "duration": 0,
    "start_time": "2022-03-27T11:08:57.411Z"
   },
   {
    "duration": 0,
    "start_time": "2022-03-27T11:08:57.412Z"
   },
   {
    "duration": 0,
    "start_time": "2022-03-27T11:08:57.413Z"
   },
   {
    "duration": 0,
    "start_time": "2022-03-27T11:08:57.414Z"
   },
   {
    "duration": 0,
    "start_time": "2022-03-27T11:08:57.415Z"
   },
   {
    "duration": 0,
    "start_time": "2022-03-27T11:08:57.416Z"
   },
   {
    "duration": 0,
    "start_time": "2022-03-27T11:08:57.417Z"
   },
   {
    "duration": 0,
    "start_time": "2022-03-27T11:08:57.417Z"
   },
   {
    "duration": 0,
    "start_time": "2022-03-27T11:08:57.418Z"
   },
   {
    "duration": 0,
    "start_time": "2022-03-27T11:08:57.419Z"
   },
   {
    "duration": 0,
    "start_time": "2022-03-27T11:08:57.420Z"
   },
   {
    "duration": 0,
    "start_time": "2022-03-27T11:08:57.421Z"
   },
   {
    "duration": 0,
    "start_time": "2022-03-27T11:08:57.422Z"
   },
   {
    "duration": 0,
    "start_time": "2022-03-27T11:08:57.423Z"
   },
   {
    "duration": 0,
    "start_time": "2022-03-27T11:08:57.424Z"
   },
   {
    "duration": 0,
    "start_time": "2022-03-27T11:08:57.425Z"
   },
   {
    "duration": 0,
    "start_time": "2022-03-27T11:08:57.426Z"
   },
   {
    "duration": 0,
    "start_time": "2022-03-27T11:08:57.427Z"
   },
   {
    "duration": 0,
    "start_time": "2022-03-27T11:08:57.428Z"
   },
   {
    "duration": 0,
    "start_time": "2022-03-27T11:08:57.429Z"
   },
   {
    "duration": 0,
    "start_time": "2022-03-27T11:08:57.430Z"
   },
   {
    "duration": 0,
    "start_time": "2022-03-27T11:08:57.431Z"
   },
   {
    "duration": 0,
    "start_time": "2022-03-27T11:08:57.432Z"
   },
   {
    "duration": 0,
    "start_time": "2022-03-27T11:08:57.433Z"
   },
   {
    "duration": 0,
    "start_time": "2022-03-27T11:08:57.434Z"
   },
   {
    "duration": 0,
    "start_time": "2022-03-27T11:08:57.435Z"
   },
   {
    "duration": 0,
    "start_time": "2022-03-27T11:08:57.435Z"
   },
   {
    "duration": 4,
    "start_time": "2022-03-27T11:09:06.943Z"
   },
   {
    "duration": 4,
    "start_time": "2022-03-27T11:09:06.949Z"
   },
   {
    "duration": 27,
    "start_time": "2022-03-27T11:09:06.955Z"
   },
   {
    "duration": 26,
    "start_time": "2022-03-27T11:09:06.984Z"
   },
   {
    "duration": 13,
    "start_time": "2022-03-27T11:09:07.012Z"
   },
   {
    "duration": 5,
    "start_time": "2022-03-27T11:09:07.027Z"
   },
   {
    "duration": 8,
    "start_time": "2022-03-27T11:09:07.033Z"
   },
   {
    "duration": 14,
    "start_time": "2022-03-27T11:09:07.042Z"
   },
   {
    "duration": 168,
    "start_time": "2022-03-27T11:09:07.057Z"
   },
   {
    "duration": 911,
    "start_time": "2022-03-27T11:09:07.228Z"
   },
   {
    "duration": 175,
    "start_time": "2022-03-27T11:09:08.141Z"
   },
   {
    "duration": 127,
    "start_time": "2022-03-27T11:09:08.318Z"
   },
   {
    "duration": 17,
    "start_time": "2022-03-27T11:09:08.447Z"
   },
   {
    "duration": 3,
    "start_time": "2022-03-27T11:09:08.466Z"
   },
   {
    "duration": 12,
    "start_time": "2022-03-27T11:09:08.470Z"
   },
   {
    "duration": 27,
    "start_time": "2022-03-27T11:09:08.484Z"
   },
   {
    "duration": 9,
    "start_time": "2022-03-27T11:09:08.513Z"
   },
   {
    "duration": 3,
    "start_time": "2022-03-27T11:09:08.525Z"
   },
   {
    "duration": 796,
    "start_time": "2022-03-27T11:09:08.529Z"
   },
   {
    "duration": 30162,
    "start_time": "2022-03-27T11:09:09.326Z"
   },
   {
    "duration": 7920,
    "start_time": "2022-03-27T11:09:39.489Z"
   },
   {
    "duration": 3,
    "start_time": "2022-03-27T11:09:47.411Z"
   },
   {
    "duration": 97,
    "start_time": "2022-03-27T11:09:47.417Z"
   },
   {
    "duration": 594,
    "start_time": "2022-03-27T11:09:47.517Z"
   },
   {
    "duration": 6,
    "start_time": "2022-03-27T11:09:48.113Z"
   },
   {
    "duration": 96,
    "start_time": "2022-03-27T11:09:48.121Z"
   },
   {
    "duration": 0,
    "start_time": "2022-03-27T11:09:48.221Z"
   },
   {
    "duration": 0,
    "start_time": "2022-03-27T11:09:48.222Z"
   },
   {
    "duration": 0,
    "start_time": "2022-03-27T11:09:48.223Z"
   },
   {
    "duration": 0,
    "start_time": "2022-03-27T11:09:48.225Z"
   },
   {
    "duration": 0,
    "start_time": "2022-03-27T11:09:48.226Z"
   },
   {
    "duration": 0,
    "start_time": "2022-03-27T11:09:48.228Z"
   },
   {
    "duration": 0,
    "start_time": "2022-03-27T11:09:48.229Z"
   },
   {
    "duration": 0,
    "start_time": "2022-03-27T11:09:48.230Z"
   },
   {
    "duration": 0,
    "start_time": "2022-03-27T11:09:48.232Z"
   },
   {
    "duration": 0,
    "start_time": "2022-03-27T11:09:48.232Z"
   },
   {
    "duration": 0,
    "start_time": "2022-03-27T11:09:48.233Z"
   },
   {
    "duration": 0,
    "start_time": "2022-03-27T11:09:48.234Z"
   },
   {
    "duration": 0,
    "start_time": "2022-03-27T11:09:48.235Z"
   },
   {
    "duration": 0,
    "start_time": "2022-03-27T11:09:48.236Z"
   },
   {
    "duration": 0,
    "start_time": "2022-03-27T11:09:48.236Z"
   },
   {
    "duration": 0,
    "start_time": "2022-03-27T11:09:48.237Z"
   },
   {
    "duration": 0,
    "start_time": "2022-03-27T11:09:48.238Z"
   },
   {
    "duration": 15,
    "start_time": "2022-03-27T11:12:09.920Z"
   },
   {
    "duration": 421,
    "start_time": "2022-03-27T11:12:36.342Z"
   },
   {
    "duration": 293,
    "start_time": "2022-03-27T11:12:44.916Z"
   },
   {
    "duration": 13,
    "start_time": "2022-03-27T11:13:43.908Z"
   },
   {
    "duration": 52,
    "start_time": "2022-03-27T11:13:54.112Z"
   },
   {
    "duration": 715,
    "start_time": "2022-03-27T11:14:13.503Z"
   },
   {
    "duration": 114550,
    "start_time": "2022-03-27T11:16:46.364Z"
   },
   {
    "duration": 14,
    "start_time": "2022-03-27T11:18:42.705Z"
   },
   {
    "duration": 33,
    "start_time": "2022-03-27T12:22:17.336Z"
   },
   {
    "duration": 403,
    "start_time": "2022-03-27T12:22:18.102Z"
   },
   {
    "duration": 137,
    "start_time": "2022-03-27T12:22:19.476Z"
   },
   {
    "duration": 241,
    "start_time": "2022-03-27T12:22:33.967Z"
   },
   {
    "duration": 388,
    "start_time": "2022-03-27T12:22:36.342Z"
   },
   {
    "duration": 214,
    "start_time": "2022-03-27T12:22:59.780Z"
   },
   {
    "duration": 31,
    "start_time": "2022-03-27T12:23:00.288Z"
   },
   {
    "duration": 29,
    "start_time": "2022-03-27T12:23:06.609Z"
   },
   {
    "duration": 529,
    "start_time": "2022-03-27T12:23:24.173Z"
   },
   {
    "duration": 95,
    "start_time": "2022-03-27T12:23:32.717Z"
   },
   {
    "duration": 36,
    "start_time": "2022-03-27T12:23:46.720Z"
   },
   {
    "duration": 269,
    "start_time": "2022-03-27T12:33:00.524Z"
   },
   {
    "duration": 2202,
    "start_time": "2022-03-27T12:33:04.415Z"
   },
   {
    "duration": 4,
    "start_time": "2022-03-27T12:33:06.620Z"
   },
   {
    "duration": 49,
    "start_time": "2022-03-27T12:33:06.626Z"
   },
   {
    "duration": 36,
    "start_time": "2022-03-27T12:33:06.678Z"
   },
   {
    "duration": 30,
    "start_time": "2022-03-27T12:33:06.716Z"
   },
   {
    "duration": 6,
    "start_time": "2022-03-27T12:33:06.748Z"
   },
   {
    "duration": 7,
    "start_time": "2022-03-27T12:33:06.756Z"
   },
   {
    "duration": 16,
    "start_time": "2022-03-27T12:33:06.765Z"
   },
   {
    "duration": 258,
    "start_time": "2022-03-27T12:33:06.784Z"
   },
   {
    "duration": 1240,
    "start_time": "2022-03-27T12:33:07.046Z"
   },
   {
    "duration": 287,
    "start_time": "2022-03-27T12:33:08.289Z"
   },
   {
    "duration": 265,
    "start_time": "2022-03-27T12:33:08.578Z"
   },
   {
    "duration": 23,
    "start_time": "2022-03-27T12:33:08.845Z"
   },
   {
    "duration": 3,
    "start_time": "2022-03-27T12:33:08.870Z"
   },
   {
    "duration": 23,
    "start_time": "2022-03-27T12:33:08.876Z"
   },
   {
    "duration": 7,
    "start_time": "2022-03-27T12:33:08.901Z"
   },
   {
    "duration": 40,
    "start_time": "2022-03-27T12:33:08.910Z"
   },
   {
    "duration": 13,
    "start_time": "2022-03-27T12:33:08.952Z"
   },
   {
    "duration": 1037,
    "start_time": "2022-03-27T12:33:08.968Z"
   },
   {
    "duration": 41428,
    "start_time": "2022-03-27T12:33:10.007Z"
   },
   {
    "duration": 9936,
    "start_time": "2022-03-27T12:33:51.442Z"
   },
   {
    "duration": 4,
    "start_time": "2022-03-27T12:34:01.381Z"
   },
   {
    "duration": 80,
    "start_time": "2022-03-27T12:34:01.388Z"
   },
   {
    "duration": 212,
    "start_time": "2022-03-27T12:34:01.471Z"
   },
   {
    "duration": 552,
    "start_time": "2022-03-27T12:34:01.685Z"
   },
   {
    "duration": 199,
    "start_time": "2022-03-27T12:34:02.243Z"
   },
   {
    "duration": 21,
    "start_time": "2022-03-27T12:34:02.445Z"
   },
   {
    "duration": 29,
    "start_time": "2022-03-27T12:34:02.472Z"
   },
   {
    "duration": 320,
    "start_time": "2022-03-27T12:34:02.503Z"
   },
   {
    "duration": 121,
    "start_time": "2022-03-27T12:34:02.826Z"
   },
   {
    "duration": 111,
    "start_time": "2022-03-27T12:34:02.950Z"
   },
   {
    "duration": 51,
    "start_time": "2022-03-27T12:34:03.064Z"
   },
   {
    "duration": 757,
    "start_time": "2022-03-27T12:34:03.144Z"
   },
   {
    "duration": 143,
    "start_time": "2022-03-27T12:34:03.904Z"
   },
   {
    "duration": 271,
    "start_time": "2022-03-27T12:34:04.144Z"
   },
   {
    "duration": 177273,
    "start_time": "2022-03-27T12:34:04.418Z"
   },
   {
    "duration": 288,
    "start_time": "2022-03-27T12:37:01.694Z"
   },
   {
    "duration": 218,
    "start_time": "2022-03-27T12:37:01.984Z"
   },
   {
    "duration": 12,
    "start_time": "2022-03-27T12:37:02.204Z"
   },
   {
    "duration": 0,
    "start_time": "2022-03-27T12:37:02.218Z"
   },
   {
    "duration": 0,
    "start_time": "2022-03-27T12:37:02.220Z"
   },
   {
    "duration": 0,
    "start_time": "2022-03-27T12:37:02.222Z"
   },
   {
    "duration": 0,
    "start_time": "2022-03-27T12:37:02.223Z"
   },
   {
    "duration": 0,
    "start_time": "2022-03-27T12:37:02.225Z"
   },
   {
    "duration": 0,
    "start_time": "2022-03-27T12:37:02.226Z"
   },
   {
    "duration": 0,
    "start_time": "2022-03-27T12:37:02.228Z"
   },
   {
    "duration": 0,
    "start_time": "2022-03-27T12:37:02.229Z"
   },
   {
    "duration": 0,
    "start_time": "2022-03-27T12:37:02.230Z"
   },
   {
    "duration": 0,
    "start_time": "2022-03-27T12:37:02.232Z"
   },
   {
    "duration": 0,
    "start_time": "2022-03-27T12:37:02.233Z"
   },
   {
    "duration": 0,
    "start_time": "2022-03-27T12:37:02.237Z"
   },
   {
    "duration": 111985,
    "start_time": "2022-03-27T12:37:43.941Z"
   },
   {
    "duration": 8078,
    "start_time": "2022-03-27T12:40:42.294Z"
   },
   {
    "duration": 63910,
    "start_time": "2022-03-27T12:41:31.192Z"
   },
   {
    "duration": 46452,
    "start_time": "2022-03-27T12:43:01.705Z"
   },
   {
    "duration": 7,
    "start_time": "2022-03-27T12:46:05.260Z"
   },
   {
    "duration": 6,
    "start_time": "2022-03-27T12:46:05.270Z"
   },
   {
    "duration": 40,
    "start_time": "2022-03-27T12:46:05.279Z"
   },
   {
    "duration": 43,
    "start_time": "2022-03-27T12:46:05.322Z"
   },
   {
    "duration": 17,
    "start_time": "2022-03-27T12:46:05.367Z"
   },
   {
    "duration": 5,
    "start_time": "2022-03-27T12:46:05.386Z"
   },
   {
    "duration": 5,
    "start_time": "2022-03-27T12:46:05.394Z"
   },
   {
    "duration": 53,
    "start_time": "2022-03-27T12:46:05.402Z"
   },
   {
    "duration": 228,
    "start_time": "2022-03-27T12:46:05.458Z"
   },
   {
    "duration": 1464,
    "start_time": "2022-03-27T12:46:05.688Z"
   },
   {
    "duration": 278,
    "start_time": "2022-03-27T12:46:07.155Z"
   },
   {
    "duration": 177,
    "start_time": "2022-03-27T12:46:07.435Z"
   },
   {
    "duration": 34,
    "start_time": "2022-03-27T12:46:07.614Z"
   },
   {
    "duration": 4,
    "start_time": "2022-03-27T12:46:07.650Z"
   },
   {
    "duration": 16,
    "start_time": "2022-03-27T12:46:07.656Z"
   },
   {
    "duration": 6,
    "start_time": "2022-03-27T12:46:07.674Z"
   },
   {
    "duration": 9,
    "start_time": "2022-03-27T12:46:07.683Z"
   },
   {
    "duration": 3,
    "start_time": "2022-03-27T12:46:07.694Z"
   },
   {
    "duration": 1092,
    "start_time": "2022-03-27T12:46:07.699Z"
   },
   {
    "duration": 41381,
    "start_time": "2022-03-27T12:46:08.794Z"
   },
   {
    "duration": 10211,
    "start_time": "2022-03-27T12:46:50.177Z"
   },
   {
    "duration": 3,
    "start_time": "2022-03-27T12:47:00.390Z"
   },
   {
    "duration": 76,
    "start_time": "2022-03-27T12:47:00.396Z"
   },
   {
    "duration": 199,
    "start_time": "2022-03-27T12:47:00.477Z"
   },
   {
    "duration": 600,
    "start_time": "2022-03-27T12:47:00.679Z"
   },
   {
    "duration": 164,
    "start_time": "2022-03-27T12:47:01.281Z"
   },
   {
    "duration": 105,
    "start_time": "2022-03-27T12:47:01.449Z"
   },
   {
    "duration": 31,
    "start_time": "2022-03-27T12:47:01.556Z"
   },
   {
    "duration": 303,
    "start_time": "2022-03-27T12:47:01.590Z"
   },
   {
    "duration": 149,
    "start_time": "2022-03-27T12:47:01.896Z"
   },
   {
    "duration": 107,
    "start_time": "2022-03-27T12:47:02.049Z"
   },
   {
    "duration": 48,
    "start_time": "2022-03-27T12:47:02.159Z"
   },
   {
    "duration": 740,
    "start_time": "2022-03-27T12:47:02.210Z"
   },
   {
    "duration": 99,
    "start_time": "2022-03-27T12:47:02.952Z"
   },
   {
    "duration": 171825,
    "start_time": "2022-03-27T12:47:03.053Z"
   },
   {
    "duration": 109999,
    "start_time": "2022-03-27T12:49:54.881Z"
   },
   {
    "duration": 6014,
    "start_time": "2022-03-27T12:51:44.883Z"
   },
   {
    "duration": 62940,
    "start_time": "2022-03-27T12:51:50.899Z"
   },
   {
    "duration": 47217,
    "start_time": "2022-03-27T12:52:53.844Z"
   },
   {
    "duration": 6991,
    "start_time": "2022-03-27T12:53:41.064Z"
   },
   {
    "duration": 48663,
    "start_time": "2022-03-27T12:53:48.057Z"
   },
   {
    "duration": 3210,
    "start_time": "2022-03-27T12:54:36.722Z"
   },
   {
    "duration": 3142,
    "start_time": "2022-03-27T12:54:39.934Z"
   },
   {
    "duration": 1595,
    "start_time": "2022-03-27T12:54:43.078Z"
   },
   {
    "duration": 4681,
    "start_time": "2022-03-27T12:54:44.675Z"
   },
   {
    "duration": 248,
    "start_time": "2022-03-27T12:54:49.359Z"
   },
   {
    "duration": 3612,
    "start_time": "2022-03-27T12:54:49.609Z"
   },
   {
    "duration": 3726,
    "start_time": "2022-03-27T12:54:53.223Z"
   },
   {
    "duration": 2050,
    "start_time": "2022-03-27T12:54:56.951Z"
   },
   {
    "duration": 5758,
    "start_time": "2022-03-27T12:54:59.004Z"
   },
   {
    "duration": 200,
    "start_time": "2022-03-27T12:55:04.764Z"
   },
   {
    "duration": 186,
    "start_time": "2022-03-27T12:55:04.966Z"
   },
   {
    "duration": 12,
    "start_time": "2022-03-27T12:55:05.155Z"
   },
   {
    "duration": 0,
    "start_time": "2022-03-27T12:55:05.169Z"
   },
   {
    "duration": 0,
    "start_time": "2022-03-27T12:55:05.170Z"
   },
   {
    "duration": 0,
    "start_time": "2022-03-27T12:55:05.172Z"
   },
   {
    "duration": 0,
    "start_time": "2022-03-27T12:55:05.175Z"
   },
   {
    "duration": 0,
    "start_time": "2022-03-27T12:55:05.176Z"
   },
   {
    "duration": 0,
    "start_time": "2022-03-27T12:55:05.178Z"
   },
   {
    "duration": 0,
    "start_time": "2022-03-27T12:55:05.179Z"
   },
   {
    "duration": 0,
    "start_time": "2022-03-27T12:55:05.181Z"
   },
   {
    "duration": 0,
    "start_time": "2022-03-27T12:55:05.183Z"
   },
   {
    "duration": 14017,
    "start_time": "2022-03-27T12:55:36.222Z"
   },
   {
    "duration": 6,
    "start_time": "2022-03-27T12:58:20.422Z"
   },
   {
    "duration": 6,
    "start_time": "2022-03-27T12:58:20.431Z"
   },
   {
    "duration": 46,
    "start_time": "2022-03-27T12:58:20.438Z"
   },
   {
    "duration": 31,
    "start_time": "2022-03-27T12:58:20.486Z"
   },
   {
    "duration": 21,
    "start_time": "2022-03-27T12:58:20.521Z"
   },
   {
    "duration": 5,
    "start_time": "2022-03-27T12:58:20.544Z"
   },
   {
    "duration": 17,
    "start_time": "2022-03-27T12:58:20.551Z"
   },
   {
    "duration": 20,
    "start_time": "2022-03-27T12:58:20.571Z"
   },
   {
    "duration": 223,
    "start_time": "2022-03-27T12:58:20.593Z"
   },
   {
    "duration": 1249,
    "start_time": "2022-03-27T12:58:20.819Z"
   },
   {
    "duration": 277,
    "start_time": "2022-03-27T12:58:22.071Z"
   },
   {
    "duration": 190,
    "start_time": "2022-03-27T12:58:22.350Z"
   },
   {
    "duration": 37,
    "start_time": "2022-03-27T12:58:22.544Z"
   },
   {
    "duration": 4,
    "start_time": "2022-03-27T12:58:22.588Z"
   },
   {
    "duration": 17,
    "start_time": "2022-03-27T12:58:22.595Z"
   },
   {
    "duration": 33,
    "start_time": "2022-03-27T12:58:22.614Z"
   },
   {
    "duration": 11,
    "start_time": "2022-03-27T12:58:22.650Z"
   },
   {
    "duration": 4,
    "start_time": "2022-03-27T12:58:22.664Z"
   },
   {
    "duration": 1086,
    "start_time": "2022-03-27T12:58:22.670Z"
   },
   {
    "duration": 41304,
    "start_time": "2022-03-27T12:58:23.759Z"
   },
   {
    "duration": 10203,
    "start_time": "2022-03-27T12:59:05.065Z"
   },
   {
    "duration": 3,
    "start_time": "2022-03-27T12:59:15.271Z"
   },
   {
    "duration": 167,
    "start_time": "2022-03-27T12:59:15.276Z"
   },
   {
    "duration": 132,
    "start_time": "2022-03-27T12:59:15.446Z"
   },
   {
    "duration": 535,
    "start_time": "2022-03-27T12:59:15.581Z"
   },
   {
    "duration": 127,
    "start_time": "2022-03-27T12:59:16.118Z"
   },
   {
    "duration": 109,
    "start_time": "2022-03-27T12:59:16.248Z"
   },
   {
    "duration": 29,
    "start_time": "2022-03-27T12:59:16.359Z"
   },
   {
    "duration": 304,
    "start_time": "2022-03-27T12:59:16.390Z"
   },
   {
    "duration": 147,
    "start_time": "2022-03-27T12:59:16.697Z"
   },
   {
    "duration": 110,
    "start_time": "2022-03-27T12:59:16.850Z"
   },
   {
    "duration": 51,
    "start_time": "2022-03-27T12:59:16.963Z"
   },
   {
    "duration": 739,
    "start_time": "2022-03-27T12:59:17.017Z"
   },
   {
    "duration": 92,
    "start_time": "2022-03-27T12:59:17.758Z"
   },
   {
    "duration": 170212,
    "start_time": "2022-03-27T12:59:17.853Z"
   },
   {
    "duration": 119761,
    "start_time": "2022-03-27T13:02:08.067Z"
   },
   {
    "duration": 7270,
    "start_time": "2022-03-27T13:04:07.831Z"
   },
   {
    "duration": 66732,
    "start_time": "2022-03-27T13:04:15.103Z"
   },
   {
    "duration": 53717,
    "start_time": "2022-03-27T13:05:21.842Z"
   },
   {
    "duration": 7555,
    "start_time": "2022-03-27T13:06:15.561Z"
   },
   {
    "duration": 49424,
    "start_time": "2022-03-27T13:06:23.121Z"
   },
   {
    "duration": 3342,
    "start_time": "2022-03-27T13:07:12.548Z"
   },
   {
    "duration": 3108,
    "start_time": "2022-03-27T13:07:15.892Z"
   },
   {
    "duration": 1643,
    "start_time": "2022-03-27T13:07:19.002Z"
   },
   {
    "duration": 4875,
    "start_time": "2022-03-27T13:07:20.648Z"
   },
   {
    "duration": 14153,
    "start_time": "2022-03-27T13:07:25.528Z"
   },
   {
    "duration": 1480,
    "start_time": "2022-03-27T13:15:46.037Z"
   },
   {
    "duration": 1304,
    "start_time": "2022-03-27T13:17:41.912Z"
   },
   {
    "duration": 1317,
    "start_time": "2022-03-27T13:17:50.103Z"
   },
   {
    "duration": 45,
    "start_time": "2022-03-27T13:25:00.061Z"
   },
   {
    "duration": 521,
    "start_time": "2022-03-27T13:25:02.173Z"
   },
   {
    "duration": 62,
    "start_time": "2022-03-27T13:25:04.895Z"
   },
   {
    "duration": 6,
    "start_time": "2022-03-27T13:32:40.793Z"
   },
   {
    "duration": 9,
    "start_time": "2022-03-27T13:32:40.802Z"
   },
   {
    "duration": 46,
    "start_time": "2022-03-27T13:32:40.813Z"
   },
   {
    "duration": 32,
    "start_time": "2022-03-27T13:32:40.862Z"
   },
   {
    "duration": 18,
    "start_time": "2022-03-27T13:32:40.897Z"
   },
   {
    "duration": 7,
    "start_time": "2022-03-27T13:32:40.942Z"
   },
   {
    "duration": 10,
    "start_time": "2022-03-27T13:32:40.951Z"
   },
   {
    "duration": 19,
    "start_time": "2022-03-27T13:32:40.963Z"
   },
   {
    "duration": 245,
    "start_time": "2022-03-27T13:32:40.984Z"
   },
   {
    "duration": 1316,
    "start_time": "2022-03-27T13:32:41.245Z"
   },
   {
    "duration": 296,
    "start_time": "2022-03-27T13:32:42.564Z"
   },
   {
    "duration": 205,
    "start_time": "2022-03-27T13:32:42.863Z"
   },
   {
    "duration": 30,
    "start_time": "2022-03-27T13:32:43.071Z"
   },
   {
    "duration": 4,
    "start_time": "2022-03-27T13:32:43.104Z"
   },
   {
    "duration": 45,
    "start_time": "2022-03-27T13:32:43.111Z"
   },
   {
    "duration": 7,
    "start_time": "2022-03-27T13:32:43.158Z"
   },
   {
    "duration": 27,
    "start_time": "2022-03-27T13:32:43.168Z"
   },
   {
    "duration": 4,
    "start_time": "2022-03-27T13:32:43.197Z"
   },
   {
    "duration": 1087,
    "start_time": "2022-03-27T13:32:43.204Z"
   },
   {
    "duration": 41726,
    "start_time": "2022-03-27T13:32:44.293Z"
   },
   {
    "duration": 9793,
    "start_time": "2022-03-27T13:33:26.021Z"
   },
   {
    "duration": 73,
    "start_time": "2022-03-27T13:33:35.817Z"
   },
   {
    "duration": 133,
    "start_time": "2022-03-27T13:33:35.946Z"
   },
   {
    "duration": 618,
    "start_time": "2022-03-27T13:33:36.081Z"
   },
   {
    "duration": 145,
    "start_time": "2022-03-27T13:33:36.701Z"
   },
   {
    "duration": 1282,
    "start_time": "2022-03-27T13:33:36.849Z"
   },
   {
    "duration": 50,
    "start_time": "2022-03-27T13:33:38.133Z"
   },
   {
    "duration": 557,
    "start_time": "2022-03-27T13:33:38.188Z"
   },
   {
    "duration": 195,
    "start_time": "2022-03-27T13:33:38.748Z"
   },
   {
    "duration": 19,
    "start_time": "2022-03-27T13:33:38.945Z"
   },
   {
    "duration": 31,
    "start_time": "2022-03-27T13:33:38.966Z"
   },
   {
    "duration": 412,
    "start_time": "2022-03-27T13:33:38.999Z"
   },
   {
    "duration": 135,
    "start_time": "2022-03-27T13:33:39.413Z"
   },
   {
    "duration": 108,
    "start_time": "2022-03-27T13:33:39.551Z"
   },
   {
    "duration": 52,
    "start_time": "2022-03-27T13:33:39.662Z"
   },
   {
    "duration": 736,
    "start_time": "2022-03-27T13:33:39.744Z"
   },
   {
    "duration": 164,
    "start_time": "2022-03-27T13:33:40.482Z"
   },
   {
    "duration": 1370,
    "start_time": "2022-03-27T13:33:40.649Z"
   },
   {
    "duration": 171762,
    "start_time": "2022-03-27T13:33:42.021Z"
   },
   {
    "duration": 161860,
    "start_time": "2022-03-27T13:36:33.786Z"
   },
   {
    "duration": 6804,
    "start_time": "2022-03-27T13:39:15.648Z"
   },
   {
    "duration": 66778,
    "start_time": "2022-03-27T13:39:22.454Z"
   },
   {
    "duration": 50039,
    "start_time": "2022-03-27T13:40:29.243Z"
   },
   {
    "duration": 7411,
    "start_time": "2022-03-27T13:41:19.284Z"
   },
   {
    "duration": 52228,
    "start_time": "2022-03-27T13:41:26.697Z"
   },
   {
    "duration": 3221,
    "start_time": "2022-03-27T13:42:18.927Z"
   },
   {
    "duration": 3119,
    "start_time": "2022-03-27T13:42:22.150Z"
   },
   {
    "duration": 1600,
    "start_time": "2022-03-27T13:42:25.271Z"
   },
   {
    "duration": 4701,
    "start_time": "2022-03-27T13:42:26.873Z"
   },
   {
    "duration": 14209,
    "start_time": "2022-03-27T13:42:31.577Z"
   },
   {
    "duration": 66830,
    "start_time": "2022-03-27T14:10:03.234Z"
   },
   {
    "duration": 7,
    "start_time": "2022-03-27T14:12:15.159Z"
   },
   {
    "duration": 9,
    "start_time": "2022-03-27T14:12:15.170Z"
   },
   {
    "duration": 64,
    "start_time": "2022-03-27T14:12:15.182Z"
   },
   {
    "duration": 33,
    "start_time": "2022-03-27T14:12:15.250Z"
   },
   {
    "duration": 18,
    "start_time": "2022-03-27T14:12:15.286Z"
   },
   {
    "duration": 39,
    "start_time": "2022-03-27T14:12:15.306Z"
   },
   {
    "duration": 7,
    "start_time": "2022-03-27T14:12:15.347Z"
   },
   {
    "duration": 19,
    "start_time": "2022-03-27T14:12:15.356Z"
   },
   {
    "duration": 266,
    "start_time": "2022-03-27T14:12:15.378Z"
   },
   {
    "duration": 1405,
    "start_time": "2022-03-27T14:12:15.649Z"
   },
   {
    "duration": 279,
    "start_time": "2022-03-27T14:12:17.056Z"
   },
   {
    "duration": 195,
    "start_time": "2022-03-27T14:12:17.337Z"
   },
   {
    "duration": 28,
    "start_time": "2022-03-27T14:12:17.534Z"
   },
   {
    "duration": 3,
    "start_time": "2022-03-27T14:12:17.565Z"
   },
   {
    "duration": 17,
    "start_time": "2022-03-27T14:12:17.570Z"
   },
   {
    "duration": 8,
    "start_time": "2022-03-27T14:12:17.589Z"
   },
   {
    "duration": 16,
    "start_time": "2022-03-27T14:12:17.599Z"
   },
   {
    "duration": 3,
    "start_time": "2022-03-27T14:12:17.644Z"
   },
   {
    "duration": 1088,
    "start_time": "2022-03-27T14:12:17.650Z"
   },
   {
    "duration": 41632,
    "start_time": "2022-03-27T14:12:18.742Z"
   },
   {
    "duration": 9887,
    "start_time": "2022-03-27T14:13:00.377Z"
   },
   {
    "duration": 92,
    "start_time": "2022-03-27T14:13:10.267Z"
   },
   {
    "duration": 109,
    "start_time": "2022-03-27T14:13:10.449Z"
   },
   {
    "duration": 651,
    "start_time": "2022-03-27T14:13:10.561Z"
   },
   {
    "duration": 139,
    "start_time": "2022-03-27T14:13:11.215Z"
   },
   {
    "duration": 1181,
    "start_time": "2022-03-27T14:13:11.444Z"
   },
   {
    "duration": 51,
    "start_time": "2022-03-27T14:13:12.627Z"
   },
   {
    "duration": 522,
    "start_time": "2022-03-27T14:13:12.683Z"
   },
   {
    "duration": 139,
    "start_time": "2022-03-27T14:13:13.207Z"
   },
   {
    "duration": 109,
    "start_time": "2022-03-27T14:13:13.350Z"
   },
   {
    "duration": 29,
    "start_time": "2022-03-27T14:13:13.463Z"
   },
   {
    "duration": 319,
    "start_time": "2022-03-27T14:13:13.495Z"
   },
   {
    "duration": 49,
    "start_time": "2022-03-27T14:13:13.817Z"
   },
   {
    "duration": 111,
    "start_time": "2022-03-27T14:13:13.945Z"
   },
   {
    "duration": 51,
    "start_time": "2022-03-27T14:13:14.058Z"
   },
   {
    "duration": 818,
    "start_time": "2022-03-27T14:13:14.111Z"
   },
   {
    "duration": 213,
    "start_time": "2022-03-27T14:13:14.931Z"
   },
   {
    "duration": 1321,
    "start_time": "2022-03-27T14:13:15.146Z"
   },
   {
    "duration": 172601,
    "start_time": "2022-03-27T14:13:16.469Z"
   },
   {
    "duration": 161018,
    "start_time": "2022-03-27T14:16:09.073Z"
   },
   {
    "duration": 5982,
    "start_time": "2022-03-27T14:18:50.094Z"
   },
   {
    "duration": 65020,
    "start_time": "2022-03-27T14:18:56.078Z"
   },
   {
    "duration": 7425,
    "start_time": "2022-03-27T14:20:01.100Z"
   },
   {
    "duration": 51344,
    "start_time": "2022-03-27T14:20:08.527Z"
   },
   {
    "duration": 3227,
    "start_time": "2022-03-27T14:20:59.874Z"
   },
   {
    "duration": 3118,
    "start_time": "2022-03-27T14:21:03.104Z"
   },
   {
    "duration": 1611,
    "start_time": "2022-03-27T14:21:06.224Z"
   },
   {
    "duration": 4749,
    "start_time": "2022-03-27T14:21:07.837Z"
   },
   {
    "duration": 14492,
    "start_time": "2022-03-27T14:21:12.589Z"
   },
   {
    "duration": 89,
    "start_time": "2022-03-28T16:21:35.918Z"
   },
   {
    "duration": 1952,
    "start_time": "2022-03-28T16:24:10.499Z"
   },
   {
    "duration": 3,
    "start_time": "2022-03-28T16:24:12.454Z"
   },
   {
    "duration": 40,
    "start_time": "2022-03-28T16:24:12.463Z"
   },
   {
    "duration": 37,
    "start_time": "2022-03-28T16:24:12.505Z"
   },
   {
    "duration": 39,
    "start_time": "2022-03-28T16:24:12.543Z"
   },
   {
    "duration": 6,
    "start_time": "2022-03-28T16:24:12.584Z"
   },
   {
    "duration": 8,
    "start_time": "2022-03-28T16:24:12.592Z"
   },
   {
    "duration": 18,
    "start_time": "2022-03-28T16:24:12.603Z"
   },
   {
    "duration": 267,
    "start_time": "2022-03-28T16:24:12.625Z"
   },
   {
    "duration": 1364,
    "start_time": "2022-03-28T16:24:12.894Z"
   },
   {
    "duration": 313,
    "start_time": "2022-03-28T16:24:14.260Z"
   },
   {
    "duration": 270,
    "start_time": "2022-03-28T16:24:14.576Z"
   },
   {
    "duration": 39,
    "start_time": "2022-03-28T16:24:14.849Z"
   },
   {
    "duration": 3,
    "start_time": "2022-03-28T16:24:14.891Z"
   },
   {
    "duration": 18,
    "start_time": "2022-03-28T16:24:14.896Z"
   },
   {
    "duration": 7,
    "start_time": "2022-03-28T16:24:14.916Z"
   },
   {
    "duration": 14,
    "start_time": "2022-03-28T16:24:14.926Z"
   },
   {
    "duration": 33,
    "start_time": "2022-03-28T16:24:14.942Z"
   },
   {
    "duration": 1166,
    "start_time": "2022-03-28T16:24:14.978Z"
   },
   {
    "duration": 44647,
    "start_time": "2022-03-28T16:24:16.147Z"
   },
   {
    "duration": 10391,
    "start_time": "2022-03-28T16:25:00.796Z"
   },
   {
    "duration": 184,
    "start_time": "2022-03-28T16:25:11.190Z"
   },
   {
    "duration": 112,
    "start_time": "2022-03-28T16:25:11.378Z"
   },
   {
    "duration": 632,
    "start_time": "2022-03-28T16:25:11.492Z"
   },
   {
    "duration": 150,
    "start_time": "2022-03-28T16:25:12.126Z"
   },
   {
    "duration": 1308,
    "start_time": "2022-03-28T16:25:12.279Z"
   },
   {
    "duration": 44,
    "start_time": "2022-03-28T16:25:13.595Z"
   },
   {
    "duration": 815,
    "start_time": "2022-03-28T16:25:13.641Z"
   },
   {
    "duration": 124,
    "start_time": "2022-03-28T16:25:14.459Z"
   },
   {
    "duration": 109,
    "start_time": "2022-03-28T16:25:14.586Z"
   },
   {
    "duration": 33,
    "start_time": "2022-03-28T16:25:14.697Z"
   },
   {
    "duration": 330,
    "start_time": "2022-03-28T16:25:14.732Z"
   },
   {
    "duration": 119,
    "start_time": "2022-03-28T16:25:15.064Z"
   },
   {
    "duration": 99,
    "start_time": "2022-03-28T16:25:15.187Z"
   },
   {
    "duration": 101,
    "start_time": "2022-03-28T16:25:15.289Z"
   },
   {
    "duration": 1173,
    "start_time": "2022-03-28T16:25:15.393Z"
   },
   {
    "duration": 211,
    "start_time": "2022-03-28T16:25:16.573Z"
   },
   {
    "duration": 2020,
    "start_time": "2022-03-28T16:25:16.787Z"
   },
   {
    "duration": 180481,
    "start_time": "2022-03-28T16:25:18.811Z"
   },
   {
    "duration": 169284,
    "start_time": "2022-03-28T16:28:19.295Z"
   },
   {
    "duration": 6742,
    "start_time": "2022-03-28T16:31:08.581Z"
   },
   {
    "duration": 68276,
    "start_time": "2022-03-28T16:31:15.325Z"
   },
   {
    "duration": 7698,
    "start_time": "2022-03-28T16:32:23.604Z"
   },
   {
    "duration": 53219,
    "start_time": "2022-03-28T16:32:31.305Z"
   },
   {
    "duration": 3282,
    "start_time": "2022-03-28T16:33:24.526Z"
   },
   {
    "duration": 3244,
    "start_time": "2022-03-28T16:33:27.810Z"
   },
   {
    "duration": 1671,
    "start_time": "2022-03-28T16:33:31.057Z"
   },
   {
    "duration": 4899,
    "start_time": "2022-03-28T16:33:32.730Z"
   },
   {
    "duration": 14773,
    "start_time": "2022-03-28T16:33:37.632Z"
   }
  ],
  "kernelspec": {
   "display_name": "Python 3 (ipykernel)",
   "language": "python",
   "name": "python3"
  },
  "language_info": {
   "codemirror_mode": {
    "name": "ipython",
    "version": 3
   },
   "file_extension": ".py",
   "mimetype": "text/x-python",
   "name": "python",
   "nbconvert_exporter": "python",
   "pygments_lexer": "ipython3",
   "version": "3.9.7"
  },
  "toc": {
   "base_numbering": 1,
   "nav_menu": {},
   "number_sections": true,
   "sideBar": true,
   "skip_h1_title": true,
   "title_cell": "Содержание",
   "title_sidebar": "Contents",
   "toc_cell": true,
   "toc_position": {},
   "toc_section_display": true,
   "toc_window_display": true
  }
 },
 "nbformat": 4,
 "nbformat_minor": 2
}
