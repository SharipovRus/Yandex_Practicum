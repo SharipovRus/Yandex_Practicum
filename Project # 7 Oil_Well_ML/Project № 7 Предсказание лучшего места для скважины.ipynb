{
 "cells": [
  {
   "cell_type": "markdown",
   "metadata": {},
   "source": [
    "# Выбор локации для скважины"
   ]
  },
  {
   "cell_type": "markdown",
   "metadata": {},
   "source": [
    "Допустим, вы работаете в добывающей компании «ГлавРосГосНефть». Нужно решить, где бурить новую скважину.\n",
    "\n",
    "Вам предоставлены пробы нефти в трёх регионах: в каждом 10 000 месторождений, где измерили качество нефти и объём её запасов. Постройте модель машинного обучения, которая поможет определить регион, где добыча принесёт наибольшую прибыль. Проанализируйте возможную прибыль и риски техникой *Bootstrap.*\n",
    "\n",
    "Шаги для выбора локации:\n",
    "\n",
    "- В избранном регионе ищут месторождения, для каждого определяют значения признаков;\n",
    "- Строят модель и оценивают объём запасов;\n",
    "- Выбирают месторождения с самым высокими оценками значений. Количество месторождений зависит от бюджета компании и стоимости разработки одной скважины;\n",
    "- Прибыль равна суммарной прибыли отобранных месторождений."
   ]
  },
  {
   "cell_type": "markdown",
   "metadata": {},
   "source": [
    "План на проект: \n",
    "\n",
    "1. Изучим данные. Проведем подготовку данных для моделирования.\n",
    "2. Обучим модель для каждого отдельного региона (всего их три - geo_data_0, geo_data_1, geo_data_2)\n",
    "3. Составим функцию расчёта прибыли в регионе.\n",
    "4. Посчитать прибыль и вероять убытка за каждый регион и обосновать выбор региона. Посчитаем прибыль и риски в каждом регионе и обоснуем выбор региона. \n",
    "5. Сделать финальный вывод поп проекту"
   ]
  },
  {
   "cell_type": "markdown",
   "metadata": {},
   "source": [
    "## Загрузка и подготовка данных"
   ]
  },
  {
   "cell_type": "code",
   "execution_count": 1,
   "metadata": {},
   "outputs": [],
   "source": [
    "import matplotlib.pyplot as plt\n",
    "import numpy as np\n",
    "import pandas as pd\n",
    "from sklearn.model_selection import train_test_split\n",
    "from sklearn.linear_model import LinearRegression\n",
    "from sklearn.metrics import mean_squared_error\n",
    "from sklearn.preprocessing import StandardScaler\n",
    "from sklearn.utils import shuffle\n",
    "import warnings\n",
    "warnings.filterwarnings('ignore')"
   ]
  },
  {
   "cell_type": "markdown",
   "metadata": {},
   "source": [
    "Каждый регион предлагаю загружать в отделный датафрейм.\n"
   ]
  },
  {
   "cell_type": "code",
   "execution_count": 2,
   "metadata": {},
   "outputs": [
    {
     "name": "stdout",
     "output_type": "stream",
     "text": [
      "<class 'pandas.core.frame.DataFrame'>\n",
      "RangeIndex: 100000 entries, 0 to 99999\n",
      "Data columns (total 5 columns):\n",
      " #   Column   Non-Null Count   Dtype  \n",
      "---  ------   --------------   -----  \n",
      " 0   id       100000 non-null  object \n",
      " 1   f0       100000 non-null  float64\n",
      " 2   f1       100000 non-null  float64\n",
      " 3   f2       100000 non-null  float64\n",
      " 4   product  100000 non-null  float64\n",
      "dtypes: float64(4), object(1)\n",
      "memory usage: 3.8+ MB\n"
     ]
    }
   ],
   "source": [
    "geo_data_0 = pd.read_csv('/datasets/geo_data_0.csv')\n",
    "geo_data_0.info()"
   ]
  },
  {
   "cell_type": "code",
   "execution_count": 3,
   "metadata": {},
   "outputs": [
    {
     "name": "stdout",
     "output_type": "stream",
     "text": [
      "<class 'pandas.core.frame.DataFrame'>\n",
      "RangeIndex: 100000 entries, 0 to 99999\n",
      "Data columns (total 5 columns):\n",
      " #   Column   Non-Null Count   Dtype  \n",
      "---  ------   --------------   -----  \n",
      " 0   id       100000 non-null  object \n",
      " 1   f0       100000 non-null  float64\n",
      " 2   f1       100000 non-null  float64\n",
      " 3   f2       100000 non-null  float64\n",
      " 4   product  100000 non-null  float64\n",
      "dtypes: float64(4), object(1)\n",
      "memory usage: 3.8+ MB\n"
     ]
    }
   ],
   "source": [
    "geo_data_1 = pd.read_csv('/datasets/geo_data_1.csv')\n",
    "geo_data_1.info()"
   ]
  },
  {
   "cell_type": "code",
   "execution_count": 4,
   "metadata": {
    "scrolled": true
   },
   "outputs": [
    {
     "name": "stdout",
     "output_type": "stream",
     "text": [
      "<class 'pandas.core.frame.DataFrame'>\n",
      "RangeIndex: 100000 entries, 0 to 99999\n",
      "Data columns (total 5 columns):\n",
      " #   Column   Non-Null Count   Dtype  \n",
      "---  ------   --------------   -----  \n",
      " 0   id       100000 non-null  object \n",
      " 1   f0       100000 non-null  float64\n",
      " 2   f1       100000 non-null  float64\n",
      " 3   f2       100000 non-null  float64\n",
      " 4   product  100000 non-null  float64\n",
      "dtypes: float64(4), object(1)\n",
      "memory usage: 3.8+ MB\n"
     ]
    }
   ],
   "source": [
    "geo_data_2 = pd.read_csv('/datasets/geo_data_2.csv')\n",
    "geo_data_2.info()"
   ]
  },
  {
   "cell_type": "markdown",
   "metadata": {},
   "source": [
    "Напишу сразу функцию для проверки уникальных значений "
   ]
  },
  {
   "cell_type": "code",
   "execution_count": 5,
   "metadata": {},
   "outputs": [],
   "source": [
    "def info_columns(data_frame):\n",
    "    for column in data_frame.columns:\n",
    "        print('Уникальные значения столбца', column)\n",
    "        print(data_frame[column].unique())"
   ]
  },
  {
   "cell_type": "code",
   "execution_count": 6,
   "metadata": {},
   "outputs": [
    {
     "name": "stdout",
     "output_type": "stream",
     "text": [
      "Уникальные значения столбца id\n",
      "['txEyH' '2acmU' '409Wp' ... '3rnvd' '7kl59' '1CWhH']\n",
      "Уникальные значения столбца f0\n",
      "[0.70574498 1.33471129 1.02273226 ... 1.02958465 0.99816289 1.76475393]\n",
      "Уникальные значения столбца f1\n",
      "[-0.4978225  -0.34016425  0.15199044 ...  0.01878693 -0.52858167\n",
      " -0.26641676]\n",
      "Уникальные значения столбца f2\n",
      "[ 1.22116995  4.36508033  1.41992624 ... -1.34830814  1.58386866\n",
      "  5.72284937]\n",
      "Уникальные значения столбца product\n",
      "[105.28006184  73.03775027  85.26564713 ...  64.37544259  74.04076435\n",
      " 149.63324561]\n"
     ]
    }
   ],
   "source": [
    "info_columns(geo_data_0)"
   ]
  },
  {
   "cell_type": "code",
   "execution_count": 7,
   "metadata": {},
   "outputs": [
    {
     "name": "stdout",
     "output_type": "stream",
     "text": [
      "Уникальные значения столбца id\n",
      "['kBEdx' '62mP7' 'vyE1P' ... '09gWa' 'rqwUm' 'relB0']\n",
      "Уникальные значения столбца f0\n",
      "[-15.00134818  14.27208781   6.26318735 ...  -7.37889139   0.66571381\n",
      "  -3.42613898]\n",
      "Уникальные значения столбца f1\n",
      "[-8.27599995 -3.47508322 -5.94838579 ... -3.08410387 -6.15259286\n",
      " -7.7942742 ]\n",
      "Уникальные значения столбца f2\n",
      "[-5.87601369e-03  9.99182737e-01  5.00116016e+00 ...  4.99865060e+00\n",
      "  1.00014635e+00 -3.29851829e-03]\n",
      "Уникальные значения столбца product\n",
      "[  3.17910258  26.95326103 134.76630516 137.94540774  84.03888568\n",
      " 110.99214671  53.90652206   0.         107.81304413  57.08562465\n",
      "  30.13236361  80.85978309]\n"
     ]
    }
   ],
   "source": [
    "info_columns(geo_data_1)"
   ]
  },
  {
   "cell_type": "code",
   "execution_count": 8,
   "metadata": {
    "scrolled": true
   },
   "outputs": [
    {
     "name": "stdout",
     "output_type": "stream",
     "text": [
      "Уникальные значения столбца id\n",
      "['fwXo0' 'WJtFt' 'ovLUW' ... 'tKPY3' 'nmxp2' 'V9kWn']\n",
      "Уникальные значения столбца f0\n",
      "[-1.1469871   0.2627779   0.19458728 ... -1.19993432 -2.41989641\n",
      " -2.55142066]\n",
      "Уникальные значения столбца f1\n",
      "[ 0.96332792  0.26983896  0.289035   ... -2.95763723  2.41722066\n",
      " -2.02562514]\n",
      "Уникальные значения столбца f2\n",
      "[-0.82896492 -2.53018652 -5.58643277 ...  5.219411   -5.54844392\n",
      "  6.09089066]\n",
      "Уникальные значения столбца product\n",
      "[ 27.75867323  56.06969663  62.87191005 ... 157.08007975  51.79525299\n",
      " 102.77576749]\n"
     ]
    }
   ],
   "source": [
    "info_columns(geo_data_2)"
   ]
  },
  {
   "cell_type": "markdown",
   "metadata": {},
   "source": [
    "**ВЫВОДЫ**\n",
    "\n",
    "Значения данных:\n",
    "- id — уникальный идентификатор скважины;\n",
    "- f0, f1, f2 — три признака точек (неважно, что они означают, но сами признаки значимы);\n",
    "- product — объём запасов в скважине (тыс. баррелей).\n",
    "\n",
    "Выводы по данным:\n",
    "- пропущенные значения отсутствуют \n",
    "- столбец id не нужен, предлагаю его удалить "
   ]
  },
  {
   "cell_type": "markdown",
   "metadata": {},
   "source": [
    "Удаляем стоблец id"
   ]
  },
  {
   "cell_type": "code",
   "execution_count": 9,
   "metadata": {},
   "outputs": [],
   "source": [
    "geo_data_0 = geo_data_0.drop(['id'], axis=1)\n",
    "geo_data_1 = geo_data_1.drop(['id'], axis=1)\n",
    "geo_data_2 = geo_data_2.drop(['id'], axis=1)"
   ]
  },
  {
   "cell_type": "markdown",
   "metadata": {},
   "source": [
    "Создадим функцию для проверки количества нулевых значения и выведем это в процентном содержании "
   ]
  },
  {
   "cell_type": "code",
   "execution_count": 10,
   "metadata": {},
   "outputs": [],
   "source": [
    "def check_zeros(df, target_name):\n",
    "    zeros = df[df[target_name] == 0][target_name].count()\n",
    "    percent = zeros / df.shape[0]\n",
    "    print('Количество нулевых значений -', zeros)\n",
    "    print('Процент нулевых значений -', percent)"
   ]
  },
  {
   "cell_type": "code",
   "execution_count": 11,
   "metadata": {},
   "outputs": [
    {
     "name": "stdout",
     "output_type": "stream",
     "text": [
      "Количество нулевых значений - 1\n",
      "Процент нулевых значений - 1e-05\n"
     ]
    }
   ],
   "source": [
    "check_zeros(geo_data_0, 'product')"
   ]
  },
  {
   "cell_type": "code",
   "execution_count": 12,
   "metadata": {},
   "outputs": [
    {
     "name": "stdout",
     "output_type": "stream",
     "text": [
      "Количество нулевых значений - 8235\n",
      "Процент нулевых значений - 0.08235\n"
     ]
    }
   ],
   "source": [
    "check_zeros(geo_data_1, 'product')"
   ]
  },
  {
   "cell_type": "code",
   "execution_count": 13,
   "metadata": {},
   "outputs": [
    {
     "name": "stdout",
     "output_type": "stream",
     "text": [
      "Количество нулевых значений - 1\n",
      "Процент нулевых значений - 1e-05\n"
     ]
    }
   ],
   "source": [
    "check_zeros(geo_data_2, 'product')"
   ]
  },
  {
   "cell_type": "code",
   "execution_count": 14,
   "metadata": {
    "scrolled": true
   },
   "outputs": [
    {
     "data": {
      "text/html": [
       "<div>\n",
       "<style scoped>\n",
       "    .dataframe tbody tr th:only-of-type {\n",
       "        vertical-align: middle;\n",
       "    }\n",
       "\n",
       "    .dataframe tbody tr th {\n",
       "        vertical-align: top;\n",
       "    }\n",
       "\n",
       "    .dataframe thead th {\n",
       "        text-align: right;\n",
       "    }\n",
       "</style>\n",
       "<table border=\"1\" class=\"dataframe\">\n",
       "  <thead>\n",
       "    <tr style=\"text-align: right;\">\n",
       "      <th></th>\n",
       "      <th>f0</th>\n",
       "      <th>f1</th>\n",
       "      <th>f2</th>\n",
       "      <th>product</th>\n",
       "    </tr>\n",
       "  </thead>\n",
       "  <tbody>\n",
       "    <tr>\n",
       "      <th>57263</th>\n",
       "      <td>-0.702064</td>\n",
       "      <td>0.375992</td>\n",
       "      <td>0.236572</td>\n",
       "      <td>0.0</td>\n",
       "    </tr>\n",
       "  </tbody>\n",
       "</table>\n",
       "</div>"
      ],
      "text/plain": [
       "             f0        f1        f2  product\n",
       "57263 -0.702064  0.375992  0.236572      0.0"
      ]
     },
     "execution_count": 14,
     "metadata": {},
     "output_type": "execute_result"
    }
   ],
   "source": [
    "geo_data_0[geo_data_0['product'] == 0]"
   ]
  },
  {
   "cell_type": "code",
   "execution_count": 15,
   "metadata": {
    "scrolled": true
   },
   "outputs": [
    {
     "data": {
      "text/html": [
       "<div>\n",
       "<style scoped>\n",
       "    .dataframe tbody tr th:only-of-type {\n",
       "        vertical-align: middle;\n",
       "    }\n",
       "\n",
       "    .dataframe tbody tr th {\n",
       "        vertical-align: top;\n",
       "    }\n",
       "\n",
       "    .dataframe thead th {\n",
       "        text-align: right;\n",
       "    }\n",
       "</style>\n",
       "<table border=\"1\" class=\"dataframe\">\n",
       "  <thead>\n",
       "    <tr style=\"text-align: right;\">\n",
       "      <th></th>\n",
       "      <th>f0</th>\n",
       "      <th>f1</th>\n",
       "      <th>f2</th>\n",
       "      <th>product</th>\n",
       "    </tr>\n",
       "  </thead>\n",
       "  <tbody>\n",
       "    <tr>\n",
       "      <th>11</th>\n",
       "      <td>16.320755</td>\n",
       "      <td>-0.562946</td>\n",
       "      <td>-0.001783</td>\n",
       "      <td>0.0</td>\n",
       "    </tr>\n",
       "    <tr>\n",
       "      <th>13</th>\n",
       "      <td>6.695604</td>\n",
       "      <td>-0.749449</td>\n",
       "      <td>-0.007630</td>\n",
       "      <td>0.0</td>\n",
       "    </tr>\n",
       "    <tr>\n",
       "      <th>62</th>\n",
       "      <td>21.418478</td>\n",
       "      <td>-5.134490</td>\n",
       "      <td>-0.002836</td>\n",
       "      <td>0.0</td>\n",
       "    </tr>\n",
       "    <tr>\n",
       "      <th>63</th>\n",
       "      <td>6.822701</td>\n",
       "      <td>3.104979</td>\n",
       "      <td>-0.000723</td>\n",
       "      <td>0.0</td>\n",
       "    </tr>\n",
       "    <tr>\n",
       "      <th>77</th>\n",
       "      <td>6.750150</td>\n",
       "      <td>-11.893512</td>\n",
       "      <td>-0.001601</td>\n",
       "      <td>0.0</td>\n",
       "    </tr>\n",
       "    <tr>\n",
       "      <th>...</th>\n",
       "      <td>...</td>\n",
       "      <td>...</td>\n",
       "      <td>...</td>\n",
       "      <td>...</td>\n",
       "    </tr>\n",
       "    <tr>\n",
       "      <th>99936</th>\n",
       "      <td>5.085749</td>\n",
       "      <td>-3.980305</td>\n",
       "      <td>0.005063</td>\n",
       "      <td>0.0</td>\n",
       "    </tr>\n",
       "    <tr>\n",
       "      <th>99948</th>\n",
       "      <td>8.277805</td>\n",
       "      <td>-9.178818</td>\n",
       "      <td>0.003275</td>\n",
       "      <td>0.0</td>\n",
       "    </tr>\n",
       "    <tr>\n",
       "      <th>99956</th>\n",
       "      <td>13.343983</td>\n",
       "      <td>-1.290200</td>\n",
       "      <td>0.005980</td>\n",
       "      <td>0.0</td>\n",
       "    </tr>\n",
       "    <tr>\n",
       "      <th>99961</th>\n",
       "      <td>13.854163</td>\n",
       "      <td>-11.528089</td>\n",
       "      <td>-0.005556</td>\n",
       "      <td>0.0</td>\n",
       "    </tr>\n",
       "    <tr>\n",
       "      <th>99973</th>\n",
       "      <td>12.698645</td>\n",
       "      <td>-4.384673</td>\n",
       "      <td>-0.002600</td>\n",
       "      <td>0.0</td>\n",
       "    </tr>\n",
       "  </tbody>\n",
       "</table>\n",
       "<p>8235 rows × 4 columns</p>\n",
       "</div>"
      ],
      "text/plain": [
       "              f0         f1        f2  product\n",
       "11     16.320755  -0.562946 -0.001783      0.0\n",
       "13      6.695604  -0.749449 -0.007630      0.0\n",
       "62     21.418478  -5.134490 -0.002836      0.0\n",
       "63      6.822701   3.104979 -0.000723      0.0\n",
       "77      6.750150 -11.893512 -0.001601      0.0\n",
       "...          ...        ...       ...      ...\n",
       "99936   5.085749  -3.980305  0.005063      0.0\n",
       "99948   8.277805  -9.178818  0.003275      0.0\n",
       "99956  13.343983  -1.290200  0.005980      0.0\n",
       "99961  13.854163 -11.528089 -0.005556      0.0\n",
       "99973  12.698645  -4.384673 -0.002600      0.0\n",
       "\n",
       "[8235 rows x 4 columns]"
      ]
     },
     "execution_count": 15,
     "metadata": {},
     "output_type": "execute_result"
    }
   ],
   "source": [
    "geo_data_1[geo_data_1['product'] == 0]"
   ]
  },
  {
   "cell_type": "code",
   "execution_count": 16,
   "metadata": {},
   "outputs": [
    {
     "data": {
      "text/html": [
       "<div>\n",
       "<style scoped>\n",
       "    .dataframe tbody tr th:only-of-type {\n",
       "        vertical-align: middle;\n",
       "    }\n",
       "\n",
       "    .dataframe tbody tr th {\n",
       "        vertical-align: top;\n",
       "    }\n",
       "\n",
       "    .dataframe thead th {\n",
       "        text-align: right;\n",
       "    }\n",
       "</style>\n",
       "<table border=\"1\" class=\"dataframe\">\n",
       "  <thead>\n",
       "    <tr style=\"text-align: right;\">\n",
       "      <th></th>\n",
       "      <th>f0</th>\n",
       "      <th>f1</th>\n",
       "      <th>f2</th>\n",
       "      <th>product</th>\n",
       "    </tr>\n",
       "  </thead>\n",
       "  <tbody>\n",
       "    <tr>\n",
       "      <th>68149</th>\n",
       "      <td>-0.865596</td>\n",
       "      <td>-1.615247</td>\n",
       "      <td>-4.126441</td>\n",
       "      <td>0.0</td>\n",
       "    </tr>\n",
       "  </tbody>\n",
       "</table>\n",
       "</div>"
      ],
      "text/plain": [
       "             f0        f1        f2  product\n",
       "68149 -0.865596 -1.615247 -4.126441      0.0"
      ]
     },
     "execution_count": 16,
     "metadata": {},
     "output_type": "execute_result"
    }
   ],
   "source": [
    "geo_data_2[geo_data_2['product'] == 0]"
   ]
  },
  {
   "cell_type": "markdown",
   "metadata": {},
   "source": [
    "Построим гистрограмы для данных по столбцу product"
   ]
  },
  {
   "cell_type": "code",
   "execution_count": 17,
   "metadata": {},
   "outputs": [],
   "source": [
    "def oil_hist(seria, bins, xlim_max, ylim_max):\n",
    "    plt.figure(figsize=[12,9])\n",
    "\n",
    "    plt.hist(seria, bins=bins)\n",
    "\n",
    "    plt.xlim([0,xlim_max])\n",
    "    plt.ylim([0,ylim_max])\n",
    "\n",
    "    plt.xlabel(\"Объем нефти на скважину, тыс. барелей\")\n",
    "    plt.ylabel(\"Количество скважин\")\n",
    "\n",
    "    plt.title(\"Гистограмма распределения по объему скважин\")\n",
    "    plt.show()"
   ]
  },
  {
   "cell_type": "code",
   "execution_count": 18,
   "metadata": {
    "scrolled": false
   },
   "outputs": [
    {
     "data": {
      "image/png": "[encoded data removed]",
      "text/plain": [
       "<Figure size 864x648 with 1 Axes>"
      ]
     },
     "metadata": {
      "needs_background": "light"
     },
     "output_type": "display_data"
    }
   ],
   "source": [
    "oil_hist(geo_data_0['product'], 200, 190, 1000)"
   ]
  },
  {
   "cell_type": "code",
   "execution_count": 19,
   "metadata": {},
   "outputs": [
    {
     "data": {
      "image/png": "[encoded data removed]",
      "text/plain": [
       "<Figure size 864x648 with 1 Axes>"
      ]
     },
     "metadata": {
      "needs_background": "light"
     },
     "output_type": "display_data"
    }
   ],
   "source": [
    "oil_hist(geo_data_1['product'], 200, 190, 1000)"
   ]
  },
  {
   "cell_type": "code",
   "execution_count": 20,
   "metadata": {},
   "outputs": [
    {
     "data": {
      "image/png": "[encoded data removed]",
      "text/plain": [
       "<Figure size 864x648 with 1 Axes>"
      ]
     },
     "metadata": {
      "needs_background": "light"
     },
     "output_type": "display_data"
    }
   ],
   "source": [
    "oil_hist(geo_data_1['product'], 50, 150, 10000)"
   ]
  },
  {
   "cell_type": "code",
   "execution_count": 21,
   "metadata": {
    "scrolled": false
   },
   "outputs": [
    {
     "data": {
      "image/png": "[encoded data removed]",
      "text/plain": [
       "<Figure size 864x648 with 1 Axes>"
      ]
     },
     "metadata": {
      "needs_background": "light"
     },
     "output_type": "display_data"
    }
   ],
   "source": [
    "oil_hist(geo_data_2['product'], 200, 190, 1000)"
   ]
  },
  {
   "cell_type": "markdown",
   "metadata": {},
   "source": [
    "\n",
    "Признаками для модели будут:\n",
    "\n",
    "- f0\n",
    "- f1\n",
    "- f2\n",
    "\n",
    "Целевым признаком является - product "
   ]
  },
  {
   "cell_type": "markdown",
   "metadata": {},
   "source": [
    "### ВЫВОДЫ ПО 1 ПУНКТУ\n",
    "\n"
   ]
  },
  {
   "cell_type": "markdown",
   "metadata": {},
   "source": [
    "- Данные подготовили к обучению. \n",
    "- Во втором месторождении (geo_data_1) около 8% месторождений не имеет значения в столбце product. Сравнивая такие же значения из первого и третьего месторождений можем догадаться о том, что данные либо потеряли, либо их даже не исследовали (кол-во барелей нефти в этом регионе)\n",
    "- По гистрограммам можем сдлеать вывод, что 1 и 3 месторождения распредления скажин близко к нормальному. Во втором же регионе распрпделение достаточно странное : от 0 до 5 барррелей(с шагом 15-20) равномерно распределились 100000 значений. \n"
   ]
  },
  {
   "cell_type": "markdown",
   "metadata": {},
   "source": [
    "## Обучение и проверка модели"
   ]
  },
  {
   "cell_type": "markdown",
   "metadata": {},
   "source": [
    "Бдуем проверять качество можели линейной регрессии с текущими значениями признаков и будем масштабировать. Проверять будем на первом месторождении - geo_data_0.\n",
    "\n",
    "Выполним разбивку неподготовленного датафрейма"
   ]
  },
  {
   "cell_type": "code",
   "execution_count": 22,
   "metadata": {},
   "outputs": [],
   "source": [
    "def test_split(df, target):\n",
    "    features = df.drop([target] , axis=1)\n",
    "    target = df[target]\n",
    "\n",
    "    features_train, features_valid, target_train, target_valid = train_test_split(\n",
    "    features, target, test_size=0.25, random_state=123456)\n",
    "    \n",
    "    return features_train, features_valid, target_train, target_valid"
   ]
  },
  {
   "cell_type": "code",
   "execution_count": 23,
   "metadata": {
    "scrolled": true
   },
   "outputs": [
    {
     "data": {
      "text/html": [
       "<div>\n",
       "<style scoped>\n",
       "    .dataframe tbody tr th:only-of-type {\n",
       "        vertical-align: middle;\n",
       "    }\n",
       "\n",
       "    .dataframe tbody tr th {\n",
       "        vertical-align: top;\n",
       "    }\n",
       "\n",
       "    .dataframe thead th {\n",
       "        text-align: right;\n",
       "    }\n",
       "</style>\n",
       "<table border=\"1\" class=\"dataframe\">\n",
       "  <thead>\n",
       "    <tr style=\"text-align: right;\">\n",
       "      <th></th>\n",
       "      <th>f0</th>\n",
       "      <th>f1</th>\n",
       "      <th>f2</th>\n",
       "    </tr>\n",
       "  </thead>\n",
       "  <tbody>\n",
       "    <tr>\n",
       "      <th>1240</th>\n",
       "      <td>0.619115</td>\n",
       "      <td>-0.464264</td>\n",
       "      <td>1.387821</td>\n",
       "    </tr>\n",
       "    <tr>\n",
       "      <th>90593</th>\n",
       "      <td>0.591996</td>\n",
       "      <td>-0.423919</td>\n",
       "      <td>0.723207</td>\n",
       "    </tr>\n",
       "    <tr>\n",
       "      <th>73055</th>\n",
       "      <td>0.017411</td>\n",
       "      <td>0.383767</td>\n",
       "      <td>1.967807</td>\n",
       "    </tr>\n",
       "    <tr>\n",
       "      <th>27446</th>\n",
       "      <td>-0.187932</td>\n",
       "      <td>0.886578</td>\n",
       "      <td>1.557773</td>\n",
       "    </tr>\n",
       "    <tr>\n",
       "      <th>52526</th>\n",
       "      <td>-0.411091</td>\n",
       "      <td>0.943768</td>\n",
       "      <td>-0.656031</td>\n",
       "    </tr>\n",
       "  </tbody>\n",
       "</table>\n",
       "</div>"
      ],
      "text/plain": [
       "             f0        f1        f2\n",
       "1240   0.619115 -0.464264  1.387821\n",
       "90593  0.591996 -0.423919  0.723207\n",
       "73055  0.017411  0.383767  1.967807\n",
       "27446 -0.187932  0.886578  1.557773\n",
       "52526 -0.411091  0.943768 -0.656031"
      ]
     },
     "execution_count": 23,
     "metadata": {},
     "output_type": "execute_result"
    }
   ],
   "source": [
    "features_train_0, features_valid_0, target_train_0, target_valid_0 = test_split(geo_data_0, 'product')\n",
    "\n",
    "features_train_0.head()"
   ]
  },
  {
   "cell_type": "code",
   "execution_count": 24,
   "metadata": {},
   "outputs": [],
   "source": [
    "def test_split_scaled(df, numeric, target):\n",
    "    geo_data_s = df.copy()\n",
    "\n",
    "    features_s = geo_data_s.drop([target] , axis=1)\n",
    "    target_s = geo_data_s[target]\n",
    "\n",
    "    features_train_s, features_valid_s, target_train_s, target_valid_s = train_test_split(\n",
    "        features_s, target_s, test_size=0.25, random_state=123456)\n",
    "\n",
    "    scaler = StandardScaler()\n",
    "    scaler.fit(features_train_s[numeric])\n",
    "    features_train_s[numeric] = scaler.transform(features_train_s[numeric])\n",
    "    features_valid_s[numeric] = scaler.transform(features_valid_s[numeric])\n",
    "\n",
    "    return features_train_s, features_valid_s, target_train_s, target_valid_s"
   ]
  },
  {
   "cell_type": "markdown",
   "metadata": {},
   "source": [
    "- features - данные без масштаба\n",
    "- features_s - данные с масштабом"
   ]
  },
  {
   "cell_type": "markdown",
   "metadata": {},
   "source": [
    "Попробуем провести обучение без изменения данных"
   ]
  },
  {
   "cell_type": "code",
   "execution_count": 25,
   "metadata": {
    "scrolled": true
   },
   "outputs": [
    {
     "name": "stdout",
     "output_type": "stream",
     "text": [
      "RMSE : 37.80046993478272\n"
     ]
    }
   ],
   "source": [
    "model = LinearRegression()\n",
    "\n",
    "model.fit(features_train_0, target_train_0)\n",
    "predicted_target_0 = model.predict(features_valid_0)\n",
    "print('RMSE :', mean_squared_error(target_valid_0, predicted_target_0)**0.5)"
   ]
  },
  {
   "cell_type": "markdown",
   "metadata": {},
   "source": [
    "Проверим каково RMSE на маштабированных данных."
   ]
  },
  {
   "cell_type": "code",
   "execution_count": 26,
   "metadata": {},
   "outputs": [
    {
     "name": "stdout",
     "output_type": "stream",
     "text": [
      "RMSE : 37.80046993478272\n"
     ]
    }
   ],
   "source": [
    "features_train_0s, features_valid_0s, target_train_0s, target_valid_0s = test_split_scaled(\n",
    "                                                                        geo_data_0, ['f0', 'f1', 'f2'], 'product')\n",
    "model.fit(features_train_0s, target_train_0s)\n",
    "predicted_target_0s = model.predict(features_valid_0s)\n",
    "print('RMSE :', mean_squared_error(target_valid_0s, predicted_target_0s)**0.5)"
   ]
  },
  {
   "cell_type": "code",
   "execution_count": 27,
   "metadata": {
    "scrolled": true
   },
   "outputs": [
    {
     "name": "stdout",
     "output_type": "stream",
     "text": [
      "RMSE : 0.8904933206270059\n",
      "RMSE : 0.8904933206270059\n"
     ]
    }
   ],
   "source": [
    "features_train_1, features_valid_1, target_train_1, target_valid_1 = test_split(geo_data_1, 'product')\n",
    "model.fit(features_train_1, target_train_1)\n",
    "predicted_target_1 = model.predict(features_valid_1)\n",
    "print('RMSE :', mean_squared_error(target_valid_1, predicted_target_1)**0.5)\n",
    "\n",
    "features_train_1s, features_valid_1s, target_train_1s, target_valid_1s = test_split_scaled(\n",
    "                                                                        geo_data_1, ['f0', 'f1', 'f2'], 'product')\n",
    "model.fit(features_train_1s, target_train_1s)\n",
    "predicted_target_1s = model.predict(features_valid_1s)\n",
    "print('RMSE :', mean_squared_error(target_valid_1s, predicted_target_1s)**0.5)"
   ]
  },
  {
   "cell_type": "code",
   "execution_count": 28,
   "metadata": {},
   "outputs": [
    {
     "name": "stdout",
     "output_type": "stream",
     "text": [
      "RMSE : 39.98039278339241\n",
      "RMSE : 39.98039278339241\n"
     ]
    }
   ],
   "source": [
    "features_train_2, features_valid_2, target_train_2, target_valid_2 = test_split(geo_data_2, 'product')\n",
    "model.fit(features_train_2, target_train_2)\n",
    "predicted_target_2 = model.predict(features_valid_2)\n",
    "print('RMSE :', mean_squared_error(target_valid_2, predicted_target_2)**0.5)\n",
    "\n",
    "features_train_2s, features_valid_2s, target_train_2s, target_valid_2s = test_split_scaled(\n",
    "                                                                        geo_data_2, ['f0', 'f1', 'f2'], 'product')\n",
    "model.fit(features_train_2s, target_train_2s)\n",
    "predicted_target_2s = model.predict(features_valid_2s)\n",
    "print('RMSE :', mean_squared_error(target_valid_2s, predicted_target_2s)**0.5)"
   ]
  },
  {
   "cell_type": "markdown",
   "metadata": {},
   "source": [
    "- Не похоже, что нам понадобится масштабировать данные. Предлагаю проверить показатель RMSE на других гиперпараметрах модели."
   ]
  },
  {
   "cell_type": "code",
   "execution_count": 29,
   "metadata": {},
   "outputs": [
    {
     "name": "stdout",
     "output_type": "stream",
     "text": [
      "RMSE : 37.80046993478272\n"
     ]
    }
   ],
   "source": [
    "model = LinearRegression(normalize=True)\n",
    "model.fit(features_train_0, target_train_0)\n",
    "predicted_target_0 = model.predict(features_valid_0)\n",
    "print('RMSE :', mean_squared_error(target_valid_0, predicted_target_0)**0.5)"
   ]
  },
  {
   "cell_type": "code",
   "execution_count": 30,
   "metadata": {},
   "outputs": [
    {
     "name": "stdout",
     "output_type": "stream",
     "text": [
      "RMSE : 61.22702378798092\n"
     ]
    }
   ],
   "source": [
    "model = LinearRegression(fit_intercept=False)\n",
    "model.fit(features_train_0, target_train_0)\n",
    "predicted_target_0 = model.predict(features_valid_0)\n",
    "print('RMSE :', mean_squared_error(target_valid_0, predicted_target_0)**0.5)"
   ]
  },
  {
   "cell_type": "markdown",
   "metadata": {},
   "source": [
    "Изменим стандартные значения гиперпараметров не улучшило нашу модель. \n",
    "\n",
    "Далее сделаем вывод предсказанного запаса с реальными и выведем RMSE."
   ]
  },
  {
   "cell_type": "code",
   "execution_count": 31,
   "metadata": {},
   "outputs": [],
   "source": [
    "model = LinearRegression()\n",
    "\n",
    "def oil_predict(df, target_name):\n",
    "    features = df.drop([target_name] , axis=1)\n",
    "    target = df[target_name]\n",
    "    \n",
    "    features_train, features_valid, target_train, target_valid = train_test_split(\n",
    "    features, target, test_size=0.25, random_state=123456)\n",
    "    \n",
    "    model.fit(features_train, target_train)\n",
    "    predicted_target = model.predict(features_valid)\n",
    "    data = {'real_product' : target_valid,\n",
    "            'predicted_product' : predicted_target         \n",
    "    }\n",
    "    data_frame = pd.DataFrame(data, columns = ['real_product', 'predicted_product'])\n",
    "    rmse = mean_squared_error(target_valid, predicted_target)**0.5\n",
    "    mean = data_frame['predicted_product'].mean()\n",
    "    oil_sum = data_frame['predicted_product'].sum()\n",
    "    return data_frame, rmse, mean, oil_sum"
   ]
  },
  {
   "cell_type": "code",
   "execution_count": 32,
   "metadata": {
    "scrolled": true
   },
   "outputs": [
    {
     "name": "stdout",
     "output_type": "stream",
     "text": [
      "       real_product  predicted_product\n",
      "65946     29.223158         101.698350\n",
      "68716    137.244279          78.115855\n",
      "75823    121.712971         105.592008\n",
      "57450    134.701674          88.599469\n",
      "1628      57.202133          59.039315\n",
      "RMSE - 37.80046993478272\n",
      "Средний запас запасанного сырья : 92.49286560032228\n"
     ]
    }
   ],
   "source": [
    "geo_data_0_predicted, geo_data_0_rmse, geo_data_0_predicted_mean, geo_data_0_predicted_sum = oil_predict(geo_data_0, 'product')\n",
    "print(geo_data_0_predicted.head())\n",
    "print('RMSE -', geo_data_0_rmse)\n",
    "print('Средний запас запасанного сырья :', geo_data_0_predicted_mean)"
   ]
  },
  {
   "cell_type": "code",
   "execution_count": 33,
   "metadata": {
    "scrolled": true
   },
   "outputs": [
    {
     "name": "stdout",
     "output_type": "stream",
     "text": [
      "       real_product  predicted_product\n",
      "65946     84.038886          83.993838\n",
      "68716      3.179103           3.527256\n",
      "75823      0.000000          -1.184247\n",
      "57450    110.992147         110.492034\n",
      "1628      57.085625          56.510342\n",
      "RMSE - 0.8904933206270059\n",
      "Средний запас запасанного сырья : 69.03055429593262\n"
     ]
    }
   ],
   "source": [
    "geo_data_1_predicted, geo_data_1_rmse, geo_data_1_predicted_mean, geo_data_1_predicted_sum = oil_predict(geo_data_1, 'product')\n",
    "print(geo_data_1_predicted.head())\n",
    "print('RMSE -', geo_data_1_rmse)\n",
    "print('Средний запас запасанного сырья :', geo_data_1_predicted_mean)"
   ]
  },
  {
   "cell_type": "code",
   "execution_count": 34,
   "metadata": {
    "scrolled": true
   },
   "outputs": [
    {
     "name": "stdout",
     "output_type": "stream",
     "text": [
      "       real_product  predicted_product\n",
      "65946     63.522508          82.377188\n",
      "68716    109.720926          89.656294\n",
      "75823    130.201741          87.699418\n",
      "57450     29.057989          84.206149\n",
      "1628      77.404805          61.549298\n",
      "RMSE - 39.98039278339241\n",
      "Средний запас запасанного сырья : 94.84835708988287\n"
     ]
    }
   ],
   "source": [
    "geo_data_2_predicted, geo_data_2_rmse, geo_data_2_predicted_mean, geo_data_2_predicted_sum = oil_predict(geo_data_2, 'product')\n",
    "print(geo_data_2_predicted.head())\n",
    "print('RMSE -', geo_data_2_rmse)\n",
    "print('Средний запас запасанного сырья :', geo_data_2_predicted_mean)"
   ]
  },
  {
   "cell_type": "markdown",
   "metadata": {},
   "source": [
    "Посмторим общий запас на каждый регио по предсказанным данным"
   ]
  },
  {
   "cell_type": "code",
   "execution_count": 35,
   "metadata": {
    "scrolled": true
   },
   "outputs": [
    {
     "name": "stdout",
     "output_type": "stream",
     "text": [
      "Суммарный предсказанный запас в позиции 0 : 2312321.640008057\n",
      "Суммарный реальный запас в позиции 0 : 2329745.403482835\n",
      "\n",
      "Суммарный предсказанный запас в позиции 1 : 1725763.8573983153\n",
      "Суммарный реальный запас в позиции 1 : 1725686.9606435746\n",
      "\n",
      "Суммарный предсказанный запас в позиции 2 : 2371208.9272470716\n",
      "Суммарный реальный запас в позиции 2 : 2374453.25313946\n"
     ]
    }
   ],
   "source": [
    "print('Суммарный предсказанный запас в позиции 0 :', geo_data_0_predicted_sum)\n",
    "print('Суммарный реальный запас в позиции 0 :', geo_data_0_predicted['real_product'].sum())\n",
    "print()\n",
    "print('Суммарный предсказанный запас в позиции 1 :', geo_data_1_predicted_sum)\n",
    "print('Суммарный реальный запас в позиции 1 :', geo_data_1_predicted['real_product'].sum())\n",
    "print()\n",
    "print('Суммарный предсказанный запас в позиции 2 :', geo_data_2_predicted_sum)\n",
    "print('Суммарный реальный запас в позиции 2 :', geo_data_2_predicted['real_product'].sum())"
   ]
  },
  {
   "cell_type": "markdown",
   "metadata": {},
   "source": [
    "### ВЫВОДЫ ПО 2 ПУНКТУ"
   ]
  },
  {
   "cell_type": "markdown",
   "metadata": {},
   "source": [
    "- Данные предсказаний о количестве нефти по сумме примерно совпадают по сумме предсказанных значений. Лучшего всего модель предскаывает запасы во втором регионе со значением RMSE - 0.89\n",
    "- Могу конечно делать ставку на то, что утерянные данные из второго региона сказзались на модели и она сильно переобучилась у меня ¯\\_(ツ)_/¯\n",
    "- Из-за утерянных данных и малого запаса в среднем на второе месторождение не вижу смысла рассматривать его как прибыльное. \n",
    "- Изучать на прибыль и риски будем все регионы всё равно, но думаю выбор будет между 1 или 3 регионом. "
   ]
  },
  {
   "cell_type": "markdown",
   "metadata": {},
   "source": [
    "## Подготовка к расчёту прибыли"
   ]
  },
  {
   "cell_type": "code",
   "execution_count": 36,
   "metadata": {},
   "outputs": [],
   "source": [
    "budget = 1e+07\n",
    "chosen_points = 500\n",
    "best_points = 200\n",
    "price_per_barrel = 450"
   ]
  },
  {
   "cell_type": "markdown",
   "metadata": {},
   "source": [
    "Рассчитаем выручку сырья на 200 месторождениях. Найдём среднее кол-во продукта в месторождениях необходимое для этого"
   ]
  },
  {
   "cell_type": "code",
   "execution_count": 37,
   "metadata": {},
   "outputs": [
    {
     "name": "stdout",
     "output_type": "stream",
     "text": [
      "Средняя прибыль на лучшую точку : 50000.0 тыс.руб.\n",
      "Средний объем нефти на точку : 111.11111111111111 тыс. барелей\n",
      "Средний объем нефти на регион : 22222.222222222223 тыс. барелей\n"
     ]
    }
   ],
   "source": [
    "average_profit_per_point = budget / best_points\n",
    "print('Средняя прибыль на лучшую точку :', average_profit_per_point, 'тыс.руб.')\n",
    "\n",
    "average_barrels_per_point = average_profit_per_point  / price_per_barrel\n",
    "print('Средний объем нефти на точку :',average_barrels_per_point, 'тыс. барелей')\n",
    "\n",
    "average_barrels = budget / price_per_barrel\n",
    "print('Средний объем нефти на регион :',average_barrels, 'тыс. барелей')"
   ]
  },
  {
   "cell_type": "code",
   "execution_count": 38,
   "metadata": {
    "scrolled": true
   },
   "outputs": [
    {
     "name": "stdout",
     "output_type": "stream",
     "text": [
      "Средний запас фактичекой нефти на скважину в регионе 1 92.50000000000001\n",
      "Средний запас фактичекой нефти на скважину в регионе 2 68.82500000000002\n",
      "Средний запас фактичекой нефти на скважину в регионе 3 95.00000000000004\n"
     ]
    }
   ],
   "source": [
    "print('Средний запас фактичекой нефти на скважину в регионе 1', geo_data_0['product'].mean())\n",
    "print('Средний запас фактичекой нефти на скважину в регионе 2', geo_data_1['product'].mean())\n",
    "print('Средний запас фактичекой нефти на скважину в регионе 3', geo_data_2['product'].mean())"
   ]
  },
  {
   "cell_type": "markdown",
   "metadata": {},
   "source": [
    " Создадим функцию для расчёта прибыли для 500 равзведанных точек и построим гистгограммы длярасперделения предсказанны значений"
   ]
  },
  {
   "cell_type": "code",
   "execution_count": 39,
   "metadata": {},
   "outputs": [],
   "source": [
    "def oil_profit_calculation(target, probabilities, count):\n",
    "    probs_sorted = probabilities.sort_values(ascending=False)\n",
    "    selected = target[probs_sorted.index][:count]\n",
    "    return price_per_barrel * selected.sum() - budget"
   ]
  },
  {
   "cell_type": "code",
   "execution_count": 40,
   "metadata": {
    "scrolled": false
   },
   "outputs": [
    {
     "data": {
      "image/png": "[encoded data removed]",
      "text/plain": [
       "<Figure size 864x648 with 1 Axes>"
      ]
     },
     "metadata": {
      "needs_background": "light"
     },
     "output_type": "display_data"
    }
   ],
   "source": [
    "oil_hist(geo_data_0_predicted['predicted_product'], 200, 190, 500)"
   ]
  },
  {
   "cell_type": "code",
   "execution_count": 41,
   "metadata": {
    "scrolled": false
   },
   "outputs": [
    {
     "data": {
      "image/png": "[encoded data removed]",
      "text/plain": [
       "<Figure size 864x648 with 1 Axes>"
      ]
     },
     "metadata": {
      "needs_background": "light"
     },
     "output_type": "display_data"
    }
   ],
   "source": [
    "oil_hist(geo_data_1_predicted['predicted_product'], 20, 150, 5000)"
   ]
  },
  {
   "cell_type": "code",
   "execution_count": 42,
   "metadata": {
    "scrolled": false
   },
   "outputs": [
    {
     "data": {
      "image/png": "[encoded data removed]",
      "text/plain": [
       "<Figure size 864x648 with 1 Axes>"
      ]
     },
     "metadata": {
      "needs_background": "light"
     },
     "output_type": "display_data"
    }
   ],
   "source": [
    "oil_hist(geo_data_2_predicted['predicted_product'], 200, 190, 500)"
   ]
  },
  {
   "cell_type": "markdown",
   "metadata": {},
   "source": [
    "### ВЫВОДЫ ПО 3 ПУНКТУ\n"
   ]
  },
  {
   "cell_type": "markdown",
   "metadata": {},
   "source": [
    "- Подготовили среднюю оценку прибыли на скважину и средний объём нефти на скважину. Создали фунцию для расчёта прибыли.\n",
    "- Изучили средние фактические запасы. Для 1 и 3 региона имеется высокая вероятность окупить затраты. Разброс значений вокруг среднего (около 95) говорит о том, что существует большое количество скважин, где запасы большег необходимого среднего\n",
    "- Во втором регионе значений больше 100 достаточно много, но среднее значение всего около 70."
   ]
  },
  {
   "cell_type": "markdown",
   "metadata": {},
   "source": [
    "## Расчёт прибыли и рисков "
   ]
  },
  {
   "cell_type": "code",
   "execution_count": 43,
   "metadata": {},
   "outputs": [],
   "source": [
    "state = np.random.RandomState(123456)\n",
    "def bootstrap_1000(target, probs):\n",
    "    values=[]\n",
    "    lost = 0\n",
    "    for i in range(1000):\n",
    "        target_sample = target.sample(replace=True, random_state=state, n=chosen_points)\n",
    "        probs_sample = probs[target_sample.index]\n",
    "        profit = oil_profit_calculation(target, probs_sample, best_points)\n",
    "        if profit < 0:\n",
    "            lost +=1\n",
    "        values.append(profit)\n",
    "    \n",
    "    values = pd.Series(values)\n",
    "    lower = values.quantile(0.025)\n",
    "    upper = values.quantile(0.975)\n",
    "    average = values.mean()\n",
    "    risk = lost / 1000\n",
    "    return average, lower, upper, risk"
   ]
  },
  {
   "cell_type": "code",
   "execution_count": 44,
   "metadata": {
    "scrolled": true
   },
   "outputs": [
    {
     "name": "stdout",
     "output_type": "stream",
     "text": [
      "Данные по первому региону.\n",
      "Средняя прибыль по региону = 484679.22 тыс.руб.\n",
      "95% доверительный интервал от -5476.87 до 984467.70 тыс.руб.\n",
      "Процент риска 2.70%\n"
     ]
    }
   ],
   "source": [
    "average_0, lower_0, upper_0, risk_0 = bootstrap_1000(geo_data_0_predicted['real_product'], \n",
    "                                                     geo_data_0_predicted['predicted_product'])\n",
    "print('Данные по первому региону.')\n",
    "print('Средняя прибыль по региону = {:.2f} тыс.руб.'.format(average_0))\n",
    "print('95% доверительный интервал от {:.2f} до {:.2f} тыс.руб.'.format(lower_0, upper_0))\n",
    "print('Вероятьносьб убытка {:.2%}'.format(risk_0))"
   ]
  },
  {
   "cell_type": "code",
   "execution_count": 45,
   "metadata": {},
   "outputs": [
    {
     "name": "stdout",
     "output_type": "stream",
     "text": [
      "Данные по второму региону.\n",
      "Средняя прибыль по региону = 449277.95 тыс.руб.\n",
      "95% доверительный интервал от 30327.99 до 847277.70 тыс.руб.\n",
      "Процент риска 1.40%\n"
     ]
    }
   ],
   "source": [
    "average_1, lower_1, upper_1, risk_1 = bootstrap_1000(geo_data_1_predicted['real_product'], \n",
    "                                                     geo_data_1_predicted['predicted_product'])\n",
    "print('Данные по второму региону.')\n",
    "print('Средняя прибыль по региону = {:.2f} тыс.руб.'.format(average_1))\n",
    "print('95% доверительный интервал от {:.2f} до {:.2f} тыс.руб.'.format(lower_1, upper_1))\n",
    "print('Вероятность убытка {:.2%}'.format(risk_1))"
   ]
  },
  {
   "cell_type": "code",
   "execution_count": 46,
   "metadata": {
    "scrolled": true
   },
   "outputs": [
    {
     "name": "stdout",
     "output_type": "stream",
     "text": [
      "Данные по третьему региону.\n",
      "Средняя прибыль по региону = 364219.60 тыс.руб.\n",
      "95% доверительный интервал от -122525.09 до 857751.53 тыс.руб.\n",
      "Процент риска 7.20%\n"
     ]
    }
   ],
   "source": [
    "average_2, lower_2, upper_2, risk_2 = bootstrap_1000(geo_data_2_predicted['real_product'], \n",
    "                                                     geo_data_2_predicted['predicted_product'])\n",
    "print('Данные по третьему региону.')\n",
    "print('Средняя прибыль по региону = {:.2f} тыс.руб.'.format(average_2))\n",
    "print('95% доверительный интервал от {:.2f} до {:.2f} тыс.руб.'.format(lower_2, upper_2))\n",
    "print('Вероятность убытка {:.2%}'.format(risk_2))"
   ]
  },
  {
   "cell_type": "markdown",
   "metadata": {},
   "source": [
    "### ВЫВОДЫ ПО 4 ПУНКТУ"
   ]
  },
  {
   "cell_type": "markdown",
   "metadata": {},
   "source": [
    "- Рассчитали прибыль, интервал и вероятность убытка\n",
    "- Смотря на результаты я бы выбрал самым потенциальным регионом - 2. Так как у него самая маленькая вероятность убытка. Первый регион тоже можно попробовать, но так как доверительный интервал у квторого региона будет получше, то брал бы только его. "
   ]
  },
  {
   "cell_type": "markdown",
   "metadata": {},
   "source": [
    "## Общий вывод"
   ]
  },
  {
   "cell_type": "markdown",
   "metadata": {},
   "source": [
    "В проекте мы сделали:\n",
    "- Изучили данные, провели их подготовку к моделировнию\n",
    "- Обучили модель для каждого региона\n",
    "- Составили функцию расчёта прибыли в регионе \n",
    "- Посчитали прибыль и вероятность убытка в каждом регионе и обосновали выбор региона для разработки\n",
    "- Итогово выбрали второй регион как наилучший для разработки"
   ]
  }
 ],
 "metadata": {
  "ExecuteTimeLog": [
   {
    "duration": 1488,
    "start_time": "2022-03-29T15:12:22.788Z"
   },
   {
    "duration": 136,
    "start_time": "2022-03-29T15:12:58.431Z"
   },
   {
    "duration": 128,
    "start_time": "2022-03-29T15:13:00.757Z"
   },
   {
    "duration": 134,
    "start_time": "2022-03-29T15:13:01.661Z"
   },
   {
    "duration": 3,
    "start_time": "2022-03-29T15:13:36.633Z"
   },
   {
    "duration": 41,
    "start_time": "2022-03-29T15:14:00.923Z"
   },
   {
    "duration": 37,
    "start_time": "2022-03-29T15:14:01.325Z"
   },
   {
    "duration": 41,
    "start_time": "2022-03-29T15:14:01.703Z"
   },
   {
    "duration": 3,
    "start_time": "2022-03-29T15:14:53.409Z"
   },
   {
    "duration": 38,
    "start_time": "2022-03-29T15:14:53.774Z"
   },
   {
    "duration": 32,
    "start_time": "2022-03-29T15:14:54.148Z"
   },
   {
    "duration": 36,
    "start_time": "2022-03-29T15:14:54.511Z"
   },
   {
    "duration": 18,
    "start_time": "2022-03-29T15:19:35.069Z"
   },
   {
    "duration": 4,
    "start_time": "2022-03-29T15:19:45.296Z"
   },
   {
    "duration": 7,
    "start_time": "2022-03-29T15:20:11.694Z"
   },
   {
    "duration": 7,
    "start_time": "2022-03-29T15:20:12.195Z"
   },
   {
    "duration": 6,
    "start_time": "2022-03-29T15:20:12.651Z"
   },
   {
    "duration": 16,
    "start_time": "2022-03-29T15:20:24.525Z"
   },
   {
    "duration": 17,
    "start_time": "2022-03-29T15:20:34.196Z"
   },
   {
    "duration": 10,
    "start_time": "2022-03-29T15:20:47.669Z"
   },
   {
    "duration": 12,
    "start_time": "2022-03-29T15:20:49.819Z"
   },
   {
    "duration": 4,
    "start_time": "2022-03-29T15:21:50.926Z"
   },
   {
    "duration": 411,
    "start_time": "2022-03-29T15:22:09.148Z"
   },
   {
    "duration": 374,
    "start_time": "2022-03-29T15:22:19.918Z"
   },
   {
    "duration": 465,
    "start_time": "2022-03-29T15:22:37.649Z"
   },
   {
    "duration": 86,
    "start_time": "2022-03-29T15:22:45.779Z"
   },
   {
    "duration": 374,
    "start_time": "2022-03-29T15:22:47.908Z"
   },
   {
    "duration": 203,
    "start_time": "2022-03-29T15:22:59.005Z"
   },
   {
    "duration": 375,
    "start_time": "2022-03-29T15:23:51.947Z"
   },
   {
    "duration": 4,
    "start_time": "2022-03-29T15:35:47.799Z"
   },
   {
    "duration": 21,
    "start_time": "2022-03-29T15:35:53.910Z"
   },
   {
    "duration": 6,
    "start_time": "2022-03-29T15:36:09.729Z"
   },
   {
    "duration": 21,
    "start_time": "2022-03-29T15:36:12.042Z"
   },
   {
    "duration": 6,
    "start_time": "2022-03-29T15:36:35.543Z"
   },
   {
    "duration": 20,
    "start_time": "2022-03-29T15:36:37.014Z"
   },
   {
    "duration": 4,
    "start_time": "2022-03-29T15:39:19.020Z"
   },
   {
    "duration": 20,
    "start_time": "2022-03-29T15:39:21.072Z"
   },
   {
    "duration": 5,
    "start_time": "2022-03-29T15:40:11.130Z"
   },
   {
    "duration": 28,
    "start_time": "2022-03-29T15:40:11.471Z"
   },
   {
    "duration": 4,
    "start_time": "2022-03-29T15:40:25.397Z"
   },
   {
    "duration": 20,
    "start_time": "2022-03-29T15:40:26.210Z"
   },
   {
    "duration": 3,
    "start_time": "2022-03-29T15:41:33.085Z"
   },
   {
    "duration": 19,
    "start_time": "2022-03-29T15:41:33.258Z"
   },
   {
    "duration": 4,
    "start_time": "2022-03-29T15:42:02.421Z"
   },
   {
    "duration": 4,
    "start_time": "2022-03-29T15:42:52.739Z"
   },
   {
    "duration": 171,
    "start_time": "2022-03-29T15:42:52.746Z"
   },
   {
    "duration": 137,
    "start_time": "2022-03-29T15:42:52.919Z"
   },
   {
    "duration": 139,
    "start_time": "2022-03-29T15:42:53.058Z"
   },
   {
    "duration": 3,
    "start_time": "2022-03-29T15:42:53.199Z"
   },
   {
    "duration": 67,
    "start_time": "2022-03-29T15:42:53.204Z"
   },
   {
    "duration": 32,
    "start_time": "2022-03-29T15:42:53.273Z"
   },
   {
    "duration": 51,
    "start_time": "2022-03-29T15:42:53.307Z"
   },
   {
    "duration": 14,
    "start_time": "2022-03-29T15:42:53.360Z"
   },
   {
    "duration": 22,
    "start_time": "2022-03-29T15:42:53.376Z"
   },
   {
    "duration": 21,
    "start_time": "2022-03-29T15:42:53.400Z"
   },
   {
    "duration": 19,
    "start_time": "2022-03-29T15:42:53.423Z"
   },
   {
    "duration": 29,
    "start_time": "2022-03-29T15:42:53.444Z"
   },
   {
    "duration": 35,
    "start_time": "2022-03-29T15:42:53.475Z"
   },
   {
    "duration": 35,
    "start_time": "2022-03-29T15:42:53.512Z"
   },
   {
    "duration": 23,
    "start_time": "2022-03-29T15:42:53.549Z"
   },
   {
    "duration": 22,
    "start_time": "2022-03-29T15:42:53.574Z"
   },
   {
    "duration": 520,
    "start_time": "2022-03-29T15:42:53.597Z"
   },
   {
    "duration": 380,
    "start_time": "2022-03-29T15:42:54.119Z"
   },
   {
    "duration": 214,
    "start_time": "2022-03-29T15:42:54.501Z"
   },
   {
    "duration": 385,
    "start_time": "2022-03-29T15:42:54.717Z"
   },
   {
    "duration": 4,
    "start_time": "2022-03-29T15:42:55.103Z"
   },
   {
    "duration": 34,
    "start_time": "2022-03-29T15:42:55.109Z"
   },
   {
    "duration": 7,
    "start_time": "2022-03-29T15:42:55.145Z"
   },
   {
    "duration": 45,
    "start_time": "2022-03-29T15:43:40.092Z"
   },
   {
    "duration": 46,
    "start_time": "2022-03-29T15:44:05.176Z"
   },
   {
    "duration": 221,
    "start_time": "2022-03-29T15:44:13.838Z"
   },
   {
    "duration": 246,
    "start_time": "2022-03-29T15:44:23.195Z"
   },
   {
    "duration": 5,
    "start_time": "2022-03-29T15:44:57.183Z"
   },
   {
    "duration": 163,
    "start_time": "2022-03-29T15:44:57.191Z"
   },
   {
    "duration": 129,
    "start_time": "2022-03-29T15:44:57.356Z"
   },
   {
    "duration": 131,
    "start_time": "2022-03-29T15:44:57.487Z"
   },
   {
    "duration": 3,
    "start_time": "2022-03-29T15:44:57.620Z"
   },
   {
    "duration": 63,
    "start_time": "2022-03-29T15:44:57.624Z"
   },
   {
    "duration": 35,
    "start_time": "2022-03-29T15:44:57.689Z"
   },
   {
    "duration": 37,
    "start_time": "2022-03-29T15:44:57.726Z"
   },
   {
    "duration": 18,
    "start_time": "2022-03-29T15:44:57.765Z"
   },
   {
    "duration": 14,
    "start_time": "2022-03-29T15:44:57.785Z"
   },
   {
    "duration": 27,
    "start_time": "2022-03-29T15:44:57.801Z"
   },
   {
    "duration": 16,
    "start_time": "2022-03-29T15:44:57.830Z"
   },
   {
    "duration": 25,
    "start_time": "2022-03-29T15:44:57.848Z"
   },
   {
    "duration": 32,
    "start_time": "2022-03-29T15:44:57.877Z"
   },
   {
    "duration": 36,
    "start_time": "2022-03-29T15:44:57.911Z"
   },
   {
    "duration": 27,
    "start_time": "2022-03-29T15:44:57.949Z"
   },
   {
    "duration": 32,
    "start_time": "2022-03-29T15:44:57.977Z"
   },
   {
    "duration": 528,
    "start_time": "2022-03-29T15:44:58.011Z"
   },
   {
    "duration": 386,
    "start_time": "2022-03-29T15:44:58.541Z"
   },
   {
    "duration": 228,
    "start_time": "2022-03-29T15:44:58.928Z"
   },
   {
    "duration": 383,
    "start_time": "2022-03-29T15:44:59.157Z"
   },
   {
    "duration": 4,
    "start_time": "2022-03-29T15:44:59.542Z"
   },
   {
    "duration": 41,
    "start_time": "2022-03-29T15:44:59.548Z"
   },
   {
    "duration": 18,
    "start_time": "2022-03-29T15:44:59.591Z"
   },
   {
    "duration": 41,
    "start_time": "2022-03-29T15:44:59.610Z"
   },
   {
    "duration": 293,
    "start_time": "2022-03-29T15:44:59.653Z"
   },
   {
    "duration": 312,
    "start_time": "2022-03-29T15:44:59.948Z"
   },
   {
    "duration": 474,
    "start_time": "2022-03-29T15:45:00.265Z"
   },
   {
    "duration": 4,
    "start_time": "2022-03-29T15:45:40.118Z"
   },
   {
    "duration": 154,
    "start_time": "2022-03-29T15:45:40.124Z"
   },
   {
    "duration": 129,
    "start_time": "2022-03-29T15:45:40.279Z"
   },
   {
    "duration": 130,
    "start_time": "2022-03-29T15:45:40.409Z"
   },
   {
    "duration": 3,
    "start_time": "2022-03-29T15:45:40.542Z"
   },
   {
    "duration": 74,
    "start_time": "2022-03-29T15:45:40.546Z"
   },
   {
    "duration": 34,
    "start_time": "2022-03-29T15:45:40.622Z"
   },
   {
    "duration": 37,
    "start_time": "2022-03-29T15:45:40.657Z"
   },
   {
    "duration": 14,
    "start_time": "2022-03-29T15:45:40.695Z"
   },
   {
    "duration": 31,
    "start_time": "2022-03-29T15:45:40.711Z"
   },
   {
    "duration": 28,
    "start_time": "2022-03-29T15:45:40.744Z"
   },
   {
    "duration": 32,
    "start_time": "2022-03-29T15:45:40.774Z"
   },
   {
    "duration": 20,
    "start_time": "2022-03-29T15:45:40.808Z"
   },
   {
    "duration": 38,
    "start_time": "2022-03-29T15:45:40.831Z"
   },
   {
    "duration": 13,
    "start_time": "2022-03-29T15:45:40.871Z"
   },
   {
    "duration": 23,
    "start_time": "2022-03-29T15:45:40.886Z"
   },
   {
    "duration": 17,
    "start_time": "2022-03-29T15:45:40.911Z"
   },
   {
    "duration": 415,
    "start_time": "2022-03-29T15:45:40.929Z"
   },
   {
    "duration": 536,
    "start_time": "2022-03-29T15:45:41.347Z"
   },
   {
    "duration": 224,
    "start_time": "2022-03-29T15:45:41.884Z"
   },
   {
    "duration": 427,
    "start_time": "2022-03-29T15:45:42.110Z"
   },
   {
    "duration": 4,
    "start_time": "2022-03-29T15:45:42.539Z"
   },
   {
    "duration": 28,
    "start_time": "2022-03-29T15:45:42.545Z"
   },
   {
    "duration": 4,
    "start_time": "2022-03-29T15:45:42.575Z"
   },
   {
    "duration": 65,
    "start_time": "2022-03-29T15:45:42.581Z"
   },
   {
    "duration": 130,
    "start_time": "2022-03-29T15:45:42.648Z"
   },
   {
    "duration": 310,
    "start_time": "2022-03-29T15:45:42.843Z"
   },
   {
    "duration": 401,
    "start_time": "2022-03-29T15:45:43.156Z"
   },
   {
    "duration": 16,
    "start_time": "2022-03-29T15:47:32.006Z"
   },
   {
    "duration": 15,
    "start_time": "2022-03-29T15:47:39.810Z"
   },
   {
    "duration": 5,
    "start_time": "2022-03-29T15:50:48.598Z"
   },
   {
    "duration": 181,
    "start_time": "2022-03-29T15:50:48.606Z"
   },
   {
    "duration": 133,
    "start_time": "2022-03-29T15:50:48.789Z"
   },
   {
    "duration": 146,
    "start_time": "2022-03-29T15:50:48.924Z"
   },
   {
    "duration": 5,
    "start_time": "2022-03-29T15:50:49.073Z"
   },
   {
    "duration": 61,
    "start_time": "2022-03-29T15:50:49.080Z"
   },
   {
    "duration": 34,
    "start_time": "2022-03-29T15:50:49.143Z"
   },
   {
    "duration": 72,
    "start_time": "2022-03-29T15:50:49.180Z"
   },
   {
    "duration": 16,
    "start_time": "2022-03-29T15:50:49.255Z"
   },
   {
    "duration": 9,
    "start_time": "2022-03-29T15:50:49.273Z"
   },
   {
    "duration": 9,
    "start_time": "2022-03-29T15:50:49.284Z"
   },
   {
    "duration": 10,
    "start_time": "2022-03-29T15:50:49.295Z"
   },
   {
    "duration": 35,
    "start_time": "2022-03-29T15:50:49.307Z"
   },
   {
    "duration": 13,
    "start_time": "2022-03-29T15:50:49.346Z"
   },
   {
    "duration": 26,
    "start_time": "2022-03-29T15:50:49.361Z"
   },
   {
    "duration": 13,
    "start_time": "2022-03-29T15:50:49.389Z"
   },
   {
    "duration": 10,
    "start_time": "2022-03-29T15:50:49.404Z"
   },
   {
    "duration": 402,
    "start_time": "2022-03-29T15:50:49.439Z"
   },
   {
    "duration": 529,
    "start_time": "2022-03-29T15:50:49.842Z"
   },
   {
    "duration": 235,
    "start_time": "2022-03-29T15:50:50.373Z"
   },
   {
    "duration": 401,
    "start_time": "2022-03-29T15:50:50.610Z"
   },
   {
    "duration": 4,
    "start_time": "2022-03-29T15:50:51.013Z"
   },
   {
    "duration": 37,
    "start_time": "2022-03-29T15:50:51.019Z"
   },
   {
    "duration": 6,
    "start_time": "2022-03-29T15:50:51.058Z"
   },
   {
    "duration": 74,
    "start_time": "2022-03-29T15:50:51.066Z"
   },
   {
    "duration": 135,
    "start_time": "2022-03-29T15:50:51.142Z"
   },
   {
    "duration": 459,
    "start_time": "2022-03-29T15:50:51.280Z"
   },
   {
    "duration": 316,
    "start_time": "2022-03-29T15:50:51.742Z"
   },
   {
    "duration": 82,
    "start_time": "2022-03-29T15:50:52.060Z"
   },
   {
    "duration": 194,
    "start_time": "2022-03-29T15:50:52.145Z"
   },
   {
    "duration": 4,
    "start_time": "2022-03-29T15:51:55.307Z"
   },
   {
    "duration": 137,
    "start_time": "2022-03-29T15:51:55.314Z"
   },
   {
    "duration": 131,
    "start_time": "2022-03-29T15:51:55.453Z"
   },
   {
    "duration": 134,
    "start_time": "2022-03-29T15:51:55.586Z"
   },
   {
    "duration": 3,
    "start_time": "2022-03-29T15:51:55.722Z"
   },
   {
    "duration": 48,
    "start_time": "2022-03-29T15:51:55.727Z"
   },
   {
    "duration": 34,
    "start_time": "2022-03-29T15:51:55.777Z"
   },
   {
    "duration": 61,
    "start_time": "2022-03-29T15:51:55.812Z"
   },
   {
    "duration": 14,
    "start_time": "2022-03-29T15:51:55.875Z"
   },
   {
    "duration": 22,
    "start_time": "2022-03-29T15:51:55.891Z"
   },
   {
    "duration": 13,
    "start_time": "2022-03-29T15:51:55.915Z"
   },
   {
    "duration": 13,
    "start_time": "2022-03-29T15:51:55.930Z"
   },
   {
    "duration": 8,
    "start_time": "2022-03-29T15:51:55.944Z"
   },
   {
    "duration": 24,
    "start_time": "2022-03-29T15:51:55.954Z"
   },
   {
    "duration": 14,
    "start_time": "2022-03-29T15:51:55.980Z"
   },
   {
    "duration": 9,
    "start_time": "2022-03-29T15:51:55.996Z"
   },
   {
    "duration": 8,
    "start_time": "2022-03-29T15:51:56.006Z"
   },
   {
    "duration": 412,
    "start_time": "2022-03-29T15:51:56.016Z"
   },
   {
    "duration": 504,
    "start_time": "2022-03-29T15:51:56.429Z"
   },
   {
    "duration": 231,
    "start_time": "2022-03-29T15:51:56.938Z"
   },
   {
    "duration": 430,
    "start_time": "2022-03-29T15:51:57.171Z"
   },
   {
    "duration": 4,
    "start_time": "2022-03-29T15:51:57.603Z"
   },
   {
    "duration": 30,
    "start_time": "2022-03-29T15:51:57.609Z"
   },
   {
    "duration": 4,
    "start_time": "2022-03-29T15:51:57.641Z"
   },
   {
    "duration": 94,
    "start_time": "2022-03-29T15:51:57.647Z"
   },
   {
    "duration": 139,
    "start_time": "2022-03-29T15:51:57.745Z"
   },
   {
    "duration": 324,
    "start_time": "2022-03-29T15:51:57.938Z"
   },
   {
    "duration": 470,
    "start_time": "2022-03-29T15:51:58.269Z"
   },
   {
    "duration": 103,
    "start_time": "2022-03-29T15:51:58.741Z"
   },
   {
    "duration": 207,
    "start_time": "2022-03-29T15:51:58.847Z"
   },
   {
    "duration": 4,
    "start_time": "2022-03-29T15:52:26.141Z"
   },
   {
    "duration": 146,
    "start_time": "2022-03-29T15:52:26.148Z"
   },
   {
    "duration": 131,
    "start_time": "2022-03-29T15:52:26.296Z"
   },
   {
    "duration": 136,
    "start_time": "2022-03-29T15:52:26.428Z"
   },
   {
    "duration": 3,
    "start_time": "2022-03-29T15:52:26.567Z"
   },
   {
    "duration": 44,
    "start_time": "2022-03-29T15:52:26.572Z"
   },
   {
    "duration": 35,
    "start_time": "2022-03-29T15:52:26.639Z"
   },
   {
    "duration": 36,
    "start_time": "2022-03-29T15:52:26.675Z"
   },
   {
    "duration": 35,
    "start_time": "2022-03-29T15:52:26.713Z"
   },
   {
    "duration": 15,
    "start_time": "2022-03-29T15:52:26.750Z"
   },
   {
    "duration": 14,
    "start_time": "2022-03-29T15:52:26.768Z"
   },
   {
    "duration": 14,
    "start_time": "2022-03-29T15:52:26.783Z"
   },
   {
    "duration": 14,
    "start_time": "2022-03-29T15:52:26.799Z"
   },
   {
    "duration": 31,
    "start_time": "2022-03-29T15:52:26.816Z"
   },
   {
    "duration": 34,
    "start_time": "2022-03-29T15:52:26.849Z"
   },
   {
    "duration": 29,
    "start_time": "2022-03-29T15:52:26.885Z"
   },
   {
    "duration": 23,
    "start_time": "2022-03-29T15:52:26.916Z"
   },
   {
    "duration": 426,
    "start_time": "2022-03-29T15:52:26.940Z"
   },
   {
    "duration": 382,
    "start_time": "2022-03-29T15:52:27.368Z"
   },
   {
    "duration": 355,
    "start_time": "2022-03-29T15:52:27.751Z"
   },
   {
    "duration": 389,
    "start_time": "2022-03-29T15:52:28.107Z"
   },
   {
    "duration": 4,
    "start_time": "2022-03-29T15:52:28.498Z"
   },
   {
    "duration": 48,
    "start_time": "2022-03-29T15:52:28.504Z"
   },
   {
    "duration": 14,
    "start_time": "2022-03-29T15:52:28.554Z"
   },
   {
    "duration": 37,
    "start_time": "2022-03-29T15:52:28.570Z"
   },
   {
    "duration": 126,
    "start_time": "2022-03-29T15:52:28.650Z"
   },
   {
    "duration": 380,
    "start_time": "2022-03-29T15:52:28.779Z"
   },
   {
    "duration": 478,
    "start_time": "2022-03-29T15:52:29.162Z"
   },
   {
    "duration": 105,
    "start_time": "2022-03-29T15:52:29.642Z"
   },
   {
    "duration": 190,
    "start_time": "2022-03-29T15:52:29.752Z"
   },
   {
    "duration": 5,
    "start_time": "2022-03-29T15:53:31.086Z"
   },
   {
    "duration": 31,
    "start_time": "2022-03-29T15:53:41.965Z"
   },
   {
    "duration": 30,
    "start_time": "2022-03-29T15:53:49.892Z"
   },
   {
    "duration": 32,
    "start_time": "2022-03-29T15:54:00.429Z"
   },
   {
    "duration": 4,
    "start_time": "2022-03-29T15:54:40.422Z"
   },
   {
    "duration": 37,
    "start_time": "2022-03-29T15:54:40.823Z"
   },
   {
    "duration": 152,
    "start_time": "2022-03-29T15:54:41.286Z"
   },
   {
    "duration": 63,
    "start_time": "2022-03-29T15:54:41.679Z"
   },
   {
    "duration": 5,
    "start_time": "2022-03-29T15:54:58.599Z"
   },
   {
    "duration": 88,
    "start_time": "2022-03-29T15:54:58.951Z"
   },
   {
    "duration": 59,
    "start_time": "2022-03-29T15:54:59.278Z"
   },
   {
    "duration": 30,
    "start_time": "2022-03-29T15:54:59.654Z"
   },
   {
    "duration": 8,
    "start_time": "2022-03-29T15:55:40.376Z"
   },
   {
    "duration": 3,
    "start_time": "2022-03-29T16:32:30.996Z"
   },
   {
    "duration": 5,
    "start_time": "2022-03-29T16:33:37.625Z"
   },
   {
    "duration": 41,
    "start_time": "2022-03-30T17:05:03.881Z"
   },
   {
    "duration": 1545,
    "start_time": "2022-03-30T17:05:06.802Z"
   },
   {
    "duration": 159,
    "start_time": "2022-03-30T17:05:08.349Z"
   },
   {
    "duration": 123,
    "start_time": "2022-03-30T17:05:08.510Z"
   },
   {
    "duration": 123,
    "start_time": "2022-03-30T17:05:08.635Z"
   },
   {
    "duration": 3,
    "start_time": "2022-03-30T17:05:08.760Z"
   },
   {
    "duration": 38,
    "start_time": "2022-03-30T17:05:08.765Z"
   },
   {
    "duration": 27,
    "start_time": "2022-03-30T17:05:08.805Z"
   },
   {
    "duration": 51,
    "start_time": "2022-03-30T17:05:08.833Z"
   },
   {
    "duration": 14,
    "start_time": "2022-03-30T17:05:08.886Z"
   },
   {
    "duration": 7,
    "start_time": "2022-03-30T17:05:08.902Z"
   },
   {
    "duration": 11,
    "start_time": "2022-03-30T17:05:08.910Z"
   },
   {
    "duration": 4,
    "start_time": "2022-03-30T17:05:08.923Z"
   },
   {
    "duration": 5,
    "start_time": "2022-03-30T17:05:08.928Z"
   },
   {
    "duration": 10,
    "start_time": "2022-03-30T17:05:08.936Z"
   },
   {
    "duration": 35,
    "start_time": "2022-03-30T17:05:08.947Z"
   },
   {
    "duration": 8,
    "start_time": "2022-03-30T17:05:08.983Z"
   },
   {
    "duration": 5,
    "start_time": "2022-03-30T17:05:08.992Z"
   },
   {
    "duration": 362,
    "start_time": "2022-03-30T17:05:08.998Z"
   },
   {
    "duration": 340,
    "start_time": "2022-03-30T17:05:09.361Z"
   },
   {
    "duration": 280,
    "start_time": "2022-03-30T17:05:09.702Z"
   },
   {
    "duration": 329,
    "start_time": "2022-03-30T17:05:09.984Z"
   },
   {
    "duration": 4,
    "start_time": "2022-03-30T17:05:10.315Z"
   },
   {
    "duration": 19,
    "start_time": "2022-03-30T17:05:10.321Z"
   },
   {
    "duration": 3,
    "start_time": "2022-03-30T17:05:10.342Z"
   },
   {
    "duration": 37,
    "start_time": "2022-03-30T17:05:10.347Z"
   },
   {
    "duration": 216,
    "start_time": "2022-03-30T17:05:10.386Z"
   },
   {
    "duration": 393,
    "start_time": "2022-03-30T17:05:10.605Z"
   },
   {
    "duration": 396,
    "start_time": "2022-03-30T17:05:11.001Z"
   },
   {
    "duration": 184,
    "start_time": "2022-03-30T17:05:11.400Z"
   },
   {
    "duration": 196,
    "start_time": "2022-03-30T17:05:11.586Z"
   },
   {
    "duration": 97,
    "start_time": "2022-03-30T17:05:11.784Z"
   },
   {
    "duration": 100,
    "start_time": "2022-03-30T17:05:11.883Z"
   },
   {
    "duration": 113,
    "start_time": "2022-03-30T17:05:11.986Z"
   },
   {
    "duration": 116,
    "start_time": "2022-03-30T17:05:12.182Z"
   },
   {
    "duration": 90,
    "start_time": "2022-03-30T17:05:12.300Z"
   },
   {
    "duration": 6,
    "start_time": "2022-03-30T17:05:12.482Z"
   },
   {
    "duration": 6,
    "start_time": "2022-03-30T17:05:12.490Z"
   },
   {
    "duration": 6,
    "start_time": "2022-03-30T17:05:12.498Z"
   },
   {
    "duration": 3,
    "start_time": "2022-03-30T17:07:59.865Z"
   },
   {
    "duration": 304,
    "start_time": "2022-03-30T17:08:07.331Z"
   },
   {
    "duration": 149,
    "start_time": "2022-03-30T17:15:56.465Z"
   },
   {
    "duration": 146,
    "start_time": "2022-03-30T17:16:05.407Z"
   },
   {
    "duration": 387,
    "start_time": "2022-03-30T17:16:37.096Z"
   },
   {
    "duration": 5,
    "start_time": "2022-03-30T17:24:32.740Z"
   },
   {
    "duration": 758,
    "start_time": "2022-03-30T17:24:40.180Z"
   },
   {
    "duration": 716,
    "start_time": "2022-03-30T17:24:53.097Z"
   },
   {
    "duration": 720,
    "start_time": "2022-03-30T17:24:53.815Z"
   },
   {
    "duration": 737,
    "start_time": "2022-03-30T17:25:07.596Z"
   },
   {
    "duration": 736,
    "start_time": "2022-03-30T17:25:08.335Z"
   },
   {
    "duration": 4,
    "start_time": "2022-03-30T17:25:28.509Z"
   },
   {
    "duration": 723,
    "start_time": "2022-03-30T17:25:29.004Z"
   },
   {
    "duration": 751,
    "start_time": "2022-03-30T17:25:29.729Z"
   },
   {
    "duration": 770,
    "start_time": "2022-03-30T17:25:30.482Z"
   },
   {
    "duration": 4,
    "start_time": "2022-03-30T17:25:49.797Z"
   },
   {
    "duration": 125,
    "start_time": "2022-03-30T17:25:49.802Z"
   },
   {
    "duration": 125,
    "start_time": "2022-03-30T17:25:49.929Z"
   },
   {
    "duration": 126,
    "start_time": "2022-03-30T17:25:50.055Z"
   },
   {
    "duration": 3,
    "start_time": "2022-03-30T17:25:50.183Z"
   },
   {
    "duration": 38,
    "start_time": "2022-03-30T17:25:50.187Z"
   },
   {
    "duration": 26,
    "start_time": "2022-03-30T17:25:50.227Z"
   },
   {
    "duration": 46,
    "start_time": "2022-03-30T17:25:50.255Z"
   },
   {
    "duration": 10,
    "start_time": "2022-03-30T17:25:50.303Z"
   },
   {
    "duration": 5,
    "start_time": "2022-03-30T17:25:50.315Z"
   },
   {
    "duration": 6,
    "start_time": "2022-03-30T17:25:50.322Z"
   },
   {
    "duration": 5,
    "start_time": "2022-03-30T17:25:50.329Z"
   },
   {
    "duration": 4,
    "start_time": "2022-03-30T17:25:50.335Z"
   },
   {
    "duration": 7,
    "start_time": "2022-03-30T17:25:50.342Z"
   },
   {
    "duration": 36,
    "start_time": "2022-03-30T17:25:50.351Z"
   },
   {
    "duration": 8,
    "start_time": "2022-03-30T17:25:50.389Z"
   },
   {
    "duration": 9,
    "start_time": "2022-03-30T17:25:50.398Z"
   },
   {
    "duration": 333,
    "start_time": "2022-03-30T17:25:50.409Z"
   },
   {
    "duration": 328,
    "start_time": "2022-03-30T17:25:50.744Z"
   },
   {
    "duration": 189,
    "start_time": "2022-03-30T17:25:51.074Z"
   },
   {
    "duration": 329,
    "start_time": "2022-03-30T17:25:51.265Z"
   },
   {
    "duration": 3,
    "start_time": "2022-03-30T17:25:51.596Z"
   },
   {
    "duration": 23,
    "start_time": "2022-03-30T17:25:51.601Z"
   },
   {
    "duration": 4,
    "start_time": "2022-03-30T17:25:51.626Z"
   },
   {
    "duration": 57,
    "start_time": "2022-03-30T17:25:51.632Z"
   },
   {
    "duration": 137,
    "start_time": "2022-03-30T17:25:51.691Z"
   },
   {
    "duration": 500,
    "start_time": "2022-03-30T17:25:51.881Z"
   },
   {
    "duration": 315,
    "start_time": "2022-03-30T17:25:52.383Z"
   },
   {
    "duration": 90,
    "start_time": "2022-03-30T17:25:52.700Z"
   },
   {
    "duration": 190,
    "start_time": "2022-03-30T17:25:52.792Z"
   },
   {
    "duration": 97,
    "start_time": "2022-03-30T17:25:52.984Z"
   },
   {
    "duration": 102,
    "start_time": "2022-03-30T17:25:53.083Z"
   },
   {
    "duration": 117,
    "start_time": "2022-03-30T17:25:53.187Z"
   },
   {
    "duration": 119,
    "start_time": "2022-03-30T17:25:53.382Z"
   },
   {
    "duration": 99,
    "start_time": "2022-03-30T17:25:53.582Z"
   },
   {
    "duration": 2,
    "start_time": "2022-03-30T17:25:53.683Z"
   },
   {
    "duration": 6,
    "start_time": "2022-03-30T17:25:53.687Z"
   },
   {
    "duration": 7,
    "start_time": "2022-03-30T17:25:53.694Z"
   },
   {
    "duration": 3,
    "start_time": "2022-03-30T17:25:53.703Z"
   },
   {
    "duration": 340,
    "start_time": "2022-03-30T17:25:53.707Z"
   },
   {
    "duration": 159,
    "start_time": "2022-03-30T17:25:54.050Z"
   },
   {
    "duration": 328,
    "start_time": "2022-03-30T17:25:54.210Z"
   },
   {
    "duration": 5,
    "start_time": "2022-03-30T17:25:54.540Z"
   },
   {
    "duration": 761,
    "start_time": "2022-03-30T17:25:54.546Z"
   },
   {
    "duration": 728,
    "start_time": "2022-03-30T17:25:55.308Z"
   },
   {
    "duration": 724,
    "start_time": "2022-03-30T17:25:56.038Z"
   },
   {
    "duration": 5,
    "start_time": "2022-03-30T17:27:50.153Z"
   },
   {
    "duration": 753,
    "start_time": "2022-03-30T17:27:50.532Z"
   },
   {
    "duration": 5,
    "start_time": "2022-03-30T17:27:56.083Z"
   },
   {
    "duration": 718,
    "start_time": "2022-03-30T17:27:56.379Z"
   },
   {
    "duration": 718,
    "start_time": "2022-03-30T17:27:57.116Z"
   },
   {
    "duration": 729,
    "start_time": "2022-03-30T17:27:57.836Z"
   },
   {
    "duration": 4,
    "start_time": "2022-03-30T17:28:15.800Z"
   },
   {
    "duration": 123,
    "start_time": "2022-03-30T17:28:15.805Z"
   },
   {
    "duration": 127,
    "start_time": "2022-03-30T17:28:15.929Z"
   },
   {
    "duration": 137,
    "start_time": "2022-03-30T17:28:16.058Z"
   },
   {
    "duration": 3,
    "start_time": "2022-03-30T17:28:16.198Z"
   },
   {
    "duration": 43,
    "start_time": "2022-03-30T17:28:16.202Z"
   },
   {
    "duration": 43,
    "start_time": "2022-03-30T17:28:16.246Z"
   },
   {
    "duration": 35,
    "start_time": "2022-03-30T17:28:16.290Z"
   },
   {
    "duration": 12,
    "start_time": "2022-03-30T17:28:16.326Z"
   },
   {
    "duration": 7,
    "start_time": "2022-03-30T17:28:16.340Z"
   },
   {
    "duration": 32,
    "start_time": "2022-03-30T17:28:16.349Z"
   },
   {
    "duration": 5,
    "start_time": "2022-03-30T17:28:16.383Z"
   },
   {
    "duration": 7,
    "start_time": "2022-03-30T17:28:16.389Z"
   },
   {
    "duration": 8,
    "start_time": "2022-03-30T17:28:16.400Z"
   },
   {
    "duration": 10,
    "start_time": "2022-03-30T17:28:16.410Z"
   },
   {
    "duration": 7,
    "start_time": "2022-03-30T17:28:16.422Z"
   },
   {
    "duration": 7,
    "start_time": "2022-03-30T17:28:16.431Z"
   },
   {
    "duration": 375,
    "start_time": "2022-03-30T17:28:16.439Z"
   },
   {
    "duration": 420,
    "start_time": "2022-03-30T17:28:16.816Z"
   },
   {
    "duration": 190,
    "start_time": "2022-03-30T17:28:17.237Z"
   },
   {
    "duration": 342,
    "start_time": "2022-03-30T17:28:17.428Z"
   },
   {
    "duration": 3,
    "start_time": "2022-03-30T17:28:17.771Z"
   },
   {
    "duration": 21,
    "start_time": "2022-03-30T17:28:17.776Z"
   },
   {
    "duration": 4,
    "start_time": "2022-03-30T17:28:17.798Z"
   },
   {
    "duration": 79,
    "start_time": "2022-03-30T17:28:17.804Z"
   },
   {
    "duration": 125,
    "start_time": "2022-03-30T17:28:17.885Z"
   },
   {
    "duration": 312,
    "start_time": "2022-03-30T17:28:18.081Z"
   },
   {
    "duration": 396,
    "start_time": "2022-03-30T17:28:18.396Z"
   },
   {
    "duration": 188,
    "start_time": "2022-03-30T17:28:18.794Z"
   },
   {
    "duration": 104,
    "start_time": "2022-03-30T17:28:18.985Z"
   },
   {
    "duration": 10,
    "start_time": "2022-03-30T17:28:19.180Z"
   },
   {
    "duration": 102,
    "start_time": "2022-03-30T17:28:19.281Z"
   },
   {
    "duration": 117,
    "start_time": "2022-03-30T17:28:19.385Z"
   },
   {
    "duration": 185,
    "start_time": "2022-03-30T17:28:19.504Z"
   },
   {
    "duration": 99,
    "start_time": "2022-03-30T17:28:19.691Z"
   },
   {
    "duration": 96,
    "start_time": "2022-03-30T17:28:19.792Z"
   },
   {
    "duration": 5,
    "start_time": "2022-03-30T17:28:19.890Z"
   },
   {
    "duration": 7,
    "start_time": "2022-03-30T17:28:19.897Z"
   },
   {
    "duration": 3,
    "start_time": "2022-03-30T17:28:19.906Z"
   },
   {
    "duration": 341,
    "start_time": "2022-03-30T17:28:19.911Z"
   },
   {
    "duration": 158,
    "start_time": "2022-03-30T17:28:20.256Z"
   },
   {
    "duration": 475,
    "start_time": "2022-03-30T17:28:20.416Z"
   },
   {
    "duration": 5,
    "start_time": "2022-03-30T17:28:20.892Z"
   },
   {
    "duration": 770,
    "start_time": "2022-03-30T17:28:20.898Z"
   },
   {
    "duration": 742,
    "start_time": "2022-03-30T17:28:21.670Z"
   },
   {
    "duration": 849,
    "start_time": "2022-03-30T17:28:22.413Z"
   },
   {
    "duration": 4,
    "start_time": "2022-03-30T17:30:34.497Z"
   },
   {
    "duration": 120,
    "start_time": "2022-03-30T17:30:34.503Z"
   },
   {
    "duration": 121,
    "start_time": "2022-03-30T17:30:34.625Z"
   },
   {
    "duration": 126,
    "start_time": "2022-03-30T17:30:34.748Z"
   },
   {
    "duration": 3,
    "start_time": "2022-03-30T17:30:34.877Z"
   },
   {
    "duration": 35,
    "start_time": "2022-03-30T17:30:34.882Z"
   },
   {
    "duration": 28,
    "start_time": "2022-03-30T17:30:34.919Z"
   },
   {
    "duration": 52,
    "start_time": "2022-03-30T17:30:34.948Z"
   },
   {
    "duration": 12,
    "start_time": "2022-03-30T17:30:35.001Z"
   },
   {
    "duration": 6,
    "start_time": "2022-03-30T17:30:35.015Z"
   },
   {
    "duration": 10,
    "start_time": "2022-03-30T17:30:35.022Z"
   },
   {
    "duration": 5,
    "start_time": "2022-03-30T17:30:35.033Z"
   },
   {
    "duration": 5,
    "start_time": "2022-03-30T17:30:35.040Z"
   },
   {
    "duration": 10,
    "start_time": "2022-03-30T17:30:35.048Z"
   },
   {
    "duration": 28,
    "start_time": "2022-03-30T17:30:35.060Z"
   },
   {
    "duration": 7,
    "start_time": "2022-03-30T17:30:35.089Z"
   },
   {
    "duration": 7,
    "start_time": "2022-03-30T17:30:35.097Z"
   },
   {
    "duration": 353,
    "start_time": "2022-03-30T17:30:35.105Z"
   },
   {
    "duration": 325,
    "start_time": "2022-03-30T17:30:35.459Z"
   },
   {
    "duration": 204,
    "start_time": "2022-03-30T17:30:35.786Z"
   },
   {
    "duration": 408,
    "start_time": "2022-03-30T17:30:35.992Z"
   },
   {
    "duration": 4,
    "start_time": "2022-03-30T17:30:36.402Z"
   },
   {
    "duration": 17,
    "start_time": "2022-03-30T17:30:36.407Z"
   },
   {
    "duration": 4,
    "start_time": "2022-03-30T17:30:36.425Z"
   },
   {
    "duration": 58,
    "start_time": "2022-03-30T17:30:36.431Z"
   },
   {
    "duration": 122,
    "start_time": "2022-03-30T17:30:36.490Z"
   },
   {
    "duration": 385,
    "start_time": "2022-03-30T17:30:36.613Z"
   },
   {
    "duration": 394,
    "start_time": "2022-03-30T17:30:37.000Z"
   },
   {
    "duration": 180,
    "start_time": "2022-03-30T17:30:37.407Z"
   },
   {
    "duration": 102,
    "start_time": "2022-03-30T17:30:37.591Z"
   },
   {
    "duration": 187,
    "start_time": "2022-03-30T17:30:37.695Z"
   },
   {
    "duration": 98,
    "start_time": "2022-03-30T17:30:37.884Z"
   },
   {
    "duration": 117,
    "start_time": "2022-03-30T17:30:37.984Z"
   },
   {
    "duration": 119,
    "start_time": "2022-03-30T17:30:38.182Z"
   },
   {
    "duration": 100,
    "start_time": "2022-03-30T17:30:38.382Z"
   },
   {
    "duration": 5,
    "start_time": "2022-03-30T17:30:38.484Z"
   },
   {
    "duration": 6,
    "start_time": "2022-03-30T17:30:38.490Z"
   },
   {
    "duration": 7,
    "start_time": "2022-03-30T17:30:38.497Z"
   },
   {
    "duration": 3,
    "start_time": "2022-03-30T17:30:38.505Z"
   },
   {
    "duration": 332,
    "start_time": "2022-03-30T17:30:38.509Z"
   },
   {
    "duration": 156,
    "start_time": "2022-03-30T17:30:38.844Z"
   },
   {
    "duration": 312,
    "start_time": "2022-03-30T17:30:39.002Z"
   },
   {
    "duration": 4,
    "start_time": "2022-03-30T17:30:39.316Z"
   },
   {
    "duration": 740,
    "start_time": "2022-03-30T17:30:39.321Z"
   },
   {
    "duration": 728,
    "start_time": "2022-03-30T17:30:40.062Z"
   },
   {
    "duration": 742,
    "start_time": "2022-03-30T17:30:40.792Z"
   },
   {
    "duration": 4,
    "start_time": "2022-03-30T17:33:32.086Z"
   },
   {
    "duration": 731,
    "start_time": "2022-03-30T17:33:32.444Z"
   },
   {
    "duration": 740,
    "start_time": "2022-03-30T17:33:33.181Z"
   },
   {
    "duration": 738,
    "start_time": "2022-03-30T17:33:33.923Z"
   },
   {
    "duration": 6,
    "start_time": "2022-03-30T17:33:42.541Z"
   },
   {
    "duration": 742,
    "start_time": "2022-03-30T17:33:42.827Z"
   },
   {
    "duration": 743,
    "start_time": "2022-03-30T17:33:43.570Z"
   },
   {
    "duration": 1424,
    "start_time": "2022-03-30T17:37:46.851Z"
   },
   {
    "duration": 125,
    "start_time": "2022-03-30T17:37:48.277Z"
   },
   {
    "duration": 117,
    "start_time": "2022-03-30T17:37:48.403Z"
   },
   {
    "duration": 119,
    "start_time": "2022-03-30T17:37:48.522Z"
   },
   {
    "duration": 3,
    "start_time": "2022-03-30T17:37:48.642Z"
   },
   {
    "duration": 39,
    "start_time": "2022-03-30T17:37:48.646Z"
   },
   {
    "duration": 28,
    "start_time": "2022-03-30T17:37:48.686Z"
   },
   {
    "duration": 32,
    "start_time": "2022-03-30T17:37:48.716Z"
   },
   {
    "duration": 36,
    "start_time": "2022-03-30T17:37:48.750Z"
   },
   {
    "duration": 7,
    "start_time": "2022-03-30T17:37:48.789Z"
   },
   {
    "duration": 9,
    "start_time": "2022-03-30T17:37:48.798Z"
   },
   {
    "duration": 4,
    "start_time": "2022-03-30T17:37:48.809Z"
   },
   {
    "duration": 4,
    "start_time": "2022-03-30T17:37:48.815Z"
   },
   {
    "duration": 11,
    "start_time": "2022-03-30T17:37:48.820Z"
   },
   {
    "duration": 10,
    "start_time": "2022-03-30T17:37:48.833Z"
   },
   {
    "duration": 37,
    "start_time": "2022-03-30T17:37:48.844Z"
   },
   {
    "duration": 3,
    "start_time": "2022-03-30T17:37:48.883Z"
   },
   {
    "duration": 347,
    "start_time": "2022-03-30T17:37:48.888Z"
   },
   {
    "duration": 318,
    "start_time": "2022-03-30T17:37:49.236Z"
   },
   {
    "duration": 256,
    "start_time": "2022-03-30T17:37:49.556Z"
   },
   {
    "duration": 328,
    "start_time": "2022-03-30T17:37:49.814Z"
   },
   {
    "duration": 3,
    "start_time": "2022-03-30T17:37:50.144Z"
   },
   {
    "duration": 18,
    "start_time": "2022-03-30T17:37:50.149Z"
   },
   {
    "duration": 3,
    "start_time": "2022-03-30T17:37:50.181Z"
   },
   {
    "duration": 24,
    "start_time": "2022-03-30T17:37:50.186Z"
   },
   {
    "duration": 125,
    "start_time": "2022-03-30T17:37:50.283Z"
   },
   {
    "duration": 387,
    "start_time": "2022-03-30T17:37:50.410Z"
   },
   {
    "duration": 399,
    "start_time": "2022-03-30T17:37:50.802Z"
   },
   {
    "duration": 181,
    "start_time": "2022-03-30T17:37:51.203Z"
   },
   {
    "duration": 105,
    "start_time": "2022-03-30T17:37:51.385Z"
   },
   {
    "duration": 89,
    "start_time": "2022-03-30T17:37:51.493Z"
   },
   {
    "duration": 118,
    "start_time": "2022-03-30T17:37:51.584Z"
   },
   {
    "duration": 190,
    "start_time": "2022-03-30T17:37:51.703Z"
   },
   {
    "duration": 207,
    "start_time": "2022-03-30T17:37:51.895Z"
   },
   {
    "duration": 100,
    "start_time": "2022-03-30T17:37:52.181Z"
   },
   {
    "duration": 2,
    "start_time": "2022-03-30T17:37:52.283Z"
   },
   {
    "duration": 6,
    "start_time": "2022-03-30T17:37:52.287Z"
   },
   {
    "duration": 10,
    "start_time": "2022-03-30T17:37:52.294Z"
   },
   {
    "duration": 3,
    "start_time": "2022-03-30T17:37:52.305Z"
   },
   {
    "duration": 330,
    "start_time": "2022-03-30T17:37:52.309Z"
   },
   {
    "duration": 158,
    "start_time": "2022-03-30T17:37:52.641Z"
   },
   {
    "duration": 320,
    "start_time": "2022-03-30T17:37:52.801Z"
   },
   {
    "duration": 5,
    "start_time": "2022-03-30T17:37:53.122Z"
   },
   {
    "duration": 839,
    "start_time": "2022-03-30T17:37:53.129Z"
   },
   {
    "duration": 740,
    "start_time": "2022-03-30T17:37:53.970Z"
   },
   {
    "duration": 732,
    "start_time": "2022-03-30T17:37:54.711Z"
   }
  ],
  "kernelspec": {
   "display_name": "Python 3 (ipykernel)",
   "language": "python",
   "name": "python3"
  },
  "language_info": {
   "codemirror_mode": {
    "name": "ipython",
    "version": 3
   },
   "file_extension": ".py",
   "mimetype": "text/x-python",
   "name": "python",
   "nbconvert_exporter": "python",
   "pygments_lexer": "ipython3",
   "version": "3.9.7"
  },
  "toc": {
   "base_numbering": 1,
   "nav_menu": {},
   "number_sections": true,
   "sideBar": true,
   "skip_h1_title": true,
   "title_cell": "Table of Contents",
   "title_sidebar": "Contents",
   "toc_cell": false,
   "toc_position": {},
   "toc_section_display": true,
   "toc_window_display": false
  }
 },
 "nbformat": 4,
 "nbformat_minor": 2
}
